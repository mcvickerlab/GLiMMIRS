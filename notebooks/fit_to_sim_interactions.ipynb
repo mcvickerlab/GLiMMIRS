{
 "cells": [
  {
   "cell_type": "code",
   "execution_count": 1,
   "id": "312ce746",
   "metadata": {},
   "outputs": [
    {
     "name": "stderr",
     "output_type": "stream",
     "text": [
      "\n",
      "Attaching package: ‘dplyr’\n",
      "\n",
      "\n",
      "The following objects are masked from ‘package:stats’:\n",
      "\n",
      "    filter, lag\n",
      "\n",
      "\n",
      "The following objects are masked from ‘package:base’:\n",
      "\n",
      "    intersect, setdiff, setequal, union\n",
      "\n",
      "\n"
     ]
    }
   ],
   "source": [
    "library(rhdf5)\n",
    "library(dplyr)"
   ]
  },
  {
   "cell_type": "code",
   "execution_count": 2,
   "id": "1a93a3fb",
   "metadata": {},
   "outputs": [
    {
     "data": {
      "text/html": [
       "<table class=\"dataframe\">\n",
       "<caption>A data.frame: 20 × 5</caption>\n",
       "<thead>\n",
       "\t<tr><th></th><th scope=col>group</th><th scope=col>name</th><th scope=col>otype</th><th scope=col>dclass</th><th scope=col>dim</th></tr>\n",
       "\t<tr><th></th><th scope=col>&lt;chr&gt;</th><th scope=col>&lt;chr&gt;</th><th scope=col>&lt;chr&gt;</th><th scope=col>&lt;chr&gt;</th><th scope=col>&lt;chr&gt;</th></tr>\n",
       "</thead>\n",
       "<tbody>\n",
       "\t<tr><th scope=row>0</th><td>/                </td><td>coeffs                  </td><td>H5I_DATASET</td><td>COMPOUND</td><td>13000        </td></tr>\n",
       "\t<tr><th scope=row>1</th><td>/                </td><td>counts                  </td><td>H5I_GROUP  </td><td>        </td><td>             </td></tr>\n",
       "\t<tr><th scope=row>2</th><td>/counts          </td><td>counts                  </td><td>H5I_DATASET</td><td>INTEGER </td><td>13000 x 50000</td></tr>\n",
       "\t<tr><th scope=row>3</th><td>/                </td><td>guides                  </td><td>H5I_GROUP  </td><td>        </td><td>             </td></tr>\n",
       "\t<tr><th scope=row>4</th><td>/guides          </td><td>guide_target_map        </td><td>H5I_DATASET</td><td>COMPOUND</td><td>2000         </td></tr>\n",
       "\t<tr><th scope=row>5</th><td>/guides          </td><td>metadata                </td><td>H5I_DATASET</td><td>COMPOUND</td><td>2000         </td></tr>\n",
       "\t<tr><th scope=row>6</th><td>/guides          </td><td>noisy_guide_efficiencies</td><td>H5I_DATASET</td><td>COMPOUND</td><td>2000         </td></tr>\n",
       "\t<tr><th scope=row>7</th><td>/guides          </td><td>one_hot                 </td><td>H5I_DATASET</td><td>INTEGER </td><td>50000 x 2000 </td></tr>\n",
       "\t<tr><th scope=row>8</th><td>/                </td><td>linear_predictor        </td><td>H5I_GROUP  </td><td>        </td><td>             </td></tr>\n",
       "\t<tr><th scope=row>9</th><td>/linear_predictor</td><td>linear_predictor        </td><td>H5I_DATASET</td><td>FLOAT   </td><td>13000 x 50000</td></tr>\n",
       "\t<tr><th scope=row>10</th><td>/                </td><td>mu                      </td><td>H5I_GROUP  </td><td>        </td><td>             </td></tr>\n",
       "\t<tr><th scope=row>11</th><td>/mu              </td><td>mu                      </td><td>H5I_DATASET</td><td>FLOAT   </td><td>13000 x 50000</td></tr>\n",
       "\t<tr><th scope=row>12</th><td>/                </td><td>pairs                   </td><td>H5I_DATASET</td><td>COMPOUND</td><td>1000         </td></tr>\n",
       "\t<tr><th scope=row>13</th><td>/                </td><td>scaling_factors         </td><td>H5I_DATASET</td><td>FLOAT   </td><td>50000        </td></tr>\n",
       "\t<tr><th scope=row>14</th><td>/                </td><td>x                       </td><td>H5I_GROUP  </td><td>        </td><td>             </td></tr>\n",
       "\t<tr><th scope=row>15</th><td>/x               </td><td>cell_cycle_scores       </td><td>H5I_DATASET</td><td>COMPOUND</td><td>50000        </td></tr>\n",
       "\t<tr><th scope=row>16</th><td>/x               </td><td>percent_mito            </td><td>H5I_DATASET</td><td>FLOAT   </td><td>50000        </td></tr>\n",
       "\t<tr><th scope=row>17</th><td>/x               </td><td>x_a                     </td><td>H5I_DATASET</td><td>FLOAT   </td><td>13000 x 50000</td></tr>\n",
       "\t<tr><th scope=row>18</th><td>/x               </td><td>x_ab                    </td><td>H5I_DATASET</td><td>FLOAT   </td><td>13000 x 50000</td></tr>\n",
       "\t<tr><th scope=row>19</th><td>/x               </td><td>x_b                     </td><td>H5I_DATASET</td><td>FLOAT   </td><td>13000 x 50000</td></tr>\n",
       "</tbody>\n",
       "</table>\n"
      ],
      "text/latex": [
       "A data.frame: 20 × 5\n",
       "\\begin{tabular}{r|lllll}\n",
       "  & group & name & otype & dclass & dim\\\\\n",
       "  & <chr> & <chr> & <chr> & <chr> & <chr>\\\\\n",
       "\\hline\n",
       "\t0 & /                 & coeffs                   & H5I\\_DATASET & COMPOUND & 13000        \\\\\n",
       "\t1 & /                 & counts                   & H5I\\_GROUP   &          &              \\\\\n",
       "\t2 & /counts           & counts                   & H5I\\_DATASET & INTEGER  & 13000 x 50000\\\\\n",
       "\t3 & /                 & guides                   & H5I\\_GROUP   &          &              \\\\\n",
       "\t4 & /guides           & guide\\_target\\_map         & H5I\\_DATASET & COMPOUND & 2000         \\\\\n",
       "\t5 & /guides           & metadata                 & H5I\\_DATASET & COMPOUND & 2000         \\\\\n",
       "\t6 & /guides           & noisy\\_guide\\_efficiencies & H5I\\_DATASET & COMPOUND & 2000         \\\\\n",
       "\t7 & /guides           & one\\_hot                  & H5I\\_DATASET & INTEGER  & 50000 x 2000 \\\\\n",
       "\t8 & /                 & linear\\_predictor         & H5I\\_GROUP   &          &              \\\\\n",
       "\t9 & /linear\\_predictor & linear\\_predictor         & H5I\\_DATASET & FLOAT    & 13000 x 50000\\\\\n",
       "\t10 & /                 & mu                       & H5I\\_GROUP   &          &              \\\\\n",
       "\t11 & /mu               & mu                       & H5I\\_DATASET & FLOAT    & 13000 x 50000\\\\\n",
       "\t12 & /                 & pairs                    & H5I\\_DATASET & COMPOUND & 1000         \\\\\n",
       "\t13 & /                 & scaling\\_factors          & H5I\\_DATASET & FLOAT    & 50000        \\\\\n",
       "\t14 & /                 & x                        & H5I\\_GROUP   &          &              \\\\\n",
       "\t15 & /x                & cell\\_cycle\\_scores        & H5I\\_DATASET & COMPOUND & 50000        \\\\\n",
       "\t16 & /x                & percent\\_mito             & H5I\\_DATASET & FLOAT    & 50000        \\\\\n",
       "\t17 & /x                & x\\_a                      & H5I\\_DATASET & FLOAT    & 13000 x 50000\\\\\n",
       "\t18 & /x                & x\\_ab                     & H5I\\_DATASET & FLOAT    & 13000 x 50000\\\\\n",
       "\t19 & /x                & x\\_b                      & H5I\\_DATASET & FLOAT    & 13000 x 50000\\\\\n",
       "\\end{tabular}\n"
      ],
      "text/markdown": [
       "\n",
       "A data.frame: 20 × 5\n",
       "\n",
       "| <!--/--> | group &lt;chr&gt; | name &lt;chr&gt; | otype &lt;chr&gt; | dclass &lt;chr&gt; | dim &lt;chr&gt; |\n",
       "|---|---|---|---|---|---|\n",
       "| 0 | /                 | coeffs                   | H5I_DATASET | COMPOUND | 13000         |\n",
       "| 1 | /                 | counts                   | H5I_GROUP   | <!----> | <!----> |\n",
       "| 2 | /counts           | counts                   | H5I_DATASET | INTEGER  | 13000 x 50000 |\n",
       "| 3 | /                 | guides                   | H5I_GROUP   | <!----> | <!----> |\n",
       "| 4 | /guides           | guide_target_map         | H5I_DATASET | COMPOUND | 2000          |\n",
       "| 5 | /guides           | metadata                 | H5I_DATASET | COMPOUND | 2000          |\n",
       "| 6 | /guides           | noisy_guide_efficiencies | H5I_DATASET | COMPOUND | 2000          |\n",
       "| 7 | /guides           | one_hot                  | H5I_DATASET | INTEGER  | 50000 x 2000  |\n",
       "| 8 | /                 | linear_predictor         | H5I_GROUP   | <!----> | <!----> |\n",
       "| 9 | /linear_predictor | linear_predictor         | H5I_DATASET | FLOAT    | 13000 x 50000 |\n",
       "| 10 | /                 | mu                       | H5I_GROUP   | <!----> | <!----> |\n",
       "| 11 | /mu               | mu                       | H5I_DATASET | FLOAT    | 13000 x 50000 |\n",
       "| 12 | /                 | pairs                    | H5I_DATASET | COMPOUND | 1000          |\n",
       "| 13 | /                 | scaling_factors          | H5I_DATASET | FLOAT    | 50000         |\n",
       "| 14 | /                 | x                        | H5I_GROUP   | <!----> | <!----> |\n",
       "| 15 | /x                | cell_cycle_scores        | H5I_DATASET | COMPOUND | 50000         |\n",
       "| 16 | /x                | percent_mito             | H5I_DATASET | FLOAT    | 50000         |\n",
       "| 17 | /x                | x_a                      | H5I_DATASET | FLOAT    | 13000 x 50000 |\n",
       "| 18 | /x                | x_ab                     | H5I_DATASET | FLOAT    | 13000 x 50000 |\n",
       "| 19 | /x                | x_b                      | H5I_DATASET | FLOAT    | 13000 x 50000 |\n",
       "\n"
      ],
      "text/plain": [
       "   group             name                     otype       dclass  \n",
       "0  /                 coeffs                   H5I_DATASET COMPOUND\n",
       "1  /                 counts                   H5I_GROUP           \n",
       "2  /counts           counts                   H5I_DATASET INTEGER \n",
       "3  /                 guides                   H5I_GROUP           \n",
       "4  /guides           guide_target_map         H5I_DATASET COMPOUND\n",
       "5  /guides           metadata                 H5I_DATASET COMPOUND\n",
       "6  /guides           noisy_guide_efficiencies H5I_DATASET COMPOUND\n",
       "7  /guides           one_hot                  H5I_DATASET INTEGER \n",
       "8  /                 linear_predictor         H5I_GROUP           \n",
       "9  /linear_predictor linear_predictor         H5I_DATASET FLOAT   \n",
       "10 /                 mu                       H5I_GROUP           \n",
       "11 /mu               mu                       H5I_DATASET FLOAT   \n",
       "12 /                 pairs                    H5I_DATASET COMPOUND\n",
       "13 /                 scaling_factors          H5I_DATASET FLOAT   \n",
       "14 /                 x                        H5I_GROUP           \n",
       "15 /x                cell_cycle_scores        H5I_DATASET COMPOUND\n",
       "16 /x                percent_mito             H5I_DATASET FLOAT   \n",
       "17 /x                x_a                      H5I_DATASET FLOAT   \n",
       "18 /x                x_ab                     H5I_DATASET FLOAT   \n",
       "19 /x                x_b                      H5I_DATASET FLOAT   \n",
       "   dim          \n",
       "0  13000        \n",
       "1               \n",
       "2  13000 x 50000\n",
       "3               \n",
       "4  2000         \n",
       "5  2000         \n",
       "6  2000         \n",
       "7  50000 x 2000 \n",
       "8               \n",
       "9  13000 x 50000\n",
       "10              \n",
       "11 13000 x 50000\n",
       "12 1000         \n",
       "13 50000        \n",
       "14              \n",
       "15 50000        \n",
       "16 50000        \n",
       "17 13000 x 50000\n",
       "18 13000 x 50000\n",
       "19 13000 x 50000"
      ]
     },
     "metadata": {},
     "output_type": "display_data"
    }
   ],
   "source": [
    "fh <- \"/iblm/netapp/data1/jezhou/crisprQTL/simulated_data_interactions_2guides/sim.h5\"\n",
    "h5ls(fh)"
   ]
  },
  {
   "cell_type": "code",
   "execution_count": 3,
   "id": "40ddfeae",
   "metadata": {},
   "outputs": [],
   "source": [
    "counts <- h5read(fh, \"counts/counts\")\n",
    "coeffs <- h5read(fh, \"coeffs\")\n",
    "guide.target.map <- h5read(fh, \"guides/guide_target_map\")\n",
    "guides.metadata <- h5read(fh, \"guides/metadata\")\n",
    "guides.noisy.eff <- h5read(fh, \"guides/noisy_guide_efficiencies\")\n",
    "guides.onehot <- h5read(fh, \"guides/one_hot\")\n",
    "pairs <- h5read(fh, \"pairs\")\n",
    "cell.cycle.scores <- h5read(fh, \"x/cell_cycle_scores\")\n",
    "pct.mito <- h5read(fh, \"x/percent_mito\")\n",
    "# xa <- h5read(fh, \"x/x_a\")\n",
    "# xb <- h5read(fh, \"x/x_b\")\n",
    "# xab <- h5read(fh, \"x/x_ab\")"
   ]
  },
  {
   "cell_type": "code",
   "execution_count": 4,
   "id": "3434bbb3",
   "metadata": {},
   "outputs": [
    {
     "data": {
      "text/html": [
       "<table class=\"dataframe\">\n",
       "<caption>A data.frame: 6 × 7</caption>\n",
       "<thead>\n",
       "\t<tr><th></th><th scope=col>tsA</th><th scope=col>tsB</th><th scope=col>target.genes</th><th scope=col>beta.A</th><th scope=col>beta.B</th><th scope=col>interaction</th><th scope=col>set</th></tr>\n",
       "\t<tr><th></th><th scope=col>&lt;int&gt;</th><th scope=col>&lt;int&gt;</th><th scope=col>&lt;int&gt;</th><th scope=col>&lt;dbl&gt;</th><th scope=col>&lt;dbl&gt;</th><th scope=col>&lt;dbl&gt;</th><th scope=col>&lt;chr&gt;</th></tr>\n",
       "</thead>\n",
       "<tbody>\n",
       "\t<tr><th scope=row>1</th><td>451</td><td>969</td><td> 8277</td><td>-3.107278</td><td>-4.131452</td><td>3.162377</td><td>positive</td></tr>\n",
       "\t<tr><th scope=row>2</th><td> 50</td><td>854</td><td>  517</td><td>-1.382844</td><td>-3.655001</td><td>2.092422</td><td>positive</td></tr>\n",
       "\t<tr><th scope=row>3</th><td>  7</td><td>913</td><td> 8732</td><td>-3.428033</td><td>-2.390614</td><td>3.037249</td><td>positive</td></tr>\n",
       "\t<tr><th scope=row>4</th><td>210</td><td>345</td><td>11500</td><td>-1.222720</td><td>-2.258748</td><td>2.264876</td><td>positive</td></tr>\n",
       "\t<tr><th scope=row>5</th><td>236</td><td>858</td><td>12544</td><td>-2.921474</td><td>-2.405126</td><td>3.548754</td><td>positive</td></tr>\n",
       "\t<tr><th scope=row>6</th><td>525</td><td>698</td><td> 3607</td><td>-1.207947</td><td>-5.051034</td><td>2.742487</td><td>positive</td></tr>\n",
       "</tbody>\n",
       "</table>\n"
      ],
      "text/latex": [
       "A data.frame: 6 × 7\n",
       "\\begin{tabular}{r|lllllll}\n",
       "  & tsA & tsB & target.genes & beta.A & beta.B & interaction & set\\\\\n",
       "  & <int> & <int> & <int> & <dbl> & <dbl> & <dbl> & <chr>\\\\\n",
       "\\hline\n",
       "\t1 & 451 & 969 &  8277 & -3.107278 & -4.131452 & 3.162377 & positive\\\\\n",
       "\t2 &  50 & 854 &   517 & -1.382844 & -3.655001 & 2.092422 & positive\\\\\n",
       "\t3 &   7 & 913 &  8732 & -3.428033 & -2.390614 & 3.037249 & positive\\\\\n",
       "\t4 & 210 & 345 & 11500 & -1.222720 & -2.258748 & 2.264876 & positive\\\\\n",
       "\t5 & 236 & 858 & 12544 & -2.921474 & -2.405126 & 3.548754 & positive\\\\\n",
       "\t6 & 525 & 698 &  3607 & -1.207947 & -5.051034 & 2.742487 & positive\\\\\n",
       "\\end{tabular}\n"
      ],
      "text/markdown": [
       "\n",
       "A data.frame: 6 × 7\n",
       "\n",
       "| <!--/--> | tsA &lt;int&gt; | tsB &lt;int&gt; | target.genes &lt;int&gt; | beta.A &lt;dbl&gt; | beta.B &lt;dbl&gt; | interaction &lt;dbl&gt; | set &lt;chr&gt; |\n",
       "|---|---|---|---|---|---|---|---|\n",
       "| 1 | 451 | 969 |  8277 | -3.107278 | -4.131452 | 3.162377 | positive |\n",
       "| 2 |  50 | 854 |   517 | -1.382844 | -3.655001 | 2.092422 | positive |\n",
       "| 3 |   7 | 913 |  8732 | -3.428033 | -2.390614 | 3.037249 | positive |\n",
       "| 4 | 210 | 345 | 11500 | -1.222720 | -2.258748 | 2.264876 | positive |\n",
       "| 5 | 236 | 858 | 12544 | -2.921474 | -2.405126 | 3.548754 | positive |\n",
       "| 6 | 525 | 698 |  3607 | -1.207947 | -5.051034 | 2.742487 | positive |\n",
       "\n"
      ],
      "text/plain": [
       "  tsA tsB target.genes beta.A    beta.B    interaction set     \n",
       "1 451 969  8277        -3.107278 -4.131452 3.162377    positive\n",
       "2  50 854   517        -1.382844 -3.655001 2.092422    positive\n",
       "3   7 913  8732        -3.428033 -2.390614 3.037249    positive\n",
       "4 210 345 11500        -1.222720 -2.258748 2.264876    positive\n",
       "5 236 858 12544        -2.921474 -2.405126 3.548754    positive\n",
       "6 525 698  3607        -1.207947 -5.051034 2.742487    positive"
      ]
     },
     "metadata": {},
     "output_type": "display_data"
    }
   ],
   "source": [
    "head(pairs)"
   ]
  },
  {
   "cell_type": "markdown",
   "id": "3f93ee85",
   "metadata": {},
   "source": [
    "# Test positive cases"
   ]
  },
  {
   "cell_type": "code",
   "execution_count": 5,
   "id": "6a212e8e",
   "metadata": {},
   "outputs": [],
   "source": [
    "positive.pairs <- pairs %>% filter(set == \"positive\")\n"
   ]
  },
  {
   "cell_type": "code",
   "execution_count": 6,
   "id": "e4cf3cc5",
   "metadata": {},
   "outputs": [
    {
     "data": {
      "text/html": [
       "<table class=\"dataframe\">\n",
       "<caption>A data.frame: 1 × 8</caption>\n",
       "<thead>\n",
       "\t<tr><th scope=col>gene</th><th scope=col>beta.A</th><th scope=col>beta.B</th><th scope=col>interaction</th><th scope=col>beta0</th><th scope=col>beta.s</th><th scope=col>beta.g2m</th><th scope=col>percent.mito</th></tr>\n",
       "\t<tr><th scope=col>&lt;int&gt;</th><th scope=col>&lt;dbl&gt;</th><th scope=col>&lt;dbl&gt;</th><th scope=col>&lt;dbl&gt;</th><th scope=col>&lt;dbl&gt;</th><th scope=col>&lt;dbl&gt;</th><th scope=col>&lt;dbl&gt;</th><th scope=col>&lt;dbl&gt;</th></tr>\n",
       "</thead>\n",
       "<tbody>\n",
       "\t<tr><td>8277</td><td>-3.107278</td><td>-4.131452</td><td>3.162377</td><td>-1.077157</td><td>4.73653</td><td>1.634993</td><td>1.142192</td></tr>\n",
       "</tbody>\n",
       "</table>\n"
      ],
      "text/latex": [
       "A data.frame: 1 × 8\n",
       "\\begin{tabular}{llllllll}\n",
       " gene & beta.A & beta.B & interaction & beta0 & beta.s & beta.g2m & percent.mito\\\\\n",
       " <int> & <dbl> & <dbl> & <dbl> & <dbl> & <dbl> & <dbl> & <dbl>\\\\\n",
       "\\hline\n",
       "\t 8277 & -3.107278 & -4.131452 & 3.162377 & -1.077157 & 4.73653 & 1.634993 & 1.142192\\\\\n",
       "\\end{tabular}\n"
      ],
      "text/markdown": [
       "\n",
       "A data.frame: 1 × 8\n",
       "\n",
       "| gene &lt;int&gt; | beta.A &lt;dbl&gt; | beta.B &lt;dbl&gt; | interaction &lt;dbl&gt; | beta0 &lt;dbl&gt; | beta.s &lt;dbl&gt; | beta.g2m &lt;dbl&gt; | percent.mito &lt;dbl&gt; |\n",
       "|---|---|---|---|---|---|---|---|\n",
       "| 8277 | -3.107278 | -4.131452 | 3.162377 | -1.077157 | 4.73653 | 1.634993 | 1.142192 |\n",
       "\n"
      ],
      "text/plain": [
       "  gene beta.A    beta.B    interaction beta0     beta.s  beta.g2m percent.mito\n",
       "1 8277 -3.107278 -4.131452 3.162377    -1.077157 4.73653 1.634993 1.142192    "
      ]
     },
     "metadata": {},
     "output_type": "display_data"
    }
   ],
   "source": [
    "coeffs %>% filter(gene == 8277)"
   ]
  },
  {
   "cell_type": "code",
   "execution_count": 7,
   "id": "76c4c489",
   "metadata": {},
   "outputs": [],
   "source": [
    "# initialize matrix of x values pertaining to perturbations \n",
    "xa.mtx <- matrix(0, 13000, 500000)\n",
    "xb.mtx <- matrix(0, 13000, 500000)\n",
    "xab.mtx <- matrix(0, 13000, 500000)"
   ]
  },
  {
   "cell_type": "code",
   "execution_count": 8,
   "id": "9d819bb3",
   "metadata": {},
   "outputs": [],
   "source": [
    "genes.to.test <- positive.pairs$target.genes[1:10]\n",
    " "
   ]
  },
  {
   "cell_type": "code",
   "execution_count": null,
   "id": "c5838489",
   "metadata": {},
   "outputs": [],
   "source": [
    "for (tg in genes.to.test) {\n",
    "    cat(sprintf('modeling target gene %d\\n', tg))\n",
    "    \n",
    "    # compile data for model \n",
    "    print(\"getting observed counts for gene\")\n",
    "    obs.counts <- counts[tg,]\n",
    "    \n",
    "    # initialize vectors for storing X_A, X_B, X_AB\n",
    "    xa <- numeric(500000)\n",
    "    xb <- numeric(500000)\n",
    "    xab <- numeric(500000)\n",
    "    \n",
    "    if (tg %in% pairs$target.genes) {\n",
    "        tsA <- pairs %>% filter\n",
    "        # get guides targeting tsA/tsB\n",
    "        guides.A <- guide.target.map %>% filter(target == tsA) %>% pull(guides)\n",
    "        guides.B <- guide.target.map %>% filter(target == tsB) %>% pull(guides)\n",
    "    }\n",
    "}"
   ]
  }
 ],
 "metadata": {
  "kernelspec": {
   "display_name": "R [conda env:crisprqtl]",
   "language": "R",
   "name": "conda-env-crisprqtl-r"
  },
  "language_info": {
   "codemirror_mode": "r",
   "file_extension": ".r",
   "mimetype": "text/x-r-source",
   "name": "R",
   "pygments_lexer": "r",
   "version": "4.1.3"
  }
 },
 "nbformat": 4,
 "nbformat_minor": 5
}
