{
 "cells": [
  {
   "cell_type": "code",
   "execution_count": 1,
   "metadata": {},
   "outputs": [],
   "source": [
    "import pandas as pd\n",
    "import numpy as np"
   ]
  },
  {
   "cell_type": "code",
   "execution_count": 19,
   "metadata": {},
   "outputs": [
    {
     "name": "stderr",
     "output_type": "stream",
     "text": [
      "/iblm/netapp/home/karthik/anaconda3/envs/py39/lib/python3.9/site-packages/IPython/core/interactiveshell.py:3441: DtypeWarning: Columns (1,2) have mixed types.Specify dtype option on import or set low_memory=False.\n",
      "  exec(code_obj, self.user_global_ns, self.user_ns)\n"
     ]
    }
   ],
   "source": [
    "enhancer_gene_pairs = pd.read_csv('/iblm/netapp/data1/external/Gasperini2019/suppl/GSE120861_gene_gRNAgroup_pair_table.at_scale.txt', sep = '\\t')"
   ]
  },
  {
   "cell_type": "code",
   "execution_count": 20,
   "metadata": {},
   "outputs": [
    {
     "data": {
      "text/html": [
       "<div>\n",
       "<style scoped>\n",
       "    .dataframe tbody tr th:only-of-type {\n",
       "        vertical-align: middle;\n",
       "    }\n",
       "\n",
       "    .dataframe tbody tr th {\n",
       "        vertical-align: top;\n",
       "    }\n",
       "\n",
       "    .dataframe thead th {\n",
       "        text-align: right;\n",
       "    }\n",
       "</style>\n",
       "<table border=\"1\" class=\"dataframe\">\n",
       "  <thead>\n",
       "    <tr style=\"text-align: right;\">\n",
       "      <th></th>\n",
       "      <th>gRNAgroup.chr</th>\n",
       "      <th>gRNAgroup.start</th>\n",
       "      <th>gRNAgroup.stop</th>\n",
       "      <th>gRNAgroup</th>\n",
       "      <th>general_group</th>\n",
       "      <th>chr.targetgene</th>\n",
       "      <th>start.targetgene</th>\n",
       "      <th>stop.targetgene</th>\n",
       "      <th>ENSG.targetgene</th>\n",
       "      <th>targetgene_short_name</th>\n",
       "      <th>strand.targetgene</th>\n",
       "      <th>pairs</th>\n",
       "    </tr>\n",
       "  </thead>\n",
       "  <tbody>\n",
       "    <tr>\n",
       "      <th>0</th>\n",
       "      <td>NTC</td>\n",
       "      <td>NTC</td>\n",
       "      <td>NTC</td>\n",
       "      <td>bassik_mch</td>\n",
       "      <td>NTC</td>\n",
       "      <td>chr10</td>\n",
       "      <td>28034777</td>\n",
       "      <td>28034778</td>\n",
       "      <td>ENSG00000150051</td>\n",
       "      <td>MKX</td>\n",
       "      <td>-</td>\n",
       "      <td>MKX:bassik_mch</td>\n",
       "    </tr>\n",
       "    <tr>\n",
       "      <th>1</th>\n",
       "      <td>NTC</td>\n",
       "      <td>NTC</td>\n",
       "      <td>NTC</td>\n",
       "      <td>bassik_mch</td>\n",
       "      <td>NTC</td>\n",
       "      <td>chr10</td>\n",
       "      <td>28287976</td>\n",
       "      <td>28287977</td>\n",
       "      <td>ENSG00000169126</td>\n",
       "      <td>ARMC4</td>\n",
       "      <td>-</td>\n",
       "      <td>ARMC4:bassik_mch</td>\n",
       "    </tr>\n",
       "    <tr>\n",
       "      <th>2</th>\n",
       "      <td>NTC</td>\n",
       "      <td>NTC</td>\n",
       "      <td>NTC</td>\n",
       "      <td>bassik_mch</td>\n",
       "      <td>NTC</td>\n",
       "      <td>chr10</td>\n",
       "      <td>28571017</td>\n",
       "      <td>28571018</td>\n",
       "      <td>ENSG00000150054</td>\n",
       "      <td>MPP7</td>\n",
       "      <td>-</td>\n",
       "      <td>MPP7:bassik_mch</td>\n",
       "    </tr>\n",
       "    <tr>\n",
       "      <th>3</th>\n",
       "      <td>NTC</td>\n",
       "      <td>NTC</td>\n",
       "      <td>NTC</td>\n",
       "      <td>bassik_mch</td>\n",
       "      <td>NTC</td>\n",
       "      <td>chr10</td>\n",
       "      <td>28821422</td>\n",
       "      <td>28821423</td>\n",
       "      <td>ENSG00000095787</td>\n",
       "      <td>WAC</td>\n",
       "      <td>+</td>\n",
       "      <td>WAC:bassik_mch</td>\n",
       "    </tr>\n",
       "    <tr>\n",
       "      <th>4</th>\n",
       "      <td>NTC</td>\n",
       "      <td>NTC</td>\n",
       "      <td>NTC</td>\n",
       "      <td>bassik_mch</td>\n",
       "      <td>NTC</td>\n",
       "      <td>chr10</td>\n",
       "      <td>28966271</td>\n",
       "      <td>28966272</td>\n",
       "      <td>ENSG00000095739</td>\n",
       "      <td>BAMBI</td>\n",
       "      <td>+</td>\n",
       "      <td>BAMBI:bassik_mch</td>\n",
       "    </tr>\n",
       "  </tbody>\n",
       "</table>\n",
       "</div>"
      ],
      "text/plain": [
       "  gRNAgroup.chr gRNAgroup.start gRNAgroup.stop   gRNAgroup general_group  \\\n",
       "0           NTC             NTC            NTC  bassik_mch           NTC   \n",
       "1           NTC             NTC            NTC  bassik_mch           NTC   \n",
       "2           NTC             NTC            NTC  bassik_mch           NTC   \n",
       "3           NTC             NTC            NTC  bassik_mch           NTC   \n",
       "4           NTC             NTC            NTC  bassik_mch           NTC   \n",
       "\n",
       "  chr.targetgene  start.targetgene  stop.targetgene  ENSG.targetgene  \\\n",
       "0          chr10          28034777         28034778  ENSG00000150051   \n",
       "1          chr10          28287976         28287977  ENSG00000169126   \n",
       "2          chr10          28571017         28571018  ENSG00000150054   \n",
       "3          chr10          28821422         28821423  ENSG00000095787   \n",
       "4          chr10          28966271         28966272  ENSG00000095739   \n",
       "\n",
       "  targetgene_short_name strand.targetgene             pairs  \n",
       "0                   MKX                 -    MKX:bassik_mch  \n",
       "1                 ARMC4                 -  ARMC4:bassik_mch  \n",
       "2                  MPP7                 -   MPP7:bassik_mch  \n",
       "3                   WAC                 +    WAC:bassik_mch  \n",
       "4                 BAMBI                 +  BAMBI:bassik_mch  "
      ]
     },
     "execution_count": 20,
     "metadata": {},
     "output_type": "execute_result"
    }
   ],
   "source": [
    "enhancer_gene_pairs.head()"
   ]
  },
  {
   "cell_type": "code",
   "execution_count": 21,
   "metadata": {},
   "outputs": [
    {
     "data": {
      "text/plain": [
       "(1086564, 12)"
      ]
     },
     "execution_count": 21,
     "metadata": {},
     "output_type": "execute_result"
    }
   ],
   "source": [
    "enhancer_gene_pairs.shape"
   ]
  },
  {
   "cell_type": "code",
   "execution_count": 18,
   "metadata": {},
   "outputs": [
    {
     "data": {
      "text/html": [
       "<div>\n",
       "<style scoped>\n",
       "    .dataframe tbody tr th:only-of-type {\n",
       "        vertical-align: middle;\n",
       "    }\n",
       "\n",
       "    .dataframe tbody tr th {\n",
       "        vertical-align: top;\n",
       "    }\n",
       "\n",
       "    .dataframe thead th {\n",
       "        text-align: right;\n",
       "    }\n",
       "</style>\n",
       "<table border=\"1\" class=\"dataframe\">\n",
       "  <thead>\n",
       "    <tr style=\"text-align: right;\">\n",
       "      <th></th>\n",
       "      <th>gRNAgroup</th>\n",
       "      <th>ENSG.targetgene</th>\n",
       "    </tr>\n",
       "  </thead>\n",
       "  <tbody>\n",
       "    <tr>\n",
       "      <th>0</th>\n",
       "      <td>bassik_mch</td>\n",
       "      <td>ENSG00000150051</td>\n",
       "    </tr>\n",
       "    <tr>\n",
       "      <th>1</th>\n",
       "      <td>bassik_mch</td>\n",
       "      <td>ENSG00000169126</td>\n",
       "    </tr>\n",
       "    <tr>\n",
       "      <th>2</th>\n",
       "      <td>bassik_mch</td>\n",
       "      <td>ENSG00000150054</td>\n",
       "    </tr>\n",
       "    <tr>\n",
       "      <th>3</th>\n",
       "      <td>bassik_mch</td>\n",
       "      <td>ENSG00000095787</td>\n",
       "    </tr>\n",
       "    <tr>\n",
       "      <th>4</th>\n",
       "      <td>bassik_mch</td>\n",
       "      <td>ENSG00000095739</td>\n",
       "    </tr>\n",
       "  </tbody>\n",
       "</table>\n",
       "</div>"
      ],
      "text/plain": [
       "    gRNAgroup  ENSG.targetgene\n",
       "0  bassik_mch  ENSG00000150051\n",
       "1  bassik_mch  ENSG00000169126\n",
       "2  bassik_mch  ENSG00000150054\n",
       "3  bassik_mch  ENSG00000095787\n",
       "4  bassik_mch  ENSG00000095739"
      ]
     },
     "execution_count": 18,
     "metadata": {},
     "output_type": "execute_result"
    }
   ],
   "source": [
    "enhancer_gene_pairs = df[['gRNAgroup', 'ENSG.targetgene']]\n",
    "enhancer_gene_pairs.head()"
   ]
  },
  {
   "cell_type": "code",
   "execution_count": 27,
   "metadata": {},
   "outputs": [
    {
     "data": {
      "text/plain": [
       "1000000    chr19.2423_second_two\n",
       "1000001    chr19.2423_second_two\n",
       "1000002    chr19.2423_second_two\n",
       "1000003    chr19.2423_second_two\n",
       "1000004    chr19.2423_second_two\n",
       "                   ...          \n",
       "1009995        chr1.9679_top_two\n",
       "1009996        chr1.9679_top_two\n",
       "1009997        chr1.9682_top_two\n",
       "1009998        chr1.9682_top_two\n",
       "1009999        chr1.9682_top_two\n",
       "Name: gRNAgroup, Length: 10000, dtype: object"
      ]
     },
     "execution_count": 27,
     "metadata": {},
     "output_type": "execute_result"
    }
   ],
   "source": [
    "enhancer_gene_pairs['gRNAgroup'][1000000:1010000]"
   ]
  },
  {
   "cell_type": "code",
   "execution_count": null,
   "metadata": {},
   "outputs": [],
   "source": []
  }
 ],
 "metadata": {
  "kernelspec": {
   "display_name": "Python 3.9.6 ('py39': conda)",
   "language": "python",
   "name": "python3"
  },
  "language_info": {
   "codemirror_mode": {
    "name": "ipython",
    "version": 3
   },
   "file_extension": ".py",
   "mimetype": "text/x-python",
   "name": "python",
   "nbconvert_exporter": "python",
   "pygments_lexer": "ipython3",
   "version": "3.9.6"
  },
  "orig_nbformat": 4,
  "vscode": {
   "interpreter": {
    "hash": "d06d67414be9f1b8ea43583a8ba8038fe8d3db41f940ac23090aa77399c93b0a"
   }
  }
 },
 "nbformat": 4,
 "nbformat_minor": 2
}
