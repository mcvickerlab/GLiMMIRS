{
 "cells": [
  {
   "cell_type": "code",
   "execution_count": 18,
   "metadata": {
    "vscode": {
     "languageId": "r"
    }
   },
   "outputs": [],
   "source": [
    "library(ggplot2)\n",
    "library(stats)\n",
    "library(rhdf5)\n",
    "library(MASS)"
   ]
  },
  {
   "cell_type": "code",
   "execution_count": 19,
   "metadata": {
    "vscode": {
     "languageId": "r"
    }
   },
   "outputs": [],
   "source": [
    "at.scale.results <- read.csv(\n",
    "    '/iblm/netapp/data1/external/Gasperini2019/processed/23_01_12_enhancer_enhancer_at_scale_20_cells_pseudocount_model.csv'\n",
    ")\n",
    "at.scale.results <- at.scale.results[complete.cases(at.scale.results), ]"
   ]
  },
  {
   "cell_type": "code",
   "execution_count": 20,
   "metadata": {
    "vscode": {
     "languageId": "r"
    }
   },
   "outputs": [
    {
     "data": {
      "text/html": [
       "<table class=\"dataframe\">\n",
       "<caption>A data.frame: 6 × 7</caption>\n",
       "<thead>\n",
       "\t<tr><th></th><th scope=col>enhancer.1.list</th><th scope=col>enhancer.2.list</th><th scope=col>gene.list</th><th scope=col>enhancer.1.pvalue.list</th><th scope=col>enhancer.2.pvalue.list</th><th scope=col>interaction.coeff.list</th><th scope=col>interaction.pvalue.list</th></tr>\n",
       "\t<tr><th></th><th scope=col>&lt;chr&gt;</th><th scope=col>&lt;chr&gt;</th><th scope=col>&lt;chr&gt;</th><th scope=col>&lt;dbl&gt;</th><th scope=col>&lt;dbl&gt;</th><th scope=col>&lt;dbl&gt;</th><th scope=col>&lt;dbl&gt;</th></tr>\n",
       "</thead>\n",
       "<tbody>\n",
       "\t<tr><th scope=row>1</th><td>chr20.2320</td><td>chr20.2372</td><td>ENSG00000000419</td><td>0.006855962</td><td>0.7608843</td><td> 0.2669999</td><td>0.6674661</td></tr>\n",
       "\t<tr><th scope=row>2</th><td>chr11.2897</td><td>chr11.3041</td><td>ENSG00000002330</td><td>0.817188400</td><td>0.2701274</td><td> 0.1748857</td><td>0.7050955</td></tr>\n",
       "\t<tr><th scope=row>3</th><td>chr11.2920</td><td>chr11.3041</td><td>ENSG00000002330</td><td>0.562828043</td><td>0.2650436</td><td> 0.1775677</td><td>0.7511936</td></tr>\n",
       "\t<tr><th scope=row>4</th><td>chr11.3041</td><td>chr11.3163</td><td>ENSG00000002330</td><td>0.283744404</td><td>0.5700953</td><td> 0.3538145</td><td>0.4696702</td></tr>\n",
       "\t<tr><th scope=row>5</th><td>chr16.1863</td><td>chr16.1866</td><td>ENSG00000004779</td><td>0.550137664</td><td>0.7950268</td><td> 0.1905582</td><td>0.5165707</td></tr>\n",
       "\t<tr><th scope=row>6</th><td>chr16.1865</td><td>chr16.1866</td><td>ENSG00000004779</td><td>0.433554202</td><td>0.9447717</td><td>-0.2687634</td><td>0.2912712</td></tr>\n",
       "</tbody>\n",
       "</table>\n"
      ],
      "text/latex": [
       "A data.frame: 6 × 7\n",
       "\\begin{tabular}{r|lllllll}\n",
       "  & enhancer.1.list & enhancer.2.list & gene.list & enhancer.1.pvalue.list & enhancer.2.pvalue.list & interaction.coeff.list & interaction.pvalue.list\\\\\n",
       "  & <chr> & <chr> & <chr> & <dbl> & <dbl> & <dbl> & <dbl>\\\\\n",
       "\\hline\n",
       "\t1 & chr20.2320 & chr20.2372 & ENSG00000000419 & 0.006855962 & 0.7608843 &  0.2669999 & 0.6674661\\\\\n",
       "\t2 & chr11.2897 & chr11.3041 & ENSG00000002330 & 0.817188400 & 0.2701274 &  0.1748857 & 0.7050955\\\\\n",
       "\t3 & chr11.2920 & chr11.3041 & ENSG00000002330 & 0.562828043 & 0.2650436 &  0.1775677 & 0.7511936\\\\\n",
       "\t4 & chr11.3041 & chr11.3163 & ENSG00000002330 & 0.283744404 & 0.5700953 &  0.3538145 & 0.4696702\\\\\n",
       "\t5 & chr16.1863 & chr16.1866 & ENSG00000004779 & 0.550137664 & 0.7950268 &  0.1905582 & 0.5165707\\\\\n",
       "\t6 & chr16.1865 & chr16.1866 & ENSG00000004779 & 0.433554202 & 0.9447717 & -0.2687634 & 0.2912712\\\\\n",
       "\\end{tabular}\n"
      ],
      "text/markdown": [
       "\n",
       "A data.frame: 6 × 7\n",
       "\n",
       "| <!--/--> | enhancer.1.list &lt;chr&gt; | enhancer.2.list &lt;chr&gt; | gene.list &lt;chr&gt; | enhancer.1.pvalue.list &lt;dbl&gt; | enhancer.2.pvalue.list &lt;dbl&gt; | interaction.coeff.list &lt;dbl&gt; | interaction.pvalue.list &lt;dbl&gt; |\n",
       "|---|---|---|---|---|---|---|---|\n",
       "| 1 | chr20.2320 | chr20.2372 | ENSG00000000419 | 0.006855962 | 0.7608843 |  0.2669999 | 0.6674661 |\n",
       "| 2 | chr11.2897 | chr11.3041 | ENSG00000002330 | 0.817188400 | 0.2701274 |  0.1748857 | 0.7050955 |\n",
       "| 3 | chr11.2920 | chr11.3041 | ENSG00000002330 | 0.562828043 | 0.2650436 |  0.1775677 | 0.7511936 |\n",
       "| 4 | chr11.3041 | chr11.3163 | ENSG00000002330 | 0.283744404 | 0.5700953 |  0.3538145 | 0.4696702 |\n",
       "| 5 | chr16.1863 | chr16.1866 | ENSG00000004779 | 0.550137664 | 0.7950268 |  0.1905582 | 0.5165707 |\n",
       "| 6 | chr16.1865 | chr16.1866 | ENSG00000004779 | 0.433554202 | 0.9447717 | -0.2687634 | 0.2912712 |\n",
       "\n"
      ],
      "text/plain": [
       "  enhancer.1.list enhancer.2.list gene.list       enhancer.1.pvalue.list\n",
       "1 chr20.2320      chr20.2372      ENSG00000000419 0.006855962           \n",
       "2 chr11.2897      chr11.3041      ENSG00000002330 0.817188400           \n",
       "3 chr11.2920      chr11.3041      ENSG00000002330 0.562828043           \n",
       "4 chr11.3041      chr11.3163      ENSG00000002330 0.283744404           \n",
       "5 chr16.1863      chr16.1866      ENSG00000004779 0.550137664           \n",
       "6 chr16.1865      chr16.1866      ENSG00000004779 0.433554202           \n",
       "  enhancer.2.pvalue.list interaction.coeff.list interaction.pvalue.list\n",
       "1 0.7608843               0.2669999             0.6674661              \n",
       "2 0.2701274               0.1748857             0.7050955              \n",
       "3 0.2650436               0.1775677             0.7511936              \n",
       "4 0.5700953               0.3538145             0.4696702              \n",
       "5 0.7950268               0.1905582             0.5165707              \n",
       "6 0.9447717              -0.2687634             0.2912712              "
      ]
     },
     "metadata": {},
     "output_type": "display_data"
    }
   ],
   "source": [
    "head(at.scale.results)"
   ]
  },
  {
   "cell_type": "code",
   "execution_count": 21,
   "metadata": {
    "vscode": {
     "languageId": "r"
    }
   },
   "outputs": [
    {
     "data": {
      "text/html": [
       "3808"
      ],
      "text/latex": [
       "3808"
      ],
      "text/markdown": [
       "3808"
      ],
      "text/plain": [
       "[1] 3808"
      ]
     },
     "metadata": {},
     "output_type": "display_data"
    }
   ],
   "source": [
    "nrow(at.scale.results)"
   ]
  },
  {
   "cell_type": "code",
   "execution_count": 22,
   "metadata": {
    "vscode": {
     "languageId": "r"
    }
   },
   "outputs": [],
   "source": [
    "# add FDR adjusted p-values and filter for FDR < 0.1\n",
    "at.scale.results$adjusted.interaction.pvalue <- p.adjust(at.scale.results$interaction.pvalue.list, method = 'fdr')\n",
    "significant.interactions <- at.scale.results[at.scale.results$adjusted.interaction.pvalue < 0.1, ]\n"
   ]
  },
  {
   "cell_type": "code",
   "execution_count": 23,
   "metadata": {
    "vscode": {
     "languageId": "r"
    }
   },
   "outputs": [
    {
     "data": {
      "text/html": [
       "<table class=\"dataframe\">\n",
       "<caption>A data.frame: 4 × 8</caption>\n",
       "<thead>\n",
       "\t<tr><th></th><th scope=col>enhancer.1.list</th><th scope=col>enhancer.2.list</th><th scope=col>gene.list</th><th scope=col>enhancer.1.pvalue.list</th><th scope=col>enhancer.2.pvalue.list</th><th scope=col>interaction.coeff.list</th><th scope=col>interaction.pvalue.list</th><th scope=col>adjusted.interaction.pvalue</th></tr>\n",
       "\t<tr><th></th><th scope=col>&lt;chr&gt;</th><th scope=col>&lt;chr&gt;</th><th scope=col>&lt;chr&gt;</th><th scope=col>&lt;dbl&gt;</th><th scope=col>&lt;dbl&gt;</th><th scope=col>&lt;dbl&gt;</th><th scope=col>&lt;dbl&gt;</th><th scope=col>&lt;dbl&gt;</th></tr>\n",
       "</thead>\n",
       "<tbody>\n",
       "\t<tr><th scope=row>1241</th><td>chr1.12443</td><td>chr1.12449</td><td>ENSG00000116903</td><td>0.7220851</td><td>0.2475178</td><td>3.507750</td><td>1.091943e-05</td><td>1.039530e-02</td></tr>\n",
       "\t<tr><th scope=row>2626</th><td>chr2.1137 </td><td>chr2.1212 </td><td>ENSG00000158019</td><td>0.4728296</td><td>0.3786960</td><td>4.577375</td><td>1.622546e-21</td><td>6.178656e-18</td></tr>\n",
       "\t<tr><th scope=row>4261</th><td>chr6.1231 </td><td>chr6.1282 </td><td>ENSG00000197903</td><td>0.5195701</td><td>0.4944020</td><td>1.806754</td><td>3.716034e-06</td><td>7.075329e-03</td></tr>\n",
       "\t<tr><th scope=row>4547</th><td>chr6.1282 </td><td>chr6.1347 </td><td>ENSG00000232040</td><td>0.1335886</td><td>0.6352940</td><td>2.934739</td><td>1.029357e-05</td><td>1.039530e-02</td></tr>\n",
       "</tbody>\n",
       "</table>\n"
      ],
      "text/latex": [
       "A data.frame: 4 × 8\n",
       "\\begin{tabular}{r|llllllll}\n",
       "  & enhancer.1.list & enhancer.2.list & gene.list & enhancer.1.pvalue.list & enhancer.2.pvalue.list & interaction.coeff.list & interaction.pvalue.list & adjusted.interaction.pvalue\\\\\n",
       "  & <chr> & <chr> & <chr> & <dbl> & <dbl> & <dbl> & <dbl> & <dbl>\\\\\n",
       "\\hline\n",
       "\t1241 & chr1.12443 & chr1.12449 & ENSG00000116903 & 0.7220851 & 0.2475178 & 3.507750 & 1.091943e-05 & 1.039530e-02\\\\\n",
       "\t2626 & chr2.1137  & chr2.1212  & ENSG00000158019 & 0.4728296 & 0.3786960 & 4.577375 & 1.622546e-21 & 6.178656e-18\\\\\n",
       "\t4261 & chr6.1231  & chr6.1282  & ENSG00000197903 & 0.5195701 & 0.4944020 & 1.806754 & 3.716034e-06 & 7.075329e-03\\\\\n",
       "\t4547 & chr6.1282  & chr6.1347  & ENSG00000232040 & 0.1335886 & 0.6352940 & 2.934739 & 1.029357e-05 & 1.039530e-02\\\\\n",
       "\\end{tabular}\n"
      ],
      "text/markdown": [
       "\n",
       "A data.frame: 4 × 8\n",
       "\n",
       "| <!--/--> | enhancer.1.list &lt;chr&gt; | enhancer.2.list &lt;chr&gt; | gene.list &lt;chr&gt; | enhancer.1.pvalue.list &lt;dbl&gt; | enhancer.2.pvalue.list &lt;dbl&gt; | interaction.coeff.list &lt;dbl&gt; | interaction.pvalue.list &lt;dbl&gt; | adjusted.interaction.pvalue &lt;dbl&gt; |\n",
       "|---|---|---|---|---|---|---|---|---|\n",
       "| 1241 | chr1.12443 | chr1.12449 | ENSG00000116903 | 0.7220851 | 0.2475178 | 3.507750 | 1.091943e-05 | 1.039530e-02 |\n",
       "| 2626 | chr2.1137  | chr2.1212  | ENSG00000158019 | 0.4728296 | 0.3786960 | 4.577375 | 1.622546e-21 | 6.178656e-18 |\n",
       "| 4261 | chr6.1231  | chr6.1282  | ENSG00000197903 | 0.5195701 | 0.4944020 | 1.806754 | 3.716034e-06 | 7.075329e-03 |\n",
       "| 4547 | chr6.1282  | chr6.1347  | ENSG00000232040 | 0.1335886 | 0.6352940 | 2.934739 | 1.029357e-05 | 1.039530e-02 |\n",
       "\n"
      ],
      "text/plain": [
       "     enhancer.1.list enhancer.2.list gene.list       enhancer.1.pvalue.list\n",
       "1241 chr1.12443      chr1.12449      ENSG00000116903 0.7220851             \n",
       "2626 chr2.1137       chr2.1212       ENSG00000158019 0.4728296             \n",
       "4261 chr6.1231       chr6.1282       ENSG00000197903 0.5195701             \n",
       "4547 chr6.1282       chr6.1347       ENSG00000232040 0.1335886             \n",
       "     enhancer.2.pvalue.list interaction.coeff.list interaction.pvalue.list\n",
       "1241 0.2475178              3.507750               1.091943e-05           \n",
       "2626 0.3786960              4.577375               1.622546e-21           \n",
       "4261 0.4944020              1.806754               3.716034e-06           \n",
       "4547 0.6352940              2.934739               1.029357e-05           \n",
       "     adjusted.interaction.pvalue\n",
       "1241 1.039530e-02               \n",
       "2626 6.178656e-18               \n",
       "4261 7.075329e-03               \n",
       "4547 1.039530e-02               "
      ]
     },
     "metadata": {},
     "output_type": "display_data"
    }
   ],
   "source": [
    "significant.interactions"
   ]
  },
  {
   "cell_type": "code",
   "execution_count": 24,
   "metadata": {
    "vscode": {
     "languageId": "r"
    }
   },
   "outputs": [],
   "source": [
    "# filter for necessary columns in significant interactions\n",
    "significant.interactions <- significant.interactions[, c('enhancer.1.list', 'enhancer.2.list', 'gene.list')]\n",
    "colnames(significant.interactions) <- c('enhancer.1', 'enhancer.2', 'gene')\n"
   ]
  },
  {
   "cell_type": "code",
   "execution_count": 25,
   "metadata": {
    "vscode": {
     "languageId": "r"
    }
   },
   "outputs": [
    {
     "data": {
      "text/html": [
       "<table class=\"dataframe\">\n",
       "<caption>A data.frame: 4 × 3</caption>\n",
       "<thead>\n",
       "\t<tr><th></th><th scope=col>enhancer.1</th><th scope=col>enhancer.2</th><th scope=col>gene</th></tr>\n",
       "\t<tr><th></th><th scope=col>&lt;chr&gt;</th><th scope=col>&lt;chr&gt;</th><th scope=col>&lt;chr&gt;</th></tr>\n",
       "</thead>\n",
       "<tbody>\n",
       "\t<tr><th scope=row>1241</th><td>chr1.12443</td><td>chr1.12449</td><td>ENSG00000116903</td></tr>\n",
       "\t<tr><th scope=row>2626</th><td>chr2.1137 </td><td>chr2.1212 </td><td>ENSG00000158019</td></tr>\n",
       "\t<tr><th scope=row>4261</th><td>chr6.1231 </td><td>chr6.1282 </td><td>ENSG00000197903</td></tr>\n",
       "\t<tr><th scope=row>4547</th><td>chr6.1282 </td><td>chr6.1347 </td><td>ENSG00000232040</td></tr>\n",
       "</tbody>\n",
       "</table>\n"
      ],
      "text/latex": [
       "A data.frame: 4 × 3\n",
       "\\begin{tabular}{r|lll}\n",
       "  & enhancer.1 & enhancer.2 & gene\\\\\n",
       "  & <chr> & <chr> & <chr>\\\\\n",
       "\\hline\n",
       "\t1241 & chr1.12443 & chr1.12449 & ENSG00000116903\\\\\n",
       "\t2626 & chr2.1137  & chr2.1212  & ENSG00000158019\\\\\n",
       "\t4261 & chr6.1231  & chr6.1282  & ENSG00000197903\\\\\n",
       "\t4547 & chr6.1282  & chr6.1347  & ENSG00000232040\\\\\n",
       "\\end{tabular}\n"
      ],
      "text/markdown": [
       "\n",
       "A data.frame: 4 × 3\n",
       "\n",
       "| <!--/--> | enhancer.1 &lt;chr&gt; | enhancer.2 &lt;chr&gt; | gene &lt;chr&gt; |\n",
       "|---|---|---|---|\n",
       "| 1241 | chr1.12443 | chr1.12449 | ENSG00000116903 |\n",
       "| 2626 | chr2.1137  | chr2.1212  | ENSG00000158019 |\n",
       "| 4261 | chr6.1231  | chr6.1282  | ENSG00000197903 |\n",
       "| 4547 | chr6.1282  | chr6.1347  | ENSG00000232040 |\n",
       "\n"
      ],
      "text/plain": [
       "     enhancer.1 enhancer.2 gene           \n",
       "1241 chr1.12443 chr1.12449 ENSG00000116903\n",
       "2626 chr2.1137  chr2.1212  ENSG00000158019\n",
       "4261 chr6.1231  chr6.1282  ENSG00000197903\n",
       "4547 chr6.1282  chr6.1347  ENSG00000232040"
      ]
     },
     "metadata": {},
     "output_type": "display_data"
    }
   ],
   "source": [
    "significant.interactions"
   ]
  },
  {
   "cell_type": "code",
   "execution_count": 26,
   "metadata": {
    "vscode": {
     "languageId": "r"
    }
   },
   "outputs": [
    {
     "name": "stdout",
     "output_type": "stream",
     "text": [
      "[1] \"reading in covariates!\"\n"
     ]
    }
   ],
   "source": [
    "# read in and sort covariates\n",
    "print('reading in covariates!')\n",
    "covariates <- h5read(\n",
    "    file = '/iblm/netapp/data1/external/Gasperini2019/processed/gasperini_data.h5',\n",
    "    name = 'covariates'\n",
    ")\n",
    "cell.barcodes <- h5read(\n",
    "    file = '/iblm/netapp/data1/external/Gasperini2019/processed/gasperini_data.h5',\n",
    "    name = 'cell.barcodes'\n",
    ")\n",
    "covariates <- merge(\n",
    "    data.frame(cell.barcodes),\n",
    "    covariates,\n",
    "    by.x = 'cell.barcodes',\n",
    "    by.y = 'cell',\n",
    "    sort = FALSE\n",
    ")"
   ]
  },
  {
   "cell_type": "code",
   "execution_count": 27,
   "metadata": {
    "vscode": {
     "languageId": "r"
    }
   },
   "outputs": [
    {
     "name": "stdout",
     "output_type": "stream",
     "text": [
      "[1] \"reading in enhancer-to-spacer table!\"\n"
     ]
    }
   ],
   "source": [
    "# read in table mapping enhancers to spacers and reformat enhancer names\n",
    "print('reading in enhancer-to-spacer table!')\n",
    "enhancer.to.spacer.table <- read.table(\n",
    "    '/iblm/netapp/data1/external/Gasperini2019/suppl/GSE120861_grna_groups.at_scale.txt',\n",
    "    sep = '\\t'\n",
    ")\n",
    "colnames(enhancer.to.spacer.table) <- c('target.site', 'spacer.sequence')\n",
    "enhancer.to.spacer.table$target.site <- sapply(enhancer.to.spacer.table$target.site, FUN = function(x) {\n",
    "    if (startsWith(x, 'chr')) {\n",
    "        return (strsplit(x, '_')[[1]][1])\n",
    "    }\n",
    "    else {\n",
    "        return (x)\n",
    "    }\n",
    "})"
   ]
  },
  {
   "cell_type": "code",
   "execution_count": 28,
   "metadata": {
    "vscode": {
     "languageId": "r"
    }
   },
   "outputs": [
    {
     "name": "stdout",
     "output_type": "stream",
     "text": [
      "[1] \"reading in guide efficiencies!\"\n"
     ]
    }
   ],
   "source": [
    "# read in guide efficiency information\n",
    "print('reading in guide efficiencies!')\n",
    "guide.efficiencies.table <- h5read(\n",
    "    '/iblm/netapp/data1/external/Gasperini2019/processed/gasperini_data.h5',\n",
    "    'guidescan.output'\n",
    ")\n",
    "guide.efficiencies.table$spacer <- substring(\n",
    "    guide.efficiencies.table$gRNA,\n",
    "    1,\n",
    "    nchar(guide.efficiencies.table$gRNA) - 3\n",
    ")"
   ]
  },
  {
   "cell_type": "code",
   "execution_count": 29,
   "metadata": {
    "vscode": {
     "languageId": "r"
    }
   },
   "outputs": [
    {
     "name": "stdout",
     "output_type": "stream",
     "text": [
      "[1] \"reading in cell-guide matrix!\"\n",
      "[1] \"reading in counts matrix!\"\n"
     ]
    }
   ],
   "source": [
    "# read in cell-guide matrix\n",
    "print('reading in cell-guide matrix!')\n",
    "cell.guide.matrix <- h5read('/iblm/netapp/data1/external/Gasperini2019/processed/gasperini_data.h5', 'cell.guide.matrix')\n",
    "guide.spacers <- h5read('/iblm/netapp/data1/external/Gasperini2019/processed/gasperini_data.h5', 'guide.spacers')\n",
    "colnames(cell.guide.matrix) <- guide.spacers\n",
    "\n",
    "# read in counts matrix\n",
    "print('reading in counts matrix!')\n",
    "counts.matrix <- h5read('/iblm/netapp/data1/external/Gasperini2019/processed/gasperini_data.h5', 'gene.counts')\n",
    "gene.names <- h5read('/iblm/netapp/data1/external/Gasperini2019/processed/gasperini_data.h5', 'gene.names')\n",
    "rownames(counts.matrix) <- gene.names"
   ]
  },
  {
   "cell_type": "code",
   "execution_count": 30,
   "metadata": {
    "vscode": {
     "languageId": "r"
    }
   },
   "outputs": [
    {
     "name": "stdout",
     "output_type": "stream",
     "text": [
      "[1] \"computing scaling factors!\"\n"
     ]
    }
   ],
   "source": [
    "# compute scaling factors based on count matrix\n",
    "print('computing scaling factors!')\n",
    "scaling.factors <- colSums(counts.matrix) / 1e6"
   ]
  },
  {
   "cell_type": "code",
   "execution_count": 49,
   "metadata": {
    "vscode": {
     "languageId": "r"
    }
   },
   "outputs": [],
   "source": [
    "# define enhancers and gene\n",
    "enhancer.1 <- significant.interactions[4, 'enhancer.1']\n",
    "enhancer.2 <- significant.interactions[4, 'enhancer.2']\n",
    "gene <- significant.interactions[4, 'gene']\n",
    "\n",
    "enhancer.1.spacers <- enhancer.to.spacer.table[enhancer.to.spacer.table$target.site == enhancer.1, ]$spacer.sequence\n",
    "enhancer.2.spacers <- enhancer.to.spacer.table[enhancer.to.spacer.table$target.site == enhancer.2, ]$spacer.sequence\n",
    "\n",
    "# get guide effiencies corresponding to spacers\n",
    "enhancer.1.spacers.efficiencies <- guide.efficiencies.table[guide.efficiencies.table$spacer %in% enhancer.1.spacers, c('spacer', 'Cutting.Efficiency')]\n",
    "enhancer.2.spacers.efficiencies <- guide.efficiencies.table[guide.efficiencies.table$spacer %in% enhancer.2.spacers, c('spacer', 'Cutting.Efficiency')]\n",
    "\n",
    "enhancer.1.spacers.efficiencies[is.na(enhancer.1.spacers.efficiencies)] <- 0\n",
    "enhancer.2.spacers.efficiencies[is.na(enhancer.2.spacers.efficiencies)] <- 0"
   ]
  },
  {
   "cell_type": "code",
   "execution_count": 50,
   "metadata": {
    "vscode": {
     "languageId": "r"
    }
   },
   "outputs": [],
   "source": [
    "enhancer.1.indicator.probs <- rep(1, nrow(cell.guide.matrix))\n",
    "\n",
    "for (j in 1:nrow(enhancer.1.spacers.efficiencies)) {\n",
    "    guide.spacer <- enhancer.1.spacers.efficiencies$spacer[j]\n",
    "    guide.efficiency <- enhancer.1.spacers.efficiencies$Cutting.Efficiency[j]\n",
    "    guide.indicator.vector <- cell.guide.matrix[, guide.spacer]\n",
    "    guide.probs <- 1 - (guide.indicator.vector * guide.efficiency)\n",
    "    enhancer.1.indicator.probs <- enhancer.1.indicator.probs * guide.probs\n",
    "}\n",
    "\n",
    "enhancer.1.indicator.probs <- 1 - enhancer.1.indicator.probs\n",
    "enhancer.1.indicator.vector <- enhancer.1.indicator.probs\n",
    "\n",
    "enhancer.2.indicator.probs <- rep(1, nrow(cell.guide.matrix))\n",
    "\n",
    "for (j in 1:nrow(enhancer.2.spacers.efficiencies)) {\n",
    "    guide.spacer <- enhancer.2.spacers.efficiencies$spacer[j]\n",
    "    guide.efficiency <- enhancer.2.spacers.efficiencies$Cutting.Efficiency[j]\n",
    "    guide.indicator.vector <- cell.guide.matrix[, guide.spacer]\n",
    "    guide.probs <- 1 - (guide.indicator.vector * guide.efficiency)\n",
    "    enhancer.2.indicator.probs <- enhancer.2.indicator.probs * guide.probs\n",
    "}\n",
    "\n",
    "enhancer.2.indicator.probs <- 1 - enhancer.2.indicator.probs\n",
    "enhancer.2.indicator.vector <- enhancer.2.indicator.probs"
   ]
  },
  {
   "cell_type": "code",
   "execution_count": 51,
   "metadata": {
    "vscode": {
     "languageId": "r"
    }
   },
   "outputs": [],
   "source": [
    "# get gene counts for gene\n",
    "pseudocount <- 0.01\n",
    "gene.counts <- counts.matrix[gene, ] + pseudocount"
   ]
  },
  {
   "cell_type": "code",
   "execution_count": 52,
   "metadata": {
    "vscode": {
     "languageId": "r"
    }
   },
   "outputs": [],
   "source": [
    "model.df <- cbind(covariates, enhancer.1.indicator.vector, enhancer.2.indicator.vector, gene.counts)"
   ]
  },
  {
   "cell_type": "code",
   "execution_count": 53,
   "metadata": {
    "vscode": {
     "languageId": "r"
    }
   },
   "outputs": [
    {
     "data": {
      "image/png": "[encoded data removed]",
      "text/plain": [
       "Plot with title “Histogram of gene.counts[interaction.vector > 0]”"
      ]
     },
     "metadata": {
      "image/png": {
       "height": 420,
       "width": 420
      }
     },
     "output_type": "display_data"
    }
   ],
   "source": [
    "interaction.vector <- enhancer.1.indicator.vector * enhancer.2.indicator.vector\n",
    "hist(gene.counts[interaction.vector > 0])"
   ]
  },
  {
   "cell_type": "code",
   "execution_count": 54,
   "metadata": {
    "vscode": {
     "languageId": "r"
    }
   },
   "outputs": [
    {
     "data": {
      "text/html": [
       "<style>\n",
       ".list-inline {list-style: none; margin:0; padding: 0}\n",
       ".list-inline>li {display: inline-block}\n",
       ".list-inline>li:not(:last-child)::after {content: \"\\00b7\"; padding: 0 .5ex}\n",
       "</style>\n",
       "<ol class=list-inline><li>1.01</li><li>0.01</li><li>0.01</li><li>1.01</li><li>0.01</li><li>0.01</li><li>6.01</li><li>0.01</li><li>0.01</li><li>0.01</li><li>0.01</li><li>0.01</li><li>0.01</li><li>0.01</li><li>0.01</li><li>1.01</li><li>0.01</li><li>1.01</li><li>0.01</li><li>1.01</li><li>0.01</li><li>0.01</li><li>2.01</li><li>0.01</li></ol>\n"
      ],
      "text/latex": [
       "\\begin{enumerate*}\n",
       "\\item 1.01\n",
       "\\item 0.01\n",
       "\\item 0.01\n",
       "\\item 1.01\n",
       "\\item 0.01\n",
       "\\item 0.01\n",
       "\\item 6.01\n",
       "\\item 0.01\n",
       "\\item 0.01\n",
       "\\item 0.01\n",
       "\\item 0.01\n",
       "\\item 0.01\n",
       "\\item 0.01\n",
       "\\item 0.01\n",
       "\\item 0.01\n",
       "\\item 1.01\n",
       "\\item 0.01\n",
       "\\item 1.01\n",
       "\\item 0.01\n",
       "\\item 1.01\n",
       "\\item 0.01\n",
       "\\item 0.01\n",
       "\\item 2.01\n",
       "\\item 0.01\n",
       "\\end{enumerate*}\n"
      ],
      "text/markdown": [
       "1. 1.01\n",
       "2. 0.01\n",
       "3. 0.01\n",
       "4. 1.01\n",
       "5. 0.01\n",
       "6. 0.01\n",
       "7. 6.01\n",
       "8. 0.01\n",
       "9. 0.01\n",
       "10. 0.01\n",
       "11. 0.01\n",
       "12. 0.01\n",
       "13. 0.01\n",
       "14. 0.01\n",
       "15. 0.01\n",
       "16. 1.01\n",
       "17. 0.01\n",
       "18. 1.01\n",
       "19. 0.01\n",
       "20. 1.01\n",
       "21. 0.01\n",
       "22. 0.01\n",
       "23. 2.01\n",
       "24. 0.01\n",
       "\n",
       "\n"
      ],
      "text/plain": [
       " [1] 1.01 0.01 0.01 1.01 0.01 0.01 6.01 0.01 0.01 0.01 0.01 0.01 0.01 0.01 0.01\n",
       "[16] 1.01 0.01 1.01 0.01 1.01 0.01 0.01 2.01 0.01"
      ]
     },
     "metadata": {},
     "output_type": "display_data"
    }
   ],
   "source": [
    "gene.counts[interaction.vector > 0]"
   ]
  },
  {
   "cell_type": "code",
   "execution_count": null,
   "metadata": {
    "vscode": {
     "languageId": "r"
    }
   },
   "outputs": [],
   "source": []
  }
 ],
 "metadata": {
  "kernelspec": {
   "display_name": "R",
   "language": "R",
   "name": "ir"
  },
  "language_info": {
   "codemirror_mode": "r",
   "file_extension": ".r",
   "mimetype": "text/x-r-source",
   "name": "R",
   "pygments_lexer": "r",
   "version": "4.2.2"
  },
  "orig_nbformat": 4
 },
 "nbformat": 4,
 "nbformat_minor": 2
}
