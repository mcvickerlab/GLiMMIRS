{
 "cells": [
  {
   "cell_type": "code",
   "execution_count": null,
   "id": "cd8bff32-9c7a-4e43-810c-ec1cd7e81645",
   "metadata": {},
   "outputs": [],
   "source": [
    "# computational packages\n"
   ]
  }
 ],
 "metadata": {
  "kernelspec": {
   "display_name": "Python [conda env:py39]",
   "language": "python",
   "name": "conda-env-py39-py"
  },
  "language_info": {
   "codemirror_mode": {
    "name": "ipython",
    "version": 3
   },
   "file_extension": ".py",
   "mimetype": "text/x-python",
   "name": "python",
   "nbconvert_exporter": "python",
   "pygments_lexer": "ipython3",
   "version": "3.9.5"
  }
 },
 "nbformat": 4,
 "nbformat_minor": 5
}
