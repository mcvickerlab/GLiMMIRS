{
 "cells": [
  {
   "cell_type": "code",
   "execution_count": 1,
   "metadata": {},
   "outputs": [],
   "source": [
    "import pandas as pd\n",
    "import re\n",
    "from collections import defaultdict\n",
    "import gzip"
   ]
  },
  {
   "cell_type": "markdown",
   "metadata": {},
   "source": [
    "# Load phenoData"
   ]
  },
  {
   "cell_type": "code",
   "execution_count": 2,
   "metadata": {},
   "outputs": [],
   "source": [
    "colnames = open(\"/iblm/netapp/data1/external/Gasperini2019/suppl/GSE120861_at_scale.phenoData.colnames.txt\").read().splitlines()"
   ]
  },
  {
   "cell_type": "code",
   "execution_count": 3,
   "metadata": {},
   "outputs": [
    {
     "data": {
      "text/html": [
       "<div>\n",
       "<style scoped>\n",
       "    .dataframe tbody tr th:only-of-type {\n",
       "        vertical-align: middle;\n",
       "    }\n",
       "\n",
       "    .dataframe tbody tr th {\n",
       "        vertical-align: top;\n",
       "    }\n",
       "\n",
       "    .dataframe thead th {\n",
       "        text-align: right;\n",
       "    }\n",
       "</style>\n",
       "<table border=\"1\" class=\"dataframe\">\n",
       "  <thead>\n",
       "    <tr style=\"text-align: right;\">\n",
       "      <th></th>\n",
       "      <th>sample</th>\n",
       "      <th>cell</th>\n",
       "      <th>total_umis</th>\n",
       "      <th>Size_Factor</th>\n",
       "      <th>gene</th>\n",
       "      <th>all_gene</th>\n",
       "      <th>barcode</th>\n",
       "      <th>read_count</th>\n",
       "      <th>umi_count</th>\n",
       "      <th>proportion</th>\n",
       "      <th>guide_count</th>\n",
       "      <th>sample_directory</th>\n",
       "      <th>ko_barcode_file</th>\n",
       "      <th>id</th>\n",
       "      <th>prep_batch</th>\n",
       "      <th>within_batch_chip</th>\n",
       "      <th>within_chip_lane</th>\n",
       "      <th>percent.mito</th>\n",
       "    </tr>\n",
       "  </thead>\n",
       "  <tbody>\n",
       "    <tr>\n",
       "      <th>0</th>\n",
       "      <td>1A_1_SI-GA-E2</td>\n",
       "      <td>AAACCTGAGAGGTACC-1_1A_1_SI-GA-E2</td>\n",
       "      <td>17572</td>\n",
       "      <td>1.009682</td>\n",
       "      <td>chr10.845_top_two_chr1.11183_top_two_chr1.1129...</td>\n",
       "      <td>chr10.845_top_two_chr1.11183_top_two_chr1.1129...</td>\n",
       "      <td>AGAAAGCTCCTCCAGTTCAC_TGATCGCTTTGACTGTGACA_ACAA...</td>\n",
       "      <td>14135</td>\n",
       "      <td>964</td>\n",
       "      <td>0.969819</td>\n",
       "      <td>67</td>\n",
       "      <td>1A_1_SI-GA-E2</td>\n",
       "      <td>guide_libraries/1A_1.gRNAcaptured.txt</td>\n",
       "      <td>1A_1</td>\n",
       "      <td>prep_batch_1</td>\n",
       "      <td>within_batch_chip_A</td>\n",
       "      <td>within_chip_lane_1</td>\n",
       "      <td>0.058787</td>\n",
       "    </tr>\n",
       "    <tr>\n",
       "      <th>1</th>\n",
       "      <td>1A_1_SI-GA-E2</td>\n",
       "      <td>AAACCTGAGTCAATAG-1_1A_1_SI-GA-E2</td>\n",
       "      <td>8923</td>\n",
       "      <td>0.939677</td>\n",
       "      <td>chr1.12695_top_two_chr11.3294_top_two_chr1.679...</td>\n",
       "      <td>chr1.12695_top_two_chr11.3294_top_two_chr1.679...</td>\n",
       "      <td>GTAGAGCCTCCAGAACTGTG_AGGTTTATCCAGATGAACTG_CATC...</td>\n",
       "      <td>4329</td>\n",
       "      <td>293</td>\n",
       "      <td>0.844380</td>\n",
       "      <td>26</td>\n",
       "      <td>1A_1_SI-GA-E2</td>\n",
       "      <td>guide_libraries/1A_1.gRNAcaptured.txt</td>\n",
       "      <td>1A_1</td>\n",
       "      <td>prep_batch_1</td>\n",
       "      <td>within_batch_chip_A</td>\n",
       "      <td>within_chip_lane_1</td>\n",
       "      <td>0.036087</td>\n",
       "    </tr>\n",
       "    <tr>\n",
       "      <th>2</th>\n",
       "      <td>1A_1_SI-GA-E2</td>\n",
       "      <td>AAACCTGCAAACAACA-1_1A_1_SI-GA-E2</td>\n",
       "      <td>14637</td>\n",
       "      <td>0.990803</td>\n",
       "      <td>ALDH1A2_TSS_BRI3_TSS_chr10.1918_top_two_chr10....</td>\n",
       "      <td>ALDH1A2_TSS_BRI3_TSS_chr10.1918_top_two_chr10....</td>\n",
       "      <td>CCAAGGCGTCCTCAGACCAG_AGCTCCAGGAAGGACCCCCG_TCAC...</td>\n",
       "      <td>12362</td>\n",
       "      <td>884</td>\n",
       "      <td>0.950538</td>\n",
       "      <td>61</td>\n",
       "      <td>1A_1_SI-GA-E2</td>\n",
       "      <td>guide_libraries/1A_1.gRNAcaptured.txt</td>\n",
       "      <td>1A_1</td>\n",
       "      <td>prep_batch_1</td>\n",
       "      <td>within_batch_chip_A</td>\n",
       "      <td>within_chip_lane_1</td>\n",
       "      <td>0.069823</td>\n",
       "    </tr>\n",
       "    <tr>\n",
       "      <th>3</th>\n",
       "      <td>1A_1_SI-GA-E2</td>\n",
       "      <td>AAACCTGCACTTCTGC-1_1A_1_SI-GA-E2</td>\n",
       "      <td>22798</td>\n",
       "      <td>1.036578</td>\n",
       "      <td>C16orf91_TSS_chr1.11332_top_two_chr1.1933_top_...</td>\n",
       "      <td>C16orf91_TSS_chr1.11332_top_two_chr1.1933_top_...</td>\n",
       "      <td>GGCGTCAGTCGAGGAGTCAG_GCCAGCACTTCAGCTCACCG_GCTG...</td>\n",
       "      <td>7459</td>\n",
       "      <td>544</td>\n",
       "      <td>0.939551</td>\n",
       "      <td>39</td>\n",
       "      <td>1A_1_SI-GA-E2</td>\n",
       "      <td>guide_libraries/1A_1.gRNAcaptured.txt</td>\n",
       "      <td>1A_1</td>\n",
       "      <td>prep_batch_1</td>\n",
       "      <td>within_batch_chip_A</td>\n",
       "      <td>within_chip_lane_1</td>\n",
       "      <td>0.026187</td>\n",
       "    </tr>\n",
       "    <tr>\n",
       "      <th>4</th>\n",
       "      <td>1A_1_SI-GA-E2</td>\n",
       "      <td>AAACCTGCATGTAGTC-1_1A_1_SI-GA-E2</td>\n",
       "      <td>10136</td>\n",
       "      <td>0.952844</td>\n",
       "      <td>chr10.185_top_two_chr10.484_top_two_chr11.4167...</td>\n",
       "      <td>chr10.185_top_two_chr10.484_top_two_chr11.4167...</td>\n",
       "      <td>ATAAGGCACTCACATCCACC_GCTTGTCCCTAACACTCAGA_GGGC...</td>\n",
       "      <td>14831</td>\n",
       "      <td>1054</td>\n",
       "      <td>0.959927</td>\n",
       "      <td>37</td>\n",
       "      <td>1A_1_SI-GA-E2</td>\n",
       "      <td>guide_libraries/1A_1.gRNAcaptured.txt</td>\n",
       "      <td>1A_1</td>\n",
       "      <td>prep_batch_1</td>\n",
       "      <td>within_batch_chip_A</td>\n",
       "      <td>within_chip_lane_1</td>\n",
       "      <td>0.007991</td>\n",
       "    </tr>\n",
       "  </tbody>\n",
       "</table>\n",
       "</div>"
      ],
      "text/plain": [
       "          sample                              cell  total_umis  Size_Factor  \\\n",
       "0  1A_1_SI-GA-E2  AAACCTGAGAGGTACC-1_1A_1_SI-GA-E2       17572     1.009682   \n",
       "1  1A_1_SI-GA-E2  AAACCTGAGTCAATAG-1_1A_1_SI-GA-E2        8923     0.939677   \n",
       "2  1A_1_SI-GA-E2  AAACCTGCAAACAACA-1_1A_1_SI-GA-E2       14637     0.990803   \n",
       "3  1A_1_SI-GA-E2  AAACCTGCACTTCTGC-1_1A_1_SI-GA-E2       22798     1.036578   \n",
       "4  1A_1_SI-GA-E2  AAACCTGCATGTAGTC-1_1A_1_SI-GA-E2       10136     0.952844   \n",
       "\n",
       "                                                gene  \\\n",
       "0  chr10.845_top_two_chr1.11183_top_two_chr1.1129...   \n",
       "1  chr1.12695_top_two_chr11.3294_top_two_chr1.679...   \n",
       "2  ALDH1A2_TSS_BRI3_TSS_chr10.1918_top_two_chr10....   \n",
       "3  C16orf91_TSS_chr1.11332_top_two_chr1.1933_top_...   \n",
       "4  chr10.185_top_two_chr10.484_top_two_chr11.4167...   \n",
       "\n",
       "                                            all_gene  \\\n",
       "0  chr10.845_top_two_chr1.11183_top_two_chr1.1129...   \n",
       "1  chr1.12695_top_two_chr11.3294_top_two_chr1.679...   \n",
       "2  ALDH1A2_TSS_BRI3_TSS_chr10.1918_top_two_chr10....   \n",
       "3  C16orf91_TSS_chr1.11332_top_two_chr1.1933_top_...   \n",
       "4  chr10.185_top_two_chr10.484_top_two_chr11.4167...   \n",
       "\n",
       "                                             barcode  read_count  umi_count  \\\n",
       "0  AGAAAGCTCCTCCAGTTCAC_TGATCGCTTTGACTGTGACA_ACAA...       14135        964   \n",
       "1  GTAGAGCCTCCAGAACTGTG_AGGTTTATCCAGATGAACTG_CATC...        4329        293   \n",
       "2  CCAAGGCGTCCTCAGACCAG_AGCTCCAGGAAGGACCCCCG_TCAC...       12362        884   \n",
       "3  GGCGTCAGTCGAGGAGTCAG_GCCAGCACTTCAGCTCACCG_GCTG...        7459        544   \n",
       "4  ATAAGGCACTCACATCCACC_GCTTGTCCCTAACACTCAGA_GGGC...       14831       1054   \n",
       "\n",
       "   proportion  guide_count sample_directory  \\\n",
       "0    0.969819           67    1A_1_SI-GA-E2   \n",
       "1    0.844380           26    1A_1_SI-GA-E2   \n",
       "2    0.950538           61    1A_1_SI-GA-E2   \n",
       "3    0.939551           39    1A_1_SI-GA-E2   \n",
       "4    0.959927           37    1A_1_SI-GA-E2   \n",
       "\n",
       "                         ko_barcode_file    id    prep_batch  \\\n",
       "0  guide_libraries/1A_1.gRNAcaptured.txt  1A_1  prep_batch_1   \n",
       "1  guide_libraries/1A_1.gRNAcaptured.txt  1A_1  prep_batch_1   \n",
       "2  guide_libraries/1A_1.gRNAcaptured.txt  1A_1  prep_batch_1   \n",
       "3  guide_libraries/1A_1.gRNAcaptured.txt  1A_1  prep_batch_1   \n",
       "4  guide_libraries/1A_1.gRNAcaptured.txt  1A_1  prep_batch_1   \n",
       "\n",
       "     within_batch_chip    within_chip_lane  percent.mito  \n",
       "0  within_batch_chip_A  within_chip_lane_1      0.058787  \n",
       "1  within_batch_chip_A  within_chip_lane_1      0.036087  \n",
       "2  within_batch_chip_A  within_chip_lane_1      0.069823  \n",
       "3  within_batch_chip_A  within_chip_lane_1      0.026187  \n",
       "4  within_batch_chip_A  within_chip_lane_1      0.007991  "
      ]
     },
     "execution_count": 3,
     "metadata": {},
     "output_type": "execute_result"
    }
   ],
   "source": [
    "# loading a test file with the first 5 rows from original phenoData file\n",
    "df = pd.read_csv(\"/iblm/netapp/data1/external/Gasperini2019/suppl/test.phenoData.txt\",\n",
    "                header = None, sep = ' ', names = colnames)\n",
    "df.head()"
   ]
  },
  {
   "cell_type": "code",
   "execution_count": 4,
   "metadata": {},
   "outputs": [
    {
     "data": {
      "text/plain": [
       "(10, 18)"
      ]
     },
     "execution_count": 4,
     "metadata": {},
     "output_type": "execute_result"
    }
   ],
   "source": [
    "df.shape"
   ]
  },
  {
   "cell_type": "markdown",
   "metadata": {},
   "source": [
    "# Use regex to get all gRNA groups observed in each cell"
   ]
  },
  {
   "cell_type": "code",
   "execution_count": 8,
   "metadata": {},
   "outputs": [
    {
     "data": {
      "text/plain": [
       "['chr1.12695_top_two',\n",
       " 'chr11.3294_top_two',\n",
       " 'chr1.6799_second_two',\n",
       " 'chr17.695_top_two',\n",
       " 'chr20.2033_top_two',\n",
       " 'chr20.314_top_two',\n",
       " 'chr2.403_second_two',\n",
       " 'chr2.403_top_two',\n",
       " 'chr2.4480_top_two',\n",
       " 'chr2.5077_top_two',\n",
       " 'chr3.2983_top_two',\n",
       " 'chr3.5568_top_two',\n",
       " 'chr5.2905_top_two',\n",
       " 'chr6.1406_top_two',\n",
       " 'chr6.1523_second_two',\n",
       " 'chr6.1669_top_two',\n",
       " 'chr6.2579_top_two',\n",
       " 'chr6.4327_top_two',\n",
       " 'chr6.4750_top_two',\n",
       " 'chr7.4162_top_two',\n",
       " 'chr7.4555_top_two',\n",
       " 'ID2_TSS',\n",
       " 'MYC_TSS',\n",
       " 'NXT1_TSS',\n",
       " 'TMEM14A_TSS',\n",
       " 'TXN2_TSS']"
      ]
     },
     "execution_count": 8,
     "metadata": {},
     "output_type": "execute_result"
    }
   ],
   "source": [
    "guides = re.findall(r\"[A-Za-z0-9]*\\_TSS|chr[A-Z0-9]{1,2}\\.\\w*top_two|chr[A-Z0-9]{1,2}\\.\\w*second_two\", \n",
    "                    df['all_gene'].loc[1])\n",
    "guides"
   ]
  },
  {
   "cell_type": "code",
   "execution_count": 9,
   "metadata": {},
   "outputs": [
    {
     "data": {
      "text/plain": [
       "['GTAGAGCCTCCAGAACTGTG',\n",
       " 'AGGTTTATCCAGATGAACTG',\n",
       " 'CATCTGGTAGCCTCACACCG',\n",
       " 'GCAGGCTCCCTTAATGCAGG',\n",
       " 'TTTCTGGCCAATTAGAACCG',\n",
       " 'GGTCCTGTGCTGTCCCCAAG',\n",
       " 'GGTCAGCTTGTTTATCCCTG',\n",
       " 'GCAGCTGCTGGGAATAGCAT',\n",
       " 'AGCTGGCACCCAGACACTGA',\n",
       " 'TTAACCACAAAGTAGCATGG',\n",
       " 'GGAGCAGGTGGGAAACTGGA',\n",
       " 'TGGCCCCACCAAATGCTGCA',\n",
       " 'GTGTTTCTGAGCTGTCACCA',\n",
       " 'AGAAATCTGGGAGAAAGGCG',\n",
       " 'CATGCCATGGGACTTCCCCA',\n",
       " 'GGGTGTTGACGACAAACAGA',\n",
       " 'GTTGCCGTGGTTATATACCG',\n",
       " 'GCTGATCTGAAACTAAACCG',\n",
       " 'CTAGCAGTAGTCAGTGGAGG',\n",
       " 'CAGAACCCATCCCCCACGGA',\n",
       " 'GGATTCCTCCTGCTAAACGT',\n",
       " 'CTCACTCACTCCGCCTCTAG',\n",
       " 'TAATTCCAGCGAGAGGCAGG',\n",
       " 'CTCGCGTCTGCGTGGAGACG',\n",
       " 'AGACGGCTGGGCGCCGAGTG',\n",
       " 'CGACAGGCGTGCCCTTGACG']"
      ]
     },
     "execution_count": 9,
     "metadata": {},
     "output_type": "execute_result"
    }
   ],
   "source": [
    "spacers = df['barcode'].loc[1].split(\"_\")\n",
    "spacers"
   ]
  },
  {
   "cell_type": "markdown",
   "metadata": {},
   "source": [
    "### Check if number of spacers and number of guides are equivalent to value in `guide_count` column"
   ]
  },
  {
   "cell_type": "code",
   "execution_count": 7,
   "metadata": {},
   "outputs": [
    {
     "data": {
      "text/plain": [
       "True"
      ]
     },
     "execution_count": 7,
     "metadata": {},
     "output_type": "execute_result"
    }
   ],
   "source": [
    "len(spacers) == len(guides) == df['guide_count'].loc[1]"
   ]
  },
  {
   "cell_type": "markdown",
   "metadata": {},
   "source": [
    "# Load `GSE120861_grna_groups.at_scale.txt.gz` for sanity check"
   ]
  },
  {
   "cell_type": "code",
   "execution_count": 13,
   "metadata": {},
   "outputs": [],
   "source": [
    "d = defaultdict(list)\n",
    "\n",
    "with gzip.open('/iblm/netapp/data1/external/Gasperini2019/suppl/GSE120861_grna_groups.at_scale.txt.gz', 'rt') as fh:\n",
    "    for l in fh.read().splitlines():\n",
    "        group, spacer = l.split(\"\\t\")\n",
    "        d[group].append(spacer)"
   ]
  },
  {
   "cell_type": "code",
   "execution_count": 16,
   "metadata": {},
   "outputs": [
    {
     "name": "stdout",
     "output_type": "stream",
     "text": [
      "all gRNA groups and corresponding spacers are listed in file\n"
     ]
    }
   ],
   "source": [
    "errors = 0\n",
    "for g,s in zip(guides, spacers):\n",
    "    if s not in d[g]:\n",
    "        print(\"error for gRNA group %s with spacer %s\" % (g,s))\n",
    "        errors += 1\n",
    "        \n",
    "if errors==0:\n",
    "    print(\"all gRNA groups and corresponding spacers are listed in file\")"
   ]
  }
 ],
 "metadata": {
  "kernelspec": {
   "display_name": "Python [conda env:jupyter] *",
   "language": "python",
   "name": "conda-env-jupyter-py"
  },
  "language_info": {
   "codemirror_mode": {
    "name": "ipython",
    "version": 3
   },
   "file_extension": ".py",
   "mimetype": "text/x-python",
   "name": "python",
   "nbconvert_exporter": "python",
   "pygments_lexer": "ipython3",
   "version": "3.9.6"
  }
 },
 "nbformat": 4,
 "nbformat_minor": 4
}
