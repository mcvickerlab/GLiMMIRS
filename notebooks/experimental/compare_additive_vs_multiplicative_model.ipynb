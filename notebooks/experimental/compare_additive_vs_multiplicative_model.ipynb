{
 "cells": [
  {
   "cell_type": "markdown",
   "id": "a02987df",
   "metadata": {},
   "source": [
    "This notebook demonstrates how to compare the AIC scores that were calculated with the `compare_multiplicative_vs_additive.R` script, which fit multiplicative and additive models for the null hypothesis ($H_0: \\beta_{AB}=0$) to the high confidence pairs from the Gasperini et al. data."
   ]
  },
  {
   "cell_type": "markdown",
   "id": "8308c6a8",
   "metadata": {},
   "source": [
    "# Load data\n",
    "\n",
    "### Additive models\n",
    "To begin, we will load the fitted additive models and check how many of them converged. We will want to ignore genes for which the model did not converge. "
   ]
  },
  {
   "cell_type": "code",
   "execution_count": 2,
   "id": "08123ff1",
   "metadata": {},
   "outputs": [],
   "source": [
    "add.mods <- readRDS('/iblm/netapp/data1/jezhou/crisprQTL/multiplicative_vs_additive_330_pairs_11-May-2023/fitted_additive_mods_null.rds')"
   ]
  },
  {
   "cell_type": "code",
   "execution_count": 3,
   "id": "07bc8727",
   "metadata": {},
   "outputs": [
    {
     "name": "stdout",
     "output_type": "stream",
     "text": [
      "[1] \"39 of  330 fitted models failed to converge\"\n"
     ]
    }
   ],
   "source": [
    "# check for convergence\n",
    "add.convergence <- lapply(add.mods, function(x) {x$convergence})\n",
    "\n",
    "# get ix of unconverged models\n",
    "add.unconverged.ix <- c()\n",
    "j <- 1\n",
    "\n",
    "for (i in 1:length(add.convergence)) {\n",
    "    if (is.null(add.convergence[[i]])) {\n",
    "        add.unconverged.ix[j] <- i\n",
    "        j <- j + 1\n",
    "    } else if (add.convergence[[i]] != 0) {\n",
    "        add.unconverged.ix[j] <- i\n",
    "        j <- j + 1\n",
    "    }\n",
    "}\n",
    "\n",
    "print(paste(length(add.unconverged.ix), \"of \", length(add.mods), \"fitted models failed to converge\"))"
   ]
  },
  {
   "cell_type": "markdown",
   "id": "8eb12f1f",
   "metadata": {},
   "source": [
    "### Multiplicative models\n",
    "\n",
    "We can do the same for the multiplicative models."
   ]
  },
  {
   "cell_type": "code",
   "execution_count": 4,
   "id": "93922177",
   "metadata": {},
   "outputs": [],
   "source": [
    "mult.mods <- readRDS(\"/iblm/netapp/data1/jezhou/crisprQTL/multiplicative_vs_additive_330_pairs_11-May-2023/fitted_multiplicative_mods_null.rds\")"
   ]
  },
  {
   "cell_type": "code",
   "execution_count": 5,
   "id": "56c35f86",
   "metadata": {},
   "outputs": [
    {
     "name": "stdout",
     "output_type": "stream",
     "text": [
      "[1] \"31 of  330 fitted models failed to converge\"\n"
     ]
    }
   ],
   "source": [
    "# check for convergence - under `converged` because a different function was used for fitting\n",
    "mult.convergence <- sapply(mult.mods, function(x) {x$converged})\n",
    "\n",
    "# get ix of unconverged models\n",
    "mult.unconverged.ix <- c()\n",
    "j <- 1\n",
    "\n",
    "for (i in 1:length(mult.convergence)) {\n",
    "    if (is.null(mult.convergence[[i]])) {\n",
    "        mult.unconverged.ix[j] <- i\n",
    "        j <- j + 1\n",
    "    } else if (!mult.convergence[[i]]) {\n",
    "        mult.unconverged.ix[[j]] <- i\n",
    "        j <- j + 1\n",
    "    }\n",
    "}\n",
    "\n",
    "print(paste(length(mult.unconverged.ix), \"of \", length(mult.mods), \"fitted models failed to converge\"))"
   ]
  },
  {
   "cell_type": "markdown",
   "id": "4d834573",
   "metadata": {},
   "source": [
    "Now we need a unified list of the genes for which both the additive and multiplicative models converged and can be compared for model fit."
   ]
  },
  {
   "cell_type": "code",
   "execution_count": 6,
   "id": "433d6c66",
   "metadata": {},
   "outputs": [
    {
     "name": "stdout",
     "output_type": "stream",
     "text": [
      "[1] \"39 genes failed to converge\"\n"
     ]
    }
   ],
   "source": [
    "failed.genes <- union(mult.unconverged.ix, add.unconverged.ix)\n",
    "print(paste(length(failed.genes), \"genes failed to converge\"))"
   ]
  },
  {
   "cell_type": "markdown",
   "id": "d204f647",
   "metadata": {},
   "source": [
    "### AIC table\n",
    "Now we'll load the table that recorded the AIC for each gene for both the additive (`AIC.identity`) and multiplicative (`AIC.log`) models."
   ]
  },
  {
   "cell_type": "code",
   "execution_count": 6,
   "id": "cf3954df",
   "metadata": {},
   "outputs": [
    {
     "data": {
      "text/html": [
       "<table class=\"dataframe\">\n",
       "<caption>A data.frame: 10 × 5</caption>\n",
       "<thead>\n",
       "\t<tr><th></th><th scope=col>gene</th><th scope=col>enhancer1</th><th scope=col>enhancer2</th><th scope=col>AIC.log</th><th scope=col>AIC.identity</th></tr>\n",
       "\t<tr><th></th><th scope=col>&lt;chr&gt;</th><th scope=col>&lt;chr&gt;</th><th scope=col>&lt;chr&gt;</th><th scope=col>&lt;dbl&gt;</th><th scope=col>&lt;dbl&gt;</th></tr>\n",
       "</thead>\n",
       "<tbody>\n",
       "\t<tr><th scope=row>1</th><td>ENSG00000005249</td><td>chr7.4040</td><td>chr7.4045</td><td>580610.4</td><td>585463.5</td></tr>\n",
       "\t<tr><th scope=row>2</th><td>ENSG00000005249</td><td>chr7.4040</td><td>chr7.4046</td><td>580630.0</td><td>584817.8</td></tr>\n",
       "\t<tr><th scope=row>3</th><td>ENSG00000005249</td><td>chr7.4040</td><td>chr7.4041</td><td>580654.6</td><td>585157.6</td></tr>\n",
       "\t<tr><th scope=row>4</th><td>ENSG00000005249</td><td>chr7.4040</td><td>chr7.4042</td><td>580675.8</td><td>585097.4</td></tr>\n",
       "\t<tr><th scope=row>5</th><td>ENSG00000005249</td><td>chr7.4040</td><td>chr7.4048</td><td>580690.2</td><td>584724.6</td></tr>\n",
       "\t<tr><th scope=row>6</th><td>ENSG00000005249</td><td>chr7.4040</td><td>chr7.4050</td><td>580696.4</td><td>584085.0</td></tr>\n",
       "\t<tr><th scope=row>7</th><td>ENSG00000005249</td><td>chr7.4045</td><td>chr7.4046</td><td>580662.3</td><td>585497.6</td></tr>\n",
       "\t<tr><th scope=row>8</th><td>ENSG00000005249</td><td>chr7.4045</td><td>chr7.4041</td><td>580685.6</td><td>585944.6</td></tr>\n",
       "\t<tr><th scope=row>9</th><td>ENSG00000005249</td><td>chr7.4045</td><td>chr7.4042</td><td>580707.3</td><td>586160.7</td></tr>\n",
       "\t<tr><th scope=row>10</th><td>ENSG00000005249</td><td>chr7.4045</td><td>chr7.4048</td><td>580722.0</td><td>584854.3</td></tr>\n",
       "</tbody>\n",
       "</table>\n"
      ],
      "text/latex": [
       "A data.frame: 10 × 5\n",
       "\\begin{tabular}{r|lllll}\n",
       "  & gene & enhancer1 & enhancer2 & AIC.log & AIC.identity\\\\\n",
       "  & <chr> & <chr> & <chr> & <dbl> & <dbl>\\\\\n",
       "\\hline\n",
       "\t1 & ENSG00000005249 & chr7.4040 & chr7.4045 & 580610.4 & 585463.5\\\\\n",
       "\t2 & ENSG00000005249 & chr7.4040 & chr7.4046 & 580630.0 & 584817.8\\\\\n",
       "\t3 & ENSG00000005249 & chr7.4040 & chr7.4041 & 580654.6 & 585157.6\\\\\n",
       "\t4 & ENSG00000005249 & chr7.4040 & chr7.4042 & 580675.8 & 585097.4\\\\\n",
       "\t5 & ENSG00000005249 & chr7.4040 & chr7.4048 & 580690.2 & 584724.6\\\\\n",
       "\t6 & ENSG00000005249 & chr7.4040 & chr7.4050 & 580696.4 & 584085.0\\\\\n",
       "\t7 & ENSG00000005249 & chr7.4045 & chr7.4046 & 580662.3 & 585497.6\\\\\n",
       "\t8 & ENSG00000005249 & chr7.4045 & chr7.4041 & 580685.6 & 585944.6\\\\\n",
       "\t9 & ENSG00000005249 & chr7.4045 & chr7.4042 & 580707.3 & 586160.7\\\\\n",
       "\t10 & ENSG00000005249 & chr7.4045 & chr7.4048 & 580722.0 & 584854.3\\\\\n",
       "\\end{tabular}\n"
      ],
      "text/markdown": [
       "\n",
       "A data.frame: 10 × 5\n",
       "\n",
       "| <!--/--> | gene &lt;chr&gt; | enhancer1 &lt;chr&gt; | enhancer2 &lt;chr&gt; | AIC.log &lt;dbl&gt; | AIC.identity &lt;dbl&gt; |\n",
       "|---|---|---|---|---|---|\n",
       "| 1 | ENSG00000005249 | chr7.4040 | chr7.4045 | 580610.4 | 585463.5 |\n",
       "| 2 | ENSG00000005249 | chr7.4040 | chr7.4046 | 580630.0 | 584817.8 |\n",
       "| 3 | ENSG00000005249 | chr7.4040 | chr7.4041 | 580654.6 | 585157.6 |\n",
       "| 4 | ENSG00000005249 | chr7.4040 | chr7.4042 | 580675.8 | 585097.4 |\n",
       "| 5 | ENSG00000005249 | chr7.4040 | chr7.4048 | 580690.2 | 584724.6 |\n",
       "| 6 | ENSG00000005249 | chr7.4040 | chr7.4050 | 580696.4 | 584085.0 |\n",
       "| 7 | ENSG00000005249 | chr7.4045 | chr7.4046 | 580662.3 | 585497.6 |\n",
       "| 8 | ENSG00000005249 | chr7.4045 | chr7.4041 | 580685.6 | 585944.6 |\n",
       "| 9 | ENSG00000005249 | chr7.4045 | chr7.4042 | 580707.3 | 586160.7 |\n",
       "| 10 | ENSG00000005249 | chr7.4045 | chr7.4048 | 580722.0 | 584854.3 |\n",
       "\n"
      ],
      "text/plain": [
       "   gene            enhancer1 enhancer2 AIC.log  AIC.identity\n",
       "1  ENSG00000005249 chr7.4040 chr7.4045 580610.4 585463.5    \n",
       "2  ENSG00000005249 chr7.4040 chr7.4046 580630.0 584817.8    \n",
       "3  ENSG00000005249 chr7.4040 chr7.4041 580654.6 585157.6    \n",
       "4  ENSG00000005249 chr7.4040 chr7.4042 580675.8 585097.4    \n",
       "5  ENSG00000005249 chr7.4040 chr7.4048 580690.2 584724.6    \n",
       "6  ENSG00000005249 chr7.4040 chr7.4050 580696.4 584085.0    \n",
       "7  ENSG00000005249 chr7.4045 chr7.4046 580662.3 585497.6    \n",
       "8  ENSG00000005249 chr7.4045 chr7.4041 580685.6 585944.6    \n",
       "9  ENSG00000005249 chr7.4045 chr7.4042 580707.3 586160.7    \n",
       "10 ENSG00000005249 chr7.4045 chr7.4048 580722.0 584854.3    "
      ]
     },
     "metadata": {},
     "output_type": "display_data"
    }
   ],
   "source": [
    "aic.df <- read.csv(\"/iblm/netapp/data1/jezhou/crisprQTL/multiplicative_vs_additive_330_pairs/aic_summary.csv\", header = TRUE)\n",
    "head(aic.df, n= 10)"
   ]
  },
  {
   "cell_type": "code",
   "execution_count": 7,
   "id": "dba55aa6",
   "metadata": {},
   "outputs": [
    {
     "data": {
      "text/html": [
       "<style>\n",
       ".list-inline {list-style: none; margin:0; padding: 0}\n",
       ".list-inline>li {display: inline-block}\n",
       ".list-inline>li:not(:last-child)::after {content: \"\\00b7\"; padding: 0 .5ex}\n",
       "</style>\n",
       "<ol class=list-inline><li>291</li><li>5</li></ol>\n"
      ],
      "text/latex": [
       "\\begin{enumerate*}\n",
       "\\item 291\n",
       "\\item 5\n",
       "\\end{enumerate*}\n"
      ],
      "text/markdown": [
       "1. 291\n",
       "2. 5\n",
       "\n",
       "\n"
      ],
      "text/plain": [
       "[1] 291   5"
      ]
     },
     "metadata": {},
     "output_type": "display_data"
    }
   ],
   "source": [
    "dim(aic.df)"
   ]
  },
  {
   "cell_type": "markdown",
   "id": "7873997c",
   "metadata": {},
   "source": []
  }
 ],
 "metadata": {
  "kernelspec": {
   "display_name": "R [conda env:crisprqtl]",
   "language": "R",
   "name": "conda-env-crisprqtl-r"
  },
  "language_info": {
   "codemirror_mode": "r",
   "file_extension": ".r",
   "mimetype": "text/x-r-source",
   "name": "R",
   "pygments_lexer": "r",
   "version": "4.1.3"
  }
 },
 "nbformat": 4,
 "nbformat_minor": 5
}
