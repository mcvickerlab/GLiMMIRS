{
 "cells": [
  {
   "cell_type": "code",
   "execution_count": 3,
   "id": "5b9fa91b-fa1e-4f33-b101-fd031de03a6b",
   "metadata": {},
   "outputs": [],
   "source": [
    "import numpy as np \n",
    "import pandas as pd\n",
    "\n",
    "from scipy.stats import nbinom"
   ]
  },
  {
   "cell_type": "code",
   "execution_count": 7,
   "id": "78fe7d0f-8538-464b-a4d1-36d4106f10c6",
   "metadata": {},
   "outputs": [],
   "source": [
    "# set path to project directory \n",
    "project_path = '/iblm/netapp/home/karthik/gasperini_project/'\n",
    "data_path = '/iblm/netapp/data1/external/Gasperini2019/'"
   ]
  },
  {
   "cell_type": "code",
   "execution_count": 9,
   "id": "dc4b530b-579c-468a-92ba-40b1623ca8ac",
   "metadata": {},
   "outputs": [
    {
     "name": "stdout",
     "output_type": "stream",
     "text": [
      "loading in cell-guide matrix...\n"
     ]
    }
   ],
   "source": [
    "# read in cell-guide matrix\n",
    "print('loading in cell-guide matrix...')\n",
    "cell_ts_matrix = pd.read_hdf(project_path + 'data/cell_ts_matrix.h5')\n",
    "cell_ts_matrix.index = cell_ts_matrix.index.str.lower()"
   ]
  },
  {
   "cell_type": "code",
   "execution_count": 10,
   "id": "4e2b7b9b-d0b1-4f58-8fe7-389e916b0d60",
   "metadata": {},
   "outputs": [
    {
     "name": "stdout",
     "output_type": "stream",
     "text": [
      "reading in scaling factors...\n",
      "creating scaling factors array (for computation)...\n"
     ]
    }
   ],
   "source": [
    "# read in scaling factors\n",
    "print('reading in scaling factors...')\n",
    "scaling_factors = pd.read_csv(project_path + 'data/scaling_factors.csv')\n",
    "scaling_factors.columns = ['cell', 'scaling_factor']\n",
    "scaling_factors = scaling_factors.set_index('cell')\n",
    "\n",
    "# filter scaling factors to only include cells in cell-guide matrix\n",
    "print('creating scaling factors array (for computation)...')\n",
    "scaling_factors = scaling_factors.merge(cell_ts_matrix.iloc[0], on='cell')\n",
    "scaling_factors = scaling_factors.iloc[:, 0]\n",
    "scaling_factors_arr = scaling_factors.values # np.array for faster computation\n",
    "scalers_arr = scaling_factors_arr"
   ]
  },
  {
   "cell_type": "code",
   "execution_count": 11,
   "id": "e764fa8a-50f5-4640-9cda-51d6c76e6aab",
   "metadata": {},
   "outputs": [
    {
     "data": {
      "text/plain": [
       "205797"
      ]
     },
     "execution_count": 11,
     "metadata": {},
     "output_type": "execute_result"
    }
   ],
   "source": [
    "len(scalers_arr)"
   ]
  },
  {
   "cell_type": "code",
   "execution_count": 59,
   "id": "ff408d39-15ac-49e8-8dcc-c2b637203049",
   "metadata": {},
   "outputs": [
    {
     "data": {
      "text/plain": [
       "array([0, 0, 0, ..., 0, 0, 0])"
      ]
     },
     "execution_count": 59,
     "metadata": {},
     "output_type": "execute_result"
    }
   ],
   "source": [
    "beta0 = 10\n",
    "beta1 = 0\n",
    "mu = np.exp(beta0 + beta1 + np.log(scalers_arr))\n",
    "disp = 1\n",
    "prob = disp / (disp + mu)\n",
    "nbinom.rvs(n=disp, p=prob)"
   ]
  },
  {
   "cell_type": "code",
   "execution_count": null,
   "id": "561f4080-2d1c-4138-8a9c-5da17c8a2e5e",
   "metadata": {},
   "outputs": [],
   "source": []
  }
 ],
 "metadata": {
  "kernelspec": {
   "display_name": "Python [conda env:py39]",
   "language": "python",
   "name": "conda-env-py39-py"
  },
  "language_info": {
   "codemirror_mode": {
    "name": "ipython",
    "version": 3
   },
   "file_extension": ".py",
   "mimetype": "text/x-python",
   "name": "python",
   "nbconvert_exporter": "python",
   "pygments_lexer": "ipython3",
   "version": "3.9.6"
  }
 },
 "nbformat": 4,
 "nbformat_minor": 5
}
