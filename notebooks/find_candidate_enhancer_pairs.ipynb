{
 "cells": [
  {
   "cell_type": "markdown",
   "metadata": {},
   "source": [
    "# Find Candidate Enhancer Pairs\n",
    "\n",
    "This code looks through the 664 previously published enhancer-gene pairs from the Gasperini et al. (2019) dataset. Using these pairs, we identified 113 unique genes that had multiple enhancers affecting them. Then, we generated pairwise combinations to create a list of candidate enhancer pairs to be tested for interaction effects.\n",
    "\n",
    "Author: Karthik Guruvayurappan"
   ]
  },
  {
   "cell_type": "code",
   "execution_count": 1,
   "metadata": {},
   "outputs": [],
   "source": [
    "import numpy as np\n",
    "import pandas as pd"
   ]
  },
  {
   "cell_type": "code",
   "execution_count": 2,
   "metadata": {},
   "outputs": [
    {
     "data": {
      "text/html": [
       "<div>\n",
       "<style scoped>\n",
       "    .dataframe tbody tr th:only-of-type {\n",
       "        vertical-align: middle;\n",
       "    }\n",
       "\n",
       "    .dataframe tbody tr th {\n",
       "        vertical-align: top;\n",
       "    }\n",
       "\n",
       "    .dataframe thead th {\n",
       "        text-align: right;\n",
       "    }\n",
       "</style>\n",
       "<table border=\"1\" class=\"dataframe\">\n",
       "  <thead>\n",
       "    <tr style=\"text-align: right;\">\n",
       "      <th></th>\n",
       "      <th>Target_Site</th>\n",
       "      <th>ENSG</th>\n",
       "      <th>target_gene_short</th>\n",
       "      <th>Diff_expression_test_raw_pval</th>\n",
       "      <th>Diff_expression_test_fold_change</th>\n",
       "      <th>Diff_expression_test_Empirical_pval</th>\n",
       "      <th>Diff_expression_test_Empirical_adjusted_pval</th>\n",
       "      <th>high_confidence_subset</th>\n",
       "      <th>chr.candidate_enhancer</th>\n",
       "      <th>start.candidate_enhancer</th>\n",
       "      <th>stop.candidate_enhancer</th>\n",
       "    </tr>\n",
       "  </thead>\n",
       "  <tbody>\n",
       "    <tr>\n",
       "      <th>0</th>\n",
       "      <td>chr2.2482</td>\n",
       "      <td>ENSG00000115977</td>\n",
       "      <td>AAK1</td>\n",
       "      <td>1.451572e-03</td>\n",
       "      <td>0.756542</td>\n",
       "      <td>0.002719</td>\n",
       "      <td>0.098652</td>\n",
       "      <td>True</td>\n",
       "      <td>chr2</td>\n",
       "      <td>69056234</td>\n",
       "      <td>69056865</td>\n",
       "    </tr>\n",
       "    <tr>\n",
       "      <th>1</th>\n",
       "      <td>chrX.2695</td>\n",
       "      <td>ENSG00000101986</td>\n",
       "      <td>ABCD1</td>\n",
       "      <td>7.351840e-04</td>\n",
       "      <td>0.669369</td>\n",
       "      <td>0.001825</td>\n",
       "      <td>0.073014</td>\n",
       "      <td>True</td>\n",
       "      <td>chrX</td>\n",
       "      <td>153250743</td>\n",
       "      <td>153251468</td>\n",
       "    </tr>\n",
       "    <tr>\n",
       "      <th>2</th>\n",
       "      <td>chr10.2252</td>\n",
       "      <td>ENSG00000138316</td>\n",
       "      <td>ADAMTS14</td>\n",
       "      <td>2.140000e-09</td>\n",
       "      <td>0.447355</td>\n",
       "      <td>0.000449</td>\n",
       "      <td>0.032498</td>\n",
       "      <td>False</td>\n",
       "      <td>chr10</td>\n",
       "      <td>72426863</td>\n",
       "      <td>72427518</td>\n",
       "    </tr>\n",
       "    <tr>\n",
       "      <th>3</th>\n",
       "      <td>chr1.8461</td>\n",
       "      <td>ENSG00000143382</td>\n",
       "      <td>ADAMTSL4</td>\n",
       "      <td>1.157260e-04</td>\n",
       "      <td>0.667658</td>\n",
       "      <td>0.001044</td>\n",
       "      <td>0.050414</td>\n",
       "      <td>True</td>\n",
       "      <td>chr1</td>\n",
       "      <td>150517877</td>\n",
       "      <td>150518596</td>\n",
       "    </tr>\n",
       "    <tr>\n",
       "      <th>4</th>\n",
       "      <td>chr11.1006</td>\n",
       "      <td>ENSG00000148926</td>\n",
       "      <td>ADM</td>\n",
       "      <td>5.881130e-04</td>\n",
       "      <td>0.309175</td>\n",
       "      <td>0.001651</td>\n",
       "      <td>0.067336</td>\n",
       "      <td>True</td>\n",
       "      <td>chr11</td>\n",
       "      <td>9573345</td>\n",
       "      <td>9573973</td>\n",
       "    </tr>\n",
       "  </tbody>\n",
       "</table>\n",
       "</div>"
      ],
      "text/plain": [
       "  Target_Site             ENSG target_gene_short  \\\n",
       "0   chr2.2482  ENSG00000115977              AAK1   \n",
       "1   chrX.2695  ENSG00000101986             ABCD1   \n",
       "2  chr10.2252  ENSG00000138316          ADAMTS14   \n",
       "3   chr1.8461  ENSG00000143382          ADAMTSL4   \n",
       "4  chr11.1006  ENSG00000148926               ADM   \n",
       "\n",
       "   Diff_expression_test_raw_pval  Diff_expression_test_fold_change  \\\n",
       "0                   1.451572e-03                          0.756542   \n",
       "1                   7.351840e-04                          0.669369   \n",
       "2                   2.140000e-09                          0.447355   \n",
       "3                   1.157260e-04                          0.667658   \n",
       "4                   5.881130e-04                          0.309175   \n",
       "\n",
       "   Diff_expression_test_Empirical_pval  \\\n",
       "0                             0.002719   \n",
       "1                             0.001825   \n",
       "2                             0.000449   \n",
       "3                             0.001044   \n",
       "4                             0.001651   \n",
       "\n",
       "   Diff_expression_test_Empirical_adjusted_pval  high_confidence_subset  \\\n",
       "0                                      0.098652                    True   \n",
       "1                                      0.073014                    True   \n",
       "2                                      0.032498                   False   \n",
       "3                                      0.050414                    True   \n",
       "4                                      0.067336                    True   \n",
       "\n",
       "  chr.candidate_enhancer  start.candidate_enhancer  stop.candidate_enhancer  \n",
       "0                   chr2                  69056234                 69056865  \n",
       "1                   chrX                 153250743                153251468  \n",
       "2                  chr10                  72426863                 72427518  \n",
       "3                   chr1                 150517877                150518596  \n",
       "4                  chr11                   9573345                  9573973  "
      ]
     },
     "execution_count": 2,
     "metadata": {},
     "output_type": "execute_result"
    }
   ],
   "source": [
    "# read in table of enhancer-gene pairs\n",
    "enhancer_gene_pairs = pd.read_csv('/iblm/netapp/data1/external/Gasperini2019/gasperini_enhancer_gene_pairs_suppl_table_2.csv')\n",
    "enhancer_gene_pairs.head()"
   ]
  },
  {
   "cell_type": "code",
   "execution_count": 3,
   "metadata": {},
   "outputs": [
    {
     "data": {
      "text/plain": [
       "0    ENSG00000005249\n",
       "1    ENSG00000006042\n",
       "2    ENSG00000013306\n",
       "3    ENSG00000023516\n",
       "4    ENSG00000034510\n",
       "Name: ENSG, dtype: object"
      ]
     },
     "execution_count": 3,
     "metadata": {},
     "output_type": "execute_result"
    }
   ],
   "source": [
    "# get list of genes that have multiple enhancers\n",
    "enhancer_counts = enhancer_gene_pairs.groupby('ENSG').count()\n",
    "enhancer_counts = enhancer_counts[enhancer_counts['Target_Site'] > 1]\n",
    "multiple_enhancer_genes = pd.Series(enhancer_counts.index)\n",
    "multiple_enhancer_genes.head()"
   ]
  },
  {
   "cell_type": "code",
   "execution_count": 4,
   "metadata": {},
   "outputs": [
    {
     "data": {
      "text/html": [
       "<div>\n",
       "<style scoped>\n",
       "    .dataframe tbody tr th:only-of-type {\n",
       "        vertical-align: middle;\n",
       "    }\n",
       "\n",
       "    .dataframe tbody tr th {\n",
       "        vertical-align: top;\n",
       "    }\n",
       "\n",
       "    .dataframe thead th {\n",
       "        text-align: right;\n",
       "    }\n",
       "</style>\n",
       "<table border=\"1\" class=\"dataframe\">\n",
       "  <thead>\n",
       "    <tr style=\"text-align: right;\">\n",
       "      <th></th>\n",
       "      <th>gene</th>\n",
       "      <th>enhancer_1</th>\n",
       "      <th>enhancer_2</th>\n",
       "    </tr>\n",
       "  </thead>\n",
       "  <tbody>\n",
       "    <tr>\n",
       "      <th>0</th>\n",
       "      <td>ENSG00000005249</td>\n",
       "      <td>chr7.4040</td>\n",
       "      <td>chr7.4045</td>\n",
       "    </tr>\n",
       "    <tr>\n",
       "      <th>1</th>\n",
       "      <td>ENSG00000005249</td>\n",
       "      <td>chr7.4040</td>\n",
       "      <td>chr7.4046</td>\n",
       "    </tr>\n",
       "    <tr>\n",
       "      <th>2</th>\n",
       "      <td>ENSG00000005249</td>\n",
       "      <td>chr7.4040</td>\n",
       "      <td>chr7.4041</td>\n",
       "    </tr>\n",
       "    <tr>\n",
       "      <th>3</th>\n",
       "      <td>ENSG00000005249</td>\n",
       "      <td>chr7.4040</td>\n",
       "      <td>chr7.4042</td>\n",
       "    </tr>\n",
       "    <tr>\n",
       "      <th>4</th>\n",
       "      <td>ENSG00000005249</td>\n",
       "      <td>chr7.4040</td>\n",
       "      <td>chr7.4048</td>\n",
       "    </tr>\n",
       "  </tbody>\n",
       "</table>\n",
       "</div>"
      ],
      "text/plain": [
       "              gene enhancer_1 enhancer_2\n",
       "0  ENSG00000005249  chr7.4040  chr7.4045\n",
       "1  ENSG00000005249  chr7.4040  chr7.4046\n",
       "2  ENSG00000005249  chr7.4040  chr7.4041\n",
       "3  ENSG00000005249  chr7.4040  chr7.4042\n",
       "4  ENSG00000005249  chr7.4040  chr7.4048"
      ]
     },
     "execution_count": 4,
     "metadata": {},
     "output_type": "execute_result"
    }
   ],
   "source": [
    "enhancer_pairs = []\n",
    "\n",
    "# get all enhancer pair combinations\n",
    "grouped_genes = enhancer_gene_pairs.groupby('ENSG')\n",
    "\n",
    "for gene in multiple_enhancer_genes:\n",
    "    \n",
    "    # get all enhancer-gene pairs for given gene\n",
    "    gene_enhancers = np.array(grouped_genes.get_group(gene)['Target_Site'])\n",
    "\n",
    "    for i in np.arange(len(gene_enhancers)):\n",
    "\n",
    "        enhancer_one = gene_enhancers[i]\n",
    "\n",
    "        for j in np.arange(1, len(gene_enhancers)):\n",
    "            \n",
    "            enhancer_two = gene_enhancers[j]\n",
    "            enhancer_pairs.append([gene, enhancer_one, enhancer_two])\n",
    "\n",
    "enhancer_pairs = pd.DataFrame(enhancer_pairs)\n",
    "enhancer_pairs.columns = ['gene', 'enhancer_1', 'enhancer_2']\n",
    "enhancer_pairs.head()\n"
   ]
  },
  {
   "cell_type": "code",
   "execution_count": 5,
   "metadata": {},
   "outputs": [],
   "source": [
    "enhancer_pairs.to_csv('/iblm/netapp/data1/external/Gasperini2019/processed/enhancer_pairs_suppl_table_2.csv', index = False)"
   ]
  },
  {
   "cell_type": "code",
   "execution_count": 6,
   "metadata": {},
   "outputs": [
    {
     "data": {
      "text/plain": [
       "(660, 3)"
      ]
     },
     "execution_count": 6,
     "metadata": {},
     "output_type": "execute_result"
    }
   ],
   "source": [
    "# get number of enhancer pairs\n",
    "enhancer_pairs.shape"
   ]
  },
  {
   "cell_type": "code",
   "execution_count": 7,
   "metadata": {},
   "outputs": [
    {
     "data": {
      "text/plain": [
       "113"
      ]
     },
     "execution_count": 7,
     "metadata": {},
     "output_type": "execute_result"
    }
   ],
   "source": [
    "# get number of unique genes\n",
    "enhancer_pairs['gene'].nunique()"
   ]
  },
  {
   "cell_type": "code",
   "execution_count": null,
   "metadata": {},
   "outputs": [],
   "source": []
  }
 ],
 "metadata": {
  "kernelspec": {
   "display_name": "Python 3.9.6 ('py39': conda)",
   "language": "python",
   "name": "python3"
  },
  "language_info": {
   "codemirror_mode": {
    "name": "ipython",
    "version": 3
   },
   "file_extension": ".py",
   "mimetype": "text/x-python",
   "name": "python",
   "nbconvert_exporter": "python",
   "pygments_lexer": "ipython3",
   "version": "3.9.6"
  },
  "orig_nbformat": 4,
  "vscode": {
   "interpreter": {
    "hash": "d06d67414be9f1b8ea43583a8ba8038fe8d3db41f940ac23090aa77399c93b0a"
   }
  }
 },
 "nbformat": 4,
 "nbformat_minor": 2
}
