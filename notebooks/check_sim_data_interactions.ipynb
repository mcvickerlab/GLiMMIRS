{
 "cells": [
  {
   "cell_type": "code",
   "execution_count": 1,
   "id": "ad09afb2",
   "metadata": {},
   "outputs": [
    {
     "name": "stderr",
     "output_type": "stream",
     "text": [
      "\n",
      "Attaching package: ‘dplyr’\n",
      "\n",
      "\n",
      "The following objects are masked from ‘package:stats’:\n",
      "\n",
      "    filter, lag\n",
      "\n",
      "\n",
      "The following objects are masked from ‘package:base’:\n",
      "\n",
      "    intersect, setdiff, setequal, union\n",
      "\n",
      "\n"
     ]
    }
   ],
   "source": [
    "library(rhdf5)\n",
    "library(dplyr)"
   ]
  },
  {
   "cell_type": "code",
   "execution_count": 2,
   "id": "72a04dc3",
   "metadata": {},
   "outputs": [
    {
     "data": {
      "text/html": [
       "<table class=\"dataframe\">\n",
       "<caption>A data.frame: 113 × 5</caption>\n",
       "<thead>\n",
       "\t<tr><th></th><th scope=col>group</th><th scope=col>name</th><th scope=col>otype</th><th scope=col>dclass</th><th scope=col>dim</th></tr>\n",
       "\t<tr><th></th><th scope=col>&lt;chr&gt;</th><th scope=col>&lt;chr&gt;</th><th scope=col>&lt;chr&gt;</th><th scope=col>&lt;chr&gt;</th><th scope=col>&lt;chr&gt;</th></tr>\n",
       "</thead>\n",
       "<tbody>\n",
       "\t<tr><th scope=row>0</th><td>/      </td><td>coeffs           </td><td>H5I_DATASET</td><td>COMPOUND</td><td>13000        </td></tr>\n",
       "\t<tr><th scope=row>1</th><td>/      </td><td>counts           </td><td>H5I_GROUP  </td><td>        </td><td>             </td></tr>\n",
       "\t<tr><th scope=row>2</th><td>/counts</td><td>lambda100_size0.5</td><td>H5I_DATASET</td><td>INTEGER </td><td>13000 x 50000</td></tr>\n",
       "\t<tr><th scope=row>3</th><td>/counts</td><td>lambda100_size1  </td><td>H5I_DATASET</td><td>INTEGER </td><td>13000 x 50000</td></tr>\n",
       "\t<tr><th scope=row>4</th><td>/counts</td><td>lambda100_size3  </td><td>H5I_DATASET</td><td>INTEGER </td><td>13000 x 50000</td></tr>\n",
       "\t<tr><th scope=row>5</th><td>/counts</td><td>lambda100_size5  </td><td>H5I_DATASET</td><td>INTEGER </td><td>13000 x 50000</td></tr>\n",
       "\t<tr><th scope=row>6</th><td>/counts</td><td>lambda100_size7  </td><td>H5I_DATASET</td><td>INTEGER </td><td>13000 x 50000</td></tr>\n",
       "\t<tr><th scope=row>7</th><td>/counts</td><td>lambda15_size0.5 </td><td>H5I_DATASET</td><td>INTEGER </td><td>13000 x 50000</td></tr>\n",
       "\t<tr><th scope=row>8</th><td>/counts</td><td>lambda15_size1   </td><td>H5I_DATASET</td><td>INTEGER </td><td>13000 x 50000</td></tr>\n",
       "\t<tr><th scope=row>9</th><td>/counts</td><td>lambda15_size3   </td><td>H5I_DATASET</td><td>INTEGER </td><td>13000 x 50000</td></tr>\n",
       "\t<tr><th scope=row>10</th><td>/counts</td><td>lambda15_size5   </td><td>H5I_DATASET</td><td>INTEGER </td><td>13000 x 50000</td></tr>\n",
       "\t<tr><th scope=row>11</th><td>/counts</td><td>lambda15_size7   </td><td>H5I_DATASET</td><td>INTEGER </td><td>13000 x 50000</td></tr>\n",
       "\t<tr><th scope=row>12</th><td>/counts</td><td>lambda25_size0.5 </td><td>H5I_DATASET</td><td>INTEGER </td><td>13000 x 50000</td></tr>\n",
       "\t<tr><th scope=row>13</th><td>/counts</td><td>lambda25_size1   </td><td>H5I_DATASET</td><td>INTEGER </td><td>13000 x 50000</td></tr>\n",
       "\t<tr><th scope=row>14</th><td>/counts</td><td>lambda25_size3   </td><td>H5I_DATASET</td><td>INTEGER </td><td>13000 x 50000</td></tr>\n",
       "\t<tr><th scope=row>15</th><td>/counts</td><td>lambda25_size5   </td><td>H5I_DATASET</td><td>INTEGER </td><td>13000 x 50000</td></tr>\n",
       "\t<tr><th scope=row>16</th><td>/counts</td><td>lambda25_size7   </td><td>H5I_DATASET</td><td>INTEGER </td><td>13000 x 50000</td></tr>\n",
       "\t<tr><th scope=row>17</th><td>/counts</td><td>lambda50_size0.5 </td><td>H5I_DATASET</td><td>INTEGER </td><td>13000 x 50000</td></tr>\n",
       "\t<tr><th scope=row>18</th><td>/counts</td><td>lambda50_size1   </td><td>H5I_DATASET</td><td>INTEGER </td><td>13000 x 50000</td></tr>\n",
       "\t<tr><th scope=row>19</th><td>/counts</td><td>lambda50_size3   </td><td>H5I_DATASET</td><td>INTEGER </td><td>13000 x 50000</td></tr>\n",
       "\t<tr><th scope=row>20</th><td>/counts</td><td>lambda50_size5   </td><td>H5I_DATASET</td><td>INTEGER </td><td>13000 x 50000</td></tr>\n",
       "\t<tr><th scope=row>21</th><td>/counts</td><td>lambda50_size7   </td><td>H5I_DATASET</td><td>INTEGER </td><td>13000 x 50000</td></tr>\n",
       "\t<tr><th scope=row>22</th><td>/counts</td><td>lambda75_size0.5 </td><td>H5I_DATASET</td><td>INTEGER </td><td>13000 x 50000</td></tr>\n",
       "\t<tr><th scope=row>23</th><td>/counts</td><td>lambda75_size1   </td><td>H5I_DATASET</td><td>INTEGER </td><td>13000 x 50000</td></tr>\n",
       "\t<tr><th scope=row>24</th><td>/counts</td><td>lambda75_size3   </td><td>H5I_DATASET</td><td>INTEGER </td><td>13000 x 50000</td></tr>\n",
       "\t<tr><th scope=row>25</th><td>/counts</td><td>lambda75_size5   </td><td>H5I_DATASET</td><td>INTEGER </td><td>13000 x 50000</td></tr>\n",
       "\t<tr><th scope=row>26</th><td>/counts</td><td>lambda75_size7   </td><td>H5I_DATASET</td><td>INTEGER </td><td>13000 x 50000</td></tr>\n",
       "\t<tr><th scope=row>27</th><td>/      </td><td>effect.sizes     </td><td>H5I_DATASET</td><td>FLOAT   </td><td>5            </td></tr>\n",
       "\t<tr><th scope=row>28</th><td>/      </td><td>guides           </td><td>H5I_GROUP  </td><td>        </td><td>             </td></tr>\n",
       "\t<tr><th scope=row>29</th><td>/guides</td><td>guide_target_map </td><td>H5I_DATASET</td><td>COMPOUND</td><td>2000         </td></tr>\n",
       "\t<tr><th scope=row>⋮</th><td>⋮</td><td>⋮</td><td>⋮</td><td>⋮</td><td>⋮</td></tr>\n",
       "\t<tr><th scope=row>83</th><td>/mu    </td><td>lambda50_size5   </td><td>H5I_DATASET</td><td>FLOAT   </td><td>13000 x 50000</td></tr>\n",
       "\t<tr><th scope=row>84</th><td>/mu    </td><td>lambda50_size7   </td><td>H5I_DATASET</td><td>FLOAT   </td><td>13000 x 50000</td></tr>\n",
       "\t<tr><th scope=row>85</th><td>/mu    </td><td>lambda75_size0.5 </td><td>H5I_DATASET</td><td>FLOAT   </td><td>13000 x 50000</td></tr>\n",
       "\t<tr><th scope=row>86</th><td>/mu    </td><td>lambda75_size1   </td><td>H5I_DATASET</td><td>FLOAT   </td><td>13000 x 50000</td></tr>\n",
       "\t<tr><th scope=row>87</th><td>/mu    </td><td>lambda75_size3   </td><td>H5I_DATASET</td><td>FLOAT   </td><td>13000 x 50000</td></tr>\n",
       "\t<tr><th scope=row>88</th><td>/mu    </td><td>lambda75_size5   </td><td>H5I_DATASET</td><td>FLOAT   </td><td>13000 x 50000</td></tr>\n",
       "\t<tr><th scope=row>89</th><td>/mu    </td><td>lambda75_size7   </td><td>H5I_DATASET</td><td>FLOAT   </td><td>13000 x 50000</td></tr>\n",
       "\t<tr><th scope=row>90</th><td>/      </td><td>pairs            </td><td>H5I_DATASET</td><td>COMPOUND</td><td>1000         </td></tr>\n",
       "\t<tr><th scope=row>91</th><td>/      </td><td>scaling_factors  </td><td>H5I_DATASET</td><td>FLOAT   </td><td>50000        </td></tr>\n",
       "\t<tr><th scope=row>92</th><td>/      </td><td>x                </td><td>H5I_GROUP  </td><td>        </td><td>             </td></tr>\n",
       "\t<tr><th scope=row>93</th><td>/x     </td><td>cell_cycle_scores</td><td>H5I_DATASET</td><td>COMPOUND</td><td>50000        </td></tr>\n",
       "\t<tr><th scope=row>94</th><td>/x     </td><td>percent_mito     </td><td>H5I_DATASET</td><td>FLOAT   </td><td>50000        </td></tr>\n",
       "\t<tr><th scope=row>95</th><td>/x     </td><td>x_a              </td><td>H5I_GROUP  </td><td>        </td><td>             </td></tr>\n",
       "\t<tr><th scope=row>96</th><td>/x/x_a </td><td>100              </td><td>H5I_DATASET</td><td>FLOAT   </td><td>13000 x 50000</td></tr>\n",
       "\t<tr><th scope=row>97</th><td>/x/x_a </td><td>15               </td><td>H5I_DATASET</td><td>FLOAT   </td><td>13000 x 50000</td></tr>\n",
       "\t<tr><th scope=row>98</th><td>/x/x_a </td><td>25               </td><td>H5I_DATASET</td><td>FLOAT   </td><td>13000 x 50000</td></tr>\n",
       "\t<tr><th scope=row>99</th><td>/x/x_a </td><td>50               </td><td>H5I_DATASET</td><td>FLOAT   </td><td>13000 x 50000</td></tr>\n",
       "\t<tr><th scope=row>100</th><td>/x/x_a </td><td>75               </td><td>H5I_DATASET</td><td>FLOAT   </td><td>13000 x 50000</td></tr>\n",
       "\t<tr><th scope=row>101</th><td>/x     </td><td>x_ab             </td><td>H5I_GROUP  </td><td>        </td><td>             </td></tr>\n",
       "\t<tr><th scope=row>102</th><td>/x/x_ab</td><td>100              </td><td>H5I_DATASET</td><td>FLOAT   </td><td>13000 x 50000</td></tr>\n",
       "\t<tr><th scope=row>103</th><td>/x/x_ab</td><td>15               </td><td>H5I_DATASET</td><td>FLOAT   </td><td>13000 x 50000</td></tr>\n",
       "\t<tr><th scope=row>104</th><td>/x/x_ab</td><td>25               </td><td>H5I_DATASET</td><td>FLOAT   </td><td>13000 x 50000</td></tr>\n",
       "\t<tr><th scope=row>105</th><td>/x/x_ab</td><td>50               </td><td>H5I_DATASET</td><td>FLOAT   </td><td>13000 x 50000</td></tr>\n",
       "\t<tr><th scope=row>106</th><td>/x/x_ab</td><td>75               </td><td>H5I_DATASET</td><td>FLOAT   </td><td>13000 x 50000</td></tr>\n",
       "\t<tr><th scope=row>107</th><td>/x     </td><td>x_b              </td><td>H5I_GROUP  </td><td>        </td><td>             </td></tr>\n",
       "\t<tr><th scope=row>108</th><td>/x/x_b </td><td>100              </td><td>H5I_DATASET</td><td>FLOAT   </td><td>13000 x 50000</td></tr>\n",
       "\t<tr><th scope=row>109</th><td>/x/x_b </td><td>15               </td><td>H5I_DATASET</td><td>FLOAT   </td><td>13000 x 50000</td></tr>\n",
       "\t<tr><th scope=row>110</th><td>/x/x_b </td><td>25               </td><td>H5I_DATASET</td><td>FLOAT   </td><td>13000 x 50000</td></tr>\n",
       "\t<tr><th scope=row>111</th><td>/x/x_b </td><td>50               </td><td>H5I_DATASET</td><td>FLOAT   </td><td>13000 x 50000</td></tr>\n",
       "\t<tr><th scope=row>112</th><td>/x/x_b </td><td>75               </td><td>H5I_DATASET</td><td>FLOAT   </td><td>13000 x 50000</td></tr>\n",
       "</tbody>\n",
       "</table>\n"
      ],
      "text/latex": [
       "A data.frame: 113 × 5\n",
       "\\begin{tabular}{r|lllll}\n",
       "  & group & name & otype & dclass & dim\\\\\n",
       "  & <chr> & <chr> & <chr> & <chr> & <chr>\\\\\n",
       "\\hline\n",
       "\t0 & /       & coeffs            & H5I\\_DATASET & COMPOUND & 13000        \\\\\n",
       "\t1 & /       & counts            & H5I\\_GROUP   &          &              \\\\\n",
       "\t2 & /counts & lambda100\\_size0.5 & H5I\\_DATASET & INTEGER  & 13000 x 50000\\\\\n",
       "\t3 & /counts & lambda100\\_size1   & H5I\\_DATASET & INTEGER  & 13000 x 50000\\\\\n",
       "\t4 & /counts & lambda100\\_size3   & H5I\\_DATASET & INTEGER  & 13000 x 50000\\\\\n",
       "\t5 & /counts & lambda100\\_size5   & H5I\\_DATASET & INTEGER  & 13000 x 50000\\\\\n",
       "\t6 & /counts & lambda100\\_size7   & H5I\\_DATASET & INTEGER  & 13000 x 50000\\\\\n",
       "\t7 & /counts & lambda15\\_size0.5  & H5I\\_DATASET & INTEGER  & 13000 x 50000\\\\\n",
       "\t8 & /counts & lambda15\\_size1    & H5I\\_DATASET & INTEGER  & 13000 x 50000\\\\\n",
       "\t9 & /counts & lambda15\\_size3    & H5I\\_DATASET & INTEGER  & 13000 x 50000\\\\\n",
       "\t10 & /counts & lambda15\\_size5    & H5I\\_DATASET & INTEGER  & 13000 x 50000\\\\\n",
       "\t11 & /counts & lambda15\\_size7    & H5I\\_DATASET & INTEGER  & 13000 x 50000\\\\\n",
       "\t12 & /counts & lambda25\\_size0.5  & H5I\\_DATASET & INTEGER  & 13000 x 50000\\\\\n",
       "\t13 & /counts & lambda25\\_size1    & H5I\\_DATASET & INTEGER  & 13000 x 50000\\\\\n",
       "\t14 & /counts & lambda25\\_size3    & H5I\\_DATASET & INTEGER  & 13000 x 50000\\\\\n",
       "\t15 & /counts & lambda25\\_size5    & H5I\\_DATASET & INTEGER  & 13000 x 50000\\\\\n",
       "\t16 & /counts & lambda25\\_size7    & H5I\\_DATASET & INTEGER  & 13000 x 50000\\\\\n",
       "\t17 & /counts & lambda50\\_size0.5  & H5I\\_DATASET & INTEGER  & 13000 x 50000\\\\\n",
       "\t18 & /counts & lambda50\\_size1    & H5I\\_DATASET & INTEGER  & 13000 x 50000\\\\\n",
       "\t19 & /counts & lambda50\\_size3    & H5I\\_DATASET & INTEGER  & 13000 x 50000\\\\\n",
       "\t20 & /counts & lambda50\\_size5    & H5I\\_DATASET & INTEGER  & 13000 x 50000\\\\\n",
       "\t21 & /counts & lambda50\\_size7    & H5I\\_DATASET & INTEGER  & 13000 x 50000\\\\\n",
       "\t22 & /counts & lambda75\\_size0.5  & H5I\\_DATASET & INTEGER  & 13000 x 50000\\\\\n",
       "\t23 & /counts & lambda75\\_size1    & H5I\\_DATASET & INTEGER  & 13000 x 50000\\\\\n",
       "\t24 & /counts & lambda75\\_size3    & H5I\\_DATASET & INTEGER  & 13000 x 50000\\\\\n",
       "\t25 & /counts & lambda75\\_size5    & H5I\\_DATASET & INTEGER  & 13000 x 50000\\\\\n",
       "\t26 & /counts & lambda75\\_size7    & H5I\\_DATASET & INTEGER  & 13000 x 50000\\\\\n",
       "\t27 & /       & effect.sizes      & H5I\\_DATASET & FLOAT    & 5            \\\\\n",
       "\t28 & /       & guides            & H5I\\_GROUP   &          &              \\\\\n",
       "\t29 & /guides & guide\\_target\\_map  & H5I\\_DATASET & COMPOUND & 2000         \\\\\n",
       "\t⋮ & ⋮ & ⋮ & ⋮ & ⋮ & ⋮\\\\\n",
       "\t83 & /mu     & lambda50\\_size5    & H5I\\_DATASET & FLOAT    & 13000 x 50000\\\\\n",
       "\t84 & /mu     & lambda50\\_size7    & H5I\\_DATASET & FLOAT    & 13000 x 50000\\\\\n",
       "\t85 & /mu     & lambda75\\_size0.5  & H5I\\_DATASET & FLOAT    & 13000 x 50000\\\\\n",
       "\t86 & /mu     & lambda75\\_size1    & H5I\\_DATASET & FLOAT    & 13000 x 50000\\\\\n",
       "\t87 & /mu     & lambda75\\_size3    & H5I\\_DATASET & FLOAT    & 13000 x 50000\\\\\n",
       "\t88 & /mu     & lambda75\\_size5    & H5I\\_DATASET & FLOAT    & 13000 x 50000\\\\\n",
       "\t89 & /mu     & lambda75\\_size7    & H5I\\_DATASET & FLOAT    & 13000 x 50000\\\\\n",
       "\t90 & /       & pairs             & H5I\\_DATASET & COMPOUND & 1000         \\\\\n",
       "\t91 & /       & scaling\\_factors   & H5I\\_DATASET & FLOAT    & 50000        \\\\\n",
       "\t92 & /       & x                 & H5I\\_GROUP   &          &              \\\\\n",
       "\t93 & /x      & cell\\_cycle\\_scores & H5I\\_DATASET & COMPOUND & 50000        \\\\\n",
       "\t94 & /x      & percent\\_mito      & H5I\\_DATASET & FLOAT    & 50000        \\\\\n",
       "\t95 & /x      & x\\_a               & H5I\\_GROUP   &          &              \\\\\n",
       "\t96 & /x/x\\_a  & 100               & H5I\\_DATASET & FLOAT    & 13000 x 50000\\\\\n",
       "\t97 & /x/x\\_a  & 15                & H5I\\_DATASET & FLOAT    & 13000 x 50000\\\\\n",
       "\t98 & /x/x\\_a  & 25                & H5I\\_DATASET & FLOAT    & 13000 x 50000\\\\\n",
       "\t99 & /x/x\\_a  & 50                & H5I\\_DATASET & FLOAT    & 13000 x 50000\\\\\n",
       "\t100 & /x/x\\_a  & 75                & H5I\\_DATASET & FLOAT    & 13000 x 50000\\\\\n",
       "\t101 & /x      & x\\_ab              & H5I\\_GROUP   &          &              \\\\\n",
       "\t102 & /x/x\\_ab & 100               & H5I\\_DATASET & FLOAT    & 13000 x 50000\\\\\n",
       "\t103 & /x/x\\_ab & 15                & H5I\\_DATASET & FLOAT    & 13000 x 50000\\\\\n",
       "\t104 & /x/x\\_ab & 25                & H5I\\_DATASET & FLOAT    & 13000 x 50000\\\\\n",
       "\t105 & /x/x\\_ab & 50                & H5I\\_DATASET & FLOAT    & 13000 x 50000\\\\\n",
       "\t106 & /x/x\\_ab & 75                & H5I\\_DATASET & FLOAT    & 13000 x 50000\\\\\n",
       "\t107 & /x      & x\\_b               & H5I\\_GROUP   &          &              \\\\\n",
       "\t108 & /x/x\\_b  & 100               & H5I\\_DATASET & FLOAT    & 13000 x 50000\\\\\n",
       "\t109 & /x/x\\_b  & 15                & H5I\\_DATASET & FLOAT    & 13000 x 50000\\\\\n",
       "\t110 & /x/x\\_b  & 25                & H5I\\_DATASET & FLOAT    & 13000 x 50000\\\\\n",
       "\t111 & /x/x\\_b  & 50                & H5I\\_DATASET & FLOAT    & 13000 x 50000\\\\\n",
       "\t112 & /x/x\\_b  & 75                & H5I\\_DATASET & FLOAT    & 13000 x 50000\\\\\n",
       "\\end{tabular}\n"
      ],
      "text/markdown": [
       "\n",
       "A data.frame: 113 × 5\n",
       "\n",
       "| <!--/--> | group &lt;chr&gt; | name &lt;chr&gt; | otype &lt;chr&gt; | dclass &lt;chr&gt; | dim &lt;chr&gt; |\n",
       "|---|---|---|---|---|---|\n",
       "| 0 | /       | coeffs            | H5I_DATASET | COMPOUND | 13000         |\n",
       "| 1 | /       | counts            | H5I_GROUP   | <!----> | <!----> |\n",
       "| 2 | /counts | lambda100_size0.5 | H5I_DATASET | INTEGER  | 13000 x 50000 |\n",
       "| 3 | /counts | lambda100_size1   | H5I_DATASET | INTEGER  | 13000 x 50000 |\n",
       "| 4 | /counts | lambda100_size3   | H5I_DATASET | INTEGER  | 13000 x 50000 |\n",
       "| 5 | /counts | lambda100_size5   | H5I_DATASET | INTEGER  | 13000 x 50000 |\n",
       "| 6 | /counts | lambda100_size7   | H5I_DATASET | INTEGER  | 13000 x 50000 |\n",
       "| 7 | /counts | lambda15_size0.5  | H5I_DATASET | INTEGER  | 13000 x 50000 |\n",
       "| 8 | /counts | lambda15_size1    | H5I_DATASET | INTEGER  | 13000 x 50000 |\n",
       "| 9 | /counts | lambda15_size3    | H5I_DATASET | INTEGER  | 13000 x 50000 |\n",
       "| 10 | /counts | lambda15_size5    | H5I_DATASET | INTEGER  | 13000 x 50000 |\n",
       "| 11 | /counts | lambda15_size7    | H5I_DATASET | INTEGER  | 13000 x 50000 |\n",
       "| 12 | /counts | lambda25_size0.5  | H5I_DATASET | INTEGER  | 13000 x 50000 |\n",
       "| 13 | /counts | lambda25_size1    | H5I_DATASET | INTEGER  | 13000 x 50000 |\n",
       "| 14 | /counts | lambda25_size3    | H5I_DATASET | INTEGER  | 13000 x 50000 |\n",
       "| 15 | /counts | lambda25_size5    | H5I_DATASET | INTEGER  | 13000 x 50000 |\n",
       "| 16 | /counts | lambda25_size7    | H5I_DATASET | INTEGER  | 13000 x 50000 |\n",
       "| 17 | /counts | lambda50_size0.5  | H5I_DATASET | INTEGER  | 13000 x 50000 |\n",
       "| 18 | /counts | lambda50_size1    | H5I_DATASET | INTEGER  | 13000 x 50000 |\n",
       "| 19 | /counts | lambda50_size3    | H5I_DATASET | INTEGER  | 13000 x 50000 |\n",
       "| 20 | /counts | lambda50_size5    | H5I_DATASET | INTEGER  | 13000 x 50000 |\n",
       "| 21 | /counts | lambda50_size7    | H5I_DATASET | INTEGER  | 13000 x 50000 |\n",
       "| 22 | /counts | lambda75_size0.5  | H5I_DATASET | INTEGER  | 13000 x 50000 |\n",
       "| 23 | /counts | lambda75_size1    | H5I_DATASET | INTEGER  | 13000 x 50000 |\n",
       "| 24 | /counts | lambda75_size3    | H5I_DATASET | INTEGER  | 13000 x 50000 |\n",
       "| 25 | /counts | lambda75_size5    | H5I_DATASET | INTEGER  | 13000 x 50000 |\n",
       "| 26 | /counts | lambda75_size7    | H5I_DATASET | INTEGER  | 13000 x 50000 |\n",
       "| 27 | /       | effect.sizes      | H5I_DATASET | FLOAT    | 5             |\n",
       "| 28 | /       | guides            | H5I_GROUP   | <!----> | <!----> |\n",
       "| 29 | /guides | guide_target_map  | H5I_DATASET | COMPOUND | 2000          |\n",
       "| ⋮ | ⋮ | ⋮ | ⋮ | ⋮ | ⋮ |\n",
       "| 83 | /mu     | lambda50_size5    | H5I_DATASET | FLOAT    | 13000 x 50000 |\n",
       "| 84 | /mu     | lambda50_size7    | H5I_DATASET | FLOAT    | 13000 x 50000 |\n",
       "| 85 | /mu     | lambda75_size0.5  | H5I_DATASET | FLOAT    | 13000 x 50000 |\n",
       "| 86 | /mu     | lambda75_size1    | H5I_DATASET | FLOAT    | 13000 x 50000 |\n",
       "| 87 | /mu     | lambda75_size3    | H5I_DATASET | FLOAT    | 13000 x 50000 |\n",
       "| 88 | /mu     | lambda75_size5    | H5I_DATASET | FLOAT    | 13000 x 50000 |\n",
       "| 89 | /mu     | lambda75_size7    | H5I_DATASET | FLOAT    | 13000 x 50000 |\n",
       "| 90 | /       | pairs             | H5I_DATASET | COMPOUND | 1000          |\n",
       "| 91 | /       | scaling_factors   | H5I_DATASET | FLOAT    | 50000         |\n",
       "| 92 | /       | x                 | H5I_GROUP   | <!----> | <!----> |\n",
       "| 93 | /x      | cell_cycle_scores | H5I_DATASET | COMPOUND | 50000         |\n",
       "| 94 | /x      | percent_mito      | H5I_DATASET | FLOAT    | 50000         |\n",
       "| 95 | /x      | x_a               | H5I_GROUP   | <!----> | <!----> |\n",
       "| 96 | /x/x_a  | 100               | H5I_DATASET | FLOAT    | 13000 x 50000 |\n",
       "| 97 | /x/x_a  | 15                | H5I_DATASET | FLOAT    | 13000 x 50000 |\n",
       "| 98 | /x/x_a  | 25                | H5I_DATASET | FLOAT    | 13000 x 50000 |\n",
       "| 99 | /x/x_a  | 50                | H5I_DATASET | FLOAT    | 13000 x 50000 |\n",
       "| 100 | /x/x_a  | 75                | H5I_DATASET | FLOAT    | 13000 x 50000 |\n",
       "| 101 | /x      | x_ab              | H5I_GROUP   | <!----> | <!----> |\n",
       "| 102 | /x/x_ab | 100               | H5I_DATASET | FLOAT    | 13000 x 50000 |\n",
       "| 103 | /x/x_ab | 15                | H5I_DATASET | FLOAT    | 13000 x 50000 |\n",
       "| 104 | /x/x_ab | 25                | H5I_DATASET | FLOAT    | 13000 x 50000 |\n",
       "| 105 | /x/x_ab | 50                | H5I_DATASET | FLOAT    | 13000 x 50000 |\n",
       "| 106 | /x/x_ab | 75                | H5I_DATASET | FLOAT    | 13000 x 50000 |\n",
       "| 107 | /x      | x_b               | H5I_GROUP   | <!----> | <!----> |\n",
       "| 108 | /x/x_b  | 100               | H5I_DATASET | FLOAT    | 13000 x 50000 |\n",
       "| 109 | /x/x_b  | 15                | H5I_DATASET | FLOAT    | 13000 x 50000 |\n",
       "| 110 | /x/x_b  | 25                | H5I_DATASET | FLOAT    | 13000 x 50000 |\n",
       "| 111 | /x/x_b  | 50                | H5I_DATASET | FLOAT    | 13000 x 50000 |\n",
       "| 112 | /x/x_b  | 75                | H5I_DATASET | FLOAT    | 13000 x 50000 |\n",
       "\n"
      ],
      "text/plain": [
       "    group   name              otype       dclass   dim          \n",
       "0   /       coeffs            H5I_DATASET COMPOUND 13000        \n",
       "1   /       counts            H5I_GROUP                         \n",
       "2   /counts lambda100_size0.5 H5I_DATASET INTEGER  13000 x 50000\n",
       "3   /counts lambda100_size1   H5I_DATASET INTEGER  13000 x 50000\n",
       "4   /counts lambda100_size3   H5I_DATASET INTEGER  13000 x 50000\n",
       "5   /counts lambda100_size5   H5I_DATASET INTEGER  13000 x 50000\n",
       "6   /counts lambda100_size7   H5I_DATASET INTEGER  13000 x 50000\n",
       "7   /counts lambda15_size0.5  H5I_DATASET INTEGER  13000 x 50000\n",
       "8   /counts lambda15_size1    H5I_DATASET INTEGER  13000 x 50000\n",
       "9   /counts lambda15_size3    H5I_DATASET INTEGER  13000 x 50000\n",
       "10  /counts lambda15_size5    H5I_DATASET INTEGER  13000 x 50000\n",
       "11  /counts lambda15_size7    H5I_DATASET INTEGER  13000 x 50000\n",
       "12  /counts lambda25_size0.5  H5I_DATASET INTEGER  13000 x 50000\n",
       "13  /counts lambda25_size1    H5I_DATASET INTEGER  13000 x 50000\n",
       "14  /counts lambda25_size3    H5I_DATASET INTEGER  13000 x 50000\n",
       "15  /counts lambda25_size5    H5I_DATASET INTEGER  13000 x 50000\n",
       "16  /counts lambda25_size7    H5I_DATASET INTEGER  13000 x 50000\n",
       "17  /counts lambda50_size0.5  H5I_DATASET INTEGER  13000 x 50000\n",
       "18  /counts lambda50_size1    H5I_DATASET INTEGER  13000 x 50000\n",
       "19  /counts lambda50_size3    H5I_DATASET INTEGER  13000 x 50000\n",
       "20  /counts lambda50_size5    H5I_DATASET INTEGER  13000 x 50000\n",
       "21  /counts lambda50_size7    H5I_DATASET INTEGER  13000 x 50000\n",
       "22  /counts lambda75_size0.5  H5I_DATASET INTEGER  13000 x 50000\n",
       "23  /counts lambda75_size1    H5I_DATASET INTEGER  13000 x 50000\n",
       "24  /counts lambda75_size3    H5I_DATASET INTEGER  13000 x 50000\n",
       "25  /counts lambda75_size5    H5I_DATASET INTEGER  13000 x 50000\n",
       "26  /counts lambda75_size7    H5I_DATASET INTEGER  13000 x 50000\n",
       "27  /       effect.sizes      H5I_DATASET FLOAT    5            \n",
       "28  /       guides            H5I_GROUP                         \n",
       "29  /guides guide_target_map  H5I_DATASET COMPOUND 2000         \n",
       "⋮   ⋮       ⋮                 ⋮           ⋮        ⋮            \n",
       "83  /mu     lambda50_size5    H5I_DATASET FLOAT    13000 x 50000\n",
       "84  /mu     lambda50_size7    H5I_DATASET FLOAT    13000 x 50000\n",
       "85  /mu     lambda75_size0.5  H5I_DATASET FLOAT    13000 x 50000\n",
       "86  /mu     lambda75_size1    H5I_DATASET FLOAT    13000 x 50000\n",
       "87  /mu     lambda75_size3    H5I_DATASET FLOAT    13000 x 50000\n",
       "88  /mu     lambda75_size5    H5I_DATASET FLOAT    13000 x 50000\n",
       "89  /mu     lambda75_size7    H5I_DATASET FLOAT    13000 x 50000\n",
       "90  /       pairs             H5I_DATASET COMPOUND 1000         \n",
       "91  /       scaling_factors   H5I_DATASET FLOAT    50000        \n",
       "92  /       x                 H5I_GROUP                         \n",
       "93  /x      cell_cycle_scores H5I_DATASET COMPOUND 50000        \n",
       "94  /x      percent_mito      H5I_DATASET FLOAT    50000        \n",
       "95  /x      x_a               H5I_GROUP                         \n",
       "96  /x/x_a  100               H5I_DATASET FLOAT    13000 x 50000\n",
       "97  /x/x_a  15                H5I_DATASET FLOAT    13000 x 50000\n",
       "98  /x/x_a  25                H5I_DATASET FLOAT    13000 x 50000\n",
       "99  /x/x_a  50                H5I_DATASET FLOAT    13000 x 50000\n",
       "100 /x/x_a  75                H5I_DATASET FLOAT    13000 x 50000\n",
       "101 /x      x_ab              H5I_GROUP                         \n",
       "102 /x/x_ab 100               H5I_DATASET FLOAT    13000 x 50000\n",
       "103 /x/x_ab 15                H5I_DATASET FLOAT    13000 x 50000\n",
       "104 /x/x_ab 25                H5I_DATASET FLOAT    13000 x 50000\n",
       "105 /x/x_ab 50                H5I_DATASET FLOAT    13000 x 50000\n",
       "106 /x/x_ab 75                H5I_DATASET FLOAT    13000 x 50000\n",
       "107 /x      x_b               H5I_GROUP                         \n",
       "108 /x/x_b  100               H5I_DATASET FLOAT    13000 x 50000\n",
       "109 /x/x_b  15                H5I_DATASET FLOAT    13000 x 50000\n",
       "110 /x/x_b  25                H5I_DATASET FLOAT    13000 x 50000\n",
       "111 /x/x_b  50                H5I_DATASET FLOAT    13000 x 50000\n",
       "112 /x/x_b  75                H5I_DATASET FLOAT    13000 x 50000"
      ]
     },
     "metadata": {},
     "output_type": "display_data"
    }
   ],
   "source": [
    "fh <- \"/iblm/netapp/data1/jezhou/crisprQTL/simulated_data_interactions_2guides_power_analysis_01-09-2023/sim.h5\"\n",
    "h5ls(fh)"
   ]
  },
  {
   "cell_type": "code",
   "execution_count": 3,
   "id": "3d78f03b",
   "metadata": {},
   "outputs": [
    {
     "data": {
      "text/html": [
       "<style>\n",
       ".list-inline {list-style: none; margin:0; padding: 0}\n",
       ".list-inline>li {display: inline-block}\n",
       ".list-inline>li:not(:last-child)::after {content: \"\\00b7\"; padding: 0 .5ex}\n",
       "</style>\n",
       "<ol class=list-inline><li>0.5</li><li>1</li><li>3</li><li>5</li><li>7</li></ol>\n"
      ],
      "text/latex": [
       "\\begin{enumerate*}\n",
       "\\item 0.5\n",
       "\\item 1\n",
       "\\item 3\n",
       "\\item 5\n",
       "\\item 7\n",
       "\\end{enumerate*}\n"
      ],
      "text/markdown": [
       "1. 0.5\n",
       "2. 1\n",
       "3. 3\n",
       "4. 5\n",
       "5. 7\n",
       "\n",
       "\n"
      ],
      "text/plain": [
       "[1] 0.5 1.0 3.0 5.0 7.0"
      ]
     },
     "metadata": {},
     "output_type": "display_data"
    }
   ],
   "source": [
    "h5read(fh, \"effect.sizes\")"
   ]
  },
  {
   "cell_type": "code",
   "execution_count": null,
   "id": "d31a9695",
   "metadata": {},
   "outputs": [],
   "source": []
  },
  {
   "cell_type": "code",
   "execution_count": 4,
   "id": "0dc3a7fa",
   "metadata": {},
   "outputs": [],
   "source": [
    "one.hot.guides <- h5read(fh, \"guides/one_hot\")"
   ]
  },
  {
   "cell_type": "code",
   "execution_count": 5,
   "id": "c3629e1c",
   "metadata": {},
   "outputs": [
    {
     "data": {
      "text/html": [
       "<table class=\"dataframe\">\n",
       "<caption>A matrix: 50000 × 2000 of type int</caption>\n",
       "<tbody>\n",
       "\t<tr><td>0</td><td>0</td><td>0</td><td>0</td><td>0</td><td>0</td><td>0</td><td>0</td><td>0</td><td>0</td><td>⋯</td><td>0</td><td>0</td><td>0</td><td>0</td><td>0</td><td>0</td><td>0</td><td>0</td><td>0</td><td>0</td></tr>\n",
       "\t<tr><td>0</td><td>0</td><td>0</td><td>0</td><td>0</td><td>0</td><td>0</td><td>0</td><td>0</td><td>0</td><td>⋯</td><td>0</td><td>0</td><td>0</td><td>0</td><td>0</td><td>0</td><td>0</td><td>0</td><td>0</td><td>0</td></tr>\n",
       "\t<tr><td>0</td><td>0</td><td>0</td><td>0</td><td>0</td><td>0</td><td>0</td><td>0</td><td>0</td><td>0</td><td>⋯</td><td>0</td><td>0</td><td>0</td><td>0</td><td>0</td><td>0</td><td>0</td><td>0</td><td>0</td><td>0</td></tr>\n",
       "\t<tr><td>0</td><td>0</td><td>0</td><td>0</td><td>0</td><td>0</td><td>0</td><td>0</td><td>0</td><td>0</td><td>⋯</td><td>0</td><td>0</td><td>0</td><td>0</td><td>0</td><td>0</td><td>0</td><td>0</td><td>0</td><td>0</td></tr>\n",
       "\t<tr><td>0</td><td>0</td><td>0</td><td>0</td><td>0</td><td>0</td><td>0</td><td>0</td><td>0</td><td>0</td><td>⋯</td><td>0</td><td>0</td><td>0</td><td>0</td><td>0</td><td>0</td><td>0</td><td>0</td><td>0</td><td>0</td></tr>\n",
       "\t<tr><td>0</td><td>0</td><td>0</td><td>0</td><td>0</td><td>0</td><td>0</td><td>0</td><td>0</td><td>0</td><td>⋯</td><td>0</td><td>0</td><td>0</td><td>0</td><td>0</td><td>0</td><td>0</td><td>0</td><td>0</td><td>0</td></tr>\n",
       "\t<tr><td>0</td><td>0</td><td>0</td><td>0</td><td>0</td><td>0</td><td>0</td><td>0</td><td>0</td><td>1</td><td>⋯</td><td>1</td><td>0</td><td>0</td><td>0</td><td>0</td><td>0</td><td>0</td><td>0</td><td>0</td><td>0</td></tr>\n",
       "\t<tr><td>0</td><td>0</td><td>0</td><td>0</td><td>0</td><td>0</td><td>0</td><td>0</td><td>0</td><td>0</td><td>⋯</td><td>0</td><td>0</td><td>0</td><td>0</td><td>0</td><td>0</td><td>0</td><td>0</td><td>0</td><td>0</td></tr>\n",
       "\t<tr><td>0</td><td>0</td><td>0</td><td>0</td><td>0</td><td>0</td><td>0</td><td>0</td><td>0</td><td>0</td><td>⋯</td><td>0</td><td>0</td><td>0</td><td>1</td><td>0</td><td>0</td><td>0</td><td>0</td><td>0</td><td>0</td></tr>\n",
       "\t<tr><td>0</td><td>0</td><td>0</td><td>0</td><td>0</td><td>0</td><td>0</td><td>0</td><td>0</td><td>0</td><td>⋯</td><td>0</td><td>0</td><td>0</td><td>0</td><td>0</td><td>0</td><td>0</td><td>0</td><td>0</td><td>0</td></tr>\n",
       "\t<tr><td>0</td><td>0</td><td>0</td><td>0</td><td>0</td><td>0</td><td>0</td><td>0</td><td>0</td><td>0</td><td>⋯</td><td>0</td><td>0</td><td>0</td><td>0</td><td>0</td><td>0</td><td>0</td><td>0</td><td>0</td><td>0</td></tr>\n",
       "\t<tr><td>0</td><td>0</td><td>0</td><td>0</td><td>0</td><td>0</td><td>0</td><td>0</td><td>0</td><td>0</td><td>⋯</td><td>0</td><td>0</td><td>0</td><td>0</td><td>0</td><td>0</td><td>0</td><td>0</td><td>0</td><td>0</td></tr>\n",
       "\t<tr><td>0</td><td>0</td><td>0</td><td>0</td><td>0</td><td>1</td><td>0</td><td>0</td><td>0</td><td>0</td><td>⋯</td><td>0</td><td>0</td><td>0</td><td>0</td><td>0</td><td>0</td><td>0</td><td>0</td><td>0</td><td>0</td></tr>\n",
       "\t<tr><td>0</td><td>0</td><td>0</td><td>0</td><td>0</td><td>0</td><td>0</td><td>0</td><td>0</td><td>0</td><td>⋯</td><td>0</td><td>0</td><td>0</td><td>0</td><td>0</td><td>0</td><td>0</td><td>0</td><td>0</td><td>0</td></tr>\n",
       "\t<tr><td>0</td><td>0</td><td>0</td><td>0</td><td>0</td><td>0</td><td>0</td><td>0</td><td>0</td><td>0</td><td>⋯</td><td>0</td><td>0</td><td>0</td><td>0</td><td>0</td><td>0</td><td>0</td><td>0</td><td>0</td><td>0</td></tr>\n",
       "\t<tr><td>0</td><td>0</td><td>0</td><td>0</td><td>0</td><td>0</td><td>0</td><td>0</td><td>0</td><td>0</td><td>⋯</td><td>0</td><td>0</td><td>0</td><td>0</td><td>0</td><td>0</td><td>0</td><td>0</td><td>0</td><td>0</td></tr>\n",
       "\t<tr><td>0</td><td>0</td><td>0</td><td>0</td><td>0</td><td>0</td><td>0</td><td>0</td><td>0</td><td>0</td><td>⋯</td><td>0</td><td>0</td><td>0</td><td>0</td><td>0</td><td>0</td><td>0</td><td>0</td><td>0</td><td>0</td></tr>\n",
       "\t<tr><td>0</td><td>0</td><td>0</td><td>0</td><td>0</td><td>0</td><td>0</td><td>0</td><td>0</td><td>0</td><td>⋯</td><td>0</td><td>0</td><td>0</td><td>0</td><td>0</td><td>0</td><td>0</td><td>0</td><td>0</td><td>0</td></tr>\n",
       "\t<tr><td>0</td><td>0</td><td>0</td><td>0</td><td>0</td><td>0</td><td>0</td><td>0</td><td>0</td><td>0</td><td>⋯</td><td>0</td><td>0</td><td>0</td><td>0</td><td>0</td><td>0</td><td>0</td><td>0</td><td>0</td><td>0</td></tr>\n",
       "\t<tr><td>0</td><td>0</td><td>0</td><td>0</td><td>0</td><td>0</td><td>0</td><td>0</td><td>0</td><td>0</td><td>⋯</td><td>0</td><td>0</td><td>0</td><td>0</td><td>0</td><td>0</td><td>0</td><td>0</td><td>0</td><td>0</td></tr>\n",
       "\t<tr><td>0</td><td>0</td><td>0</td><td>0</td><td>0</td><td>0</td><td>0</td><td>0</td><td>0</td><td>0</td><td>⋯</td><td>0</td><td>0</td><td>0</td><td>0</td><td>0</td><td>0</td><td>0</td><td>0</td><td>0</td><td>0</td></tr>\n",
       "\t<tr><td>0</td><td>0</td><td>0</td><td>0</td><td>0</td><td>0</td><td>0</td><td>0</td><td>0</td><td>0</td><td>⋯</td><td>0</td><td>0</td><td>0</td><td>0</td><td>0</td><td>0</td><td>0</td><td>0</td><td>0</td><td>0</td></tr>\n",
       "\t<tr><td>0</td><td>0</td><td>0</td><td>0</td><td>0</td><td>0</td><td>0</td><td>0</td><td>0</td><td>0</td><td>⋯</td><td>0</td><td>0</td><td>0</td><td>0</td><td>0</td><td>0</td><td>0</td><td>0</td><td>0</td><td>0</td></tr>\n",
       "\t<tr><td>0</td><td>0</td><td>0</td><td>0</td><td>0</td><td>0</td><td>0</td><td>0</td><td>0</td><td>0</td><td>⋯</td><td>0</td><td>0</td><td>0</td><td>0</td><td>0</td><td>0</td><td>0</td><td>0</td><td>0</td><td>0</td></tr>\n",
       "\t<tr><td>0</td><td>0</td><td>0</td><td>0</td><td>0</td><td>0</td><td>0</td><td>0</td><td>0</td><td>0</td><td>⋯</td><td>0</td><td>0</td><td>0</td><td>0</td><td>0</td><td>0</td><td>0</td><td>0</td><td>0</td><td>0</td></tr>\n",
       "\t<tr><td>0</td><td>0</td><td>0</td><td>0</td><td>0</td><td>0</td><td>0</td><td>0</td><td>0</td><td>0</td><td>⋯</td><td>0</td><td>0</td><td>0</td><td>0</td><td>0</td><td>0</td><td>0</td><td>0</td><td>0</td><td>0</td></tr>\n",
       "\t<tr><td>0</td><td>0</td><td>0</td><td>0</td><td>0</td><td>0</td><td>0</td><td>0</td><td>0</td><td>0</td><td>⋯</td><td>0</td><td>0</td><td>0</td><td>0</td><td>0</td><td>0</td><td>0</td><td>0</td><td>0</td><td>0</td></tr>\n",
       "\t<tr><td>0</td><td>0</td><td>0</td><td>0</td><td>0</td><td>0</td><td>0</td><td>0</td><td>0</td><td>0</td><td>⋯</td><td>0</td><td>0</td><td>0</td><td>0</td><td>0</td><td>0</td><td>0</td><td>0</td><td>0</td><td>0</td></tr>\n",
       "\t<tr><td>0</td><td>0</td><td>0</td><td>0</td><td>0</td><td>0</td><td>0</td><td>0</td><td>0</td><td>0</td><td>⋯</td><td>0</td><td>0</td><td>0</td><td>0</td><td>0</td><td>0</td><td>0</td><td>0</td><td>0</td><td>0</td></tr>\n",
       "\t<tr><td>0</td><td>0</td><td>0</td><td>0</td><td>0</td><td>0</td><td>0</td><td>0</td><td>0</td><td>0</td><td>⋯</td><td>0</td><td>0</td><td>0</td><td>0</td><td>0</td><td>0</td><td>0</td><td>0</td><td>0</td><td>0</td></tr>\n",
       "\t<tr><td>⋮</td><td>⋮</td><td>⋮</td><td>⋮</td><td>⋮</td><td>⋮</td><td>⋮</td><td>⋮</td><td>⋮</td><td>⋮</td><td>⋱</td><td>⋮</td><td>⋮</td><td>⋮</td><td>⋮</td><td>⋮</td><td>⋮</td><td>⋮</td><td>⋮</td><td>⋮</td><td>⋮</td></tr>\n",
       "\t<tr><td>0</td><td>0</td><td>0</td><td>0</td><td>0</td><td>0</td><td>0</td><td>0</td><td>0</td><td>0</td><td>⋯</td><td>0</td><td>0</td><td>0</td><td>0</td><td>0</td><td>0</td><td>0</td><td>0</td><td>0</td><td>0</td></tr>\n",
       "\t<tr><td>0</td><td>0</td><td>0</td><td>0</td><td>0</td><td>0</td><td>0</td><td>0</td><td>0</td><td>0</td><td>⋯</td><td>0</td><td>0</td><td>0</td><td>0</td><td>0</td><td>0</td><td>0</td><td>0</td><td>0</td><td>0</td></tr>\n",
       "\t<tr><td>0</td><td>0</td><td>0</td><td>0</td><td>0</td><td>0</td><td>0</td><td>0</td><td>0</td><td>0</td><td>⋯</td><td>0</td><td>0</td><td>0</td><td>0</td><td>0</td><td>0</td><td>0</td><td>0</td><td>0</td><td>0</td></tr>\n",
       "\t<tr><td>0</td><td>0</td><td>0</td><td>0</td><td>0</td><td>0</td><td>0</td><td>0</td><td>0</td><td>0</td><td>⋯</td><td>0</td><td>0</td><td>0</td><td>0</td><td>0</td><td>0</td><td>0</td><td>0</td><td>0</td><td>0</td></tr>\n",
       "\t<tr><td>0</td><td>0</td><td>0</td><td>0</td><td>0</td><td>1</td><td>0</td><td>0</td><td>1</td><td>0</td><td>⋯</td><td>0</td><td>0</td><td>0</td><td>0</td><td>0</td><td>0</td><td>0</td><td>0</td><td>0</td><td>0</td></tr>\n",
       "\t<tr><td>0</td><td>0</td><td>0</td><td>0</td><td>0</td><td>0</td><td>0</td><td>0</td><td>0</td><td>0</td><td>⋯</td><td>0</td><td>0</td><td>0</td><td>0</td><td>0</td><td>0</td><td>0</td><td>0</td><td>0</td><td>0</td></tr>\n",
       "\t<tr><td>0</td><td>0</td><td>0</td><td>0</td><td>0</td><td>0</td><td>0</td><td>0</td><td>0</td><td>0</td><td>⋯</td><td>0</td><td>0</td><td>0</td><td>0</td><td>0</td><td>0</td><td>0</td><td>0</td><td>0</td><td>0</td></tr>\n",
       "\t<tr><td>0</td><td>0</td><td>0</td><td>0</td><td>0</td><td>0</td><td>0</td><td>0</td><td>0</td><td>0</td><td>⋯</td><td>0</td><td>0</td><td>0</td><td>0</td><td>0</td><td>0</td><td>0</td><td>0</td><td>0</td><td>0</td></tr>\n",
       "\t<tr><td>0</td><td>0</td><td>0</td><td>0</td><td>0</td><td>0</td><td>0</td><td>0</td><td>0</td><td>0</td><td>⋯</td><td>0</td><td>0</td><td>0</td><td>0</td><td>0</td><td>0</td><td>0</td><td>0</td><td>0</td><td>0</td></tr>\n",
       "\t<tr><td>0</td><td>0</td><td>0</td><td>0</td><td>0</td><td>0</td><td>0</td><td>0</td><td>0</td><td>0</td><td>⋯</td><td>0</td><td>0</td><td>0</td><td>0</td><td>0</td><td>0</td><td>0</td><td>0</td><td>0</td><td>0</td></tr>\n",
       "\t<tr><td>0</td><td>0</td><td>0</td><td>0</td><td>0</td><td>0</td><td>0</td><td>0</td><td>0</td><td>0</td><td>⋯</td><td>0</td><td>0</td><td>0</td><td>0</td><td>0</td><td>0</td><td>0</td><td>0</td><td>0</td><td>0</td></tr>\n",
       "\t<tr><td>1</td><td>0</td><td>0</td><td>0</td><td>0</td><td>0</td><td>0</td><td>0</td><td>0</td><td>0</td><td>⋯</td><td>0</td><td>0</td><td>0</td><td>0</td><td>0</td><td>0</td><td>0</td><td>0</td><td>0</td><td>0</td></tr>\n",
       "\t<tr><td>0</td><td>0</td><td>0</td><td>0</td><td>0</td><td>0</td><td>0</td><td>0</td><td>0</td><td>0</td><td>⋯</td><td>0</td><td>0</td><td>0</td><td>0</td><td>0</td><td>0</td><td>0</td><td>0</td><td>0</td><td>0</td></tr>\n",
       "\t<tr><td>0</td><td>0</td><td>0</td><td>0</td><td>0</td><td>0</td><td>0</td><td>0</td><td>0</td><td>0</td><td>⋯</td><td>0</td><td>0</td><td>0</td><td>0</td><td>0</td><td>0</td><td>0</td><td>0</td><td>0</td><td>0</td></tr>\n",
       "\t<tr><td>0</td><td>0</td><td>0</td><td>0</td><td>0</td><td>0</td><td>0</td><td>0</td><td>0</td><td>0</td><td>⋯</td><td>0</td><td>0</td><td>1</td><td>0</td><td>0</td><td>0</td><td>0</td><td>0</td><td>0</td><td>0</td></tr>\n",
       "\t<tr><td>0</td><td>0</td><td>1</td><td>0</td><td>0</td><td>0</td><td>0</td><td>0</td><td>0</td><td>0</td><td>⋯</td><td>0</td><td>0</td><td>0</td><td>0</td><td>0</td><td>0</td><td>0</td><td>0</td><td>0</td><td>0</td></tr>\n",
       "\t<tr><td>0</td><td>0</td><td>0</td><td>0</td><td>0</td><td>0</td><td>0</td><td>0</td><td>0</td><td>0</td><td>⋯</td><td>0</td><td>0</td><td>0</td><td>0</td><td>0</td><td>0</td><td>0</td><td>0</td><td>0</td><td>0</td></tr>\n",
       "\t<tr><td>0</td><td>0</td><td>0</td><td>0</td><td>0</td><td>0</td><td>0</td><td>0</td><td>0</td><td>0</td><td>⋯</td><td>0</td><td>0</td><td>0</td><td>0</td><td>0</td><td>0</td><td>0</td><td>0</td><td>0</td><td>0</td></tr>\n",
       "\t<tr><td>0</td><td>0</td><td>0</td><td>0</td><td>0</td><td>0</td><td>0</td><td>0</td><td>0</td><td>0</td><td>⋯</td><td>0</td><td>0</td><td>0</td><td>0</td><td>0</td><td>0</td><td>0</td><td>0</td><td>0</td><td>0</td></tr>\n",
       "\t<tr><td>0</td><td>0</td><td>0</td><td>0</td><td>0</td><td>0</td><td>0</td><td>0</td><td>0</td><td>0</td><td>⋯</td><td>0</td><td>0</td><td>0</td><td>0</td><td>0</td><td>0</td><td>0</td><td>0</td><td>0</td><td>0</td></tr>\n",
       "\t<tr><td>0</td><td>0</td><td>0</td><td>0</td><td>0</td><td>0</td><td>0</td><td>0</td><td>0</td><td>0</td><td>⋯</td><td>0</td><td>0</td><td>0</td><td>0</td><td>0</td><td>0</td><td>0</td><td>0</td><td>0</td><td>0</td></tr>\n",
       "\t<tr><td>0</td><td>0</td><td>0</td><td>0</td><td>0</td><td>0</td><td>0</td><td>0</td><td>0</td><td>0</td><td>⋯</td><td>0</td><td>0</td><td>0</td><td>0</td><td>0</td><td>0</td><td>0</td><td>0</td><td>0</td><td>0</td></tr>\n",
       "\t<tr><td>0</td><td>0</td><td>0</td><td>0</td><td>0</td><td>1</td><td>0</td><td>0</td><td>0</td><td>0</td><td>⋯</td><td>0</td><td>0</td><td>0</td><td>0</td><td>0</td><td>0</td><td>0</td><td>0</td><td>0</td><td>0</td></tr>\n",
       "\t<tr><td>0</td><td>0</td><td>0</td><td>0</td><td>0</td><td>0</td><td>0</td><td>0</td><td>0</td><td>0</td><td>⋯</td><td>0</td><td>0</td><td>0</td><td>0</td><td>0</td><td>0</td><td>0</td><td>0</td><td>0</td><td>0</td></tr>\n",
       "\t<tr><td>0</td><td>0</td><td>0</td><td>0</td><td>0</td><td>0</td><td>0</td><td>0</td><td>0</td><td>0</td><td>⋯</td><td>0</td><td>0</td><td>0</td><td>0</td><td>0</td><td>0</td><td>0</td><td>0</td><td>0</td><td>0</td></tr>\n",
       "\t<tr><td>0</td><td>0</td><td>0</td><td>0</td><td>0</td><td>0</td><td>0</td><td>0</td><td>0</td><td>0</td><td>⋯</td><td>0</td><td>0</td><td>0</td><td>0</td><td>0</td><td>0</td><td>0</td><td>0</td><td>0</td><td>0</td></tr>\n",
       "\t<tr><td>0</td><td>0</td><td>0</td><td>0</td><td>0</td><td>0</td><td>0</td><td>0</td><td>0</td><td>1</td><td>⋯</td><td>0</td><td>0</td><td>0</td><td>0</td><td>0</td><td>0</td><td>0</td><td>0</td><td>0</td><td>0</td></tr>\n",
       "\t<tr><td>0</td><td>0</td><td>0</td><td>0</td><td>0</td><td>0</td><td>0</td><td>0</td><td>0</td><td>0</td><td>⋯</td><td>0</td><td>0</td><td>0</td><td>0</td><td>0</td><td>0</td><td>0</td><td>0</td><td>0</td><td>0</td></tr>\n",
       "\t<tr><td>0</td><td>0</td><td>0</td><td>0</td><td>0</td><td>0</td><td>0</td><td>0</td><td>0</td><td>0</td><td>⋯</td><td>0</td><td>0</td><td>0</td><td>0</td><td>0</td><td>0</td><td>0</td><td>0</td><td>0</td><td>0</td></tr>\n",
       "\t<tr><td>0</td><td>0</td><td>0</td><td>0</td><td>0</td><td>0</td><td>0</td><td>0</td><td>0</td><td>0</td><td>⋯</td><td>0</td><td>0</td><td>0</td><td>0</td><td>0</td><td>0</td><td>0</td><td>0</td><td>0</td><td>0</td></tr>\n",
       "</tbody>\n",
       "</table>\n"
      ],
      "text/latex": [
       "A matrix: 50000 × 2000 of type int\n",
       "\\begin{tabular}{lllllllllllllllllllll}\n",
       "\t 0 & 0 & 0 & 0 & 0 & 0 & 0 & 0 & 0 & 0 & ⋯ & 0 & 0 & 0 & 0 & 0 & 0 & 0 & 0 & 0 & 0\\\\\n",
       "\t 0 & 0 & 0 & 0 & 0 & 0 & 0 & 0 & 0 & 0 & ⋯ & 0 & 0 & 0 & 0 & 0 & 0 & 0 & 0 & 0 & 0\\\\\n",
       "\t 0 & 0 & 0 & 0 & 0 & 0 & 0 & 0 & 0 & 0 & ⋯ & 0 & 0 & 0 & 0 & 0 & 0 & 0 & 0 & 0 & 0\\\\\n",
       "\t 0 & 0 & 0 & 0 & 0 & 0 & 0 & 0 & 0 & 0 & ⋯ & 0 & 0 & 0 & 0 & 0 & 0 & 0 & 0 & 0 & 0\\\\\n",
       "\t 0 & 0 & 0 & 0 & 0 & 0 & 0 & 0 & 0 & 0 & ⋯ & 0 & 0 & 0 & 0 & 0 & 0 & 0 & 0 & 0 & 0\\\\\n",
       "\t 0 & 0 & 0 & 0 & 0 & 0 & 0 & 0 & 0 & 0 & ⋯ & 0 & 0 & 0 & 0 & 0 & 0 & 0 & 0 & 0 & 0\\\\\n",
       "\t 0 & 0 & 0 & 0 & 0 & 0 & 0 & 0 & 0 & 1 & ⋯ & 1 & 0 & 0 & 0 & 0 & 0 & 0 & 0 & 0 & 0\\\\\n",
       "\t 0 & 0 & 0 & 0 & 0 & 0 & 0 & 0 & 0 & 0 & ⋯ & 0 & 0 & 0 & 0 & 0 & 0 & 0 & 0 & 0 & 0\\\\\n",
       "\t 0 & 0 & 0 & 0 & 0 & 0 & 0 & 0 & 0 & 0 & ⋯ & 0 & 0 & 0 & 1 & 0 & 0 & 0 & 0 & 0 & 0\\\\\n",
       "\t 0 & 0 & 0 & 0 & 0 & 0 & 0 & 0 & 0 & 0 & ⋯ & 0 & 0 & 0 & 0 & 0 & 0 & 0 & 0 & 0 & 0\\\\\n",
       "\t 0 & 0 & 0 & 0 & 0 & 0 & 0 & 0 & 0 & 0 & ⋯ & 0 & 0 & 0 & 0 & 0 & 0 & 0 & 0 & 0 & 0\\\\\n",
       "\t 0 & 0 & 0 & 0 & 0 & 0 & 0 & 0 & 0 & 0 & ⋯ & 0 & 0 & 0 & 0 & 0 & 0 & 0 & 0 & 0 & 0\\\\\n",
       "\t 0 & 0 & 0 & 0 & 0 & 1 & 0 & 0 & 0 & 0 & ⋯ & 0 & 0 & 0 & 0 & 0 & 0 & 0 & 0 & 0 & 0\\\\\n",
       "\t 0 & 0 & 0 & 0 & 0 & 0 & 0 & 0 & 0 & 0 & ⋯ & 0 & 0 & 0 & 0 & 0 & 0 & 0 & 0 & 0 & 0\\\\\n",
       "\t 0 & 0 & 0 & 0 & 0 & 0 & 0 & 0 & 0 & 0 & ⋯ & 0 & 0 & 0 & 0 & 0 & 0 & 0 & 0 & 0 & 0\\\\\n",
       "\t 0 & 0 & 0 & 0 & 0 & 0 & 0 & 0 & 0 & 0 & ⋯ & 0 & 0 & 0 & 0 & 0 & 0 & 0 & 0 & 0 & 0\\\\\n",
       "\t 0 & 0 & 0 & 0 & 0 & 0 & 0 & 0 & 0 & 0 & ⋯ & 0 & 0 & 0 & 0 & 0 & 0 & 0 & 0 & 0 & 0\\\\\n",
       "\t 0 & 0 & 0 & 0 & 0 & 0 & 0 & 0 & 0 & 0 & ⋯ & 0 & 0 & 0 & 0 & 0 & 0 & 0 & 0 & 0 & 0\\\\\n",
       "\t 0 & 0 & 0 & 0 & 0 & 0 & 0 & 0 & 0 & 0 & ⋯ & 0 & 0 & 0 & 0 & 0 & 0 & 0 & 0 & 0 & 0\\\\\n",
       "\t 0 & 0 & 0 & 0 & 0 & 0 & 0 & 0 & 0 & 0 & ⋯ & 0 & 0 & 0 & 0 & 0 & 0 & 0 & 0 & 0 & 0\\\\\n",
       "\t 0 & 0 & 0 & 0 & 0 & 0 & 0 & 0 & 0 & 0 & ⋯ & 0 & 0 & 0 & 0 & 0 & 0 & 0 & 0 & 0 & 0\\\\\n",
       "\t 0 & 0 & 0 & 0 & 0 & 0 & 0 & 0 & 0 & 0 & ⋯ & 0 & 0 & 0 & 0 & 0 & 0 & 0 & 0 & 0 & 0\\\\\n",
       "\t 0 & 0 & 0 & 0 & 0 & 0 & 0 & 0 & 0 & 0 & ⋯ & 0 & 0 & 0 & 0 & 0 & 0 & 0 & 0 & 0 & 0\\\\\n",
       "\t 0 & 0 & 0 & 0 & 0 & 0 & 0 & 0 & 0 & 0 & ⋯ & 0 & 0 & 0 & 0 & 0 & 0 & 0 & 0 & 0 & 0\\\\\n",
       "\t 0 & 0 & 0 & 0 & 0 & 0 & 0 & 0 & 0 & 0 & ⋯ & 0 & 0 & 0 & 0 & 0 & 0 & 0 & 0 & 0 & 0\\\\\n",
       "\t 0 & 0 & 0 & 0 & 0 & 0 & 0 & 0 & 0 & 0 & ⋯ & 0 & 0 & 0 & 0 & 0 & 0 & 0 & 0 & 0 & 0\\\\\n",
       "\t 0 & 0 & 0 & 0 & 0 & 0 & 0 & 0 & 0 & 0 & ⋯ & 0 & 0 & 0 & 0 & 0 & 0 & 0 & 0 & 0 & 0\\\\\n",
       "\t 0 & 0 & 0 & 0 & 0 & 0 & 0 & 0 & 0 & 0 & ⋯ & 0 & 0 & 0 & 0 & 0 & 0 & 0 & 0 & 0 & 0\\\\\n",
       "\t 0 & 0 & 0 & 0 & 0 & 0 & 0 & 0 & 0 & 0 & ⋯ & 0 & 0 & 0 & 0 & 0 & 0 & 0 & 0 & 0 & 0\\\\\n",
       "\t 0 & 0 & 0 & 0 & 0 & 0 & 0 & 0 & 0 & 0 & ⋯ & 0 & 0 & 0 & 0 & 0 & 0 & 0 & 0 & 0 & 0\\\\\n",
       "\t ⋮ & ⋮ & ⋮ & ⋮ & ⋮ & ⋮ & ⋮ & ⋮ & ⋮ & ⋮ & ⋱ & ⋮ & ⋮ & ⋮ & ⋮ & ⋮ & ⋮ & ⋮ & ⋮ & ⋮ & ⋮\\\\\n",
       "\t 0 & 0 & 0 & 0 & 0 & 0 & 0 & 0 & 0 & 0 & ⋯ & 0 & 0 & 0 & 0 & 0 & 0 & 0 & 0 & 0 & 0\\\\\n",
       "\t 0 & 0 & 0 & 0 & 0 & 0 & 0 & 0 & 0 & 0 & ⋯ & 0 & 0 & 0 & 0 & 0 & 0 & 0 & 0 & 0 & 0\\\\\n",
       "\t 0 & 0 & 0 & 0 & 0 & 0 & 0 & 0 & 0 & 0 & ⋯ & 0 & 0 & 0 & 0 & 0 & 0 & 0 & 0 & 0 & 0\\\\\n",
       "\t 0 & 0 & 0 & 0 & 0 & 0 & 0 & 0 & 0 & 0 & ⋯ & 0 & 0 & 0 & 0 & 0 & 0 & 0 & 0 & 0 & 0\\\\\n",
       "\t 0 & 0 & 0 & 0 & 0 & 1 & 0 & 0 & 1 & 0 & ⋯ & 0 & 0 & 0 & 0 & 0 & 0 & 0 & 0 & 0 & 0\\\\\n",
       "\t 0 & 0 & 0 & 0 & 0 & 0 & 0 & 0 & 0 & 0 & ⋯ & 0 & 0 & 0 & 0 & 0 & 0 & 0 & 0 & 0 & 0\\\\\n",
       "\t 0 & 0 & 0 & 0 & 0 & 0 & 0 & 0 & 0 & 0 & ⋯ & 0 & 0 & 0 & 0 & 0 & 0 & 0 & 0 & 0 & 0\\\\\n",
       "\t 0 & 0 & 0 & 0 & 0 & 0 & 0 & 0 & 0 & 0 & ⋯ & 0 & 0 & 0 & 0 & 0 & 0 & 0 & 0 & 0 & 0\\\\\n",
       "\t 0 & 0 & 0 & 0 & 0 & 0 & 0 & 0 & 0 & 0 & ⋯ & 0 & 0 & 0 & 0 & 0 & 0 & 0 & 0 & 0 & 0\\\\\n",
       "\t 0 & 0 & 0 & 0 & 0 & 0 & 0 & 0 & 0 & 0 & ⋯ & 0 & 0 & 0 & 0 & 0 & 0 & 0 & 0 & 0 & 0\\\\\n",
       "\t 0 & 0 & 0 & 0 & 0 & 0 & 0 & 0 & 0 & 0 & ⋯ & 0 & 0 & 0 & 0 & 0 & 0 & 0 & 0 & 0 & 0\\\\\n",
       "\t 1 & 0 & 0 & 0 & 0 & 0 & 0 & 0 & 0 & 0 & ⋯ & 0 & 0 & 0 & 0 & 0 & 0 & 0 & 0 & 0 & 0\\\\\n",
       "\t 0 & 0 & 0 & 0 & 0 & 0 & 0 & 0 & 0 & 0 & ⋯ & 0 & 0 & 0 & 0 & 0 & 0 & 0 & 0 & 0 & 0\\\\\n",
       "\t 0 & 0 & 0 & 0 & 0 & 0 & 0 & 0 & 0 & 0 & ⋯ & 0 & 0 & 0 & 0 & 0 & 0 & 0 & 0 & 0 & 0\\\\\n",
       "\t 0 & 0 & 0 & 0 & 0 & 0 & 0 & 0 & 0 & 0 & ⋯ & 0 & 0 & 1 & 0 & 0 & 0 & 0 & 0 & 0 & 0\\\\\n",
       "\t 0 & 0 & 1 & 0 & 0 & 0 & 0 & 0 & 0 & 0 & ⋯ & 0 & 0 & 0 & 0 & 0 & 0 & 0 & 0 & 0 & 0\\\\\n",
       "\t 0 & 0 & 0 & 0 & 0 & 0 & 0 & 0 & 0 & 0 & ⋯ & 0 & 0 & 0 & 0 & 0 & 0 & 0 & 0 & 0 & 0\\\\\n",
       "\t 0 & 0 & 0 & 0 & 0 & 0 & 0 & 0 & 0 & 0 & ⋯ & 0 & 0 & 0 & 0 & 0 & 0 & 0 & 0 & 0 & 0\\\\\n",
       "\t 0 & 0 & 0 & 0 & 0 & 0 & 0 & 0 & 0 & 0 & ⋯ & 0 & 0 & 0 & 0 & 0 & 0 & 0 & 0 & 0 & 0\\\\\n",
       "\t 0 & 0 & 0 & 0 & 0 & 0 & 0 & 0 & 0 & 0 & ⋯ & 0 & 0 & 0 & 0 & 0 & 0 & 0 & 0 & 0 & 0\\\\\n",
       "\t 0 & 0 & 0 & 0 & 0 & 0 & 0 & 0 & 0 & 0 & ⋯ & 0 & 0 & 0 & 0 & 0 & 0 & 0 & 0 & 0 & 0\\\\\n",
       "\t 0 & 0 & 0 & 0 & 0 & 0 & 0 & 0 & 0 & 0 & ⋯ & 0 & 0 & 0 & 0 & 0 & 0 & 0 & 0 & 0 & 0\\\\\n",
       "\t 0 & 0 & 0 & 0 & 0 & 1 & 0 & 0 & 0 & 0 & ⋯ & 0 & 0 & 0 & 0 & 0 & 0 & 0 & 0 & 0 & 0\\\\\n",
       "\t 0 & 0 & 0 & 0 & 0 & 0 & 0 & 0 & 0 & 0 & ⋯ & 0 & 0 & 0 & 0 & 0 & 0 & 0 & 0 & 0 & 0\\\\\n",
       "\t 0 & 0 & 0 & 0 & 0 & 0 & 0 & 0 & 0 & 0 & ⋯ & 0 & 0 & 0 & 0 & 0 & 0 & 0 & 0 & 0 & 0\\\\\n",
       "\t 0 & 0 & 0 & 0 & 0 & 0 & 0 & 0 & 0 & 0 & ⋯ & 0 & 0 & 0 & 0 & 0 & 0 & 0 & 0 & 0 & 0\\\\\n",
       "\t 0 & 0 & 0 & 0 & 0 & 0 & 0 & 0 & 0 & 1 & ⋯ & 0 & 0 & 0 & 0 & 0 & 0 & 0 & 0 & 0 & 0\\\\\n",
       "\t 0 & 0 & 0 & 0 & 0 & 0 & 0 & 0 & 0 & 0 & ⋯ & 0 & 0 & 0 & 0 & 0 & 0 & 0 & 0 & 0 & 0\\\\\n",
       "\t 0 & 0 & 0 & 0 & 0 & 0 & 0 & 0 & 0 & 0 & ⋯ & 0 & 0 & 0 & 0 & 0 & 0 & 0 & 0 & 0 & 0\\\\\n",
       "\t 0 & 0 & 0 & 0 & 0 & 0 & 0 & 0 & 0 & 0 & ⋯ & 0 & 0 & 0 & 0 & 0 & 0 & 0 & 0 & 0 & 0\\\\\n",
       "\\end{tabular}\n"
      ],
      "text/markdown": [
       "\n",
       "A matrix: 50000 × 2000 of type int\n",
       "\n",
       "| 0 | 0 | 0 | 0 | 0 | 0 | 0 | 0 | 0 | 0 | ⋯ | 0 | 0 | 0 | 0 | 0 | 0 | 0 | 0 | 0 | 0 |\n",
       "| 0 | 0 | 0 | 0 | 0 | 0 | 0 | 0 | 0 | 0 | ⋯ | 0 | 0 | 0 | 0 | 0 | 0 | 0 | 0 | 0 | 0 |\n",
       "| 0 | 0 | 0 | 0 | 0 | 0 | 0 | 0 | 0 | 0 | ⋯ | 0 | 0 | 0 | 0 | 0 | 0 | 0 | 0 | 0 | 0 |\n",
       "| 0 | 0 | 0 | 0 | 0 | 0 | 0 | 0 | 0 | 0 | ⋯ | 0 | 0 | 0 | 0 | 0 | 0 | 0 | 0 | 0 | 0 |\n",
       "| 0 | 0 | 0 | 0 | 0 | 0 | 0 | 0 | 0 | 0 | ⋯ | 0 | 0 | 0 | 0 | 0 | 0 | 0 | 0 | 0 | 0 |\n",
       "| 0 | 0 | 0 | 0 | 0 | 0 | 0 | 0 | 0 | 0 | ⋯ | 0 | 0 | 0 | 0 | 0 | 0 | 0 | 0 | 0 | 0 |\n",
       "| 0 | 0 | 0 | 0 | 0 | 0 | 0 | 0 | 0 | 1 | ⋯ | 1 | 0 | 0 | 0 | 0 | 0 | 0 | 0 | 0 | 0 |\n",
       "| 0 | 0 | 0 | 0 | 0 | 0 | 0 | 0 | 0 | 0 | ⋯ | 0 | 0 | 0 | 0 | 0 | 0 | 0 | 0 | 0 | 0 |\n",
       "| 0 | 0 | 0 | 0 | 0 | 0 | 0 | 0 | 0 | 0 | ⋯ | 0 | 0 | 0 | 1 | 0 | 0 | 0 | 0 | 0 | 0 |\n",
       "| 0 | 0 | 0 | 0 | 0 | 0 | 0 | 0 | 0 | 0 | ⋯ | 0 | 0 | 0 | 0 | 0 | 0 | 0 | 0 | 0 | 0 |\n",
       "| 0 | 0 | 0 | 0 | 0 | 0 | 0 | 0 | 0 | 0 | ⋯ | 0 | 0 | 0 | 0 | 0 | 0 | 0 | 0 | 0 | 0 |\n",
       "| 0 | 0 | 0 | 0 | 0 | 0 | 0 | 0 | 0 | 0 | ⋯ | 0 | 0 | 0 | 0 | 0 | 0 | 0 | 0 | 0 | 0 |\n",
       "| 0 | 0 | 0 | 0 | 0 | 1 | 0 | 0 | 0 | 0 | ⋯ | 0 | 0 | 0 | 0 | 0 | 0 | 0 | 0 | 0 | 0 |\n",
       "| 0 | 0 | 0 | 0 | 0 | 0 | 0 | 0 | 0 | 0 | ⋯ | 0 | 0 | 0 | 0 | 0 | 0 | 0 | 0 | 0 | 0 |\n",
       "| 0 | 0 | 0 | 0 | 0 | 0 | 0 | 0 | 0 | 0 | ⋯ | 0 | 0 | 0 | 0 | 0 | 0 | 0 | 0 | 0 | 0 |\n",
       "| 0 | 0 | 0 | 0 | 0 | 0 | 0 | 0 | 0 | 0 | ⋯ | 0 | 0 | 0 | 0 | 0 | 0 | 0 | 0 | 0 | 0 |\n",
       "| 0 | 0 | 0 | 0 | 0 | 0 | 0 | 0 | 0 | 0 | ⋯ | 0 | 0 | 0 | 0 | 0 | 0 | 0 | 0 | 0 | 0 |\n",
       "| 0 | 0 | 0 | 0 | 0 | 0 | 0 | 0 | 0 | 0 | ⋯ | 0 | 0 | 0 | 0 | 0 | 0 | 0 | 0 | 0 | 0 |\n",
       "| 0 | 0 | 0 | 0 | 0 | 0 | 0 | 0 | 0 | 0 | ⋯ | 0 | 0 | 0 | 0 | 0 | 0 | 0 | 0 | 0 | 0 |\n",
       "| 0 | 0 | 0 | 0 | 0 | 0 | 0 | 0 | 0 | 0 | ⋯ | 0 | 0 | 0 | 0 | 0 | 0 | 0 | 0 | 0 | 0 |\n",
       "| 0 | 0 | 0 | 0 | 0 | 0 | 0 | 0 | 0 | 0 | ⋯ | 0 | 0 | 0 | 0 | 0 | 0 | 0 | 0 | 0 | 0 |\n",
       "| 0 | 0 | 0 | 0 | 0 | 0 | 0 | 0 | 0 | 0 | ⋯ | 0 | 0 | 0 | 0 | 0 | 0 | 0 | 0 | 0 | 0 |\n",
       "| 0 | 0 | 0 | 0 | 0 | 0 | 0 | 0 | 0 | 0 | ⋯ | 0 | 0 | 0 | 0 | 0 | 0 | 0 | 0 | 0 | 0 |\n",
       "| 0 | 0 | 0 | 0 | 0 | 0 | 0 | 0 | 0 | 0 | ⋯ | 0 | 0 | 0 | 0 | 0 | 0 | 0 | 0 | 0 | 0 |\n",
       "| 0 | 0 | 0 | 0 | 0 | 0 | 0 | 0 | 0 | 0 | ⋯ | 0 | 0 | 0 | 0 | 0 | 0 | 0 | 0 | 0 | 0 |\n",
       "| 0 | 0 | 0 | 0 | 0 | 0 | 0 | 0 | 0 | 0 | ⋯ | 0 | 0 | 0 | 0 | 0 | 0 | 0 | 0 | 0 | 0 |\n",
       "| 0 | 0 | 0 | 0 | 0 | 0 | 0 | 0 | 0 | 0 | ⋯ | 0 | 0 | 0 | 0 | 0 | 0 | 0 | 0 | 0 | 0 |\n",
       "| 0 | 0 | 0 | 0 | 0 | 0 | 0 | 0 | 0 | 0 | ⋯ | 0 | 0 | 0 | 0 | 0 | 0 | 0 | 0 | 0 | 0 |\n",
       "| 0 | 0 | 0 | 0 | 0 | 0 | 0 | 0 | 0 | 0 | ⋯ | 0 | 0 | 0 | 0 | 0 | 0 | 0 | 0 | 0 | 0 |\n",
       "| 0 | 0 | 0 | 0 | 0 | 0 | 0 | 0 | 0 | 0 | ⋯ | 0 | 0 | 0 | 0 | 0 | 0 | 0 | 0 | 0 | 0 |\n",
       "| ⋮ | ⋮ | ⋮ | ⋮ | ⋮ | ⋮ | ⋮ | ⋮ | ⋮ | ⋮ | ⋱ | ⋮ | ⋮ | ⋮ | ⋮ | ⋮ | ⋮ | ⋮ | ⋮ | ⋮ | ⋮ |\n",
       "| 0 | 0 | 0 | 0 | 0 | 0 | 0 | 0 | 0 | 0 | ⋯ | 0 | 0 | 0 | 0 | 0 | 0 | 0 | 0 | 0 | 0 |\n",
       "| 0 | 0 | 0 | 0 | 0 | 0 | 0 | 0 | 0 | 0 | ⋯ | 0 | 0 | 0 | 0 | 0 | 0 | 0 | 0 | 0 | 0 |\n",
       "| 0 | 0 | 0 | 0 | 0 | 0 | 0 | 0 | 0 | 0 | ⋯ | 0 | 0 | 0 | 0 | 0 | 0 | 0 | 0 | 0 | 0 |\n",
       "| 0 | 0 | 0 | 0 | 0 | 0 | 0 | 0 | 0 | 0 | ⋯ | 0 | 0 | 0 | 0 | 0 | 0 | 0 | 0 | 0 | 0 |\n",
       "| 0 | 0 | 0 | 0 | 0 | 1 | 0 | 0 | 1 | 0 | ⋯ | 0 | 0 | 0 | 0 | 0 | 0 | 0 | 0 | 0 | 0 |\n",
       "| 0 | 0 | 0 | 0 | 0 | 0 | 0 | 0 | 0 | 0 | ⋯ | 0 | 0 | 0 | 0 | 0 | 0 | 0 | 0 | 0 | 0 |\n",
       "| 0 | 0 | 0 | 0 | 0 | 0 | 0 | 0 | 0 | 0 | ⋯ | 0 | 0 | 0 | 0 | 0 | 0 | 0 | 0 | 0 | 0 |\n",
       "| 0 | 0 | 0 | 0 | 0 | 0 | 0 | 0 | 0 | 0 | ⋯ | 0 | 0 | 0 | 0 | 0 | 0 | 0 | 0 | 0 | 0 |\n",
       "| 0 | 0 | 0 | 0 | 0 | 0 | 0 | 0 | 0 | 0 | ⋯ | 0 | 0 | 0 | 0 | 0 | 0 | 0 | 0 | 0 | 0 |\n",
       "| 0 | 0 | 0 | 0 | 0 | 0 | 0 | 0 | 0 | 0 | ⋯ | 0 | 0 | 0 | 0 | 0 | 0 | 0 | 0 | 0 | 0 |\n",
       "| 0 | 0 | 0 | 0 | 0 | 0 | 0 | 0 | 0 | 0 | ⋯ | 0 | 0 | 0 | 0 | 0 | 0 | 0 | 0 | 0 | 0 |\n",
       "| 1 | 0 | 0 | 0 | 0 | 0 | 0 | 0 | 0 | 0 | ⋯ | 0 | 0 | 0 | 0 | 0 | 0 | 0 | 0 | 0 | 0 |\n",
       "| 0 | 0 | 0 | 0 | 0 | 0 | 0 | 0 | 0 | 0 | ⋯ | 0 | 0 | 0 | 0 | 0 | 0 | 0 | 0 | 0 | 0 |\n",
       "| 0 | 0 | 0 | 0 | 0 | 0 | 0 | 0 | 0 | 0 | ⋯ | 0 | 0 | 0 | 0 | 0 | 0 | 0 | 0 | 0 | 0 |\n",
       "| 0 | 0 | 0 | 0 | 0 | 0 | 0 | 0 | 0 | 0 | ⋯ | 0 | 0 | 1 | 0 | 0 | 0 | 0 | 0 | 0 | 0 |\n",
       "| 0 | 0 | 1 | 0 | 0 | 0 | 0 | 0 | 0 | 0 | ⋯ | 0 | 0 | 0 | 0 | 0 | 0 | 0 | 0 | 0 | 0 |\n",
       "| 0 | 0 | 0 | 0 | 0 | 0 | 0 | 0 | 0 | 0 | ⋯ | 0 | 0 | 0 | 0 | 0 | 0 | 0 | 0 | 0 | 0 |\n",
       "| 0 | 0 | 0 | 0 | 0 | 0 | 0 | 0 | 0 | 0 | ⋯ | 0 | 0 | 0 | 0 | 0 | 0 | 0 | 0 | 0 | 0 |\n",
       "| 0 | 0 | 0 | 0 | 0 | 0 | 0 | 0 | 0 | 0 | ⋯ | 0 | 0 | 0 | 0 | 0 | 0 | 0 | 0 | 0 | 0 |\n",
       "| 0 | 0 | 0 | 0 | 0 | 0 | 0 | 0 | 0 | 0 | ⋯ | 0 | 0 | 0 | 0 | 0 | 0 | 0 | 0 | 0 | 0 |\n",
       "| 0 | 0 | 0 | 0 | 0 | 0 | 0 | 0 | 0 | 0 | ⋯ | 0 | 0 | 0 | 0 | 0 | 0 | 0 | 0 | 0 | 0 |\n",
       "| 0 | 0 | 0 | 0 | 0 | 0 | 0 | 0 | 0 | 0 | ⋯ | 0 | 0 | 0 | 0 | 0 | 0 | 0 | 0 | 0 | 0 |\n",
       "| 0 | 0 | 0 | 0 | 0 | 1 | 0 | 0 | 0 | 0 | ⋯ | 0 | 0 | 0 | 0 | 0 | 0 | 0 | 0 | 0 | 0 |\n",
       "| 0 | 0 | 0 | 0 | 0 | 0 | 0 | 0 | 0 | 0 | ⋯ | 0 | 0 | 0 | 0 | 0 | 0 | 0 | 0 | 0 | 0 |\n",
       "| 0 | 0 | 0 | 0 | 0 | 0 | 0 | 0 | 0 | 0 | ⋯ | 0 | 0 | 0 | 0 | 0 | 0 | 0 | 0 | 0 | 0 |\n",
       "| 0 | 0 | 0 | 0 | 0 | 0 | 0 | 0 | 0 | 0 | ⋯ | 0 | 0 | 0 | 0 | 0 | 0 | 0 | 0 | 0 | 0 |\n",
       "| 0 | 0 | 0 | 0 | 0 | 0 | 0 | 0 | 0 | 1 | ⋯ | 0 | 0 | 0 | 0 | 0 | 0 | 0 | 0 | 0 | 0 |\n",
       "| 0 | 0 | 0 | 0 | 0 | 0 | 0 | 0 | 0 | 0 | ⋯ | 0 | 0 | 0 | 0 | 0 | 0 | 0 | 0 | 0 | 0 |\n",
       "| 0 | 0 | 0 | 0 | 0 | 0 | 0 | 0 | 0 | 0 | ⋯ | 0 | 0 | 0 | 0 | 0 | 0 | 0 | 0 | 0 | 0 |\n",
       "| 0 | 0 | 0 | 0 | 0 | 0 | 0 | 0 | 0 | 0 | ⋯ | 0 | 0 | 0 | 0 | 0 | 0 | 0 | 0 | 0 | 0 |\n",
       "\n"
      ],
      "text/plain": [
       "      [,1] [,2] [,3] [,4] [,5] [,6] [,7] [,8] [,9] [,10] [,11] [,12] [,13]\n",
       " [1,] 0    0    0    0    0    0    0    0    0    0     ⋯     0     0    \n",
       " [2,] 0    0    0    0    0    0    0    0    0    0     ⋯     0     0    \n",
       " [3,] 0    0    0    0    0    0    0    0    0    0     ⋯     0     0    \n",
       " [4,] 0    0    0    0    0    0    0    0    0    0     ⋯     0     0    \n",
       " [5,] 0    0    0    0    0    0    0    0    0    0     ⋯     0     0    \n",
       " [6,] 0    0    0    0    0    0    0    0    0    0     ⋯     0     0    \n",
       " [7,] 0    0    0    0    0    0    0    0    0    1     ⋯     1     0    \n",
       " [8,] 0    0    0    0    0    0    0    0    0    0     ⋯     0     0    \n",
       " [9,] 0    0    0    0    0    0    0    0    0    0     ⋯     0     0    \n",
       "[10,] 0    0    0    0    0    0    0    0    0    0     ⋯     0     0    \n",
       "[11,] 0    0    0    0    0    0    0    0    0    0     ⋯     0     0    \n",
       "[12,] 0    0    0    0    0    0    0    0    0    0     ⋯     0     0    \n",
       "[13,] 0    0    0    0    0    1    0    0    0    0     ⋯     0     0    \n",
       "[14,] 0    0    0    0    0    0    0    0    0    0     ⋯     0     0    \n",
       "[15,] 0    0    0    0    0    0    0    0    0    0     ⋯     0     0    \n",
       "[16,] 0    0    0    0    0    0    0    0    0    0     ⋯     0     0    \n",
       "[17,] 0    0    0    0    0    0    0    0    0    0     ⋯     0     0    \n",
       "[18,] 0    0    0    0    0    0    0    0    0    0     ⋯     0     0    \n",
       "[19,] 0    0    0    0    0    0    0    0    0    0     ⋯     0     0    \n",
       "[20,] 0    0    0    0    0    0    0    0    0    0     ⋯     0     0    \n",
       "[21,] 0    0    0    0    0    0    0    0    0    0     ⋯     0     0    \n",
       "[22,] 0    0    0    0    0    0    0    0    0    0     ⋯     0     0    \n",
       "[23,] 0    0    0    0    0    0    0    0    0    0     ⋯     0     0    \n",
       "[24,] 0    0    0    0    0    0    0    0    0    0     ⋯     0     0    \n",
       "[25,] 0    0    0    0    0    0    0    0    0    0     ⋯     0     0    \n",
       "[26,] 0    0    0    0    0    0    0    0    0    0     ⋯     0     0    \n",
       "[27,] 0    0    0    0    0    0    0    0    0    0     ⋯     0     0    \n",
       "[28,] 0    0    0    0    0    0    0    0    0    0     ⋯     0     0    \n",
       "[29,] 0    0    0    0    0    0    0    0    0    0     ⋯     0     0    \n",
       "[30,] 0    0    0    0    0    0    0    0    0    0     ⋯     0     0    \n",
       "[31,] ⋮    ⋮    ⋮    ⋮    ⋮    ⋮    ⋮    ⋮    ⋮    ⋮     ⋱     ⋮     ⋮    \n",
       "[32,] 0    0    0    0    0    0    0    0    0    0     ⋯     0     0    \n",
       "[33,] 0    0    0    0    0    0    0    0    0    0     ⋯     0     0    \n",
       "[34,] 0    0    0    0    0    0    0    0    0    0     ⋯     0     0    \n",
       "[35,] 0    0    0    0    0    0    0    0    0    0     ⋯     0     0    \n",
       "[36,] 0    0    0    0    0    1    0    0    1    0     ⋯     0     0    \n",
       "[37,] 0    0    0    0    0    0    0    0    0    0     ⋯     0     0    \n",
       "[38,] 0    0    0    0    0    0    0    0    0    0     ⋯     0     0    \n",
       "[39,] 0    0    0    0    0    0    0    0    0    0     ⋯     0     0    \n",
       "[40,] 0    0    0    0    0    0    0    0    0    0     ⋯     0     0    \n",
       "[41,] 0    0    0    0    0    0    0    0    0    0     ⋯     0     0    \n",
       "[42,] 0    0    0    0    0    0    0    0    0    0     ⋯     0     0    \n",
       "[43,] 1    0    0    0    0    0    0    0    0    0     ⋯     0     0    \n",
       "[44,] 0    0    0    0    0    0    0    0    0    0     ⋯     0     0    \n",
       "[45,] 0    0    0    0    0    0    0    0    0    0     ⋯     0     0    \n",
       "[46,] 0    0    0    0    0    0    0    0    0    0     ⋯     0     0    \n",
       "[47,] 0    0    1    0    0    0    0    0    0    0     ⋯     0     0    \n",
       "[48,] 0    0    0    0    0    0    0    0    0    0     ⋯     0     0    \n",
       "[49,] 0    0    0    0    0    0    0    0    0    0     ⋯     0     0    \n",
       "[50,] 0    0    0    0    0    0    0    0    0    0     ⋯     0     0    \n",
       "[51,] 0    0    0    0    0    0    0    0    0    0     ⋯     0     0    \n",
       "[52,] 0    0    0    0    0    0    0    0    0    0     ⋯     0     0    \n",
       "[53,] 0    0    0    0    0    0    0    0    0    0     ⋯     0     0    \n",
       "[54,] 0    0    0    0    0    1    0    0    0    0     ⋯     0     0    \n",
       "[55,] 0    0    0    0    0    0    0    0    0    0     ⋯     0     0    \n",
       "[56,] 0    0    0    0    0    0    0    0    0    0     ⋯     0     0    \n",
       "[57,] 0    0    0    0    0    0    0    0    0    0     ⋯     0     0    \n",
       "[58,] 0    0    0    0    0    0    0    0    0    1     ⋯     0     0    \n",
       "[59,] 0    0    0    0    0    0    0    0    0    0     ⋯     0     0    \n",
       "[60,] 0    0    0    0    0    0    0    0    0    0     ⋯     0     0    \n",
       "[61,] 0    0    0    0    0    0    0    0    0    0     ⋯     0     0    \n",
       "      [,14] [,15] [,16] [,17] [,18] [,19] [,20] [,21]\n",
       " [1,] 0     0     0     0     0     0     0     0    \n",
       " [2,] 0     0     0     0     0     0     0     0    \n",
       " [3,] 0     0     0     0     0     0     0     0    \n",
       " [4,] 0     0     0     0     0     0     0     0    \n",
       " [5,] 0     0     0     0     0     0     0     0    \n",
       " [6,] 0     0     0     0     0     0     0     0    \n",
       " [7,] 0     0     0     0     0     0     0     0    \n",
       " [8,] 0     0     0     0     0     0     0     0    \n",
       " [9,] 0     1     0     0     0     0     0     0    \n",
       "[10,] 0     0     0     0     0     0     0     0    \n",
       "[11,] 0     0     0     0     0     0     0     0    \n",
       "[12,] 0     0     0     0     0     0     0     0    \n",
       "[13,] 0     0     0     0     0     0     0     0    \n",
       "[14,] 0     0     0     0     0     0     0     0    \n",
       "[15,] 0     0     0     0     0     0     0     0    \n",
       "[16,] 0     0     0     0     0     0     0     0    \n",
       "[17,] 0     0     0     0     0     0     0     0    \n",
       "[18,] 0     0     0     0     0     0     0     0    \n",
       "[19,] 0     0     0     0     0     0     0     0    \n",
       "[20,] 0     0     0     0     0     0     0     0    \n",
       "[21,] 0     0     0     0     0     0     0     0    \n",
       "[22,] 0     0     0     0     0     0     0     0    \n",
       "[23,] 0     0     0     0     0     0     0     0    \n",
       "[24,] 0     0     0     0     0     0     0     0    \n",
       "[25,] 0     0     0     0     0     0     0     0    \n",
       "[26,] 0     0     0     0     0     0     0     0    \n",
       "[27,] 0     0     0     0     0     0     0     0    \n",
       "[28,] 0     0     0     0     0     0     0     0    \n",
       "[29,] 0     0     0     0     0     0     0     0    \n",
       "[30,] 0     0     0     0     0     0     0     0    \n",
       "[31,] ⋮     ⋮     ⋮     ⋮     ⋮     ⋮     ⋮     ⋮    \n",
       "[32,] 0     0     0     0     0     0     0     0    \n",
       "[33,] 0     0     0     0     0     0     0     0    \n",
       "[34,] 0     0     0     0     0     0     0     0    \n",
       "[35,] 0     0     0     0     0     0     0     0    \n",
       "[36,] 0     0     0     0     0     0     0     0    \n",
       "[37,] 0     0     0     0     0     0     0     0    \n",
       "[38,] 0     0     0     0     0     0     0     0    \n",
       "[39,] 0     0     0     0     0     0     0     0    \n",
       "[40,] 0     0     0     0     0     0     0     0    \n",
       "[41,] 0     0     0     0     0     0     0     0    \n",
       "[42,] 0     0     0     0     0     0     0     0    \n",
       "[43,] 0     0     0     0     0     0     0     0    \n",
       "[44,] 0     0     0     0     0     0     0     0    \n",
       "[45,] 0     0     0     0     0     0     0     0    \n",
       "[46,] 1     0     0     0     0     0     0     0    \n",
       "[47,] 0     0     0     0     0     0     0     0    \n",
       "[48,] 0     0     0     0     0     0     0     0    \n",
       "[49,] 0     0     0     0     0     0     0     0    \n",
       "[50,] 0     0     0     0     0     0     0     0    \n",
       "[51,] 0     0     0     0     0     0     0     0    \n",
       "[52,] 0     0     0     0     0     0     0     0    \n",
       "[53,] 0     0     0     0     0     0     0     0    \n",
       "[54,] 0     0     0     0     0     0     0     0    \n",
       "[55,] 0     0     0     0     0     0     0     0    \n",
       "[56,] 0     0     0     0     0     0     0     0    \n",
       "[57,] 0     0     0     0     0     0     0     0    \n",
       "[58,] 0     0     0     0     0     0     0     0    \n",
       "[59,] 0     0     0     0     0     0     0     0    \n",
       "[60,] 0     0     0     0     0     0     0     0    \n",
       "[61,] 0     0     0     0     0     0     0     0    "
      ]
     },
     "metadata": {},
     "output_type": "display_data"
    }
   ],
   "source": [
    "(one.hot.guides)"
   ]
  },
  {
   "cell_type": "code",
   "execution_count": 9,
   "id": "9af0c823",
   "metadata": {},
   "outputs": [
    {
     "data": {
      "text/html": [
       "<style>\n",
       ".list-inline {list-style: none; margin:0; padding: 0}\n",
       ".list-inline>li {display: inline-block}\n",
       ".list-inline>li:not(:last-child)::after {content: \"\\00b7\"; padding: 0 .5ex}\n",
       "</style>\n",
       "<ol class=list-inline><li>13000</li><li>50000</li></ol>\n"
      ],
      "text/latex": [
       "\\begin{enumerate*}\n",
       "\\item 13000\n",
       "\\item 50000\n",
       "\\end{enumerate*}\n"
      ],
      "text/markdown": [
       "1. 13000\n",
       "2. 50000\n",
       "\n",
       "\n"
      ],
      "text/plain": [
       "[1] 13000 50000"
      ]
     },
     "metadata": {},
     "output_type": "display_data"
    }
   ],
   "source": [
    "counts <- h5read(fh, \"counts/counts\")\n",
    "dim(counts)"
   ]
  },
  {
   "cell_type": "code",
   "execution_count": 10,
   "id": "ed985936",
   "metadata": {},
   "outputs": [],
   "source": [
    "counts.rows <- rowSums(counts)"
   ]
  },
  {
   "cell_type": "code",
   "execution_count": 11,
   "id": "7ed5bf23",
   "metadata": {},
   "outputs": [
    {
     "data": {
      "text/html": [
       "13000"
      ],
      "text/latex": [
       "13000"
      ],
      "text/markdown": [
       "13000"
      ],
      "text/plain": [
       "[1] 13000"
      ]
     },
     "metadata": {},
     "output_type": "display_data"
    }
   ],
   "source": [
    "sum(counts.rows>0)"
   ]
  },
  {
   "cell_type": "code",
   "execution_count": 12,
   "id": "ef81906d",
   "metadata": {},
   "outputs": [
    {
     "data": {
      "text/html": [
       "<table class=\"dataframe\">\n",
       "<caption>A data.frame: 6 × 3</caption>\n",
       "<thead>\n",
       "\t<tr><th></th><th scope=col>guides</th><th scope=col>target</th><th scope=col>efficiencies</th></tr>\n",
       "\t<tr><th></th><th scope=col>&lt;int&gt;</th><th scope=col>&lt;int&gt;</th><th scope=col>&lt;dbl&gt;</th></tr>\n",
       "</thead>\n",
       "<tbody>\n",
       "\t<tr><th scope=row>1</th><td>1</td><td>1</td><td>0.6417236</td></tr>\n",
       "\t<tr><th scope=row>2</th><td>2</td><td>2</td><td>0.7845104</td></tr>\n",
       "\t<tr><th scope=row>3</th><td>3</td><td>3</td><td>0.8168062</td></tr>\n",
       "\t<tr><th scope=row>4</th><td>4</td><td>4</td><td>0.7184909</td></tr>\n",
       "\t<tr><th scope=row>5</th><td>5</td><td>5</td><td>0.7954992</td></tr>\n",
       "\t<tr><th scope=row>6</th><td>6</td><td>6</td><td>0.8551709</td></tr>\n",
       "</tbody>\n",
       "</table>\n"
      ],
      "text/latex": [
       "A data.frame: 6 × 3\n",
       "\\begin{tabular}{r|lll}\n",
       "  & guides & target & efficiencies\\\\\n",
       "  & <int> & <int> & <dbl>\\\\\n",
       "\\hline\n",
       "\t1 & 1 & 1 & 0.6417236\\\\\n",
       "\t2 & 2 & 2 & 0.7845104\\\\\n",
       "\t3 & 3 & 3 & 0.8168062\\\\\n",
       "\t4 & 4 & 4 & 0.7184909\\\\\n",
       "\t5 & 5 & 5 & 0.7954992\\\\\n",
       "\t6 & 6 & 6 & 0.8551709\\\\\n",
       "\\end{tabular}\n"
      ],
      "text/markdown": [
       "\n",
       "A data.frame: 6 × 3\n",
       "\n",
       "| <!--/--> | guides &lt;int&gt; | target &lt;int&gt; | efficiencies &lt;dbl&gt; |\n",
       "|---|---|---|---|\n",
       "| 1 | 1 | 1 | 0.6417236 |\n",
       "| 2 | 2 | 2 | 0.7845104 |\n",
       "| 3 | 3 | 3 | 0.8168062 |\n",
       "| 4 | 4 | 4 | 0.7184909 |\n",
       "| 5 | 5 | 5 | 0.7954992 |\n",
       "| 6 | 6 | 6 | 0.8551709 |\n",
       "\n"
      ],
      "text/plain": [
       "  guides target efficiencies\n",
       "1 1      1      0.6417236   \n",
       "2 2      2      0.7845104   \n",
       "3 3      3      0.8168062   \n",
       "4 4      4      0.7184909   \n",
       "5 5      5      0.7954992   \n",
       "6 6      6      0.8551709   "
      ]
     },
     "metadata": {},
     "output_type": "display_data"
    }
   ],
   "source": [
    "guides.metadata <- h5read(fh, \"guides/metadata\")\n",
    "head(guides.metadata)"
   ]
  },
  {
   "cell_type": "code",
   "execution_count": 13,
   "id": "f8823a9f",
   "metadata": {},
   "outputs": [
    {
     "data": {
      "text/html": [
       "<table class=\"dataframe\">\n",
       "<caption>A data.frame: 6 × 2</caption>\n",
       "<thead>\n",
       "\t<tr><th></th><th scope=col>guides</th><th scope=col>target</th></tr>\n",
       "\t<tr><th></th><th scope=col>&lt;int&gt;</th><th scope=col>&lt;int&gt;</th></tr>\n",
       "</thead>\n",
       "<tbody>\n",
       "\t<tr><th scope=row>1</th><td>1</td><td>1</td></tr>\n",
       "\t<tr><th scope=row>2</th><td>2</td><td>2</td></tr>\n",
       "\t<tr><th scope=row>3</th><td>3</td><td>3</td></tr>\n",
       "\t<tr><th scope=row>4</th><td>4</td><td>4</td></tr>\n",
       "\t<tr><th scope=row>5</th><td>5</td><td>5</td></tr>\n",
       "\t<tr><th scope=row>6</th><td>6</td><td>6</td></tr>\n",
       "</tbody>\n",
       "</table>\n"
      ],
      "text/latex": [
       "A data.frame: 6 × 2\n",
       "\\begin{tabular}{r|ll}\n",
       "  & guides & target\\\\\n",
       "  & <int> & <int>\\\\\n",
       "\\hline\n",
       "\t1 & 1 & 1\\\\\n",
       "\t2 & 2 & 2\\\\\n",
       "\t3 & 3 & 3\\\\\n",
       "\t4 & 4 & 4\\\\\n",
       "\t5 & 5 & 5\\\\\n",
       "\t6 & 6 & 6\\\\\n",
       "\\end{tabular}\n"
      ],
      "text/markdown": [
       "\n",
       "A data.frame: 6 × 2\n",
       "\n",
       "| <!--/--> | guides &lt;int&gt; | target &lt;int&gt; |\n",
       "|---|---|---|\n",
       "| 1 | 1 | 1 |\n",
       "| 2 | 2 | 2 |\n",
       "| 3 | 3 | 3 |\n",
       "| 4 | 4 | 4 |\n",
       "| 5 | 5 | 5 |\n",
       "| 6 | 6 | 6 |\n",
       "\n"
      ],
      "text/plain": [
       "  guides target\n",
       "1 1      1     \n",
       "2 2      2     \n",
       "3 3      3     \n",
       "4 4      4     \n",
       "5 5      5     \n",
       "6 6      6     "
      ]
     },
     "metadata": {},
     "output_type": "display_data"
    }
   ],
   "source": [
    "guide.target.map <- h5read(fh, \"guides/guide_target_map\")\n",
    "head(guide.target.map)"
   ]
  },
  {
   "cell_type": "code",
   "execution_count": 17,
   "id": "6a96d90b",
   "metadata": {},
   "outputs": [
    {
     "data": {
      "text/html": [
       "<table class=\"dataframe\">\n",
       "<caption>A data.frame: 6 × 7</caption>\n",
       "<thead>\n",
       "\t<tr><th></th><th scope=col>tsA</th><th scope=col>tsB</th><th scope=col>target.genes</th><th scope=col>beta.A</th><th scope=col>beta.B</th><th scope=col>interaction</th><th scope=col>set</th></tr>\n",
       "\t<tr><th></th><th scope=col>&lt;int&gt;</th><th scope=col>&lt;int&gt;</th><th scope=col>&lt;int&gt;</th><th scope=col>&lt;dbl&gt;</th><th scope=col>&lt;dbl&gt;</th><th scope=col>&lt;dbl&gt;</th><th scope=col>&lt;chr&gt;</th></tr>\n",
       "</thead>\n",
       "<tbody>\n",
       "\t<tr><th scope=row>1</th><td>451</td><td>969</td><td> 8277</td><td>-3.107278</td><td>-4.131452</td><td>3.162377</td><td>positive</td></tr>\n",
       "\t<tr><th scope=row>2</th><td> 50</td><td>854</td><td>  517</td><td>-1.382844</td><td>-3.655001</td><td>2.092422</td><td>positive</td></tr>\n",
       "\t<tr><th scope=row>3</th><td>  7</td><td>913</td><td> 8732</td><td>-3.428033</td><td>-2.390614</td><td>3.037249</td><td>positive</td></tr>\n",
       "\t<tr><th scope=row>4</th><td>210</td><td>345</td><td>11500</td><td>-1.222720</td><td>-2.258748</td><td>2.264876</td><td>positive</td></tr>\n",
       "\t<tr><th scope=row>5</th><td>236</td><td>858</td><td>12544</td><td>-2.921474</td><td>-2.405126</td><td>3.548754</td><td>positive</td></tr>\n",
       "\t<tr><th scope=row>6</th><td>525</td><td>698</td><td> 3607</td><td>-1.207947</td><td>-5.051034</td><td>2.742487</td><td>positive</td></tr>\n",
       "</tbody>\n",
       "</table>\n"
      ],
      "text/latex": [
       "A data.frame: 6 × 7\n",
       "\\begin{tabular}{r|lllllll}\n",
       "  & tsA & tsB & target.genes & beta.A & beta.B & interaction & set\\\\\n",
       "  & <int> & <int> & <int> & <dbl> & <dbl> & <dbl> & <chr>\\\\\n",
       "\\hline\n",
       "\t1 & 451 & 969 &  8277 & -3.107278 & -4.131452 & 3.162377 & positive\\\\\n",
       "\t2 &  50 & 854 &   517 & -1.382844 & -3.655001 & 2.092422 & positive\\\\\n",
       "\t3 &   7 & 913 &  8732 & -3.428033 & -2.390614 & 3.037249 & positive\\\\\n",
       "\t4 & 210 & 345 & 11500 & -1.222720 & -2.258748 & 2.264876 & positive\\\\\n",
       "\t5 & 236 & 858 & 12544 & -2.921474 & -2.405126 & 3.548754 & positive\\\\\n",
       "\t6 & 525 & 698 &  3607 & -1.207947 & -5.051034 & 2.742487 & positive\\\\\n",
       "\\end{tabular}\n"
      ],
      "text/markdown": [
       "\n",
       "A data.frame: 6 × 7\n",
       "\n",
       "| <!--/--> | tsA &lt;int&gt; | tsB &lt;int&gt; | target.genes &lt;int&gt; | beta.A &lt;dbl&gt; | beta.B &lt;dbl&gt; | interaction &lt;dbl&gt; | set &lt;chr&gt; |\n",
       "|---|---|---|---|---|---|---|---|\n",
       "| 1 | 451 | 969 |  8277 | -3.107278 | -4.131452 | 3.162377 | positive |\n",
       "| 2 |  50 | 854 |   517 | -1.382844 | -3.655001 | 2.092422 | positive |\n",
       "| 3 |   7 | 913 |  8732 | -3.428033 | -2.390614 | 3.037249 | positive |\n",
       "| 4 | 210 | 345 | 11500 | -1.222720 | -2.258748 | 2.264876 | positive |\n",
       "| 5 | 236 | 858 | 12544 | -2.921474 | -2.405126 | 3.548754 | positive |\n",
       "| 6 | 525 | 698 |  3607 | -1.207947 | -5.051034 | 2.742487 | positive |\n",
       "\n"
      ],
      "text/plain": [
       "  tsA tsB target.genes beta.A    beta.B    interaction set     \n",
       "1 451 969  8277        -3.107278 -4.131452 3.162377    positive\n",
       "2  50 854   517        -1.382844 -3.655001 2.092422    positive\n",
       "3   7 913  8732        -3.428033 -2.390614 3.037249    positive\n",
       "4 210 345 11500        -1.222720 -2.258748 2.264876    positive\n",
       "5 236 858 12544        -2.921474 -2.405126 3.548754    positive\n",
       "6 525 698  3607        -1.207947 -5.051034 2.742487    positive"
      ]
     },
     "metadata": {},
     "output_type": "display_data"
    }
   ],
   "source": [
    "pairs <- h5read(fh, \"pairs\")\n",
    "head(pairs)"
   ]
  },
  {
   "cell_type": "code",
   "execution_count": 18,
   "id": "81dd4de6",
   "metadata": {},
   "outputs": [
    {
     "data": {
      "text/html": [
       "451"
      ],
      "text/latex": [
       "451"
      ],
      "text/markdown": [
       "451"
      ],
      "text/plain": [
       "[1] 451"
      ]
     },
     "metadata": {},
     "output_type": "display_data"
    }
   ],
   "source": [
    "pairs[1,]$tsA"
   ]
  },
  {
   "cell_type": "code",
   "execution_count": 19,
   "id": "5457d7ac",
   "metadata": {},
   "outputs": [
    {
     "data": {
      "text/html": [
       "969"
      ],
      "text/latex": [
       "969"
      ],
      "text/markdown": [
       "969"
      ],
      "text/plain": [
       "[1] 969"
      ]
     },
     "metadata": {},
     "output_type": "display_data"
    }
   ],
   "source": [
    "pairs[1,]$tsB"
   ]
  },
  {
   "cell_type": "code",
   "execution_count": 22,
   "id": "e609f8c2",
   "metadata": {},
   "outputs": [
    {
     "data": {
      "text/html": [
       "<style>\n",
       ".list-inline {list-style: none; margin:0; padding: 0}\n",
       ".list-inline>li {display: inline-block}\n",
       ".list-inline>li:not(:last-child)::after {content: \"\\00b7\"; padding: 0 .5ex}\n",
       "</style>\n",
       "<ol class=list-inline><li>451</li><li>1451</li></ol>\n"
      ],
      "text/latex": [
       "\\begin{enumerate*}\n",
       "\\item 451\n",
       "\\item 1451\n",
       "\\end{enumerate*}\n"
      ],
      "text/markdown": [
       "1. 451\n",
       "2. 1451\n",
       "\n",
       "\n"
      ],
      "text/plain": [
       "[1]  451 1451"
      ]
     },
     "metadata": {},
     "output_type": "display_data"
    }
   ],
   "source": [
    "guide.target.map %>% filter(target == 451) %>% pull(guides)"
   ]
  },
  {
   "cell_type": "code",
   "execution_count": 23,
   "id": "c522d355",
   "metadata": {},
   "outputs": [
    {
     "data": {
      "text/html": [
       "<style>\n",
       ".list-inline {list-style: none; margin:0; padding: 0}\n",
       ".list-inline>li {display: inline-block}\n",
       ".list-inline>li:not(:last-child)::after {content: \"\\00b7\"; padding: 0 .5ex}\n",
       "</style>\n",
       "<ol class=list-inline><li>969</li><li>1969</li></ol>\n"
      ],
      "text/latex": [
       "\\begin{enumerate*}\n",
       "\\item 969\n",
       "\\item 1969\n",
       "\\end{enumerate*}\n"
      ],
      "text/markdown": [
       "1. 969\n",
       "2. 1969\n",
       "\n",
       "\n"
      ],
      "text/plain": [
       "[1]  969 1969"
      ]
     },
     "metadata": {},
     "output_type": "display_data"
    }
   ],
   "source": [
    "guide.target.map %>% filter(target == 969) %>% pull(guides)"
   ]
  },
  {
   "cell_type": "code",
   "execution_count": 32,
   "id": "7a025197",
   "metadata": {},
   "outputs": [
    {
     "data": {
      "text/html": [
       "713"
      ],
      "text/latex": [
       "713"
      ],
      "text/markdown": [
       "713"
      ],
      "text/plain": [
       "[1] 713"
      ]
     },
     "metadata": {},
     "output_type": "display_data"
    }
   ],
   "source": [
    "sum(rowSums(one.hot.guides[,guide.target.map %>% filter(target==451) %>% pull(guides)])>0)"
   ]
  },
  {
   "cell_type": "code",
   "execution_count": 38,
   "id": "4a8b374a",
   "metadata": {},
   "outputs": [
    {
     "data": {
      "text/html": [
       "<style>\n",
       ".list-inline {list-style: none; margin:0; padding: 0}\n",
       ".list-inline>li {display: inline-block}\n",
       ".list-inline>li:not(:last-child)::after {content: \"\\00b7\"; padding: 0 .5ex}\n",
       "</style>\n",
       "<ol class=list-inline><li>1452</li><li>6915</li><li>13458</li><li>14433</li><li>17649</li><li>18523</li><li>24317</li><li>24778</li><li>25132</li><li>27173</li><li>27502</li><li>36004</li><li>41283</li><li>41977</li><li>43782</li><li>47154</li><li>49623</li></ol>\n"
      ],
      "text/latex": [
       "\\begin{enumerate*}\n",
       "\\item 1452\n",
       "\\item 6915\n",
       "\\item 13458\n",
       "\\item 14433\n",
       "\\item 17649\n",
       "\\item 18523\n",
       "\\item 24317\n",
       "\\item 24778\n",
       "\\item 25132\n",
       "\\item 27173\n",
       "\\item 27502\n",
       "\\item 36004\n",
       "\\item 41283\n",
       "\\item 41977\n",
       "\\item 43782\n",
       "\\item 47154\n",
       "\\item 49623\n",
       "\\end{enumerate*}\n"
      ],
      "text/markdown": [
       "1. 1452\n",
       "2. 6915\n",
       "3. 13458\n",
       "4. 14433\n",
       "5. 17649\n",
       "6. 18523\n",
       "7. 24317\n",
       "8. 24778\n",
       "9. 25132\n",
       "10. 27173\n",
       "11. 27502\n",
       "12. 36004\n",
       "13. 41283\n",
       "14. 41977\n",
       "15. 43782\n",
       "16. 47154\n",
       "17. 49623\n",
       "\n",
       "\n"
      ],
      "text/plain": [
       " [1]  1452  6915 13458 14433 17649 18523 24317 24778 25132 27173 27502 36004\n",
       "[13] 41283 41977 43782 47154 49623"
      ]
     },
     "metadata": {},
     "output_type": "display_data"
    }
   ],
   "source": [
    "which(((rowSums(one.hot.guides[,guide.target.map %>% filter(target == 451) %>% pull(guides)])>0) &(rowSums(one.hot.guides[,guide.target.map %>% filter(target == 969) %>% pull(guides)])>0)))"
   ]
  },
  {
   "cell_type": "code",
   "execution_count": 20,
   "id": "37677f52",
   "metadata": {},
   "outputs": [
    {
     "data": {
      "text/html": [
       "4"
      ],
      "text/latex": [
       "4"
      ],
      "text/markdown": [
       "4"
      ],
      "text/plain": [
       "[1] 4"
      ]
     },
     "metadata": {},
     "output_type": "display_data"
    }
   ],
   "source": [
    "length(which(rowSums(one.hot.guides[,c(451,969)])==2))"
   ]
  },
  {
   "cell_type": "code",
   "execution_count": 21,
   "id": "cf7df6a7",
   "metadata": {},
   "outputs": [
    {
     "data": {
      "text/html": [
       "1000"
      ],
      "text/latex": [
       "1000"
      ],
      "text/markdown": [
       "1000"
      ],
      "text/plain": [
       "[1] 1000"
      ]
     },
     "metadata": {},
     "output_type": "display_data"
    }
   ],
   "source": [
    "nrow(pairs)"
   ]
  },
  {
   "cell_type": "markdown",
   "id": "a29d735c",
   "metadata": {},
   "source": [
    "Count number of cells each enhancer pair appears in"
   ]
  },
  {
   "cell_type": "code",
   "execution_count": 39,
   "id": "1ad9b23e",
   "metadata": {},
   "outputs": [],
   "source": [
    "ncells <- c()\n",
    "\n",
    "for (i in 1:nrow(pairs)) {\n",
    "    tsA <- pairs[i,]$tsA\n",
    "    tsB <- pairs[i,]$tsB\n",
    "    tsA.guides <- guide.target.map %>% filter(target == tsA) %>% pull(guides)\n",
    "    tsB.guides <- guide.target.map %>% filter(target == tsB) %>% pull(guides)\n",
    "    cells.with.tsA <- rowSums(one.hot.guides[,tsA.guides])>0\n",
    "    cells.with.tsB <- rowSums(one.hot.guides[,tsB.guides])>0\n",
    "    n <- sum(cells.with.tsA & cells.with.tsB)\n",
    "    ncells[i] <- n\n",
    "}"
   ]
  },
  {
   "cell_type": "code",
   "execution_count": 40,
   "id": "f495e54c",
   "metadata": {},
   "outputs": [
    {
     "data": {
      "image/png": "[encoded data removed]",
      "text/plain": [
       "Plot with title “Histogram of ncells”"
      ]
     },
     "metadata": {
      "image/png": {
       "height": 420,
       "width": 420
      }
     },
     "output_type": "display_data"
    }
   ],
   "source": [
    "hist(ncells)"
   ]
  },
  {
   "cell_type": "code",
   "execution_count": 9,
   "id": "6606e237",
   "metadata": {},
   "outputs": [
    {
     "data": {
      "text/html": [
       "<table class=\"dataframe\">\n",
       "<caption>A data.frame: 6 × 5</caption>\n",
       "<thead>\n",
       "\t<tr><th></th><th scope=col>1</th><th scope=col>10</th><th scope=col>100</th><th scope=col>guide</th><th scope=col>true</th></tr>\n",
       "\t<tr><th></th><th scope=col>&lt;dbl&gt;</th><th scope=col>&lt;dbl&gt;</th><th scope=col>&lt;dbl&gt;</th><th scope=col>&lt;int&gt;</th><th scope=col>&lt;dbl&gt;</th></tr>\n",
       "</thead>\n",
       "<tbody>\n",
       "\t<tr><th scope=row>1</th><td>0.9999127</td><td>0.9701345</td><td>0.9573024</td><td>1</td><td>0.9407101</td></tr>\n",
       "\t<tr><th scope=row>2</th><td>0.9922775</td><td>0.6507447</td><td>0.7224678</td><td>2</td><td>0.6398819</td></tr>\n",
       "\t<tr><th scope=row>3</th><td>0.4371766</td><td>0.3407681</td><td>0.5648530</td><td>3</td><td>0.5488414</td></tr>\n",
       "\t<tr><th scope=row>4</th><td>0.7180494</td><td>0.8951695</td><td>0.7066128</td><td>4</td><td>0.7405706</td></tr>\n",
       "\t<tr><th scope=row>5</th><td>0.8772736</td><td>0.6937996</td><td>0.7152903</td><td>5</td><td>0.6774894</td></tr>\n",
       "\t<tr><th scope=row>6</th><td>0.0479257</td><td>0.2100898</td><td>0.3037941</td><td>6</td><td>0.2468037</td></tr>\n",
       "</tbody>\n",
       "</table>\n"
      ],
      "text/latex": [
       "A data.frame: 6 × 5\n",
       "\\begin{tabular}{r|lllll}\n",
       "  & 1 & 10 & 100 & guide & true\\\\\n",
       "  & <dbl> & <dbl> & <dbl> & <int> & <dbl>\\\\\n",
       "\\hline\n",
       "\t1 & 0.9999127 & 0.9701345 & 0.9573024 & 1 & 0.9407101\\\\\n",
       "\t2 & 0.9922775 & 0.6507447 & 0.7224678 & 2 & 0.6398819\\\\\n",
       "\t3 & 0.4371766 & 0.3407681 & 0.5648530 & 3 & 0.5488414\\\\\n",
       "\t4 & 0.7180494 & 0.8951695 & 0.7066128 & 4 & 0.7405706\\\\\n",
       "\t5 & 0.8772736 & 0.6937996 & 0.7152903 & 5 & 0.6774894\\\\\n",
       "\t6 & 0.0479257 & 0.2100898 & 0.3037941 & 6 & 0.2468037\\\\\n",
       "\\end{tabular}\n"
      ],
      "text/markdown": [
       "\n",
       "A data.frame: 6 × 5\n",
       "\n",
       "| <!--/--> | 1 &lt;dbl&gt; | 10 &lt;dbl&gt; | 100 &lt;dbl&gt; | guide &lt;int&gt; | true &lt;dbl&gt; |\n",
       "|---|---|---|---|---|---|\n",
       "| 1 | 0.9999127 | 0.9701345 | 0.9573024 | 1 | 0.9407101 |\n",
       "| 2 | 0.9922775 | 0.6507447 | 0.7224678 | 2 | 0.6398819 |\n",
       "| 3 | 0.4371766 | 0.3407681 | 0.5648530 | 3 | 0.5488414 |\n",
       "| 4 | 0.7180494 | 0.8951695 | 0.7066128 | 4 | 0.7405706 |\n",
       "| 5 | 0.8772736 | 0.6937996 | 0.7152903 | 5 | 0.6774894 |\n",
       "| 6 | 0.0479257 | 0.2100898 | 0.3037941 | 6 | 0.2468037 |\n",
       "\n"
      ],
      "text/plain": [
       "  1         10        100       guide true     \n",
       "1 0.9999127 0.9701345 0.9573024 1     0.9407101\n",
       "2 0.9922775 0.6507447 0.7224678 2     0.6398819\n",
       "3 0.4371766 0.3407681 0.5648530 3     0.5488414\n",
       "4 0.7180494 0.8951695 0.7066128 4     0.7405706\n",
       "5 0.8772736 0.6937996 0.7152903 5     0.6774894\n",
       "6 0.0479257 0.2100898 0.3037941 6     0.2468037"
      ]
     },
     "metadata": {},
     "output_type": "display_data"
    }
   ],
   "source": [
    "noisy.efficiencies <- h5read(fh, \"guides/noisy_guide_efficiencies\")\n",
    "head(noisy.efficiencies)"
   ]
  },
  {
   "cell_type": "code",
   "execution_count": null,
   "id": "9d54e7e8",
   "metadata": {},
   "outputs": [],
   "source": []
  },
  {
   "cell_type": "code",
   "execution_count": null,
   "id": "3f29b99d",
   "metadata": {},
   "outputs": [],
   "source": []
  }
 ],
 "metadata": {
  "kernelspec": {
   "display_name": "R [conda env:crisprqtl]",
   "language": "R",
   "name": "conda-env-crisprqtl-r"
  },
  "language_info": {
   "codemirror_mode": "r",
   "file_extension": ".r",
   "mimetype": "text/x-r-source",
   "name": "R",
   "pygments_lexer": "r",
   "version": "4.1.3"
  }
 },
 "nbformat": 4,
 "nbformat_minor": 5
}
