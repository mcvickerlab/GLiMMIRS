{
 "cells": [
  {
   "cell_type": "markdown",
   "metadata": {},
   "source": [
    "# Pilot Cell Cycle Scoring\n",
    "\n",
    "This notebook contains the code required to compute the cell cycle scores for the pilot dataset at high MOI. \n",
    "\n",
    "Author: Karthik Guruvayurappan"
   ]
  },
  {
   "cell_type": "code",
   "execution_count": 1,
   "metadata": {
    "vscode": {
     "languageId": "r"
    }
   },
   "outputs": [
    {
     "name": "stderr",
     "output_type": "stream",
     "text": [
      "Warning message:\n",
      "“replacing previous import ‘lifecycle::last_warnings’ by ‘rlang::last_warnings’ when loading ‘tibble’”\n",
      "Attaching SeuratObject\n",
      "\n",
      "Attaching sp\n",
      "\n",
      "Warning message:\n",
      "“replacing previous import ‘lifecycle::last_warnings’ by ‘rlang::last_warnings’ when loading ‘hms’”\n"
     ]
    }
   ],
   "source": [
    "library('Seurat')\n",
    "library('Matrix')\n",
    "library('biomaRt')\n",
    "library(ggplot2)"
   ]
  },
  {
   "cell_type": "code",
   "execution_count": 3,
   "metadata": {
    "vscode": {
     "languageId": "r"
    }
   },
   "outputs": [
    {
     "data": {
      "text/plain": [
       "6 x 47650 sparse Matrix of class \"dgTMatrix\"\n",
       "                                                                               \n",
       "[1,] . . . . . . . . . . . . . . . . . . . . . . . . . . . . . . . . . . ......\n",
       "[2,] . . . . . . . . . . . . . . . . . . . . . . . . . . . . . . . . . . ......\n",
       "[3,] . . . . . . . . . . . . . . . . . . . . . . . . . . . . . . . . . . ......\n",
       "[4,] . . . . . . . . . . . . . . . . . . . . . . . . . . . . . . . . . . ......\n",
       "[5,] . . . . . . . . . . . . . . . . . . . . . . . . . . . . . . . . . . ......\n",
       "[6,] . . . . . . . 1 . . . . . 1 . . . . . . . . . . . . . . 1 . . . . . ......\n",
       "\n",
       " .....suppressing 47616 columns in show(); maybe adjust 'options(max.print= *, width = *)'\n",
       " .............................."
      ]
     },
     "metadata": {},
     "output_type": "display_data"
    }
   ],
   "source": [
    "# load in UMI count (expression) matrix\n",
    "expression.matrix <- readMM('/iblm/netapp/data1/external/Gasperini2019/suppl/GSE120861_pilot_highmoi_screen.exprs.mtx.gz')\n",
    "head(expression.matrix)"
   ]
  },
  {
   "cell_type": "code",
   "execution_count": 4,
   "metadata": {
    "vscode": {
     "languageId": "r"
    }
   },
   "outputs": [
    {
     "data": {
      "text/html": [
       "<table class=\"dataframe\">\n",
       "<caption>A data.frame: 6 × 47650</caption>\n",
       "<thead>\n",
       "\t<tr><th></th><th scope=col>V1</th><th scope=col>V2</th><th scope=col>V3</th><th scope=col>V4</th><th scope=col>V5</th><th scope=col>V6</th><th scope=col>V7</th><th scope=col>V8</th><th scope=col>V9</th><th scope=col>V10</th><th scope=col>⋯</th><th scope=col>V47641</th><th scope=col>V47642</th><th scope=col>V47643</th><th scope=col>V47644</th><th scope=col>V47645</th><th scope=col>V47646</th><th scope=col>V47647</th><th scope=col>V47648</th><th scope=col>V47649</th><th scope=col>V47650</th></tr>\n",
       "\t<tr><th></th><th scope=col>&lt;dbl&gt;</th><th scope=col>&lt;dbl&gt;</th><th scope=col>&lt;dbl&gt;</th><th scope=col>&lt;dbl&gt;</th><th scope=col>&lt;dbl&gt;</th><th scope=col>&lt;dbl&gt;</th><th scope=col>&lt;dbl&gt;</th><th scope=col>&lt;dbl&gt;</th><th scope=col>&lt;dbl&gt;</th><th scope=col>&lt;dbl&gt;</th><th scope=col>⋯</th><th scope=col>&lt;dbl&gt;</th><th scope=col>&lt;dbl&gt;</th><th scope=col>&lt;dbl&gt;</th><th scope=col>&lt;dbl&gt;</th><th scope=col>&lt;dbl&gt;</th><th scope=col>&lt;dbl&gt;</th><th scope=col>&lt;dbl&gt;</th><th scope=col>&lt;dbl&gt;</th><th scope=col>&lt;dbl&gt;</th><th scope=col>&lt;dbl&gt;</th></tr>\n",
       "</thead>\n",
       "<tbody>\n",
       "\t<tr><th scope=row>1</th><td>0</td><td>0</td><td>0</td><td>0</td><td>0</td><td>0</td><td>0</td><td>0</td><td>0</td><td>0</td><td>⋯</td><td>0</td><td>0</td><td>0</td><td>0</td><td>0</td><td>0</td><td>0</td><td>0</td><td>0</td><td>0</td></tr>\n",
       "\t<tr><th scope=row>2</th><td>0</td><td>0</td><td>0</td><td>0</td><td>0</td><td>0</td><td>0</td><td>0</td><td>0</td><td>0</td><td>⋯</td><td>0</td><td>0</td><td>0</td><td>0</td><td>0</td><td>0</td><td>0</td><td>0</td><td>0</td><td>0</td></tr>\n",
       "\t<tr><th scope=row>3</th><td>0</td><td>0</td><td>0</td><td>0</td><td>0</td><td>0</td><td>0</td><td>0</td><td>0</td><td>0</td><td>⋯</td><td>0</td><td>0</td><td>0</td><td>0</td><td>0</td><td>0</td><td>0</td><td>0</td><td>0</td><td>0</td></tr>\n",
       "\t<tr><th scope=row>4</th><td>0</td><td>0</td><td>0</td><td>0</td><td>0</td><td>0</td><td>0</td><td>0</td><td>0</td><td>0</td><td>⋯</td><td>0</td><td>0</td><td>0</td><td>0</td><td>0</td><td>0</td><td>0</td><td>0</td><td>0</td><td>0</td></tr>\n",
       "\t<tr><th scope=row>5</th><td>0</td><td>0</td><td>0</td><td>0</td><td>0</td><td>0</td><td>0</td><td>0</td><td>0</td><td>0</td><td>⋯</td><td>0</td><td>0</td><td>0</td><td>0</td><td>0</td><td>0</td><td>0</td><td>0</td><td>0</td><td>0</td></tr>\n",
       "\t<tr><th scope=row>6</th><td>0</td><td>0</td><td>0</td><td>0</td><td>0</td><td>0</td><td>0</td><td>1</td><td>0</td><td>0</td><td>⋯</td><td>0</td><td>0</td><td>0</td><td>0</td><td>0</td><td>0</td><td>0</td><td>0</td><td>0</td><td>0</td></tr>\n",
       "</tbody>\n",
       "</table>\n"
      ],
      "text/latex": [
       "A data.frame: 6 × 47650\n",
       "\\begin{tabular}{r|lllllllllllllllllllll}\n",
       "  & V1 & V2 & V3 & V4 & V5 & V6 & V7 & V8 & V9 & V10 & ⋯ & V47641 & V47642 & V47643 & V47644 & V47645 & V47646 & V47647 & V47648 & V47649 & V47650\\\\\n",
       "  & <dbl> & <dbl> & <dbl> & <dbl> & <dbl> & <dbl> & <dbl> & <dbl> & <dbl> & <dbl> & ⋯ & <dbl> & <dbl> & <dbl> & <dbl> & <dbl> & <dbl> & <dbl> & <dbl> & <dbl> & <dbl>\\\\\n",
       "\\hline\n",
       "\t1 & 0 & 0 & 0 & 0 & 0 & 0 & 0 & 0 & 0 & 0 & ⋯ & 0 & 0 & 0 & 0 & 0 & 0 & 0 & 0 & 0 & 0\\\\\n",
       "\t2 & 0 & 0 & 0 & 0 & 0 & 0 & 0 & 0 & 0 & 0 & ⋯ & 0 & 0 & 0 & 0 & 0 & 0 & 0 & 0 & 0 & 0\\\\\n",
       "\t3 & 0 & 0 & 0 & 0 & 0 & 0 & 0 & 0 & 0 & 0 & ⋯ & 0 & 0 & 0 & 0 & 0 & 0 & 0 & 0 & 0 & 0\\\\\n",
       "\t4 & 0 & 0 & 0 & 0 & 0 & 0 & 0 & 0 & 0 & 0 & ⋯ & 0 & 0 & 0 & 0 & 0 & 0 & 0 & 0 & 0 & 0\\\\\n",
       "\t5 & 0 & 0 & 0 & 0 & 0 & 0 & 0 & 0 & 0 & 0 & ⋯ & 0 & 0 & 0 & 0 & 0 & 0 & 0 & 0 & 0 & 0\\\\\n",
       "\t6 & 0 & 0 & 0 & 0 & 0 & 0 & 0 & 1 & 0 & 0 & ⋯ & 0 & 0 & 0 & 0 & 0 & 0 & 0 & 0 & 0 & 0\\\\\n",
       "\\end{tabular}\n"
      ],
      "text/markdown": [
       "\n",
       "A data.frame: 6 × 47650\n",
       "\n",
       "| <!--/--> | V1 &lt;dbl&gt; | V2 &lt;dbl&gt; | V3 &lt;dbl&gt; | V4 &lt;dbl&gt; | V5 &lt;dbl&gt; | V6 &lt;dbl&gt; | V7 &lt;dbl&gt; | V8 &lt;dbl&gt; | V9 &lt;dbl&gt; | V10 &lt;dbl&gt; | ⋯ ⋯ | V47641 &lt;dbl&gt; | V47642 &lt;dbl&gt; | V47643 &lt;dbl&gt; | V47644 &lt;dbl&gt; | V47645 &lt;dbl&gt; | V47646 &lt;dbl&gt; | V47647 &lt;dbl&gt; | V47648 &lt;dbl&gt; | V47649 &lt;dbl&gt; | V47650 &lt;dbl&gt; |\n",
       "|---|---|---|---|---|---|---|---|---|---|---|---|---|---|---|---|---|---|---|---|---|---|\n",
       "| 1 | 0 | 0 | 0 | 0 | 0 | 0 | 0 | 0 | 0 | 0 | ⋯ | 0 | 0 | 0 | 0 | 0 | 0 | 0 | 0 | 0 | 0 |\n",
       "| 2 | 0 | 0 | 0 | 0 | 0 | 0 | 0 | 0 | 0 | 0 | ⋯ | 0 | 0 | 0 | 0 | 0 | 0 | 0 | 0 | 0 | 0 |\n",
       "| 3 | 0 | 0 | 0 | 0 | 0 | 0 | 0 | 0 | 0 | 0 | ⋯ | 0 | 0 | 0 | 0 | 0 | 0 | 0 | 0 | 0 | 0 |\n",
       "| 4 | 0 | 0 | 0 | 0 | 0 | 0 | 0 | 0 | 0 | 0 | ⋯ | 0 | 0 | 0 | 0 | 0 | 0 | 0 | 0 | 0 | 0 |\n",
       "| 5 | 0 | 0 | 0 | 0 | 0 | 0 | 0 | 0 | 0 | 0 | ⋯ | 0 | 0 | 0 | 0 | 0 | 0 | 0 | 0 | 0 | 0 |\n",
       "| 6 | 0 | 0 | 0 | 0 | 0 | 0 | 0 | 1 | 0 | 0 | ⋯ | 0 | 0 | 0 | 0 | 0 | 0 | 0 | 0 | 0 | 0 |\n",
       "\n"
      ],
      "text/plain": [
       "  V1 V2 V3 V4 V5 V6 V7 V8 V9 V10 ⋯ V47641 V47642 V47643 V47644 V47645 V47646\n",
       "1 0  0  0  0  0  0  0  0  0  0   ⋯ 0      0      0      0      0      0     \n",
       "2 0  0  0  0  0  0  0  0  0  0   ⋯ 0      0      0      0      0      0     \n",
       "3 0  0  0  0  0  0  0  0  0  0   ⋯ 0      0      0      0      0      0     \n",
       "4 0  0  0  0  0  0  0  0  0  0   ⋯ 0      0      0      0      0      0     \n",
       "5 0  0  0  0  0  0  0  0  0  0   ⋯ 0      0      0      0      0      0     \n",
       "6 0  0  0  0  0  0  0  1  0  0   ⋯ 0      0      0      0      0      0     \n",
       "  V47647 V47648 V47649 V47650\n",
       "1 0      0      0      0     \n",
       "2 0      0      0      0     \n",
       "3 0      0      0      0     \n",
       "4 0      0      0      0     \n",
       "5 0      0      0      0     \n",
       "6 0      0      0      0     "
      ]
     },
     "metadata": {},
     "output_type": "display_data"
    }
   ],
   "source": [
    "# convert expression matrix from matrix to data frame format\n",
    "expression.matrix <- as.data.frame(expression.matrix)\n",
    "head(expression.matrix)"
   ]
  },
  {
   "cell_type": "code",
   "execution_count": 5,
   "metadata": {
    "vscode": {
     "languageId": "r"
    }
   },
   "outputs": [
    {
     "data": {
      "text/html": [
       "<table class=\"dataframe\">\n",
       "<caption>A data.frame: 6 × 47650</caption>\n",
       "<thead>\n",
       "\t<tr><th></th><th scope=col>AAACCTGAGCGAGAAA-1_K1000_CRISPRi_cells_r1_SI-GA-G1</th><th scope=col>AAACCTGAGCTGTCTA-1_K1000_CRISPRi_cells_r1_SI-GA-G1</th><th scope=col>AAACCTGAGTTATCGC-1_K1000_CRISPRi_cells_r1_SI-GA-G1</th><th scope=col>AAACCTGAGTTCCACA-1_K1000_CRISPRi_cells_r1_SI-GA-G1</th><th scope=col>AAACCTGCAAATACAG-1_K1000_CRISPRi_cells_r1_SI-GA-G1</th><th scope=col>AAACCTGCACTCGACG-1_K1000_CRISPRi_cells_r1_SI-GA-G1</th><th scope=col>AAACCTGCAGTCTTCC-1_K1000_CRISPRi_cells_r1_SI-GA-G1</th><th scope=col>AAACCTGCATGCCTAA-1_K1000_CRISPRi_cells_r1_SI-GA-G1</th><th scope=col>AAACCTGGTCGGCATC-1_K1000_CRISPRi_cells_r1_SI-GA-G1</th><th scope=col>AAACCTGGTCTCTCGT-1_K1000_CRISPRi_cells_r1_SI-GA-G1</th><th scope=col>⋯</th><th scope=col>TTTGTCACAAGGACAC-1_K1000_CRISPRi_cells_r6_SI-GA-G6</th><th scope=col>TTTGTCACACAAGACG-1_K1000_CRISPRi_cells_r6_SI-GA-G6</th><th scope=col>TTTGTCACACTCTGTC-1_K1000_CRISPRi_cells_r6_SI-GA-G6</th><th scope=col>TTTGTCACATTCCTCG-1_K1000_CRISPRi_cells_r6_SI-GA-G6</th><th scope=col>TTTGTCAGTCAGCTAT-1_K1000_CRISPRi_cells_r6_SI-GA-G6</th><th scope=col>TTTGTCAGTGTTTGTG-1_K1000_CRISPRi_cells_r6_SI-GA-G6</th><th scope=col>TTTGTCATCACAAACC-1_K1000_CRISPRi_cells_r6_SI-GA-G6</th><th scope=col>TTTGTCATCAGAGGTG-1_K1000_CRISPRi_cells_r6_SI-GA-G6</th><th scope=col>TTTGTCATCGCGATCG-1_K1000_CRISPRi_cells_r6_SI-GA-G6</th><th scope=col>TTTGTCATCTGGCGTG-1_K1000_CRISPRi_cells_r6_SI-GA-G6</th></tr>\n",
       "\t<tr><th></th><th scope=col>&lt;dbl&gt;</th><th scope=col>&lt;dbl&gt;</th><th scope=col>&lt;dbl&gt;</th><th scope=col>&lt;dbl&gt;</th><th scope=col>&lt;dbl&gt;</th><th scope=col>&lt;dbl&gt;</th><th scope=col>&lt;dbl&gt;</th><th scope=col>&lt;dbl&gt;</th><th scope=col>&lt;dbl&gt;</th><th scope=col>&lt;dbl&gt;</th><th scope=col>⋯</th><th scope=col>&lt;dbl&gt;</th><th scope=col>&lt;dbl&gt;</th><th scope=col>&lt;dbl&gt;</th><th scope=col>&lt;dbl&gt;</th><th scope=col>&lt;dbl&gt;</th><th scope=col>&lt;dbl&gt;</th><th scope=col>&lt;dbl&gt;</th><th scope=col>&lt;dbl&gt;</th><th scope=col>&lt;dbl&gt;</th><th scope=col>&lt;dbl&gt;</th></tr>\n",
       "</thead>\n",
       "<tbody>\n",
       "\t<tr><th scope=row>1</th><td>0</td><td>0</td><td>0</td><td>0</td><td>0</td><td>0</td><td>0</td><td>0</td><td>0</td><td>0</td><td>⋯</td><td>0</td><td>0</td><td>0</td><td>0</td><td>0</td><td>0</td><td>0</td><td>0</td><td>0</td><td>0</td></tr>\n",
       "\t<tr><th scope=row>2</th><td>0</td><td>0</td><td>0</td><td>0</td><td>0</td><td>0</td><td>0</td><td>0</td><td>0</td><td>0</td><td>⋯</td><td>0</td><td>0</td><td>0</td><td>0</td><td>0</td><td>0</td><td>0</td><td>0</td><td>0</td><td>0</td></tr>\n",
       "\t<tr><th scope=row>3</th><td>0</td><td>0</td><td>0</td><td>0</td><td>0</td><td>0</td><td>0</td><td>0</td><td>0</td><td>0</td><td>⋯</td><td>0</td><td>0</td><td>0</td><td>0</td><td>0</td><td>0</td><td>0</td><td>0</td><td>0</td><td>0</td></tr>\n",
       "\t<tr><th scope=row>4</th><td>0</td><td>0</td><td>0</td><td>0</td><td>0</td><td>0</td><td>0</td><td>0</td><td>0</td><td>0</td><td>⋯</td><td>0</td><td>0</td><td>0</td><td>0</td><td>0</td><td>0</td><td>0</td><td>0</td><td>0</td><td>0</td></tr>\n",
       "\t<tr><th scope=row>5</th><td>0</td><td>0</td><td>0</td><td>0</td><td>0</td><td>0</td><td>0</td><td>0</td><td>0</td><td>0</td><td>⋯</td><td>0</td><td>0</td><td>0</td><td>0</td><td>0</td><td>0</td><td>0</td><td>0</td><td>0</td><td>0</td></tr>\n",
       "\t<tr><th scope=row>6</th><td>0</td><td>0</td><td>0</td><td>0</td><td>0</td><td>0</td><td>0</td><td>1</td><td>0</td><td>0</td><td>⋯</td><td>0</td><td>0</td><td>0</td><td>0</td><td>0</td><td>0</td><td>0</td><td>0</td><td>0</td><td>0</td></tr>\n",
       "</tbody>\n",
       "</table>\n"
      ],
      "text/latex": [
       "A data.frame: 6 × 47650\n",
       "\\begin{tabular}{r|lllllllllllllllllllll}\n",
       "  & AAACCTGAGCGAGAAA-1\\_K1000\\_CRISPRi\\_cells\\_r1\\_SI-GA-G1 & AAACCTGAGCTGTCTA-1\\_K1000\\_CRISPRi\\_cells\\_r1\\_SI-GA-G1 & AAACCTGAGTTATCGC-1\\_K1000\\_CRISPRi\\_cells\\_r1\\_SI-GA-G1 & AAACCTGAGTTCCACA-1\\_K1000\\_CRISPRi\\_cells\\_r1\\_SI-GA-G1 & AAACCTGCAAATACAG-1\\_K1000\\_CRISPRi\\_cells\\_r1\\_SI-GA-G1 & AAACCTGCACTCGACG-1\\_K1000\\_CRISPRi\\_cells\\_r1\\_SI-GA-G1 & AAACCTGCAGTCTTCC-1\\_K1000\\_CRISPRi\\_cells\\_r1\\_SI-GA-G1 & AAACCTGCATGCCTAA-1\\_K1000\\_CRISPRi\\_cells\\_r1\\_SI-GA-G1 & AAACCTGGTCGGCATC-1\\_K1000\\_CRISPRi\\_cells\\_r1\\_SI-GA-G1 & AAACCTGGTCTCTCGT-1\\_K1000\\_CRISPRi\\_cells\\_r1\\_SI-GA-G1 & ⋯ & TTTGTCACAAGGACAC-1\\_K1000\\_CRISPRi\\_cells\\_r6\\_SI-GA-G6 & TTTGTCACACAAGACG-1\\_K1000\\_CRISPRi\\_cells\\_r6\\_SI-GA-G6 & TTTGTCACACTCTGTC-1\\_K1000\\_CRISPRi\\_cells\\_r6\\_SI-GA-G6 & TTTGTCACATTCCTCG-1\\_K1000\\_CRISPRi\\_cells\\_r6\\_SI-GA-G6 & TTTGTCAGTCAGCTAT-1\\_K1000\\_CRISPRi\\_cells\\_r6\\_SI-GA-G6 & TTTGTCAGTGTTTGTG-1\\_K1000\\_CRISPRi\\_cells\\_r6\\_SI-GA-G6 & TTTGTCATCACAAACC-1\\_K1000\\_CRISPRi\\_cells\\_r6\\_SI-GA-G6 & TTTGTCATCAGAGGTG-1\\_K1000\\_CRISPRi\\_cells\\_r6\\_SI-GA-G6 & TTTGTCATCGCGATCG-1\\_K1000\\_CRISPRi\\_cells\\_r6\\_SI-GA-G6 & TTTGTCATCTGGCGTG-1\\_K1000\\_CRISPRi\\_cells\\_r6\\_SI-GA-G6\\\\\n",
       "  & <dbl> & <dbl> & <dbl> & <dbl> & <dbl> & <dbl> & <dbl> & <dbl> & <dbl> & <dbl> & ⋯ & <dbl> & <dbl> & <dbl> & <dbl> & <dbl> & <dbl> & <dbl> & <dbl> & <dbl> & <dbl>\\\\\n",
       "\\hline\n",
       "\t1 & 0 & 0 & 0 & 0 & 0 & 0 & 0 & 0 & 0 & 0 & ⋯ & 0 & 0 & 0 & 0 & 0 & 0 & 0 & 0 & 0 & 0\\\\\n",
       "\t2 & 0 & 0 & 0 & 0 & 0 & 0 & 0 & 0 & 0 & 0 & ⋯ & 0 & 0 & 0 & 0 & 0 & 0 & 0 & 0 & 0 & 0\\\\\n",
       "\t3 & 0 & 0 & 0 & 0 & 0 & 0 & 0 & 0 & 0 & 0 & ⋯ & 0 & 0 & 0 & 0 & 0 & 0 & 0 & 0 & 0 & 0\\\\\n",
       "\t4 & 0 & 0 & 0 & 0 & 0 & 0 & 0 & 0 & 0 & 0 & ⋯ & 0 & 0 & 0 & 0 & 0 & 0 & 0 & 0 & 0 & 0\\\\\n",
       "\t5 & 0 & 0 & 0 & 0 & 0 & 0 & 0 & 0 & 0 & 0 & ⋯ & 0 & 0 & 0 & 0 & 0 & 0 & 0 & 0 & 0 & 0\\\\\n",
       "\t6 & 0 & 0 & 0 & 0 & 0 & 0 & 0 & 1 & 0 & 0 & ⋯ & 0 & 0 & 0 & 0 & 0 & 0 & 0 & 0 & 0 & 0\\\\\n",
       "\\end{tabular}\n"
      ],
      "text/markdown": [
       "\n",
       "A data.frame: 6 × 47650\n",
       "\n",
       "| <!--/--> | AAACCTGAGCGAGAAA-1_K1000_CRISPRi_cells_r1_SI-GA-G1 &lt;dbl&gt; | AAACCTGAGCTGTCTA-1_K1000_CRISPRi_cells_r1_SI-GA-G1 &lt;dbl&gt; | AAACCTGAGTTATCGC-1_K1000_CRISPRi_cells_r1_SI-GA-G1 &lt;dbl&gt; | AAACCTGAGTTCCACA-1_K1000_CRISPRi_cells_r1_SI-GA-G1 &lt;dbl&gt; | AAACCTGCAAATACAG-1_K1000_CRISPRi_cells_r1_SI-GA-G1 &lt;dbl&gt; | AAACCTGCACTCGACG-1_K1000_CRISPRi_cells_r1_SI-GA-G1 &lt;dbl&gt; | AAACCTGCAGTCTTCC-1_K1000_CRISPRi_cells_r1_SI-GA-G1 &lt;dbl&gt; | AAACCTGCATGCCTAA-1_K1000_CRISPRi_cells_r1_SI-GA-G1 &lt;dbl&gt; | AAACCTGGTCGGCATC-1_K1000_CRISPRi_cells_r1_SI-GA-G1 &lt;dbl&gt; | AAACCTGGTCTCTCGT-1_K1000_CRISPRi_cells_r1_SI-GA-G1 &lt;dbl&gt; | ⋯ ⋯ | TTTGTCACAAGGACAC-1_K1000_CRISPRi_cells_r6_SI-GA-G6 &lt;dbl&gt; | TTTGTCACACAAGACG-1_K1000_CRISPRi_cells_r6_SI-GA-G6 &lt;dbl&gt; | TTTGTCACACTCTGTC-1_K1000_CRISPRi_cells_r6_SI-GA-G6 &lt;dbl&gt; | TTTGTCACATTCCTCG-1_K1000_CRISPRi_cells_r6_SI-GA-G6 &lt;dbl&gt; | TTTGTCAGTCAGCTAT-1_K1000_CRISPRi_cells_r6_SI-GA-G6 &lt;dbl&gt; | TTTGTCAGTGTTTGTG-1_K1000_CRISPRi_cells_r6_SI-GA-G6 &lt;dbl&gt; | TTTGTCATCACAAACC-1_K1000_CRISPRi_cells_r6_SI-GA-G6 &lt;dbl&gt; | TTTGTCATCAGAGGTG-1_K1000_CRISPRi_cells_r6_SI-GA-G6 &lt;dbl&gt; | TTTGTCATCGCGATCG-1_K1000_CRISPRi_cells_r6_SI-GA-G6 &lt;dbl&gt; | TTTGTCATCTGGCGTG-1_K1000_CRISPRi_cells_r6_SI-GA-G6 &lt;dbl&gt; |\n",
       "|---|---|---|---|---|---|---|---|---|---|---|---|---|---|---|---|---|---|---|---|---|---|\n",
       "| 1 | 0 | 0 | 0 | 0 | 0 | 0 | 0 | 0 | 0 | 0 | ⋯ | 0 | 0 | 0 | 0 | 0 | 0 | 0 | 0 | 0 | 0 |\n",
       "| 2 | 0 | 0 | 0 | 0 | 0 | 0 | 0 | 0 | 0 | 0 | ⋯ | 0 | 0 | 0 | 0 | 0 | 0 | 0 | 0 | 0 | 0 |\n",
       "| 3 | 0 | 0 | 0 | 0 | 0 | 0 | 0 | 0 | 0 | 0 | ⋯ | 0 | 0 | 0 | 0 | 0 | 0 | 0 | 0 | 0 | 0 |\n",
       "| 4 | 0 | 0 | 0 | 0 | 0 | 0 | 0 | 0 | 0 | 0 | ⋯ | 0 | 0 | 0 | 0 | 0 | 0 | 0 | 0 | 0 | 0 |\n",
       "| 5 | 0 | 0 | 0 | 0 | 0 | 0 | 0 | 0 | 0 | 0 | ⋯ | 0 | 0 | 0 | 0 | 0 | 0 | 0 | 0 | 0 | 0 |\n",
       "| 6 | 0 | 0 | 0 | 0 | 0 | 0 | 0 | 1 | 0 | 0 | ⋯ | 0 | 0 | 0 | 0 | 0 | 0 | 0 | 0 | 0 | 0 |\n",
       "\n"
      ],
      "text/plain": [
       "  AAACCTGAGCGAGAAA-1_K1000_CRISPRi_cells_r1_SI-GA-G1\n",
       "1 0                                                 \n",
       "2 0                                                 \n",
       "3 0                                                 \n",
       "4 0                                                 \n",
       "5 0                                                 \n",
       "6 0                                                 \n",
       "  AAACCTGAGCTGTCTA-1_K1000_CRISPRi_cells_r1_SI-GA-G1\n",
       "1 0                                                 \n",
       "2 0                                                 \n",
       "3 0                                                 \n",
       "4 0                                                 \n",
       "5 0                                                 \n",
       "6 0                                                 \n",
       "  AAACCTGAGTTATCGC-1_K1000_CRISPRi_cells_r1_SI-GA-G1\n",
       "1 0                                                 \n",
       "2 0                                                 \n",
       "3 0                                                 \n",
       "4 0                                                 \n",
       "5 0                                                 \n",
       "6 0                                                 \n",
       "  AAACCTGAGTTCCACA-1_K1000_CRISPRi_cells_r1_SI-GA-G1\n",
       "1 0                                                 \n",
       "2 0                                                 \n",
       "3 0                                                 \n",
       "4 0                                                 \n",
       "5 0                                                 \n",
       "6 0                                                 \n",
       "  AAACCTGCAAATACAG-1_K1000_CRISPRi_cells_r1_SI-GA-G1\n",
       "1 0                                                 \n",
       "2 0                                                 \n",
       "3 0                                                 \n",
       "4 0                                                 \n",
       "5 0                                                 \n",
       "6 0                                                 \n",
       "  AAACCTGCACTCGACG-1_K1000_CRISPRi_cells_r1_SI-GA-G1\n",
       "1 0                                                 \n",
       "2 0                                                 \n",
       "3 0                                                 \n",
       "4 0                                                 \n",
       "5 0                                                 \n",
       "6 0                                                 \n",
       "  AAACCTGCAGTCTTCC-1_K1000_CRISPRi_cells_r1_SI-GA-G1\n",
       "1 0                                                 \n",
       "2 0                                                 \n",
       "3 0                                                 \n",
       "4 0                                                 \n",
       "5 0                                                 \n",
       "6 0                                                 \n",
       "  AAACCTGCATGCCTAA-1_K1000_CRISPRi_cells_r1_SI-GA-G1\n",
       "1 0                                                 \n",
       "2 0                                                 \n",
       "3 0                                                 \n",
       "4 0                                                 \n",
       "5 0                                                 \n",
       "6 1                                                 \n",
       "  AAACCTGGTCGGCATC-1_K1000_CRISPRi_cells_r1_SI-GA-G1\n",
       "1 0                                                 \n",
       "2 0                                                 \n",
       "3 0                                                 \n",
       "4 0                                                 \n",
       "5 0                                                 \n",
       "6 0                                                 \n",
       "  AAACCTGGTCTCTCGT-1_K1000_CRISPRi_cells_r1_SI-GA-G1 ⋯\n",
       "1 0                                                  ⋯\n",
       "2 0                                                  ⋯\n",
       "3 0                                                  ⋯\n",
       "4 0                                                  ⋯\n",
       "5 0                                                  ⋯\n",
       "6 0                                                  ⋯\n",
       "  TTTGTCACAAGGACAC-1_K1000_CRISPRi_cells_r6_SI-GA-G6\n",
       "1 0                                                 \n",
       "2 0                                                 \n",
       "3 0                                                 \n",
       "4 0                                                 \n",
       "5 0                                                 \n",
       "6 0                                                 \n",
       "  TTTGTCACACAAGACG-1_K1000_CRISPRi_cells_r6_SI-GA-G6\n",
       "1 0                                                 \n",
       "2 0                                                 \n",
       "3 0                                                 \n",
       "4 0                                                 \n",
       "5 0                                                 \n",
       "6 0                                                 \n",
       "  TTTGTCACACTCTGTC-1_K1000_CRISPRi_cells_r6_SI-GA-G6\n",
       "1 0                                                 \n",
       "2 0                                                 \n",
       "3 0                                                 \n",
       "4 0                                                 \n",
       "5 0                                                 \n",
       "6 0                                                 \n",
       "  TTTGTCACATTCCTCG-1_K1000_CRISPRi_cells_r6_SI-GA-G6\n",
       "1 0                                                 \n",
       "2 0                                                 \n",
       "3 0                                                 \n",
       "4 0                                                 \n",
       "5 0                                                 \n",
       "6 0                                                 \n",
       "  TTTGTCAGTCAGCTAT-1_K1000_CRISPRi_cells_r6_SI-GA-G6\n",
       "1 0                                                 \n",
       "2 0                                                 \n",
       "3 0                                                 \n",
       "4 0                                                 \n",
       "5 0                                                 \n",
       "6 0                                                 \n",
       "  TTTGTCAGTGTTTGTG-1_K1000_CRISPRi_cells_r6_SI-GA-G6\n",
       "1 0                                                 \n",
       "2 0                                                 \n",
       "3 0                                                 \n",
       "4 0                                                 \n",
       "5 0                                                 \n",
       "6 0                                                 \n",
       "  TTTGTCATCACAAACC-1_K1000_CRISPRi_cells_r6_SI-GA-G6\n",
       "1 0                                                 \n",
       "2 0                                                 \n",
       "3 0                                                 \n",
       "4 0                                                 \n",
       "5 0                                                 \n",
       "6 0                                                 \n",
       "  TTTGTCATCAGAGGTG-1_K1000_CRISPRi_cells_r6_SI-GA-G6\n",
       "1 0                                                 \n",
       "2 0                                                 \n",
       "3 0                                                 \n",
       "4 0                                                 \n",
       "5 0                                                 \n",
       "6 0                                                 \n",
       "  TTTGTCATCGCGATCG-1_K1000_CRISPRi_cells_r6_SI-GA-G6\n",
       "1 0                                                 \n",
       "2 0                                                 \n",
       "3 0                                                 \n",
       "4 0                                                 \n",
       "5 0                                                 \n",
       "6 0                                                 \n",
       "  TTTGTCATCTGGCGTG-1_K1000_CRISPRi_cells_r6_SI-GA-G6\n",
       "1 0                                                 \n",
       "2 0                                                 \n",
       "3 0                                                 \n",
       "4 0                                                 \n",
       "5 0                                                 \n",
       "6 0                                                 "
      ]
     },
     "metadata": {},
     "output_type": "display_data"
    }
   ],
   "source": [
    "# read in column names and add to expression matrix\n",
    "cell.barcodes <- read.delim('/iblm/netapp/data1/external/Gasperini2019/suppl/GSE120861_pilot_highmoi_screen.cells.txt.gz', header = FALSE)\n",
    "cell.barcodes <- cell.barcodes$V1\n",
    "colnames(expression.matrix) <- cell.barcodes\n",
    "head(expression.matrix)"
   ]
  },
  {
   "cell_type": "code",
   "execution_count": 6,
   "metadata": {
    "vscode": {
     "languageId": "r"
    }
   },
   "outputs": [
    {
     "data": {
      "text/html": [
       "<table class=\"dataframe\">\n",
       "<caption>A data.frame: 6 × 47650</caption>\n",
       "<thead>\n",
       "\t<tr><th></th><th scope=col>AAACCTGAGCGAGAAA-1_K1000_CRISPRi_cells_r1_SI-GA-G1</th><th scope=col>AAACCTGAGCTGTCTA-1_K1000_CRISPRi_cells_r1_SI-GA-G1</th><th scope=col>AAACCTGAGTTATCGC-1_K1000_CRISPRi_cells_r1_SI-GA-G1</th><th scope=col>AAACCTGAGTTCCACA-1_K1000_CRISPRi_cells_r1_SI-GA-G1</th><th scope=col>AAACCTGCAAATACAG-1_K1000_CRISPRi_cells_r1_SI-GA-G1</th><th scope=col>AAACCTGCACTCGACG-1_K1000_CRISPRi_cells_r1_SI-GA-G1</th><th scope=col>AAACCTGCAGTCTTCC-1_K1000_CRISPRi_cells_r1_SI-GA-G1</th><th scope=col>AAACCTGCATGCCTAA-1_K1000_CRISPRi_cells_r1_SI-GA-G1</th><th scope=col>AAACCTGGTCGGCATC-1_K1000_CRISPRi_cells_r1_SI-GA-G1</th><th scope=col>AAACCTGGTCTCTCGT-1_K1000_CRISPRi_cells_r1_SI-GA-G1</th><th scope=col>⋯</th><th scope=col>TTTGTCACAAGGACAC-1_K1000_CRISPRi_cells_r6_SI-GA-G6</th><th scope=col>TTTGTCACACAAGACG-1_K1000_CRISPRi_cells_r6_SI-GA-G6</th><th scope=col>TTTGTCACACTCTGTC-1_K1000_CRISPRi_cells_r6_SI-GA-G6</th><th scope=col>TTTGTCACATTCCTCG-1_K1000_CRISPRi_cells_r6_SI-GA-G6</th><th scope=col>TTTGTCAGTCAGCTAT-1_K1000_CRISPRi_cells_r6_SI-GA-G6</th><th scope=col>TTTGTCAGTGTTTGTG-1_K1000_CRISPRi_cells_r6_SI-GA-G6</th><th scope=col>TTTGTCATCACAAACC-1_K1000_CRISPRi_cells_r6_SI-GA-G6</th><th scope=col>TTTGTCATCAGAGGTG-1_K1000_CRISPRi_cells_r6_SI-GA-G6</th><th scope=col>TTTGTCATCGCGATCG-1_K1000_CRISPRi_cells_r6_SI-GA-G6</th><th scope=col>TTTGTCATCTGGCGTG-1_K1000_CRISPRi_cells_r6_SI-GA-G6</th></tr>\n",
       "\t<tr><th></th><th scope=col>&lt;dbl&gt;</th><th scope=col>&lt;dbl&gt;</th><th scope=col>&lt;dbl&gt;</th><th scope=col>&lt;dbl&gt;</th><th scope=col>&lt;dbl&gt;</th><th scope=col>&lt;dbl&gt;</th><th scope=col>&lt;dbl&gt;</th><th scope=col>&lt;dbl&gt;</th><th scope=col>&lt;dbl&gt;</th><th scope=col>&lt;dbl&gt;</th><th scope=col>⋯</th><th scope=col>&lt;dbl&gt;</th><th scope=col>&lt;dbl&gt;</th><th scope=col>&lt;dbl&gt;</th><th scope=col>&lt;dbl&gt;</th><th scope=col>&lt;dbl&gt;</th><th scope=col>&lt;dbl&gt;</th><th scope=col>&lt;dbl&gt;</th><th scope=col>&lt;dbl&gt;</th><th scope=col>&lt;dbl&gt;</th><th scope=col>&lt;dbl&gt;</th></tr>\n",
       "</thead>\n",
       "<tbody>\n",
       "\t<tr><th scope=row>ENSG00000243485</th><td>0</td><td>0</td><td>0</td><td>0</td><td>0</td><td>0</td><td>0</td><td>0</td><td>0</td><td>0</td><td>⋯</td><td>0</td><td>0</td><td>0</td><td>0</td><td>0</td><td>0</td><td>0</td><td>0</td><td>0</td><td>0</td></tr>\n",
       "\t<tr><th scope=row>ENSG00000237613</th><td>0</td><td>0</td><td>0</td><td>0</td><td>0</td><td>0</td><td>0</td><td>0</td><td>0</td><td>0</td><td>⋯</td><td>0</td><td>0</td><td>0</td><td>0</td><td>0</td><td>0</td><td>0</td><td>0</td><td>0</td><td>0</td></tr>\n",
       "\t<tr><th scope=row>ENSG00000186092</th><td>0</td><td>0</td><td>0</td><td>0</td><td>0</td><td>0</td><td>0</td><td>0</td><td>0</td><td>0</td><td>⋯</td><td>0</td><td>0</td><td>0</td><td>0</td><td>0</td><td>0</td><td>0</td><td>0</td><td>0</td><td>0</td></tr>\n",
       "\t<tr><th scope=row>ENSG00000238009</th><td>0</td><td>0</td><td>0</td><td>0</td><td>0</td><td>0</td><td>0</td><td>0</td><td>0</td><td>0</td><td>⋯</td><td>0</td><td>0</td><td>0</td><td>0</td><td>0</td><td>0</td><td>0</td><td>0</td><td>0</td><td>0</td></tr>\n",
       "\t<tr><th scope=row>ENSG00000239945</th><td>0</td><td>0</td><td>0</td><td>0</td><td>0</td><td>0</td><td>0</td><td>0</td><td>0</td><td>0</td><td>⋯</td><td>0</td><td>0</td><td>0</td><td>0</td><td>0</td><td>0</td><td>0</td><td>0</td><td>0</td><td>0</td></tr>\n",
       "\t<tr><th scope=row>ENSG00000237683</th><td>0</td><td>0</td><td>0</td><td>0</td><td>0</td><td>0</td><td>0</td><td>1</td><td>0</td><td>0</td><td>⋯</td><td>0</td><td>0</td><td>0</td><td>0</td><td>0</td><td>0</td><td>0</td><td>0</td><td>0</td><td>0</td></tr>\n",
       "</tbody>\n",
       "</table>\n"
      ],
      "text/latex": [
       "A data.frame: 6 × 47650\n",
       "\\begin{tabular}{r|lllllllllllllllllllll}\n",
       "  & AAACCTGAGCGAGAAA-1\\_K1000\\_CRISPRi\\_cells\\_r1\\_SI-GA-G1 & AAACCTGAGCTGTCTA-1\\_K1000\\_CRISPRi\\_cells\\_r1\\_SI-GA-G1 & AAACCTGAGTTATCGC-1\\_K1000\\_CRISPRi\\_cells\\_r1\\_SI-GA-G1 & AAACCTGAGTTCCACA-1\\_K1000\\_CRISPRi\\_cells\\_r1\\_SI-GA-G1 & AAACCTGCAAATACAG-1\\_K1000\\_CRISPRi\\_cells\\_r1\\_SI-GA-G1 & AAACCTGCACTCGACG-1\\_K1000\\_CRISPRi\\_cells\\_r1\\_SI-GA-G1 & AAACCTGCAGTCTTCC-1\\_K1000\\_CRISPRi\\_cells\\_r1\\_SI-GA-G1 & AAACCTGCATGCCTAA-1\\_K1000\\_CRISPRi\\_cells\\_r1\\_SI-GA-G1 & AAACCTGGTCGGCATC-1\\_K1000\\_CRISPRi\\_cells\\_r1\\_SI-GA-G1 & AAACCTGGTCTCTCGT-1\\_K1000\\_CRISPRi\\_cells\\_r1\\_SI-GA-G1 & ⋯ & TTTGTCACAAGGACAC-1\\_K1000\\_CRISPRi\\_cells\\_r6\\_SI-GA-G6 & TTTGTCACACAAGACG-1\\_K1000\\_CRISPRi\\_cells\\_r6\\_SI-GA-G6 & TTTGTCACACTCTGTC-1\\_K1000\\_CRISPRi\\_cells\\_r6\\_SI-GA-G6 & TTTGTCACATTCCTCG-1\\_K1000\\_CRISPRi\\_cells\\_r6\\_SI-GA-G6 & TTTGTCAGTCAGCTAT-1\\_K1000\\_CRISPRi\\_cells\\_r6\\_SI-GA-G6 & TTTGTCAGTGTTTGTG-1\\_K1000\\_CRISPRi\\_cells\\_r6\\_SI-GA-G6 & TTTGTCATCACAAACC-1\\_K1000\\_CRISPRi\\_cells\\_r6\\_SI-GA-G6 & TTTGTCATCAGAGGTG-1\\_K1000\\_CRISPRi\\_cells\\_r6\\_SI-GA-G6 & TTTGTCATCGCGATCG-1\\_K1000\\_CRISPRi\\_cells\\_r6\\_SI-GA-G6 & TTTGTCATCTGGCGTG-1\\_K1000\\_CRISPRi\\_cells\\_r6\\_SI-GA-G6\\\\\n",
       "  & <dbl> & <dbl> & <dbl> & <dbl> & <dbl> & <dbl> & <dbl> & <dbl> & <dbl> & <dbl> & ⋯ & <dbl> & <dbl> & <dbl> & <dbl> & <dbl> & <dbl> & <dbl> & <dbl> & <dbl> & <dbl>\\\\\n",
       "\\hline\n",
       "\tENSG00000243485 & 0 & 0 & 0 & 0 & 0 & 0 & 0 & 0 & 0 & 0 & ⋯ & 0 & 0 & 0 & 0 & 0 & 0 & 0 & 0 & 0 & 0\\\\\n",
       "\tENSG00000237613 & 0 & 0 & 0 & 0 & 0 & 0 & 0 & 0 & 0 & 0 & ⋯ & 0 & 0 & 0 & 0 & 0 & 0 & 0 & 0 & 0 & 0\\\\\n",
       "\tENSG00000186092 & 0 & 0 & 0 & 0 & 0 & 0 & 0 & 0 & 0 & 0 & ⋯ & 0 & 0 & 0 & 0 & 0 & 0 & 0 & 0 & 0 & 0\\\\\n",
       "\tENSG00000238009 & 0 & 0 & 0 & 0 & 0 & 0 & 0 & 0 & 0 & 0 & ⋯ & 0 & 0 & 0 & 0 & 0 & 0 & 0 & 0 & 0 & 0\\\\\n",
       "\tENSG00000239945 & 0 & 0 & 0 & 0 & 0 & 0 & 0 & 0 & 0 & 0 & ⋯ & 0 & 0 & 0 & 0 & 0 & 0 & 0 & 0 & 0 & 0\\\\\n",
       "\tENSG00000237683 & 0 & 0 & 0 & 0 & 0 & 0 & 0 & 1 & 0 & 0 & ⋯ & 0 & 0 & 0 & 0 & 0 & 0 & 0 & 0 & 0 & 0\\\\\n",
       "\\end{tabular}\n"
      ],
      "text/markdown": [
       "\n",
       "A data.frame: 6 × 47650\n",
       "\n",
       "| <!--/--> | AAACCTGAGCGAGAAA-1_K1000_CRISPRi_cells_r1_SI-GA-G1 &lt;dbl&gt; | AAACCTGAGCTGTCTA-1_K1000_CRISPRi_cells_r1_SI-GA-G1 &lt;dbl&gt; | AAACCTGAGTTATCGC-1_K1000_CRISPRi_cells_r1_SI-GA-G1 &lt;dbl&gt; | AAACCTGAGTTCCACA-1_K1000_CRISPRi_cells_r1_SI-GA-G1 &lt;dbl&gt; | AAACCTGCAAATACAG-1_K1000_CRISPRi_cells_r1_SI-GA-G1 &lt;dbl&gt; | AAACCTGCACTCGACG-1_K1000_CRISPRi_cells_r1_SI-GA-G1 &lt;dbl&gt; | AAACCTGCAGTCTTCC-1_K1000_CRISPRi_cells_r1_SI-GA-G1 &lt;dbl&gt; | AAACCTGCATGCCTAA-1_K1000_CRISPRi_cells_r1_SI-GA-G1 &lt;dbl&gt; | AAACCTGGTCGGCATC-1_K1000_CRISPRi_cells_r1_SI-GA-G1 &lt;dbl&gt; | AAACCTGGTCTCTCGT-1_K1000_CRISPRi_cells_r1_SI-GA-G1 &lt;dbl&gt; | ⋯ ⋯ | TTTGTCACAAGGACAC-1_K1000_CRISPRi_cells_r6_SI-GA-G6 &lt;dbl&gt; | TTTGTCACACAAGACG-1_K1000_CRISPRi_cells_r6_SI-GA-G6 &lt;dbl&gt; | TTTGTCACACTCTGTC-1_K1000_CRISPRi_cells_r6_SI-GA-G6 &lt;dbl&gt; | TTTGTCACATTCCTCG-1_K1000_CRISPRi_cells_r6_SI-GA-G6 &lt;dbl&gt; | TTTGTCAGTCAGCTAT-1_K1000_CRISPRi_cells_r6_SI-GA-G6 &lt;dbl&gt; | TTTGTCAGTGTTTGTG-1_K1000_CRISPRi_cells_r6_SI-GA-G6 &lt;dbl&gt; | TTTGTCATCACAAACC-1_K1000_CRISPRi_cells_r6_SI-GA-G6 &lt;dbl&gt; | TTTGTCATCAGAGGTG-1_K1000_CRISPRi_cells_r6_SI-GA-G6 &lt;dbl&gt; | TTTGTCATCGCGATCG-1_K1000_CRISPRi_cells_r6_SI-GA-G6 &lt;dbl&gt; | TTTGTCATCTGGCGTG-1_K1000_CRISPRi_cells_r6_SI-GA-G6 &lt;dbl&gt; |\n",
       "|---|---|---|---|---|---|---|---|---|---|---|---|---|---|---|---|---|---|---|---|---|---|\n",
       "| ENSG00000243485 | 0 | 0 | 0 | 0 | 0 | 0 | 0 | 0 | 0 | 0 | ⋯ | 0 | 0 | 0 | 0 | 0 | 0 | 0 | 0 | 0 | 0 |\n",
       "| ENSG00000237613 | 0 | 0 | 0 | 0 | 0 | 0 | 0 | 0 | 0 | 0 | ⋯ | 0 | 0 | 0 | 0 | 0 | 0 | 0 | 0 | 0 | 0 |\n",
       "| ENSG00000186092 | 0 | 0 | 0 | 0 | 0 | 0 | 0 | 0 | 0 | 0 | ⋯ | 0 | 0 | 0 | 0 | 0 | 0 | 0 | 0 | 0 | 0 |\n",
       "| ENSG00000238009 | 0 | 0 | 0 | 0 | 0 | 0 | 0 | 0 | 0 | 0 | ⋯ | 0 | 0 | 0 | 0 | 0 | 0 | 0 | 0 | 0 | 0 |\n",
       "| ENSG00000239945 | 0 | 0 | 0 | 0 | 0 | 0 | 0 | 0 | 0 | 0 | ⋯ | 0 | 0 | 0 | 0 | 0 | 0 | 0 | 0 | 0 | 0 |\n",
       "| ENSG00000237683 | 0 | 0 | 0 | 0 | 0 | 0 | 0 | 1 | 0 | 0 | ⋯ | 0 | 0 | 0 | 0 | 0 | 0 | 0 | 0 | 0 | 0 |\n",
       "\n"
      ],
      "text/plain": [
       "                AAACCTGAGCGAGAAA-1_K1000_CRISPRi_cells_r1_SI-GA-G1\n",
       "ENSG00000243485 0                                                 \n",
       "ENSG00000237613 0                                                 \n",
       "ENSG00000186092 0                                                 \n",
       "ENSG00000238009 0                                                 \n",
       "ENSG00000239945 0                                                 \n",
       "ENSG00000237683 0                                                 \n",
       "                AAACCTGAGCTGTCTA-1_K1000_CRISPRi_cells_r1_SI-GA-G1\n",
       "ENSG00000243485 0                                                 \n",
       "ENSG00000237613 0                                                 \n",
       "ENSG00000186092 0                                                 \n",
       "ENSG00000238009 0                                                 \n",
       "ENSG00000239945 0                                                 \n",
       "ENSG00000237683 0                                                 \n",
       "                AAACCTGAGTTATCGC-1_K1000_CRISPRi_cells_r1_SI-GA-G1\n",
       "ENSG00000243485 0                                                 \n",
       "ENSG00000237613 0                                                 \n",
       "ENSG00000186092 0                                                 \n",
       "ENSG00000238009 0                                                 \n",
       "ENSG00000239945 0                                                 \n",
       "ENSG00000237683 0                                                 \n",
       "                AAACCTGAGTTCCACA-1_K1000_CRISPRi_cells_r1_SI-GA-G1\n",
       "ENSG00000243485 0                                                 \n",
       "ENSG00000237613 0                                                 \n",
       "ENSG00000186092 0                                                 \n",
       "ENSG00000238009 0                                                 \n",
       "ENSG00000239945 0                                                 \n",
       "ENSG00000237683 0                                                 \n",
       "                AAACCTGCAAATACAG-1_K1000_CRISPRi_cells_r1_SI-GA-G1\n",
       "ENSG00000243485 0                                                 \n",
       "ENSG00000237613 0                                                 \n",
       "ENSG00000186092 0                                                 \n",
       "ENSG00000238009 0                                                 \n",
       "ENSG00000239945 0                                                 \n",
       "ENSG00000237683 0                                                 \n",
       "                AAACCTGCACTCGACG-1_K1000_CRISPRi_cells_r1_SI-GA-G1\n",
       "ENSG00000243485 0                                                 \n",
       "ENSG00000237613 0                                                 \n",
       "ENSG00000186092 0                                                 \n",
       "ENSG00000238009 0                                                 \n",
       "ENSG00000239945 0                                                 \n",
       "ENSG00000237683 0                                                 \n",
       "                AAACCTGCAGTCTTCC-1_K1000_CRISPRi_cells_r1_SI-GA-G1\n",
       "ENSG00000243485 0                                                 \n",
       "ENSG00000237613 0                                                 \n",
       "ENSG00000186092 0                                                 \n",
       "ENSG00000238009 0                                                 \n",
       "ENSG00000239945 0                                                 \n",
       "ENSG00000237683 0                                                 \n",
       "                AAACCTGCATGCCTAA-1_K1000_CRISPRi_cells_r1_SI-GA-G1\n",
       "ENSG00000243485 0                                                 \n",
       "ENSG00000237613 0                                                 \n",
       "ENSG00000186092 0                                                 \n",
       "ENSG00000238009 0                                                 \n",
       "ENSG00000239945 0                                                 \n",
       "ENSG00000237683 1                                                 \n",
       "                AAACCTGGTCGGCATC-1_K1000_CRISPRi_cells_r1_SI-GA-G1\n",
       "ENSG00000243485 0                                                 \n",
       "ENSG00000237613 0                                                 \n",
       "ENSG00000186092 0                                                 \n",
       "ENSG00000238009 0                                                 \n",
       "ENSG00000239945 0                                                 \n",
       "ENSG00000237683 0                                                 \n",
       "                AAACCTGGTCTCTCGT-1_K1000_CRISPRi_cells_r1_SI-GA-G1 ⋯\n",
       "ENSG00000243485 0                                                  ⋯\n",
       "ENSG00000237613 0                                                  ⋯\n",
       "ENSG00000186092 0                                                  ⋯\n",
       "ENSG00000238009 0                                                  ⋯\n",
       "ENSG00000239945 0                                                  ⋯\n",
       "ENSG00000237683 0                                                  ⋯\n",
       "                TTTGTCACAAGGACAC-1_K1000_CRISPRi_cells_r6_SI-GA-G6\n",
       "ENSG00000243485 0                                                 \n",
       "ENSG00000237613 0                                                 \n",
       "ENSG00000186092 0                                                 \n",
       "ENSG00000238009 0                                                 \n",
       "ENSG00000239945 0                                                 \n",
       "ENSG00000237683 0                                                 \n",
       "                TTTGTCACACAAGACG-1_K1000_CRISPRi_cells_r6_SI-GA-G6\n",
       "ENSG00000243485 0                                                 \n",
       "ENSG00000237613 0                                                 \n",
       "ENSG00000186092 0                                                 \n",
       "ENSG00000238009 0                                                 \n",
       "ENSG00000239945 0                                                 \n",
       "ENSG00000237683 0                                                 \n",
       "                TTTGTCACACTCTGTC-1_K1000_CRISPRi_cells_r6_SI-GA-G6\n",
       "ENSG00000243485 0                                                 \n",
       "ENSG00000237613 0                                                 \n",
       "ENSG00000186092 0                                                 \n",
       "ENSG00000238009 0                                                 \n",
       "ENSG00000239945 0                                                 \n",
       "ENSG00000237683 0                                                 \n",
       "                TTTGTCACATTCCTCG-1_K1000_CRISPRi_cells_r6_SI-GA-G6\n",
       "ENSG00000243485 0                                                 \n",
       "ENSG00000237613 0                                                 \n",
       "ENSG00000186092 0                                                 \n",
       "ENSG00000238009 0                                                 \n",
       "ENSG00000239945 0                                                 \n",
       "ENSG00000237683 0                                                 \n",
       "                TTTGTCAGTCAGCTAT-1_K1000_CRISPRi_cells_r6_SI-GA-G6\n",
       "ENSG00000243485 0                                                 \n",
       "ENSG00000237613 0                                                 \n",
       "ENSG00000186092 0                                                 \n",
       "ENSG00000238009 0                                                 \n",
       "ENSG00000239945 0                                                 \n",
       "ENSG00000237683 0                                                 \n",
       "                TTTGTCAGTGTTTGTG-1_K1000_CRISPRi_cells_r6_SI-GA-G6\n",
       "ENSG00000243485 0                                                 \n",
       "ENSG00000237613 0                                                 \n",
       "ENSG00000186092 0                                                 \n",
       "ENSG00000238009 0                                                 \n",
       "ENSG00000239945 0                                                 \n",
       "ENSG00000237683 0                                                 \n",
       "                TTTGTCATCACAAACC-1_K1000_CRISPRi_cells_r6_SI-GA-G6\n",
       "ENSG00000243485 0                                                 \n",
       "ENSG00000237613 0                                                 \n",
       "ENSG00000186092 0                                                 \n",
       "ENSG00000238009 0                                                 \n",
       "ENSG00000239945 0                                                 \n",
       "ENSG00000237683 0                                                 \n",
       "                TTTGTCATCAGAGGTG-1_K1000_CRISPRi_cells_r6_SI-GA-G6\n",
       "ENSG00000243485 0                                                 \n",
       "ENSG00000237613 0                                                 \n",
       "ENSG00000186092 0                                                 \n",
       "ENSG00000238009 0                                                 \n",
       "ENSG00000239945 0                                                 \n",
       "ENSG00000237683 0                                                 \n",
       "                TTTGTCATCGCGATCG-1_K1000_CRISPRi_cells_r6_SI-GA-G6\n",
       "ENSG00000243485 0                                                 \n",
       "ENSG00000237613 0                                                 \n",
       "ENSG00000186092 0                                                 \n",
       "ENSG00000238009 0                                                 \n",
       "ENSG00000239945 0                                                 \n",
       "ENSG00000237683 0                                                 \n",
       "                TTTGTCATCTGGCGTG-1_K1000_CRISPRi_cells_r6_SI-GA-G6\n",
       "ENSG00000243485 0                                                 \n",
       "ENSG00000237613 0                                                 \n",
       "ENSG00000186092 0                                                 \n",
       "ENSG00000238009 0                                                 \n",
       "ENSG00000239945 0                                                 \n",
       "ENSG00000237683 0                                                 "
      ]
     },
     "metadata": {},
     "output_type": "display_data"
    }
   ],
   "source": [
    "# read in row names and add to expression matrix\n",
    "genes <- read.delim('/iblm/netapp/data1/external/Gasperini2019/suppl/GSE120861_pilot_highmoi_screen.genes.txt.gz', header = FALSE)\n",
    "genes <- genes$V1\n",
    "rownames(expression.matrix) <- genes\n",
    "head(expression.matrix)"
   ]
  },
  {
   "cell_type": "code",
   "execution_count": 52,
   "metadata": {
    "vscode": {
     "languageId": "r"
    }
   },
   "outputs": [],
   "source": [
    "# code snippet adapted from: https://stackoverflow.com/questions/28543517/how-can-i-convert-ensembl-id-to-gene-symbol-in-r\n",
    "mart <- useDataset(\"hsapiens_gene_ensembl\", useMart(\"ensembl\"))\n",
    "gene.symbols <- getBM(\n",
    "    filters = \"ensembl_gene_id\",\n",
    "    attributes = c(\"ensembl_gene_id\", \"hgnc_symbol\"),\n",
    "    values = genes,\n",
    "    mart = mart,\n",
    ")"
   ]
  },
  {
   "cell_type": "code",
   "execution_count": 53,
   "metadata": {
    "vscode": {
     "languageId": "r"
    }
   },
   "outputs": [],
   "source": [
    "gene.symbols <- merge(data.frame(genes), gene.symbols, all.x = TRUE, by.x = 'genes', by.y = 'ensembl_gene_id', sort = FALSE)"
   ]
  },
  {
   "cell_type": "code",
   "execution_count": 54,
   "metadata": {
    "vscode": {
     "languageId": "r"
    }
   },
   "outputs": [],
   "source": [
    "gene.symbols <- merge(data.frame(genes), gene.symbols, by = 'genes', sort = FALSE)"
   ]
  },
  {
   "cell_type": "code",
   "execution_count": 55,
   "metadata": {
    "vscode": {
     "languageId": "r"
    }
   },
   "outputs": [
    {
     "data": {
      "text/html": [
       "0"
      ],
      "text/latex": [
       "0"
      ],
      "text/markdown": [
       "0"
      ],
      "text/plain": [
       "[1] 0"
      ]
     },
     "metadata": {},
     "output_type": "display_data"
    }
   ],
   "source": [
    "gene.symbols[is.na(gene.symbols)] <- ''\n",
    "sum(is.na(gene.symbols$hgnc_symbol))"
   ]
  },
  {
   "cell_type": "code",
   "execution_count": 56,
   "metadata": {
    "vscode": {
     "languageId": "r"
    }
   },
   "outputs": [],
   "source": [
    "gene.symbols <- gene.symbols[!duplicated(gene.symbols$gene), ]"
   ]
  },
  {
   "cell_type": "code",
   "execution_count": 57,
   "metadata": {
    "vscode": {
     "languageId": "r"
    }
   },
   "outputs": [
    {
     "data": {
      "text/html": [
       "<table class=\"dataframe\">\n",
       "<caption>A data.frame: 6 × 2</caption>\n",
       "<thead>\n",
       "\t<tr><th></th><th scope=col>genes</th><th scope=col>hgnc_symbol</th></tr>\n",
       "\t<tr><th></th><th scope=col>&lt;chr&gt;</th><th scope=col>&lt;chr&gt;</th></tr>\n",
       "</thead>\n",
       "<tbody>\n",
       "\t<tr><th scope=row>1</th><td>ENSG00000243485</td><td>MIR1302-2HG    </td></tr>\n",
       "\t<tr><th scope=row>2</th><td>ENSG00000237613</td><td>FAM138A        </td></tr>\n",
       "\t<tr><th scope=row>3</th><td>ENSG00000186092</td><td>OR4F5          </td></tr>\n",
       "\t<tr><th scope=row>4</th><td>ENSG00000238009</td><td>ENSG00000238009</td></tr>\n",
       "\t<tr><th scope=row>5</th><td>ENSG00000239945</td><td>ENSG00000239945</td></tr>\n",
       "\t<tr><th scope=row>6</th><td>ENSG00000237683</td><td>ENSG00000237683</td></tr>\n",
       "</tbody>\n",
       "</table>\n"
      ],
      "text/latex": [
       "A data.frame: 6 × 2\n",
       "\\begin{tabular}{r|ll}\n",
       "  & genes & hgnc\\_symbol\\\\\n",
       "  & <chr> & <chr>\\\\\n",
       "\\hline\n",
       "\t1 & ENSG00000243485 & MIR1302-2HG    \\\\\n",
       "\t2 & ENSG00000237613 & FAM138A        \\\\\n",
       "\t3 & ENSG00000186092 & OR4F5          \\\\\n",
       "\t4 & ENSG00000238009 & ENSG00000238009\\\\\n",
       "\t5 & ENSG00000239945 & ENSG00000239945\\\\\n",
       "\t6 & ENSG00000237683 & ENSG00000237683\\\\\n",
       "\\end{tabular}\n"
      ],
      "text/markdown": [
       "\n",
       "A data.frame: 6 × 2\n",
       "\n",
       "| <!--/--> | genes &lt;chr&gt; | hgnc_symbol &lt;chr&gt; |\n",
       "|---|---|---|\n",
       "| 1 | ENSG00000243485 | MIR1302-2HG     |\n",
       "| 2 | ENSG00000237613 | FAM138A         |\n",
       "| 3 | ENSG00000186092 | OR4F5           |\n",
       "| 4 | ENSG00000238009 | ENSG00000238009 |\n",
       "| 5 | ENSG00000239945 | ENSG00000239945 |\n",
       "| 6 | ENSG00000237683 | ENSG00000237683 |\n",
       "\n"
      ],
      "text/plain": [
       "  genes           hgnc_symbol    \n",
       "1 ENSG00000243485 MIR1302-2HG    \n",
       "2 ENSG00000237613 FAM138A        \n",
       "3 ENSG00000186092 OR4F5          \n",
       "4 ENSG00000238009 ENSG00000238009\n",
       "5 ENSG00000239945 ENSG00000239945\n",
       "6 ENSG00000237683 ENSG00000237683"
      ]
     },
     "metadata": {},
     "output_type": "display_data"
    }
   ],
   "source": [
    "for (i in 1:nrow(gene.symbols)) {\n",
    "    if (gene.symbols[i, 'hgnc_symbol'] == '') {\n",
    "        gene.symbols[i, 'hgnc_symbol'] <- gene.symbols[i, 'genes']\n",
    "    }\n",
    "\n",
    "    if (sum(gene.symbols$hgnc_symbol == gene.symbols$hgnc_symbol[i]) >= 2) {\n",
    "        gene.symbols[i, 'hgnc_symbol'] <- gene.symbols[i, 'genes']\n",
    "    }\n",
    "}\n",
    "head(gene.symbols)"
   ]
  },
  {
   "cell_type": "code",
   "execution_count": 58,
   "metadata": {
    "vscode": {
     "languageId": "r"
    }
   },
   "outputs": [
    {
     "data": {
      "text/html": [
       "<table class=\"dataframe\">\n",
       "<caption>A data.frame: 0 × 2</caption>\n",
       "<thead>\n",
       "\t<tr><th scope=col>genes</th><th scope=col>hgnc_symbol</th></tr>\n",
       "\t<tr><th scope=col>&lt;chr&gt;</th><th scope=col>&lt;chr&gt;</th></tr>\n",
       "</thead>\n",
       "<tbody>\n",
       "</tbody>\n",
       "</table>\n"
      ],
      "text/latex": [
       "A data.frame: 0 × 2\n",
       "\\begin{tabular}{ll}\n",
       " genes & hgnc\\_symbol\\\\\n",
       " <chr> & <chr>\\\\\n",
       "\\hline\n",
       "\\end{tabular}\n"
      ],
      "text/markdown": [
       "\n",
       "A data.frame: 0 × 2\n",
       "\n",
       "| genes &lt;chr&gt; | hgnc_symbol &lt;chr&gt; |\n",
       "|---|---|\n",
       "\n"
      ],
      "text/plain": [
       "     genes hgnc_symbol"
      ]
     },
     "metadata": {},
     "output_type": "display_data"
    }
   ],
   "source": [
    "gene.symbols[duplicated(gene.symbols$hgnc_symbol), ]"
   ]
  },
  {
   "cell_type": "code",
   "execution_count": 59,
   "metadata": {
    "vscode": {
     "languageId": "r"
    }
   },
   "outputs": [],
   "source": [
    "rownames(expression.matrix) <- gene.symbols[, 'hgnc_symbol']"
   ]
  },
  {
   "cell_type": "code",
   "execution_count": 60,
   "metadata": {
    "vscode": {
     "languageId": "r"
    }
   },
   "outputs": [
    {
     "data": {
      "text/html": [
       "<table class=\"dataframe\">\n",
       "<caption>A data.frame: 6 × 47650</caption>\n",
       "<thead>\n",
       "\t<tr><th></th><th scope=col>AAACCTGAGCGAGAAA-1_K1000_CRISPRi_cells_r1_SI-GA-G1</th><th scope=col>AAACCTGAGCTGTCTA-1_K1000_CRISPRi_cells_r1_SI-GA-G1</th><th scope=col>AAACCTGAGTTATCGC-1_K1000_CRISPRi_cells_r1_SI-GA-G1</th><th scope=col>AAACCTGAGTTCCACA-1_K1000_CRISPRi_cells_r1_SI-GA-G1</th><th scope=col>AAACCTGCAAATACAG-1_K1000_CRISPRi_cells_r1_SI-GA-G1</th><th scope=col>AAACCTGCACTCGACG-1_K1000_CRISPRi_cells_r1_SI-GA-G1</th><th scope=col>AAACCTGCAGTCTTCC-1_K1000_CRISPRi_cells_r1_SI-GA-G1</th><th scope=col>AAACCTGCATGCCTAA-1_K1000_CRISPRi_cells_r1_SI-GA-G1</th><th scope=col>AAACCTGGTCGGCATC-1_K1000_CRISPRi_cells_r1_SI-GA-G1</th><th scope=col>AAACCTGGTCTCTCGT-1_K1000_CRISPRi_cells_r1_SI-GA-G1</th><th scope=col>⋯</th><th scope=col>TTTGTCACAAGGACAC-1_K1000_CRISPRi_cells_r6_SI-GA-G6</th><th scope=col>TTTGTCACACAAGACG-1_K1000_CRISPRi_cells_r6_SI-GA-G6</th><th scope=col>TTTGTCACACTCTGTC-1_K1000_CRISPRi_cells_r6_SI-GA-G6</th><th scope=col>TTTGTCACATTCCTCG-1_K1000_CRISPRi_cells_r6_SI-GA-G6</th><th scope=col>TTTGTCAGTCAGCTAT-1_K1000_CRISPRi_cells_r6_SI-GA-G6</th><th scope=col>TTTGTCAGTGTTTGTG-1_K1000_CRISPRi_cells_r6_SI-GA-G6</th><th scope=col>TTTGTCATCACAAACC-1_K1000_CRISPRi_cells_r6_SI-GA-G6</th><th scope=col>TTTGTCATCAGAGGTG-1_K1000_CRISPRi_cells_r6_SI-GA-G6</th><th scope=col>TTTGTCATCGCGATCG-1_K1000_CRISPRi_cells_r6_SI-GA-G6</th><th scope=col>TTTGTCATCTGGCGTG-1_K1000_CRISPRi_cells_r6_SI-GA-G6</th></tr>\n",
       "\t<tr><th></th><th scope=col>&lt;dbl&gt;</th><th scope=col>&lt;dbl&gt;</th><th scope=col>&lt;dbl&gt;</th><th scope=col>&lt;dbl&gt;</th><th scope=col>&lt;dbl&gt;</th><th scope=col>&lt;dbl&gt;</th><th scope=col>&lt;dbl&gt;</th><th scope=col>&lt;dbl&gt;</th><th scope=col>&lt;dbl&gt;</th><th scope=col>&lt;dbl&gt;</th><th scope=col>⋯</th><th scope=col>&lt;dbl&gt;</th><th scope=col>&lt;dbl&gt;</th><th scope=col>&lt;dbl&gt;</th><th scope=col>&lt;dbl&gt;</th><th scope=col>&lt;dbl&gt;</th><th scope=col>&lt;dbl&gt;</th><th scope=col>&lt;dbl&gt;</th><th scope=col>&lt;dbl&gt;</th><th scope=col>&lt;dbl&gt;</th><th scope=col>&lt;dbl&gt;</th></tr>\n",
       "</thead>\n",
       "<tbody>\n",
       "\t<tr><th scope=row>MIR1302-2HG</th><td>0</td><td>0</td><td>0</td><td>0</td><td>0</td><td>0</td><td>0</td><td>0</td><td>0</td><td>0</td><td>⋯</td><td>0</td><td>0</td><td>0</td><td>0</td><td>0</td><td>0</td><td>0</td><td>0</td><td>0</td><td>0</td></tr>\n",
       "\t<tr><th scope=row>FAM138A</th><td>0</td><td>0</td><td>0</td><td>0</td><td>0</td><td>0</td><td>0</td><td>0</td><td>0</td><td>0</td><td>⋯</td><td>0</td><td>0</td><td>0</td><td>0</td><td>0</td><td>0</td><td>0</td><td>0</td><td>0</td><td>0</td></tr>\n",
       "\t<tr><th scope=row>OR4F5</th><td>0</td><td>0</td><td>0</td><td>0</td><td>0</td><td>0</td><td>0</td><td>0</td><td>0</td><td>0</td><td>⋯</td><td>0</td><td>0</td><td>0</td><td>0</td><td>0</td><td>0</td><td>0</td><td>0</td><td>0</td><td>0</td></tr>\n",
       "\t<tr><th scope=row>ENSG00000238009</th><td>0</td><td>0</td><td>0</td><td>0</td><td>0</td><td>0</td><td>0</td><td>0</td><td>0</td><td>0</td><td>⋯</td><td>0</td><td>0</td><td>0</td><td>0</td><td>0</td><td>0</td><td>0</td><td>0</td><td>0</td><td>0</td></tr>\n",
       "\t<tr><th scope=row>ENSG00000239945</th><td>0</td><td>0</td><td>0</td><td>0</td><td>0</td><td>0</td><td>0</td><td>0</td><td>0</td><td>0</td><td>⋯</td><td>0</td><td>0</td><td>0</td><td>0</td><td>0</td><td>0</td><td>0</td><td>0</td><td>0</td><td>0</td></tr>\n",
       "\t<tr><th scope=row>ENSG00000237683</th><td>0</td><td>0</td><td>0</td><td>0</td><td>0</td><td>0</td><td>0</td><td>1</td><td>0</td><td>0</td><td>⋯</td><td>0</td><td>0</td><td>0</td><td>0</td><td>0</td><td>0</td><td>0</td><td>0</td><td>0</td><td>0</td></tr>\n",
       "</tbody>\n",
       "</table>\n"
      ],
      "text/latex": [
       "A data.frame: 6 × 47650\n",
       "\\begin{tabular}{r|lllllllllllllllllllll}\n",
       "  & AAACCTGAGCGAGAAA-1\\_K1000\\_CRISPRi\\_cells\\_r1\\_SI-GA-G1 & AAACCTGAGCTGTCTA-1\\_K1000\\_CRISPRi\\_cells\\_r1\\_SI-GA-G1 & AAACCTGAGTTATCGC-1\\_K1000\\_CRISPRi\\_cells\\_r1\\_SI-GA-G1 & AAACCTGAGTTCCACA-1\\_K1000\\_CRISPRi\\_cells\\_r1\\_SI-GA-G1 & AAACCTGCAAATACAG-1\\_K1000\\_CRISPRi\\_cells\\_r1\\_SI-GA-G1 & AAACCTGCACTCGACG-1\\_K1000\\_CRISPRi\\_cells\\_r1\\_SI-GA-G1 & AAACCTGCAGTCTTCC-1\\_K1000\\_CRISPRi\\_cells\\_r1\\_SI-GA-G1 & AAACCTGCATGCCTAA-1\\_K1000\\_CRISPRi\\_cells\\_r1\\_SI-GA-G1 & AAACCTGGTCGGCATC-1\\_K1000\\_CRISPRi\\_cells\\_r1\\_SI-GA-G1 & AAACCTGGTCTCTCGT-1\\_K1000\\_CRISPRi\\_cells\\_r1\\_SI-GA-G1 & ⋯ & TTTGTCACAAGGACAC-1\\_K1000\\_CRISPRi\\_cells\\_r6\\_SI-GA-G6 & TTTGTCACACAAGACG-1\\_K1000\\_CRISPRi\\_cells\\_r6\\_SI-GA-G6 & TTTGTCACACTCTGTC-1\\_K1000\\_CRISPRi\\_cells\\_r6\\_SI-GA-G6 & TTTGTCACATTCCTCG-1\\_K1000\\_CRISPRi\\_cells\\_r6\\_SI-GA-G6 & TTTGTCAGTCAGCTAT-1\\_K1000\\_CRISPRi\\_cells\\_r6\\_SI-GA-G6 & TTTGTCAGTGTTTGTG-1\\_K1000\\_CRISPRi\\_cells\\_r6\\_SI-GA-G6 & TTTGTCATCACAAACC-1\\_K1000\\_CRISPRi\\_cells\\_r6\\_SI-GA-G6 & TTTGTCATCAGAGGTG-1\\_K1000\\_CRISPRi\\_cells\\_r6\\_SI-GA-G6 & TTTGTCATCGCGATCG-1\\_K1000\\_CRISPRi\\_cells\\_r6\\_SI-GA-G6 & TTTGTCATCTGGCGTG-1\\_K1000\\_CRISPRi\\_cells\\_r6\\_SI-GA-G6\\\\\n",
       "  & <dbl> & <dbl> & <dbl> & <dbl> & <dbl> & <dbl> & <dbl> & <dbl> & <dbl> & <dbl> & ⋯ & <dbl> & <dbl> & <dbl> & <dbl> & <dbl> & <dbl> & <dbl> & <dbl> & <dbl> & <dbl>\\\\\n",
       "\\hline\n",
       "\tMIR1302-2HG & 0 & 0 & 0 & 0 & 0 & 0 & 0 & 0 & 0 & 0 & ⋯ & 0 & 0 & 0 & 0 & 0 & 0 & 0 & 0 & 0 & 0\\\\\n",
       "\tFAM138A & 0 & 0 & 0 & 0 & 0 & 0 & 0 & 0 & 0 & 0 & ⋯ & 0 & 0 & 0 & 0 & 0 & 0 & 0 & 0 & 0 & 0\\\\\n",
       "\tOR4F5 & 0 & 0 & 0 & 0 & 0 & 0 & 0 & 0 & 0 & 0 & ⋯ & 0 & 0 & 0 & 0 & 0 & 0 & 0 & 0 & 0 & 0\\\\\n",
       "\tENSG00000238009 & 0 & 0 & 0 & 0 & 0 & 0 & 0 & 0 & 0 & 0 & ⋯ & 0 & 0 & 0 & 0 & 0 & 0 & 0 & 0 & 0 & 0\\\\\n",
       "\tENSG00000239945 & 0 & 0 & 0 & 0 & 0 & 0 & 0 & 0 & 0 & 0 & ⋯ & 0 & 0 & 0 & 0 & 0 & 0 & 0 & 0 & 0 & 0\\\\\n",
       "\tENSG00000237683 & 0 & 0 & 0 & 0 & 0 & 0 & 0 & 1 & 0 & 0 & ⋯ & 0 & 0 & 0 & 0 & 0 & 0 & 0 & 0 & 0 & 0\\\\\n",
       "\\end{tabular}\n"
      ],
      "text/markdown": [
       "\n",
       "A data.frame: 6 × 47650\n",
       "\n",
       "| <!--/--> | AAACCTGAGCGAGAAA-1_K1000_CRISPRi_cells_r1_SI-GA-G1 &lt;dbl&gt; | AAACCTGAGCTGTCTA-1_K1000_CRISPRi_cells_r1_SI-GA-G1 &lt;dbl&gt; | AAACCTGAGTTATCGC-1_K1000_CRISPRi_cells_r1_SI-GA-G1 &lt;dbl&gt; | AAACCTGAGTTCCACA-1_K1000_CRISPRi_cells_r1_SI-GA-G1 &lt;dbl&gt; | AAACCTGCAAATACAG-1_K1000_CRISPRi_cells_r1_SI-GA-G1 &lt;dbl&gt; | AAACCTGCACTCGACG-1_K1000_CRISPRi_cells_r1_SI-GA-G1 &lt;dbl&gt; | AAACCTGCAGTCTTCC-1_K1000_CRISPRi_cells_r1_SI-GA-G1 &lt;dbl&gt; | AAACCTGCATGCCTAA-1_K1000_CRISPRi_cells_r1_SI-GA-G1 &lt;dbl&gt; | AAACCTGGTCGGCATC-1_K1000_CRISPRi_cells_r1_SI-GA-G1 &lt;dbl&gt; | AAACCTGGTCTCTCGT-1_K1000_CRISPRi_cells_r1_SI-GA-G1 &lt;dbl&gt; | ⋯ ⋯ | TTTGTCACAAGGACAC-1_K1000_CRISPRi_cells_r6_SI-GA-G6 &lt;dbl&gt; | TTTGTCACACAAGACG-1_K1000_CRISPRi_cells_r6_SI-GA-G6 &lt;dbl&gt; | TTTGTCACACTCTGTC-1_K1000_CRISPRi_cells_r6_SI-GA-G6 &lt;dbl&gt; | TTTGTCACATTCCTCG-1_K1000_CRISPRi_cells_r6_SI-GA-G6 &lt;dbl&gt; | TTTGTCAGTCAGCTAT-1_K1000_CRISPRi_cells_r6_SI-GA-G6 &lt;dbl&gt; | TTTGTCAGTGTTTGTG-1_K1000_CRISPRi_cells_r6_SI-GA-G6 &lt;dbl&gt; | TTTGTCATCACAAACC-1_K1000_CRISPRi_cells_r6_SI-GA-G6 &lt;dbl&gt; | TTTGTCATCAGAGGTG-1_K1000_CRISPRi_cells_r6_SI-GA-G6 &lt;dbl&gt; | TTTGTCATCGCGATCG-1_K1000_CRISPRi_cells_r6_SI-GA-G6 &lt;dbl&gt; | TTTGTCATCTGGCGTG-1_K1000_CRISPRi_cells_r6_SI-GA-G6 &lt;dbl&gt; |\n",
       "|---|---|---|---|---|---|---|---|---|---|---|---|---|---|---|---|---|---|---|---|---|---|\n",
       "| MIR1302-2HG | 0 | 0 | 0 | 0 | 0 | 0 | 0 | 0 | 0 | 0 | ⋯ | 0 | 0 | 0 | 0 | 0 | 0 | 0 | 0 | 0 | 0 |\n",
       "| FAM138A | 0 | 0 | 0 | 0 | 0 | 0 | 0 | 0 | 0 | 0 | ⋯ | 0 | 0 | 0 | 0 | 0 | 0 | 0 | 0 | 0 | 0 |\n",
       "| OR4F5 | 0 | 0 | 0 | 0 | 0 | 0 | 0 | 0 | 0 | 0 | ⋯ | 0 | 0 | 0 | 0 | 0 | 0 | 0 | 0 | 0 | 0 |\n",
       "| ENSG00000238009 | 0 | 0 | 0 | 0 | 0 | 0 | 0 | 0 | 0 | 0 | ⋯ | 0 | 0 | 0 | 0 | 0 | 0 | 0 | 0 | 0 | 0 |\n",
       "| ENSG00000239945 | 0 | 0 | 0 | 0 | 0 | 0 | 0 | 0 | 0 | 0 | ⋯ | 0 | 0 | 0 | 0 | 0 | 0 | 0 | 0 | 0 | 0 |\n",
       "| ENSG00000237683 | 0 | 0 | 0 | 0 | 0 | 0 | 0 | 1 | 0 | 0 | ⋯ | 0 | 0 | 0 | 0 | 0 | 0 | 0 | 0 | 0 | 0 |\n",
       "\n"
      ],
      "text/plain": [
       "                AAACCTGAGCGAGAAA-1_K1000_CRISPRi_cells_r1_SI-GA-G1\n",
       "MIR1302-2HG     0                                                 \n",
       "FAM138A         0                                                 \n",
       "OR4F5           0                                                 \n",
       "ENSG00000238009 0                                                 \n",
       "ENSG00000239945 0                                                 \n",
       "ENSG00000237683 0                                                 \n",
       "                AAACCTGAGCTGTCTA-1_K1000_CRISPRi_cells_r1_SI-GA-G1\n",
       "MIR1302-2HG     0                                                 \n",
       "FAM138A         0                                                 \n",
       "OR4F5           0                                                 \n",
       "ENSG00000238009 0                                                 \n",
       "ENSG00000239945 0                                                 \n",
       "ENSG00000237683 0                                                 \n",
       "                AAACCTGAGTTATCGC-1_K1000_CRISPRi_cells_r1_SI-GA-G1\n",
       "MIR1302-2HG     0                                                 \n",
       "FAM138A         0                                                 \n",
       "OR4F5           0                                                 \n",
       "ENSG00000238009 0                                                 \n",
       "ENSG00000239945 0                                                 \n",
       "ENSG00000237683 0                                                 \n",
       "                AAACCTGAGTTCCACA-1_K1000_CRISPRi_cells_r1_SI-GA-G1\n",
       "MIR1302-2HG     0                                                 \n",
       "FAM138A         0                                                 \n",
       "OR4F5           0                                                 \n",
       "ENSG00000238009 0                                                 \n",
       "ENSG00000239945 0                                                 \n",
       "ENSG00000237683 0                                                 \n",
       "                AAACCTGCAAATACAG-1_K1000_CRISPRi_cells_r1_SI-GA-G1\n",
       "MIR1302-2HG     0                                                 \n",
       "FAM138A         0                                                 \n",
       "OR4F5           0                                                 \n",
       "ENSG00000238009 0                                                 \n",
       "ENSG00000239945 0                                                 \n",
       "ENSG00000237683 0                                                 \n",
       "                AAACCTGCACTCGACG-1_K1000_CRISPRi_cells_r1_SI-GA-G1\n",
       "MIR1302-2HG     0                                                 \n",
       "FAM138A         0                                                 \n",
       "OR4F5           0                                                 \n",
       "ENSG00000238009 0                                                 \n",
       "ENSG00000239945 0                                                 \n",
       "ENSG00000237683 0                                                 \n",
       "                AAACCTGCAGTCTTCC-1_K1000_CRISPRi_cells_r1_SI-GA-G1\n",
       "MIR1302-2HG     0                                                 \n",
       "FAM138A         0                                                 \n",
       "OR4F5           0                                                 \n",
       "ENSG00000238009 0                                                 \n",
       "ENSG00000239945 0                                                 \n",
       "ENSG00000237683 0                                                 \n",
       "                AAACCTGCATGCCTAA-1_K1000_CRISPRi_cells_r1_SI-GA-G1\n",
       "MIR1302-2HG     0                                                 \n",
       "FAM138A         0                                                 \n",
       "OR4F5           0                                                 \n",
       "ENSG00000238009 0                                                 \n",
       "ENSG00000239945 0                                                 \n",
       "ENSG00000237683 1                                                 \n",
       "                AAACCTGGTCGGCATC-1_K1000_CRISPRi_cells_r1_SI-GA-G1\n",
       "MIR1302-2HG     0                                                 \n",
       "FAM138A         0                                                 \n",
       "OR4F5           0                                                 \n",
       "ENSG00000238009 0                                                 \n",
       "ENSG00000239945 0                                                 \n",
       "ENSG00000237683 0                                                 \n",
       "                AAACCTGGTCTCTCGT-1_K1000_CRISPRi_cells_r1_SI-GA-G1 ⋯\n",
       "MIR1302-2HG     0                                                  ⋯\n",
       "FAM138A         0                                                  ⋯\n",
       "OR4F5           0                                                  ⋯\n",
       "ENSG00000238009 0                                                  ⋯\n",
       "ENSG00000239945 0                                                  ⋯\n",
       "ENSG00000237683 0                                                  ⋯\n",
       "                TTTGTCACAAGGACAC-1_K1000_CRISPRi_cells_r6_SI-GA-G6\n",
       "MIR1302-2HG     0                                                 \n",
       "FAM138A         0                                                 \n",
       "OR4F5           0                                                 \n",
       "ENSG00000238009 0                                                 \n",
       "ENSG00000239945 0                                                 \n",
       "ENSG00000237683 0                                                 \n",
       "                TTTGTCACACAAGACG-1_K1000_CRISPRi_cells_r6_SI-GA-G6\n",
       "MIR1302-2HG     0                                                 \n",
       "FAM138A         0                                                 \n",
       "OR4F5           0                                                 \n",
       "ENSG00000238009 0                                                 \n",
       "ENSG00000239945 0                                                 \n",
       "ENSG00000237683 0                                                 \n",
       "                TTTGTCACACTCTGTC-1_K1000_CRISPRi_cells_r6_SI-GA-G6\n",
       "MIR1302-2HG     0                                                 \n",
       "FAM138A         0                                                 \n",
       "OR4F5           0                                                 \n",
       "ENSG00000238009 0                                                 \n",
       "ENSG00000239945 0                                                 \n",
       "ENSG00000237683 0                                                 \n",
       "                TTTGTCACATTCCTCG-1_K1000_CRISPRi_cells_r6_SI-GA-G6\n",
       "MIR1302-2HG     0                                                 \n",
       "FAM138A         0                                                 \n",
       "OR4F5           0                                                 \n",
       "ENSG00000238009 0                                                 \n",
       "ENSG00000239945 0                                                 \n",
       "ENSG00000237683 0                                                 \n",
       "                TTTGTCAGTCAGCTAT-1_K1000_CRISPRi_cells_r6_SI-GA-G6\n",
       "MIR1302-2HG     0                                                 \n",
       "FAM138A         0                                                 \n",
       "OR4F5           0                                                 \n",
       "ENSG00000238009 0                                                 \n",
       "ENSG00000239945 0                                                 \n",
       "ENSG00000237683 0                                                 \n",
       "                TTTGTCAGTGTTTGTG-1_K1000_CRISPRi_cells_r6_SI-GA-G6\n",
       "MIR1302-2HG     0                                                 \n",
       "FAM138A         0                                                 \n",
       "OR4F5           0                                                 \n",
       "ENSG00000238009 0                                                 \n",
       "ENSG00000239945 0                                                 \n",
       "ENSG00000237683 0                                                 \n",
       "                TTTGTCATCACAAACC-1_K1000_CRISPRi_cells_r6_SI-GA-G6\n",
       "MIR1302-2HG     0                                                 \n",
       "FAM138A         0                                                 \n",
       "OR4F5           0                                                 \n",
       "ENSG00000238009 0                                                 \n",
       "ENSG00000239945 0                                                 \n",
       "ENSG00000237683 0                                                 \n",
       "                TTTGTCATCAGAGGTG-1_K1000_CRISPRi_cells_r6_SI-GA-G6\n",
       "MIR1302-2HG     0                                                 \n",
       "FAM138A         0                                                 \n",
       "OR4F5           0                                                 \n",
       "ENSG00000238009 0                                                 \n",
       "ENSG00000239945 0                                                 \n",
       "ENSG00000237683 0                                                 \n",
       "                TTTGTCATCGCGATCG-1_K1000_CRISPRi_cells_r6_SI-GA-G6\n",
       "MIR1302-2HG     0                                                 \n",
       "FAM138A         0                                                 \n",
       "OR4F5           0                                                 \n",
       "ENSG00000238009 0                                                 \n",
       "ENSG00000239945 0                                                 \n",
       "ENSG00000237683 0                                                 \n",
       "                TTTGTCATCTGGCGTG-1_K1000_CRISPRi_cells_r6_SI-GA-G6\n",
       "MIR1302-2HG     0                                                 \n",
       "FAM138A         0                                                 \n",
       "OR4F5           0                                                 \n",
       "ENSG00000238009 0                                                 \n",
       "ENSG00000239945 0                                                 \n",
       "ENSG00000237683 0                                                 "
      ]
     },
     "metadata": {},
     "output_type": "display_data"
    }
   ],
   "source": [
    "head(expression.matrix)"
   ]
  },
  {
   "cell_type": "code",
   "execution_count": 61,
   "metadata": {
    "vscode": {
     "languageId": "r"
    }
   },
   "outputs": [],
   "source": [
    "s.genes <- cc.genes$s.genes\n",
    "g2m.genes <- cc.genes$g2m.genes"
   ]
  },
  {
   "cell_type": "code",
   "execution_count": 62,
   "metadata": {
    "vscode": {
     "languageId": "r"
    }
   },
   "outputs": [
    {
     "data": {
      "text/plain": [
       "An object of class Seurat \n",
       "32738 features across 47650 samples within 1 assay \n",
       "Active assay: RNA (32738 features, 0 variable features)"
      ]
     },
     "metadata": {},
     "output_type": "display_data"
    }
   ],
   "source": [
    "gene.expression <- CreateSeuratObject(counts = expression.matrix)\n",
    "gene.expression"
   ]
  },
  {
   "cell_type": "code",
   "execution_count": 63,
   "metadata": {
    "vscode": {
     "languageId": "r"
    }
   },
   "outputs": [
    {
     "data": {
      "text/plain": [
       "An object of class Seurat \n",
       "32738 features across 47650 samples within 1 assay \n",
       "Active assay: RNA (32738 features, 0 variable features)"
      ]
     },
     "metadata": {},
     "output_type": "display_data"
    }
   ],
   "source": [
    "gene.expression <- NormalizeData(gene.expression)\n",
    "gene.expression"
   ]
  },
  {
   "cell_type": "code",
   "execution_count": 64,
   "metadata": {
    "vscode": {
     "languageId": "r"
    }
   },
   "outputs": [
    {
     "data": {
      "text/plain": [
       "An object of class Seurat \n",
       "32738 features across 47650 samples within 1 assay \n",
       "Active assay: RNA (32738 features, 2000 variable features)"
      ]
     },
     "metadata": {},
     "output_type": "display_data"
    }
   ],
   "source": [
    "gene.expression <- FindVariableFeatures(gene.expression, selection.method  = \"vst\")\n",
    "gene.expression"
   ]
  },
  {
   "cell_type": "code",
   "execution_count": 65,
   "metadata": {
    "vscode": {
     "languageId": "r"
    }
   },
   "outputs": [
    {
     "name": "stderr",
     "output_type": "stream",
     "text": [
      "Centering and scaling data matrix\n",
      "\n"
     ]
    },
    {
     "data": {
      "text/plain": [
       "An object of class Seurat \n",
       "32738 features across 47650 samples within 1 assay \n",
       "Active assay: RNA (32738 features, 2000 variable features)"
      ]
     },
     "metadata": {},
     "output_type": "display_data"
    }
   ],
   "source": [
    "gene.expression <- ScaleData(gene.expression, features = rownames(gene.expression))\n",
    "gene.expression"
   ]
  },
  {
   "cell_type": "code",
   "execution_count": 66,
   "metadata": {
    "vscode": {
     "languageId": "r"
    }
   },
   "outputs": [
    {
     "name": "stderr",
     "output_type": "stream",
     "text": [
      "PC_ 1 \n",
      "Positive:  SRM, ATP5MC3, CENPX, PRELID1, MRPL41, ZNF706, SDF2L1, EBNA1BP2, PPP1R14B, PHF19 \n",
      "Negative:  ALAS2, HBZ, GYPA, ENSG00000117289, SNHG32, GYPB, EIF1, ASNS, DDIT4, BTG2 \n",
      "PC_ 2 \n",
      "Positive:  HBA1, HBZ, HBA2, HBG1, HBG2, KLF1, HMBS, HBE1, PITX1, GYPA \n",
      "Negative:  VIM, LGALS1, TMSB10, CLIC1, TMSB4X, S100A11, KRT8, SOCS1, TPM4, PKM \n",
      "PC_ 3 \n",
      "Positive:  ENO1, EIF4A1, TUBA1B, CCT5, UBB, CCNB1, NUDC, HSP90AA1, LDHA, HSP90AB1 \n",
      "Negative:  MT-CO2, MT-ND4, NEAT1, MT-ND1, C1orf56, MT-ND2, MT-ATP6, FTL, HNRNPH1, EIF2S3 \n",
      "PC_ 4 \n",
      "Positive:  HMGB2, NUCKS1, PSAT1, TOP2A, CENPF, HSPA8, PHGDH, MTHFD2, ASPM, HMMR \n",
      "Negative:  HBG2, HBG1, H1-2, H2AC6, HBA1, H4C8, H2BC12, HBA2, ENSG00000269600, H2BC4 \n",
      "PC_ 5 \n",
      "Positive:  AURKA, TOP2A, CENPA, CKS2, TPX2, CENPF, PIF1, ASPM, UBE2S, CDCA8 \n",
      "Negative:  NPM1, ENO1, CTSC, HSP90AB1, CYBA, LDHA, HSPB1, EIF4A1, QPRT, UBB \n",
      "\n"
     ]
    },
    {
     "data": {
      "text/plain": [
       "An object of class Seurat \n",
       "32738 features across 47650 samples within 1 assay \n",
       "Active assay: RNA (32738 features, 2000 variable features)\n",
       " 1 dimensional reduction calculated: pca"
      ]
     },
     "metadata": {},
     "output_type": "display_data"
    }
   ],
   "source": [
    "gene.expression <- RunPCA(gene.expression, features = VariableFeatures(gene.expression), ndims.print = 1:5, nfeatures.print = 10)\n",
    "gene.expression"
   ]
  },
  {
   "cell_type": "code",
   "execution_count": 67,
   "metadata": {
    "vscode": {
     "languageId": "r"
    }
   },
   "outputs": [
    {
     "name": "stderr",
     "output_type": "stream",
     "text": [
      "Warning message:\n",
      "“The following features are not present in the object: UHRF1, MLF1IP, CASP8AP2, not searching for symbol synonyms”\n",
      "Warning message:\n",
      "“The following features are not present in the object: FAM64A, HN1, not searching for symbol synonyms”\n"
     ]
    },
    {
     "data": {
      "text/html": [
       "<table class=\"dataframe\">\n",
       "<caption>A data.frame: 6 × 7</caption>\n",
       "<thead>\n",
       "\t<tr><th></th><th scope=col>orig.ident</th><th scope=col>nCount_RNA</th><th scope=col>nFeature_RNA</th><th scope=col>S.Score</th><th scope=col>G2M.Score</th><th scope=col>Phase</th><th scope=col>old.ident</th></tr>\n",
       "\t<tr><th></th><th scope=col>&lt;fct&gt;</th><th scope=col>&lt;dbl&gt;</th><th scope=col>&lt;int&gt;</th><th scope=col>&lt;dbl&gt;</th><th scope=col>&lt;dbl&gt;</th><th scope=col>&lt;chr&gt;</th><th scope=col>&lt;fct&gt;</th></tr>\n",
       "</thead>\n",
       "<tbody>\n",
       "\t<tr><th scope=row>AAACCTGAGCGAGAAA-1_K1000_CRISPRi_cells_r1_SI-GA-G1</th><td>SeuratProject</td><td>14090</td><td>3676</td><td>-0.29817225</td><td> 0.127110492</td><td>G2M</td><td>SeuratProject</td></tr>\n",
       "\t<tr><th scope=row>AAACCTGAGCTGTCTA-1_K1000_CRISPRi_cells_r1_SI-GA-G1</th><td>SeuratProject</td><td>11933</td><td>3053</td><td> 0.04276115</td><td>-0.207796487</td><td>S  </td><td>SeuratProject</td></tr>\n",
       "\t<tr><th scope=row>AAACCTGAGTTATCGC-1_K1000_CRISPRi_cells_r1_SI-GA-G1</th><td>SeuratProject</td><td>21239</td><td>3902</td><td>-0.05601193</td><td>-0.006468491</td><td>G1 </td><td>SeuratProject</td></tr>\n",
       "\t<tr><th scope=row>AAACCTGAGTTCCACA-1_K1000_CRISPRi_cells_r1_SI-GA-G1</th><td>SeuratProject</td><td>29482</td><td>4940</td><td>-0.08736339</td><td>-0.015361547</td><td>G1 </td><td>SeuratProject</td></tr>\n",
       "\t<tr><th scope=row>AAACCTGCAAATACAG-1_K1000_CRISPRi_cells_r1_SI-GA-G1</th><td>SeuratProject</td><td>10811</td><td>3307</td><td>-0.09298147</td><td> 0.169837374</td><td>G2M</td><td>SeuratProject</td></tr>\n",
       "\t<tr><th scope=row>AAACCTGCACTCGACG-1_K1000_CRISPRi_cells_r1_SI-GA-G1</th><td>SeuratProject</td><td> 9344</td><td>2297</td><td>-0.03381389</td><td> 0.004478619</td><td>G2M</td><td>SeuratProject</td></tr>\n",
       "</tbody>\n",
       "</table>\n"
      ],
      "text/latex": [
       "A data.frame: 6 × 7\n",
       "\\begin{tabular}{r|lllllll}\n",
       "  & orig.ident & nCount\\_RNA & nFeature\\_RNA & S.Score & G2M.Score & Phase & old.ident\\\\\n",
       "  & <fct> & <dbl> & <int> & <dbl> & <dbl> & <chr> & <fct>\\\\\n",
       "\\hline\n",
       "\tAAACCTGAGCGAGAAA-1\\_K1000\\_CRISPRi\\_cells\\_r1\\_SI-GA-G1 & SeuratProject & 14090 & 3676 & -0.29817225 &  0.127110492 & G2M & SeuratProject\\\\\n",
       "\tAAACCTGAGCTGTCTA-1\\_K1000\\_CRISPRi\\_cells\\_r1\\_SI-GA-G1 & SeuratProject & 11933 & 3053 &  0.04276115 & -0.207796487 & S   & SeuratProject\\\\\n",
       "\tAAACCTGAGTTATCGC-1\\_K1000\\_CRISPRi\\_cells\\_r1\\_SI-GA-G1 & SeuratProject & 21239 & 3902 & -0.05601193 & -0.006468491 & G1  & SeuratProject\\\\\n",
       "\tAAACCTGAGTTCCACA-1\\_K1000\\_CRISPRi\\_cells\\_r1\\_SI-GA-G1 & SeuratProject & 29482 & 4940 & -0.08736339 & -0.015361547 & G1  & SeuratProject\\\\\n",
       "\tAAACCTGCAAATACAG-1\\_K1000\\_CRISPRi\\_cells\\_r1\\_SI-GA-G1 & SeuratProject & 10811 & 3307 & -0.09298147 &  0.169837374 & G2M & SeuratProject\\\\\n",
       "\tAAACCTGCACTCGACG-1\\_K1000\\_CRISPRi\\_cells\\_r1\\_SI-GA-G1 & SeuratProject &  9344 & 2297 & -0.03381389 &  0.004478619 & G2M & SeuratProject\\\\\n",
       "\\end{tabular}\n"
      ],
      "text/markdown": [
       "\n",
       "A data.frame: 6 × 7\n",
       "\n",
       "| <!--/--> | orig.ident &lt;fct&gt; | nCount_RNA &lt;dbl&gt; | nFeature_RNA &lt;int&gt; | S.Score &lt;dbl&gt; | G2M.Score &lt;dbl&gt; | Phase &lt;chr&gt; | old.ident &lt;fct&gt; |\n",
       "|---|---|---|---|---|---|---|---|\n",
       "| AAACCTGAGCGAGAAA-1_K1000_CRISPRi_cells_r1_SI-GA-G1 | SeuratProject | 14090 | 3676 | -0.29817225 |  0.127110492 | G2M | SeuratProject |\n",
       "| AAACCTGAGCTGTCTA-1_K1000_CRISPRi_cells_r1_SI-GA-G1 | SeuratProject | 11933 | 3053 |  0.04276115 | -0.207796487 | S   | SeuratProject |\n",
       "| AAACCTGAGTTATCGC-1_K1000_CRISPRi_cells_r1_SI-GA-G1 | SeuratProject | 21239 | 3902 | -0.05601193 | -0.006468491 | G1  | SeuratProject |\n",
       "| AAACCTGAGTTCCACA-1_K1000_CRISPRi_cells_r1_SI-GA-G1 | SeuratProject | 29482 | 4940 | -0.08736339 | -0.015361547 | G1  | SeuratProject |\n",
       "| AAACCTGCAAATACAG-1_K1000_CRISPRi_cells_r1_SI-GA-G1 | SeuratProject | 10811 | 3307 | -0.09298147 |  0.169837374 | G2M | SeuratProject |\n",
       "| AAACCTGCACTCGACG-1_K1000_CRISPRi_cells_r1_SI-GA-G1 | SeuratProject |  9344 | 2297 | -0.03381389 |  0.004478619 | G2M | SeuratProject |\n",
       "\n"
      ],
      "text/plain": [
       "                                                   orig.ident    nCount_RNA\n",
       "AAACCTGAGCGAGAAA-1_K1000_CRISPRi_cells_r1_SI-GA-G1 SeuratProject 14090     \n",
       "AAACCTGAGCTGTCTA-1_K1000_CRISPRi_cells_r1_SI-GA-G1 SeuratProject 11933     \n",
       "AAACCTGAGTTATCGC-1_K1000_CRISPRi_cells_r1_SI-GA-G1 SeuratProject 21239     \n",
       "AAACCTGAGTTCCACA-1_K1000_CRISPRi_cells_r1_SI-GA-G1 SeuratProject 29482     \n",
       "AAACCTGCAAATACAG-1_K1000_CRISPRi_cells_r1_SI-GA-G1 SeuratProject 10811     \n",
       "AAACCTGCACTCGACG-1_K1000_CRISPRi_cells_r1_SI-GA-G1 SeuratProject  9344     \n",
       "                                                   nFeature_RNA S.Score    \n",
       "AAACCTGAGCGAGAAA-1_K1000_CRISPRi_cells_r1_SI-GA-G1 3676         -0.29817225\n",
       "AAACCTGAGCTGTCTA-1_K1000_CRISPRi_cells_r1_SI-GA-G1 3053          0.04276115\n",
       "AAACCTGAGTTATCGC-1_K1000_CRISPRi_cells_r1_SI-GA-G1 3902         -0.05601193\n",
       "AAACCTGAGTTCCACA-1_K1000_CRISPRi_cells_r1_SI-GA-G1 4940         -0.08736339\n",
       "AAACCTGCAAATACAG-1_K1000_CRISPRi_cells_r1_SI-GA-G1 3307         -0.09298147\n",
       "AAACCTGCACTCGACG-1_K1000_CRISPRi_cells_r1_SI-GA-G1 2297         -0.03381389\n",
       "                                                   G2M.Score    Phase\n",
       "AAACCTGAGCGAGAAA-1_K1000_CRISPRi_cells_r1_SI-GA-G1  0.127110492 G2M  \n",
       "AAACCTGAGCTGTCTA-1_K1000_CRISPRi_cells_r1_SI-GA-G1 -0.207796487 S    \n",
       "AAACCTGAGTTATCGC-1_K1000_CRISPRi_cells_r1_SI-GA-G1 -0.006468491 G1   \n",
       "AAACCTGAGTTCCACA-1_K1000_CRISPRi_cells_r1_SI-GA-G1 -0.015361547 G1   \n",
       "AAACCTGCAAATACAG-1_K1000_CRISPRi_cells_r1_SI-GA-G1  0.169837374 G2M  \n",
       "AAACCTGCACTCGACG-1_K1000_CRISPRi_cells_r1_SI-GA-G1  0.004478619 G2M  \n",
       "                                                   old.ident    \n",
       "AAACCTGAGCGAGAAA-1_K1000_CRISPRi_cells_r1_SI-GA-G1 SeuratProject\n",
       "AAACCTGAGCTGTCTA-1_K1000_CRISPRi_cells_r1_SI-GA-G1 SeuratProject\n",
       "AAACCTGAGTTATCGC-1_K1000_CRISPRi_cells_r1_SI-GA-G1 SeuratProject\n",
       "AAACCTGAGTTCCACA-1_K1000_CRISPRi_cells_r1_SI-GA-G1 SeuratProject\n",
       "AAACCTGCAAATACAG-1_K1000_CRISPRi_cells_r1_SI-GA-G1 SeuratProject\n",
       "AAACCTGCACTCGACG-1_K1000_CRISPRi_cells_r1_SI-GA-G1 SeuratProject"
      ]
     },
     "metadata": {},
     "output_type": "display_data"
    }
   ],
   "source": [
    "gene.expression <- CellCycleScoring(gene.expression, s.features = s.genes, g2m.features = g2m.genes, set.ident = TRUE)\n",
    "\n",
    "# view cell cycle scores and phase assignments\n",
    "head(gene.expression[[]])"
   ]
  },
  {
   "cell_type": "code",
   "execution_count": 68,
   "metadata": {
    "vscode": {
     "languageId": "r"
    }
   },
   "outputs": [],
   "source": [
    "# Visualize the distribution of cell cycle markers across\n",
    "cell.cycle.marker.ridge.plot <- RidgePlot(gene.expression, features = c(\"PCNA\", \"TOP2A\", \"MCM6\", \"MKI67\"), ncol = 2)"
   ]
  },
  {
   "cell_type": "code",
   "execution_count": 69,
   "metadata": {
    "vscode": {
     "languageId": "r"
    }
   },
   "outputs": [
    {
     "name": "stderr",
     "output_type": "stream",
     "text": [
      "Saving 6.67 x 6.67 in image\n",
      "\n",
      "Picking joint bandwidth of 0.057\n",
      "\n",
      "Picking joint bandwidth of 0.0557\n",
      "\n",
      "Picking joint bandwidth of 0.0452\n",
      "\n",
      "Picking joint bandwidth of 0.0609\n",
      "\n"
     ]
    }
   ],
   "source": [
    "ggsave(\n",
    "    filename = '/iblm/netapp/home/karthik/crisprQTL/plots/cell_cycle_marker_gene_ridge_plot_pilot.tiff',\n",
    "    cell.cycle.marker.ridge.plot,\n",
    "    device = 'tiff'\n",
    ")"
   ]
  },
  {
   "cell_type": "code",
   "execution_count": 72,
   "metadata": {
    "vscode": {
     "languageId": "r"
    }
   },
   "outputs": [
    {
     "name": "stderr",
     "output_type": "stream",
     "text": [
      "Warning message in PrepDR(object = object, features = features, verbose = verbose):\n",
      "“The following 5 features requested have not been scaled (running reduction without them): UHRF1, MLF1IP, CASP8AP2, FAM64A, HN1”\n",
      "Warning message in irlba(A = t(x = object), nv = npcs, ...):\n",
      "“You're computing too large a percentage of total singular values, use a standard svd instead.”\n",
      "PC_ 1 \n",
      "Positive:  AURKA, CENPF, HMGB2, CKS2, TOP2A, TPX2, CKS1B, CENPA, CDCA8, MKI67 \n",
      "\t   PSRC1, HMMR, NUSAP1, BIRC5, KIF2C, CDK1, GTSE1, CENPE, CDCA3, AURKB \n",
      "\t   CDC20, NEK2, TACC3, NUF2, TUBB4B, DLGAP5, BUB1, NDC80, CKAP2, CDCA2 \n",
      "Negative:  UNG, CCNE2, CDC6, DTL, MCM5, WDR76, HELLS, CDCA7, POLD3, CHAF1B \n",
      "\t   MCM6, GINS2, MCM4, MCM2, BRIP1, UBE2C, FEN1, POLA1, E2F8, ATAD2 \n",
      "\t   EXO1, SLBP, TIPIN, RPA2, CLSPN, RFC2, UBR7, PCNA, DSCC1, CDC45 \n",
      "PC_ 2 \n",
      "Positive:  FEN1, GINS2, PCNA, TYMS, SLBP, CLSPN, CDC45, RFC2, GMNN, NASP \n",
      "\t   CDC6, RPA2, UNG, MCM4, MCM6, ATAD2, MCM5, CHAF1B, EXO1, USP1 \n",
      "\t   RRM2, MCM2, DTL, CDCA7, RAD51, POLD3, HELLS, CCNE2, CKS1B, WDR76 \n",
      "Negative:  AURKA, PSRC1, TOP2A, CENPA, CENPE, GTSE1, CDCA8, HMMR, G2E3, CKS2 \n",
      "\t   CKAP2L, TPX2, CENPF, CKAP2, GAS2L3, ECT2, CDCA2, TTK, DLGAP5, CDC25C \n",
      "\t   CDCA3, KIF20B, NDC80, CKAP5, KIF23, NEK2, HJURP, NCAPD2, BUB1, UBE2C \n",
      "PC_ 3 \n",
      "Positive:  CDK1, RRM2, CENPA, HJURP, TOP2A, CKAP2L, E2F8, KIF23, EXO1, ATAD2 \n",
      "\t   CDCA2, CDC45, RAD51AP1, MKI67, ANLN, CDCA3, CLSPN, CDCA8, GTSE1, PRIM1 \n",
      "\t   CBX5, WDR76, CKAP2, SMC4, BRIP1, RRM1, HELLS, TYMS, DSCC1, BLM \n",
      "Negative:  CDC20, CCNB2, SLBP, LBR, BUB1, DLGAP5, HMMR, NASP, NEK2, TUBB4B \n",
      "\t   BIRC5, ANP32E, TIPIN, CKS2, RANGAP1, DTL, GMNN, CKAP5, PSRC1, TACC3 \n",
      "\t   NUF2, KIF20B, UNG, MCM6, G2E3, MSH2, RPA2, HMGB2, CKS1B, NCAPD2 \n",
      "PC_ 4 \n",
      "Positive:  CCNB2, PRIM1, MCM5, CDC25C, NUSAP1, TTK, CDC45, NDC80, RRM1, TUBB4B \n",
      "\t   HMMR, HJURP, CDK1, MSH2, RPA2, NEK2, RAD51AP1, TIPIN, RAD51, KIF2C \n",
      "\t   MCM6, SMC4, NUF2, DSCC1, NASP, DLGAP5, MCM2, CKAP2L, AURKB, PCNA \n",
      "Negative:  ANP32E, USP1, CDCA7, LBR, CKS2, CLSPN, CKS1B, CENPA, MKI67, CTCF \n",
      "\t   CENPF, HELLS, GINS2, TMPO, ATAD2, RANGAP1, PSRC1, BIRC5, SLBP, E2F8 \n",
      "\t   TPX2, AURKA, GMNN, WDR76, MCM4, GTSE1, CDCA3, ANLN, CKAP2, CDCA2 \n",
      "PC_ 5 \n",
      "Positive:  WDR76, DTL, CDCA7, HELLS, ATAD2, DLGAP5, HMMR, CCNB2, RAD51AP1, PRIM1 \n",
      "\t   RRM1, CCNE2, CDC25C, HMGB2, BRIP1, KIF20B, LBR, CENPF, CBX5, SMC4 \n",
      "\t   MKI67, CDC6, POLD3, ANP32E, TTK, NUSAP1, NEK2, NCAPD2, MSH2, ECT2 \n",
      "Negative:  TUBB4B, CKS2, CDC45, RFC2, FEN1, CDCA3, RANGAP1, RPA2, PCNA, TACC3 \n",
      "\t   CDCA8, RAD51, CTCF, CENPA, AURKA, CDK1, SLBP, KIF23, GINS2, GMNN \n",
      "\t   TYMS, PSRC1, KIF2C, MCM2, TIPIN, AURKB, MCM5, CDCA2, CDC20, BIRC5 \n",
      "\n"
     ]
    }
   ],
   "source": [
    "gene.expression <- RunPCA(gene.expression, features = c(s.genes, g2m.genes))\n",
    "cell.cycle.pca <- DimPlot(gene.expression)"
   ]
  },
  {
   "cell_type": "code",
   "execution_count": 74,
   "metadata": {
    "vscode": {
     "languageId": "r"
    }
   },
   "outputs": [
    {
     "name": "stderr",
     "output_type": "stream",
     "text": [
      "Saving 6.67 x 6.67 in image\n",
      "\n"
     ]
    }
   ],
   "source": [
    "ggsave(\n",
    "    filename = '/iblm/netapp/home/karthik/crisprQTL/plots/cell_cycle_pca_pilot.tiff',\n",
    "    plot = cell.cycle.pca,\n",
    "    device = 'tiff'\n",
    ")"
   ]
  },
  {
   "cell_type": "code",
   "execution_count": 75,
   "metadata": {
    "vscode": {
     "languageId": "r"
    }
   },
   "outputs": [],
   "source": [
    "# write scores to CSV files\n",
    "s.scores <- gene.expression[[]]['S.Score']\n",
    "g2m.scores <- gene.expression[[]]['G2M.Score']\n",
    "\n",
    "write.csv(s.scores, '/iblm/netapp/home/karthik/crisprQTL/gasperini_data/s_scores_pilot.csv')\n",
    "write.csv(g2m.scores, '/iblm/netapp/home/karthik/crisprQTL/gasperini_data/g2m_scores_pilot.csv')"
   ]
  },
  {
   "cell_type": "code",
   "execution_count": null,
   "metadata": {
    "vscode": {
     "languageId": "r"
    }
   },
   "outputs": [],
   "source": []
  }
 ],
 "metadata": {
  "kernelspec": {
   "display_name": "R",
   "language": "R",
   "name": "ir"
  },
  "language_info": {
   "codemirror_mode": "r",
   "file_extension": ".r",
   "mimetype": "text/x-r-source",
   "name": "R",
   "pygments_lexer": "r",
   "version": "4.0.5"
  },
  "orig_nbformat": 4,
  "vscode": {
   "interpreter": {
    "hash": "ff3ded1ee5cae8d2949b5ee8379f987d314fce9e2b7399316b46b6a9603fad1c"
   }
  }
 },
 "nbformat": 4,
 "nbformat_minor": 2
}
