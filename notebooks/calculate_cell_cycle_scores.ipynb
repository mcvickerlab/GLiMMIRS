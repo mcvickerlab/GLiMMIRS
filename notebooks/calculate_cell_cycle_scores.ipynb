{
 "cells": [
  {
   "cell_type": "markdown",
   "id": "4b2d5984-86c6-444a-8df3-76e5dddc3f66",
   "metadata": {},
   "source": [
    "# Cell Cycle Scoring\n",
    "\n",
    "This Jupyter notebooks uses the Seurat single-cell RNA-seq analysis package to compute cell cycle scores for each cell in the Gasperini et al. 2019 dataset. This code is based off the Seurat cell-cycle scoring and regression vignette available at: https://satijalab.org/seurat/articles/cell_cycle_vignette.html\n",
    "\n",
    "Author: Karthik Guruvayurappan"
   ]
  },
  {
   "cell_type": "code",
   "execution_count": 119,
   "id": "84d40f89-d526-4e87-b048-85e4d5c8274f",
   "metadata": {
    "vscode": {
     "languageId": "r"
    }
   },
   "outputs": [],
   "source": [
    "library('Seurat')\n",
    "library('Matrix')\n",
    "library('biomaRt')\n",
    "library(ggplot2)"
   ]
  },
  {
   "cell_type": "code",
   "execution_count": 2,
   "id": "554dee78-30af-4131-88ab-24857ed44dca",
   "metadata": {
    "vscode": {
     "languageId": "r"
    }
   },
   "outputs": [
    {
     "data": {
      "text/plain": [
       "6 x 207324 sparse Matrix of class \"dgTMatrix\"\n",
       "                                                                               \n",
       "[1,] . . . . . . . . . . . . . . . . . . . . . . . . 1 . 1 . . . . . . . ......\n",
       "[2,] 1 . . . . . . . . . . . . . 2 . 1 . . . . . . . 1 . . . . . . 1 . . ......\n",
       "[3,] 1 . 1 1 1 . . . . 1 1 . . . 3 . 4 1 . . . 1 . . 1 1 1 1 1 1 . . . . ......\n",
       "[4,] . . . 1 . . . . . . . . . . . . . . . . . . . . . . . . . . . . . . ......\n",
       "[5,] . . 1 . . . . 1 . . . . . . . . . . . . . . . . . 1 . . . . 1 . . . ......\n",
       "[6,] . . . . . . . . . . . . . . . . 1 . . . . . . . . . . . . . . . . . ......\n",
       "\n",
       " .....suppressing 207290 columns in show(); maybe adjust 'options(max.print= *, width = *)'\n",
       " .............................."
      ]
     },
     "metadata": {},
     "output_type": "display_data"
    }
   ],
   "source": [
    "# load in UMI count (expression) matrix\n",
    "expression.matrix <- readMM('/iblm/netapp/data1/external/Gasperini2019/suppl/GSE120861_at_scale_screen.exprs.mtx')\n",
    "head(expression.matrix)"
   ]
  },
  {
   "cell_type": "code",
   "execution_count": 3,
   "id": "fcacd7c3-1df7-4ddd-8f7f-a8e131172f7f",
   "metadata": {
    "vscode": {
     "languageId": "r"
    }
   },
   "outputs": [
    {
     "data": {
      "text/html": [
       "<table class=\"dataframe\">\n",
       "<caption>A data.frame: 6 × 207324</caption>\n",
       "<thead>\n",
       "\t<tr><th></th><th scope=col>V1</th><th scope=col>V2</th><th scope=col>V3</th><th scope=col>V4</th><th scope=col>V5</th><th scope=col>V6</th><th scope=col>V7</th><th scope=col>V8</th><th scope=col>V9</th><th scope=col>V10</th><th scope=col>⋯</th><th scope=col>V207315</th><th scope=col>V207316</th><th scope=col>V207317</th><th scope=col>V207318</th><th scope=col>V207319</th><th scope=col>V207320</th><th scope=col>V207321</th><th scope=col>V207322</th><th scope=col>V207323</th><th scope=col>V207324</th></tr>\n",
       "\t<tr><th></th><th scope=col>&lt;dbl&gt;</th><th scope=col>&lt;dbl&gt;</th><th scope=col>&lt;dbl&gt;</th><th scope=col>&lt;dbl&gt;</th><th scope=col>&lt;dbl&gt;</th><th scope=col>&lt;dbl&gt;</th><th scope=col>&lt;dbl&gt;</th><th scope=col>&lt;dbl&gt;</th><th scope=col>&lt;dbl&gt;</th><th scope=col>&lt;dbl&gt;</th><th scope=col>⋯</th><th scope=col>&lt;dbl&gt;</th><th scope=col>&lt;dbl&gt;</th><th scope=col>&lt;dbl&gt;</th><th scope=col>&lt;dbl&gt;</th><th scope=col>&lt;dbl&gt;</th><th scope=col>&lt;dbl&gt;</th><th scope=col>&lt;dbl&gt;</th><th scope=col>&lt;dbl&gt;</th><th scope=col>&lt;dbl&gt;</th><th scope=col>&lt;dbl&gt;</th></tr>\n",
       "</thead>\n",
       "<tbody>\n",
       "\t<tr><th scope=row>1</th><td>0</td><td>0</td><td>0</td><td>0</td><td>0</td><td>0</td><td>0</td><td>0</td><td>0</td><td>0</td><td>⋯</td><td>0</td><td>0</td><td>0</td><td>0</td><td>0</td><td>0</td><td>0</td><td>0</td><td>0</td><td>0</td></tr>\n",
       "\t<tr><th scope=row>2</th><td>1</td><td>0</td><td>0</td><td>0</td><td>0</td><td>0</td><td>0</td><td>0</td><td>0</td><td>0</td><td>⋯</td><td>0</td><td>0</td><td>0</td><td>1</td><td>0</td><td>0</td><td>0</td><td>1</td><td>0</td><td>0</td></tr>\n",
       "\t<tr><th scope=row>3</th><td>1</td><td>0</td><td>1</td><td>1</td><td>1</td><td>0</td><td>0</td><td>0</td><td>0</td><td>1</td><td>⋯</td><td>0</td><td>0</td><td>0</td><td>0</td><td>1</td><td>0</td><td>0</td><td>2</td><td>0</td><td>2</td></tr>\n",
       "\t<tr><th scope=row>4</th><td>0</td><td>0</td><td>0</td><td>1</td><td>0</td><td>0</td><td>0</td><td>0</td><td>0</td><td>0</td><td>⋯</td><td>0</td><td>0</td><td>0</td><td>0</td><td>0</td><td>0</td><td>0</td><td>0</td><td>0</td><td>0</td></tr>\n",
       "\t<tr><th scope=row>5</th><td>0</td><td>0</td><td>1</td><td>0</td><td>0</td><td>0</td><td>0</td><td>1</td><td>0</td><td>0</td><td>⋯</td><td>0</td><td>0</td><td>0</td><td>0</td><td>0</td><td>0</td><td>0</td><td>0</td><td>0</td><td>0</td></tr>\n",
       "\t<tr><th scope=row>6</th><td>0</td><td>0</td><td>0</td><td>0</td><td>0</td><td>0</td><td>0</td><td>0</td><td>0</td><td>0</td><td>⋯</td><td>0</td><td>0</td><td>0</td><td>0</td><td>0</td><td>0</td><td>0</td><td>0</td><td>0</td><td>0</td></tr>\n",
       "</tbody>\n",
       "</table>\n"
      ],
      "text/latex": [
       "A data.frame: 6 × 207324\n",
       "\\begin{tabular}{r|lllllllllllllllllllll}\n",
       "  & V1 & V2 & V3 & V4 & V5 & V6 & V7 & V8 & V9 & V10 & ⋯ & V207315 & V207316 & V207317 & V207318 & V207319 & V207320 & V207321 & V207322 & V207323 & V207324\\\\\n",
       "  & <dbl> & <dbl> & <dbl> & <dbl> & <dbl> & <dbl> & <dbl> & <dbl> & <dbl> & <dbl> & ⋯ & <dbl> & <dbl> & <dbl> & <dbl> & <dbl> & <dbl> & <dbl> & <dbl> & <dbl> & <dbl>\\\\\n",
       "\\hline\n",
       "\t1 & 0 & 0 & 0 & 0 & 0 & 0 & 0 & 0 & 0 & 0 & ⋯ & 0 & 0 & 0 & 0 & 0 & 0 & 0 & 0 & 0 & 0\\\\\n",
       "\t2 & 1 & 0 & 0 & 0 & 0 & 0 & 0 & 0 & 0 & 0 & ⋯ & 0 & 0 & 0 & 1 & 0 & 0 & 0 & 1 & 0 & 0\\\\\n",
       "\t3 & 1 & 0 & 1 & 1 & 1 & 0 & 0 & 0 & 0 & 1 & ⋯ & 0 & 0 & 0 & 0 & 1 & 0 & 0 & 2 & 0 & 2\\\\\n",
       "\t4 & 0 & 0 & 0 & 1 & 0 & 0 & 0 & 0 & 0 & 0 & ⋯ & 0 & 0 & 0 & 0 & 0 & 0 & 0 & 0 & 0 & 0\\\\\n",
       "\t5 & 0 & 0 & 1 & 0 & 0 & 0 & 0 & 1 & 0 & 0 & ⋯ & 0 & 0 & 0 & 0 & 0 & 0 & 0 & 0 & 0 & 0\\\\\n",
       "\t6 & 0 & 0 & 0 & 0 & 0 & 0 & 0 & 0 & 0 & 0 & ⋯ & 0 & 0 & 0 & 0 & 0 & 0 & 0 & 0 & 0 & 0\\\\\n",
       "\\end{tabular}\n"
      ],
      "text/markdown": [
       "\n",
       "A data.frame: 6 × 207324\n",
       "\n",
       "| <!--/--> | V1 &lt;dbl&gt; | V2 &lt;dbl&gt; | V3 &lt;dbl&gt; | V4 &lt;dbl&gt; | V5 &lt;dbl&gt; | V6 &lt;dbl&gt; | V7 &lt;dbl&gt; | V8 &lt;dbl&gt; | V9 &lt;dbl&gt; | V10 &lt;dbl&gt; | ⋯ ⋯ | V207315 &lt;dbl&gt; | V207316 &lt;dbl&gt; | V207317 &lt;dbl&gt; | V207318 &lt;dbl&gt; | V207319 &lt;dbl&gt; | V207320 &lt;dbl&gt; | V207321 &lt;dbl&gt; | V207322 &lt;dbl&gt; | V207323 &lt;dbl&gt; | V207324 &lt;dbl&gt; |\n",
       "|---|---|---|---|---|---|---|---|---|---|---|---|---|---|---|---|---|---|---|---|---|---|\n",
       "| 1 | 0 | 0 | 0 | 0 | 0 | 0 | 0 | 0 | 0 | 0 | ⋯ | 0 | 0 | 0 | 0 | 0 | 0 | 0 | 0 | 0 | 0 |\n",
       "| 2 | 1 | 0 | 0 | 0 | 0 | 0 | 0 | 0 | 0 | 0 | ⋯ | 0 | 0 | 0 | 1 | 0 | 0 | 0 | 1 | 0 | 0 |\n",
       "| 3 | 1 | 0 | 1 | 1 | 1 | 0 | 0 | 0 | 0 | 1 | ⋯ | 0 | 0 | 0 | 0 | 1 | 0 | 0 | 2 | 0 | 2 |\n",
       "| 4 | 0 | 0 | 0 | 1 | 0 | 0 | 0 | 0 | 0 | 0 | ⋯ | 0 | 0 | 0 | 0 | 0 | 0 | 0 | 0 | 0 | 0 |\n",
       "| 5 | 0 | 0 | 1 | 0 | 0 | 0 | 0 | 1 | 0 | 0 | ⋯ | 0 | 0 | 0 | 0 | 0 | 0 | 0 | 0 | 0 | 0 |\n",
       "| 6 | 0 | 0 | 0 | 0 | 0 | 0 | 0 | 0 | 0 | 0 | ⋯ | 0 | 0 | 0 | 0 | 0 | 0 | 0 | 0 | 0 | 0 |\n",
       "\n"
      ],
      "text/plain": [
       "  V1 V2 V3 V4 V5 V6 V7 V8 V9 V10 ⋯ V207315 V207316 V207317 V207318 V207319\n",
       "1 0  0  0  0  0  0  0  0  0  0   ⋯ 0       0       0       0       0      \n",
       "2 1  0  0  0  0  0  0  0  0  0   ⋯ 0       0       0       1       0      \n",
       "3 1  0  1  1  1  0  0  0  0  1   ⋯ 0       0       0       0       1      \n",
       "4 0  0  0  1  0  0  0  0  0  0   ⋯ 0       0       0       0       0      \n",
       "5 0  0  1  0  0  0  0  1  0  0   ⋯ 0       0       0       0       0      \n",
       "6 0  0  0  0  0  0  0  0  0  0   ⋯ 0       0       0       0       0      \n",
       "  V207320 V207321 V207322 V207323 V207324\n",
       "1 0       0       0       0       0      \n",
       "2 0       0       1       0       0      \n",
       "3 0       0       2       0       2      \n",
       "4 0       0       0       0       0      \n",
       "5 0       0       0       0       0      \n",
       "6 0       0       0       0       0      "
      ]
     },
     "metadata": {},
     "output_type": "display_data"
    }
   ],
   "source": [
    "# convert expression matrix from matrix to data frame format\n",
    "expression.matrix <- as.data.frame(expression.matrix)\n",
    "head(expression.matrix)"
   ]
  },
  {
   "cell_type": "code",
   "execution_count": 5,
   "id": "380d26fd-dfa8-4c6d-aff2-9007e70dea80",
   "metadata": {
    "vscode": {
     "languageId": "r"
    }
   },
   "outputs": [
    {
     "data": {
      "text/html": [
       "<table class=\"dataframe\">\n",
       "<caption>A data.frame: 6 × 207324</caption>\n",
       "<thead>\n",
       "\t<tr><th></th><th scope=col>AAACCTGAGAGGTACC-1_1A_1_SI-GA-E2</th><th scope=col>AAACCTGAGTCAATAG-1_1A_1_SI-GA-E2</th><th scope=col>AAACCTGCAAACAACA-1_1A_1_SI-GA-E2</th><th scope=col>AAACCTGCACTTCTGC-1_1A_1_SI-GA-E2</th><th scope=col>AAACCTGCATGTAGTC-1_1A_1_SI-GA-E2</th><th scope=col>AAACCTGGTAGCGCAA-1_1A_1_SI-GA-E2</th><th scope=col>AAACCTGGTAGGGACT-1_1A_1_SI-GA-E2</th><th scope=col>AAACCTGGTATATGAG-1_1A_1_SI-GA-E2</th><th scope=col>AAACCTGGTCAAAGCG-1_1A_1_SI-GA-E2</th><th scope=col>AAACCTGGTCTTCAAG-1_1A_1_SI-GA-E2</th><th scope=col>⋯</th><th scope=col>TTTGTCACAACGATGG-1_2B_8_SI-GA-H9</th><th scope=col>TTTGTCACACTTCTGC-1_2B_8_SI-GA-H9</th><th scope=col>TTTGTCACAGATAATG-1_2B_8_SI-GA-H9</th><th scope=col>TTTGTCACAGCCAGAA-1_2B_8_SI-GA-H9</th><th scope=col>TTTGTCACATTAGGCT-1_2B_8_SI-GA-H9</th><th scope=col>TTTGTCAGTACCTACA-1_2B_8_SI-GA-H9</th><th scope=col>TTTGTCAGTATCACCA-1_2B_8_SI-GA-H9</th><th scope=col>TTTGTCAGTTCAGACT-1_2B_8_SI-GA-H9</th><th scope=col>TTTGTCAGTTCTGTTT-1_2B_8_SI-GA-H9</th><th scope=col>TTTGTCATCAAAGTAG-1_2B_8_SI-GA-H9</th></tr>\n",
       "\t<tr><th></th><th scope=col>&lt;dbl&gt;</th><th scope=col>&lt;dbl&gt;</th><th scope=col>&lt;dbl&gt;</th><th scope=col>&lt;dbl&gt;</th><th scope=col>&lt;dbl&gt;</th><th scope=col>&lt;dbl&gt;</th><th scope=col>&lt;dbl&gt;</th><th scope=col>&lt;dbl&gt;</th><th scope=col>&lt;dbl&gt;</th><th scope=col>&lt;dbl&gt;</th><th scope=col>⋯</th><th scope=col>&lt;dbl&gt;</th><th scope=col>&lt;dbl&gt;</th><th scope=col>&lt;dbl&gt;</th><th scope=col>&lt;dbl&gt;</th><th scope=col>&lt;dbl&gt;</th><th scope=col>&lt;dbl&gt;</th><th scope=col>&lt;dbl&gt;</th><th scope=col>&lt;dbl&gt;</th><th scope=col>&lt;dbl&gt;</th><th scope=col>&lt;dbl&gt;</th></tr>\n",
       "</thead>\n",
       "<tbody>\n",
       "\t<tr><th scope=row>1</th><td>0</td><td>0</td><td>0</td><td>0</td><td>0</td><td>0</td><td>0</td><td>0</td><td>0</td><td>0</td><td>⋯</td><td>0</td><td>0</td><td>0</td><td>0</td><td>0</td><td>0</td><td>0</td><td>0</td><td>0</td><td>0</td></tr>\n",
       "\t<tr><th scope=row>2</th><td>1</td><td>0</td><td>0</td><td>0</td><td>0</td><td>0</td><td>0</td><td>0</td><td>0</td><td>0</td><td>⋯</td><td>0</td><td>0</td><td>0</td><td>1</td><td>0</td><td>0</td><td>0</td><td>1</td><td>0</td><td>0</td></tr>\n",
       "\t<tr><th scope=row>3</th><td>1</td><td>0</td><td>1</td><td>1</td><td>1</td><td>0</td><td>0</td><td>0</td><td>0</td><td>1</td><td>⋯</td><td>0</td><td>0</td><td>0</td><td>0</td><td>1</td><td>0</td><td>0</td><td>2</td><td>0</td><td>2</td></tr>\n",
       "\t<tr><th scope=row>4</th><td>0</td><td>0</td><td>0</td><td>1</td><td>0</td><td>0</td><td>0</td><td>0</td><td>0</td><td>0</td><td>⋯</td><td>0</td><td>0</td><td>0</td><td>0</td><td>0</td><td>0</td><td>0</td><td>0</td><td>0</td><td>0</td></tr>\n",
       "\t<tr><th scope=row>5</th><td>0</td><td>0</td><td>1</td><td>0</td><td>0</td><td>0</td><td>0</td><td>1</td><td>0</td><td>0</td><td>⋯</td><td>0</td><td>0</td><td>0</td><td>0</td><td>0</td><td>0</td><td>0</td><td>0</td><td>0</td><td>0</td></tr>\n",
       "\t<tr><th scope=row>6</th><td>0</td><td>0</td><td>0</td><td>0</td><td>0</td><td>0</td><td>0</td><td>0</td><td>0</td><td>0</td><td>⋯</td><td>0</td><td>0</td><td>0</td><td>0</td><td>0</td><td>0</td><td>0</td><td>0</td><td>0</td><td>0</td></tr>\n",
       "</tbody>\n",
       "</table>\n"
      ],
      "text/latex": [
       "A data.frame: 6 × 207324\n",
       "\\begin{tabular}{r|lllllllllllllllllllll}\n",
       "  & AAACCTGAGAGGTACC-1\\_1A\\_1\\_SI-GA-E2 & AAACCTGAGTCAATAG-1\\_1A\\_1\\_SI-GA-E2 & AAACCTGCAAACAACA-1\\_1A\\_1\\_SI-GA-E2 & AAACCTGCACTTCTGC-1\\_1A\\_1\\_SI-GA-E2 & AAACCTGCATGTAGTC-1\\_1A\\_1\\_SI-GA-E2 & AAACCTGGTAGCGCAA-1\\_1A\\_1\\_SI-GA-E2 & AAACCTGGTAGGGACT-1\\_1A\\_1\\_SI-GA-E2 & AAACCTGGTATATGAG-1\\_1A\\_1\\_SI-GA-E2 & AAACCTGGTCAAAGCG-1\\_1A\\_1\\_SI-GA-E2 & AAACCTGGTCTTCAAG-1\\_1A\\_1\\_SI-GA-E2 & ⋯ & TTTGTCACAACGATGG-1\\_2B\\_8\\_SI-GA-H9 & TTTGTCACACTTCTGC-1\\_2B\\_8\\_SI-GA-H9 & TTTGTCACAGATAATG-1\\_2B\\_8\\_SI-GA-H9 & TTTGTCACAGCCAGAA-1\\_2B\\_8\\_SI-GA-H9 & TTTGTCACATTAGGCT-1\\_2B\\_8\\_SI-GA-H9 & TTTGTCAGTACCTACA-1\\_2B\\_8\\_SI-GA-H9 & TTTGTCAGTATCACCA-1\\_2B\\_8\\_SI-GA-H9 & TTTGTCAGTTCAGACT-1\\_2B\\_8\\_SI-GA-H9 & TTTGTCAGTTCTGTTT-1\\_2B\\_8\\_SI-GA-H9 & TTTGTCATCAAAGTAG-1\\_2B\\_8\\_SI-GA-H9\\\\\n",
       "  & <dbl> & <dbl> & <dbl> & <dbl> & <dbl> & <dbl> & <dbl> & <dbl> & <dbl> & <dbl> & ⋯ & <dbl> & <dbl> & <dbl> & <dbl> & <dbl> & <dbl> & <dbl> & <dbl> & <dbl> & <dbl>\\\\\n",
       "\\hline\n",
       "\t1 & 0 & 0 & 0 & 0 & 0 & 0 & 0 & 0 & 0 & 0 & ⋯ & 0 & 0 & 0 & 0 & 0 & 0 & 0 & 0 & 0 & 0\\\\\n",
       "\t2 & 1 & 0 & 0 & 0 & 0 & 0 & 0 & 0 & 0 & 0 & ⋯ & 0 & 0 & 0 & 1 & 0 & 0 & 0 & 1 & 0 & 0\\\\\n",
       "\t3 & 1 & 0 & 1 & 1 & 1 & 0 & 0 & 0 & 0 & 1 & ⋯ & 0 & 0 & 0 & 0 & 1 & 0 & 0 & 2 & 0 & 2\\\\\n",
       "\t4 & 0 & 0 & 0 & 1 & 0 & 0 & 0 & 0 & 0 & 0 & ⋯ & 0 & 0 & 0 & 0 & 0 & 0 & 0 & 0 & 0 & 0\\\\\n",
       "\t5 & 0 & 0 & 1 & 0 & 0 & 0 & 0 & 1 & 0 & 0 & ⋯ & 0 & 0 & 0 & 0 & 0 & 0 & 0 & 0 & 0 & 0\\\\\n",
       "\t6 & 0 & 0 & 0 & 0 & 0 & 0 & 0 & 0 & 0 & 0 & ⋯ & 0 & 0 & 0 & 0 & 0 & 0 & 0 & 0 & 0 & 0\\\\\n",
       "\\end{tabular}\n"
      ],
      "text/markdown": [
       "\n",
       "A data.frame: 6 × 207324\n",
       "\n",
       "| <!--/--> | AAACCTGAGAGGTACC-1_1A_1_SI-GA-E2 &lt;dbl&gt; | AAACCTGAGTCAATAG-1_1A_1_SI-GA-E2 &lt;dbl&gt; | AAACCTGCAAACAACA-1_1A_1_SI-GA-E2 &lt;dbl&gt; | AAACCTGCACTTCTGC-1_1A_1_SI-GA-E2 &lt;dbl&gt; | AAACCTGCATGTAGTC-1_1A_1_SI-GA-E2 &lt;dbl&gt; | AAACCTGGTAGCGCAA-1_1A_1_SI-GA-E2 &lt;dbl&gt; | AAACCTGGTAGGGACT-1_1A_1_SI-GA-E2 &lt;dbl&gt; | AAACCTGGTATATGAG-1_1A_1_SI-GA-E2 &lt;dbl&gt; | AAACCTGGTCAAAGCG-1_1A_1_SI-GA-E2 &lt;dbl&gt; | AAACCTGGTCTTCAAG-1_1A_1_SI-GA-E2 &lt;dbl&gt; | ⋯ ⋯ | TTTGTCACAACGATGG-1_2B_8_SI-GA-H9 &lt;dbl&gt; | TTTGTCACACTTCTGC-1_2B_8_SI-GA-H9 &lt;dbl&gt; | TTTGTCACAGATAATG-1_2B_8_SI-GA-H9 &lt;dbl&gt; | TTTGTCACAGCCAGAA-1_2B_8_SI-GA-H9 &lt;dbl&gt; | TTTGTCACATTAGGCT-1_2B_8_SI-GA-H9 &lt;dbl&gt; | TTTGTCAGTACCTACA-1_2B_8_SI-GA-H9 &lt;dbl&gt; | TTTGTCAGTATCACCA-1_2B_8_SI-GA-H9 &lt;dbl&gt; | TTTGTCAGTTCAGACT-1_2B_8_SI-GA-H9 &lt;dbl&gt; | TTTGTCAGTTCTGTTT-1_2B_8_SI-GA-H9 &lt;dbl&gt; | TTTGTCATCAAAGTAG-1_2B_8_SI-GA-H9 &lt;dbl&gt; |\n",
       "|---|---|---|---|---|---|---|---|---|---|---|---|---|---|---|---|---|---|---|---|---|---|\n",
       "| 1 | 0 | 0 | 0 | 0 | 0 | 0 | 0 | 0 | 0 | 0 | ⋯ | 0 | 0 | 0 | 0 | 0 | 0 | 0 | 0 | 0 | 0 |\n",
       "| 2 | 1 | 0 | 0 | 0 | 0 | 0 | 0 | 0 | 0 | 0 | ⋯ | 0 | 0 | 0 | 1 | 0 | 0 | 0 | 1 | 0 | 0 |\n",
       "| 3 | 1 | 0 | 1 | 1 | 1 | 0 | 0 | 0 | 0 | 1 | ⋯ | 0 | 0 | 0 | 0 | 1 | 0 | 0 | 2 | 0 | 2 |\n",
       "| 4 | 0 | 0 | 0 | 1 | 0 | 0 | 0 | 0 | 0 | 0 | ⋯ | 0 | 0 | 0 | 0 | 0 | 0 | 0 | 0 | 0 | 0 |\n",
       "| 5 | 0 | 0 | 1 | 0 | 0 | 0 | 0 | 1 | 0 | 0 | ⋯ | 0 | 0 | 0 | 0 | 0 | 0 | 0 | 0 | 0 | 0 |\n",
       "| 6 | 0 | 0 | 0 | 0 | 0 | 0 | 0 | 0 | 0 | 0 | ⋯ | 0 | 0 | 0 | 0 | 0 | 0 | 0 | 0 | 0 | 0 |\n",
       "\n"
      ],
      "text/plain": [
       "  AAACCTGAGAGGTACC-1_1A_1_SI-GA-E2 AAACCTGAGTCAATAG-1_1A_1_SI-GA-E2\n",
       "1 0                                0                               \n",
       "2 1                                0                               \n",
       "3 1                                0                               \n",
       "4 0                                0                               \n",
       "5 0                                0                               \n",
       "6 0                                0                               \n",
       "  AAACCTGCAAACAACA-1_1A_1_SI-GA-E2 AAACCTGCACTTCTGC-1_1A_1_SI-GA-E2\n",
       "1 0                                0                               \n",
       "2 0                                0                               \n",
       "3 1                                1                               \n",
       "4 0                                1                               \n",
       "5 1                                0                               \n",
       "6 0                                0                               \n",
       "  AAACCTGCATGTAGTC-1_1A_1_SI-GA-E2 AAACCTGGTAGCGCAA-1_1A_1_SI-GA-E2\n",
       "1 0                                0                               \n",
       "2 0                                0                               \n",
       "3 1                                0                               \n",
       "4 0                                0                               \n",
       "5 0                                0                               \n",
       "6 0                                0                               \n",
       "  AAACCTGGTAGGGACT-1_1A_1_SI-GA-E2 AAACCTGGTATATGAG-1_1A_1_SI-GA-E2\n",
       "1 0                                0                               \n",
       "2 0                                0                               \n",
       "3 0                                0                               \n",
       "4 0                                0                               \n",
       "5 0                                1                               \n",
       "6 0                                0                               \n",
       "  AAACCTGGTCAAAGCG-1_1A_1_SI-GA-E2 AAACCTGGTCTTCAAG-1_1A_1_SI-GA-E2 ⋯\n",
       "1 0                                0                                ⋯\n",
       "2 0                                0                                ⋯\n",
       "3 0                                1                                ⋯\n",
       "4 0                                0                                ⋯\n",
       "5 0                                0                                ⋯\n",
       "6 0                                0                                ⋯\n",
       "  TTTGTCACAACGATGG-1_2B_8_SI-GA-H9 TTTGTCACACTTCTGC-1_2B_8_SI-GA-H9\n",
       "1 0                                0                               \n",
       "2 0                                0                               \n",
       "3 0                                0                               \n",
       "4 0                                0                               \n",
       "5 0                                0                               \n",
       "6 0                                0                               \n",
       "  TTTGTCACAGATAATG-1_2B_8_SI-GA-H9 TTTGTCACAGCCAGAA-1_2B_8_SI-GA-H9\n",
       "1 0                                0                               \n",
       "2 0                                1                               \n",
       "3 0                                0                               \n",
       "4 0                                0                               \n",
       "5 0                                0                               \n",
       "6 0                                0                               \n",
       "  TTTGTCACATTAGGCT-1_2B_8_SI-GA-H9 TTTGTCAGTACCTACA-1_2B_8_SI-GA-H9\n",
       "1 0                                0                               \n",
       "2 0                                0                               \n",
       "3 1                                0                               \n",
       "4 0                                0                               \n",
       "5 0                                0                               \n",
       "6 0                                0                               \n",
       "  TTTGTCAGTATCACCA-1_2B_8_SI-GA-H9 TTTGTCAGTTCAGACT-1_2B_8_SI-GA-H9\n",
       "1 0                                0                               \n",
       "2 0                                1                               \n",
       "3 0                                2                               \n",
       "4 0                                0                               \n",
       "5 0                                0                               \n",
       "6 0                                0                               \n",
       "  TTTGTCAGTTCTGTTT-1_2B_8_SI-GA-H9 TTTGTCATCAAAGTAG-1_2B_8_SI-GA-H9\n",
       "1 0                                0                               \n",
       "2 0                                0                               \n",
       "3 0                                2                               \n",
       "4 0                                0                               \n",
       "5 0                                0                               \n",
       "6 0                                0                               "
      ]
     },
     "metadata": {},
     "output_type": "display_data"
    }
   ],
   "source": [
    "# read in column names and add to expression matrix\n",
    "cell.barcodes <- read.delim('/iblm/netapp/data1/external/Gasperini2019/suppl/GSE120861_at_scale_screen.cells.txt', header = FALSE)\n",
    "cell.barcodes <- cell.barcodes$V1\n",
    "colnames(expression.matrix) <- cell.barcodes\n",
    "head(expression.matrix)"
   ]
  },
  {
   "cell_type": "code",
   "execution_count": 6,
   "id": "f3054daf-1707-497a-8f79-32d6bc828dde",
   "metadata": {
    "vscode": {
     "languageId": "r"
    }
   },
   "outputs": [
    {
     "data": {
      "text/html": [
       "<table class=\"dataframe\">\n",
       "<caption>A data.frame: 6 × 207324</caption>\n",
       "<thead>\n",
       "\t<tr><th></th><th scope=col>AAACCTGAGAGGTACC-1_1A_1_SI-GA-E2</th><th scope=col>AAACCTGAGTCAATAG-1_1A_1_SI-GA-E2</th><th scope=col>AAACCTGCAAACAACA-1_1A_1_SI-GA-E2</th><th scope=col>AAACCTGCACTTCTGC-1_1A_1_SI-GA-E2</th><th scope=col>AAACCTGCATGTAGTC-1_1A_1_SI-GA-E2</th><th scope=col>AAACCTGGTAGCGCAA-1_1A_1_SI-GA-E2</th><th scope=col>AAACCTGGTAGGGACT-1_1A_1_SI-GA-E2</th><th scope=col>AAACCTGGTATATGAG-1_1A_1_SI-GA-E2</th><th scope=col>AAACCTGGTCAAAGCG-1_1A_1_SI-GA-E2</th><th scope=col>AAACCTGGTCTTCAAG-1_1A_1_SI-GA-E2</th><th scope=col>⋯</th><th scope=col>TTTGTCACAACGATGG-1_2B_8_SI-GA-H9</th><th scope=col>TTTGTCACACTTCTGC-1_2B_8_SI-GA-H9</th><th scope=col>TTTGTCACAGATAATG-1_2B_8_SI-GA-H9</th><th scope=col>TTTGTCACAGCCAGAA-1_2B_8_SI-GA-H9</th><th scope=col>TTTGTCACATTAGGCT-1_2B_8_SI-GA-H9</th><th scope=col>TTTGTCAGTACCTACA-1_2B_8_SI-GA-H9</th><th scope=col>TTTGTCAGTATCACCA-1_2B_8_SI-GA-H9</th><th scope=col>TTTGTCAGTTCAGACT-1_2B_8_SI-GA-H9</th><th scope=col>TTTGTCAGTTCTGTTT-1_2B_8_SI-GA-H9</th><th scope=col>TTTGTCATCAAAGTAG-1_2B_8_SI-GA-H9</th></tr>\n",
       "\t<tr><th></th><th scope=col>&lt;dbl&gt;</th><th scope=col>&lt;dbl&gt;</th><th scope=col>&lt;dbl&gt;</th><th scope=col>&lt;dbl&gt;</th><th scope=col>&lt;dbl&gt;</th><th scope=col>&lt;dbl&gt;</th><th scope=col>&lt;dbl&gt;</th><th scope=col>&lt;dbl&gt;</th><th scope=col>&lt;dbl&gt;</th><th scope=col>&lt;dbl&gt;</th><th scope=col>⋯</th><th scope=col>&lt;dbl&gt;</th><th scope=col>&lt;dbl&gt;</th><th scope=col>&lt;dbl&gt;</th><th scope=col>&lt;dbl&gt;</th><th scope=col>&lt;dbl&gt;</th><th scope=col>&lt;dbl&gt;</th><th scope=col>&lt;dbl&gt;</th><th scope=col>&lt;dbl&gt;</th><th scope=col>&lt;dbl&gt;</th><th scope=col>&lt;dbl&gt;</th></tr>\n",
       "</thead>\n",
       "<tbody>\n",
       "\t<tr><th scope=row>ENSG00000238009</th><td>0</td><td>0</td><td>0</td><td>0</td><td>0</td><td>0</td><td>0</td><td>0</td><td>0</td><td>0</td><td>⋯</td><td>0</td><td>0</td><td>0</td><td>0</td><td>0</td><td>0</td><td>0</td><td>0</td><td>0</td><td>0</td></tr>\n",
       "\t<tr><th scope=row>ENSG00000237683</th><td>1</td><td>0</td><td>0</td><td>0</td><td>0</td><td>0</td><td>0</td><td>0</td><td>0</td><td>0</td><td>⋯</td><td>0</td><td>0</td><td>0</td><td>1</td><td>0</td><td>0</td><td>0</td><td>1</td><td>0</td><td>0</td></tr>\n",
       "\t<tr><th scope=row>ENSG00000228463</th><td>1</td><td>0</td><td>1</td><td>1</td><td>1</td><td>0</td><td>0</td><td>0</td><td>0</td><td>1</td><td>⋯</td><td>0</td><td>0</td><td>0</td><td>0</td><td>1</td><td>0</td><td>0</td><td>2</td><td>0</td><td>2</td></tr>\n",
       "\t<tr><th scope=row>ENSG00000237094</th><td>0</td><td>0</td><td>0</td><td>1</td><td>0</td><td>0</td><td>0</td><td>0</td><td>0</td><td>0</td><td>⋯</td><td>0</td><td>0</td><td>0</td><td>0</td><td>0</td><td>0</td><td>0</td><td>0</td><td>0</td><td>0</td></tr>\n",
       "\t<tr><th scope=row>ENSG00000235373</th><td>0</td><td>0</td><td>1</td><td>0</td><td>0</td><td>0</td><td>0</td><td>1</td><td>0</td><td>0</td><td>⋯</td><td>0</td><td>0</td><td>0</td><td>0</td><td>0</td><td>0</td><td>0</td><td>0</td><td>0</td><td>0</td></tr>\n",
       "\t<tr><th scope=row>ENSG00000228327</th><td>0</td><td>0</td><td>0</td><td>0</td><td>0</td><td>0</td><td>0</td><td>0</td><td>0</td><td>0</td><td>⋯</td><td>0</td><td>0</td><td>0</td><td>0</td><td>0</td><td>0</td><td>0</td><td>0</td><td>0</td><td>0</td></tr>\n",
       "</tbody>\n",
       "</table>\n"
      ],
      "text/latex": [
       "A data.frame: 6 × 207324\n",
       "\\begin{tabular}{r|lllllllllllllllllllll}\n",
       "  & AAACCTGAGAGGTACC-1\\_1A\\_1\\_SI-GA-E2 & AAACCTGAGTCAATAG-1\\_1A\\_1\\_SI-GA-E2 & AAACCTGCAAACAACA-1\\_1A\\_1\\_SI-GA-E2 & AAACCTGCACTTCTGC-1\\_1A\\_1\\_SI-GA-E2 & AAACCTGCATGTAGTC-1\\_1A\\_1\\_SI-GA-E2 & AAACCTGGTAGCGCAA-1\\_1A\\_1\\_SI-GA-E2 & AAACCTGGTAGGGACT-1\\_1A\\_1\\_SI-GA-E2 & AAACCTGGTATATGAG-1\\_1A\\_1\\_SI-GA-E2 & AAACCTGGTCAAAGCG-1\\_1A\\_1\\_SI-GA-E2 & AAACCTGGTCTTCAAG-1\\_1A\\_1\\_SI-GA-E2 & ⋯ & TTTGTCACAACGATGG-1\\_2B\\_8\\_SI-GA-H9 & TTTGTCACACTTCTGC-1\\_2B\\_8\\_SI-GA-H9 & TTTGTCACAGATAATG-1\\_2B\\_8\\_SI-GA-H9 & TTTGTCACAGCCAGAA-1\\_2B\\_8\\_SI-GA-H9 & TTTGTCACATTAGGCT-1\\_2B\\_8\\_SI-GA-H9 & TTTGTCAGTACCTACA-1\\_2B\\_8\\_SI-GA-H9 & TTTGTCAGTATCACCA-1\\_2B\\_8\\_SI-GA-H9 & TTTGTCAGTTCAGACT-1\\_2B\\_8\\_SI-GA-H9 & TTTGTCAGTTCTGTTT-1\\_2B\\_8\\_SI-GA-H9 & TTTGTCATCAAAGTAG-1\\_2B\\_8\\_SI-GA-H9\\\\\n",
       "  & <dbl> & <dbl> & <dbl> & <dbl> & <dbl> & <dbl> & <dbl> & <dbl> & <dbl> & <dbl> & ⋯ & <dbl> & <dbl> & <dbl> & <dbl> & <dbl> & <dbl> & <dbl> & <dbl> & <dbl> & <dbl>\\\\\n",
       "\\hline\n",
       "\tENSG00000238009 & 0 & 0 & 0 & 0 & 0 & 0 & 0 & 0 & 0 & 0 & ⋯ & 0 & 0 & 0 & 0 & 0 & 0 & 0 & 0 & 0 & 0\\\\\n",
       "\tENSG00000237683 & 1 & 0 & 0 & 0 & 0 & 0 & 0 & 0 & 0 & 0 & ⋯ & 0 & 0 & 0 & 1 & 0 & 0 & 0 & 1 & 0 & 0\\\\\n",
       "\tENSG00000228463 & 1 & 0 & 1 & 1 & 1 & 0 & 0 & 0 & 0 & 1 & ⋯ & 0 & 0 & 0 & 0 & 1 & 0 & 0 & 2 & 0 & 2\\\\\n",
       "\tENSG00000237094 & 0 & 0 & 0 & 1 & 0 & 0 & 0 & 0 & 0 & 0 & ⋯ & 0 & 0 & 0 & 0 & 0 & 0 & 0 & 0 & 0 & 0\\\\\n",
       "\tENSG00000235373 & 0 & 0 & 1 & 0 & 0 & 0 & 0 & 1 & 0 & 0 & ⋯ & 0 & 0 & 0 & 0 & 0 & 0 & 0 & 0 & 0 & 0\\\\\n",
       "\tENSG00000228327 & 0 & 0 & 0 & 0 & 0 & 0 & 0 & 0 & 0 & 0 & ⋯ & 0 & 0 & 0 & 0 & 0 & 0 & 0 & 0 & 0 & 0\\\\\n",
       "\\end{tabular}\n"
      ],
      "text/markdown": [
       "\n",
       "A data.frame: 6 × 207324\n",
       "\n",
       "| <!--/--> | AAACCTGAGAGGTACC-1_1A_1_SI-GA-E2 &lt;dbl&gt; | AAACCTGAGTCAATAG-1_1A_1_SI-GA-E2 &lt;dbl&gt; | AAACCTGCAAACAACA-1_1A_1_SI-GA-E2 &lt;dbl&gt; | AAACCTGCACTTCTGC-1_1A_1_SI-GA-E2 &lt;dbl&gt; | AAACCTGCATGTAGTC-1_1A_1_SI-GA-E2 &lt;dbl&gt; | AAACCTGGTAGCGCAA-1_1A_1_SI-GA-E2 &lt;dbl&gt; | AAACCTGGTAGGGACT-1_1A_1_SI-GA-E2 &lt;dbl&gt; | AAACCTGGTATATGAG-1_1A_1_SI-GA-E2 &lt;dbl&gt; | AAACCTGGTCAAAGCG-1_1A_1_SI-GA-E2 &lt;dbl&gt; | AAACCTGGTCTTCAAG-1_1A_1_SI-GA-E2 &lt;dbl&gt; | ⋯ ⋯ | TTTGTCACAACGATGG-1_2B_8_SI-GA-H9 &lt;dbl&gt; | TTTGTCACACTTCTGC-1_2B_8_SI-GA-H9 &lt;dbl&gt; | TTTGTCACAGATAATG-1_2B_8_SI-GA-H9 &lt;dbl&gt; | TTTGTCACAGCCAGAA-1_2B_8_SI-GA-H9 &lt;dbl&gt; | TTTGTCACATTAGGCT-1_2B_8_SI-GA-H9 &lt;dbl&gt; | TTTGTCAGTACCTACA-1_2B_8_SI-GA-H9 &lt;dbl&gt; | TTTGTCAGTATCACCA-1_2B_8_SI-GA-H9 &lt;dbl&gt; | TTTGTCAGTTCAGACT-1_2B_8_SI-GA-H9 &lt;dbl&gt; | TTTGTCAGTTCTGTTT-1_2B_8_SI-GA-H9 &lt;dbl&gt; | TTTGTCATCAAAGTAG-1_2B_8_SI-GA-H9 &lt;dbl&gt; |\n",
       "|---|---|---|---|---|---|---|---|---|---|---|---|---|---|---|---|---|---|---|---|---|---|\n",
       "| ENSG00000238009 | 0 | 0 | 0 | 0 | 0 | 0 | 0 | 0 | 0 | 0 | ⋯ | 0 | 0 | 0 | 0 | 0 | 0 | 0 | 0 | 0 | 0 |\n",
       "| ENSG00000237683 | 1 | 0 | 0 | 0 | 0 | 0 | 0 | 0 | 0 | 0 | ⋯ | 0 | 0 | 0 | 1 | 0 | 0 | 0 | 1 | 0 | 0 |\n",
       "| ENSG00000228463 | 1 | 0 | 1 | 1 | 1 | 0 | 0 | 0 | 0 | 1 | ⋯ | 0 | 0 | 0 | 0 | 1 | 0 | 0 | 2 | 0 | 2 |\n",
       "| ENSG00000237094 | 0 | 0 | 0 | 1 | 0 | 0 | 0 | 0 | 0 | 0 | ⋯ | 0 | 0 | 0 | 0 | 0 | 0 | 0 | 0 | 0 | 0 |\n",
       "| ENSG00000235373 | 0 | 0 | 1 | 0 | 0 | 0 | 0 | 1 | 0 | 0 | ⋯ | 0 | 0 | 0 | 0 | 0 | 0 | 0 | 0 | 0 | 0 |\n",
       "| ENSG00000228327 | 0 | 0 | 0 | 0 | 0 | 0 | 0 | 0 | 0 | 0 | ⋯ | 0 | 0 | 0 | 0 | 0 | 0 | 0 | 0 | 0 | 0 |\n",
       "\n"
      ],
      "text/plain": [
       "                AAACCTGAGAGGTACC-1_1A_1_SI-GA-E2\n",
       "ENSG00000238009 0                               \n",
       "ENSG00000237683 1                               \n",
       "ENSG00000228463 1                               \n",
       "ENSG00000237094 0                               \n",
       "ENSG00000235373 0                               \n",
       "ENSG00000228327 0                               \n",
       "                AAACCTGAGTCAATAG-1_1A_1_SI-GA-E2\n",
       "ENSG00000238009 0                               \n",
       "ENSG00000237683 0                               \n",
       "ENSG00000228463 0                               \n",
       "ENSG00000237094 0                               \n",
       "ENSG00000235373 0                               \n",
       "ENSG00000228327 0                               \n",
       "                AAACCTGCAAACAACA-1_1A_1_SI-GA-E2\n",
       "ENSG00000238009 0                               \n",
       "ENSG00000237683 0                               \n",
       "ENSG00000228463 1                               \n",
       "ENSG00000237094 0                               \n",
       "ENSG00000235373 1                               \n",
       "ENSG00000228327 0                               \n",
       "                AAACCTGCACTTCTGC-1_1A_1_SI-GA-E2\n",
       "ENSG00000238009 0                               \n",
       "ENSG00000237683 0                               \n",
       "ENSG00000228463 1                               \n",
       "ENSG00000237094 1                               \n",
       "ENSG00000235373 0                               \n",
       "ENSG00000228327 0                               \n",
       "                AAACCTGCATGTAGTC-1_1A_1_SI-GA-E2\n",
       "ENSG00000238009 0                               \n",
       "ENSG00000237683 0                               \n",
       "ENSG00000228463 1                               \n",
       "ENSG00000237094 0                               \n",
       "ENSG00000235373 0                               \n",
       "ENSG00000228327 0                               \n",
       "                AAACCTGGTAGCGCAA-1_1A_1_SI-GA-E2\n",
       "ENSG00000238009 0                               \n",
       "ENSG00000237683 0                               \n",
       "ENSG00000228463 0                               \n",
       "ENSG00000237094 0                               \n",
       "ENSG00000235373 0                               \n",
       "ENSG00000228327 0                               \n",
       "                AAACCTGGTAGGGACT-1_1A_1_SI-GA-E2\n",
       "ENSG00000238009 0                               \n",
       "ENSG00000237683 0                               \n",
       "ENSG00000228463 0                               \n",
       "ENSG00000237094 0                               \n",
       "ENSG00000235373 0                               \n",
       "ENSG00000228327 0                               \n",
       "                AAACCTGGTATATGAG-1_1A_1_SI-GA-E2\n",
       "ENSG00000238009 0                               \n",
       "ENSG00000237683 0                               \n",
       "ENSG00000228463 0                               \n",
       "ENSG00000237094 0                               \n",
       "ENSG00000235373 1                               \n",
       "ENSG00000228327 0                               \n",
       "                AAACCTGGTCAAAGCG-1_1A_1_SI-GA-E2\n",
       "ENSG00000238009 0                               \n",
       "ENSG00000237683 0                               \n",
       "ENSG00000228463 0                               \n",
       "ENSG00000237094 0                               \n",
       "ENSG00000235373 0                               \n",
       "ENSG00000228327 0                               \n",
       "                AAACCTGGTCTTCAAG-1_1A_1_SI-GA-E2 ⋯\n",
       "ENSG00000238009 0                                ⋯\n",
       "ENSG00000237683 0                                ⋯\n",
       "ENSG00000228463 1                                ⋯\n",
       "ENSG00000237094 0                                ⋯\n",
       "ENSG00000235373 0                                ⋯\n",
       "ENSG00000228327 0                                ⋯\n",
       "                TTTGTCACAACGATGG-1_2B_8_SI-GA-H9\n",
       "ENSG00000238009 0                               \n",
       "ENSG00000237683 0                               \n",
       "ENSG00000228463 0                               \n",
       "ENSG00000237094 0                               \n",
       "ENSG00000235373 0                               \n",
       "ENSG00000228327 0                               \n",
       "                TTTGTCACACTTCTGC-1_2B_8_SI-GA-H9\n",
       "ENSG00000238009 0                               \n",
       "ENSG00000237683 0                               \n",
       "ENSG00000228463 0                               \n",
       "ENSG00000237094 0                               \n",
       "ENSG00000235373 0                               \n",
       "ENSG00000228327 0                               \n",
       "                TTTGTCACAGATAATG-1_2B_8_SI-GA-H9\n",
       "ENSG00000238009 0                               \n",
       "ENSG00000237683 0                               \n",
       "ENSG00000228463 0                               \n",
       "ENSG00000237094 0                               \n",
       "ENSG00000235373 0                               \n",
       "ENSG00000228327 0                               \n",
       "                TTTGTCACAGCCAGAA-1_2B_8_SI-GA-H9\n",
       "ENSG00000238009 0                               \n",
       "ENSG00000237683 1                               \n",
       "ENSG00000228463 0                               \n",
       "ENSG00000237094 0                               \n",
       "ENSG00000235373 0                               \n",
       "ENSG00000228327 0                               \n",
       "                TTTGTCACATTAGGCT-1_2B_8_SI-GA-H9\n",
       "ENSG00000238009 0                               \n",
       "ENSG00000237683 0                               \n",
       "ENSG00000228463 1                               \n",
       "ENSG00000237094 0                               \n",
       "ENSG00000235373 0                               \n",
       "ENSG00000228327 0                               \n",
       "                TTTGTCAGTACCTACA-1_2B_8_SI-GA-H9\n",
       "ENSG00000238009 0                               \n",
       "ENSG00000237683 0                               \n",
       "ENSG00000228463 0                               \n",
       "ENSG00000237094 0                               \n",
       "ENSG00000235373 0                               \n",
       "ENSG00000228327 0                               \n",
       "                TTTGTCAGTATCACCA-1_2B_8_SI-GA-H9\n",
       "ENSG00000238009 0                               \n",
       "ENSG00000237683 0                               \n",
       "ENSG00000228463 0                               \n",
       "ENSG00000237094 0                               \n",
       "ENSG00000235373 0                               \n",
       "ENSG00000228327 0                               \n",
       "                TTTGTCAGTTCAGACT-1_2B_8_SI-GA-H9\n",
       "ENSG00000238009 0                               \n",
       "ENSG00000237683 1                               \n",
       "ENSG00000228463 2                               \n",
       "ENSG00000237094 0                               \n",
       "ENSG00000235373 0                               \n",
       "ENSG00000228327 0                               \n",
       "                TTTGTCAGTTCTGTTT-1_2B_8_SI-GA-H9\n",
       "ENSG00000238009 0                               \n",
       "ENSG00000237683 0                               \n",
       "ENSG00000228463 0                               \n",
       "ENSG00000237094 0                               \n",
       "ENSG00000235373 0                               \n",
       "ENSG00000228327 0                               \n",
       "                TTTGTCATCAAAGTAG-1_2B_8_SI-GA-H9\n",
       "ENSG00000238009 0                               \n",
       "ENSG00000237683 0                               \n",
       "ENSG00000228463 2                               \n",
       "ENSG00000237094 0                               \n",
       "ENSG00000235373 0                               \n",
       "ENSG00000228327 0                               "
      ]
     },
     "metadata": {},
     "output_type": "display_data"
    }
   ],
   "source": [
    "# read in row names and add to expression matrix\n",
    "genes <- read.delim('/iblm/netapp/data1/external/Gasperini2019/suppl/GSE120861_at_scale_screen.genes.txt', header = FALSE)\n",
    "genes <- genes$V1\n",
    "rownames(expression.matrix) <- genes\n",
    "head(expression.matrix)"
   ]
  },
  {
   "cell_type": "code",
   "execution_count": 27,
   "id": "a3597554",
   "metadata": {
    "vscode": {
     "languageId": "r"
    }
   },
   "outputs": [
    {
     "name": "stdout",
     "output_type": "stream",
     "text": [
      "[1] 13135\n"
     ]
    }
   ],
   "source": [
    "print(length(genes))"
   ]
  },
  {
   "cell_type": "code",
   "execution_count": 79,
   "id": "7b9cccfc",
   "metadata": {
    "vscode": {
     "languageId": "r"
    }
   },
   "outputs": [
    {
     "data": {
      "text/html": [
       "'ENSG00000131747'"
      ],
      "text/latex": [
       "'ENSG00000131747'"
      ],
      "text/markdown": [
       "'ENSG00000131747'"
      ],
      "text/plain": [
       "[1] \"ENSG00000131747\""
      ]
     },
     "metadata": {},
     "output_type": "display_data"
    }
   ],
   "source": [
    "genes[10680]"
   ]
  },
  {
   "cell_type": "code",
   "execution_count": 96,
   "id": "ec597c3b",
   "metadata": {
    "vscode": {
     "languageId": "r"
    }
   },
   "outputs": [],
   "source": [
    "# code snippet adapted from: https://stackoverflow.com/questions/28543517/how-can-i-convert-ensembl-id-to-gene-symbol-in-r\n",
    "mart <- useDataset(\"hsapiens_gene_ensembl\", useMart(\"ensembl\"))\n",
    "gene.symbols <- getBM(\n",
    "    filters = \"ensembl_gene_id\",\n",
    "    attributes = c(\"ensembl_gene_id\", \"hgnc_symbol\"),\n",
    "    values = genes,\n",
    "    mart = mart,\n",
    ")"
   ]
  },
  {
   "cell_type": "code",
   "execution_count": 98,
   "id": "5020989d",
   "metadata": {
    "vscode": {
     "languageId": "r"
    }
   },
   "outputs": [],
   "source": [
    "gene.symbols <- merge(data.frame(genes), gene.symbols, all.x = TRUE, by.x = 'genes', by.y = 'ensembl_gene_id', sort = FALSE)"
   ]
  },
  {
   "cell_type": "code",
   "execution_count": 100,
   "id": "deac9089",
   "metadata": {
    "vscode": {
     "languageId": "r"
    }
   },
   "outputs": [
    {
     "data": {
      "text/html": [
       "<table class=\"dataframe\">\n",
       "<caption>A data.frame: 1 × 2</caption>\n",
       "<thead>\n",
       "\t<tr><th></th><th scope=col>genes</th><th scope=col>hgnc_symbol</th></tr>\n",
       "\t<tr><th></th><th scope=col>&lt;chr&gt;</th><th scope=col>&lt;chr&gt;</th></tr>\n",
       "</thead>\n",
       "<tbody>\n",
       "\t<tr><th scope=row>10680</th><td>ENSG00000131747</td><td>TOP2A</td></tr>\n",
       "</tbody>\n",
       "</table>\n"
      ],
      "text/latex": [
       "A data.frame: 1 × 2\n",
       "\\begin{tabular}{r|ll}\n",
       "  & genes & hgnc\\_symbol\\\\\n",
       "  & <chr> & <chr>\\\\\n",
       "\\hline\n",
       "\t10680 & ENSG00000131747 & TOP2A\\\\\n",
       "\\end{tabular}\n"
      ],
      "text/markdown": [
       "\n",
       "A data.frame: 1 × 2\n",
       "\n",
       "| <!--/--> | genes &lt;chr&gt; | hgnc_symbol &lt;chr&gt; |\n",
       "|---|---|---|\n",
       "| 10680 | ENSG00000131747 | TOP2A |\n",
       "\n"
      ],
      "text/plain": [
       "      genes           hgnc_symbol\n",
       "10680 ENSG00000131747 TOP2A      "
      ]
     },
     "metadata": {},
     "output_type": "display_data"
    }
   ],
   "source": [
    "gene.symbols <- merge(data.frame(genes), gene.symbols, by = 'genes', sort = FALSE)\n",
    "gene.symbols[10680, ]"
   ]
  },
  {
   "cell_type": "code",
   "execution_count": 102,
   "id": "f85d21f2",
   "metadata": {
    "vscode": {
     "languageId": "r"
    }
   },
   "outputs": [
    {
     "data": {
      "text/html": [
       "0"
      ],
      "text/latex": [
       "0"
      ],
      "text/markdown": [
       "0"
      ],
      "text/plain": [
       "[1] 0"
      ]
     },
     "metadata": {},
     "output_type": "display_data"
    }
   ],
   "source": [
    "gene.symbols[is.na(gene.symbols)] <- ''\n",
    "sum(is.na(gene.symbols$hgnc_symbol))"
   ]
  },
  {
   "cell_type": "code",
   "execution_count": 103,
   "id": "996862de",
   "metadata": {
    "vscode": {
     "languageId": "r"
    }
   },
   "outputs": [
    {
     "name": "stdout",
     "output_type": "stream",
     "text": [
      "[1] 13135\n"
     ]
    }
   ],
   "source": [
    "print(nrow(gene.symbols))"
   ]
  },
  {
   "cell_type": "code",
   "execution_count": 104,
   "id": "864aa5d7",
   "metadata": {
    "vscode": {
     "languageId": "r"
    }
   },
   "outputs": [
    {
     "name": "stdout",
     "output_type": "stream",
     "text": [
      "            genes hgnc_symbol\n",
      "1 ENSG00000238009            \n",
      "2 ENSG00000237683            \n",
      "3 ENSG00000228463            \n",
      "4 ENSG00000237094            \n",
      "5 ENSG00000235373            \n",
      "6 ENSG00000228327            \n"
     ]
    }
   ],
   "source": [
    "print(head(gene.symbols))"
   ]
  },
  {
   "cell_type": "code",
   "execution_count": 105,
   "id": "5d26e105",
   "metadata": {
    "vscode": {
     "languageId": "r"
    }
   },
   "outputs": [
    {
     "data": {
      "text/html": [
       "<table class=\"dataframe\">\n",
       "<caption>A data.frame: 20 × 2</caption>\n",
       "<thead>\n",
       "\t<tr><th></th><th scope=col>genes</th><th scope=col>hgnc_symbol</th></tr>\n",
       "\t<tr><th></th><th scope=col>&lt;chr&gt;</th><th scope=col>&lt;chr&gt;</th></tr>\n",
       "</thead>\n",
       "<tbody>\n",
       "\t<tr><th scope=row>1</th><td>ENSG00000238009</td><td>ENSG00000238009</td></tr>\n",
       "\t<tr><th scope=row>2</th><td>ENSG00000237683</td><td>ENSG00000237683</td></tr>\n",
       "\t<tr><th scope=row>3</th><td>ENSG00000228463</td><td>ENSG00000228463</td></tr>\n",
       "\t<tr><th scope=row>4</th><td>ENSG00000237094</td><td>ENSG00000237094</td></tr>\n",
       "\t<tr><th scope=row>5</th><td>ENSG00000235373</td><td>ENSG00000235373</td></tr>\n",
       "\t<tr><th scope=row>6</th><td>ENSG00000228327</td><td>ENSG00000228327</td></tr>\n",
       "\t<tr><th scope=row>7</th><td>ENSG00000237491</td><td>LINC01409      </td></tr>\n",
       "\t<tr><th scope=row>8</th><td>ENSG00000225880</td><td>LINC00115      </td></tr>\n",
       "\t<tr><th scope=row>9</th><td>ENSG00000230368</td><td>FAM41C         </td></tr>\n",
       "\t<tr><th scope=row>10</th><td>ENSG00000188976</td><td>NOC2L          </td></tr>\n",
       "\t<tr><th scope=row>11</th><td>ENSG00000187961</td><td>KLHL17         </td></tr>\n",
       "\t<tr><th scope=row>12</th><td>ENSG00000187583</td><td>PLEKHN1        </td></tr>\n",
       "\t<tr><th scope=row>13</th><td>ENSG00000188290</td><td>HES4           </td></tr>\n",
       "\t<tr><th scope=row>14</th><td>ENSG00000187608</td><td>ISG15          </td></tr>\n",
       "\t<tr><th scope=row>15</th><td>ENSG00000188157</td><td>AGRN           </td></tr>\n",
       "\t<tr><th scope=row>16</th><td>ENSG00000131591</td><td>C1orf159       </td></tr>\n",
       "\t<tr><th scope=row>17</th><td>ENSG00000078808</td><td>SDF4           </td></tr>\n",
       "\t<tr><th scope=row>18</th><td>ENSG00000176022</td><td>B3GALT6        </td></tr>\n",
       "\t<tr><th scope=row>19</th><td>ENSG00000184163</td><td>C1QTNF12       </td></tr>\n",
       "\t<tr><th scope=row>20</th><td>ENSG00000160087</td><td>UBE2J2         </td></tr>\n",
       "</tbody>\n",
       "</table>\n"
      ],
      "text/latex": [
       "A data.frame: 20 × 2\n",
       "\\begin{tabular}{r|ll}\n",
       "  & genes & hgnc\\_symbol\\\\\n",
       "  & <chr> & <chr>\\\\\n",
       "\\hline\n",
       "\t1 & ENSG00000238009 & ENSG00000238009\\\\\n",
       "\t2 & ENSG00000237683 & ENSG00000237683\\\\\n",
       "\t3 & ENSG00000228463 & ENSG00000228463\\\\\n",
       "\t4 & ENSG00000237094 & ENSG00000237094\\\\\n",
       "\t5 & ENSG00000235373 & ENSG00000235373\\\\\n",
       "\t6 & ENSG00000228327 & ENSG00000228327\\\\\n",
       "\t7 & ENSG00000237491 & LINC01409      \\\\\n",
       "\t8 & ENSG00000225880 & LINC00115      \\\\\n",
       "\t9 & ENSG00000230368 & FAM41C         \\\\\n",
       "\t10 & ENSG00000188976 & NOC2L          \\\\\n",
       "\t11 & ENSG00000187961 & KLHL17         \\\\\n",
       "\t12 & ENSG00000187583 & PLEKHN1        \\\\\n",
       "\t13 & ENSG00000188290 & HES4           \\\\\n",
       "\t14 & ENSG00000187608 & ISG15          \\\\\n",
       "\t15 & ENSG00000188157 & AGRN           \\\\\n",
       "\t16 & ENSG00000131591 & C1orf159       \\\\\n",
       "\t17 & ENSG00000078808 & SDF4           \\\\\n",
       "\t18 & ENSG00000176022 & B3GALT6        \\\\\n",
       "\t19 & ENSG00000184163 & C1QTNF12       \\\\\n",
       "\t20 & ENSG00000160087 & UBE2J2         \\\\\n",
       "\\end{tabular}\n"
      ],
      "text/markdown": [
       "\n",
       "A data.frame: 20 × 2\n",
       "\n",
       "| <!--/--> | genes &lt;chr&gt; | hgnc_symbol &lt;chr&gt; |\n",
       "|---|---|---|\n",
       "| 1 | ENSG00000238009 | ENSG00000238009 |\n",
       "| 2 | ENSG00000237683 | ENSG00000237683 |\n",
       "| 3 | ENSG00000228463 | ENSG00000228463 |\n",
       "| 4 | ENSG00000237094 | ENSG00000237094 |\n",
       "| 5 | ENSG00000235373 | ENSG00000235373 |\n",
       "| 6 | ENSG00000228327 | ENSG00000228327 |\n",
       "| 7 | ENSG00000237491 | LINC01409       |\n",
       "| 8 | ENSG00000225880 | LINC00115       |\n",
       "| 9 | ENSG00000230368 | FAM41C          |\n",
       "| 10 | ENSG00000188976 | NOC2L           |\n",
       "| 11 | ENSG00000187961 | KLHL17          |\n",
       "| 12 | ENSG00000187583 | PLEKHN1         |\n",
       "| 13 | ENSG00000188290 | HES4            |\n",
       "| 14 | ENSG00000187608 | ISG15           |\n",
       "| 15 | ENSG00000188157 | AGRN            |\n",
       "| 16 | ENSG00000131591 | C1orf159        |\n",
       "| 17 | ENSG00000078808 | SDF4            |\n",
       "| 18 | ENSG00000176022 | B3GALT6         |\n",
       "| 19 | ENSG00000184163 | C1QTNF12        |\n",
       "| 20 | ENSG00000160087 | UBE2J2          |\n",
       "\n"
      ],
      "text/plain": [
       "   genes           hgnc_symbol    \n",
       "1  ENSG00000238009 ENSG00000238009\n",
       "2  ENSG00000237683 ENSG00000237683\n",
       "3  ENSG00000228463 ENSG00000228463\n",
       "4  ENSG00000237094 ENSG00000237094\n",
       "5  ENSG00000235373 ENSG00000235373\n",
       "6  ENSG00000228327 ENSG00000228327\n",
       "7  ENSG00000237491 LINC01409      \n",
       "8  ENSG00000225880 LINC00115      \n",
       "9  ENSG00000230368 FAM41C         \n",
       "10 ENSG00000188976 NOC2L          \n",
       "11 ENSG00000187961 KLHL17         \n",
       "12 ENSG00000187583 PLEKHN1        \n",
       "13 ENSG00000188290 HES4           \n",
       "14 ENSG00000187608 ISG15          \n",
       "15 ENSG00000188157 AGRN           \n",
       "16 ENSG00000131591 C1orf159       \n",
       "17 ENSG00000078808 SDF4           \n",
       "18 ENSG00000176022 B3GALT6        \n",
       "19 ENSG00000184163 C1QTNF12       \n",
       "20 ENSG00000160087 UBE2J2         "
      ]
     },
     "metadata": {},
     "output_type": "display_data"
    }
   ],
   "source": [
    "for (i in 1:nrow(gene.symbols)) {\n",
    "    if (gene.symbols[i, 'hgnc_symbol'] == '') {\n",
    "        gene.symbols[i, 'hgnc_symbol'] <- gene.symbols[i, 'genes']\n",
    "    }\n",
    "}\n",
    "head(gene.symbols, 20)"
   ]
  },
  {
   "cell_type": "code",
   "execution_count": 106,
   "id": "15745a25",
   "metadata": {
    "vscode": {
     "languageId": "r"
    }
   },
   "outputs": [],
   "source": [
    "rownames(expression.matrix) <- gene.symbols[, 'hgnc_symbol']"
   ]
  },
  {
   "cell_type": "code",
   "execution_count": 107,
   "id": "083a8bc4",
   "metadata": {
    "vscode": {
     "languageId": "r"
    }
   },
   "outputs": [
    {
     "data": {
      "text/html": [
       "<table class=\"dataframe\">\n",
       "<caption>A data.frame: 6 × 207324</caption>\n",
       "<thead>\n",
       "\t<tr><th></th><th scope=col>AAACCTGAGAGGTACC-1_1A_1_SI-GA-E2</th><th scope=col>AAACCTGAGTCAATAG-1_1A_1_SI-GA-E2</th><th scope=col>AAACCTGCAAACAACA-1_1A_1_SI-GA-E2</th><th scope=col>AAACCTGCACTTCTGC-1_1A_1_SI-GA-E2</th><th scope=col>AAACCTGCATGTAGTC-1_1A_1_SI-GA-E2</th><th scope=col>AAACCTGGTAGCGCAA-1_1A_1_SI-GA-E2</th><th scope=col>AAACCTGGTAGGGACT-1_1A_1_SI-GA-E2</th><th scope=col>AAACCTGGTATATGAG-1_1A_1_SI-GA-E2</th><th scope=col>AAACCTGGTCAAAGCG-1_1A_1_SI-GA-E2</th><th scope=col>AAACCTGGTCTTCAAG-1_1A_1_SI-GA-E2</th><th scope=col>⋯</th><th scope=col>TTTGTCACAACGATGG-1_2B_8_SI-GA-H9</th><th scope=col>TTTGTCACACTTCTGC-1_2B_8_SI-GA-H9</th><th scope=col>TTTGTCACAGATAATG-1_2B_8_SI-GA-H9</th><th scope=col>TTTGTCACAGCCAGAA-1_2B_8_SI-GA-H9</th><th scope=col>TTTGTCACATTAGGCT-1_2B_8_SI-GA-H9</th><th scope=col>TTTGTCAGTACCTACA-1_2B_8_SI-GA-H9</th><th scope=col>TTTGTCAGTATCACCA-1_2B_8_SI-GA-H9</th><th scope=col>TTTGTCAGTTCAGACT-1_2B_8_SI-GA-H9</th><th scope=col>TTTGTCAGTTCTGTTT-1_2B_8_SI-GA-H9</th><th scope=col>TTTGTCATCAAAGTAG-1_2B_8_SI-GA-H9</th></tr>\n",
       "\t<tr><th></th><th scope=col>&lt;dbl&gt;</th><th scope=col>&lt;dbl&gt;</th><th scope=col>&lt;dbl&gt;</th><th scope=col>&lt;dbl&gt;</th><th scope=col>&lt;dbl&gt;</th><th scope=col>&lt;dbl&gt;</th><th scope=col>&lt;dbl&gt;</th><th scope=col>&lt;dbl&gt;</th><th scope=col>&lt;dbl&gt;</th><th scope=col>&lt;dbl&gt;</th><th scope=col>⋯</th><th scope=col>&lt;dbl&gt;</th><th scope=col>&lt;dbl&gt;</th><th scope=col>&lt;dbl&gt;</th><th scope=col>&lt;dbl&gt;</th><th scope=col>&lt;dbl&gt;</th><th scope=col>&lt;dbl&gt;</th><th scope=col>&lt;dbl&gt;</th><th scope=col>&lt;dbl&gt;</th><th scope=col>&lt;dbl&gt;</th><th scope=col>&lt;dbl&gt;</th></tr>\n",
       "</thead>\n",
       "<tbody>\n",
       "\t<tr><th scope=row>ENSG00000238009</th><td>0</td><td>0</td><td>0</td><td>0</td><td>0</td><td>0</td><td>0</td><td>0</td><td>0</td><td>0</td><td>⋯</td><td>0</td><td>0</td><td>0</td><td>0</td><td>0</td><td>0</td><td>0</td><td>0</td><td>0</td><td>0</td></tr>\n",
       "\t<tr><th scope=row>ENSG00000237683</th><td>1</td><td>0</td><td>0</td><td>0</td><td>0</td><td>0</td><td>0</td><td>0</td><td>0</td><td>0</td><td>⋯</td><td>0</td><td>0</td><td>0</td><td>1</td><td>0</td><td>0</td><td>0</td><td>1</td><td>0</td><td>0</td></tr>\n",
       "\t<tr><th scope=row>ENSG00000228463</th><td>1</td><td>0</td><td>1</td><td>1</td><td>1</td><td>0</td><td>0</td><td>0</td><td>0</td><td>1</td><td>⋯</td><td>0</td><td>0</td><td>0</td><td>0</td><td>1</td><td>0</td><td>0</td><td>2</td><td>0</td><td>2</td></tr>\n",
       "\t<tr><th scope=row>ENSG00000237094</th><td>0</td><td>0</td><td>0</td><td>1</td><td>0</td><td>0</td><td>0</td><td>0</td><td>0</td><td>0</td><td>⋯</td><td>0</td><td>0</td><td>0</td><td>0</td><td>0</td><td>0</td><td>0</td><td>0</td><td>0</td><td>0</td></tr>\n",
       "\t<tr><th scope=row>ENSG00000235373</th><td>0</td><td>0</td><td>1</td><td>0</td><td>0</td><td>0</td><td>0</td><td>1</td><td>0</td><td>0</td><td>⋯</td><td>0</td><td>0</td><td>0</td><td>0</td><td>0</td><td>0</td><td>0</td><td>0</td><td>0</td><td>0</td></tr>\n",
       "\t<tr><th scope=row>ENSG00000228327</th><td>0</td><td>0</td><td>0</td><td>0</td><td>0</td><td>0</td><td>0</td><td>0</td><td>0</td><td>0</td><td>⋯</td><td>0</td><td>0</td><td>0</td><td>0</td><td>0</td><td>0</td><td>0</td><td>0</td><td>0</td><td>0</td></tr>\n",
       "</tbody>\n",
       "</table>\n"
      ],
      "text/latex": [
       "A data.frame: 6 × 207324\n",
       "\\begin{tabular}{r|lllllllllllllllllllll}\n",
       "  & AAACCTGAGAGGTACC-1\\_1A\\_1\\_SI-GA-E2 & AAACCTGAGTCAATAG-1\\_1A\\_1\\_SI-GA-E2 & AAACCTGCAAACAACA-1\\_1A\\_1\\_SI-GA-E2 & AAACCTGCACTTCTGC-1\\_1A\\_1\\_SI-GA-E2 & AAACCTGCATGTAGTC-1\\_1A\\_1\\_SI-GA-E2 & AAACCTGGTAGCGCAA-1\\_1A\\_1\\_SI-GA-E2 & AAACCTGGTAGGGACT-1\\_1A\\_1\\_SI-GA-E2 & AAACCTGGTATATGAG-1\\_1A\\_1\\_SI-GA-E2 & AAACCTGGTCAAAGCG-1\\_1A\\_1\\_SI-GA-E2 & AAACCTGGTCTTCAAG-1\\_1A\\_1\\_SI-GA-E2 & ⋯ & TTTGTCACAACGATGG-1\\_2B\\_8\\_SI-GA-H9 & TTTGTCACACTTCTGC-1\\_2B\\_8\\_SI-GA-H9 & TTTGTCACAGATAATG-1\\_2B\\_8\\_SI-GA-H9 & TTTGTCACAGCCAGAA-1\\_2B\\_8\\_SI-GA-H9 & TTTGTCACATTAGGCT-1\\_2B\\_8\\_SI-GA-H9 & TTTGTCAGTACCTACA-1\\_2B\\_8\\_SI-GA-H9 & TTTGTCAGTATCACCA-1\\_2B\\_8\\_SI-GA-H9 & TTTGTCAGTTCAGACT-1\\_2B\\_8\\_SI-GA-H9 & TTTGTCAGTTCTGTTT-1\\_2B\\_8\\_SI-GA-H9 & TTTGTCATCAAAGTAG-1\\_2B\\_8\\_SI-GA-H9\\\\\n",
       "  & <dbl> & <dbl> & <dbl> & <dbl> & <dbl> & <dbl> & <dbl> & <dbl> & <dbl> & <dbl> & ⋯ & <dbl> & <dbl> & <dbl> & <dbl> & <dbl> & <dbl> & <dbl> & <dbl> & <dbl> & <dbl>\\\\\n",
       "\\hline\n",
       "\tENSG00000238009 & 0 & 0 & 0 & 0 & 0 & 0 & 0 & 0 & 0 & 0 & ⋯ & 0 & 0 & 0 & 0 & 0 & 0 & 0 & 0 & 0 & 0\\\\\n",
       "\tENSG00000237683 & 1 & 0 & 0 & 0 & 0 & 0 & 0 & 0 & 0 & 0 & ⋯ & 0 & 0 & 0 & 1 & 0 & 0 & 0 & 1 & 0 & 0\\\\\n",
       "\tENSG00000228463 & 1 & 0 & 1 & 1 & 1 & 0 & 0 & 0 & 0 & 1 & ⋯ & 0 & 0 & 0 & 0 & 1 & 0 & 0 & 2 & 0 & 2\\\\\n",
       "\tENSG00000237094 & 0 & 0 & 0 & 1 & 0 & 0 & 0 & 0 & 0 & 0 & ⋯ & 0 & 0 & 0 & 0 & 0 & 0 & 0 & 0 & 0 & 0\\\\\n",
       "\tENSG00000235373 & 0 & 0 & 1 & 0 & 0 & 0 & 0 & 1 & 0 & 0 & ⋯ & 0 & 0 & 0 & 0 & 0 & 0 & 0 & 0 & 0 & 0\\\\\n",
       "\tENSG00000228327 & 0 & 0 & 0 & 0 & 0 & 0 & 0 & 0 & 0 & 0 & ⋯ & 0 & 0 & 0 & 0 & 0 & 0 & 0 & 0 & 0 & 0\\\\\n",
       "\\end{tabular}\n"
      ],
      "text/markdown": [
       "\n",
       "A data.frame: 6 × 207324\n",
       "\n",
       "| <!--/--> | AAACCTGAGAGGTACC-1_1A_1_SI-GA-E2 &lt;dbl&gt; | AAACCTGAGTCAATAG-1_1A_1_SI-GA-E2 &lt;dbl&gt; | AAACCTGCAAACAACA-1_1A_1_SI-GA-E2 &lt;dbl&gt; | AAACCTGCACTTCTGC-1_1A_1_SI-GA-E2 &lt;dbl&gt; | AAACCTGCATGTAGTC-1_1A_1_SI-GA-E2 &lt;dbl&gt; | AAACCTGGTAGCGCAA-1_1A_1_SI-GA-E2 &lt;dbl&gt; | AAACCTGGTAGGGACT-1_1A_1_SI-GA-E2 &lt;dbl&gt; | AAACCTGGTATATGAG-1_1A_1_SI-GA-E2 &lt;dbl&gt; | AAACCTGGTCAAAGCG-1_1A_1_SI-GA-E2 &lt;dbl&gt; | AAACCTGGTCTTCAAG-1_1A_1_SI-GA-E2 &lt;dbl&gt; | ⋯ ⋯ | TTTGTCACAACGATGG-1_2B_8_SI-GA-H9 &lt;dbl&gt; | TTTGTCACACTTCTGC-1_2B_8_SI-GA-H9 &lt;dbl&gt; | TTTGTCACAGATAATG-1_2B_8_SI-GA-H9 &lt;dbl&gt; | TTTGTCACAGCCAGAA-1_2B_8_SI-GA-H9 &lt;dbl&gt; | TTTGTCACATTAGGCT-1_2B_8_SI-GA-H9 &lt;dbl&gt; | TTTGTCAGTACCTACA-1_2B_8_SI-GA-H9 &lt;dbl&gt; | TTTGTCAGTATCACCA-1_2B_8_SI-GA-H9 &lt;dbl&gt; | TTTGTCAGTTCAGACT-1_2B_8_SI-GA-H9 &lt;dbl&gt; | TTTGTCAGTTCTGTTT-1_2B_8_SI-GA-H9 &lt;dbl&gt; | TTTGTCATCAAAGTAG-1_2B_8_SI-GA-H9 &lt;dbl&gt; |\n",
       "|---|---|---|---|---|---|---|---|---|---|---|---|---|---|---|---|---|---|---|---|---|---|\n",
       "| ENSG00000238009 | 0 | 0 | 0 | 0 | 0 | 0 | 0 | 0 | 0 | 0 | ⋯ | 0 | 0 | 0 | 0 | 0 | 0 | 0 | 0 | 0 | 0 |\n",
       "| ENSG00000237683 | 1 | 0 | 0 | 0 | 0 | 0 | 0 | 0 | 0 | 0 | ⋯ | 0 | 0 | 0 | 1 | 0 | 0 | 0 | 1 | 0 | 0 |\n",
       "| ENSG00000228463 | 1 | 0 | 1 | 1 | 1 | 0 | 0 | 0 | 0 | 1 | ⋯ | 0 | 0 | 0 | 0 | 1 | 0 | 0 | 2 | 0 | 2 |\n",
       "| ENSG00000237094 | 0 | 0 | 0 | 1 | 0 | 0 | 0 | 0 | 0 | 0 | ⋯ | 0 | 0 | 0 | 0 | 0 | 0 | 0 | 0 | 0 | 0 |\n",
       "| ENSG00000235373 | 0 | 0 | 1 | 0 | 0 | 0 | 0 | 1 | 0 | 0 | ⋯ | 0 | 0 | 0 | 0 | 0 | 0 | 0 | 0 | 0 | 0 |\n",
       "| ENSG00000228327 | 0 | 0 | 0 | 0 | 0 | 0 | 0 | 0 | 0 | 0 | ⋯ | 0 | 0 | 0 | 0 | 0 | 0 | 0 | 0 | 0 | 0 |\n",
       "\n"
      ],
      "text/plain": [
       "                AAACCTGAGAGGTACC-1_1A_1_SI-GA-E2\n",
       "ENSG00000238009 0                               \n",
       "ENSG00000237683 1                               \n",
       "ENSG00000228463 1                               \n",
       "ENSG00000237094 0                               \n",
       "ENSG00000235373 0                               \n",
       "ENSG00000228327 0                               \n",
       "                AAACCTGAGTCAATAG-1_1A_1_SI-GA-E2\n",
       "ENSG00000238009 0                               \n",
       "ENSG00000237683 0                               \n",
       "ENSG00000228463 0                               \n",
       "ENSG00000237094 0                               \n",
       "ENSG00000235373 0                               \n",
       "ENSG00000228327 0                               \n",
       "                AAACCTGCAAACAACA-1_1A_1_SI-GA-E2\n",
       "ENSG00000238009 0                               \n",
       "ENSG00000237683 0                               \n",
       "ENSG00000228463 1                               \n",
       "ENSG00000237094 0                               \n",
       "ENSG00000235373 1                               \n",
       "ENSG00000228327 0                               \n",
       "                AAACCTGCACTTCTGC-1_1A_1_SI-GA-E2\n",
       "ENSG00000238009 0                               \n",
       "ENSG00000237683 0                               \n",
       "ENSG00000228463 1                               \n",
       "ENSG00000237094 1                               \n",
       "ENSG00000235373 0                               \n",
       "ENSG00000228327 0                               \n",
       "                AAACCTGCATGTAGTC-1_1A_1_SI-GA-E2\n",
       "ENSG00000238009 0                               \n",
       "ENSG00000237683 0                               \n",
       "ENSG00000228463 1                               \n",
       "ENSG00000237094 0                               \n",
       "ENSG00000235373 0                               \n",
       "ENSG00000228327 0                               \n",
       "                AAACCTGGTAGCGCAA-1_1A_1_SI-GA-E2\n",
       "ENSG00000238009 0                               \n",
       "ENSG00000237683 0                               \n",
       "ENSG00000228463 0                               \n",
       "ENSG00000237094 0                               \n",
       "ENSG00000235373 0                               \n",
       "ENSG00000228327 0                               \n",
       "                AAACCTGGTAGGGACT-1_1A_1_SI-GA-E2\n",
       "ENSG00000238009 0                               \n",
       "ENSG00000237683 0                               \n",
       "ENSG00000228463 0                               \n",
       "ENSG00000237094 0                               \n",
       "ENSG00000235373 0                               \n",
       "ENSG00000228327 0                               \n",
       "                AAACCTGGTATATGAG-1_1A_1_SI-GA-E2\n",
       "ENSG00000238009 0                               \n",
       "ENSG00000237683 0                               \n",
       "ENSG00000228463 0                               \n",
       "ENSG00000237094 0                               \n",
       "ENSG00000235373 1                               \n",
       "ENSG00000228327 0                               \n",
       "                AAACCTGGTCAAAGCG-1_1A_1_SI-GA-E2\n",
       "ENSG00000238009 0                               \n",
       "ENSG00000237683 0                               \n",
       "ENSG00000228463 0                               \n",
       "ENSG00000237094 0                               \n",
       "ENSG00000235373 0                               \n",
       "ENSG00000228327 0                               \n",
       "                AAACCTGGTCTTCAAG-1_1A_1_SI-GA-E2 ⋯\n",
       "ENSG00000238009 0                                ⋯\n",
       "ENSG00000237683 0                                ⋯\n",
       "ENSG00000228463 1                                ⋯\n",
       "ENSG00000237094 0                                ⋯\n",
       "ENSG00000235373 0                                ⋯\n",
       "ENSG00000228327 0                                ⋯\n",
       "                TTTGTCACAACGATGG-1_2B_8_SI-GA-H9\n",
       "ENSG00000238009 0                               \n",
       "ENSG00000237683 0                               \n",
       "ENSG00000228463 0                               \n",
       "ENSG00000237094 0                               \n",
       "ENSG00000235373 0                               \n",
       "ENSG00000228327 0                               \n",
       "                TTTGTCACACTTCTGC-1_2B_8_SI-GA-H9\n",
       "ENSG00000238009 0                               \n",
       "ENSG00000237683 0                               \n",
       "ENSG00000228463 0                               \n",
       "ENSG00000237094 0                               \n",
       "ENSG00000235373 0                               \n",
       "ENSG00000228327 0                               \n",
       "                TTTGTCACAGATAATG-1_2B_8_SI-GA-H9\n",
       "ENSG00000238009 0                               \n",
       "ENSG00000237683 0                               \n",
       "ENSG00000228463 0                               \n",
       "ENSG00000237094 0                               \n",
       "ENSG00000235373 0                               \n",
       "ENSG00000228327 0                               \n",
       "                TTTGTCACAGCCAGAA-1_2B_8_SI-GA-H9\n",
       "ENSG00000238009 0                               \n",
       "ENSG00000237683 1                               \n",
       "ENSG00000228463 0                               \n",
       "ENSG00000237094 0                               \n",
       "ENSG00000235373 0                               \n",
       "ENSG00000228327 0                               \n",
       "                TTTGTCACATTAGGCT-1_2B_8_SI-GA-H9\n",
       "ENSG00000238009 0                               \n",
       "ENSG00000237683 0                               \n",
       "ENSG00000228463 1                               \n",
       "ENSG00000237094 0                               \n",
       "ENSG00000235373 0                               \n",
       "ENSG00000228327 0                               \n",
       "                TTTGTCAGTACCTACA-1_2B_8_SI-GA-H9\n",
       "ENSG00000238009 0                               \n",
       "ENSG00000237683 0                               \n",
       "ENSG00000228463 0                               \n",
       "ENSG00000237094 0                               \n",
       "ENSG00000235373 0                               \n",
       "ENSG00000228327 0                               \n",
       "                TTTGTCAGTATCACCA-1_2B_8_SI-GA-H9\n",
       "ENSG00000238009 0                               \n",
       "ENSG00000237683 0                               \n",
       "ENSG00000228463 0                               \n",
       "ENSG00000237094 0                               \n",
       "ENSG00000235373 0                               \n",
       "ENSG00000228327 0                               \n",
       "                TTTGTCAGTTCAGACT-1_2B_8_SI-GA-H9\n",
       "ENSG00000238009 0                               \n",
       "ENSG00000237683 1                               \n",
       "ENSG00000228463 2                               \n",
       "ENSG00000237094 0                               \n",
       "ENSG00000235373 0                               \n",
       "ENSG00000228327 0                               \n",
       "                TTTGTCAGTTCTGTTT-1_2B_8_SI-GA-H9\n",
       "ENSG00000238009 0                               \n",
       "ENSG00000237683 0                               \n",
       "ENSG00000228463 0                               \n",
       "ENSG00000237094 0                               \n",
       "ENSG00000235373 0                               \n",
       "ENSG00000228327 0                               \n",
       "                TTTGTCATCAAAGTAG-1_2B_8_SI-GA-H9\n",
       "ENSG00000238009 0                               \n",
       "ENSG00000237683 0                               \n",
       "ENSG00000228463 2                               \n",
       "ENSG00000237094 0                               \n",
       "ENSG00000235373 0                               \n",
       "ENSG00000228327 0                               "
      ]
     },
     "metadata": {},
     "output_type": "display_data"
    }
   ],
   "source": [
    "head(expression.matrix)"
   ]
  },
  {
   "cell_type": "code",
   "execution_count": 108,
   "id": "43bf0405",
   "metadata": {
    "vscode": {
     "languageId": "r"
    }
   },
   "outputs": [],
   "source": [
    "s.genes <- cc.genes$s.genes\n",
    "g2m.genes <- cc.genes$g2m.genes"
   ]
  },
  {
   "cell_type": "code",
   "execution_count": 109,
   "id": "0a27edc0-1e91-49bf-b411-e32f29ec209e",
   "metadata": {
    "vscode": {
     "languageId": "r"
    }
   },
   "outputs": [
    {
     "data": {
      "text/plain": [
       "An object of class Seurat \n",
       "13135 features across 207324 samples within 1 assay \n",
       "Active assay: RNA (13135 features, 0 variable features)"
      ]
     },
     "metadata": {},
     "output_type": "display_data"
    }
   ],
   "source": [
    "gene.expression <- CreateSeuratObject(counts = expression.matrix)\n",
    "gene.expression"
   ]
  },
  {
   "cell_type": "code",
   "execution_count": 110,
   "id": "6f674a6b-57f8-4368-82c2-16e75ae7b70b",
   "metadata": {
    "vscode": {
     "languageId": "r"
    }
   },
   "outputs": [
    {
     "data": {
      "text/plain": [
       "An object of class Seurat \n",
       "13135 features across 207324 samples within 1 assay \n",
       "Active assay: RNA (13135 features, 0 variable features)"
      ]
     },
     "metadata": {},
     "output_type": "display_data"
    }
   ],
   "source": [
    "gene.expression <- NormalizeData(gene.expression)\n",
    "gene.expression"
   ]
  },
  {
   "cell_type": "code",
   "execution_count": 111,
   "id": "481cf841-60bd-4d63-9258-381701196e66",
   "metadata": {
    "vscode": {
     "languageId": "r"
    }
   },
   "outputs": [
    {
     "data": {
      "text/plain": [
       "An object of class Seurat \n",
       "13135 features across 207324 samples within 1 assay \n",
       "Active assay: RNA (13135 features, 2000 variable features)"
      ]
     },
     "metadata": {},
     "output_type": "display_data"
    }
   ],
   "source": [
    "gene.expression <- FindVariableFeatures(gene.expression, selection.method  = \"vst\")\n",
    "gene.expression"
   ]
  },
  {
   "cell_type": "code",
   "execution_count": 112,
   "id": "fb0f9e8b-2df9-4db9-a03c-bd2b7fb137e1",
   "metadata": {
    "vscode": {
     "languageId": "r"
    }
   },
   "outputs": [
    {
     "name": "stderr",
     "output_type": "stream",
     "text": [
      "Centering and scaling data matrix\n",
      "\n"
     ]
    },
    {
     "data": {
      "text/plain": [
       "An object of class Seurat \n",
       "13135 features across 207324 samples within 1 assay \n",
       "Active assay: RNA (13135 features, 2000 variable features)"
      ]
     },
     "metadata": {},
     "output_type": "display_data"
    }
   ],
   "source": [
    "gene.expression <- ScaleData(gene.expression, features = rownames(gene.expression))\n",
    "gene.expression"
   ]
  },
  {
   "cell_type": "code",
   "execution_count": 113,
   "id": "14176c11-cb29-4e12-ac46-1f6a182d840e",
   "metadata": {
    "vscode": {
     "languageId": "r"
    }
   },
   "outputs": [
    {
     "name": "stderr",
     "output_type": "stream",
     "text": [
      "PC_ 1 \n",
      "Positive:  NME1, EIF5A, SRM, CHCHD2, ODC1, PRELID1, TIMM13, RANBP1, EBNA1BP2, AURKAIP1 \n",
      "Negative:  SNHG32, ZFAS1, EPB41L4A-AS1, ALAS2, FTH1, SLC25A37, YPEL3, ENSG00000117289, PNRC1, EIF4A2 \n",
      "PC_ 2 \n",
      "Positive:  VIM, PKM, S100A11, TPM4, CLIC1, SQSTM1, STX3, TMSB10, JUN, RHOC \n",
      "Negative:  HBZ, HBA1, HBA2, HBG1, HEMGN, HBG2, PRDX2, ALAS2, HBE1, HMBS \n",
      "PC_ 3 \n",
      "Positive:  CCNB1, CDC20, HMMR, PLK1, AURKA, CCNB2, PTTG1, NEK2, HMGB2, CCNA2 \n",
      "Negative:  SH3BGRL3, MT-CO2, MT-ND4, MT-CO1, MT-ND1, MT-ND2, MT-CYB, MT-CO3, FTL, NEAT1 \n",
      "PC_ 4 \n",
      "Positive:  PRDX1, HBG1, HBG2, EIF4A1, UBB, PRDX2, GYPA, CCT5, EIF2S1, ENO1 \n",
      "Negative:  TOP2A, PIF1, CENPA, CENPF, ASPM, MKI67, ENSG00000227706, TPX2, TMSB10, MT-ND1 \n",
      "PC_ 5 \n",
      "Positive:  H1-2, H2AC6, H2BC4, H2BC12, LBH, HBG2, DYNLL1, HSPB1, HBA1, RNASE1 \n",
      "Negative:  TRIB3, DDIT4, PSAT1, MTHFD2, ATF4, WARS1, MAP1B, GARS1, EIF4EBP1, ASNS \n",
      "\n"
     ]
    },
    {
     "data": {
      "text/plain": [
       "An object of class Seurat \n",
       "13135 features across 207324 samples within 1 assay \n",
       "Active assay: RNA (13135 features, 2000 variable features)\n",
       " 1 dimensional reduction calculated: pca"
      ]
     },
     "metadata": {},
     "output_type": "display_data"
    }
   ],
   "source": [
    "gene.expression <- RunPCA(gene.expression, features = VariableFeatures(gene.expression), ndims.print = 1:5, nfeatures.print = 10)\n",
    "gene.expression"
   ]
  },
  {
   "cell_type": "code",
   "execution_count": 114,
   "id": "8d5fa623-6a97-4a1b-a6a1-fd3a0cb82d01",
   "metadata": {
    "vscode": {
     "languageId": "r"
    }
   },
   "outputs": [
    {
     "name": "stderr",
     "output_type": "stream",
     "text": [
      "Warning message:\n",
      "“The following features are not present in the object: UHRF1, MLF1IP, CASP8AP2, not searching for symbol synonyms”\n",
      "Warning message:\n",
      "“The following features are not present in the object: UBE2C, FAM64A, HN1, not searching for symbol synonyms”\n"
     ]
    },
    {
     "data": {
      "text/html": [
       "<table class=\"dataframe\">\n",
       "<caption>A data.frame: 6 × 7</caption>\n",
       "<thead>\n",
       "\t<tr><th></th><th scope=col>orig.ident</th><th scope=col>nCount_RNA</th><th scope=col>nFeature_RNA</th><th scope=col>S.Score</th><th scope=col>G2M.Score</th><th scope=col>Phase</th><th scope=col>old.ident</th></tr>\n",
       "\t<tr><th></th><th scope=col>&lt;fct&gt;</th><th scope=col>&lt;dbl&gt;</th><th scope=col>&lt;int&gt;</th><th scope=col>&lt;dbl&gt;</th><th scope=col>&lt;dbl&gt;</th><th scope=col>&lt;chr&gt;</th><th scope=col>&lt;fct&gt;</th></tr>\n",
       "</thead>\n",
       "<tbody>\n",
       "\t<tr><th scope=row>AAACCTGAGAGGTACC-1_1A_1_SI-GA-E2</th><td>SeuratProject</td><td>17566</td><td>3549</td><td> 0.110732311</td><td>-0.1319208</td><td>S </td><td>SeuratProject</td></tr>\n",
       "\t<tr><th scope=row>AAACCTGAGTCAATAG-1_1A_1_SI-GA-E2</th><td>SeuratProject</td><td> 8917</td><td>2543</td><td>-0.010290919</td><td>-0.1535426</td><td>G1</td><td>SeuratProject</td></tr>\n",
       "\t<tr><th scope=row>AAACCTGCAAACAACA-1_1A_1_SI-GA-E2</th><td>SeuratProject</td><td>14626</td><td>3191</td><td>-0.175860130</td><td>-0.3084879</td><td>G1</td><td>SeuratProject</td></tr>\n",
       "\t<tr><th scope=row>AAACCTGCACTTCTGC-1_1A_1_SI-GA-E2</th><td>SeuratProject</td><td>22783</td><td>4539</td><td> 0.003057281</td><td>-0.1574859</td><td>S </td><td>SeuratProject</td></tr>\n",
       "\t<tr><th scope=row>AAACCTGCATGTAGTC-1_1A_1_SI-GA-E2</th><td>SeuratProject</td><td>10124</td><td>2605</td><td>-0.144480961</td><td>-0.2362154</td><td>G1</td><td>SeuratProject</td></tr>\n",
       "\t<tr><th scope=row>AAACCTGGTAGCGCAA-1_1A_1_SI-GA-E2</th><td>SeuratProject</td><td> 9743</td><td>2187</td><td> 0.026418076</td><td>-0.1462899</td><td>S </td><td>SeuratProject</td></tr>\n",
       "</tbody>\n",
       "</table>\n"
      ],
      "text/latex": [
       "A data.frame: 6 × 7\n",
       "\\begin{tabular}{r|lllllll}\n",
       "  & orig.ident & nCount\\_RNA & nFeature\\_RNA & S.Score & G2M.Score & Phase & old.ident\\\\\n",
       "  & <fct> & <dbl> & <int> & <dbl> & <dbl> & <chr> & <fct>\\\\\n",
       "\\hline\n",
       "\tAAACCTGAGAGGTACC-1\\_1A\\_1\\_SI-GA-E2 & SeuratProject & 17566 & 3549 &  0.110732311 & -0.1319208 & S  & SeuratProject\\\\\n",
       "\tAAACCTGAGTCAATAG-1\\_1A\\_1\\_SI-GA-E2 & SeuratProject &  8917 & 2543 & -0.010290919 & -0.1535426 & G1 & SeuratProject\\\\\n",
       "\tAAACCTGCAAACAACA-1\\_1A\\_1\\_SI-GA-E2 & SeuratProject & 14626 & 3191 & -0.175860130 & -0.3084879 & G1 & SeuratProject\\\\\n",
       "\tAAACCTGCACTTCTGC-1\\_1A\\_1\\_SI-GA-E2 & SeuratProject & 22783 & 4539 &  0.003057281 & -0.1574859 & S  & SeuratProject\\\\\n",
       "\tAAACCTGCATGTAGTC-1\\_1A\\_1\\_SI-GA-E2 & SeuratProject & 10124 & 2605 & -0.144480961 & -0.2362154 & G1 & SeuratProject\\\\\n",
       "\tAAACCTGGTAGCGCAA-1\\_1A\\_1\\_SI-GA-E2 & SeuratProject &  9743 & 2187 &  0.026418076 & -0.1462899 & S  & SeuratProject\\\\\n",
       "\\end{tabular}\n"
      ],
      "text/markdown": [
       "\n",
       "A data.frame: 6 × 7\n",
       "\n",
       "| <!--/--> | orig.ident &lt;fct&gt; | nCount_RNA &lt;dbl&gt; | nFeature_RNA &lt;int&gt; | S.Score &lt;dbl&gt; | G2M.Score &lt;dbl&gt; | Phase &lt;chr&gt; | old.ident &lt;fct&gt; |\n",
       "|---|---|---|---|---|---|---|---|\n",
       "| AAACCTGAGAGGTACC-1_1A_1_SI-GA-E2 | SeuratProject | 17566 | 3549 |  0.110732311 | -0.1319208 | S  | SeuratProject |\n",
       "| AAACCTGAGTCAATAG-1_1A_1_SI-GA-E2 | SeuratProject |  8917 | 2543 | -0.010290919 | -0.1535426 | G1 | SeuratProject |\n",
       "| AAACCTGCAAACAACA-1_1A_1_SI-GA-E2 | SeuratProject | 14626 | 3191 | -0.175860130 | -0.3084879 | G1 | SeuratProject |\n",
       "| AAACCTGCACTTCTGC-1_1A_1_SI-GA-E2 | SeuratProject | 22783 | 4539 |  0.003057281 | -0.1574859 | S  | SeuratProject |\n",
       "| AAACCTGCATGTAGTC-1_1A_1_SI-GA-E2 | SeuratProject | 10124 | 2605 | -0.144480961 | -0.2362154 | G1 | SeuratProject |\n",
       "| AAACCTGGTAGCGCAA-1_1A_1_SI-GA-E2 | SeuratProject |  9743 | 2187 |  0.026418076 | -0.1462899 | S  | SeuratProject |\n",
       "\n"
      ],
      "text/plain": [
       "                                 orig.ident    nCount_RNA nFeature_RNA\n",
       "AAACCTGAGAGGTACC-1_1A_1_SI-GA-E2 SeuratProject 17566      3549        \n",
       "AAACCTGAGTCAATAG-1_1A_1_SI-GA-E2 SeuratProject  8917      2543        \n",
       "AAACCTGCAAACAACA-1_1A_1_SI-GA-E2 SeuratProject 14626      3191        \n",
       "AAACCTGCACTTCTGC-1_1A_1_SI-GA-E2 SeuratProject 22783      4539        \n",
       "AAACCTGCATGTAGTC-1_1A_1_SI-GA-E2 SeuratProject 10124      2605        \n",
       "AAACCTGGTAGCGCAA-1_1A_1_SI-GA-E2 SeuratProject  9743      2187        \n",
       "                                 S.Score      G2M.Score  Phase old.ident    \n",
       "AAACCTGAGAGGTACC-1_1A_1_SI-GA-E2  0.110732311 -0.1319208 S     SeuratProject\n",
       "AAACCTGAGTCAATAG-1_1A_1_SI-GA-E2 -0.010290919 -0.1535426 G1    SeuratProject\n",
       "AAACCTGCAAACAACA-1_1A_1_SI-GA-E2 -0.175860130 -0.3084879 G1    SeuratProject\n",
       "AAACCTGCACTTCTGC-1_1A_1_SI-GA-E2  0.003057281 -0.1574859 S     SeuratProject\n",
       "AAACCTGCATGTAGTC-1_1A_1_SI-GA-E2 -0.144480961 -0.2362154 G1    SeuratProject\n",
       "AAACCTGGTAGCGCAA-1_1A_1_SI-GA-E2  0.026418076 -0.1462899 S     SeuratProject"
      ]
     },
     "metadata": {},
     "output_type": "display_data"
    }
   ],
   "source": [
    "gene.expression <- CellCycleScoring(gene.expression, s.features = s.genes, g2m.features = g2m.genes, set.ident = TRUE)\n",
    "\n",
    "# view cell cycle scores and phase assignments\n",
    "head(gene.expression[[]])"
   ]
  },
  {
   "cell_type": "code",
   "execution_count": 115,
   "id": "4a00fa16",
   "metadata": {
    "vscode": {
     "languageId": "r"
    }
   },
   "outputs": [
    {
     "data": {
      "text/html": [
       "<style>\n",
       ".list-inline {list-style: none; margin:0; padding: 0}\n",
       ".list-inline>li {display: inline-block}\n",
       ".list-inline>li:not(:last-child)::after {content: \"\\00b7\"; padding: 0 .5ex}\n",
       "</style>\n",
       "<ol class=list-inline><li>'MCM5'</li><li>'PCNA'</li><li>'TYMS'</li><li>'FEN1'</li><li>'MCM2'</li><li>'MCM4'</li><li>'RRM1'</li><li>'UNG'</li><li>'GINS2'</li><li>'MCM6'</li><li>'CDCA7'</li><li>'DTL'</li><li>'PRIM1'</li><li>'UHRF1'</li><li>'MLF1IP'</li><li>'HELLS'</li><li>'RFC2'</li><li>'RPA2'</li><li>'NASP'</li><li>'RAD51AP1'</li><li>'GMNN'</li><li>'WDR76'</li><li>'SLBP'</li><li>'CCNE2'</li><li>'UBR7'</li><li>'POLD3'</li><li>'MSH2'</li><li>'ATAD2'</li><li>'RAD51'</li><li>'RRM2'</li><li>'CDC45'</li><li>'CDC6'</li><li>'EXO1'</li><li>'TIPIN'</li><li>'DSCC1'</li><li>'BLM'</li><li>'CASP8AP2'</li><li>'USP1'</li><li>'CLSPN'</li><li>'POLA1'</li><li>'CHAF1B'</li><li>'BRIP1'</li><li>'E2F8'</li></ol>\n"
      ],
      "text/latex": [
       "\\begin{enumerate*}\n",
       "\\item 'MCM5'\n",
       "\\item 'PCNA'\n",
       "\\item 'TYMS'\n",
       "\\item 'FEN1'\n",
       "\\item 'MCM2'\n",
       "\\item 'MCM4'\n",
       "\\item 'RRM1'\n",
       "\\item 'UNG'\n",
       "\\item 'GINS2'\n",
       "\\item 'MCM6'\n",
       "\\item 'CDCA7'\n",
       "\\item 'DTL'\n",
       "\\item 'PRIM1'\n",
       "\\item 'UHRF1'\n",
       "\\item 'MLF1IP'\n",
       "\\item 'HELLS'\n",
       "\\item 'RFC2'\n",
       "\\item 'RPA2'\n",
       "\\item 'NASP'\n",
       "\\item 'RAD51AP1'\n",
       "\\item 'GMNN'\n",
       "\\item 'WDR76'\n",
       "\\item 'SLBP'\n",
       "\\item 'CCNE2'\n",
       "\\item 'UBR7'\n",
       "\\item 'POLD3'\n",
       "\\item 'MSH2'\n",
       "\\item 'ATAD2'\n",
       "\\item 'RAD51'\n",
       "\\item 'RRM2'\n",
       "\\item 'CDC45'\n",
       "\\item 'CDC6'\n",
       "\\item 'EXO1'\n",
       "\\item 'TIPIN'\n",
       "\\item 'DSCC1'\n",
       "\\item 'BLM'\n",
       "\\item 'CASP8AP2'\n",
       "\\item 'USP1'\n",
       "\\item 'CLSPN'\n",
       "\\item 'POLA1'\n",
       "\\item 'CHAF1B'\n",
       "\\item 'BRIP1'\n",
       "\\item 'E2F8'\n",
       "\\end{enumerate*}\n"
      ],
      "text/markdown": [
       "1. 'MCM5'\n",
       "2. 'PCNA'\n",
       "3. 'TYMS'\n",
       "4. 'FEN1'\n",
       "5. 'MCM2'\n",
       "6. 'MCM4'\n",
       "7. 'RRM1'\n",
       "8. 'UNG'\n",
       "9. 'GINS2'\n",
       "10. 'MCM6'\n",
       "11. 'CDCA7'\n",
       "12. 'DTL'\n",
       "13. 'PRIM1'\n",
       "14. 'UHRF1'\n",
       "15. 'MLF1IP'\n",
       "16. 'HELLS'\n",
       "17. 'RFC2'\n",
       "18. 'RPA2'\n",
       "19. 'NASP'\n",
       "20. 'RAD51AP1'\n",
       "21. 'GMNN'\n",
       "22. 'WDR76'\n",
       "23. 'SLBP'\n",
       "24. 'CCNE2'\n",
       "25. 'UBR7'\n",
       "26. 'POLD3'\n",
       "27. 'MSH2'\n",
       "28. 'ATAD2'\n",
       "29. 'RAD51'\n",
       "30. 'RRM2'\n",
       "31. 'CDC45'\n",
       "32. 'CDC6'\n",
       "33. 'EXO1'\n",
       "34. 'TIPIN'\n",
       "35. 'DSCC1'\n",
       "36. 'BLM'\n",
       "37. 'CASP8AP2'\n",
       "38. 'USP1'\n",
       "39. 'CLSPN'\n",
       "40. 'POLA1'\n",
       "41. 'CHAF1B'\n",
       "42. 'BRIP1'\n",
       "43. 'E2F8'\n",
       "\n",
       "\n"
      ],
      "text/plain": [
       " [1] \"MCM5\"     \"PCNA\"     \"TYMS\"     \"FEN1\"     \"MCM2\"     \"MCM4\"    \n",
       " [7] \"RRM1\"     \"UNG\"      \"GINS2\"    \"MCM6\"     \"CDCA7\"    \"DTL\"     \n",
       "[13] \"PRIM1\"    \"UHRF1\"    \"MLF1IP\"   \"HELLS\"    \"RFC2\"     \"RPA2\"    \n",
       "[19] \"NASP\"     \"RAD51AP1\" \"GMNN\"     \"WDR76\"    \"SLBP\"     \"CCNE2\"   \n",
       "[25] \"UBR7\"     \"POLD3\"    \"MSH2\"     \"ATAD2\"    \"RAD51\"    \"RRM2\"    \n",
       "[31] \"CDC45\"    \"CDC6\"     \"EXO1\"     \"TIPIN\"    \"DSCC1\"    \"BLM\"     \n",
       "[37] \"CASP8AP2\" \"USP1\"     \"CLSPN\"    \"POLA1\"    \"CHAF1B\"   \"BRIP1\"   \n",
       "[43] \"E2F8\"    "
      ]
     },
     "metadata": {},
     "output_type": "display_data"
    }
   ],
   "source": [
    "s.genes"
   ]
  },
  {
   "cell_type": "code",
   "execution_count": 116,
   "id": "2cbbe164",
   "metadata": {
    "vscode": {
     "languageId": "r"
    }
   },
   "outputs": [
    {
     "data": {
      "text/html": [
       "<style>\n",
       ".list-inline {list-style: none; margin:0; padding: 0}\n",
       ".list-inline>li {display: inline-block}\n",
       ".list-inline>li:not(:last-child)::after {content: \"\\00b7\"; padding: 0 .5ex}\n",
       "</style>\n",
       "<ol class=list-inline><li>'HMGB2'</li><li>'CDK1'</li><li>'NUSAP1'</li><li>'UBE2C'</li><li>'BIRC5'</li><li>'TPX2'</li><li>'TOP2A'</li><li>'NDC80'</li><li>'CKS2'</li><li>'NUF2'</li><li>'CKS1B'</li><li>'MKI67'</li><li>'TMPO'</li><li>'CENPF'</li><li>'TACC3'</li><li>'FAM64A'</li><li>'SMC4'</li><li>'CCNB2'</li><li>'CKAP2L'</li><li>'CKAP2'</li><li>'AURKB'</li><li>'BUB1'</li><li>'KIF11'</li><li>'ANP32E'</li><li>'TUBB4B'</li><li>'GTSE1'</li><li>'KIF20B'</li><li>'HJURP'</li><li>'CDCA3'</li><li>'HN1'</li><li>'CDC20'</li><li>'TTK'</li><li>'CDC25C'</li><li>'KIF2C'</li><li>'RANGAP1'</li><li>'NCAPD2'</li><li>'DLGAP5'</li><li>'CDCA2'</li><li>'CDCA8'</li><li>'ECT2'</li><li>'KIF23'</li><li>'HMMR'</li><li>'AURKA'</li><li>'PSRC1'</li><li>'ANLN'</li><li>'LBR'</li><li>'CKAP5'</li><li>'CENPE'</li><li>'CTCF'</li><li>'NEK2'</li><li>'G2E3'</li><li>'GAS2L3'</li><li>'CBX5'</li><li>'CENPA'</li></ol>\n"
      ],
      "text/latex": [
       "\\begin{enumerate*}\n",
       "\\item 'HMGB2'\n",
       "\\item 'CDK1'\n",
       "\\item 'NUSAP1'\n",
       "\\item 'UBE2C'\n",
       "\\item 'BIRC5'\n",
       "\\item 'TPX2'\n",
       "\\item 'TOP2A'\n",
       "\\item 'NDC80'\n",
       "\\item 'CKS2'\n",
       "\\item 'NUF2'\n",
       "\\item 'CKS1B'\n",
       "\\item 'MKI67'\n",
       "\\item 'TMPO'\n",
       "\\item 'CENPF'\n",
       "\\item 'TACC3'\n",
       "\\item 'FAM64A'\n",
       "\\item 'SMC4'\n",
       "\\item 'CCNB2'\n",
       "\\item 'CKAP2L'\n",
       "\\item 'CKAP2'\n",
       "\\item 'AURKB'\n",
       "\\item 'BUB1'\n",
       "\\item 'KIF11'\n",
       "\\item 'ANP32E'\n",
       "\\item 'TUBB4B'\n",
       "\\item 'GTSE1'\n",
       "\\item 'KIF20B'\n",
       "\\item 'HJURP'\n",
       "\\item 'CDCA3'\n",
       "\\item 'HN1'\n",
       "\\item 'CDC20'\n",
       "\\item 'TTK'\n",
       "\\item 'CDC25C'\n",
       "\\item 'KIF2C'\n",
       "\\item 'RANGAP1'\n",
       "\\item 'NCAPD2'\n",
       "\\item 'DLGAP5'\n",
       "\\item 'CDCA2'\n",
       "\\item 'CDCA8'\n",
       "\\item 'ECT2'\n",
       "\\item 'KIF23'\n",
       "\\item 'HMMR'\n",
       "\\item 'AURKA'\n",
       "\\item 'PSRC1'\n",
       "\\item 'ANLN'\n",
       "\\item 'LBR'\n",
       "\\item 'CKAP5'\n",
       "\\item 'CENPE'\n",
       "\\item 'CTCF'\n",
       "\\item 'NEK2'\n",
       "\\item 'G2E3'\n",
       "\\item 'GAS2L3'\n",
       "\\item 'CBX5'\n",
       "\\item 'CENPA'\n",
       "\\end{enumerate*}\n"
      ],
      "text/markdown": [
       "1. 'HMGB2'\n",
       "2. 'CDK1'\n",
       "3. 'NUSAP1'\n",
       "4. 'UBE2C'\n",
       "5. 'BIRC5'\n",
       "6. 'TPX2'\n",
       "7. 'TOP2A'\n",
       "8. 'NDC80'\n",
       "9. 'CKS2'\n",
       "10. 'NUF2'\n",
       "11. 'CKS1B'\n",
       "12. 'MKI67'\n",
       "13. 'TMPO'\n",
       "14. 'CENPF'\n",
       "15. 'TACC3'\n",
       "16. 'FAM64A'\n",
       "17. 'SMC4'\n",
       "18. 'CCNB2'\n",
       "19. 'CKAP2L'\n",
       "20. 'CKAP2'\n",
       "21. 'AURKB'\n",
       "22. 'BUB1'\n",
       "23. 'KIF11'\n",
       "24. 'ANP32E'\n",
       "25. 'TUBB4B'\n",
       "26. 'GTSE1'\n",
       "27. 'KIF20B'\n",
       "28. 'HJURP'\n",
       "29. 'CDCA3'\n",
       "30. 'HN1'\n",
       "31. 'CDC20'\n",
       "32. 'TTK'\n",
       "33. 'CDC25C'\n",
       "34. 'KIF2C'\n",
       "35. 'RANGAP1'\n",
       "36. 'NCAPD2'\n",
       "37. 'DLGAP5'\n",
       "38. 'CDCA2'\n",
       "39. 'CDCA8'\n",
       "40. 'ECT2'\n",
       "41. 'KIF23'\n",
       "42. 'HMMR'\n",
       "43. 'AURKA'\n",
       "44. 'PSRC1'\n",
       "45. 'ANLN'\n",
       "46. 'LBR'\n",
       "47. 'CKAP5'\n",
       "48. 'CENPE'\n",
       "49. 'CTCF'\n",
       "50. 'NEK2'\n",
       "51. 'G2E3'\n",
       "52. 'GAS2L3'\n",
       "53. 'CBX5'\n",
       "54. 'CENPA'\n",
       "\n",
       "\n"
      ],
      "text/plain": [
       " [1] \"HMGB2\"   \"CDK1\"    \"NUSAP1\"  \"UBE2C\"   \"BIRC5\"   \"TPX2\"    \"TOP2A\"  \n",
       " [8] \"NDC80\"   \"CKS2\"    \"NUF2\"    \"CKS1B\"   \"MKI67\"   \"TMPO\"    \"CENPF\"  \n",
       "[15] \"TACC3\"   \"FAM64A\"  \"SMC4\"    \"CCNB2\"   \"CKAP2L\"  \"CKAP2\"   \"AURKB\"  \n",
       "[22] \"BUB1\"    \"KIF11\"   \"ANP32E\"  \"TUBB4B\"  \"GTSE1\"   \"KIF20B\"  \"HJURP\"  \n",
       "[29] \"CDCA3\"   \"HN1\"     \"CDC20\"   \"TTK\"     \"CDC25C\"  \"KIF2C\"   \"RANGAP1\"\n",
       "[36] \"NCAPD2\"  \"DLGAP5\"  \"CDCA2\"   \"CDCA8\"   \"ECT2\"    \"KIF23\"   \"HMMR\"   \n",
       "[43] \"AURKA\"   \"PSRC1\"   \"ANLN\"    \"LBR\"     \"CKAP5\"   \"CENPE\"   \"CTCF\"   \n",
       "[50] \"NEK2\"    \"G2E3\"    \"GAS2L3\"  \"CBX5\"    \"CENPA\"  "
      ]
     },
     "metadata": {},
     "output_type": "display_data"
    }
   ],
   "source": [
    "g2m.genes"
   ]
  },
  {
   "cell_type": "code",
   "execution_count": 121,
   "id": "141ee2c4",
   "metadata": {
    "vscode": {
     "languageId": "r"
    }
   },
   "outputs": [],
   "source": [
    "# Visualize the distribution of cell cycle markers across\n",
    "cell.cycle.marker.ridge.plot <- RidgePlot(gene.expression, features = c(\"PCNA\", \"TOP2A\", \"MCM6\", \"MKI67\"), ncol = 2)"
   ]
  },
  {
   "cell_type": "code",
   "execution_count": 123,
   "id": "b61b6dad",
   "metadata": {
    "vscode": {
     "languageId": "r"
    }
   },
   "outputs": [
    {
     "name": "stderr",
     "output_type": "stream",
     "text": [
      "Saving 6.67 x 6.67 in image\n",
      "\n",
      "Picking joint bandwidth of 0.0365\n",
      "\n",
      "Picking joint bandwidth of 0.0411\n",
      "\n",
      "Picking joint bandwidth of 0.0198\n",
      "\n",
      "Picking joint bandwidth of 0.0401\n",
      "\n"
     ]
    }
   ],
   "source": [
    "ggsave(\n",
    "    filename = '/iblm/netapp/home/karthik/crisprQTL/plots/cell_cycle_marker_gene_ridge_plot.tiff',\n",
    "    cell.cycle.marker.ridge.plot,\n",
    "    device = 'tiff'\n",
    ")"
   ]
  },
  {
   "cell_type": "code",
   "execution_count": 125,
   "id": "ef1814b6",
   "metadata": {
    "vscode": {
     "languageId": "r"
    }
   },
   "outputs": [
    {
     "name": "stderr",
     "output_type": "stream",
     "text": [
      "Rasterizing points since number of points exceeds 100,000.\n",
      "To disable this behavior set `raster=FALSE`\n",
      "\n"
     ]
    }
   ],
   "source": [
    "# Running a PCA on cell cycle genes reveals, unsurprisingly, that cells separate entirely by\n",
    "# phase\n",
    "# gene.expression <- RunPCA(gene.expression, features = c(s.genes, g2m.genes))\n",
    "cell.cycle.pca <- DimPlot(gene.expression)"
   ]
  },
  {
   "cell_type": "code",
   "execution_count": 126,
   "id": "bf4c0bfa",
   "metadata": {
    "vscode": {
     "languageId": "r"
    }
   },
   "outputs": [
    {
     "name": "stderr",
     "output_type": "stream",
     "text": [
      "Saving 6.67 x 6.67 in image\n",
      "\n"
     ]
    }
   ],
   "source": [
    "ggsave(\n",
    "    filename = '/iblm/netapp/home/karthik/crisprQTL/plots/cell_cycle_pca.tiff',\n",
    "    plot = cell.cycle.pca,\n",
    "    device = 'tiff'\n",
    ")"
   ]
  },
  {
   "cell_type": "code",
   "execution_count": 127,
   "id": "6ddb4d83",
   "metadata": {
    "vscode": {
     "languageId": "r"
    }
   },
   "outputs": [
    {
     "name": "stderr",
     "output_type": "stream",
     "text": [
      "Regressing out S.Score, G2M.Score\n",
      "\n"
     ]
    }
   ],
   "source": [
    "gene.expression <- ScaleData(gene.expression, vars.to.regress = c(\"S.Score\", \"G2M.Score\"), features = rownames(gene.expression))"
   ]
  },
  {
   "cell_type": "code",
   "execution_count": null,
   "id": "8b493d0c",
   "metadata": {
    "vscode": {
     "languageId": "r"
    }
   },
   "outputs": [],
   "source": [
    "# Now, a PCA on the variable genes no longer returns components associated with cell cycle\n",
    "gene.expression <- RunPCA(gene.expression, features = VariableFeatures(gene.expression), nfeatures.print = 10)"
   ]
  },
  {
   "cell_type": "code",
   "execution_count": null,
   "id": "a05d1064",
   "metadata": {
    "vscode": {
     "languageId": "r"
    }
   },
   "outputs": [],
   "source": [
    "# When running a PCA on only cell cycle genes, cells no longer separate by cell-cycle phase\n",
    "gene.expression <- RunPCA(gene.expression, features = c(s.genes, g2m.genes))\n",
    "cell.cycle.regressed.pca <- DimPlot(marrow)"
   ]
  },
  {
   "cell_type": "code",
   "execution_count": null,
   "id": "a3dd843e",
   "metadata": {
    "vscode": {
     "languageId": "r"
    }
   },
   "outputs": [],
   "source": [
    "ggsave(\n",
    "    filename = '/iblm/netapp/home/karthik/crisprQTL/plots/cell_cycle_regressed_pca.tiff',\n",
    "    plot = cell.cycle.regressed.pca,\n",
    "    device = 'tiff'\n",
    ")"
   ]
  },
  {
   "cell_type": "code",
   "execution_count": null,
   "id": "e828a431",
   "metadata": {
    "vscode": {
     "languageId": "r"
    }
   },
   "outputs": [],
   "source": [
    "# write scores to CSV files\n",
    "s.scores <- gene.expression[[]]['S.Score']\n",
    "g2m.scores <- gene.expression[[]]['G2M.Score']\n",
    "\n",
    "write.csv(s.scores, '/iblm/netapp/home/karthik/crisprQTL/gasperini_data/s_scores.csv')\n",
    "write.csv(g2m.scores, '/iblm/netapp/home/karthik/crisprQTL/gasperini_data/g2m_scores.csv')"
   ]
  }
 ],
 "metadata": {
  "kernelspec": {
   "display_name": "R",
   "language": "R",
   "name": "ir"
  },
  "language_info": {
   "codemirror_mode": "r",
   "file_extension": ".r",
   "mimetype": "text/x-r-source",
   "name": "R",
   "pygments_lexer": "r",
   "version": "4.0.5"
  },
  "vscode": {
   "interpreter": {
    "hash": "3e1f9616f67af393c79ed75e71e5449acd0b691bc10be70d33f7e0e207c41d97"
   }
  }
 },
 "nbformat": 4,
 "nbformat_minor": 5
}
