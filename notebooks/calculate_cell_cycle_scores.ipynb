{
 "cells": [
  {
   "cell_type": "markdown",
   "id": "4b2d5984-86c6-444a-8df3-76e5dddc3f66",
   "metadata": {},
   "source": [
    "# Cell Cycle Scoring\n",
    "\n",
    "This Jupyter notebooks uses the Seurat single-cell RNA-seq analysis package to compute cell cycle scores for each cell in the Gasperini et al. 2019 dataset. This code is based off the Seurat cell-cycle scoring and regression vignette available at: https://satijalab.org/seurat/articles/cell_cycle_vignette.html\n",
    "\n",
    "Author: Karthik Guruvayurappan"
   ]
  },
  {
   "cell_type": "code",
   "execution_count": 1,
   "id": "84d40f89-d526-4e87-b048-85e4d5c8274f",
   "metadata": {},
   "outputs": [
    {
     "name": "stderr",
     "output_type": "stream",
     "text": [
      "Warning message:\n",
      "“replacing previous import ‘lifecycle::last_warnings’ by ‘rlang::last_warnings’ when loading ‘tibble’”\n",
      "Attaching SeuratObject\n",
      "\n",
      "Attaching sp\n",
      "\n"
     ]
    }
   ],
   "source": [
    "library('Seurat')\n",
    "library('Matrix')"
   ]
  },
  {
   "cell_type": "code",
   "execution_count": 2,
   "id": "554dee78-30af-4131-88ab-24857ed44dca",
   "metadata": {},
   "outputs": [
    {
     "data": {
      "text/plain": [
       "6 x 207324 sparse Matrix of class \"dgTMatrix\"\n",
       "                                                                               \n",
       "[1,] . . . . . . . . . . . . . . . . . . . . . . . . 1 . 1 . . . . . . . ......\n",
       "[2,] 1 . . . . . . . . . . . . . 2 . 1 . . . . . . . 1 . . . . . . 1 . . ......\n",
       "[3,] 1 . 1 1 1 . . . . 1 1 . . . 3 . 4 1 . . . 1 . . 1 1 1 1 1 1 . . . . ......\n",
       "[4,] . . . 1 . . . . . . . . . . . . . . . . . . . . . . . . . . . . . . ......\n",
       "[5,] . . 1 . . . . 1 . . . . . . . . . . . . . . . . . 1 . . . . 1 . . . ......\n",
       "[6,] . . . . . . . . . . . . . . . . 1 . . . . . . . . . . . . . . . . . ......\n",
       "\n",
       " .....suppressing 207290 columns in show(); maybe adjust 'options(max.print= *, width = *)'\n",
       " .............................."
      ]
     },
     "metadata": {},
     "output_type": "display_data"
    }
   ],
   "source": [
    "# load in UMI count (expression) matrix\n",
    "expression.matrix <- readMM('/iblm/netapp/data1/external/Gasperini2019/suppl/GSE120861_at_scale_screen.exprs.mtx')\n",
    "head(expression.matrix)"
   ]
  },
  {
   "cell_type": "code",
   "execution_count": 3,
   "id": "fcacd7c3-1df7-4ddd-8f7f-a8e131172f7f",
   "metadata": {},
   "outputs": [
    {
     "data": {
      "text/html": [
       "<table class=\"dataframe\">\n",
       "<caption>A data.frame: 6 × 207324</caption>\n",
       "<thead>\n",
       "\t<tr><th></th><th scope=col>V1</th><th scope=col>V2</th><th scope=col>V3</th><th scope=col>V4</th><th scope=col>V5</th><th scope=col>V6</th><th scope=col>V7</th><th scope=col>V8</th><th scope=col>V9</th><th scope=col>V10</th><th scope=col>⋯</th><th scope=col>V207315</th><th scope=col>V207316</th><th scope=col>V207317</th><th scope=col>V207318</th><th scope=col>V207319</th><th scope=col>V207320</th><th scope=col>V207321</th><th scope=col>V207322</th><th scope=col>V207323</th><th scope=col>V207324</th></tr>\n",
       "\t<tr><th></th><th scope=col>&lt;dbl&gt;</th><th scope=col>&lt;dbl&gt;</th><th scope=col>&lt;dbl&gt;</th><th scope=col>&lt;dbl&gt;</th><th scope=col>&lt;dbl&gt;</th><th scope=col>&lt;dbl&gt;</th><th scope=col>&lt;dbl&gt;</th><th scope=col>&lt;dbl&gt;</th><th scope=col>&lt;dbl&gt;</th><th scope=col>&lt;dbl&gt;</th><th scope=col>⋯</th><th scope=col>&lt;dbl&gt;</th><th scope=col>&lt;dbl&gt;</th><th scope=col>&lt;dbl&gt;</th><th scope=col>&lt;dbl&gt;</th><th scope=col>&lt;dbl&gt;</th><th scope=col>&lt;dbl&gt;</th><th scope=col>&lt;dbl&gt;</th><th scope=col>&lt;dbl&gt;</th><th scope=col>&lt;dbl&gt;</th><th scope=col>&lt;dbl&gt;</th></tr>\n",
       "</thead>\n",
       "<tbody>\n",
       "\t<tr><th scope=row>1</th><td>0</td><td>0</td><td>0</td><td>0</td><td>0</td><td>0</td><td>0</td><td>0</td><td>0</td><td>0</td><td>⋯</td><td>0</td><td>0</td><td>0</td><td>0</td><td>0</td><td>0</td><td>0</td><td>0</td><td>0</td><td>0</td></tr>\n",
       "\t<tr><th scope=row>2</th><td>1</td><td>0</td><td>0</td><td>0</td><td>0</td><td>0</td><td>0</td><td>0</td><td>0</td><td>0</td><td>⋯</td><td>0</td><td>0</td><td>0</td><td>1</td><td>0</td><td>0</td><td>0</td><td>1</td><td>0</td><td>0</td></tr>\n",
       "\t<tr><th scope=row>3</th><td>1</td><td>0</td><td>1</td><td>1</td><td>1</td><td>0</td><td>0</td><td>0</td><td>0</td><td>1</td><td>⋯</td><td>0</td><td>0</td><td>0</td><td>0</td><td>1</td><td>0</td><td>0</td><td>2</td><td>0</td><td>2</td></tr>\n",
       "\t<tr><th scope=row>4</th><td>0</td><td>0</td><td>0</td><td>1</td><td>0</td><td>0</td><td>0</td><td>0</td><td>0</td><td>0</td><td>⋯</td><td>0</td><td>0</td><td>0</td><td>0</td><td>0</td><td>0</td><td>0</td><td>0</td><td>0</td><td>0</td></tr>\n",
       "\t<tr><th scope=row>5</th><td>0</td><td>0</td><td>1</td><td>0</td><td>0</td><td>0</td><td>0</td><td>1</td><td>0</td><td>0</td><td>⋯</td><td>0</td><td>0</td><td>0</td><td>0</td><td>0</td><td>0</td><td>0</td><td>0</td><td>0</td><td>0</td></tr>\n",
       "\t<tr><th scope=row>6</th><td>0</td><td>0</td><td>0</td><td>0</td><td>0</td><td>0</td><td>0</td><td>0</td><td>0</td><td>0</td><td>⋯</td><td>0</td><td>0</td><td>0</td><td>0</td><td>0</td><td>0</td><td>0</td><td>0</td><td>0</td><td>0</td></tr>\n",
       "</tbody>\n",
       "</table>\n"
      ],
      "text/latex": [
       "A data.frame: 6 × 207324\n",
       "\\begin{tabular}{r|lllllllllllllllllllll}\n",
       "  & V1 & V2 & V3 & V4 & V5 & V6 & V7 & V8 & V9 & V10 & ⋯ & V207315 & V207316 & V207317 & V207318 & V207319 & V207320 & V207321 & V207322 & V207323 & V207324\\\\\n",
       "  & <dbl> & <dbl> & <dbl> & <dbl> & <dbl> & <dbl> & <dbl> & <dbl> & <dbl> & <dbl> & ⋯ & <dbl> & <dbl> & <dbl> & <dbl> & <dbl> & <dbl> & <dbl> & <dbl> & <dbl> & <dbl>\\\\\n",
       "\\hline\n",
       "\t1 & 0 & 0 & 0 & 0 & 0 & 0 & 0 & 0 & 0 & 0 & ⋯ & 0 & 0 & 0 & 0 & 0 & 0 & 0 & 0 & 0 & 0\\\\\n",
       "\t2 & 1 & 0 & 0 & 0 & 0 & 0 & 0 & 0 & 0 & 0 & ⋯ & 0 & 0 & 0 & 1 & 0 & 0 & 0 & 1 & 0 & 0\\\\\n",
       "\t3 & 1 & 0 & 1 & 1 & 1 & 0 & 0 & 0 & 0 & 1 & ⋯ & 0 & 0 & 0 & 0 & 1 & 0 & 0 & 2 & 0 & 2\\\\\n",
       "\t4 & 0 & 0 & 0 & 1 & 0 & 0 & 0 & 0 & 0 & 0 & ⋯ & 0 & 0 & 0 & 0 & 0 & 0 & 0 & 0 & 0 & 0\\\\\n",
       "\t5 & 0 & 0 & 1 & 0 & 0 & 0 & 0 & 1 & 0 & 0 & ⋯ & 0 & 0 & 0 & 0 & 0 & 0 & 0 & 0 & 0 & 0\\\\\n",
       "\t6 & 0 & 0 & 0 & 0 & 0 & 0 & 0 & 0 & 0 & 0 & ⋯ & 0 & 0 & 0 & 0 & 0 & 0 & 0 & 0 & 0 & 0\\\\\n",
       "\\end{tabular}\n"
      ],
      "text/markdown": [
       "\n",
       "A data.frame: 6 × 207324\n",
       "\n",
       "| <!--/--> | V1 &lt;dbl&gt; | V2 &lt;dbl&gt; | V3 &lt;dbl&gt; | V4 &lt;dbl&gt; | V5 &lt;dbl&gt; | V6 &lt;dbl&gt; | V7 &lt;dbl&gt; | V8 &lt;dbl&gt; | V9 &lt;dbl&gt; | V10 &lt;dbl&gt; | ⋯ ⋯ | V207315 &lt;dbl&gt; | V207316 &lt;dbl&gt; | V207317 &lt;dbl&gt; | V207318 &lt;dbl&gt; | V207319 &lt;dbl&gt; | V207320 &lt;dbl&gt; | V207321 &lt;dbl&gt; | V207322 &lt;dbl&gt; | V207323 &lt;dbl&gt; | V207324 &lt;dbl&gt; |\n",
       "|---|---|---|---|---|---|---|---|---|---|---|---|---|---|---|---|---|---|---|---|---|---|\n",
       "| 1 | 0 | 0 | 0 | 0 | 0 | 0 | 0 | 0 | 0 | 0 | ⋯ | 0 | 0 | 0 | 0 | 0 | 0 | 0 | 0 | 0 | 0 |\n",
       "| 2 | 1 | 0 | 0 | 0 | 0 | 0 | 0 | 0 | 0 | 0 | ⋯ | 0 | 0 | 0 | 1 | 0 | 0 | 0 | 1 | 0 | 0 |\n",
       "| 3 | 1 | 0 | 1 | 1 | 1 | 0 | 0 | 0 | 0 | 1 | ⋯ | 0 | 0 | 0 | 0 | 1 | 0 | 0 | 2 | 0 | 2 |\n",
       "| 4 | 0 | 0 | 0 | 1 | 0 | 0 | 0 | 0 | 0 | 0 | ⋯ | 0 | 0 | 0 | 0 | 0 | 0 | 0 | 0 | 0 | 0 |\n",
       "| 5 | 0 | 0 | 1 | 0 | 0 | 0 | 0 | 1 | 0 | 0 | ⋯ | 0 | 0 | 0 | 0 | 0 | 0 | 0 | 0 | 0 | 0 |\n",
       "| 6 | 0 | 0 | 0 | 0 | 0 | 0 | 0 | 0 | 0 | 0 | ⋯ | 0 | 0 | 0 | 0 | 0 | 0 | 0 | 0 | 0 | 0 |\n",
       "\n"
      ],
      "text/plain": [
       "  V1 V2 V3 V4 V5 V6 V7 V8 V9 V10 ⋯ V207315 V207316 V207317 V207318 V207319\n",
       "1 0  0  0  0  0  0  0  0  0  0   ⋯ 0       0       0       0       0      \n",
       "2 1  0  0  0  0  0  0  0  0  0   ⋯ 0       0       0       1       0      \n",
       "3 1  0  1  1  1  0  0  0  0  1   ⋯ 0       0       0       0       1      \n",
       "4 0  0  0  1  0  0  0  0  0  0   ⋯ 0       0       0       0       0      \n",
       "5 0  0  1  0  0  0  0  1  0  0   ⋯ 0       0       0       0       0      \n",
       "6 0  0  0  0  0  0  0  0  0  0   ⋯ 0       0       0       0       0      \n",
       "  V207320 V207321 V207322 V207323 V207324\n",
       "1 0       0       0       0       0      \n",
       "2 0       0       1       0       0      \n",
       "3 0       0       2       0       2      \n",
       "4 0       0       0       0       0      \n",
       "5 0       0       0       0       0      \n",
       "6 0       0       0       0       0      "
      ]
     },
     "metadata": {},
     "output_type": "display_data"
    }
   ],
   "source": [
    "# convert expression matrix from matrix to data frame format\n",
    "expression.matrix <- as.data.frame(expression.matrix)\n",
    "head(expression.matrix)"
   ]
  },
  {
   "cell_type": "code",
   "execution_count": 4,
   "id": "380d26fd-dfa8-4c6d-aff2-9007e70dea80",
   "metadata": {},
   "outputs": [
    {
     "data": {
      "text/html": [
       "<table class=\"dataframe\">\n",
       "<caption>A data.frame: 6 × 207324</caption>\n",
       "<thead>\n",
       "\t<tr><th></th><th scope=col>AAACCTGAGAGGTACC-1_1A_1_SI-GA-E2</th><th scope=col>AAACCTGAGTCAATAG-1_1A_1_SI-GA-E2</th><th scope=col>AAACCTGCAAACAACA-1_1A_1_SI-GA-E2</th><th scope=col>AAACCTGCACTTCTGC-1_1A_1_SI-GA-E2</th><th scope=col>AAACCTGCATGTAGTC-1_1A_1_SI-GA-E2</th><th scope=col>AAACCTGGTAGCGCAA-1_1A_1_SI-GA-E2</th><th scope=col>AAACCTGGTAGGGACT-1_1A_1_SI-GA-E2</th><th scope=col>AAACCTGGTATATGAG-1_1A_1_SI-GA-E2</th><th scope=col>AAACCTGGTCAAAGCG-1_1A_1_SI-GA-E2</th><th scope=col>AAACCTGGTCTTCAAG-1_1A_1_SI-GA-E2</th><th scope=col>⋯</th><th scope=col>TTTGTCACAACGATGG-1_2B_8_SI-GA-H9</th><th scope=col>TTTGTCACACTTCTGC-1_2B_8_SI-GA-H9</th><th scope=col>TTTGTCACAGATAATG-1_2B_8_SI-GA-H9</th><th scope=col>TTTGTCACAGCCAGAA-1_2B_8_SI-GA-H9</th><th scope=col>TTTGTCACATTAGGCT-1_2B_8_SI-GA-H9</th><th scope=col>TTTGTCAGTACCTACA-1_2B_8_SI-GA-H9</th><th scope=col>TTTGTCAGTATCACCA-1_2B_8_SI-GA-H9</th><th scope=col>TTTGTCAGTTCAGACT-1_2B_8_SI-GA-H9</th><th scope=col>TTTGTCAGTTCTGTTT-1_2B_8_SI-GA-H9</th><th scope=col>TTTGTCATCAAAGTAG-1_2B_8_SI-GA-H9</th></tr>\n",
       "\t<tr><th></th><th scope=col>&lt;dbl&gt;</th><th scope=col>&lt;dbl&gt;</th><th scope=col>&lt;dbl&gt;</th><th scope=col>&lt;dbl&gt;</th><th scope=col>&lt;dbl&gt;</th><th scope=col>&lt;dbl&gt;</th><th scope=col>&lt;dbl&gt;</th><th scope=col>&lt;dbl&gt;</th><th scope=col>&lt;dbl&gt;</th><th scope=col>&lt;dbl&gt;</th><th scope=col>⋯</th><th scope=col>&lt;dbl&gt;</th><th scope=col>&lt;dbl&gt;</th><th scope=col>&lt;dbl&gt;</th><th scope=col>&lt;dbl&gt;</th><th scope=col>&lt;dbl&gt;</th><th scope=col>&lt;dbl&gt;</th><th scope=col>&lt;dbl&gt;</th><th scope=col>&lt;dbl&gt;</th><th scope=col>&lt;dbl&gt;</th><th scope=col>&lt;dbl&gt;</th></tr>\n",
       "</thead>\n",
       "<tbody>\n",
       "\t<tr><th scope=row>1</th><td>0</td><td>0</td><td>0</td><td>0</td><td>0</td><td>0</td><td>0</td><td>0</td><td>0</td><td>0</td><td>⋯</td><td>0</td><td>0</td><td>0</td><td>0</td><td>0</td><td>0</td><td>0</td><td>0</td><td>0</td><td>0</td></tr>\n",
       "\t<tr><th scope=row>2</th><td>1</td><td>0</td><td>0</td><td>0</td><td>0</td><td>0</td><td>0</td><td>0</td><td>0</td><td>0</td><td>⋯</td><td>0</td><td>0</td><td>0</td><td>1</td><td>0</td><td>0</td><td>0</td><td>1</td><td>0</td><td>0</td></tr>\n",
       "\t<tr><th scope=row>3</th><td>1</td><td>0</td><td>1</td><td>1</td><td>1</td><td>0</td><td>0</td><td>0</td><td>0</td><td>1</td><td>⋯</td><td>0</td><td>0</td><td>0</td><td>0</td><td>1</td><td>0</td><td>0</td><td>2</td><td>0</td><td>2</td></tr>\n",
       "\t<tr><th scope=row>4</th><td>0</td><td>0</td><td>0</td><td>1</td><td>0</td><td>0</td><td>0</td><td>0</td><td>0</td><td>0</td><td>⋯</td><td>0</td><td>0</td><td>0</td><td>0</td><td>0</td><td>0</td><td>0</td><td>0</td><td>0</td><td>0</td></tr>\n",
       "\t<tr><th scope=row>5</th><td>0</td><td>0</td><td>1</td><td>0</td><td>0</td><td>0</td><td>0</td><td>1</td><td>0</td><td>0</td><td>⋯</td><td>0</td><td>0</td><td>0</td><td>0</td><td>0</td><td>0</td><td>0</td><td>0</td><td>0</td><td>0</td></tr>\n",
       "\t<tr><th scope=row>6</th><td>0</td><td>0</td><td>0</td><td>0</td><td>0</td><td>0</td><td>0</td><td>0</td><td>0</td><td>0</td><td>⋯</td><td>0</td><td>0</td><td>0</td><td>0</td><td>0</td><td>0</td><td>0</td><td>0</td><td>0</td><td>0</td></tr>\n",
       "</tbody>\n",
       "</table>\n"
      ],
      "text/latex": [
       "A data.frame: 6 × 207324\n",
       "\\begin{tabular}{r|lllllllllllllllllllll}\n",
       "  & AAACCTGAGAGGTACC-1\\_1A\\_1\\_SI-GA-E2 & AAACCTGAGTCAATAG-1\\_1A\\_1\\_SI-GA-E2 & AAACCTGCAAACAACA-1\\_1A\\_1\\_SI-GA-E2 & AAACCTGCACTTCTGC-1\\_1A\\_1\\_SI-GA-E2 & AAACCTGCATGTAGTC-1\\_1A\\_1\\_SI-GA-E2 & AAACCTGGTAGCGCAA-1\\_1A\\_1\\_SI-GA-E2 & AAACCTGGTAGGGACT-1\\_1A\\_1\\_SI-GA-E2 & AAACCTGGTATATGAG-1\\_1A\\_1\\_SI-GA-E2 & AAACCTGGTCAAAGCG-1\\_1A\\_1\\_SI-GA-E2 & AAACCTGGTCTTCAAG-1\\_1A\\_1\\_SI-GA-E2 & ⋯ & TTTGTCACAACGATGG-1\\_2B\\_8\\_SI-GA-H9 & TTTGTCACACTTCTGC-1\\_2B\\_8\\_SI-GA-H9 & TTTGTCACAGATAATG-1\\_2B\\_8\\_SI-GA-H9 & TTTGTCACAGCCAGAA-1\\_2B\\_8\\_SI-GA-H9 & TTTGTCACATTAGGCT-1\\_2B\\_8\\_SI-GA-H9 & TTTGTCAGTACCTACA-1\\_2B\\_8\\_SI-GA-H9 & TTTGTCAGTATCACCA-1\\_2B\\_8\\_SI-GA-H9 & TTTGTCAGTTCAGACT-1\\_2B\\_8\\_SI-GA-H9 & TTTGTCAGTTCTGTTT-1\\_2B\\_8\\_SI-GA-H9 & TTTGTCATCAAAGTAG-1\\_2B\\_8\\_SI-GA-H9\\\\\n",
       "  & <dbl> & <dbl> & <dbl> & <dbl> & <dbl> & <dbl> & <dbl> & <dbl> & <dbl> & <dbl> & ⋯ & <dbl> & <dbl> & <dbl> & <dbl> & <dbl> & <dbl> & <dbl> & <dbl> & <dbl> & <dbl>\\\\\n",
       "\\hline\n",
       "\t1 & 0 & 0 & 0 & 0 & 0 & 0 & 0 & 0 & 0 & 0 & ⋯ & 0 & 0 & 0 & 0 & 0 & 0 & 0 & 0 & 0 & 0\\\\\n",
       "\t2 & 1 & 0 & 0 & 0 & 0 & 0 & 0 & 0 & 0 & 0 & ⋯ & 0 & 0 & 0 & 1 & 0 & 0 & 0 & 1 & 0 & 0\\\\\n",
       "\t3 & 1 & 0 & 1 & 1 & 1 & 0 & 0 & 0 & 0 & 1 & ⋯ & 0 & 0 & 0 & 0 & 1 & 0 & 0 & 2 & 0 & 2\\\\\n",
       "\t4 & 0 & 0 & 0 & 1 & 0 & 0 & 0 & 0 & 0 & 0 & ⋯ & 0 & 0 & 0 & 0 & 0 & 0 & 0 & 0 & 0 & 0\\\\\n",
       "\t5 & 0 & 0 & 1 & 0 & 0 & 0 & 0 & 1 & 0 & 0 & ⋯ & 0 & 0 & 0 & 0 & 0 & 0 & 0 & 0 & 0 & 0\\\\\n",
       "\t6 & 0 & 0 & 0 & 0 & 0 & 0 & 0 & 0 & 0 & 0 & ⋯ & 0 & 0 & 0 & 0 & 0 & 0 & 0 & 0 & 0 & 0\\\\\n",
       "\\end{tabular}\n"
      ],
      "text/markdown": [
       "\n",
       "A data.frame: 6 × 207324\n",
       "\n",
       "| <!--/--> | AAACCTGAGAGGTACC-1_1A_1_SI-GA-E2 &lt;dbl&gt; | AAACCTGAGTCAATAG-1_1A_1_SI-GA-E2 &lt;dbl&gt; | AAACCTGCAAACAACA-1_1A_1_SI-GA-E2 &lt;dbl&gt; | AAACCTGCACTTCTGC-1_1A_1_SI-GA-E2 &lt;dbl&gt; | AAACCTGCATGTAGTC-1_1A_1_SI-GA-E2 &lt;dbl&gt; | AAACCTGGTAGCGCAA-1_1A_1_SI-GA-E2 &lt;dbl&gt; | AAACCTGGTAGGGACT-1_1A_1_SI-GA-E2 &lt;dbl&gt; | AAACCTGGTATATGAG-1_1A_1_SI-GA-E2 &lt;dbl&gt; | AAACCTGGTCAAAGCG-1_1A_1_SI-GA-E2 &lt;dbl&gt; | AAACCTGGTCTTCAAG-1_1A_1_SI-GA-E2 &lt;dbl&gt; | ⋯ ⋯ | TTTGTCACAACGATGG-1_2B_8_SI-GA-H9 &lt;dbl&gt; | TTTGTCACACTTCTGC-1_2B_8_SI-GA-H9 &lt;dbl&gt; | TTTGTCACAGATAATG-1_2B_8_SI-GA-H9 &lt;dbl&gt; | TTTGTCACAGCCAGAA-1_2B_8_SI-GA-H9 &lt;dbl&gt; | TTTGTCACATTAGGCT-1_2B_8_SI-GA-H9 &lt;dbl&gt; | TTTGTCAGTACCTACA-1_2B_8_SI-GA-H9 &lt;dbl&gt; | TTTGTCAGTATCACCA-1_2B_8_SI-GA-H9 &lt;dbl&gt; | TTTGTCAGTTCAGACT-1_2B_8_SI-GA-H9 &lt;dbl&gt; | TTTGTCAGTTCTGTTT-1_2B_8_SI-GA-H9 &lt;dbl&gt; | TTTGTCATCAAAGTAG-1_2B_8_SI-GA-H9 &lt;dbl&gt; |\n",
       "|---|---|---|---|---|---|---|---|---|---|---|---|---|---|---|---|---|---|---|---|---|---|\n",
       "| 1 | 0 | 0 | 0 | 0 | 0 | 0 | 0 | 0 | 0 | 0 | ⋯ | 0 | 0 | 0 | 0 | 0 | 0 | 0 | 0 | 0 | 0 |\n",
       "| 2 | 1 | 0 | 0 | 0 | 0 | 0 | 0 | 0 | 0 | 0 | ⋯ | 0 | 0 | 0 | 1 | 0 | 0 | 0 | 1 | 0 | 0 |\n",
       "| 3 | 1 | 0 | 1 | 1 | 1 | 0 | 0 | 0 | 0 | 1 | ⋯ | 0 | 0 | 0 | 0 | 1 | 0 | 0 | 2 | 0 | 2 |\n",
       "| 4 | 0 | 0 | 0 | 1 | 0 | 0 | 0 | 0 | 0 | 0 | ⋯ | 0 | 0 | 0 | 0 | 0 | 0 | 0 | 0 | 0 | 0 |\n",
       "| 5 | 0 | 0 | 1 | 0 | 0 | 0 | 0 | 1 | 0 | 0 | ⋯ | 0 | 0 | 0 | 0 | 0 | 0 | 0 | 0 | 0 | 0 |\n",
       "| 6 | 0 | 0 | 0 | 0 | 0 | 0 | 0 | 0 | 0 | 0 | ⋯ | 0 | 0 | 0 | 0 | 0 | 0 | 0 | 0 | 0 | 0 |\n",
       "\n"
      ],
      "text/plain": [
       "  AAACCTGAGAGGTACC-1_1A_1_SI-GA-E2 AAACCTGAGTCAATAG-1_1A_1_SI-GA-E2\n",
       "1 0                                0                               \n",
       "2 1                                0                               \n",
       "3 1                                0                               \n",
       "4 0                                0                               \n",
       "5 0                                0                               \n",
       "6 0                                0                               \n",
       "  AAACCTGCAAACAACA-1_1A_1_SI-GA-E2 AAACCTGCACTTCTGC-1_1A_1_SI-GA-E2\n",
       "1 0                                0                               \n",
       "2 0                                0                               \n",
       "3 1                                1                               \n",
       "4 0                                1                               \n",
       "5 1                                0                               \n",
       "6 0                                0                               \n",
       "  AAACCTGCATGTAGTC-1_1A_1_SI-GA-E2 AAACCTGGTAGCGCAA-1_1A_1_SI-GA-E2\n",
       "1 0                                0                               \n",
       "2 0                                0                               \n",
       "3 1                                0                               \n",
       "4 0                                0                               \n",
       "5 0                                0                               \n",
       "6 0                                0                               \n",
       "  AAACCTGGTAGGGACT-1_1A_1_SI-GA-E2 AAACCTGGTATATGAG-1_1A_1_SI-GA-E2\n",
       "1 0                                0                               \n",
       "2 0                                0                               \n",
       "3 0                                0                               \n",
       "4 0                                0                               \n",
       "5 0                                1                               \n",
       "6 0                                0                               \n",
       "  AAACCTGGTCAAAGCG-1_1A_1_SI-GA-E2 AAACCTGGTCTTCAAG-1_1A_1_SI-GA-E2 ⋯\n",
       "1 0                                0                                ⋯\n",
       "2 0                                0                                ⋯\n",
       "3 0                                1                                ⋯\n",
       "4 0                                0                                ⋯\n",
       "5 0                                0                                ⋯\n",
       "6 0                                0                                ⋯\n",
       "  TTTGTCACAACGATGG-1_2B_8_SI-GA-H9 TTTGTCACACTTCTGC-1_2B_8_SI-GA-H9\n",
       "1 0                                0                               \n",
       "2 0                                0                               \n",
       "3 0                                0                               \n",
       "4 0                                0                               \n",
       "5 0                                0                               \n",
       "6 0                                0                               \n",
       "  TTTGTCACAGATAATG-1_2B_8_SI-GA-H9 TTTGTCACAGCCAGAA-1_2B_8_SI-GA-H9\n",
       "1 0                                0                               \n",
       "2 0                                1                               \n",
       "3 0                                0                               \n",
       "4 0                                0                               \n",
       "5 0                                0                               \n",
       "6 0                                0                               \n",
       "  TTTGTCACATTAGGCT-1_2B_8_SI-GA-H9 TTTGTCAGTACCTACA-1_2B_8_SI-GA-H9\n",
       "1 0                                0                               \n",
       "2 0                                0                               \n",
       "3 1                                0                               \n",
       "4 0                                0                               \n",
       "5 0                                0                               \n",
       "6 0                                0                               \n",
       "  TTTGTCAGTATCACCA-1_2B_8_SI-GA-H9 TTTGTCAGTTCAGACT-1_2B_8_SI-GA-H9\n",
       "1 0                                0                               \n",
       "2 0                                1                               \n",
       "3 0                                2                               \n",
       "4 0                                0                               \n",
       "5 0                                0                               \n",
       "6 0                                0                               \n",
       "  TTTGTCAGTTCTGTTT-1_2B_8_SI-GA-H9 TTTGTCATCAAAGTAG-1_2B_8_SI-GA-H9\n",
       "1 0                                0                               \n",
       "2 0                                0                               \n",
       "3 0                                2                               \n",
       "4 0                                0                               \n",
       "5 0                                0                               \n",
       "6 0                                0                               "
      ]
     },
     "metadata": {},
     "output_type": "display_data"
    }
   ],
   "source": [
    "# read in column names and add to expression matrix\n",
    "cell.barcodes <- read.delim('/iblm/netapp/data1/external/Gasperini2019/suppl/GSE120861_at_scale_screen.cells.txt', header = FALSE)\n",
    "cell.barcodes <- cell.barcodes$V1\n",
    "colnames(expression.matrix) <- cell.barcodes\n",
    "head(expression.matrix)"
   ]
  },
  {
   "cell_type": "code",
   "execution_count": 5,
   "id": "f3054daf-1707-497a-8f79-32d6bc828dde",
   "metadata": {},
   "outputs": [
    {
     "data": {
      "text/html": [
       "<table class=\"dataframe\">\n",
       "<caption>A data.frame: 6 × 207324</caption>\n",
       "<thead>\n",
       "\t<tr><th></th><th scope=col>AAACCTGAGAGGTACC-1_1A_1_SI-GA-E2</th><th scope=col>AAACCTGAGTCAATAG-1_1A_1_SI-GA-E2</th><th scope=col>AAACCTGCAAACAACA-1_1A_1_SI-GA-E2</th><th scope=col>AAACCTGCACTTCTGC-1_1A_1_SI-GA-E2</th><th scope=col>AAACCTGCATGTAGTC-1_1A_1_SI-GA-E2</th><th scope=col>AAACCTGGTAGCGCAA-1_1A_1_SI-GA-E2</th><th scope=col>AAACCTGGTAGGGACT-1_1A_1_SI-GA-E2</th><th scope=col>AAACCTGGTATATGAG-1_1A_1_SI-GA-E2</th><th scope=col>AAACCTGGTCAAAGCG-1_1A_1_SI-GA-E2</th><th scope=col>AAACCTGGTCTTCAAG-1_1A_1_SI-GA-E2</th><th scope=col>⋯</th><th scope=col>TTTGTCACAACGATGG-1_2B_8_SI-GA-H9</th><th scope=col>TTTGTCACACTTCTGC-1_2B_8_SI-GA-H9</th><th scope=col>TTTGTCACAGATAATG-1_2B_8_SI-GA-H9</th><th scope=col>TTTGTCACAGCCAGAA-1_2B_8_SI-GA-H9</th><th scope=col>TTTGTCACATTAGGCT-1_2B_8_SI-GA-H9</th><th scope=col>TTTGTCAGTACCTACA-1_2B_8_SI-GA-H9</th><th scope=col>TTTGTCAGTATCACCA-1_2B_8_SI-GA-H9</th><th scope=col>TTTGTCAGTTCAGACT-1_2B_8_SI-GA-H9</th><th scope=col>TTTGTCAGTTCTGTTT-1_2B_8_SI-GA-H9</th><th scope=col>TTTGTCATCAAAGTAG-1_2B_8_SI-GA-H9</th></tr>\n",
       "\t<tr><th></th><th scope=col>&lt;dbl&gt;</th><th scope=col>&lt;dbl&gt;</th><th scope=col>&lt;dbl&gt;</th><th scope=col>&lt;dbl&gt;</th><th scope=col>&lt;dbl&gt;</th><th scope=col>&lt;dbl&gt;</th><th scope=col>&lt;dbl&gt;</th><th scope=col>&lt;dbl&gt;</th><th scope=col>&lt;dbl&gt;</th><th scope=col>&lt;dbl&gt;</th><th scope=col>⋯</th><th scope=col>&lt;dbl&gt;</th><th scope=col>&lt;dbl&gt;</th><th scope=col>&lt;dbl&gt;</th><th scope=col>&lt;dbl&gt;</th><th scope=col>&lt;dbl&gt;</th><th scope=col>&lt;dbl&gt;</th><th scope=col>&lt;dbl&gt;</th><th scope=col>&lt;dbl&gt;</th><th scope=col>&lt;dbl&gt;</th><th scope=col>&lt;dbl&gt;</th></tr>\n",
       "</thead>\n",
       "<tbody>\n",
       "\t<tr><th scope=row>ENSG00000238009</th><td>0</td><td>0</td><td>0</td><td>0</td><td>0</td><td>0</td><td>0</td><td>0</td><td>0</td><td>0</td><td>⋯</td><td>0</td><td>0</td><td>0</td><td>0</td><td>0</td><td>0</td><td>0</td><td>0</td><td>0</td><td>0</td></tr>\n",
       "\t<tr><th scope=row>ENSG00000237683</th><td>1</td><td>0</td><td>0</td><td>0</td><td>0</td><td>0</td><td>0</td><td>0</td><td>0</td><td>0</td><td>⋯</td><td>0</td><td>0</td><td>0</td><td>1</td><td>0</td><td>0</td><td>0</td><td>1</td><td>0</td><td>0</td></tr>\n",
       "\t<tr><th scope=row>ENSG00000228463</th><td>1</td><td>0</td><td>1</td><td>1</td><td>1</td><td>0</td><td>0</td><td>0</td><td>0</td><td>1</td><td>⋯</td><td>0</td><td>0</td><td>0</td><td>0</td><td>1</td><td>0</td><td>0</td><td>2</td><td>0</td><td>2</td></tr>\n",
       "\t<tr><th scope=row>ENSG00000237094</th><td>0</td><td>0</td><td>0</td><td>1</td><td>0</td><td>0</td><td>0</td><td>0</td><td>0</td><td>0</td><td>⋯</td><td>0</td><td>0</td><td>0</td><td>0</td><td>0</td><td>0</td><td>0</td><td>0</td><td>0</td><td>0</td></tr>\n",
       "\t<tr><th scope=row>ENSG00000235373</th><td>0</td><td>0</td><td>1</td><td>0</td><td>0</td><td>0</td><td>0</td><td>1</td><td>0</td><td>0</td><td>⋯</td><td>0</td><td>0</td><td>0</td><td>0</td><td>0</td><td>0</td><td>0</td><td>0</td><td>0</td><td>0</td></tr>\n",
       "\t<tr><th scope=row>ENSG00000228327</th><td>0</td><td>0</td><td>0</td><td>0</td><td>0</td><td>0</td><td>0</td><td>0</td><td>0</td><td>0</td><td>⋯</td><td>0</td><td>0</td><td>0</td><td>0</td><td>0</td><td>0</td><td>0</td><td>0</td><td>0</td><td>0</td></tr>\n",
       "</tbody>\n",
       "</table>\n"
      ],
      "text/latex": [
       "A data.frame: 6 × 207324\n",
       "\\begin{tabular}{r|lllllllllllllllllllll}\n",
       "  & AAACCTGAGAGGTACC-1\\_1A\\_1\\_SI-GA-E2 & AAACCTGAGTCAATAG-1\\_1A\\_1\\_SI-GA-E2 & AAACCTGCAAACAACA-1\\_1A\\_1\\_SI-GA-E2 & AAACCTGCACTTCTGC-1\\_1A\\_1\\_SI-GA-E2 & AAACCTGCATGTAGTC-1\\_1A\\_1\\_SI-GA-E2 & AAACCTGGTAGCGCAA-1\\_1A\\_1\\_SI-GA-E2 & AAACCTGGTAGGGACT-1\\_1A\\_1\\_SI-GA-E2 & AAACCTGGTATATGAG-1\\_1A\\_1\\_SI-GA-E2 & AAACCTGGTCAAAGCG-1\\_1A\\_1\\_SI-GA-E2 & AAACCTGGTCTTCAAG-1\\_1A\\_1\\_SI-GA-E2 & ⋯ & TTTGTCACAACGATGG-1\\_2B\\_8\\_SI-GA-H9 & TTTGTCACACTTCTGC-1\\_2B\\_8\\_SI-GA-H9 & TTTGTCACAGATAATG-1\\_2B\\_8\\_SI-GA-H9 & TTTGTCACAGCCAGAA-1\\_2B\\_8\\_SI-GA-H9 & TTTGTCACATTAGGCT-1\\_2B\\_8\\_SI-GA-H9 & TTTGTCAGTACCTACA-1\\_2B\\_8\\_SI-GA-H9 & TTTGTCAGTATCACCA-1\\_2B\\_8\\_SI-GA-H9 & TTTGTCAGTTCAGACT-1\\_2B\\_8\\_SI-GA-H9 & TTTGTCAGTTCTGTTT-1\\_2B\\_8\\_SI-GA-H9 & TTTGTCATCAAAGTAG-1\\_2B\\_8\\_SI-GA-H9\\\\\n",
       "  & <dbl> & <dbl> & <dbl> & <dbl> & <dbl> & <dbl> & <dbl> & <dbl> & <dbl> & <dbl> & ⋯ & <dbl> & <dbl> & <dbl> & <dbl> & <dbl> & <dbl> & <dbl> & <dbl> & <dbl> & <dbl>\\\\\n",
       "\\hline\n",
       "\tENSG00000238009 & 0 & 0 & 0 & 0 & 0 & 0 & 0 & 0 & 0 & 0 & ⋯ & 0 & 0 & 0 & 0 & 0 & 0 & 0 & 0 & 0 & 0\\\\\n",
       "\tENSG00000237683 & 1 & 0 & 0 & 0 & 0 & 0 & 0 & 0 & 0 & 0 & ⋯ & 0 & 0 & 0 & 1 & 0 & 0 & 0 & 1 & 0 & 0\\\\\n",
       "\tENSG00000228463 & 1 & 0 & 1 & 1 & 1 & 0 & 0 & 0 & 0 & 1 & ⋯ & 0 & 0 & 0 & 0 & 1 & 0 & 0 & 2 & 0 & 2\\\\\n",
       "\tENSG00000237094 & 0 & 0 & 0 & 1 & 0 & 0 & 0 & 0 & 0 & 0 & ⋯ & 0 & 0 & 0 & 0 & 0 & 0 & 0 & 0 & 0 & 0\\\\\n",
       "\tENSG00000235373 & 0 & 0 & 1 & 0 & 0 & 0 & 0 & 1 & 0 & 0 & ⋯ & 0 & 0 & 0 & 0 & 0 & 0 & 0 & 0 & 0 & 0\\\\\n",
       "\tENSG00000228327 & 0 & 0 & 0 & 0 & 0 & 0 & 0 & 0 & 0 & 0 & ⋯ & 0 & 0 & 0 & 0 & 0 & 0 & 0 & 0 & 0 & 0\\\\\n",
       "\\end{tabular}\n"
      ],
      "text/markdown": [
       "\n",
       "A data.frame: 6 × 207324\n",
       "\n",
       "| <!--/--> | AAACCTGAGAGGTACC-1_1A_1_SI-GA-E2 &lt;dbl&gt; | AAACCTGAGTCAATAG-1_1A_1_SI-GA-E2 &lt;dbl&gt; | AAACCTGCAAACAACA-1_1A_1_SI-GA-E2 &lt;dbl&gt; | AAACCTGCACTTCTGC-1_1A_1_SI-GA-E2 &lt;dbl&gt; | AAACCTGCATGTAGTC-1_1A_1_SI-GA-E2 &lt;dbl&gt; | AAACCTGGTAGCGCAA-1_1A_1_SI-GA-E2 &lt;dbl&gt; | AAACCTGGTAGGGACT-1_1A_1_SI-GA-E2 &lt;dbl&gt; | AAACCTGGTATATGAG-1_1A_1_SI-GA-E2 &lt;dbl&gt; | AAACCTGGTCAAAGCG-1_1A_1_SI-GA-E2 &lt;dbl&gt; | AAACCTGGTCTTCAAG-1_1A_1_SI-GA-E2 &lt;dbl&gt; | ⋯ ⋯ | TTTGTCACAACGATGG-1_2B_8_SI-GA-H9 &lt;dbl&gt; | TTTGTCACACTTCTGC-1_2B_8_SI-GA-H9 &lt;dbl&gt; | TTTGTCACAGATAATG-1_2B_8_SI-GA-H9 &lt;dbl&gt; | TTTGTCACAGCCAGAA-1_2B_8_SI-GA-H9 &lt;dbl&gt; | TTTGTCACATTAGGCT-1_2B_8_SI-GA-H9 &lt;dbl&gt; | TTTGTCAGTACCTACA-1_2B_8_SI-GA-H9 &lt;dbl&gt; | TTTGTCAGTATCACCA-1_2B_8_SI-GA-H9 &lt;dbl&gt; | TTTGTCAGTTCAGACT-1_2B_8_SI-GA-H9 &lt;dbl&gt; | TTTGTCAGTTCTGTTT-1_2B_8_SI-GA-H9 &lt;dbl&gt; | TTTGTCATCAAAGTAG-1_2B_8_SI-GA-H9 &lt;dbl&gt; |\n",
       "|---|---|---|---|---|---|---|---|---|---|---|---|---|---|---|---|---|---|---|---|---|---|\n",
       "| ENSG00000238009 | 0 | 0 | 0 | 0 | 0 | 0 | 0 | 0 | 0 | 0 | ⋯ | 0 | 0 | 0 | 0 | 0 | 0 | 0 | 0 | 0 | 0 |\n",
       "| ENSG00000237683 | 1 | 0 | 0 | 0 | 0 | 0 | 0 | 0 | 0 | 0 | ⋯ | 0 | 0 | 0 | 1 | 0 | 0 | 0 | 1 | 0 | 0 |\n",
       "| ENSG00000228463 | 1 | 0 | 1 | 1 | 1 | 0 | 0 | 0 | 0 | 1 | ⋯ | 0 | 0 | 0 | 0 | 1 | 0 | 0 | 2 | 0 | 2 |\n",
       "| ENSG00000237094 | 0 | 0 | 0 | 1 | 0 | 0 | 0 | 0 | 0 | 0 | ⋯ | 0 | 0 | 0 | 0 | 0 | 0 | 0 | 0 | 0 | 0 |\n",
       "| ENSG00000235373 | 0 | 0 | 1 | 0 | 0 | 0 | 0 | 1 | 0 | 0 | ⋯ | 0 | 0 | 0 | 0 | 0 | 0 | 0 | 0 | 0 | 0 |\n",
       "| ENSG00000228327 | 0 | 0 | 0 | 0 | 0 | 0 | 0 | 0 | 0 | 0 | ⋯ | 0 | 0 | 0 | 0 | 0 | 0 | 0 | 0 | 0 | 0 |\n",
       "\n"
      ],
      "text/plain": [
       "                AAACCTGAGAGGTACC-1_1A_1_SI-GA-E2\n",
       "ENSG00000238009 0                               \n",
       "ENSG00000237683 1                               \n",
       "ENSG00000228463 1                               \n",
       "ENSG00000237094 0                               \n",
       "ENSG00000235373 0                               \n",
       "ENSG00000228327 0                               \n",
       "                AAACCTGAGTCAATAG-1_1A_1_SI-GA-E2\n",
       "ENSG00000238009 0                               \n",
       "ENSG00000237683 0                               \n",
       "ENSG00000228463 0                               \n",
       "ENSG00000237094 0                               \n",
       "ENSG00000235373 0                               \n",
       "ENSG00000228327 0                               \n",
       "                AAACCTGCAAACAACA-1_1A_1_SI-GA-E2\n",
       "ENSG00000238009 0                               \n",
       "ENSG00000237683 0                               \n",
       "ENSG00000228463 1                               \n",
       "ENSG00000237094 0                               \n",
       "ENSG00000235373 1                               \n",
       "ENSG00000228327 0                               \n",
       "                AAACCTGCACTTCTGC-1_1A_1_SI-GA-E2\n",
       "ENSG00000238009 0                               \n",
       "ENSG00000237683 0                               \n",
       "ENSG00000228463 1                               \n",
       "ENSG00000237094 1                               \n",
       "ENSG00000235373 0                               \n",
       "ENSG00000228327 0                               \n",
       "                AAACCTGCATGTAGTC-1_1A_1_SI-GA-E2\n",
       "ENSG00000238009 0                               \n",
       "ENSG00000237683 0                               \n",
       "ENSG00000228463 1                               \n",
       "ENSG00000237094 0                               \n",
       "ENSG00000235373 0                               \n",
       "ENSG00000228327 0                               \n",
       "                AAACCTGGTAGCGCAA-1_1A_1_SI-GA-E2\n",
       "ENSG00000238009 0                               \n",
       "ENSG00000237683 0                               \n",
       "ENSG00000228463 0                               \n",
       "ENSG00000237094 0                               \n",
       "ENSG00000235373 0                               \n",
       "ENSG00000228327 0                               \n",
       "                AAACCTGGTAGGGACT-1_1A_1_SI-GA-E2\n",
       "ENSG00000238009 0                               \n",
       "ENSG00000237683 0                               \n",
       "ENSG00000228463 0                               \n",
       "ENSG00000237094 0                               \n",
       "ENSG00000235373 0                               \n",
       "ENSG00000228327 0                               \n",
       "                AAACCTGGTATATGAG-1_1A_1_SI-GA-E2\n",
       "ENSG00000238009 0                               \n",
       "ENSG00000237683 0                               \n",
       "ENSG00000228463 0                               \n",
       "ENSG00000237094 0                               \n",
       "ENSG00000235373 1                               \n",
       "ENSG00000228327 0                               \n",
       "                AAACCTGGTCAAAGCG-1_1A_1_SI-GA-E2\n",
       "ENSG00000238009 0                               \n",
       "ENSG00000237683 0                               \n",
       "ENSG00000228463 0                               \n",
       "ENSG00000237094 0                               \n",
       "ENSG00000235373 0                               \n",
       "ENSG00000228327 0                               \n",
       "                AAACCTGGTCTTCAAG-1_1A_1_SI-GA-E2 ⋯\n",
       "ENSG00000238009 0                                ⋯\n",
       "ENSG00000237683 0                                ⋯\n",
       "ENSG00000228463 1                                ⋯\n",
       "ENSG00000237094 0                                ⋯\n",
       "ENSG00000235373 0                                ⋯\n",
       "ENSG00000228327 0                                ⋯\n",
       "                TTTGTCACAACGATGG-1_2B_8_SI-GA-H9\n",
       "ENSG00000238009 0                               \n",
       "ENSG00000237683 0                               \n",
       "ENSG00000228463 0                               \n",
       "ENSG00000237094 0                               \n",
       "ENSG00000235373 0                               \n",
       "ENSG00000228327 0                               \n",
       "                TTTGTCACACTTCTGC-1_2B_8_SI-GA-H9\n",
       "ENSG00000238009 0                               \n",
       "ENSG00000237683 0                               \n",
       "ENSG00000228463 0                               \n",
       "ENSG00000237094 0                               \n",
       "ENSG00000235373 0                               \n",
       "ENSG00000228327 0                               \n",
       "                TTTGTCACAGATAATG-1_2B_8_SI-GA-H9\n",
       "ENSG00000238009 0                               \n",
       "ENSG00000237683 0                               \n",
       "ENSG00000228463 0                               \n",
       "ENSG00000237094 0                               \n",
       "ENSG00000235373 0                               \n",
       "ENSG00000228327 0                               \n",
       "                TTTGTCACAGCCAGAA-1_2B_8_SI-GA-H9\n",
       "ENSG00000238009 0                               \n",
       "ENSG00000237683 1                               \n",
       "ENSG00000228463 0                               \n",
       "ENSG00000237094 0                               \n",
       "ENSG00000235373 0                               \n",
       "ENSG00000228327 0                               \n",
       "                TTTGTCACATTAGGCT-1_2B_8_SI-GA-H9\n",
       "ENSG00000238009 0                               \n",
       "ENSG00000237683 0                               \n",
       "ENSG00000228463 1                               \n",
       "ENSG00000237094 0                               \n",
       "ENSG00000235373 0                               \n",
       "ENSG00000228327 0                               \n",
       "                TTTGTCAGTACCTACA-1_2B_8_SI-GA-H9\n",
       "ENSG00000238009 0                               \n",
       "ENSG00000237683 0                               \n",
       "ENSG00000228463 0                               \n",
       "ENSG00000237094 0                               \n",
       "ENSG00000235373 0                               \n",
       "ENSG00000228327 0                               \n",
       "                TTTGTCAGTATCACCA-1_2B_8_SI-GA-H9\n",
       "ENSG00000238009 0                               \n",
       "ENSG00000237683 0                               \n",
       "ENSG00000228463 0                               \n",
       "ENSG00000237094 0                               \n",
       "ENSG00000235373 0                               \n",
       "ENSG00000228327 0                               \n",
       "                TTTGTCAGTTCAGACT-1_2B_8_SI-GA-H9\n",
       "ENSG00000238009 0                               \n",
       "ENSG00000237683 1                               \n",
       "ENSG00000228463 2                               \n",
       "ENSG00000237094 0                               \n",
       "ENSG00000235373 0                               \n",
       "ENSG00000228327 0                               \n",
       "                TTTGTCAGTTCTGTTT-1_2B_8_SI-GA-H9\n",
       "ENSG00000238009 0                               \n",
       "ENSG00000237683 0                               \n",
       "ENSG00000228463 0                               \n",
       "ENSG00000237094 0                               \n",
       "ENSG00000235373 0                               \n",
       "ENSG00000228327 0                               \n",
       "                TTTGTCATCAAAGTAG-1_2B_8_SI-GA-H9\n",
       "ENSG00000238009 0                               \n",
       "ENSG00000237683 0                               \n",
       "ENSG00000228463 2                               \n",
       "ENSG00000237094 0                               \n",
       "ENSG00000235373 0                               \n",
       "ENSG00000228327 0                               "
      ]
     },
     "metadata": {},
     "output_type": "display_data"
    }
   ],
   "source": [
    "# read in row names and add to expression matrix\n",
    "genes <- read.delim('/iblm/netapp/data1/external/Gasperini2019/suppl/GSE120861_at_scale_screen.genes.txt', header = FALSE)\n",
    "genes <- genes$V1\n",
    "rownames(expression.matrix) <- genes\n",
    "head(expression.matrix)"
   ]
  },
  {
   "cell_type": "code",
   "execution_count": 6,
   "id": "0a27edc0-1e91-49bf-b411-e32f29ec209e",
   "metadata": {},
   "outputs": [
    {
     "data": {
      "text/plain": [
       "An object of class Seurat \n",
       "13135 features across 207324 samples within 1 assay \n",
       "Active assay: RNA (13135 features, 0 variable features)"
      ]
     },
     "metadata": {},
     "output_type": "display_data"
    }
   ],
   "source": [
    "gene.expression <- CreateSeuratObject(counts = expression.matrix)\n",
    "gene.expression"
   ]
  },
  {
   "cell_type": "code",
   "execution_count": 7,
   "id": "6f674a6b-57f8-4368-82c2-16e75ae7b70b",
   "metadata": {},
   "outputs": [
    {
     "data": {
      "text/plain": [
       "An object of class Seurat \n",
       "13135 features across 207324 samples within 1 assay \n",
       "Active assay: RNA (13135 features, 0 variable features)"
      ]
     },
     "metadata": {},
     "output_type": "display_data"
    }
   ],
   "source": [
    "gene.expression <- NormalizeData(gene.expression)\n",
    "gene.expression"
   ]
  },
  {
   "cell_type": "code",
   "execution_count": 8,
   "id": "481cf841-60bd-4d63-9258-381701196e66",
   "metadata": {},
   "outputs": [
    {
     "data": {
      "text/plain": [
       "An object of class Seurat \n",
       "13135 features across 207324 samples within 1 assay \n",
       "Active assay: RNA (13135 features, 2000 variable features)"
      ]
     },
     "metadata": {},
     "output_type": "display_data"
    }
   ],
   "source": [
    "gene.expression <- FindVariableFeatures(gene.expression, selection.method  = \"vst\")\n",
    "gene.expression"
   ]
  },
  {
   "cell_type": "code",
   "execution_count": 9,
   "id": "fb0f9e8b-2df9-4db9-a03c-bd2b7fb137e1",
   "metadata": {},
   "outputs": [
    {
     "name": "stderr",
     "output_type": "stream",
     "text": [
      "Centering and scaling data matrix\n",
      "\n"
     ]
    },
    {
     "data": {
      "text/plain": [
       "An object of class Seurat \n",
       "13135 features across 207324 samples within 1 assay \n",
       "Active assay: RNA (13135 features, 2000 variable features)"
      ]
     },
     "metadata": {},
     "output_type": "display_data"
    }
   ],
   "source": [
    "gene.expression <- ScaleData(gene.expression, features = rownames(gene.expression))\n",
    "gene.expression"
   ]
  },
  {
   "cell_type": "code",
   "execution_count": 10,
   "id": "14176c11-cb29-4e12-ac46-1f6a182d840e",
   "metadata": {},
   "outputs": [
    {
     "name": "stderr",
     "output_type": "stream",
     "text": [
      "PC_ 1 \n",
      "Positive:  ENSG00000239672, ENSG00000132507, ENSG00000116649, ENSG00000106153, ENSG00000115758, ENSG00000169230, ENSG00000099800, ENSG00000099901, ENSG00000117395, ENSG00000175756 \n",
      "Negative:  ENSG00000204387, ENSG00000177410, ENSG00000224032, ENSG00000158578, ENSG00000167996, ENSG00000147454, ENSG00000090238, ENSG00000117289, ENSG00000146278, ENSG00000156976 \n",
      "PC_ 2 \n",
      "Positive:  ENSG00000026025, ENSG00000067225, ENSG00000163191, ENSG00000167460, ENSG00000213719, ENSG00000161011, ENSG00000166900, ENSG00000034510, ENSG00000177606, ENSG00000155366 \n",
      "Negative:  ENSG00000130656, ENSG00000206172, ENSG00000188536, ENSG00000213934, ENSG00000136929, ENSG00000196565, ENSG00000167815, ENSG00000158578, ENSG00000213931, ENSG00000256269 \n",
      "PC_ 3 \n",
      "Positive:  ENSG00000134057, ENSG00000117399, ENSG00000072571, ENSG00000166851, ENSG00000087586, ENSG00000157456, ENSG00000164611, ENSG00000117650, ENSG00000164104, ENSG00000145386 \n",
      "Negative:  ENSG00000142669, ENSG00000198712, ENSG00000198886, ENSG00000198804, ENSG00000198888, ENSG00000198763, ENSG00000198727, ENSG00000198938, ENSG00000087086, ENSG00000245532 \n",
      "PC_ 4 \n",
      "Positive:  ENSG00000117450, ENSG00000213934, ENSG00000196565, ENSG00000161960, ENSG00000170315, ENSG00000167815, ENSG00000170180, ENSG00000150753, ENSG00000134001, ENSG00000074800 \n",
      "Negative:  ENSG00000131747, ENSG00000140451, ENSG00000115163, ENSG00000117724, ENSG00000066279, ENSG00000148773, ENSG00000227706, ENSG00000088325, ENSG00000034510, ENSG00000198888 \n",
      "PC_ 5 \n",
      "Positive:  ENSG00000187837, ENSG00000180573, ENSG00000180596, ENSG00000197903, ENSG00000213626, ENSG00000196565, ENSG00000088986, ENSG00000106211, ENSG00000206172, ENSG00000129538 \n",
      "Negative:  ENSG00000101255, ENSG00000168209, ENSG00000135069, ENSG00000065911, ENSG00000128272, ENSG00000140105, ENSG00000131711, ENSG00000106105, ENSG00000187840, ENSG00000070669 \n",
      "\n"
     ]
    },
    {
     "data": {
      "text/plain": [
       "An object of class Seurat \n",
       "13135 features across 207324 samples within 1 assay \n",
       "Active assay: RNA (13135 features, 2000 variable features)\n",
       " 1 dimensional reduction calculated: pca"
      ]
     },
     "metadata": {},
     "output_type": "display_data"
    }
   ],
   "source": [
    "gene.expression <- RunPCA(gene.expression, features = VariableFeatures(gene.expression), ndims.print = 1:5, nfeatures.print = 10)\n",
    "gene.expression"
   ]
  },
  {
   "cell_type": "code",
   "execution_count": 11,
   "id": "83ee00aa-30fd-45cc-a688-50ed188c3e11",
   "metadata": {},
   "outputs": [
    {
     "data": {
      "image/png": "[encoded data removed]",
      "text/plain": [
       "Plot with title “PC_4”"
      ]
     },
     "metadata": {
      "image/png": {
       "height": 420,
       "width": 420
      }
     },
     "output_type": "display_data"
    }
   ],
   "source": [
    "DimHeatmap(gene.expression, dims=4)"
   ]
  },
  {
   "cell_type": "code",
   "execution_count": null,
   "id": "8d5fa623-6a97-4a1b-a6a1-fd3a0cb82d01",
   "metadata": {},
   "outputs": [],
   "source": []
  }
 ],
 "metadata": {
  "kernelspec": {
   "display_name": "R [conda env:r4]",
   "language": "R",
   "name": "conda-env-r4-r"
  },
  "language_info": {
   "codemirror_mode": "r",
   "file_extension": ".r",
   "mimetype": "text/x-r-source",
   "name": "R",
   "pygments_lexer": "r",
   "version": "4.0.5"
  }
 },
 "nbformat": 4,
 "nbformat_minor": 5
}
