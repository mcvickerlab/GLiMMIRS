{
 "cells": [
  {
   "cell_type": "code",
   "execution_count": 1,
   "id": "4109b2f5-d1df-4581-882a-ebcad87ebcb0",
   "metadata": {},
   "outputs": [],
   "source": [
    "# import computational packages\n",
    "import numpy as np \n",
    "import pandas as pd\n",
    "from scipy.stats import chi2, nbinom\n",
    "\n",
    "# plotting\n",
    "import matplotlib.pyplot as plt\n",
    "import seaborn as sns\n",
    "sns.set_style('white');\n",
    "%config InlineBackend.figure_format='retina'"
   ]
  },
  {
   "cell_type": "code",
   "execution_count": 2,
   "id": "263e6d3d-ea03-46cd-a8b2-0d6fd6df8d08",
   "metadata": {},
   "outputs": [
    {
     "data": {
      "text/html": [
       "<div>\n",
       "<style scoped>\n",
       "    .dataframe tbody tr th:only-of-type {\n",
       "        vertical-align: middle;\n",
       "    }\n",
       "\n",
       "    .dataframe tbody tr th {\n",
       "        vertical-align: top;\n",
       "    }\n",
       "\n",
       "    .dataframe thead th {\n",
       "        text-align: right;\n",
       "    }\n",
       "</style>\n",
       "<table border=\"1\" class=\"dataframe\">\n",
       "  <thead>\n",
       "    <tr style=\"text-align: right;\">\n",
       "      <th></th>\n",
       "      <th>gRNA_group</th>\n",
       "      <th>spacer_sequence</th>\n",
       "      <th>start</th>\n",
       "      <th>end</th>\n",
       "      <th>chrom</th>\n",
       "      <th>proximal_genes</th>\n",
       "      <th>gRNAgroup.chr</th>\n",
       "      <th>gRNAgroup.start</th>\n",
       "      <th>gRNAgroup.stop</th>\n",
       "      <th>gRNAgroup</th>\n",
       "    </tr>\n",
       "  </thead>\n",
       "  <tbody>\n",
       "    <tr>\n",
       "      <th>0</th>\n",
       "      <td>SH3BGRL3_TSS</td>\n",
       "      <td>AAACCGCTCCCGAGCACGGG</td>\n",
       "      <td>26606551.0</td>\n",
       "      <td>26606569.0</td>\n",
       "      <td>chr1</td>\n",
       "      <td>ENSG00000130695</td>\n",
       "      <td>chr1</td>\n",
       "      <td>26605667</td>\n",
       "      <td>26605668</td>\n",
       "      <td>SH3BGRL3_TSS</td>\n",
       "    </tr>\n",
       "    <tr>\n",
       "      <th>1</th>\n",
       "      <td>SH3BGRL3_TSS</td>\n",
       "      <td>AAACCGCTCCCGAGCACGGG</td>\n",
       "      <td>26606551.0</td>\n",
       "      <td>26606569.0</td>\n",
       "      <td>chr1</td>\n",
       "      <td>ENSG00000142669</td>\n",
       "      <td>chr1</td>\n",
       "      <td>26605667</td>\n",
       "      <td>26605668</td>\n",
       "      <td>SH3BGRL3_TSS</td>\n",
       "    </tr>\n",
       "    <tr>\n",
       "      <th>2</th>\n",
       "      <td>SH3BGRL3_TSS</td>\n",
       "      <td>AAACCGCTCCCGAGCACGGG</td>\n",
       "      <td>26606551.0</td>\n",
       "      <td>26606569.0</td>\n",
       "      <td>chr1</td>\n",
       "      <td>ENSG00000158062</td>\n",
       "      <td>chr1</td>\n",
       "      <td>26605667</td>\n",
       "      <td>26605668</td>\n",
       "      <td>SH3BGRL3_TSS</td>\n",
       "    </tr>\n",
       "    <tr>\n",
       "      <th>3</th>\n",
       "      <td>SH3BGRL3_TSS</td>\n",
       "      <td>AAACCGCTCCCGAGCACGGG</td>\n",
       "      <td>26606551.0</td>\n",
       "      <td>26606569.0</td>\n",
       "      <td>chr1</td>\n",
       "      <td>ENSG00000169442</td>\n",
       "      <td>chr1</td>\n",
       "      <td>26605667</td>\n",
       "      <td>26605668</td>\n",
       "      <td>SH3BGRL3_TSS</td>\n",
       "    </tr>\n",
       "    <tr>\n",
       "      <th>4</th>\n",
       "      <td>SH3BGRL3_TSS</td>\n",
       "      <td>AAACCGCTCCCGAGCACGGG</td>\n",
       "      <td>26606551.0</td>\n",
       "      <td>26606569.0</td>\n",
       "      <td>chr1</td>\n",
       "      <td>ENSG00000176092</td>\n",
       "      <td>chr1</td>\n",
       "      <td>26605667</td>\n",
       "      <td>26605668</td>\n",
       "      <td>SH3BGRL3_TSS</td>\n",
       "    </tr>\n",
       "  </tbody>\n",
       "</table>\n",
       "</div>"
      ],
      "text/plain": [
       "     gRNA_group       spacer_sequence       start         end chrom  \\\n",
       "0  SH3BGRL3_TSS  AAACCGCTCCCGAGCACGGG  26606551.0  26606569.0  chr1   \n",
       "1  SH3BGRL3_TSS  AAACCGCTCCCGAGCACGGG  26606551.0  26606569.0  chr1   \n",
       "2  SH3BGRL3_TSS  AAACCGCTCCCGAGCACGGG  26606551.0  26606569.0  chr1   \n",
       "3  SH3BGRL3_TSS  AAACCGCTCCCGAGCACGGG  26606551.0  26606569.0  chr1   \n",
       "4  SH3BGRL3_TSS  AAACCGCTCCCGAGCACGGG  26606551.0  26606569.0  chr1   \n",
       "\n",
       "    proximal_genes gRNAgroup.chr  gRNAgroup.start  gRNAgroup.stop  \\\n",
       "0  ENSG00000130695          chr1         26605667        26605668   \n",
       "1  ENSG00000142669          chr1         26605667        26605668   \n",
       "2  ENSG00000158062          chr1         26605667        26605668   \n",
       "3  ENSG00000169442          chr1         26605667        26605668   \n",
       "4  ENSG00000176092          chr1         26605667        26605668   \n",
       "\n",
       "      gRNAgroup  \n",
       "0  SH3BGRL3_TSS  \n",
       "1  SH3BGRL3_TSS  \n",
       "2  SH3BGRL3_TSS  \n",
       "3  SH3BGRL3_TSS  \n",
       "4  SH3BGRL3_TSS  "
      ]
     },
     "execution_count": 2,
     "metadata": {},
     "output_type": "execute_result"
    }
   ],
   "source": [
    "# read in guide gene pairs\n",
    "guide_gene_pairs = pd.read_csv('./../results/baseline_guide_gene_pairs.csv')\n",
    "guide_gene_pairs.head()"
   ]
  },
  {
   "cell_type": "code",
   "execution_count": 3,
   "id": "ba3e1954-edae-4436-b1fb-b4de75fbd344",
   "metadata": {},
   "outputs": [
    {
     "data": {
      "text/plain": [
       "(21934, 10)"
      ]
     },
     "execution_count": 3,
     "metadata": {},
     "output_type": "execute_result"
    }
   ],
   "source": [
    "# get shape of guide gene pairs\n",
    "guide_gene_pairs.shape"
   ]
  },
  {
   "cell_type": "code",
   "execution_count": 4,
   "id": "844d5f87-70f7-4201-92a9-c018d8182421",
   "metadata": {},
   "outputs": [],
   "source": [
    "# read in output file\n",
    "line_count = 0\n",
    "output_lines = []\n",
    "with open('./../scripts/single_guide_gene_baseline_out.txt') as file:\n",
    "    for line in file:\n",
    "        if line_count % 2 == 0:\n",
    "            output_lines.append(line.split(','))\n",
    "        line_count += 1"
   ]
  },
  {
   "cell_type": "code",
   "execution_count": 5,
   "id": "b5161e1b-bc34-41ea-8872-9350a5a4e0aa",
   "metadata": {},
   "outputs": [
    {
     "data": {
      "text/html": [
       "<div>\n",
       "<style scoped>\n",
       "    .dataframe tbody tr th:only-of-type {\n",
       "        vertical-align: middle;\n",
       "    }\n",
       "\n",
       "    .dataframe tbody tr th {\n",
       "        vertical-align: top;\n",
       "    }\n",
       "\n",
       "    .dataframe thead th {\n",
       "        text-align: right;\n",
       "    }\n",
       "</style>\n",
       "<table border=\"1\" class=\"dataframe\">\n",
       "  <thead>\n",
       "    <tr style=\"text-align: right;\">\n",
       "      <th></th>\n",
       "      <th>gene</th>\n",
       "      <th>spacer</th>\n",
       "      <th>null_0</th>\n",
       "      <th>null_disp</th>\n",
       "      <th>null_s</th>\n",
       "      <th>null_m</th>\n",
       "      <th>null_fun</th>\n",
       "      <th>alt_0</th>\n",
       "      <th>alt_1</th>\n",
       "      <th>alt_disp</th>\n",
       "      <th>alt_s</th>\n",
       "      <th>alt_m</th>\n",
       "      <th>alt_fun</th>\n",
       "    </tr>\n",
       "  </thead>\n",
       "  <tbody>\n",
       "    <tr>\n",
       "      <th>0</th>\n",
       "      <td>ENSG00000039123</td>\n",
       "      <td>AGAGCTCTCGGCTGTGCAGG</td>\n",
       "      <td>11.6223859033907</td>\n",
       "      <td>2.523020957182614</td>\n",
       "      <td>0.473376999169171</td>\n",
       "      <td>0.33900979633437806</td>\n",
       "      <td>191617.187629</td>\n",
       "      <td>11.622549630954929</td>\n",
       "      <td>-0.05548774253849045</td>\n",
       "      <td>2.5231038067613314</td>\n",
       "      <td>0.47331235675303795</td>\n",
       "      <td>0.3390004021477713</td>\n",
       "      <td>191616.743466</td>\n",
       "    </tr>\n",
       "    <tr>\n",
       "      <th>1</th>\n",
       "      <td>ENSG00000067248</td>\n",
       "      <td>AGAGCTCTCGGCTGTGCAGG</td>\n",
       "      <td>12.375573236641618</td>\n",
       "      <td>2.588497218892676</td>\n",
       "      <td>-0.33499500138907157</td>\n",
       "      <td>0.1608990971128073</td>\n",
       "      <td>277751.321623</td>\n",
       "      <td>12.377601095628101</td>\n",
       "      <td>-1.1074195673565608</td>\n",
       "      <td>2.6034383820721914</td>\n",
       "      <td>-0.33563114010753425</td>\n",
       "      <td>0.16083753405122708</td>\n",
       "      <td>277565.309621</td>\n",
       "    </tr>\n",
       "    <tr>\n",
       "      <th>2</th>\n",
       "      <td>ENSG00000152669</td>\n",
       "      <td>GAGAGCTCTTCACATTCCCG</td>\n",
       "      <td>7.631245825039638</td>\n",
       "      <td>0.5586404526519568</td>\n",
       "      <td>2.329062394809816</td>\n",
       "      <td>-2.279435951398584</td>\n",
       "      <td>12479.664362</td>\n",
       "      <td>7.632711437348755</td>\n",
       "      <td>-0.24667387745884972</td>\n",
       "      <td>0.5587908439738386</td>\n",
       "      <td>2.387831327830088</td>\n",
       "      <td>-2.2518674187298</td>\n",
       "      <td>12478.974839</td>\n",
       "    </tr>\n",
       "    <tr>\n",
       "      <th>3</th>\n",
       "      <td>ENSG00000039123</td>\n",
       "      <td>GAGAGCTCTTCACATTCCCG</td>\n",
       "      <td>11.622388513368119</td>\n",
       "      <td>2.523105677146199</td>\n",
       "      <td>0.4733975113247155</td>\n",
       "      <td>0.3390398811427556</td>\n",
       "      <td>191617.187630</td>\n",
       "      <td>11.624017281727411</td>\n",
       "      <td>-0.6344763256779973</td>\n",
       "      <td>2.5304879015603974</td>\n",
       "      <td>0.47270267977453384</td>\n",
       "      <td>0.33879240959060575</td>\n",
       "      <td>191570.161975</td>\n",
       "    </tr>\n",
       "    <tr>\n",
       "      <th>4</th>\n",
       "      <td>ENSG00000067248</td>\n",
       "      <td>GAGAGCTCTTCACATTCCCG</td>\n",
       "      <td>12.375568072886574</td>\n",
       "      <td>2.5885203086686577</td>\n",
       "      <td>-0.335016204352438</td>\n",
       "      <td>0.16091525857730915</td>\n",
       "      <td>277751.321626</td>\n",
       "      <td>12.378121920093367</td>\n",
       "      <td>-1.284541060091506</td>\n",
       "      <td>2.608863015406293</td>\n",
       "      <td>-0.336077108333776</td>\n",
       "      <td>0.16049011813094133</td>\n",
       "      <td>277488.523302</td>\n",
       "    </tr>\n",
       "  </tbody>\n",
       "</table>\n",
       "</div>"
      ],
      "text/plain": [
       "              gene                spacer              null_0  \\\n",
       "0  ENSG00000039123  AGAGCTCTCGGCTGTGCAGG    11.6223859033907   \n",
       "1  ENSG00000067248  AGAGCTCTCGGCTGTGCAGG  12.375573236641618   \n",
       "2  ENSG00000152669  GAGAGCTCTTCACATTCCCG   7.631245825039638   \n",
       "3  ENSG00000039123  GAGAGCTCTTCACATTCCCG  11.622388513368119   \n",
       "4  ENSG00000067248  GAGAGCTCTTCACATTCCCG  12.375568072886574   \n",
       "\n",
       "            null_disp                null_s               null_m  \\\n",
       "0   2.523020957182614     0.473376999169171  0.33900979633437806   \n",
       "1   2.588497218892676  -0.33499500138907157   0.1608990971128073   \n",
       "2  0.5586404526519568     2.329062394809816   -2.279435951398584   \n",
       "3   2.523105677146199    0.4733975113247155   0.3390398811427556   \n",
       "4  2.5885203086686577    -0.335016204352438  0.16091525857730915   \n",
       "\n",
       "        null_fun               alt_0                 alt_1  \\\n",
       "0  191617.187629  11.622549630954929  -0.05548774253849045   \n",
       "1  277751.321623  12.377601095628101   -1.1074195673565608   \n",
       "2   12479.664362   7.632711437348755  -0.24667387745884972   \n",
       "3  191617.187630  11.624017281727411   -0.6344763256779973   \n",
       "4  277751.321626  12.378121920093367    -1.284541060091506   \n",
       "\n",
       "             alt_disp                 alt_s                alt_m  \\\n",
       "0  2.5231038067613314   0.47331235675303795   0.3390004021477713   \n",
       "1  2.6034383820721914  -0.33563114010753425  0.16083753405122708   \n",
       "2  0.5587908439738386     2.387831327830088     -2.2518674187298   \n",
       "3  2.5304879015603974   0.47270267977453384  0.33879240959060575   \n",
       "4   2.608863015406293    -0.336077108333776  0.16049011813094133   \n",
       "\n",
       "         alt_fun  \n",
       "0  191616.743466  \n",
       "1  277565.309621  \n",
       "2   12478.974839  \n",
       "3  191570.161975  \n",
       "4  277488.523302  "
      ]
     },
     "execution_count": 5,
     "metadata": {},
     "output_type": "execute_result"
    }
   ],
   "source": [
    "# read in function outputs \n",
    "colnames = ['gene', 'spacer', 'null_0', 'null_disp', 'null_s', 'null_m',\n",
    "            'null_fun', 'alt_0', 'alt_1', 'alt_disp', 'alt_s', 'alt_m', 'alt_fun']\n",
    "glm_df = pd.DataFrame(output_lines, columns=colnames)\n",
    "glm_df['null_fun'] = glm_df['null_fun'].astype(np.float64)\n",
    "glm_df['alt_fun'] = glm_df['alt_fun'].astype(np.float64)\n",
    "glm_df.head()"
   ]
  },
  {
   "cell_type": "code",
   "execution_count": 6,
   "id": "2b5e02d1-865a-4a6a-bade-024be8a4aac0",
   "metadata": {},
   "outputs": [
    {
     "data": {
      "text/plain": [
       "(21934, 13)"
      ]
     },
     "execution_count": 6,
     "metadata": {},
     "output_type": "execute_result"
    }
   ],
   "source": [
    "glm_df.shape"
   ]
  },
  {
   "cell_type": "code",
   "execution_count": 7,
   "id": "d39ab2d1-d7b1-4dd6-bf71-138c18f0034e",
   "metadata": {},
   "outputs": [
    {
     "data": {
      "text/plain": [
       "0        0.345932\n",
       "1        0.000000\n",
       "2        0.240264\n",
       "3        0.000000\n",
       "4        0.000000\n",
       "           ...   \n",
       "21929    0.000000\n",
       "21930    1.000000\n",
       "21931    1.000000\n",
       "21932    0.418003\n",
       "21933    0.594418\n",
       "Length: 21934, dtype: float64"
      ]
     },
     "execution_count": 7,
     "metadata": {},
     "output_type": "execute_result"
    }
   ],
   "source": [
    "# calculate p values\n",
    "def run_likelihood_ratio_test(row):\n",
    "    '''helper function to run likelihood test'''\n",
    "    \n",
    "    # negate function outputs to get null and alternative likelihood\n",
    "    null_likelihood = -1 * row['null_fun']\n",
    "    alt_likelihood = -1 * row['alt_fun']\n",
    "    \n",
    "    # calculate test statistic and p-value\n",
    "    ts = -2 * (null_likelihood - alt_likelihood)\n",
    "    pval = 1 - chi2.cdf(ts, 1)\n",
    "    \n",
    "    # return p-value\n",
    "    return pval\n",
    "\n",
    "p_values = glm_df.apply(run_likelihood_ratio_test, axis=1)\n",
    "p_values"
   ]
  },
  {
   "cell_type": "code",
   "execution_count": 8,
   "id": "45bf7571-dc51-4b4b-a1ce-1818c86e1c59",
   "metadata": {},
   "outputs": [
    {
     "data": {
      "image/png": "[encoded data removed]",
      "text/plain": [
       "<Figure size 432x288 with 1 Axes>"
      ]
     },
     "metadata": {
      "image/png": {
       "height": 277,
       "width": 395
      }
     },
     "output_type": "display_data"
    }
   ],
   "source": [
    "ax = plt.gca()\n",
    "ax.set_title('Distribution of P-values for Guide-Gene GLM')\n",
    "ax.set_xlabel('pvalue')\n",
    "p_values.plot(kind='hist');"
   ]
  },
  {
   "cell_type": "code",
   "execution_count": null,
   "id": "ac8f50ec-6da1-46c7-a17c-4ffbbf168396",
   "metadata": {},
   "outputs": [],
   "source": []
  }
 ],
 "metadata": {
  "kernelspec": {
   "display_name": "Python [conda env:py39]",
   "language": "python",
   "name": "conda-env-py39-py"
  },
  "language_info": {
   "codemirror_mode": {
    "name": "ipython",
    "version": 3
   },
   "file_extension": ".py",
   "mimetype": "text/x-python",
   "name": "python",
   "nbconvert_exporter": "python",
   "pygments_lexer": "ipython3",
   "version": "3.9.6"
  }
 },
 "nbformat": 4,
 "nbformat_minor": 5
}
