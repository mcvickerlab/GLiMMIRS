{
 "cells": [
  {
   "cell_type": "code",
   "execution_count": 4,
   "id": "838eb62f",
   "metadata": {},
   "outputs": [],
   "source": [
    "suppressMessages(library(dplyr))\n",
    "library(ggplot2)\n",
    "suppressMessages(library(BoutrosLab.plotting.general))\n",
    "library(rhdf5)\n",
    "library(ggpubr)\n",
    "library(repr)\n",
    "# Change plot size to BIG\n",
    "options(repr.plot.width=20, repr.plot.height=10)"
   ]
  },
  {
   "cell_type": "code",
   "execution_count": 5,
   "id": "1e20617b",
   "metadata": {},
   "outputs": [],
   "source": [
    "data.dir <- \"/iblm/netapp/data1/jezhou/crisprQTL\"\n",
    "# alt.mods <- readRDS(file.path(data.dir,\"sim_performance_D100_4guides_targeting/alt_ml.rds\"))\n",
    "# null.mods <- readRDS(file.path(data.dir,\"sim_performance_D100_4guides_targeting/null_ml.rds\"))\n",
    "\n",
    "alt.coeffs <- read.csv(file.path(data.dir,\"sim_performance_D100_4guides_targeting/alt_coeffs.csv\"))\n",
    "null.coeffs <- read.csv(file.path(data.dir,\"sim_performance_D100_4guides_targeting/null_coeffs.csv\"))\n",
    "\n",
    "# lrt <- read.csv(\"../sim_performance_100/lrt_pvals.csv\")"
   ]
  },
  {
   "cell_type": "code",
   "execution_count": 7,
   "id": "07f6ce8a",
   "metadata": {},
   "outputs": [
    {
     "data": {
      "text/html": [
       "<table class=\"dataframe\">\n",
       "<caption>A data.frame: 14 × 5</caption>\n",
       "<thead>\n",
       "\t<tr><th></th><th scope=col>group</th><th scope=col>name</th><th scope=col>otype</th><th scope=col>dclass</th><th scope=col>dim</th></tr>\n",
       "\t<tr><th></th><th scope=col>&lt;chr&gt;</th><th scope=col>&lt;chr&gt;</th><th scope=col>&lt;chr&gt;</th><th scope=col>&lt;chr&gt;</th><th scope=col>&lt;chr&gt;</th></tr>\n",
       "</thead>\n",
       "<tbody>\n",
       "\t<tr><th scope=row>0</th><td>/      </td><td>coeffs             </td><td>H5I_DATASET</td><td>COMPOUND</td><td>13000        </td></tr>\n",
       "\t<tr><th scope=row>1</th><td>/      </td><td>counts             </td><td>H5I_DATASET</td><td>INTEGER </td><td>13000 x 50000</td></tr>\n",
       "\t<tr><th scope=row>2</th><td>/      </td><td>guides             </td><td>H5I_GROUP  </td><td>        </td><td>             </td></tr>\n",
       "\t<tr><th scope=row>3</th><td>/guides</td><td>est_efficiency_D10 </td><td>H5I_DATASET</td><td>FLOAT   </td><td>4000         </td></tr>\n",
       "\t<tr><th scope=row>4</th><td>/guides</td><td>est_efficiency_D100</td><td>H5I_DATASET</td><td>FLOAT   </td><td>4000         </td></tr>\n",
       "\t<tr><th scope=row>5</th><td>/guides</td><td>metadata           </td><td>H5I_DATASET</td><td>COMPOUND</td><td>4000         </td></tr>\n",
       "\t<tr><th scope=row>6</th><td>/guides</td><td>one_hot            </td><td>H5I_DATASET</td><td>INTEGER </td><td>50000 x 4000 </td></tr>\n",
       "\t<tr><th scope=row>7</th><td>/      </td><td>linear_predictor   </td><td>H5I_DATASET</td><td>FLOAT   </td><td>13000 x 50000</td></tr>\n",
       "\t<tr><th scope=row>8</th><td>/      </td><td>mu                 </td><td>H5I_DATASET</td><td>FLOAT   </td><td>13000 x 50000</td></tr>\n",
       "\t<tr><th scope=row>9</th><td>/      </td><td>scaling_factors    </td><td>H5I_DATASET</td><td>FLOAT   </td><td>50000        </td></tr>\n",
       "\t<tr><th scope=row>10</th><td>/      </td><td>x                  </td><td>H5I_GROUP  </td><td>        </td><td>             </td></tr>\n",
       "\t<tr><th scope=row>11</th><td>/x     </td><td>cell_cycle_scores  </td><td>H5I_DATASET</td><td>COMPOUND</td><td>50000        </td></tr>\n",
       "\t<tr><th scope=row>12</th><td>/x     </td><td>percent_mito       </td><td>H5I_DATASET</td><td>FLOAT   </td><td>50000        </td></tr>\n",
       "\t<tr><th scope=row>13</th><td>/x     </td><td>x1                 </td><td>H5I_DATASET</td><td>INTEGER </td><td>13000 x 50000</td></tr>\n",
       "</tbody>\n",
       "</table>\n"
      ],
      "text/latex": [
       "A data.frame: 14 × 5\n",
       "\\begin{tabular}{r|lllll}\n",
       "  & group & name & otype & dclass & dim\\\\\n",
       "  & <chr> & <chr> & <chr> & <chr> & <chr>\\\\\n",
       "\\hline\n",
       "\t0 & /       & coeffs              & H5I\\_DATASET & COMPOUND & 13000        \\\\\n",
       "\t1 & /       & counts              & H5I\\_DATASET & INTEGER  & 13000 x 50000\\\\\n",
       "\t2 & /       & guides              & H5I\\_GROUP   &          &              \\\\\n",
       "\t3 & /guides & est\\_efficiency\\_D10  & H5I\\_DATASET & FLOAT    & 4000         \\\\\n",
       "\t4 & /guides & est\\_efficiency\\_D100 & H5I\\_DATASET & FLOAT    & 4000         \\\\\n",
       "\t5 & /guides & metadata            & H5I\\_DATASET & COMPOUND & 4000         \\\\\n",
       "\t6 & /guides & one\\_hot             & H5I\\_DATASET & INTEGER  & 50000 x 4000 \\\\\n",
       "\t7 & /       & linear\\_predictor    & H5I\\_DATASET & FLOAT    & 13000 x 50000\\\\\n",
       "\t8 & /       & mu                  & H5I\\_DATASET & FLOAT    & 13000 x 50000\\\\\n",
       "\t9 & /       & scaling\\_factors     & H5I\\_DATASET & FLOAT    & 50000        \\\\\n",
       "\t10 & /       & x                   & H5I\\_GROUP   &          &              \\\\\n",
       "\t11 & /x      & cell\\_cycle\\_scores   & H5I\\_DATASET & COMPOUND & 50000        \\\\\n",
       "\t12 & /x      & percent\\_mito        & H5I\\_DATASET & FLOAT    & 50000        \\\\\n",
       "\t13 & /x      & x1                  & H5I\\_DATASET & INTEGER  & 13000 x 50000\\\\\n",
       "\\end{tabular}\n"
      ],
      "text/markdown": [
       "\n",
       "A data.frame: 14 × 5\n",
       "\n",
       "| <!--/--> | group &lt;chr&gt; | name &lt;chr&gt; | otype &lt;chr&gt; | dclass &lt;chr&gt; | dim &lt;chr&gt; |\n",
       "|---|---|---|---|---|---|\n",
       "| 0 | /       | coeffs              | H5I_DATASET | COMPOUND | 13000         |\n",
       "| 1 | /       | counts              | H5I_DATASET | INTEGER  | 13000 x 50000 |\n",
       "| 2 | /       | guides              | H5I_GROUP   | <!----> | <!----> |\n",
       "| 3 | /guides | est_efficiency_D10  | H5I_DATASET | FLOAT    | 4000          |\n",
       "| 4 | /guides | est_efficiency_D100 | H5I_DATASET | FLOAT    | 4000          |\n",
       "| 5 | /guides | metadata            | H5I_DATASET | COMPOUND | 4000          |\n",
       "| 6 | /guides | one_hot             | H5I_DATASET | INTEGER  | 50000 x 4000  |\n",
       "| 7 | /       | linear_predictor    | H5I_DATASET | FLOAT    | 13000 x 50000 |\n",
       "| 8 | /       | mu                  | H5I_DATASET | FLOAT    | 13000 x 50000 |\n",
       "| 9 | /       | scaling_factors     | H5I_DATASET | FLOAT    | 50000         |\n",
       "| 10 | /       | x                   | H5I_GROUP   | <!----> | <!----> |\n",
       "| 11 | /x      | cell_cycle_scores   | H5I_DATASET | COMPOUND | 50000         |\n",
       "| 12 | /x      | percent_mito        | H5I_DATASET | FLOAT    | 50000         |\n",
       "| 13 | /x      | x1                  | H5I_DATASET | INTEGER  | 13000 x 50000 |\n",
       "\n"
      ],
      "text/plain": [
       "   group   name                otype       dclass   dim          \n",
       "0  /       coeffs              H5I_DATASET COMPOUND 13000        \n",
       "1  /       counts              H5I_DATASET INTEGER  13000 x 50000\n",
       "2  /       guides              H5I_GROUP                         \n",
       "3  /guides est_efficiency_D10  H5I_DATASET FLOAT    4000         \n",
       "4  /guides est_efficiency_D100 H5I_DATASET FLOAT    4000         \n",
       "5  /guides metadata            H5I_DATASET COMPOUND 4000         \n",
       "6  /guides one_hot             H5I_DATASET INTEGER  50000 x 4000 \n",
       "7  /       linear_predictor    H5I_DATASET FLOAT    13000 x 50000\n",
       "8  /       mu                  H5I_DATASET FLOAT    13000 x 50000\n",
       "9  /       scaling_factors     H5I_DATASET FLOAT    50000        \n",
       "10 /       x                   H5I_GROUP                         \n",
       "11 /x      cell_cycle_scores   H5I_DATASET COMPOUND 50000        \n",
       "12 /x      percent_mito        H5I_DATASET FLOAT    50000        \n",
       "13 /x      x1                  H5I_DATASET INTEGER  13000 x 50000"
      ]
     },
     "metadata": {},
     "output_type": "display_data"
    }
   ],
   "source": [
    "fh <- \"/iblm/netapp/data1/jezhou/crisprQTL/simulated_data_4guides_x1prob/sim.h5\"\n",
    "h5ls(fh)"
   ]
  },
  {
   "cell_type": "code",
   "execution_count": 9,
   "id": "a2c9a446",
   "metadata": {},
   "outputs": [
    {
     "data": {
      "text/html": [
       "<table class=\"dataframe\">\n",
       "<caption>A data.frame: 6 × 3</caption>\n",
       "<thead>\n",
       "\t<tr><th></th><th scope=col>target.gene</th><th scope=col>efficiency</th><th scope=col>effect.size</th></tr>\n",
       "\t<tr><th></th><th scope=col>&lt;int&gt;</th><th scope=col>&lt;dbl&gt;</th><th scope=col>&lt;dbl&gt;</th></tr>\n",
       "</thead>\n",
       "<tbody>\n",
       "\t<tr><th scope=row>1</th><td> 2336</td><td>0.5899184</td><td>-3.517179</td></tr>\n",
       "\t<tr><th scope=row>2</th><td> 6778</td><td>0.7126936</td><td>-2.787360</td></tr>\n",
       "\t<tr><th scope=row>3</th><td>11025</td><td>0.3789614</td><td>-1.638134</td></tr>\n",
       "\t<tr><th scope=row>4</th><td>11117</td><td>0.7749960</td><td>-2.222696</td></tr>\n",
       "\t<tr><th scope=row>5</th><td> 9957</td><td>0.6474995</td><td>-1.470936</td></tr>\n",
       "\t<tr><th scope=row>6</th><td> 3630</td><td>0.6870058</td><td>-5.032033</td></tr>\n",
       "</tbody>\n",
       "</table>\n"
      ],
      "text/latex": [
       "A data.frame: 6 × 3\n",
       "\\begin{tabular}{r|lll}\n",
       "  & target.gene & efficiency & effect.size\\\\\n",
       "  & <int> & <dbl> & <dbl>\\\\\n",
       "\\hline\n",
       "\t1 &  2336 & 0.5899184 & -3.517179\\\\\n",
       "\t2 &  6778 & 0.7126936 & -2.787360\\\\\n",
       "\t3 & 11025 & 0.3789614 & -1.638134\\\\\n",
       "\t4 & 11117 & 0.7749960 & -2.222696\\\\\n",
       "\t5 &  9957 & 0.6474995 & -1.470936\\\\\n",
       "\t6 &  3630 & 0.6870058 & -5.032033\\\\\n",
       "\\end{tabular}\n"
      ],
      "text/markdown": [
       "\n",
       "A data.frame: 6 × 3\n",
       "\n",
       "| <!--/--> | target.gene &lt;int&gt; | efficiency &lt;dbl&gt; | effect.size &lt;dbl&gt; |\n",
       "|---|---|---|---|\n",
       "| 1 |  2336 | 0.5899184 | -3.517179 |\n",
       "| 2 |  6778 | 0.7126936 | -2.787360 |\n",
       "| 3 | 11025 | 0.3789614 | -1.638134 |\n",
       "| 4 | 11117 | 0.7749960 | -2.222696 |\n",
       "| 5 |  9957 | 0.6474995 | -1.470936 |\n",
       "| 6 |  3630 | 0.6870058 | -5.032033 |\n",
       "\n"
      ],
      "text/plain": [
       "  target.gene efficiency effect.size\n",
       "1  2336       0.5899184  -3.517179  \n",
       "2  6778       0.7126936  -2.787360  \n",
       "3 11025       0.3789614  -1.638134  \n",
       "4 11117       0.7749960  -2.222696  \n",
       "5  9957       0.6474995  -1.470936  \n",
       "6  3630       0.6870058  -5.032033  "
      ]
     },
     "metadata": {},
     "output_type": "display_data"
    }
   ],
   "source": [
    "guides.metadata <- h5read(fh, \"guides/metadata\")\n",
    "head(guides.metadata)"
   ]
  },
  {
   "cell_type": "code",
   "execution_count": 10,
   "id": "df6b6f22",
   "metadata": {},
   "outputs": [
    {
     "data": {
      "text/html": [
       "4"
      ],
      "text/latex": [
       "4"
      ],
      "text/markdown": [
       "4"
      ],
      "text/plain": [
       "[1] 4"
      ]
     },
     "metadata": {},
     "output_type": "display_data"
    }
   ],
   "source": [
    "nrow(guides.metadata)/length(unique(guides.metadata$target.gene))"
   ]
  },
  {
   "cell_type": "markdown",
   "id": "64611549",
   "metadata": {},
   "source": [
    "# Plot true vs. estimated $\\beta_1$"
   ]
  },
  {
   "cell_type": "code",
   "execution_count": 7,
   "id": "dc15a020",
   "metadata": {},
   "outputs": [
    {
     "data": {
      "text/html": [
       "<table class=\"dataframe\">\n",
       "<caption>A data.frame: 6 × 5</caption>\n",
       "<thead>\n",
       "\t<tr><th></th><th scope=col>term</th><th scope=col>estimate</th><th scope=col>true</th><th scope=col>gene</th><th scope=col>targeting</th></tr>\n",
       "\t<tr><th></th><th scope=col>&lt;chr&gt;</th><th scope=col>&lt;dbl&gt;</th><th scope=col>&lt;dbl&gt;</th><th scope=col>&lt;int&gt;</th><th scope=col>&lt;lgl&gt;</th></tr>\n",
       "</thead>\n",
       "<tbody>\n",
       "\t<tr><th scope=row>1</th><td>(Intercept) </td><td> 2.569600</td><td> 2.588415</td><td>2336</td><td>TRUE</td></tr>\n",
       "\t<tr><th scope=row>2</th><td>guide.eff   </td><td>-5.603210</td><td>-3.517179</td><td>2336</td><td>TRUE</td></tr>\n",
       "\t<tr><th scope=row>3</th><td>s.score     </td><td> 2.643193</td><td> 2.618896</td><td>2336</td><td>TRUE</td></tr>\n",
       "\t<tr><th scope=row>4</th><td>g2m.score   </td><td> 3.208282</td><td> 3.212864</td><td>2336</td><td>TRUE</td></tr>\n",
       "\t<tr><th scope=row>5</th><td>percent.mito</td><td> 5.349914</td><td> 5.136400</td><td>2336</td><td>TRUE</td></tr>\n",
       "\t<tr><th scope=row>6</th><td>(Intercept) </td><td> 2.405914</td><td> 2.407428</td><td>6778</td><td>TRUE</td></tr>\n",
       "</tbody>\n",
       "</table>\n"
      ],
      "text/latex": [
       "A data.frame: 6 × 5\n",
       "\\begin{tabular}{r|lllll}\n",
       "  & term & estimate & true & gene & targeting\\\\\n",
       "  & <chr> & <dbl> & <dbl> & <int> & <lgl>\\\\\n",
       "\\hline\n",
       "\t1 & (Intercept)  &  2.569600 &  2.588415 & 2336 & TRUE\\\\\n",
       "\t2 & guide.eff    & -5.603210 & -3.517179 & 2336 & TRUE\\\\\n",
       "\t3 & s.score      &  2.643193 &  2.618896 & 2336 & TRUE\\\\\n",
       "\t4 & g2m.score    &  3.208282 &  3.212864 & 2336 & TRUE\\\\\n",
       "\t5 & percent.mito &  5.349914 &  5.136400 & 2336 & TRUE\\\\\n",
       "\t6 & (Intercept)  &  2.405914 &  2.407428 & 6778 & TRUE\\\\\n",
       "\\end{tabular}\n"
      ],
      "text/markdown": [
       "\n",
       "A data.frame: 6 × 5\n",
       "\n",
       "| <!--/--> | term &lt;chr&gt; | estimate &lt;dbl&gt; | true &lt;dbl&gt; | gene &lt;int&gt; | targeting &lt;lgl&gt; |\n",
       "|---|---|---|---|---|---|\n",
       "| 1 | (Intercept)  |  2.569600 |  2.588415 | 2336 | TRUE |\n",
       "| 2 | guide.eff    | -5.603210 | -3.517179 | 2336 | TRUE |\n",
       "| 3 | s.score      |  2.643193 |  2.618896 | 2336 | TRUE |\n",
       "| 4 | g2m.score    |  3.208282 |  3.212864 | 2336 | TRUE |\n",
       "| 5 | percent.mito |  5.349914 |  5.136400 | 2336 | TRUE |\n",
       "| 6 | (Intercept)  |  2.405914 |  2.407428 | 6778 | TRUE |\n",
       "\n"
      ],
      "text/plain": [
       "  term         estimate  true      gene targeting\n",
       "1 (Intercept)   2.569600  2.588415 2336 TRUE     \n",
       "2 guide.eff    -5.603210 -3.517179 2336 TRUE     \n",
       "3 s.score       2.643193  2.618896 2336 TRUE     \n",
       "4 g2m.score     3.208282  3.212864 2336 TRUE     \n",
       "5 percent.mito  5.349914  5.136400 2336 TRUE     \n",
       "6 (Intercept)   2.405914  2.407428 6778 TRUE     "
      ]
     },
     "metadata": {},
     "output_type": "display_data"
    }
   ],
   "source": [
    "head(alt.coeffs)"
   ]
  },
  {
   "cell_type": "code",
   "execution_count": 79,
   "id": "ca97c9e0",
   "metadata": {},
   "outputs": [
    {
     "name": "stderr",
     "output_type": "stream",
     "text": [
      "`geom_smooth()` using formula 'y ~ x'\n",
      "\n"
     ]
    },
    {
     "data": {
      "image/png": "[encoded data removed]",
      "text/plain": [
       "plot without title"
      ]
     },
     "metadata": {
      "image/png": {
       "height": 600,
       "width": 1200
      }
     },
     "output_type": "display_data"
    }
   ],
   "source": [
    "# labeller = labeller(term = \n",
    "#     c(\"(Intercept)\" = expression(beta[0]),\n",
    "#       \"guide.eff\" = expression(beta[1]),\n",
    "#       \"s.score\" = expression(beta[2]),\n",
    "#      \"g2m.score\" = expression(beta[3]),\n",
    "#      \"percent.mito\" = expression(beta[4])))\n",
    "\n",
    "coeff.names <- c(\"(Intercept)\" = expression(beta[0]),\n",
    "      \"guide.eff\" = expression(beta[1]),\n",
    "      \"s.score\" = expression(beta[2]),\n",
    "     \"g2m.score\" = expression(beta[3]),\n",
    "     \"percent.mito\" = expression(beta[4]))\n",
    "\n",
    "alt.coeffs %>%\n",
    "   mutate(across(term, factor, levels=c(\"(Intercept)\",\"guide.eff\",\"s.score\",\"g2m.score\",\"percent.mito\"))) %>% \n",
    "ggscatter( x = \"true\", y = \"estimate\", color = \"targeting\", palette = \"jco\", alpha = 0.5,\n",
    "    \n",
    "facet_wrap(~term, ncol = 5, labeller =  as_labeller(coeff.names))"
   ]
  },
  {
   "cell_type": "code",
   "execution_count": 80,
   "id": "cc9d6d24",
   "metadata": {},
   "outputs": [
    {
     "name": "stderr",
     "output_type": "stream",
     "text": [
      "`geom_smooth()` using formula 'y ~ x'\n",
      "\n"
     ]
    },
    {
     "data": {
      "text/html": [
       "<strong>png:</strong> 2"
      ],
      "text/latex": [
       "\\textbf{png:} 2"
      ],
      "text/markdown": [
       "**png:** 2"
      ],
      "text/plain": [
       "png \n",
       "  2 "
      ]
     },
     "metadata": {},
     "output_type": "display_data"
    }
   ],
   "source": [
    "tiff(\"/iblm/netapp/data1/jezhou/crisprQTL/sim_performance_D100_4guides_targeting/coeffs_scatterplot_facetwrap.tiff\",\n",
    "    res = 300, units = \"in\", width = 12, height = 6)\n",
    "\n",
    "alt.coeffs %>%\n",
    "   mutate(across(term, factor, levels=c(\"(Intercept)\",\"guide.eff\",\"s.score\",\"g2m.score\",\"percent.mito\"))) %>% \n",
    "ggscatter( x = \"true\", y = \"estimate\", color = \"targeting\", palette = \"jco\", alpha = 0.5,\n",
    "   add = \"reg.line\",  # Add regression line\n",
    "          conf.int = TRUE\n",
    "   ) + stat_cor(method = \"spearman\", aes(color = targeting), show.legend = FALSE, geom = \"label\") + \n",
    "facet_wrap(~term, ncol = 5)\n",
    "\n",
    "dev.off()"
   ]
  },
  {
   "cell_type": "markdown",
   "id": "ce34161f",
   "metadata": {},
   "source": [
    "# Check that LRT is significant for targeting genes"
   ]
  },
  {
   "cell_type": "code",
   "execution_count": 68,
   "id": "aad98ef6",
   "metadata": {},
   "outputs": [
    {
     "data": {
      "text/html": [
       "<style>\n",
       ".list-inline {list-style: none; margin:0; padding: 0}\n",
       ".list-inline>li {display: inline-block}\n",
       ".list-inline>li:not(:last-child)::after {content: \"\\00b7\"; padding: 0 .5ex}\n",
       "</style>\n",
       "<ol class=list-inline><li>4</li><li>6</li><li>7</li><li>14</li><li>24</li><li>28</li><li>44</li><li>66</li><li>77</li></ol>\n"
      ],
      "text/latex": [
       "\\begin{enumerate*}\n",
       "\\item 4\n",
       "\\item 6\n",
       "\\item 7\n",
       "\\item 14\n",
       "\\item 24\n",
       "\\item 28\n",
       "\\item 44\n",
       "\\item 66\n",
       "\\item 77\n",
       "\\end{enumerate*}\n"
      ],
      "text/markdown": [
       "1. 4\n",
       "2. 6\n",
       "3. 7\n",
       "4. 14\n",
       "5. 24\n",
       "6. 28\n",
       "7. 44\n",
       "8. 66\n",
       "9. 77\n",
       "\n",
       "\n"
      ],
      "text/plain": [
       "[1]  4  6  7 14 24 28 44 66 77"
      ]
     },
     "metadata": {},
     "output_type": "display_data"
    }
   ],
   "source": [
    "intersect(alt.coeffs$gene, guides.metadata$target.gene)"
   ]
  },
  {
   "cell_type": "code",
   "execution_count": 69,
   "id": "a3a10c13",
   "metadata": {},
   "outputs": [
    {
     "name": "stdout",
     "output_type": "stream",
     "text": [
      "[1] \"gene 4\"\n",
      "[1] \"LRT p-value 0.00168400983985084\"\n",
      "[1] \"gene 6\"\n",
      "[1] \"LRT p-value 0\"\n",
      "[1] \"gene 7\"\n",
      "[1] \"LRT p-value 0\"\n",
      "[1] \"gene 14\"\n",
      "[1] \"LRT p-value 4.59139452013702e-08\"\n",
      "[1] \"gene 24\"\n",
      "[1] \"LRT p-value 0\"\n",
      "[1] \"gene 28\"\n",
      "[1] \"LRT p-value 0.0291267506681643\"\n",
      "[1] \"gene 44\"\n",
      "[1] \"LRT p-value 1.23268062424131e-12\"\n",
      "[1] \"gene 66\"\n",
      "[1] \"LRT p-value 4.73711370130303e-09\"\n",
      "[1] \"gene 77\"\n",
      "[1] \"LRT p-value 0.000180511305812314\"\n"
     ]
    }
   ],
   "source": [
    "for (tg in intersect(alt.coeffs$gene, guides.metadata$target.gene)) {\n",
    "    print(paste(\"gene\",tg))\n",
    "    alt <- alt.mods[[tg]]\n",
    "    null <- null.mods[[tg]]\n",
    "    lrt <- anova(alt,null)\n",
    "    print(paste(\"LRT p-value\",lrt$`Pr(Chi)`[2]))\n",
    "}"
   ]
  },
  {
   "cell_type": "markdown",
   "id": "3b741171",
   "metadata": {},
   "source": [
    "# Check that LRT is not significant for non-targeting genes"
   ]
  },
  {
   "cell_type": "code",
   "execution_count": 70,
   "id": "1534834e",
   "metadata": {},
   "outputs": [
    {
     "name": "stdout",
     "output_type": "stream",
     "text": [
      "[1] \"gene 1\"\n",
      "[1] \"nontargeting gene has significant LRT result\"\n",
      "[1] \"gene 2\"\n",
      "[1] \"gene 3\"\n",
      "[1] \"gene 5\"\n",
      "[1] \"nontargeting gene has significant LRT result\"\n",
      "[1] \"gene 8\"\n",
      "[1] \"gene 9\"\n",
      "[1] \"gene 10\"\n",
      "[1] \"gene 11\"\n",
      "[1] \"gene 12\"\n",
      "[1] \"nontargeting gene has significant LRT result\"\n",
      "[1] \"gene 13\"\n",
      "[1] \"gene 15\"\n",
      "[1] \"gene 16\"\n",
      "[1] \"gene 17\"\n",
      "[1] \"gene 18\"\n",
      "[1] \"nontargeting gene has significant LRT result\"\n",
      "[1] \"gene 19\"\n",
      "[1] \"gene 20\"\n",
      "[1] \"nontargeting gene has significant LRT result\"\n",
      "[1] \"gene 21\"\n",
      "[1] \"gene 22\"\n",
      "[1] \"gene 23\"\n",
      "[1] \"gene 25\"\n",
      "[1] \"gene 26\"\n",
      "[1] \"gene 27\"\n",
      "[1] \"nontargeting gene has significant LRT result\"\n",
      "[1] \"gene 29\"\n",
      "[1] \"gene 30\"\n",
      "[1] \"gene 31\"\n",
      "[1] \"gene 32\"\n",
      "[1] \"gene 33\"\n",
      "[1] \"nontargeting gene has significant LRT result\"\n",
      "[1] \"gene 34\"\n",
      "[1] \"gene 35\"\n",
      "[1] \"gene 36\"\n",
      "[1] \"nontargeting gene has significant LRT result\"\n",
      "[1] \"gene 37\"\n",
      "[1] \"gene 38\"\n",
      "[1] \"gene 39\"\n",
      "[1] \"gene 40\"\n",
      "[1] \"gene 41\"\n",
      "[1] \"nontargeting gene has significant LRT result\"\n",
      "[1] \"gene 42\"\n",
      "[1] \"nontargeting gene has significant LRT result\"\n",
      "[1] \"gene 43\"\n",
      "[1] \"gene 45\"\n",
      "[1] \"gene 46\"\n",
      "[1] \"nontargeting gene has significant LRT result\"\n",
      "[1] \"gene 47\"\n",
      "[1] \"gene 48\"\n",
      "[1] \"gene 49\"\n",
      "[1] \"gene 50\"\n",
      "[1] \"gene 51\"\n",
      "[1] \"gene 52\"\n",
      "[1] \"gene 53\"\n",
      "[1] \"nontargeting gene has significant LRT result\"\n",
      "[1] \"gene 54\"\n",
      "[1] \"gene 55\"\n",
      "[1] \"nontargeting gene has significant LRT result\"\n",
      "[1] \"gene 56\"\n",
      "[1] \"gene 57\"\n",
      "[1] \"gene 58\"\n",
      "[1] \"gene 59\"\n",
      "[1] \"gene 60\"\n",
      "[1] \"gene 61\"\n",
      "[1] \"gene 62\"\n",
      "[1] \"gene 63\"\n",
      "[1] \"gene 64\"\n",
      "[1] \"gene 65\"\n",
      "[1] \"gene 67\"\n",
      "[1] \"gene 68\"\n",
      "[1] \"nontargeting gene has significant LRT result\"\n",
      "[1] \"gene 69\"\n",
      "[1] \"gene 70\"\n",
      "[1] \"nontargeting gene has significant LRT result\"\n",
      "[1] \"gene 71\"\n",
      "[1] \"gene 72\"\n",
      "[1] \"nontargeting gene has significant LRT result\"\n",
      "[1] \"gene 73\"\n",
      "[1] \"gene 74\"\n",
      "[1] \"nontargeting gene has significant LRT result\"\n",
      "[1] \"gene 75\"\n",
      "[1] \"gene 76\"\n",
      "[1] \"gene 78\"\n",
      "[1] \"nontargeting gene has significant LRT result\"\n",
      "[1] \"gene 79\"\n",
      "[1] \"gene 80\"\n",
      "[1] \"gene 81\"\n",
      "[1] \"nontargeting gene has significant LRT result\"\n",
      "[1] \"gene 82\"\n",
      "[1] \"nontargeting gene has significant LRT result\"\n",
      "[1] \"gene 83\"\n",
      "[1] \"gene 84\"\n",
      "[1] \"gene 85\"\n",
      "[1] \"gene 86\"\n",
      "[1] \"gene 87\"\n",
      "[1] \"nontargeting gene has significant LRT result\"\n",
      "[1] \"gene 88\"\n",
      "[1] \"gene 89\"\n",
      "[1] \"gene 90\"\n",
      "[1] \"nontargeting gene has significant LRT result\"\n",
      "[1] \"gene 91\"\n",
      "[1] \"gene 92\"\n",
      "[1] \"nontargeting gene has significant LRT result\"\n",
      "[1] \"gene 93\"\n",
      "[1] \"nontargeting gene has significant LRT result\"\n",
      "[1] \"gene 94\"\n",
      "[1] \"nontargeting gene has significant LRT result\"\n",
      "[1] \"gene 95\"\n",
      "[1] \"gene 96\"\n",
      "[1] \"gene 97\"\n",
      "[1] \"gene 98\"\n",
      "[1] \"nontargeting gene has significant LRT result\"\n",
      "[1] \"gene 99\"\n",
      "[1] \"gene 100\"\n"
     ]
    }
   ],
   "source": [
    "for (tg in setdiff(alt.coeffs$gene, guides.metadata$target.gene)) {\n",
    "    print(paste(\"gene\",tg))\n",
    "    alt <- alt.mods[[tg]]\n",
    "    null <- null.mods[[tg]]\n",
    "    lrt <- anova(alt,null)\n",
    "    pval <- lrt$`Pr(Chi)`[2]\n",
    "    if (pval<0.05) {\n",
    "        print('nontargeting gene has significant LRT result')\n",
    "    }\n",
    "}"
   ]
  },
  {
   "cell_type": "code",
   "execution_count": 71,
   "id": "f458cf0c",
   "metadata": {},
   "outputs": [
    {
     "data": {
      "text/plain": [
       "\n",
       "Call:  glm.nb(formula = counts ~ s.score + g2m.score + percent.mito + \n",
       "    offset(log(scaling.factor)), data = gene.data, init.theta = 2.451627559, \n",
       "    link = log)\n",
       "\n",
       "Coefficients:\n",
       " (Intercept)       s.score     g2m.score  percent.mito  \n",
       "     -0.9603        3.4518        1.6848        4.4688  \n",
       "\n",
       "Degrees of Freedom: 49999 Total (i.e. Null);  49996 Residual\n",
       "Null Deviance:\t    8970 \n",
       "Residual Deviance: 8614 \tAIC: 11590"
      ]
     },
     "metadata": {},
     "output_type": "display_data"
    }
   ],
   "source": [
    "null.mods[[1]]"
   ]
  },
  {
   "cell_type": "code",
   "execution_count": 72,
   "id": "0bf7229d",
   "metadata": {},
   "outputs": [
    {
     "data": {
      "text/plain": [
       "\n",
       "Call:  glm.nb(formula = counts ~ guide.eff + s.score + g2m.score + percent.mito + \n",
       "    offset(log(scaling.factor)), data = gene.data, init.theta = 2.451627535, \n",
       "    link = log)\n",
       "\n",
       "Coefficients:\n",
       " (Intercept)     guide.eff       s.score     g2m.score  percent.mito  \n",
       "     -0.9603            NA        3.4518        1.6848        4.4688  \n",
       "\n",
       "Degrees of Freedom: 49999 Total (i.e. Null);  49996 Residual\n",
       "Null Deviance:\t    8970 \n",
       "Residual Deviance: 8614 \tAIC: 11590"
      ]
     },
     "metadata": {},
     "output_type": "display_data"
    }
   ],
   "source": [
    "alt.mods[[1]]"
   ]
  },
  {
   "cell_type": "code",
   "execution_count": 73,
   "id": "abbd525b",
   "metadata": {},
   "outputs": [
    {
     "data": {
      "text/html": [
       "<table class=\"dataframe\">\n",
       "<caption>A Anova: 2 × 8</caption>\n",
       "<thead>\n",
       "\t<tr><th scope=col>Model</th><th scope=col>theta</th><th scope=col>Resid. df</th><th scope=col>   2 x log-lik.</th><th scope=col>Test</th><th scope=col>   df</th><th scope=col>LR stat.</th><th scope=col>Pr(Chi)</th></tr>\n",
       "\t<tr><th scope=col>&lt;chr&gt;</th><th scope=col>&lt;dbl&gt;</th><th scope=col>&lt;int&gt;</th><th scope=col>&lt;dbl&gt;</th><th scope=col>&lt;chr&gt;</th><th scope=col>&lt;int&gt;</th><th scope=col>&lt;dbl&gt;</th><th scope=col>&lt;dbl&gt;</th></tr>\n",
       "</thead>\n",
       "<tbody>\n",
       "\t<tr><td>guide.eff + s.score + g2m.score + percent.mito + offset(log(scaling.factor))</td><td>2.451628</td><td>49996</td><td>-11577.77</td><td>      </td><td>NA</td><td>          NA</td><td>NA</td></tr>\n",
       "\t<tr><td>s.score + g2m.score + percent.mito + offset(log(scaling.factor))            </td><td>2.451628</td><td>49996</td><td>-11577.77</td><td>1 vs 2</td><td> 0</td><td>2.000888e-11</td><td> 0</td></tr>\n",
       "</tbody>\n",
       "</table>\n"
      ],
      "text/latex": [
       "A Anova: 2 × 8\n",
       "\\begin{tabular}{llllllll}\n",
       " Model & theta & Resid. df &    2 x log-lik. & Test &    df & LR stat. & Pr(Chi)\\\\\n",
       " <chr> & <dbl> & <int> & <dbl> & <chr> & <int> & <dbl> & <dbl>\\\\\n",
       "\\hline\n",
       "\t guide.eff + s.score + g2m.score + percent.mito + offset(log(scaling.factor)) & 2.451628 & 49996 & -11577.77 &        & NA &           NA & NA\\\\\n",
       "\t s.score + g2m.score + percent.mito + offset(log(scaling.factor))             & 2.451628 & 49996 & -11577.77 & 1 vs 2 &  0 & 2.000888e-11 &  0\\\\\n",
       "\\end{tabular}\n"
      ],
      "text/markdown": [
       "\n",
       "A Anova: 2 × 8\n",
       "\n",
       "| Model &lt;chr&gt; | theta &lt;dbl&gt; | Resid. df &lt;int&gt; |    2 x log-lik. &lt;dbl&gt; | Test &lt;chr&gt; |    df &lt;int&gt; | LR stat. &lt;dbl&gt; | Pr(Chi) &lt;dbl&gt; |\n",
       "|---|---|---|---|---|---|---|---|\n",
       "| guide.eff + s.score + g2m.score + percent.mito + offset(log(scaling.factor)) | 2.451628 | 49996 | -11577.77 | <!----> | NA |           NA | NA |\n",
       "| s.score + g2m.score + percent.mito + offset(log(scaling.factor))             | 2.451628 | 49996 | -11577.77 | 1 vs 2 |  0 | 2.000888e-11 |  0 |\n",
       "\n"
      ],
      "text/plain": [
       "  Model                                                                       \n",
       "1 guide.eff + s.score + g2m.score + percent.mito + offset(log(scaling.factor))\n",
       "2 s.score + g2m.score + percent.mito + offset(log(scaling.factor))            \n",
       "  theta    Resid. df    2 x log-lik. Test      df LR stat.     Pr(Chi)\n",
       "1 2.451628 49996     -11577.77              NA              NA NA     \n",
       "2 2.451628 49996     -11577.77       1 vs 2  0    2.000888e-11  0     "
      ]
     },
     "metadata": {},
     "output_type": "display_data"
    }
   ],
   "source": [
    "anova(alt.mods[[1]], null.mods[[1]])"
   ]
  },
  {
   "cell_type": "code",
   "execution_count": 74,
   "id": "b7270de7",
   "metadata": {},
   "outputs": [
    {
     "data": {
      "text/plain": [
       "\n",
       "Call:\n",
       "glm.nb(formula = counts ~ guide.eff + s.score + g2m.score + percent.mito + \n",
       "    offset(log(scaling.factor)), data = gene.data, init.theta = 2.451627535, \n",
       "    link = log)\n",
       "\n",
       "Deviance Residuals: \n",
       "    Min       1Q   Median       3Q      Max  \n",
       "-0.6273  -0.2456  -0.2059  -0.1737   3.8722  \n",
       "\n",
       "Coefficients: (1 not defined because of singularities)\n",
       "             Estimate Std. Error z value Pr(>|z|)    \n",
       "(Intercept)  -0.96027    0.06091  -15.77  < 2e-16 ***\n",
       "guide.eff          NA         NA      NA       NA    \n",
       "s.score       3.45183    0.25762   13.40  < 2e-16 ***\n",
       "g2m.score     1.68477    0.12623   13.35  < 2e-16 ***\n",
       "percent.mito  4.46879    1.28412    3.48 0.000501 ***\n",
       "---\n",
       "Signif. codes:  0 ‘***’ 0.001 ‘**’ 0.01 ‘*’ 0.05 ‘.’ 0.1 ‘ ’ 1\n",
       "\n",
       "(Dispersion parameter for Negative Binomial(2.4516) family taken to be 1)\n",
       "\n",
       "    Null deviance: 8969.6  on 49999  degrees of freedom\n",
       "Residual deviance: 8613.9  on 49996  degrees of freedom\n",
       "AIC: 11588\n",
       "\n",
       "Number of Fisher Scoring iterations: 1\n",
       "\n",
       "\n",
       "              Theta:  2.45 \n",
       "          Std. Err.:  1.55 \n",
       "\n",
       " 2 x log-likelihood:  -11577.77 "
      ]
     },
     "metadata": {},
     "output_type": "display_data"
    }
   ],
   "source": [
    "summary(alt.mods[[1]])"
   ]
  },
  {
   "cell_type": "code",
   "execution_count": null,
   "id": "f6edb1c9",
   "metadata": {},
   "outputs": [],
   "source": []
  },
  {
   "cell_type": "code",
   "execution_count": null,
   "id": "b36ded64",
   "metadata": {},
   "outputs": [],
   "source": []
  }
 ],
 "metadata": {
  "kernelspec": {
   "display_name": "R [conda env:crisprqtl]",
   "language": "R",
   "name": "conda-env-crisprqtl-r"
  },
  "language_info": {
   "codemirror_mode": "r",
   "file_extension": ".r",
   "mimetype": "text/x-r-source",
   "name": "R",
   "pygments_lexer": "r",
   "version": "4.1.3"
  }
 },
 "nbformat": 4,
 "nbformat_minor": 5
}
