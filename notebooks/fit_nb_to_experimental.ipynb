{
 "cells": [
  {
   "cell_type": "code",
   "execution_count": 1,
   "id": "5e47446e",
   "metadata": {},
   "outputs": [],
   "source": [
    "from scipy.io import mmread\n",
    "import numpy as np"
   ]
  },
  {
   "cell_type": "code",
   "execution_count": 2,
   "id": "25a737fe",
   "metadata": {},
   "outputs": [],
   "source": [
    "counts = mmread(\"/iblm/netapp/data1/external/Gasperini2019/processed/GSE120861_at_scale_screen.exprs.mtx.gz\")"
   ]
  },
  {
   "cell_type": "code",
   "execution_count": null,
   "id": "9bbf5f2d",
   "metadata": {},
   "outputs": [],
   "source": [
    "def ll(params, counts, s, model):\n",
    "    '''log-likelihood function for nbinom test - H0\n",
    "    params[0] = beta0\n",
    "    params[1] = sqrt(disp)\n",
    "    counts = vector of counts for current gene in all cells\n",
    "    s = vector of scaling factors\n",
    "    '''\n",
    "    disp = params[-1]**2\n",
    "    mu = s*np.exp(params[0])\n",
    "    prob = disp/(disp+mu)\n",
    "    ll = nbinom.logpmf(counts,n=disp,p=prob)\n",
    "    print('-LL=%.3g' % -ll.sum())\n",
    "    return -ll.sum()"
   ]
  },
  {
   "cell_type": "code",
   "execution_count": null,
   "id": "e3e0cd17",
   "metadata": {},
   "outputs": [],
   "source": [
    "fitted = minimize(fun=ll, \n",
    "                    x0=(1,1),\n",
    "                    args=(counts_for_gene), \n",
    "                    method='Nelder-Mead',\n",
    "                    options = {'maxiter': 1e5, 'maxfev': 1e5})"
   ]
  }
 ],
 "metadata": {
  "kernelspec": {
   "display_name": "Python [conda env:r4]",
   "language": "python",
   "name": "conda-env-r4-py"
  },
  "language_info": {
   "codemirror_mode": {
    "name": "ipython",
    "version": 3
   },
   "file_extension": ".py",
   "mimetype": "text/x-python",
   "name": "python",
   "nbconvert_exporter": "python",
   "pygments_lexer": "ipython3",
   "version": "3.6.10"
  }
 },
 "nbformat": 4,
 "nbformat_minor": 5
}
