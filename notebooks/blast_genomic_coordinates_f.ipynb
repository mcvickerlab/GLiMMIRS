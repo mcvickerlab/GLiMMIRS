{
 "cells": [
  {
   "cell_type": "markdown",
   "id": "e24eb286-0d39-4651-96e1-bc3451a054e1",
   "metadata": {},
   "source": [
    "# BLAST - Obtain Genomic Coordinates for gRNAs\n",
    "\n",
    "This notebook attempts to determine the genomic coordinates of the spacer sequences (gRNA sequences) used in the Gasperini experiment.\n",
    "\n",
    "Author: Karthik Guruvayurappan"
   ]
  },
  {
   "cell_type": "code",
   "execution_count": 32,
   "id": "20234f2c-b3d1-4ced-97eb-5c08fe7f39c2",
   "metadata": {},
   "outputs": [],
   "source": [
    "# import computational packages\n",
    "import numpy as np\n",
    "import pandas as pd\n",
    "\n",
    "import subprocess\n",
    "import os\n",
    "\n",
    "# helpful global path variables\n",
    "project_path = '/iblm/netapp/home/karthik/gasperini_project/'\n",
    "data_path = '/iblm/netapp/data1/external/Gasperini2019/'"
   ]
  },
  {
   "cell_type": "markdown",
   "id": "8019b996-98bb-45c2-ae59-febccb86388e",
   "metadata": {},
   "source": [
    "## Load in Group and Sequence Data\n",
    "\n",
    "The Gasperini paper provided a dataframe which contains all of the target sites (enhancers) from the experiment, along with the spacer sequences corresponding to the target sites. Based on the paper, there should be two gRNAs for each target site."
   ]
  },
  {
   "cell_type": "code",
   "execution_count": 5,
   "id": "a7010f58-c7b5-4fb4-a23e-5056ef00d12c",
   "metadata": {},
   "outputs": [
    {
     "data": {
      "text/html": [
       "<div>\n",
       "<style scoped>\n",
       "    .dataframe tbody tr th:only-of-type {\n",
       "        vertical-align: middle;\n",
       "    }\n",
       "\n",
       "    .dataframe tbody tr th {\n",
       "        vertical-align: top;\n",
       "    }\n",
       "\n",
       "    .dataframe thead th {\n",
       "        text-align: right;\n",
       "    }\n",
       "</style>\n",
       "<table border=\"1\" class=\"dataframe\">\n",
       "  <thead>\n",
       "    <tr style=\"text-align: right;\">\n",
       "      <th></th>\n",
       "      <th>grna_group</th>\n",
       "      <th>spacer_sequence</th>\n",
       "    </tr>\n",
       "  </thead>\n",
       "  <tbody>\n",
       "    <tr>\n",
       "      <th>0</th>\n",
       "      <td>SH3BGRL3_TSS</td>\n",
       "      <td>AAACCGCTCCCGAGCACGGG</td>\n",
       "    </tr>\n",
       "    <tr>\n",
       "      <th>1</th>\n",
       "      <td>MTRNR2L8_TSS</td>\n",
       "      <td>AAATAGTGGGAAGATTCGTG</td>\n",
       "    </tr>\n",
       "    <tr>\n",
       "      <th>2</th>\n",
       "      <td>FAM83A_TSS</td>\n",
       "      <td>AACACACCACGGAGGAGTGG</td>\n",
       "    </tr>\n",
       "    <tr>\n",
       "      <th>3</th>\n",
       "      <td>ZNF593_TSS</td>\n",
       "      <td>AACAGCCCGGCCGGCCAAGG</td>\n",
       "    </tr>\n",
       "    <tr>\n",
       "      <th>4</th>\n",
       "      <td>ATPIF1_TSS</td>\n",
       "      <td>AACGAGAGACTGCTTGCTGG</td>\n",
       "    </tr>\n",
       "  </tbody>\n",
       "</table>\n",
       "</div>"
      ],
      "text/plain": [
       "     grna_group       spacer_sequence\n",
       "0  SH3BGRL3_TSS  AAACCGCTCCCGAGCACGGG\n",
       "1  MTRNR2L8_TSS  AAATAGTGGGAAGATTCGTG\n",
       "2    FAM83A_TSS  AACACACCACGGAGGAGTGG\n",
       "3    ZNF593_TSS  AACAGCCCGGCCGGCCAAGG\n",
       "4    ATPIF1_TSS  AACGAGAGACTGCTTGCTGG"
      ]
     },
     "execution_count": 5,
     "metadata": {},
     "output_type": "execute_result"
    }
   ],
   "source": [
    "# load in group sequence dataframe\n",
    "group_sequence_df = pd.read_csv(data_path + 'suppl/GSE120861_grna_groups.at_scale.txt', sep='\\t',\n",
    "                                names=['grna_group', 'spacer_sequence'])\n",
    "group_sequence_df.head()"
   ]
  },
  {
   "cell_type": "code",
   "execution_count": 6,
   "id": "7c94bbd0-6ce2-4668-9254-3f674fc9db1b",
   "metadata": {},
   "outputs": [
    {
     "data": {
      "text/plain": [
       "(13189, 2)"
      ]
     },
     "execution_count": 6,
     "metadata": {},
     "output_type": "execute_result"
    }
   ],
   "source": [
    "# check group sequence data frame shape\n",
    "group_sequence_df.shape"
   ]
  },
  {
   "cell_type": "code",
   "execution_count": 7,
   "id": "c81eae18-d362-464d-bdfe-1ebb06e4a247",
   "metadata": {},
   "outputs": [
    {
     "data": {
      "text/plain": [
       "grna_group         0\n",
       "spacer_sequence    0\n",
       "dtype: int64"
      ]
     },
     "execution_count": 7,
     "metadata": {},
     "output_type": "execute_result"
    }
   ],
   "source": [
    "# check dataframe missingness\n",
    "group_sequence_df.isna().sum()"
   ]
  },
  {
   "cell_type": "code",
   "execution_count": 10,
   "id": "51d611ee-6dc9-4f18-8ff8-acf2f2fff6ae",
   "metadata": {},
   "outputs": [
    {
     "data": {
      "text/plain": [
       "True"
      ]
     },
     "execution_count": 10,
     "metadata": {},
     "output_type": "execute_result"
    }
   ],
   "source": [
    "# check if there are duplicate spacer sequences\n",
    "len(group_sequence_df['spacer_sequence'].drop_duplicates()) == len(group_sequence_df['spacer_sequence'])"
   ]
  },
  {
   "cell_type": "code",
   "execution_count": 23,
   "id": "f0f716c3-35f1-4df7-813d-223efbd6d6c0",
   "metadata": {},
   "outputs": [
    {
     "data": {
      "text/html": [
       "<div>\n",
       "<style scoped>\n",
       "    .dataframe tbody tr th:only-of-type {\n",
       "        vertical-align: middle;\n",
       "    }\n",
       "\n",
       "    .dataframe tbody tr th {\n",
       "        vertical-align: top;\n",
       "    }\n",
       "\n",
       "    .dataframe thead th {\n",
       "        text-align: right;\n",
       "    }\n",
       "</style>\n",
       "<table border=\"1\" class=\"dataframe\">\n",
       "  <thead>\n",
       "    <tr style=\"text-align: right;\">\n",
       "      <th></th>\n",
       "      <th>spacer_sequence</th>\n",
       "    </tr>\n",
       "    <tr>\n",
       "      <th>grna_group</th>\n",
       "      <th></th>\n",
       "    </tr>\n",
       "  </thead>\n",
       "  <tbody>\n",
       "    <tr>\n",
       "      <th>bassik_mch</th>\n",
       "      <td>1</td>\n",
       "    </tr>\n",
       "    <tr>\n",
       "      <th>pos_control_Klannchr1_HBG1_HBG1_tss_both</th>\n",
       "      <td>1</td>\n",
       "    </tr>\n",
       "    <tr>\n",
       "      <th>pos_control_Klannchr1_HS3</th>\n",
       "      <td>1</td>\n",
       "    </tr>\n",
       "    <tr>\n",
       "      <th>pos_control_Klannchr1_HS4</th>\n",
       "      <td>1</td>\n",
       "    </tr>\n",
       "    <tr>\n",
       "      <th>pos_control_Klannchr_HS1</th>\n",
       "      <td>1</td>\n",
       "    </tr>\n",
       "    <tr>\n",
       "      <th>pos_control_mosaic_HB_HBE1_tss_A</th>\n",
       "      <td>1</td>\n",
       "    </tr>\n",
       "    <tr>\n",
       "      <th>pos_control_mosaic_HB_HBE1_tss_B</th>\n",
       "      <td>1</td>\n",
       "    </tr>\n",
       "  </tbody>\n",
       "</table>\n",
       "</div>"
      ],
      "text/plain": [
       "                                          spacer_sequence\n",
       "grna_group                                               \n",
       "bassik_mch                                              1\n",
       "pos_control_Klannchr1_HBG1_HBG1_tss_both                1\n",
       "pos_control_Klannchr1_HS3                               1\n",
       "pos_control_Klannchr1_HS4                               1\n",
       "pos_control_Klannchr_HS1                                1\n",
       "pos_control_mosaic_HB_HBE1_tss_A                        1\n",
       "pos_control_mosaic_HB_HBE1_tss_B                        1"
      ]
     },
     "execution_count": 23,
     "metadata": {},
     "output_type": "execute_result"
    }
   ],
   "source": [
    "# check that there are two guides per target site\n",
    "group_count_df = group_sequence_df.groupby('grna_group').count()\n",
    "group_count_one_df = group_count_df[group_count_df['spacer_sequence'] != 2]\n",
    "group_count_one_df"
   ]
  },
  {
   "cell_type": "code",
   "execution_count": 41,
   "id": "07de7368-23cb-4d34-a9ff-a49bf29bb9bd",
   "metadata": {},
   "outputs": [
    {
     "data": {
      "text/html": [
       "<div>\n",
       "<style scoped>\n",
       "    .dataframe tbody tr th:only-of-type {\n",
       "        vertical-align: middle;\n",
       "    }\n",
       "\n",
       "    .dataframe tbody tr th {\n",
       "        vertical-align: top;\n",
       "    }\n",
       "\n",
       "    .dataframe thead th {\n",
       "        text-align: right;\n",
       "    }\n",
       "</style>\n",
       "<table border=\"1\" class=\"dataframe\">\n",
       "  <thead>\n",
       "    <tr style=\"text-align: right;\">\n",
       "      <th></th>\n",
       "      <th>grna_group</th>\n",
       "      <th>spacer_sequence</th>\n",
       "    </tr>\n",
       "  </thead>\n",
       "  <tbody>\n",
       "    <tr>\n",
       "      <th>0</th>\n",
       "      <td>SH3BGRL3_TSS</td>\n",
       "      <td>AAACCGCTCCCGAGCACGGG</td>\n",
       "    </tr>\n",
       "    <tr>\n",
       "      <th>1</th>\n",
       "      <td>MTRNR2L8_TSS</td>\n",
       "      <td>AAATAGTGGGAAGATTCGTG</td>\n",
       "    </tr>\n",
       "    <tr>\n",
       "      <th>2</th>\n",
       "      <td>FAM83A_TSS</td>\n",
       "      <td>AACACACCACGGAGGAGTGG</td>\n",
       "    </tr>\n",
       "    <tr>\n",
       "      <th>3</th>\n",
       "      <td>ZNF593_TSS</td>\n",
       "      <td>AACAGCCCGGCCGGCCAAGG</td>\n",
       "    </tr>\n",
       "    <tr>\n",
       "      <th>4</th>\n",
       "      <td>ATPIF1_TSS</td>\n",
       "      <td>AACGAGAGACTGCTTGCTGG</td>\n",
       "    </tr>\n",
       "  </tbody>\n",
       "</table>\n",
       "</div>"
      ],
      "text/plain": [
       "     grna_group       spacer_sequence\n",
       "0  SH3BGRL3_TSS  AAACCGCTCCCGAGCACGGG\n",
       "1  MTRNR2L8_TSS  AAATAGTGGGAAGATTCGTG\n",
       "2    FAM83A_TSS  AACACACCACGGAGGAGTGG\n",
       "3    ZNF593_TSS  AACAGCCCGGCCGGCCAAGG\n",
       "4    ATPIF1_TSS  AACGAGAGACTGCTTGCTGG"
      ]
     },
     "execution_count": 41,
     "metadata": {},
     "output_type": "execute_result"
    }
   ],
   "source": [
    "# remove target sites for which there are not two guides\n",
    "group_sequence_df = group_sequence_df[~group_sequence_df['grna_group'].isin(group_count_one_df.index)]\n",
    "group_sequence_df = group_sequence_df.reset_index(drop=True)\n",
    "group_sequence_df.head()"
   ]
  },
  {
   "cell_type": "code",
   "execution_count": 30,
   "id": "6bf9e9e2-b7f0-4abd-b419-e531fb19ebd0",
   "metadata": {},
   "outputs": [
    {
     "data": {
      "text/plain": [
       "(13182, 2)"
      ]
     },
     "execution_count": 30,
     "metadata": {},
     "output_type": "execute_result"
    }
   ],
   "source": [
    "# get new group sequence dataframe shape \n",
    "group_sequence_df.shape"
   ]
  },
  {
   "cell_type": "markdown",
   "id": "c5f533af-18d1-4d96-9f8f-7d407cdeb25b",
   "metadata": {},
   "source": [
    "## Use BLAST to Determine Spacer Sequence Genomic Coordinates\n",
    "\n",
    "BLAST Preparation Steps:\n",
    "1. Generate BLAST database from GRCh37 FASTA file using makeblastdb on command line\n",
    "    - makeblastdb help: https://ncbi.github.io/magicblast/cook/blastdb.html\n",
    "2. Create FASTA Files for each Spacer Sequence\n",
    "3. Run BLAST with Short Query Parameters using `subprocess` Python Package"
   ]
  },
  {
   "cell_type": "code",
   "execution_count": 21,
   "id": "027b62b2-f62c-4098-9672-0de836d23bd8",
   "metadata": {},
   "outputs": [
    {
     "name": "stdout",
     "output_type": "stream",
     "text": [
      "USAGE\n",
      "  blastn [-h] [-help] [-import_search_strategy filename]\n",
      "    [-export_search_strategy filename] [-task task_name] [-db database_name]\n",
      "    [-dbsize num_letters] [-gilist filename] [-seqidlist filename]\n",
      "    [-negative_gilist filename] [-entrez_query entrez_query]\n",
      "    [-db_soft_mask filtering_algorithm] [-db_hard_mask filtering_algorithm]\n",
      "    [-subject subject_input_file] [-subject_loc range] [-query input_file]\n",
      "    [-out output_file] [-evalue evalue] [-word_size int_value]\n",
      "    [-gapopen open_penalty] [-gapextend extend_penalty]\n",
      "    [-perc_identity float_value] [-qcov_hsp_perc float_value]\n",
      "    [-max_hsps int_value] [-xdrop_ungap float_value] [-xdrop_gap float_value]\n",
      "    [-xdrop_gap_final float_value] [-searchsp int_value]\n",
      "    [-sum_stats bool_value] [-penalty penalty] [-reward reward] [-no_greedy]\n",
      "    [-min_raw_gapped_score int_value] [-template_type type]\n",
      "    [-template_length int_value] [-dust DUST_options]\n",
      "    [-filtering_db filtering_database]\n",
      "    [-window_masker_taxid window_masker_taxid]\n",
      "    [-window_masker_db window_masker_db] [-soft_masking soft_masking]\n",
      "    [-ungapped] [-culling_limit int_value] [-best_hit_overhang float_value]\n",
      "    [-best_hit_score_edge float_value] [-window_size int_value]\n",
      "    [-off_diagonal_range int_value] [-use_index boolean] [-index_name string]\n",
      "    [-lcase_masking] [-query_loc range] [-strand strand] [-parse_deflines]\n",
      "    [-outfmt format] [-show_gis] [-num_descriptions int_value]\n",
      "    [-num_alignments int_value] [-line_length line_length] [-html]\n",
      "    [-max_target_seqs num_sequences] [-num_threads int_value] [-remote]\n",
      "    [-version]\n",
      "\n",
      "DESCRIPTION\n",
      "   Nucleotide-Nucleotide BLAST 2.5.0+\n",
      "\n",
      "Use '-help' to print detailed descriptions of command line arguments\n",
      "\n"
     ]
    }
   ],
   "source": [
    "# print BLAST help menu (for reference)\n",
    "print((subprocess.run([\"blastn\", \"-h\"], capture_output=True).stdout).decode(\"utf-8\"))"
   ]
  },
  {
   "cell_type": "code",
   "execution_count": 31,
   "id": "6b493ce0-9703-4be0-8f1e-e21688eb8984",
   "metadata": {},
   "outputs": [
    {
     "data": {
      "text/plain": [
       "0        True\n",
       "1        True\n",
       "2        True\n",
       "3        True\n",
       "4        True\n",
       "         ... \n",
       "13184    True\n",
       "13185    True\n",
       "13186    True\n",
       "13187    True\n",
       "13188    True\n",
       "Name: spacer_sequence, Length: 13182, dtype: bool"
      ]
     },
     "execution_count": 31,
     "metadata": {},
     "output_type": "execute_result"
    }
   ],
   "source": [
    "def create_fasta(sequence):\n",
    "    '''helper function to create FASTA file given input sequence'''\n",
    "    \n",
    "    # open file and write sequence to BLAST folder\n",
    "    blast_path = '/iblm/netapp/home/karthik/gasperini_project/blast/'\n",
    "    filename = sequence + '.fasta'\n",
    "    filepath = blast_path + 'input/' + filename\n",
    "    with open(filepath, 'w') as f:\n",
    "        f.write(sequence + '\\n')\n",
    "    return True\n",
    "\n",
    "group_sequence_df['spacer_sequence'].apply(create_fasta)"
   ]
  },
  {
   "cell_type": "code",
   "execution_count": 18,
   "id": "cb58fa2c-be5b-47af-9af5-4f268902c6ae",
   "metadata": {},
   "outputs": [],
   "source": [
    "def run_blast(file):\n",
    "    '''helper function to get genomic coordinates from BLAST output'''\n",
    "    \n",
    "    # define BLAST command line arguments\n",
    "    blast_path = '/iblm/netapp/home/karthik/gasperini_project/blast/'\n",
    "    sequence = file.split('.')[0]\n",
    "    blast_args = [\"blastn\", \"-db\", blast_path + \"hg19\", \"-query\", blast_path + 'input/' + file, \"-task\", \n",
    "                  \"blastn-short\", '-outfmt', '6 sseqid evalue sstart send', '-out', \n",
    "                  blast_path + 'output/' + sequence + '.tsv']\n",
    "    \n",
    "    # run BLAST\n",
    "    subprocess.run(blast_args)\n",
    "    return True"
   ]
  },
  {
   "cell_type": "markdown",
   "id": "cd0a2f30-4928-4495-a20a-de8835b07ee7",
   "metadata": {},
   "source": [
    "## Use run_blast.py Script to Run BLAST for every FASTA File\n",
    "\n",
    "can be found in `/iblm/netapp/home/karthik/gasperini_project/scripts/run_blast.py` and run using `/iblm/netapp/home/karthik/gasperini_project/run_blast.sh`"
   ]
  },
  {
   "cell_type": "code",
   "execution_count": null,
   "id": "e419921d-6fb5-4158-bcbf-cb1237873864",
   "metadata": {},
   "outputs": [],
   "source": []
  }
 ],
 "metadata": {
  "kernelspec": {
   "display_name": "Python [conda env:py39]",
   "language": "python",
   "name": "conda-env-py39-py"
  },
  "language_info": {
   "codemirror_mode": {
    "name": "ipython",
    "version": 3
   },
   "file_extension": ".py",
   "mimetype": "text/x-python",
   "name": "python",
   "nbconvert_exporter": "python",
   "pygments_lexer": "ipython3",
   "version": "3.9.6"
  }
 },
 "nbformat": 4,
 "nbformat_minor": 5
}
