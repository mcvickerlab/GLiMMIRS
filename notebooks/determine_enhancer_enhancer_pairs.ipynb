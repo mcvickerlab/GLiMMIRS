{
 "cells": [
  {
   "cell_type": "code",
   "execution_count": 1,
   "metadata": {},
   "outputs": [],
   "source": [
    "import pandas as pd\n",
    "import numpy as np"
   ]
  },
  {
   "cell_type": "code",
   "execution_count": 2,
   "metadata": {},
   "outputs": [
    {
     "name": "stderr",
     "output_type": "stream",
     "text": [
      "/iblm/netapp/home/karthik/anaconda3/envs/py39/lib/python3.9/site-packages/IPython/core/interactiveshell.py:3441: DtypeWarning: Columns (1,2) have mixed types.Specify dtype option on import or set low_memory=False.\n",
      "  exec(code_obj, self.user_global_ns, self.user_ns)\n"
     ]
    }
   ],
   "source": [
    "enhancer_gene_pairs = pd.read_csv('/iblm/netapp/data1/external/Gasperini2019/suppl/GSE120861_gene_gRNAgroup_pair_table.at_scale.txt', sep = '\\t')"
   ]
  },
  {
   "cell_type": "code",
   "execution_count": 3,
   "metadata": {},
   "outputs": [
    {
     "data": {
      "text/html": [
       "<div>\n",
       "<style scoped>\n",
       "    .dataframe tbody tr th:only-of-type {\n",
       "        vertical-align: middle;\n",
       "    }\n",
       "\n",
       "    .dataframe tbody tr th {\n",
       "        vertical-align: top;\n",
       "    }\n",
       "\n",
       "    .dataframe thead th {\n",
       "        text-align: right;\n",
       "    }\n",
       "</style>\n",
       "<table border=\"1\" class=\"dataframe\">\n",
       "  <thead>\n",
       "    <tr style=\"text-align: right;\">\n",
       "      <th></th>\n",
       "      <th>gRNAgroup.chr</th>\n",
       "      <th>gRNAgroup.start</th>\n",
       "      <th>gRNAgroup.stop</th>\n",
       "      <th>gRNAgroup</th>\n",
       "      <th>general_group</th>\n",
       "      <th>chr.targetgene</th>\n",
       "      <th>start.targetgene</th>\n",
       "      <th>stop.targetgene</th>\n",
       "      <th>ENSG.targetgene</th>\n",
       "      <th>targetgene_short_name</th>\n",
       "      <th>strand.targetgene</th>\n",
       "      <th>pairs</th>\n",
       "    </tr>\n",
       "  </thead>\n",
       "  <tbody>\n",
       "    <tr>\n",
       "      <th>0</th>\n",
       "      <td>NTC</td>\n",
       "      <td>NTC</td>\n",
       "      <td>NTC</td>\n",
       "      <td>bassik_mch</td>\n",
       "      <td>NTC</td>\n",
       "      <td>chr10</td>\n",
       "      <td>28034777</td>\n",
       "      <td>28034778</td>\n",
       "      <td>ENSG00000150051</td>\n",
       "      <td>MKX</td>\n",
       "      <td>-</td>\n",
       "      <td>MKX:bassik_mch</td>\n",
       "    </tr>\n",
       "    <tr>\n",
       "      <th>1</th>\n",
       "      <td>NTC</td>\n",
       "      <td>NTC</td>\n",
       "      <td>NTC</td>\n",
       "      <td>bassik_mch</td>\n",
       "      <td>NTC</td>\n",
       "      <td>chr10</td>\n",
       "      <td>28287976</td>\n",
       "      <td>28287977</td>\n",
       "      <td>ENSG00000169126</td>\n",
       "      <td>ARMC4</td>\n",
       "      <td>-</td>\n",
       "      <td>ARMC4:bassik_mch</td>\n",
       "    </tr>\n",
       "    <tr>\n",
       "      <th>2</th>\n",
       "      <td>NTC</td>\n",
       "      <td>NTC</td>\n",
       "      <td>NTC</td>\n",
       "      <td>bassik_mch</td>\n",
       "      <td>NTC</td>\n",
       "      <td>chr10</td>\n",
       "      <td>28571017</td>\n",
       "      <td>28571018</td>\n",
       "      <td>ENSG00000150054</td>\n",
       "      <td>MPP7</td>\n",
       "      <td>-</td>\n",
       "      <td>MPP7:bassik_mch</td>\n",
       "    </tr>\n",
       "    <tr>\n",
       "      <th>3</th>\n",
       "      <td>NTC</td>\n",
       "      <td>NTC</td>\n",
       "      <td>NTC</td>\n",
       "      <td>bassik_mch</td>\n",
       "      <td>NTC</td>\n",
       "      <td>chr10</td>\n",
       "      <td>28821422</td>\n",
       "      <td>28821423</td>\n",
       "      <td>ENSG00000095787</td>\n",
       "      <td>WAC</td>\n",
       "      <td>+</td>\n",
       "      <td>WAC:bassik_mch</td>\n",
       "    </tr>\n",
       "    <tr>\n",
       "      <th>4</th>\n",
       "      <td>NTC</td>\n",
       "      <td>NTC</td>\n",
       "      <td>NTC</td>\n",
       "      <td>bassik_mch</td>\n",
       "      <td>NTC</td>\n",
       "      <td>chr10</td>\n",
       "      <td>28966271</td>\n",
       "      <td>28966272</td>\n",
       "      <td>ENSG00000095739</td>\n",
       "      <td>BAMBI</td>\n",
       "      <td>+</td>\n",
       "      <td>BAMBI:bassik_mch</td>\n",
       "    </tr>\n",
       "  </tbody>\n",
       "</table>\n",
       "</div>"
      ],
      "text/plain": [
       "  gRNAgroup.chr gRNAgroup.start gRNAgroup.stop   gRNAgroup general_group  \\\n",
       "0           NTC             NTC            NTC  bassik_mch           NTC   \n",
       "1           NTC             NTC            NTC  bassik_mch           NTC   \n",
       "2           NTC             NTC            NTC  bassik_mch           NTC   \n",
       "3           NTC             NTC            NTC  bassik_mch           NTC   \n",
       "4           NTC             NTC            NTC  bassik_mch           NTC   \n",
       "\n",
       "  chr.targetgene  start.targetgene  stop.targetgene  ENSG.targetgene  \\\n",
       "0          chr10          28034777         28034778  ENSG00000150051   \n",
       "1          chr10          28287976         28287977  ENSG00000169126   \n",
       "2          chr10          28571017         28571018  ENSG00000150054   \n",
       "3          chr10          28821422         28821423  ENSG00000095787   \n",
       "4          chr10          28966271         28966272  ENSG00000095739   \n",
       "\n",
       "  targetgene_short_name strand.targetgene             pairs  \n",
       "0                   MKX                 -    MKX:bassik_mch  \n",
       "1                 ARMC4                 -  ARMC4:bassik_mch  \n",
       "2                  MPP7                 -   MPP7:bassik_mch  \n",
       "3                   WAC                 +    WAC:bassik_mch  \n",
       "4                 BAMBI                 +  BAMBI:bassik_mch  "
      ]
     },
     "execution_count": 3,
     "metadata": {},
     "output_type": "execute_result"
    }
   ],
   "source": [
    "enhancer_gene_pairs.head()"
   ]
  },
  {
   "cell_type": "code",
   "execution_count": 4,
   "metadata": {},
   "outputs": [
    {
     "data": {
      "text/plain": [
       "(1086564, 12)"
      ]
     },
     "execution_count": 4,
     "metadata": {},
     "output_type": "execute_result"
    }
   ],
   "source": [
    "enhancer_gene_pairs.shape"
   ]
  },
  {
   "cell_type": "code",
   "execution_count": 24,
   "metadata": {},
   "outputs": [
    {
     "data": {
      "text/html": [
       "<div>\n",
       "<style scoped>\n",
       "    .dataframe tbody tr th:only-of-type {\n",
       "        vertical-align: middle;\n",
       "    }\n",
       "\n",
       "    .dataframe tbody tr th {\n",
       "        vertical-align: top;\n",
       "    }\n",
       "\n",
       "    .dataframe thead th {\n",
       "        text-align: right;\n",
       "    }\n",
       "</style>\n",
       "<table border=\"1\" class=\"dataframe\">\n",
       "  <thead>\n",
       "    <tr style=\"text-align: right;\">\n",
       "      <th></th>\n",
       "      <th>gRNAgroup</th>\n",
       "      <th>gRNAgroup.chr</th>\n",
       "      <th>gRNAgroup.start</th>\n",
       "      <th>gRNAgroup.stop</th>\n",
       "      <th>general_group</th>\n",
       "    </tr>\n",
       "  </thead>\n",
       "  <tbody>\n",
       "    <tr>\n",
       "      <th>0</th>\n",
       "      <td>chr10.1007_top_two</td>\n",
       "      <td>chr10</td>\n",
       "      <td>29023920</td>\n",
       "      <td>29024458</td>\n",
       "      <td>test_5k-untested</td>\n",
       "    </tr>\n",
       "    <tr>\n",
       "      <th>1</th>\n",
       "      <td>chr10.1018_top_two</td>\n",
       "      <td>chr10</td>\n",
       "      <td>29111303</td>\n",
       "      <td>29112331</td>\n",
       "      <td>test_5k-untested</td>\n",
       "    </tr>\n",
       "    <tr>\n",
       "      <th>2</th>\n",
       "      <td>chr10.1019_top_two</td>\n",
       "      <td>chr10</td>\n",
       "      <td>29115307</td>\n",
       "      <td>29115488</td>\n",
       "      <td>test_5k-untested</td>\n",
       "    </tr>\n",
       "    <tr>\n",
       "      <th>3</th>\n",
       "      <td>chr10.1020_top_two</td>\n",
       "      <td>chr10</td>\n",
       "      <td>29128454</td>\n",
       "      <td>29128983</td>\n",
       "      <td>test_5k-untested</td>\n",
       "    </tr>\n",
       "    <tr>\n",
       "      <th>4</th>\n",
       "      <td>chr10.1030_top_two</td>\n",
       "      <td>chr10</td>\n",
       "      <td>29275275</td>\n",
       "      <td>29275635</td>\n",
       "      <td>test_5k-untested</td>\n",
       "    </tr>\n",
       "  </tbody>\n",
       "</table>\n",
       "</div>"
      ],
      "text/plain": [
       "            gRNAgroup gRNAgroup.chr gRNAgroup.start gRNAgroup.stop  \\\n",
       "0  chr10.1007_top_two         chr10        29023920       29024458   \n",
       "1  chr10.1018_top_two         chr10        29111303       29112331   \n",
       "2  chr10.1019_top_two         chr10        29115307       29115488   \n",
       "3  chr10.1020_top_two         chr10        29128454       29128983   \n",
       "4  chr10.1030_top_two         chr10        29275275       29275635   \n",
       "\n",
       "      general_group  \n",
       "0  test_5k-untested  \n",
       "1  test_5k-untested  \n",
       "2  test_5k-untested  \n",
       "3  test_5k-untested  \n",
       "4  test_5k-untested  "
      ]
     },
     "execution_count": 24,
     "metadata": {},
     "output_type": "execute_result"
    }
   ],
   "source": [
    "# get unique enhancers from enhancer-gene pairs\n",
    "enhancers = enhancer_gene_pairs[['gRNAgroup', 'gRNAgroup.chr', 'gRNAgroup.start', 'gRNAgroup.stop', 'general_group']]\n",
    "enhancers = enhancers.drop_duplicates()\n",
    "enhancers = enhancers[enhancers['general_group'] != 'NTC']\n",
    "enhancers = enhancers[enhancers['general_group'] != 'positive_ctrl']\n",
    "enhancers = enhancers[enhancers['general_group'] != 'TSS']\n",
    "enhancers = enhancers.reset_index(drop=True)\n",
    "enhancers.head()"
   ]
  },
  {
   "cell_type": "code",
   "execution_count": 25,
   "metadata": {},
   "outputs": [
    {
     "data": {
      "text/plain": [
       "(6144, 5)"
      ]
     },
     "execution_count": 25,
     "metadata": {},
     "output_type": "execute_result"
    }
   ],
   "source": [
    "enhancers.shape"
   ]
  },
  {
   "cell_type": "code",
   "execution_count": 27,
   "metadata": {},
   "outputs": [
    {
     "data": {
      "text/html": [
       "<div>\n",
       "<style scoped>\n",
       "    .dataframe tbody tr th:only-of-type {\n",
       "        vertical-align: middle;\n",
       "    }\n",
       "\n",
       "    .dataframe tbody tr th {\n",
       "        vertical-align: top;\n",
       "    }\n",
       "\n",
       "    .dataframe thead th {\n",
       "        text-align: right;\n",
       "    }\n",
       "</style>\n",
       "<table border=\"1\" class=\"dataframe\">\n",
       "  <thead>\n",
       "    <tr style=\"text-align: right;\">\n",
       "      <th></th>\n",
       "      <th>ENSG.targetgene</th>\n",
       "      <th>chr.targetgene</th>\n",
       "      <th>start.targetgene</th>\n",
       "      <th>stop.targetgene</th>\n",
       "    </tr>\n",
       "  </thead>\n",
       "  <tbody>\n",
       "    <tr>\n",
       "      <th>0</th>\n",
       "      <td>ENSG00000150051</td>\n",
       "      <td>chr10</td>\n",
       "      <td>28034777</td>\n",
       "      <td>28034778</td>\n",
       "    </tr>\n",
       "    <tr>\n",
       "      <th>1</th>\n",
       "      <td>ENSG00000169126</td>\n",
       "      <td>chr10</td>\n",
       "      <td>28287976</td>\n",
       "      <td>28287977</td>\n",
       "    </tr>\n",
       "    <tr>\n",
       "      <th>2</th>\n",
       "      <td>ENSG00000150054</td>\n",
       "      <td>chr10</td>\n",
       "      <td>28571017</td>\n",
       "      <td>28571018</td>\n",
       "    </tr>\n",
       "    <tr>\n",
       "      <th>3</th>\n",
       "      <td>ENSG00000095787</td>\n",
       "      <td>chr10</td>\n",
       "      <td>28821422</td>\n",
       "      <td>28821423</td>\n",
       "    </tr>\n",
       "    <tr>\n",
       "      <th>4</th>\n",
       "      <td>ENSG00000095739</td>\n",
       "      <td>chr10</td>\n",
       "      <td>28966271</td>\n",
       "      <td>28966272</td>\n",
       "    </tr>\n",
       "  </tbody>\n",
       "</table>\n",
       "</div>"
      ],
      "text/plain": [
       "   ENSG.targetgene chr.targetgene  start.targetgene  stop.targetgene\n",
       "0  ENSG00000150051          chr10          28034777         28034778\n",
       "1  ENSG00000169126          chr10          28287976         28287977\n",
       "2  ENSG00000150054          chr10          28571017         28571018\n",
       "3  ENSG00000095787          chr10          28821422         28821423\n",
       "4  ENSG00000095739          chr10          28966271         28966272"
      ]
     },
     "execution_count": 27,
     "metadata": {},
     "output_type": "execute_result"
    }
   ],
   "source": [
    "# get unique genes\n",
    "genes = enhancer_gene_pairs[['ENSG.targetgene', 'chr.targetgene', 'start.targetgene', 'stop.targetgene']]\n",
    "genes = genes.drop_duplicates()\n",
    "genes.head()"
   ]
  },
  {
   "cell_type": "code",
   "execution_count": 31,
   "metadata": {},
   "outputs": [
    {
     "data": {
      "text/html": [
       "<div>\n",
       "<style scoped>\n",
       "    .dataframe tbody tr th:only-of-type {\n",
       "        vertical-align: middle;\n",
       "    }\n",
       "\n",
       "    .dataframe tbody tr th {\n",
       "        vertical-align: top;\n",
       "    }\n",
       "\n",
       "    .dataframe thead th {\n",
       "        text-align: right;\n",
       "    }\n",
       "</style>\n",
       "<table border=\"1\" class=\"dataframe\">\n",
       "  <thead>\n",
       "    <tr style=\"text-align: right;\">\n",
       "      <th></th>\n",
       "      <th>gRNAgroup</th>\n",
       "      <th>gRNAgroup.chr</th>\n",
       "      <th>gRNAgroup.start</th>\n",
       "      <th>gRNAgroup.stop</th>\n",
       "      <th>general_group</th>\n",
       "    </tr>\n",
       "  </thead>\n",
       "  <tbody>\n",
       "    <tr>\n",
       "      <th>0</th>\n",
       "      <td>chr10.1007_top_two</td>\n",
       "      <td>chr10</td>\n",
       "      <td>29023920</td>\n",
       "      <td>29024458</td>\n",
       "      <td>test_5k-untested</td>\n",
       "    </tr>\n",
       "    <tr>\n",
       "      <th>1</th>\n",
       "      <td>chr10.1018_top_two</td>\n",
       "      <td>chr10</td>\n",
       "      <td>29111303</td>\n",
       "      <td>29112331</td>\n",
       "      <td>test_5k-untested</td>\n",
       "    </tr>\n",
       "    <tr>\n",
       "      <th>2</th>\n",
       "      <td>chr10.1019_top_two</td>\n",
       "      <td>chr10</td>\n",
       "      <td>29115307</td>\n",
       "      <td>29115488</td>\n",
       "      <td>test_5k-untested</td>\n",
       "    </tr>\n",
       "    <tr>\n",
       "      <th>3</th>\n",
       "      <td>chr10.1020_top_two</td>\n",
       "      <td>chr10</td>\n",
       "      <td>29128454</td>\n",
       "      <td>29128983</td>\n",
       "      <td>test_5k-untested</td>\n",
       "    </tr>\n",
       "    <tr>\n",
       "      <th>4</th>\n",
       "      <td>chr10.1030_top_two</td>\n",
       "      <td>chr10</td>\n",
       "      <td>29275275</td>\n",
       "      <td>29275635</td>\n",
       "      <td>test_5k-untested</td>\n",
       "    </tr>\n",
       "  </tbody>\n",
       "</table>\n",
       "</div>"
      ],
      "text/plain": [
       "            gRNAgroup gRNAgroup.chr  gRNAgroup.start  gRNAgroup.stop  \\\n",
       "0  chr10.1007_top_two         chr10         29023920        29024458   \n",
       "1  chr10.1018_top_two         chr10         29111303        29112331   \n",
       "2  chr10.1019_top_two         chr10         29115307        29115488   \n",
       "3  chr10.1020_top_two         chr10         29128454        29128983   \n",
       "4  chr10.1030_top_two         chr10         29275275        29275635   \n",
       "\n",
       "      general_group  \n",
       "0  test_5k-untested  \n",
       "1  test_5k-untested  \n",
       "2  test_5k-untested  \n",
       "3  test_5k-untested  \n",
       "4  test_5k-untested  "
      ]
     },
     "execution_count": 31,
     "metadata": {},
     "output_type": "execute_result"
    }
   ],
   "source": [
    "# get all enhancer pairs within 100kb of each other\n",
    "enhancers['gRNAgroup.start'] = enhancers['gRNAgroup.start'].astype(np.int64)\n",
    "enhancers['gRNAgroup.stop'] = enhancers['gRNAgroup.stop'].astype(np.int64)\n",
    "enhancers['gRNAgroup.position'] = (enhancers['gRNAgroup.start'] + enhancers['gRNAgroup.stop']) / 2\n",
    "enhancers.head()"
   ]
  },
  {
   "cell_type": "code",
   "execution_count": null,
   "metadata": {},
   "outputs": [],
   "source": []
  }
 ],
 "metadata": {
  "kernelspec": {
   "display_name": "Python 3.9.6 ('py39': conda)",
   "language": "python",
   "name": "python3"
  },
  "language_info": {
   "codemirror_mode": {
    "name": "ipython",
    "version": 3
   },
   "file_extension": ".py",
   "mimetype": "text/x-python",
   "name": "python",
   "nbconvert_exporter": "python",
   "pygments_lexer": "ipython3",
   "version": "3.9.6"
  },
  "orig_nbformat": 4,
  "vscode": {
   "interpreter": {
    "hash": "d06d67414be9f1b8ea43583a8ba8038fe8d3db41f940ac23090aa77399c93b0a"
   }
  }
 },
 "nbformat": 4,
 "nbformat_minor": 2
}
