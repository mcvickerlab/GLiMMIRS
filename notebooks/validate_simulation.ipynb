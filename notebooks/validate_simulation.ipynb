{
 "cells": [
  {
   "cell_type": "code",
   "execution_count": 6,
   "id": "d13fe51c",
   "metadata": {},
   "outputs": [],
   "source": [
    "library(rhdf5)\n",
    "library(MASS)\n",
    "library(broom)"
   ]
  },
  {
   "cell_type": "markdown",
   "id": "df3aa47b",
   "metadata": {},
   "source": [
    "# Test reading h5 and accessing data"
   ]
  },
  {
   "cell_type": "code",
   "execution_count": 7,
   "id": "1fbd7eae",
   "metadata": {},
   "outputs": [],
   "source": [
    "fh <- \"../simulated_data/sim.h5\""
   ]
  },
  {
   "cell_type": "markdown",
   "id": "b4354757",
   "metadata": {},
   "source": [
    "Get internal structure of h5 file"
   ]
  },
  {
   "cell_type": "code",
   "execution_count": 8,
   "id": "2280419f",
   "metadata": {},
   "outputs": [
    {
     "ename": "ERROR",
     "evalue": "Error in H5Fopen(file, flags = flags, fapl = fapl, native = native): HDF5. File accessibility. Unable to open file.\n",
     "output_type": "error",
     "traceback": [
      "Error in H5Fopen(file, flags = flags, fapl = fapl, native = native): HDF5. File accessibility. Unable to open file.\nTraceback:\n",
      "1. h5ls(fh)",
      "2. h5checktypeOrOpenLoc(file, readonly = TRUE, fapl = NULL, native = native)",
      "3. H5Fopen(file, flags = flags, fapl = fapl, native = native)"
     ]
    }
   ],
   "source": [
    "h5ls(fh)"
   ]
  },
  {
   "cell_type": "markdown",
   "id": "48cfd071",
   "metadata": {},
   "source": [
    "Test reading first row from counts matrix"
   ]
  },
  {
   "cell_type": "code",
   "execution_count": 9,
   "id": "f6eb495e",
   "metadata": {},
   "outputs": [
    {
     "ename": "ERROR",
     "evalue": "Error in h5checktypeOrOpenLoc(file, readonly = TRUE, fapl = NULL, native = native): Error in h5checktypeOrOpenLoc(). Cannot open file. File '../simulated_data/sim.h5' does not exist.\n",
     "output_type": "error",
     "traceback": [
      "Error in h5checktypeOrOpenLoc(file, readonly = TRUE, fapl = NULL, native = native): Error in h5checktypeOrOpenLoc(). Cannot open file. File '../simulated_data/sim.h5' does not exist.\nTraceback:\n",
      "1. system.time(row.counts <- h5read(file = fh, name = \"counts\", \n .     index = list(1, 1:50000)))",
      "2. h5read(file = fh, name = \"counts\", index = list(1, 1:50000))",
      "3. h5checktypeOrOpenLoc(file, readonly = TRUE, fapl = NULL, native = native)",
      "4. stop(\"Error in \", fctname, \". Cannot open file. File '\", file, \n .     \"' does not exist.\")"
     ]
    },
    {
     "name": "stderr",
     "output_type": "stream",
     "text": [
      "Timing stopped at: 0.004 0 0.004\n",
      "\n"
     ]
    }
   ],
   "source": [
    "system.time(row.counts <- h5read(file = fh, name = \"counts\", index = list(1, 1:50000)))"
   ]
  },
  {
   "cell_type": "code",
   "execution_count": 108,
   "id": "24199ba1",
   "metadata": {},
   "outputs": [
    {
     "data": {
      "text/html": [
       "<table class=\"dataframe\">\n",
       "<caption>A matrix: 1 × 50000 of type int</caption>\n",
       "<tbody>\n",
       "\t<tr><td>0</td><td>15</td><td>4</td><td>2</td><td>1</td><td>0</td><td>0</td><td>44</td><td>30</td><td>20</td><td>⋯</td><td>6</td><td>8</td><td>16</td><td>1</td><td>24</td><td>0</td><td>0</td><td>0</td><td>0</td><td>4</td></tr>\n",
       "</tbody>\n",
       "</table>\n"
      ],
      "text/latex": [
       "A matrix: 1 × 50000 of type int\n",
       "\\begin{tabular}{lllllllllllllllllllll}\n",
       "\t 0 & 15 & 4 & 2 & 1 & 0 & 0 & 44 & 30 & 20 & ⋯ & 6 & 8 & 16 & 1 & 24 & 0 & 0 & 0 & 0 & 4\\\\\n",
       "\\end{tabular}\n"
      ],
      "text/markdown": [
       "\n",
       "A matrix: 1 × 50000 of type int\n",
       "\n",
       "| 0 | 15 | 4 | 2 | 1 | 0 | 0 | 44 | 30 | 20 | ⋯ | 6 | 8 | 16 | 1 | 24 | 0 | 0 | 0 | 0 | 4 |\n",
       "\n"
      ],
      "text/plain": [
       "     [,1] [,2] [,3] [,4] [,5] [,6] [,7] [,8] [,9] [,10] [,11] [,12] [,13] [,14]\n",
       "[1,] 0    15   4    2    1    0    0    44   30   20    ⋯     6     8     16   \n",
       "     [,15] [,16] [,17] [,18] [,19] [,20] [,21]\n",
       "[1,] 1     24    0     0     0     0     4    "
      ]
     },
     "metadata": {},
     "output_type": "display_data"
    }
   ],
   "source": [
    "row.counts"
   ]
  },
  {
   "cell_type": "markdown",
   "id": "173f4bac",
   "metadata": {},
   "source": [
    "Check if this matches"
   ]
  },
  {
   "cell_type": "code",
   "execution_count": 109,
   "id": "cfc3aa26",
   "metadata": {},
   "outputs": [
    {
     "data": {
      "text/html": [
       "<style>\n",
       ".list-inline {list-style: none; margin:0; padding: 0}\n",
       ".list-inline>li {display: inline-block}\n",
       ".list-inline>li:not(:last-child)::after {content: \"\\00b7\"; padding: 0 .5ex}\n",
       "</style>\n",
       "<ol class=list-inline><li>13000</li><li>50000</li></ol>\n"
      ],
      "text/latex": [
       "\\begin{enumerate*}\n",
       "\\item 13000\n",
       "\\item 50000\n",
       "\\end{enumerate*}\n"
      ],
      "text/markdown": [
       "1. 13000\n",
       "2. 50000\n",
       "\n",
       "\n"
      ],
      "text/plain": [
       "[1] 13000 50000"
      ]
     },
     "metadata": {},
     "output_type": "display_data"
    },
    {
     "data": {
      "text/html": [
       "<style>\n",
       ".list-inline {list-style: none; margin:0; padding: 0}\n",
       ".list-inline>li {display: inline-block}\n",
       ".list-inline>li:not(:last-child)::after {content: \"\\00b7\"; padding: 0 .5ex}\n",
       "</style>\n",
       "<ol class=list-inline><li>0</li><li>15</li><li>4</li><li>2</li><li>1</li><li>0</li><li>0</li><li>44</li><li>30</li><li>20</li></ol>\n"
      ],
      "text/latex": [
       "\\begin{enumerate*}\n",
       "\\item 0\n",
       "\\item 15\n",
       "\\item 4\n",
       "\\item 2\n",
       "\\item 1\n",
       "\\item 0\n",
       "\\item 0\n",
       "\\item 44\n",
       "\\item 30\n",
       "\\item 20\n",
       "\\end{enumerate*}\n"
      ],
      "text/markdown": [
       "1. 0\n",
       "2. 15\n",
       "3. 4\n",
       "4. 2\n",
       "5. 1\n",
       "6. 0\n",
       "7. 0\n",
       "8. 44\n",
       "9. 30\n",
       "10. 20\n",
       "\n",
       "\n"
      ],
      "text/plain": [
       " [1]  0 15  4  2  1  0  0 44 30 20"
      ]
     },
     "metadata": {},
     "output_type": "display_data"
    }
   ],
   "source": [
    "counts.mtx <- h5read(fh, \"counts\")\n",
    "dim(counts.mtx)\n",
    "counts.mtx[1,1:10]"
   ]
  },
  {
   "cell_type": "markdown",
   "id": "ee3323dd",
   "metadata": {},
   "source": [
    "Try pulling a row from matrix of $X_1$"
   ]
  },
  {
   "cell_type": "code",
   "execution_count": 110,
   "id": "26b54ebc",
   "metadata": {},
   "outputs": [
    {
     "data": {
      "text/plain": [
       "   user  system elapsed \n",
       "  0.534   0.006   0.541 "
      ]
     },
     "metadata": {},
     "output_type": "display_data"
    }
   ],
   "source": [
    "system.time(row.vars <- h5read(file = fh, name = \"x/x1\", index = list(1, 1:50000)))"
   ]
  },
  {
   "cell_type": "code",
   "execution_count": 111,
   "id": "b9ed7915",
   "metadata": {},
   "outputs": [
    {
     "data": {
      "text/html": [
       "309"
      ],
      "text/latex": [
       "309"
      ],
      "text/markdown": [
       "309"
      ],
      "text/plain": [
       "[1] 309"
      ]
     },
     "metadata": {},
     "output_type": "display_data"
    }
   ],
   "source": [
    "sum(row.vars)"
   ]
  },
  {
   "cell_type": "markdown",
   "id": "c47a65f7",
   "metadata": {},
   "source": [
    "Check if this is correct"
   ]
  },
  {
   "cell_type": "code",
   "execution_count": 112,
   "id": "ad0f2f93",
   "metadata": {},
   "outputs": [
    {
     "data": {
      "text/html": [
       "309"
      ],
      "text/latex": [
       "309"
      ],
      "text/markdown": [
       "309"
      ],
      "text/plain": [
       "[1] 309"
      ]
     },
     "metadata": {},
     "output_type": "display_data"
    }
   ],
   "source": [
    "x1.mtx <- h5read(fh, \"x/x1\")\n",
    "sum(x1.mtx[1,1:50000])"
   ]
  },
  {
   "cell_type": "markdown",
   "id": "53bb303e",
   "metadata": {},
   "source": [
    "# Load fixed values\n",
    "\n",
    "Coefficients (ground truth for evaluating model performance) \n",
    "\n",
    "Cell cycle scores (same for every gene)"
   ]
  },
  {
   "cell_type": "code",
   "execution_count": 113,
   "id": "243b4154",
   "metadata": {},
   "outputs": [],
   "source": [
    "coeffs <- h5read(file = fh, name = \"coeffs\")\n",
    "cell.cycle.scores <- h5read(fh, \"x/cell_cycle_scores\")\n",
    "scaling.factors <- h5read(file = fh, name = \"scaling_factors\")\n",
    "guides.metadata <- h5read(file = fh, name = \"guides/metadata\")"
   ]
  },
  {
   "cell_type": "code",
   "execution_count": 114,
   "id": "eb1dff6b",
   "metadata": {},
   "outputs": [
    {
     "data": {
      "text/html": [
       "<table class=\"dataframe\">\n",
       "<caption>A data.frame: 6 × 3</caption>\n",
       "<thead>\n",
       "\t<tr><th></th><th scope=col>target.gene</th><th scope=col>efficiency</th><th scope=col>effect.size</th></tr>\n",
       "\t<tr><th></th><th scope=col>&lt;int&gt;</th><th scope=col>&lt;dbl&gt;</th><th scope=col>&lt;dbl&gt;</th></tr>\n",
       "</thead>\n",
       "<tbody>\n",
       "\t<tr><th scope=row>1</th><td> 8890</td><td>0.5839696</td><td>-3.091298</td></tr>\n",
       "\t<tr><th scope=row>2</th><td> 8344</td><td>0.6177571</td><td>-2.482861</td></tr>\n",
       "\t<tr><th scope=row>3</th><td>10894</td><td>0.7364427</td><td>-2.701824</td></tr>\n",
       "\t<tr><th scope=row>4</th><td> 5123</td><td>0.7752164</td><td>-2.813812</td></tr>\n",
       "\t<tr><th scope=row>5</th><td> 6571</td><td>0.7739046</td><td>-2.201368</td></tr>\n",
       "\t<tr><th scope=row>6</th><td> 3693</td><td>0.5629113</td><td>-1.948516</td></tr>\n",
       "</tbody>\n",
       "</table>\n"
      ],
      "text/latex": [
       "A data.frame: 6 × 3\n",
       "\\begin{tabular}{r|lll}\n",
       "  & target.gene & efficiency & effect.size\\\\\n",
       "  & <int> & <dbl> & <dbl>\\\\\n",
       "\\hline\n",
       "\t1 &  8890 & 0.5839696 & -3.091298\\\\\n",
       "\t2 &  8344 & 0.6177571 & -2.482861\\\\\n",
       "\t3 & 10894 & 0.7364427 & -2.701824\\\\\n",
       "\t4 &  5123 & 0.7752164 & -2.813812\\\\\n",
       "\t5 &  6571 & 0.7739046 & -2.201368\\\\\n",
       "\t6 &  3693 & 0.5629113 & -1.948516\\\\\n",
       "\\end{tabular}\n"
      ],
      "text/markdown": [
       "\n",
       "A data.frame: 6 × 3\n",
       "\n",
       "| <!--/--> | target.gene &lt;int&gt; | efficiency &lt;dbl&gt; | effect.size &lt;dbl&gt; |\n",
       "|---|---|---|---|\n",
       "| 1 |  8890 | 0.5839696 | -3.091298 |\n",
       "| 2 |  8344 | 0.6177571 | -2.482861 |\n",
       "| 3 | 10894 | 0.7364427 | -2.701824 |\n",
       "| 4 |  5123 | 0.7752164 | -2.813812 |\n",
       "| 5 |  6571 | 0.7739046 | -2.201368 |\n",
       "| 6 |  3693 | 0.5629113 | -1.948516 |\n",
       "\n"
      ],
      "text/plain": [
       "  target.gene efficiency effect.size\n",
       "1  8890       0.5839696  -3.091298  \n",
       "2  8344       0.6177571  -2.482861  \n",
       "3 10894       0.7364427  -2.701824  \n",
       "4  5123       0.7752164  -2.813812  \n",
       "5  6571       0.7739046  -2.201368  \n",
       "6  3693       0.5629113  -1.948516  "
      ]
     },
     "metadata": {},
     "output_type": "display_data"
    }
   ],
   "source": [
    "head(guides.metadata)"
   ]
  },
  {
   "cell_type": "code",
   "execution_count": 115,
   "id": "9c3af3d5",
   "metadata": {},
   "outputs": [
    {
     "data": {
      "text/html": [
       "FALSE"
      ],
      "text/latex": [
       "FALSE"
      ],
      "text/markdown": [
       "FALSE"
      ],
      "text/plain": [
       "[1] FALSE"
      ]
     },
     "metadata": {},
     "output_type": "display_data"
    }
   ],
   "source": [
    "2 %in% guides.metadata$target.gene"
   ]
  },
  {
   "cell_type": "markdown",
   "id": "2b3e98b9",
   "metadata": {},
   "source": [
    "# Define null and alternative models\n",
    "\n",
    "## Model\n",
    "$$y = \\text{NB}(\\mu=s \\cdot \\exp \\left( \\beta_0 + \\beta_1 X_1 + \\beta_2 X_2 + \\beta_3 X_3 \\right), n=\\sigma)$$\n",
    "### $H_0: \\beta_1 = 0 $\n",
    "### $H_A: \\beta_1 \\neq 0 $\n",
    "\n"
   ]
  },
  {
   "cell_type": "markdown",
   "id": "00934543",
   "metadata": {},
   "source": [
    "### Test for one gene with `glm.nb` (MASS library)"
   ]
  },
  {
   "cell_type": "code",
   "execution_count": 116,
   "id": "c89ea0ed",
   "metadata": {},
   "outputs": [],
   "source": [
    "test.gene <- 1\n",
    "\n",
    "obs.counts <- h5read(file = fh, name = \"counts\", index = list(test.gene, 1:50000))\n",
    "gene.data <- data.frame(guide.eff = as.integer(h5read(file = fh, name = \"x/x1\", index = list(test.gene, 1:50000))),\n",
    "                       s.score = cell.cycle.scores$s.scores,\n",
    "                       g2m.score = cell.cycle.scores$g2m.scores,\n",
    "                       counts = as.integer(obs.counts),\n",
    "                       scaling.factor = scaling.factors)"
   ]
  },
  {
   "cell_type": "code",
   "execution_count": 117,
   "id": "8028e075",
   "metadata": {},
   "outputs": [
    {
     "data": {
      "text/html": [
       "<table class=\"dataframe\">\n",
       "<caption>A data.frame: 6 × 5</caption>\n",
       "<thead>\n",
       "\t<tr><th></th><th scope=col>guide.eff</th><th scope=col>s.score</th><th scope=col>g2m.score</th><th scope=col>counts</th><th scope=col>scaling.factor</th></tr>\n",
       "\t<tr><th></th><th scope=col>&lt;int&gt;</th><th scope=col>&lt;dbl&gt;</th><th scope=col>&lt;dbl&gt;</th><th scope=col>&lt;int&gt;</th><th scope=col>&lt;dbl&gt;</th></tr>\n",
       "</thead>\n",
       "<tbody>\n",
       "\t<tr><th scope=row>1</th><td>0</td><td>-0.6605419</td><td>-0.31670538</td><td> 0</td><td>0.050167</td></tr>\n",
       "\t<tr><th scope=row>2</th><td>0</td><td> 1.3238916</td><td>-1.14640695</td><td>15</td><td>0.050184</td></tr>\n",
       "\t<tr><th scope=row>3</th><td>0</td><td>-0.1031474</td><td> 0.29847610</td><td> 4</td><td>0.050145</td></tr>\n",
       "\t<tr><th scope=row>4</th><td>0</td><td>-0.3260718</td><td> 0.60811720</td><td> 2</td><td>0.049669</td></tr>\n",
       "\t<tr><th scope=row>5</th><td>0</td><td> 0.5385560</td><td>-0.86269276</td><td> 1</td><td>0.050237</td></tr>\n",
       "\t<tr><th scope=row>6</th><td>0</td><td>-0.3940143</td><td>-0.02239488</td><td> 0</td><td>0.050092</td></tr>\n",
       "</tbody>\n",
       "</table>\n"
      ],
      "text/latex": [
       "A data.frame: 6 × 5\n",
       "\\begin{tabular}{r|lllll}\n",
       "  & guide.eff & s.score & g2m.score & counts & scaling.factor\\\\\n",
       "  & <int> & <dbl> & <dbl> & <int> & <dbl>\\\\\n",
       "\\hline\n",
       "\t1 & 0 & -0.6605419 & -0.31670538 &  0 & 0.050167\\\\\n",
       "\t2 & 0 &  1.3238916 & -1.14640695 & 15 & 0.050184\\\\\n",
       "\t3 & 0 & -0.1031474 &  0.29847610 &  4 & 0.050145\\\\\n",
       "\t4 & 0 & -0.3260718 &  0.60811720 &  2 & 0.049669\\\\\n",
       "\t5 & 0 &  0.5385560 & -0.86269276 &  1 & 0.050237\\\\\n",
       "\t6 & 0 & -0.3940143 & -0.02239488 &  0 & 0.050092\\\\\n",
       "\\end{tabular}\n"
      ],
      "text/markdown": [
       "\n",
       "A data.frame: 6 × 5\n",
       "\n",
       "| <!--/--> | guide.eff &lt;int&gt; | s.score &lt;dbl&gt; | g2m.score &lt;dbl&gt; | counts &lt;int&gt; | scaling.factor &lt;dbl&gt; |\n",
       "|---|---|---|---|---|---|\n",
       "| 1 | 0 | -0.6605419 | -0.31670538 |  0 | 0.050167 |\n",
       "| 2 | 0 |  1.3238916 | -1.14640695 | 15 | 0.050184 |\n",
       "| 3 | 0 | -0.1031474 |  0.29847610 |  4 | 0.050145 |\n",
       "| 4 | 0 | -0.3260718 |  0.60811720 |  2 | 0.049669 |\n",
       "| 5 | 0 |  0.5385560 | -0.86269276 |  1 | 0.050237 |\n",
       "| 6 | 0 | -0.3940143 | -0.02239488 |  0 | 0.050092 |\n",
       "\n"
      ],
      "text/plain": [
       "  guide.eff s.score    g2m.score   counts scaling.factor\n",
       "1 0         -0.6605419 -0.31670538  0     0.050167      \n",
       "2 0          1.3238916 -1.14640695 15     0.050184      \n",
       "3 0         -0.1031474  0.29847610  4     0.050145      \n",
       "4 0         -0.3260718  0.60811720  2     0.049669      \n",
       "5 0          0.5385560 -0.86269276  1     0.050237      \n",
       "6 0         -0.3940143 -0.02239488  0     0.050092      "
      ]
     },
     "metadata": {},
     "output_type": "display_data"
    }
   ],
   "source": [
    "head(gene.data)"
   ]
  },
  {
   "cell_type": "code",
   "execution_count": 118,
   "id": "a372a698",
   "metadata": {},
   "outputs": [
    {
     "data": {
      "text/plain": [
       "   user  system elapsed \n",
       " 23.862  21.565   2.403 "
      ]
     },
     "metadata": {},
     "output_type": "display_data"
    }
   ],
   "source": [
    "system.time(ml <- glm.nb(counts ~ guide.eff + s.score + g2m.score + offset(log(scaling.factor)), data = gene.data))"
   ]
  },
  {
   "cell_type": "code",
   "execution_count": 119,
   "id": "f537148a",
   "metadata": {},
   "outputs": [
    {
     "data": {
      "text/plain": [
       "\n",
       "Call:\n",
       "glm.nb(formula = counts ~ guide.eff + s.score + g2m.score + offset(log(scaling.factor)), \n",
       "    data = gene.data, init.theta = 1.488063159, link = log)\n",
       "\n",
       "Deviance Residuals: \n",
       "    Min       1Q   Median       3Q      Max  \n",
       "-4.0998  -0.8991  -0.3799   0.3111   3.4680  \n",
       "\n",
       "Coefficients:\n",
       "             Estimate Std. Error z value Pr(>|z|)    \n",
       "(Intercept)  3.941475   0.005934   664.2   <2e-16 ***\n",
       "guide.eff   -2.633693   0.089584   -29.4   <2e-16 ***\n",
       "s.score      3.592102   0.010013   358.7   <2e-16 ***\n",
       "g2m.score    1.937589   0.008672   223.4   <2e-16 ***\n",
       "---\n",
       "Signif. codes:  0 ‘***’ 0.001 ‘**’ 0.01 ‘*’ 0.05 ‘.’ 0.1 ‘ ’ 1\n",
       "\n",
       "(Dispersion parameter for Negative Binomial(1.4881) family taken to be 1)\n",
       "\n",
       "    Null deviance: 360995  on 49999  degrees of freedom\n",
       "Residual deviance:  47562  on 49996  degrees of freedom\n",
       "AIC: 241947\n",
       "\n",
       "Number of Fisher Scoring iterations: 1\n",
       "\n",
       "\n",
       "              Theta:  1.4881 \n",
       "          Std. Err.:  0.0141 \n",
       "\n",
       " 2 x log-likelihood:  -241936.9660 "
      ]
     },
     "metadata": {},
     "output_type": "display_data"
    }
   ],
   "source": [
    "summary(ml)"
   ]
  },
  {
   "cell_type": "code",
   "execution_count": 120,
   "id": "0a2221ea",
   "metadata": {},
   "outputs": [
    {
     "data": {
      "text/html": [
       "<table class=\"dataframe\">\n",
       "<caption>A data.frame: 1 × 4</caption>\n",
       "<thead>\n",
       "\t<tr><th></th><th scope=col>baselines</th><th scope=col>beta1</th><th scope=col>beta2</th><th scope=col>beta3</th></tr>\n",
       "\t<tr><th></th><th scope=col>&lt;dbl&gt;</th><th scope=col>&lt;dbl&gt;</th><th scope=col>&lt;dbl&gt;</th><th scope=col>&lt;dbl&gt;</th></tr>\n",
       "</thead>\n",
       "<tbody>\n",
       "\t<tr><th scope=row>1</th><td>3.939874</td><td>-2.46796</td><td>3.600448</td><td>1.945159</td></tr>\n",
       "</tbody>\n",
       "</table>\n"
      ],
      "text/latex": [
       "A data.frame: 1 × 4\n",
       "\\begin{tabular}{r|llll}\n",
       "  & baselines & beta1 & beta2 & beta3\\\\\n",
       "  & <dbl> & <dbl> & <dbl> & <dbl>\\\\\n",
       "\\hline\n",
       "\t1 & 3.939874 & -2.46796 & 3.600448 & 1.945159\\\\\n",
       "\\end{tabular}\n"
      ],
      "text/markdown": [
       "\n",
       "A data.frame: 1 × 4\n",
       "\n",
       "| <!--/--> | baselines &lt;dbl&gt; | beta1 &lt;dbl&gt; | beta2 &lt;dbl&gt; | beta3 &lt;dbl&gt; |\n",
       "|---|---|---|---|---|\n",
       "| 1 | 3.939874 | -2.46796 | 3.600448 | 1.945159 |\n",
       "\n"
      ],
      "text/plain": [
       "  baselines beta1    beta2    beta3   \n",
       "1 3.939874  -2.46796 3.600448 1.945159"
      ]
     },
     "metadata": {},
     "output_type": "display_data"
    }
   ],
   "source": [
    "coeffs[test.gene,]"
   ]
  },
  {
   "cell_type": "code",
   "execution_count": 121,
   "id": "b3b7ecdc",
   "metadata": {},
   "outputs": [
    {
     "data": {
      "text/plain": [
       "   user  system elapsed \n",
       " 21.542  18.498   2.279 "
      ]
     },
     "metadata": {},
     "output_type": "display_data"
    }
   ],
   "source": [
    "system.time(ml.null <- update(ml, . ~ . - guide.eff))"
   ]
  },
  {
   "cell_type": "code",
   "execution_count": 122,
   "id": "634b966f",
   "metadata": {},
   "outputs": [
    {
     "data": {
      "text/plain": [
       "\n",
       "Call:\n",
       "glm.nb(formula = counts ~ s.score + g2m.score + offset(log(scaling.factor)), \n",
       "    data = gene.data, init.theta = 1.452913514, link = log)\n",
       "\n",
       "Deviance Residuals: \n",
       "    Min       1Q   Median       3Q      Max  \n",
       "-4.0515  -0.9005  -0.3806   0.3115   3.4647  \n",
       "\n",
       "Coefficients:\n",
       "            Estimate Std. Error z value Pr(>|z|)    \n",
       "(Intercept) 3.936000   0.005964   660.0   <2e-16 ***\n",
       "s.score     3.590483   0.010081   356.1   <2e-16 ***\n",
       "g2m.score   1.937013   0.008739   221.7   <2e-16 ***\n",
       "---\n",
       "Signif. codes:  0 ‘***’ 0.001 ‘**’ 0.01 ‘*’ 0.05 ‘.’ 0.1 ‘ ’ 1\n",
       "\n",
       "(Dispersion parameter for Negative Binomial(1.4529) family taken to be 1)\n",
       "\n",
       "    Null deviance: 353957  on 49999  degrees of freedom\n",
       "Residual deviance:  47645  on 49997  degrees of freedom\n",
       "AIC: 242682\n",
       "\n",
       "Number of Fisher Scoring iterations: 1\n",
       "\n",
       "\n",
       "              Theta:  1.4529 \n",
       "          Std. Err.:  0.0137 \n",
       "\n",
       " 2 x log-likelihood:  -242673.7450 "
      ]
     },
     "metadata": {},
     "output_type": "display_data"
    }
   ],
   "source": [
    "summary(ml.null)"
   ]
  },
  {
   "cell_type": "code",
   "execution_count": 123,
   "id": "87eb38f8",
   "metadata": {},
   "outputs": [
    {
     "data": {
      "text/html": [
       "<table class=\"dataframe\">\n",
       "<caption>A Anova: 2 × 8</caption>\n",
       "<thead>\n",
       "\t<tr><th scope=col>Model</th><th scope=col>theta</th><th scope=col>Resid. df</th><th scope=col>   2 x log-lik.</th><th scope=col>Test</th><th scope=col>   df</th><th scope=col>LR stat.</th><th scope=col>Pr(Chi)</th></tr>\n",
       "\t<tr><th scope=col>&lt;chr&gt;</th><th scope=col>&lt;dbl&gt;</th><th scope=col>&lt;int&gt;</th><th scope=col>&lt;dbl&gt;</th><th scope=col>&lt;chr&gt;</th><th scope=col>&lt;int&gt;</th><th scope=col>&lt;dbl&gt;</th><th scope=col>&lt;dbl&gt;</th></tr>\n",
       "</thead>\n",
       "<tbody>\n",
       "\t<tr><td>s.score + g2m.score + offset(log(scaling.factor))            </td><td>1.452914</td><td>49997</td><td>-242673.7</td><td>      </td><td>NA</td><td>      NA</td><td>NA</td></tr>\n",
       "\t<tr><td>guide.eff + s.score + g2m.score + offset(log(scaling.factor))</td><td>1.488063</td><td>49996</td><td>-241937.0</td><td>1 vs 2</td><td> 1</td><td>736.7782</td><td> 0</td></tr>\n",
       "</tbody>\n",
       "</table>\n"
      ],
      "text/latex": [
       "A Anova: 2 × 8\n",
       "\\begin{tabular}{llllllll}\n",
       " Model & theta & Resid. df &    2 x log-lik. & Test &    df & LR stat. & Pr(Chi)\\\\\n",
       " <chr> & <dbl> & <int> & <dbl> & <chr> & <int> & <dbl> & <dbl>\\\\\n",
       "\\hline\n",
       "\t s.score + g2m.score + offset(log(scaling.factor))             & 1.452914 & 49997 & -242673.7 &        & NA &       NA & NA\\\\\n",
       "\t guide.eff + s.score + g2m.score + offset(log(scaling.factor)) & 1.488063 & 49996 & -241937.0 & 1 vs 2 &  1 & 736.7782 &  0\\\\\n",
       "\\end{tabular}\n"
      ],
      "text/markdown": [
       "\n",
       "A Anova: 2 × 8\n",
       "\n",
       "| Model &lt;chr&gt; | theta &lt;dbl&gt; | Resid. df &lt;int&gt; |    2 x log-lik. &lt;dbl&gt; | Test &lt;chr&gt; |    df &lt;int&gt; | LR stat. &lt;dbl&gt; | Pr(Chi) &lt;dbl&gt; |\n",
       "|---|---|---|---|---|---|---|---|\n",
       "| s.score + g2m.score + offset(log(scaling.factor))             | 1.452914 | 49997 | -242673.7 | <!----> | NA |       NA | NA |\n",
       "| guide.eff + s.score + g2m.score + offset(log(scaling.factor)) | 1.488063 | 49996 | -241937.0 | 1 vs 2 |  1 | 736.7782 |  0 |\n",
       "\n"
      ],
      "text/plain": [
       "  Model                                                         theta   \n",
       "1 s.score + g2m.score + offset(log(scaling.factor))             1.452914\n",
       "2 guide.eff + s.score + g2m.score + offset(log(scaling.factor)) 1.488063\n",
       "  Resid. df    2 x log-lik. Test      df LR stat. Pr(Chi)\n",
       "1 49997     -242673.7              NA          NA NA     \n",
       "2 49996     -241937.0       1 vs 2  1    736.7782  0     "
      ]
     },
     "metadata": {},
     "output_type": "display_data"
    }
   ],
   "source": [
    "anova(ml, ml.null)"
   ]
  },
  {
   "cell_type": "markdown",
   "id": "0a8b3a53",
   "metadata": {},
   "source": [
    "### Test with R `optim()`"
   ]
  },
  {
   "cell_type": "code",
   "execution_count": 80,
   "id": "1f9bbb2f",
   "metadata": {},
   "outputs": [],
   "source": [
    "fit_alt <- function(par, counts, x1, x2, x3, scale){\n",
    "    # par[1:4] = beta0, beta1 (enhancer effect), beta2 (S score), beta3 (G2M score)\n",
    "    # par[5] = sqrt(disp)\n",
    "    # counts = observed counts for gene\n",
    "    # x1 = indicator variable for whether gRNA(s) targeting enhancer have effect \n",
    "    # x2 = S cycle scores\n",
    "    # x3 = G2M cycle scores \n",
    "    # scale = scaling factor\n",
    "    beta0 <- par[1]\n",
    "    beta1 <- par[2]\n",
    "    beta2 <- par[3]\n",
    "    beta3 <- par[4]\n",
    "    d <- par[5]^2\n",
    "    mu <- scale*exp(beta0 + beta1*x1 + beta2*x2 + beta3*x3)\n",
    "    print(mu)\n",
    "    -sum(dnbinom(counts, mu = mu, size = d, log = T))\n",
    "}\n",
    "\n",
    "fit_null <- function(par, counts, x2, x3, scale){\n",
    "    # par[1:3] = beta0, beta2 (S score), beta3 (G2M score)\n",
    "    # par[4] = sqrt(disp)\n",
    "    # counts = observed counts for gene\n",
    "    # x2 = S cycle scores\n",
    "    # x3 = G2M cycle scores \n",
    "    # scale = scaling factor\n",
    "    beta0 <- par[1]\n",
    "    beta2 <- par[2]\n",
    "    beta3 <- par[3]\n",
    "    d <- par[4]^2\n",
    "    mu <- scale*exp(beta0 + beta2*x2 + beta3*x3)\n",
    "    print(mu)\n",
    "    -sum(dnbinom(counts, mu = mu, size = d, log = T))\n",
    "}"
   ]
  },
  {
   "cell_type": "code",
   "execution_count": 93,
   "id": "40a999aa",
   "metadata": {},
   "outputs": [
    {
     "name": "stderr",
     "output_type": "stream",
     "text": [
      "IOPub data rate exceeded.\n",
      "The notebook server will temporarily stop sending output\n",
      "to the client in order to avoid crashing it.\n",
      "To change this limit, set the config variable\n",
      "`--NotebookApp.iopub_data_rate_limit`.\n",
      "\n",
      "Current values:\n",
      "NotebookApp.iopub_data_rate_limit=1000000.0 (bytes/sec)\n",
      "NotebookApp.rate_limit_window=3.0 (secs)\n",
      "\n",
      "Timing stopped at: 1483 34.08 1517\n",
      "\n"
     ]
    }
   ],
   "source": [
    "system.time(optim.alt <- optim(c(1,1,1,1,1), fit_alt, \n",
    "                   counts = obs.counts, \n",
    "                   x1 = as.integer(h5read(file = fh, name = \"x/x1\", index = list(test.gene, 1:50000))),\n",
    "                   x2 = cell.cycle.scores$s.scores,\n",
    "                   x3 = cell.cycle.scores$g2m.scores,\n",
    "                   scale = scaling.factors, method= 'L-BFGS-B'))\n",
    "print(optim.alt)"
   ]
  },
  {
   "cell_type": "markdown",
   "id": "e3984717",
   "metadata": {},
   "source": [
    "# Test for all target genes\n",
    "\n",
    "E.g. the 2000 genes in our simulated data whose enhancers are targeted by gRNAs in our library "
   ]
  },
  {
   "cell_type": "code",
   "execution_count": 68,
   "id": "95981cfa",
   "metadata": {},
   "outputs": [
    {
     "name": "stdout",
     "output_type": "stream",
     "text": [
      "[1] 8890\n",
      "[1] 8344\n",
      "[1] 10894\n",
      "[1] 5123\n",
      "[1] 6571\n",
      "[1] 3693\n",
      "[1] 9289\n",
      "[1] 9798\n",
      "[1] 4602\n",
      "[1] 12946\n",
      "[1] 860\n",
      "[1] 6055\n",
      "[1] 5559\n",
      "[1] 3631\n",
      "[1] 11016\n",
      "[1] 2967\n",
      "[1] 2118\n",
      "[1] 5690\n",
      "[1] 10439\n",
      "[1] 8903\n",
      "[1] 9733\n",
      "[1] 8399\n",
      "[1] 10228\n",
      "[1] 1950\n",
      "[1] 6633\n",
      "[1] 4678\n",
      "[1] 62\n",
      "[1] 9081\n",
      "[1] 6789\n",
      "[1] 4822\n",
      "[1] 8569\n",
      "[1] 3875\n",
      "[1] 12448\n",
      "[1] 7436\n",
      "[1] 6305\n",
      "[1] 9023\n",
      "[1] 11591\n",
      "[1] 8152\n",
      "[1] 3882\n",
      "[1] 2007\n",
      "[1] 12907\n",
      "[1] 6712\n",
      "[1] 5013\n",
      "[1] 12736\n",
      "[1] 11981\n",
      "[1] 7507\n",
      "[1] 2910\n",
      "[1] 10554\n",
      "[1] 1858\n",
      "[1] 4281\n",
      "[1] 4769\n",
      "[1] 255\n",
      "[1] 10879\n",
      "[1] 12215\n"
     ]
    },
    {
     "name": "stderr",
     "output_type": "stream",
     "text": [
      "Warning message in theta.ml(Y, mu, sum(w), w, limit = control$maxit, trace = control$trace > :\n",
      "“iteration limit reached”\n",
      "Warning message in sqrt(1/i):\n",
      "“NaNs produced”\n",
      "Warning message in theta.ml(Y, mu, sum(w), w, limit = control$maxit, trace = control$trace > :\n",
      "“iteration limit reached”\n",
      "Warning message in sqrt(1/i):\n",
      "“NaNs produced”\n",
      "Warning message in theta.ml(Y, mu, sum(w), w, limit = control$maxit, trace = control$trace > :\n",
      "“iteration limit reached”\n",
      "Warning message in sqrt(1/i):\n",
      "“NaNs produced”\n",
      "Warning message in theta.ml(Y, mu, sum(w), w, limit = control$maxit, trace = control$trace > :\n",
      "“iteration limit reached”\n",
      "Warning message in sqrt(1/i):\n",
      "“NaNs produced”\n",
      "Warning message in theta.ml(Y, mu, sum(w), w, limit = control$maxit, trace = control$trace > :\n",
      "“iteration limit reached”\n",
      "Warning message in sqrt(1/i):\n",
      "“NaNs produced”\n",
      "Warning message in theta.ml(Y, mu, sum(w), w, limit = control$maxit, trace = control$trace > :\n",
      "“iteration limit reached”\n",
      "Warning message in sqrt(1/i):\n",
      "“NaNs produced”\n",
      "Warning message in theta.ml(Y, mu, sum(w), w, limit = control$maxit, trace = control$trace > :\n",
      "“iteration limit reached”\n",
      "Warning message in sqrt(1/i):\n",
      "“NaNs produced”\n",
      "Warning message in theta.ml(Y, mu, sum(w), w, limit = control$maxit, trace = control$trace > :\n",
      "“iteration limit reached”\n",
      "Warning message in sqrt(1/i):\n",
      "“NaNs produced”\n",
      "Warning message in theta.ml(Y, mu, sum(w), w, limit = control$maxit, trace = control$trace > :\n",
      "“iteration limit reached”\n",
      "Warning message in sqrt(1/i):\n",
      "“NaNs produced”\n",
      "Warning message in theta.ml(Y, mu, sum(w), w, limit = control$maxit, trace = control$trace > :\n",
      "“iteration limit reached”\n",
      "Warning message in sqrt(1/i):\n",
      "“NaNs produced”\n",
      "Warning message in theta.ml(Y, mu, sum(w), w, limit = control$maxit, trace = control$trace > :\n",
      "“iteration limit reached”\n",
      "Warning message in sqrt(1/i):\n",
      "“NaNs produced”\n",
      "Warning message in theta.ml(Y, mu, sum(w), w, limit = control$maxit, trace = control$trace > :\n",
      "“iteration limit reached”\n",
      "Warning message in sqrt(1/i):\n",
      "“NaNs produced”\n",
      "Warning message in theta.ml(Y, mu, sum(w), w, limit = control$maxit, trace = control$trace > :\n",
      "“iteration limit reached”\n",
      "Warning message in sqrt(1/i):\n",
      "“NaNs produced”\n",
      "Warning message in theta.ml(Y, mu, sum(w), w, limit = control$maxit, trace = control$trace > :\n",
      "“iteration limit reached”\n",
      "Warning message in sqrt(1/i):\n",
      "“NaNs produced”\n",
      "Warning message in theta.ml(Y, mu, sum(w), w, limit = control$maxit, trace = control$trace > :\n",
      "“iteration limit reached”\n",
      "Warning message in sqrt(1/i):\n",
      "“NaNs produced”\n",
      "Warning message in theta.ml(Y, mu, sum(w), w, limit = control$maxit, trace = control$trace > :\n",
      "“iteration limit reached”\n",
      "Warning message in sqrt(1/i):\n",
      "“NaNs produced”\n",
      "Warning message in theta.ml(Y, mu, sum(w), w, limit = control$maxit, trace = control$trace > :\n",
      "“iteration limit reached”\n",
      "Warning message in sqrt(1/i):\n",
      "“NaNs produced”\n",
      "Warning message in theta.ml(Y, mu, sum(w), w, limit = control$maxit, trace = control$trace > :\n",
      "“iteration limit reached”\n",
      "Warning message in sqrt(1/i):\n",
      "“NaNs produced”\n",
      "Warning message in theta.ml(Y, mu, sum(w), w, limit = control$maxit, trace = control$trace > :\n",
      "“iteration limit reached”\n",
      "Warning message in sqrt(1/i):\n",
      "“NaNs produced”\n",
      "Warning message in theta.ml(Y, mu, sum(w), w, limit = control$maxit, trace = control$trace > :\n",
      "“iteration limit reached”\n",
      "Warning message in sqrt(1/i):\n",
      "“NaNs produced”\n",
      "Warning message in theta.ml(Y, mu, sum(w), w, limit = control$maxit, trace = control$trace > :\n",
      "“iteration limit reached”\n",
      "Warning message in sqrt(1/i):\n",
      "“NaNs produced”\n",
      "Warning message in theta.ml(Y, mu, sum(w), w, limit = control$maxit, trace = control$trace > :\n",
      "“iteration limit reached”\n",
      "Warning message in sqrt(1/i):\n",
      "“NaNs produced”\n",
      "Warning message in theta.ml(Y, mu, sum(w), w, limit = control$maxit, trace = control$trace > :\n",
      "“iteration limit reached”\n",
      "Warning message in sqrt(1/i):\n",
      "“NaNs produced”\n",
      "Warning message in theta.ml(Y, mu, sum(w), w, limit = control$maxit, trace = control$trace > :\n",
      "“iteration limit reached”\n",
      "Warning message in sqrt(1/i):\n",
      "“NaNs produced”\n",
      "Warning message in theta.ml(Y, mu, sum(w), w, limit = control$maxit, trace = control$trace > :\n",
      "“iteration limit reached”\n",
      "Warning message in sqrt(1/i):\n",
      "“NaNs produced”\n",
      "Warning message in theta.ml(Y, mu, sum(w), w, limit = control$maxit, trace = control$trace > :\n",
      "“iteration limit reached”\n",
      "Warning message in sqrt(1/i):\n",
      "“NaNs produced”\n",
      "Warning message in glm.nb(counts ~ guide.eff + s.score + g2m.score + scaling.factor, :\n",
      "“alternation limit reached”\n",
      "Warning message in theta.ml(Y, mu, sum(w), w, limit = control$maxit, trace = control$trace > :\n",
      "“iteration limit reached”\n",
      "Warning message in sqrt(1/i):\n",
      "“NaNs produced”\n",
      "Warning message in theta.ml(Y, mu, sum(w), w, limit = control$maxit, trace = control$trace > :\n",
      "“iteration limit reached”\n",
      "Warning message in sqrt(1/i):\n",
      "“NaNs produced”\n",
      "Warning message in theta.ml(Y, mu, sum(w), w, limit = control$maxit, trace = control$trace > :\n",
      "“iteration limit reached”\n",
      "Warning message in sqrt(1/i):\n",
      "“NaNs produced”\n",
      "Warning message in theta.ml(Y, mu, sum(w), w, limit = control$maxit, trace = control$trace > :\n",
      "“iteration limit reached”\n",
      "Warning message in sqrt(1/i):\n",
      "“NaNs produced”\n",
      "Warning message in theta.ml(Y, mu, sum(w), w, limit = control$maxit, trace = control$trace > :\n",
      "“iteration limit reached”\n",
      "Warning message in sqrt(1/i):\n",
      "“NaNs produced”\n",
      "Warning message in theta.ml(Y, mu, sum(w), w, limit = control$maxit, trace = control$trace > :\n",
      "“iteration limit reached”\n",
      "Warning message in sqrt(1/i):\n",
      "“NaNs produced”\n",
      "Warning message in theta.ml(Y, mu, sum(w), w, limit = control$maxit, trace = control$trace > :\n",
      "“iteration limit reached”\n",
      "Warning message in sqrt(1/i):\n",
      "“NaNs produced”\n",
      "Warning message in theta.ml(Y, mu, sum(w), w, limit = control$maxit, trace = control$trace > :\n",
      "“iteration limit reached”\n",
      "Warning message in sqrt(1/i):\n",
      "“NaNs produced”\n",
      "Warning message in theta.ml(Y, mu, sum(w), w, limit = control$maxit, trace = control$trace > :\n",
      "“iteration limit reached”\n",
      "Warning message in sqrt(1/i):\n",
      "“NaNs produced”\n",
      "Warning message in theta.ml(Y, mu, sum(w), w, limit = control$maxit, trace = control$trace > :\n",
      "“iteration limit reached”\n",
      "Warning message in sqrt(1/i):\n",
      "“NaNs produced”\n",
      "Warning message in theta.ml(Y, mu, sum(w), w, limit = control$maxit, trace = control$trace > :\n",
      "“iteration limit reached”\n",
      "Warning message in sqrt(1/i):\n",
      "“NaNs produced”\n",
      "Warning message in theta.ml(Y, mu, sum(w), w, limit = control$maxit, trace = control$trace > :\n",
      "“iteration limit reached”\n",
      "Warning message in sqrt(1/i):\n",
      "“NaNs produced”\n",
      "Warning message in theta.ml(Y, mu, sum(w), w, limit = control$maxit, trace = control$trace > :\n",
      "“iteration limit reached”\n",
      "Warning message in sqrt(1/i):\n",
      "“NaNs produced”\n",
      "Warning message in theta.ml(Y, mu, sum(w), w, limit = control$maxit, trace = control$trace > :\n",
      "“iteration limit reached”\n",
      "Warning message in sqrt(1/i):\n",
      "“NaNs produced”\n",
      "Warning message in theta.ml(Y, mu, sum(w), w, limit = control$maxit, trace = control$trace > :\n",
      "“iteration limit reached”\n",
      "Warning message in sqrt(1/i):\n",
      "“NaNs produced”\n",
      "Warning message in theta.ml(Y, mu, sum(w), w, limit = control$maxit, trace = control$trace > :\n",
      "“iteration limit reached”\n",
      "Warning message in sqrt(1/i):\n",
      "“NaNs produced”\n",
      "Warning message in theta.ml(Y, mu, sum(w), w, limit = control$maxit, trace = control$trace > :\n",
      "“iteration limit reached”\n",
      "Warning message in sqrt(1/i):\n",
      "“NaNs produced”\n",
      "Warning message in theta.ml(Y, mu, sum(w), w, limit = control$maxit, trace = control$trace > :\n",
      "“iteration limit reached”\n",
      "Warning message in sqrt(1/i):\n",
      "“NaNs produced”\n",
      "Warning message in theta.ml(Y, mu, sum(w), w, limit = control$maxit, trace = control$trace > :\n",
      "“iteration limit reached”\n",
      "Warning message in sqrt(1/i):\n",
      "“NaNs produced”\n",
      "Warning message in theta.ml(Y, mu, sum(w), w, limit = control$maxit, trace = control$trace > :\n",
      "“iteration limit reached”\n",
      "Warning message in sqrt(1/i):\n",
      "“NaNs produced”\n",
      "Warning message in theta.ml(Y, mu, sum(w), w, limit = control$maxit, trace = control$trace > :\n",
      "“iteration limit reached”\n",
      "Warning message in sqrt(1/i):\n",
      "“NaNs produced”\n",
      "Warning message in theta.ml(Y, mu, sum(w), w, limit = control$maxit, trace = control$trace > :\n",
      "“iteration limit reached”\n",
      "Warning message in sqrt(1/i):\n",
      "“NaNs produced”\n",
      "Warning message in theta.ml(Y, mu, sum(w), w, limit = control$maxit, trace = control$trace > :\n",
      "“iteration limit reached”\n"
     ]
    },
    {
     "name": "stderr",
     "output_type": "stream",
     "text": [
      "Warning message in sqrt(1/i):\n",
      "“NaNs produced”\n",
      "Warning message in theta.ml(Y, mu, sum(w), w, limit = control$maxit, trace = control$trace > :\n",
      "“iteration limit reached”\n",
      "Warning message in sqrt(1/i):\n",
      "“NaNs produced”\n",
      "Warning message in theta.ml(Y, mu, sum(w), w, limit = control$maxit, trace = control$trace > :\n",
      "“iteration limit reached”\n",
      "Warning message in sqrt(1/i):\n",
      "“NaNs produced”\n",
      "Warning message in theta.ml(Y, mu, sum(w), w, limit = control$maxit, trace = control$trace > :\n",
      "“iteration limit reached”\n",
      "Warning message in sqrt(1/i):\n",
      "“NaNs produced”\n",
      "Warning message in glm.nb(formula = counts ~ s.score + g2m.score + scaling.factor, :\n",
      "“alternation limit reached”\n"
     ]
    },
    {
     "name": "stdout",
     "output_type": "stream",
     "text": [
      "[1] 5895\n",
      "[1] 7950\n",
      "[1] 10932\n",
      "[1] 1493\n",
      "[1] 6001\n",
      "[1] 12625\n",
      "[1] 5484\n",
      "[1] 5110\n",
      "[1] 7731\n",
      "[1] 1527\n",
      "[1] 10266\n",
      "[1] 12191\n",
      "[1] 693\n",
      "[1] 1558\n",
      "[1] 4390\n",
      "[1] 12761\n",
      "[1] 1804\n",
      "[1] 9139\n",
      "[1] 4851\n",
      "[1] 4693\n",
      "[1] 5134\n",
      "[1] 4042\n",
      "[1] 6403\n",
      "[1] 12002\n",
      "[1] 7919\n",
      "[1] 6126\n",
      "[1] 2898\n",
      "[1] 7581\n",
      "[1] 8348\n",
      "[1] 5178\n",
      "[1] 4708\n",
      "[1] 1184\n",
      "[1] 607\n",
      "[1] 5564\n",
      "[1] 7283\n",
      "[1] 2407\n",
      "[1] 11901\n",
      "[1] 1159\n",
      "[1] 8937\n",
      "[1] 9557\n",
      "[1] 3671\n",
      "[1] 306\n"
     ]
    },
    {
     "name": "stderr",
     "output_type": "stream",
     "text": [
      "Warning message:\n",
      "“step size truncated due to divergence”\n"
     ]
    },
    {
     "ename": "ERROR",
     "evalue": "Error: inner loop 1; cannot correct step size\n",
     "output_type": "error",
     "traceback": [
      "Error: inner loop 1; cannot correct step size\nTraceback:\n",
      "1. system.time(for (gene in guides.metadata$target.gene) {\n .     print(gene)\n .     obs.counts <- h5read(file = fh, name = \"counts\", index = list(gene, \n .         1:50000))\n .     gene.data <- data.frame(guide.eff = as.integer(h5read(file = fh, \n .         name = \"x/x1\", index = list(gene, 1:50000))), s.score = cell.cycle.scores$s.scores, \n .         g2m.score = cell.cycle.scores$g2m.scores, counts = as.integer(obs.counts), \n .         scaling.factor = scaling.factors)\n .     ml <- glm.nb(counts ~ guide.eff + s.score + g2m.score + scaling.factor, \n .         data = gene.data)\n .     ml.null <- update(ml, . ~ . - guide.eff)\n .     ml.list[[gene]] <- ml\n .     ml.null.list[[gene]] <- ml.null\n . })",
      "2. glm.nb(counts ~ guide.eff + s.score + g2m.score + scaling.factor, \n .     data = gene.data)",
      "3. glm.fitter(x = X, y = Y, w = w, etastart = eta, offset = offset, \n .     family = fam, control = list(maxit = control$maxit, epsilon = control$epsilon, \n .         trace = control$trace > 1), intercept = attr(Terms, \"intercept\") > \n .         0)",
      "4. stop(\"inner loop 1; cannot correct step size\", call. = FALSE)"
     ]
    },
    {
     "name": "stderr",
     "output_type": "stream",
     "text": [
      "Timing stopped at: 4239 3431 780.5\n",
      "\n"
     ]
    }
   ],
   "source": [
    "ml.list <- list()\n",
    "ml.null.list <- list()\n",
    "\n",
    "system.time(\n",
    "# for (gene in 1:nrow(coeffs)) {\n",
    "for (gene in guides.metadata$target.gene) {\n",
    "    print(gene)\n",
    "    obs.counts <- h5read(file = fh, name = \"counts\", index = list(gene, 1:50000))\n",
    "    gene.data <- data.frame(guide.eff = as.integer(h5read(file = fh, name = \"x/x1\", index = list(gene, 1:50000))),\n",
    "                       s.score = cell.cycle.scores$s.scores,\n",
    "                       g2m.score = cell.cycle.scores$g2m.scores,\n",
    "                       counts = as.integer(obs.counts),\n",
    "                       lnscaling.factor = log(scaling.factors))\n",
    "    ml <- glm.nb(counts ~ guide.eff + s.score + g2m.score + ln.scaling.factor, data = gene.data)\n",
    "    ml.null <- update(ml, . ~ . - guide.eff)\n",
    "    ml.list[[gene]] <- ml\n",
    "    ml.null.list[[gene]] <- ml.null\n",
    "}\n",
    ")\n",
    "\n"
   ]
  },
  {
   "cell_type": "code",
   "execution_count": 69,
   "id": "41a19f37",
   "metadata": {},
   "outputs": [
    {
     "data": {
      "image/png": "[encoded data removed]",
      "text/plain": [
       "Plot with title “Histogram of h5read(file = fh, name = \"counts\", index = list(306, 1:50000))”"
      ]
     },
     "metadata": {
      "image/png": {
       "height": 420,
       "width": 420
      }
     },
     "output_type": "display_data"
    }
   ],
   "source": [
    "hist(h5read(file = fh, name = \"counts\", index = list(306, 1:50000)))"
   ]
  },
  {
   "cell_type": "code",
   "execution_count": 70,
   "id": "16edbcef",
   "metadata": {},
   "outputs": [
    {
     "data": {
      "text/html": [
       "4377173532"
      ],
      "text/latex": [
       "4377173532"
      ],
      "text/markdown": [
       "4377173532"
      ],
      "text/plain": [
       "[1] 4377173532"
      ]
     },
     "metadata": {},
     "output_type": "display_data"
    }
   ],
   "source": [
    "sum(h5read(file = fh, name = \"counts\", index = list(306, 1:50000)))"
   ]
  },
  {
   "cell_type": "code",
   "execution_count": 72,
   "id": "8c4bd76e",
   "metadata": {},
   "outputs": [
    {
     "data": {
      "text/html": [
       "<table class=\"dataframe\">\n",
       "<caption>A matrix: 1 × 50000 of type int</caption>\n",
       "<tbody>\n",
       "\t<tr><td>0</td><td>0</td><td>0</td><td>19</td><td>0</td><td>0</td><td>0</td><td>8</td><td>0</td><td>0</td><td>⋯</td><td>0</td><td>1</td><td>1</td><td>2</td><td>0</td><td>1823</td><td>6</td><td>0</td><td>0</td><td>199628</td></tr>\n",
       "</tbody>\n",
       "</table>\n"
      ],
      "text/latex": [
       "A matrix: 1 × 50000 of type int\n",
       "\\begin{tabular}{lllllllllllllllllllll}\n",
       "\t 0 & 0 & 0 & 19 & 0 & 0 & 0 & 8 & 0 & 0 & ⋯ & 0 & 1 & 1 & 2 & 0 & 1823 & 6 & 0 & 0 & 199628\\\\\n",
       "\\end{tabular}\n"
      ],
      "text/markdown": [
       "\n",
       "A matrix: 1 × 50000 of type int\n",
       "\n",
       "| 0 | 0 | 0 | 19 | 0 | 0 | 0 | 8 | 0 | 0 | ⋯ | 0 | 1 | 1 | 2 | 0 | 1823 | 6 | 0 | 0 | 199628 |\n",
       "\n"
      ],
      "text/plain": [
       "     [,1] [,2] [,3] [,4] [,5] [,6] [,7] [,8] [,9] [,10] [,11] [,12] [,13] [,14]\n",
       "[1,] 0    0    0    19   0    0    0    8    0    0     ⋯     0     1     1    \n",
       "     [,15] [,16] [,17] [,18] [,19] [,20] [,21] \n",
       "[1,] 2     0     1823  6     0     0     199628"
      ]
     },
     "metadata": {},
     "output_type": "display_data"
    }
   ],
   "source": [
    "h5read(file = fh, name = \"counts\", index = list(306, 1:50000))"
   ]
  },
  {
   "cell_type": "code",
   "execution_count": null,
   "id": "c953b70e",
   "metadata": {},
   "outputs": [],
   "source": []
  }
 ],
 "metadata": {
  "kernelspec": {
   "display_name": "R [conda env:crisprqtl]",
   "language": "R",
   "name": "conda-env-crisprqtl-r"
  },
  "language_info": {
   "codemirror_mode": "r",
   "file_extension": ".r",
   "mimetype": "text/x-r-source",
   "name": "R",
   "pygments_lexer": "r",
   "version": "4.1.3"
  }
 },
 "nbformat": 4,
 "nbformat_minor": 5
}
