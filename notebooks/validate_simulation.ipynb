{
 "cells": [
  {
   "cell_type": "code",
   "execution_count": 33,
   "id": "d13fe51c",
   "metadata": {},
   "outputs": [],
   "source": [
    "library(rhdf5)\n",
    "library(MASS)\n",
    "library(broom)"
   ]
  },
  {
   "cell_type": "markdown",
   "id": "df3aa47b",
   "metadata": {},
   "source": [
    "# Test reading h5 and accessing data"
   ]
  },
  {
   "cell_type": "code",
   "execution_count": 2,
   "id": "1fbd7eae",
   "metadata": {},
   "outputs": [],
   "source": [
    "fh <- \"../simulated_data/sim.h5\""
   ]
  },
  {
   "cell_type": "markdown",
   "id": "b4354757",
   "metadata": {},
   "source": [
    "Get internal structure of h5 file"
   ]
  },
  {
   "cell_type": "code",
   "execution_count": 3,
   "id": "2280419f",
   "metadata": {},
   "outputs": [
    {
     "data": {
      "text/html": [
       "<table class=\"dataframe\">\n",
       "<caption>A data.frame: 9 × 5</caption>\n",
       "<thead>\n",
       "\t<tr><th></th><th scope=col>group</th><th scope=col>name</th><th scope=col>otype</th><th scope=col>dclass</th><th scope=col>dim</th></tr>\n",
       "\t<tr><th></th><th scope=col>&lt;chr&gt;</th><th scope=col>&lt;chr&gt;</th><th scope=col>&lt;chr&gt;</th><th scope=col>&lt;chr&gt;</th><th scope=col>&lt;chr&gt;</th></tr>\n",
       "</thead>\n",
       "<tbody>\n",
       "\t<tr><th scope=row>0</th><td>/      </td><td>coeffs           </td><td>H5I_DATASET</td><td>COMPOUND</td><td>13000        </td></tr>\n",
       "\t<tr><th scope=row>1</th><td>/      </td><td>counts           </td><td>H5I_DATASET</td><td>INTEGER </td><td>13000 x 50000</td></tr>\n",
       "\t<tr><th scope=row>2</th><td>/      </td><td>guides           </td><td>H5I_GROUP  </td><td>        </td><td>             </td></tr>\n",
       "\t<tr><th scope=row>3</th><td>/guides</td><td>metadata         </td><td>H5I_DATASET</td><td>COMPOUND</td><td>2000         </td></tr>\n",
       "\t<tr><th scope=row>4</th><td>/guides</td><td>one_hot          </td><td>H5I_DATASET</td><td>INTEGER </td><td>50000 x 2000 </td></tr>\n",
       "\t<tr><th scope=row>5</th><td>/      </td><td>scaling_factors  </td><td>H5I_DATASET</td><td>FLOAT   </td><td>50000        </td></tr>\n",
       "\t<tr><th scope=row>6</th><td>/      </td><td>x                </td><td>H5I_GROUP  </td><td>        </td><td>             </td></tr>\n",
       "\t<tr><th scope=row>7</th><td>/x     </td><td>cell_cycle_scores</td><td>H5I_DATASET</td><td>COMPOUND</td><td>50000        </td></tr>\n",
       "\t<tr><th scope=row>8</th><td>/x     </td><td>x1               </td><td>H5I_DATASET</td><td>INTEGER </td><td>13000 x 50000</td></tr>\n",
       "</tbody>\n",
       "</table>\n"
      ],
      "text/latex": [
       "A data.frame: 9 × 5\n",
       "\\begin{tabular}{r|lllll}\n",
       "  & group & name & otype & dclass & dim\\\\\n",
       "  & <chr> & <chr> & <chr> & <chr> & <chr>\\\\\n",
       "\\hline\n",
       "\t0 & /       & coeffs            & H5I\\_DATASET & COMPOUND & 13000        \\\\\n",
       "\t1 & /       & counts            & H5I\\_DATASET & INTEGER  & 13000 x 50000\\\\\n",
       "\t2 & /       & guides            & H5I\\_GROUP   &          &              \\\\\n",
       "\t3 & /guides & metadata          & H5I\\_DATASET & COMPOUND & 2000         \\\\\n",
       "\t4 & /guides & one\\_hot           & H5I\\_DATASET & INTEGER  & 50000 x 2000 \\\\\n",
       "\t5 & /       & scaling\\_factors   & H5I\\_DATASET & FLOAT    & 50000        \\\\\n",
       "\t6 & /       & x                 & H5I\\_GROUP   &          &              \\\\\n",
       "\t7 & /x      & cell\\_cycle\\_scores & H5I\\_DATASET & COMPOUND & 50000        \\\\\n",
       "\t8 & /x      & x1                & H5I\\_DATASET & INTEGER  & 13000 x 50000\\\\\n",
       "\\end{tabular}\n"
      ],
      "text/markdown": [
       "\n",
       "A data.frame: 9 × 5\n",
       "\n",
       "| <!--/--> | group &lt;chr&gt; | name &lt;chr&gt; | otype &lt;chr&gt; | dclass &lt;chr&gt; | dim &lt;chr&gt; |\n",
       "|---|---|---|---|---|---|\n",
       "| 0 | /       | coeffs            | H5I_DATASET | COMPOUND | 13000         |\n",
       "| 1 | /       | counts            | H5I_DATASET | INTEGER  | 13000 x 50000 |\n",
       "| 2 | /       | guides            | H5I_GROUP   | <!----> | <!----> |\n",
       "| 3 | /guides | metadata          | H5I_DATASET | COMPOUND | 2000          |\n",
       "| 4 | /guides | one_hot           | H5I_DATASET | INTEGER  | 50000 x 2000  |\n",
       "| 5 | /       | scaling_factors   | H5I_DATASET | FLOAT    | 50000         |\n",
       "| 6 | /       | x                 | H5I_GROUP   | <!----> | <!----> |\n",
       "| 7 | /x      | cell_cycle_scores | H5I_DATASET | COMPOUND | 50000         |\n",
       "| 8 | /x      | x1                | H5I_DATASET | INTEGER  | 13000 x 50000 |\n",
       "\n"
      ],
      "text/plain": [
       "  group   name              otype       dclass   dim          \n",
       "0 /       coeffs            H5I_DATASET COMPOUND 13000        \n",
       "1 /       counts            H5I_DATASET INTEGER  13000 x 50000\n",
       "2 /       guides            H5I_GROUP                         \n",
       "3 /guides metadata          H5I_DATASET COMPOUND 2000         \n",
       "4 /guides one_hot           H5I_DATASET INTEGER  50000 x 2000 \n",
       "5 /       scaling_factors   H5I_DATASET FLOAT    50000        \n",
       "6 /       x                 H5I_GROUP                         \n",
       "7 /x      cell_cycle_scores H5I_DATASET COMPOUND 50000        \n",
       "8 /x      x1                H5I_DATASET INTEGER  13000 x 50000"
      ]
     },
     "metadata": {},
     "output_type": "display_data"
    }
   ],
   "source": [
    "h5ls(fh)"
   ]
  },
  {
   "cell_type": "markdown",
   "id": "48cfd071",
   "metadata": {},
   "source": [
    "Test reading first row from counts matrix"
   ]
  },
  {
   "cell_type": "code",
   "execution_count": 4,
   "id": "f6eb495e",
   "metadata": {},
   "outputs": [
    {
     "data": {
      "text/plain": [
       "   user  system elapsed \n",
       "  0.836   0.141   0.979 "
      ]
     },
     "metadata": {},
     "output_type": "display_data"
    }
   ],
   "source": [
    "system.time(row.counts <- h5read(file = fh, name = \"counts\", index = list(1, 1:50000)))"
   ]
  },
  {
   "cell_type": "code",
   "execution_count": 5,
   "id": "24199ba1",
   "metadata": {},
   "outputs": [
    {
     "data": {
      "text/html": [
       "<table class=\"dataframe\">\n",
       "<caption>A matrix: 1 × 50000 of type int</caption>\n",
       "<tbody>\n",
       "\t<tr><td>0</td><td>15</td><td>4</td><td>2</td><td>1</td><td>0</td><td>0</td><td>44</td><td>30</td><td>20</td><td>⋯</td><td>6</td><td>8</td><td>16</td><td>1</td><td>24</td><td>0</td><td>0</td><td>0</td><td>0</td><td>4</td></tr>\n",
       "</tbody>\n",
       "</table>\n"
      ],
      "text/latex": [
       "A matrix: 1 × 50000 of type int\n",
       "\\begin{tabular}{lllllllllllllllllllll}\n",
       "\t 0 & 15 & 4 & 2 & 1 & 0 & 0 & 44 & 30 & 20 & ⋯ & 6 & 8 & 16 & 1 & 24 & 0 & 0 & 0 & 0 & 4\\\\\n",
       "\\end{tabular}\n"
      ],
      "text/markdown": [
       "\n",
       "A matrix: 1 × 50000 of type int\n",
       "\n",
       "| 0 | 15 | 4 | 2 | 1 | 0 | 0 | 44 | 30 | 20 | ⋯ | 6 | 8 | 16 | 1 | 24 | 0 | 0 | 0 | 0 | 4 |\n",
       "\n"
      ],
      "text/plain": [
       "     [,1] [,2] [,3] [,4] [,5] [,6] [,7] [,8] [,9] [,10] [,11] [,12] [,13] [,14]\n",
       "[1,] 0    15   4    2    1    0    0    44   30   20    ⋯     6     8     16   \n",
       "     [,15] [,16] [,17] [,18] [,19] [,20] [,21]\n",
       "[1,] 1     24    0     0     0     0     4    "
      ]
     },
     "metadata": {},
     "output_type": "display_data"
    }
   ],
   "source": [
    "row.counts"
   ]
  },
  {
   "cell_type": "markdown",
   "id": "173f4bac",
   "metadata": {},
   "source": [
    "Check if this matches"
   ]
  },
  {
   "cell_type": "code",
   "execution_count": 6,
   "id": "cfc3aa26",
   "metadata": {},
   "outputs": [
    {
     "data": {
      "text/html": [
       "<style>\n",
       ".list-inline {list-style: none; margin:0; padding: 0}\n",
       ".list-inline>li {display: inline-block}\n",
       ".list-inline>li:not(:last-child)::after {content: \"\\00b7\"; padding: 0 .5ex}\n",
       "</style>\n",
       "<ol class=list-inline><li>13000</li><li>50000</li></ol>\n"
      ],
      "text/latex": [
       "\\begin{enumerate*}\n",
       "\\item 13000\n",
       "\\item 50000\n",
       "\\end{enumerate*}\n"
      ],
      "text/markdown": [
       "1. 13000\n",
       "2. 50000\n",
       "\n",
       "\n"
      ],
      "text/plain": [
       "[1] 13000 50000"
      ]
     },
     "metadata": {},
     "output_type": "display_data"
    },
    {
     "data": {
      "text/html": [
       "<style>\n",
       ".list-inline {list-style: none; margin:0; padding: 0}\n",
       ".list-inline>li {display: inline-block}\n",
       ".list-inline>li:not(:last-child)::after {content: \"\\00b7\"; padding: 0 .5ex}\n",
       "</style>\n",
       "<ol class=list-inline><li>0</li><li>15</li><li>4</li><li>2</li><li>1</li><li>0</li><li>0</li><li>44</li><li>30</li><li>20</li></ol>\n"
      ],
      "text/latex": [
       "\\begin{enumerate*}\n",
       "\\item 0\n",
       "\\item 15\n",
       "\\item 4\n",
       "\\item 2\n",
       "\\item 1\n",
       "\\item 0\n",
       "\\item 0\n",
       "\\item 44\n",
       "\\item 30\n",
       "\\item 20\n",
       "\\end{enumerate*}\n"
      ],
      "text/markdown": [
       "1. 0\n",
       "2. 15\n",
       "3. 4\n",
       "4. 2\n",
       "5. 1\n",
       "6. 0\n",
       "7. 0\n",
       "8. 44\n",
       "9. 30\n",
       "10. 20\n",
       "\n",
       "\n"
      ],
      "text/plain": [
       " [1]  0 15  4  2  1  0  0 44 30 20"
      ]
     },
     "metadata": {},
     "output_type": "display_data"
    }
   ],
   "source": [
    "counts.mtx <- h5read(fh, \"counts\")\n",
    "dim(counts.mtx)\n",
    "counts.mtx[1,1:10]"
   ]
  },
  {
   "cell_type": "markdown",
   "id": "ee3323dd",
   "metadata": {},
   "source": [
    "Try pulling a row from matrix of $X_1$"
   ]
  },
  {
   "cell_type": "code",
   "execution_count": 7,
   "id": "26b54ebc",
   "metadata": {},
   "outputs": [
    {
     "data": {
      "text/plain": [
       "   user  system elapsed \n",
       "  0.518   0.030   0.549 "
      ]
     },
     "metadata": {},
     "output_type": "display_data"
    }
   ],
   "source": [
    "system.time(row.vars <- h5read(file = fh, name = \"x/x1\", index = list(1, 1:50000)))"
   ]
  },
  {
   "cell_type": "code",
   "execution_count": 8,
   "id": "b9ed7915",
   "metadata": {},
   "outputs": [
    {
     "data": {
      "text/html": [
       "309"
      ],
      "text/latex": [
       "309"
      ],
      "text/markdown": [
       "309"
      ],
      "text/plain": [
       "[1] 309"
      ]
     },
     "metadata": {},
     "output_type": "display_data"
    }
   ],
   "source": [
    "sum(row.vars)"
   ]
  },
  {
   "cell_type": "markdown",
   "id": "c47a65f7",
   "metadata": {},
   "source": [
    "Check if this is correct"
   ]
  },
  {
   "cell_type": "code",
   "execution_count": 9,
   "id": "ad0f2f93",
   "metadata": {},
   "outputs": [
    {
     "data": {
      "text/html": [
       "309"
      ],
      "text/latex": [
       "309"
      ],
      "text/markdown": [
       "309"
      ],
      "text/plain": [
       "[1] 309"
      ]
     },
     "metadata": {},
     "output_type": "display_data"
    }
   ],
   "source": [
    "x1.mtx <- h5read(fh, \"x/x1\")\n",
    "sum(x1.mtx[1,1:50000])"
   ]
  },
  {
   "cell_type": "markdown",
   "id": "53bb303e",
   "metadata": {},
   "source": [
    "# Load fixed values\n",
    "\n",
    "Coefficients (ground truth for evaluating model performance) \n",
    "\n",
    "Cell cycle scores (same for every gene)"
   ]
  },
  {
   "cell_type": "code",
   "execution_count": 39,
   "id": "243b4154",
   "metadata": {},
   "outputs": [],
   "source": [
    "coeffs <- h5read(file = fh, name = \"coeffs\")\n",
    "cell.cycle.scores <- h5read(fh, \"x/cell_cycle_scores\")\n",
    "scaling.factors <- h5read(file = fh, name = \"scaling_factors\")\n",
    "guides.metadata <- h5read(file = fh, name = \"guides/metadata\")"
   ]
  },
  {
   "cell_type": "code",
   "execution_count": 40,
   "id": "eb1dff6b",
   "metadata": {},
   "outputs": [
    {
     "data": {
      "text/html": [
       "<table class=\"dataframe\">\n",
       "<caption>A data.frame: 6 × 3</caption>\n",
       "<thead>\n",
       "\t<tr><th></th><th scope=col>target.gene</th><th scope=col>efficiency</th><th scope=col>effect.size</th></tr>\n",
       "\t<tr><th></th><th scope=col>&lt;int&gt;</th><th scope=col>&lt;dbl&gt;</th><th scope=col>&lt;dbl&gt;</th></tr>\n",
       "</thead>\n",
       "<tbody>\n",
       "\t<tr><th scope=row>1</th><td> 8890</td><td>0.5839696</td><td>-3.091298</td></tr>\n",
       "\t<tr><th scope=row>2</th><td> 8344</td><td>0.6177571</td><td>-2.482861</td></tr>\n",
       "\t<tr><th scope=row>3</th><td>10894</td><td>0.7364427</td><td>-2.701824</td></tr>\n",
       "\t<tr><th scope=row>4</th><td> 5123</td><td>0.7752164</td><td>-2.813812</td></tr>\n",
       "\t<tr><th scope=row>5</th><td> 6571</td><td>0.7739046</td><td>-2.201368</td></tr>\n",
       "\t<tr><th scope=row>6</th><td> 3693</td><td>0.5629113</td><td>-1.948516</td></tr>\n",
       "</tbody>\n",
       "</table>\n"
      ],
      "text/latex": [
       "A data.frame: 6 × 3\n",
       "\\begin{tabular}{r|lll}\n",
       "  & target.gene & efficiency & effect.size\\\\\n",
       "  & <int> & <dbl> & <dbl>\\\\\n",
       "\\hline\n",
       "\t1 &  8890 & 0.5839696 & -3.091298\\\\\n",
       "\t2 &  8344 & 0.6177571 & -2.482861\\\\\n",
       "\t3 & 10894 & 0.7364427 & -2.701824\\\\\n",
       "\t4 &  5123 & 0.7752164 & -2.813812\\\\\n",
       "\t5 &  6571 & 0.7739046 & -2.201368\\\\\n",
       "\t6 &  3693 & 0.5629113 & -1.948516\\\\\n",
       "\\end{tabular}\n"
      ],
      "text/markdown": [
       "\n",
       "A data.frame: 6 × 3\n",
       "\n",
       "| <!--/--> | target.gene &lt;int&gt; | efficiency &lt;dbl&gt; | effect.size &lt;dbl&gt; |\n",
       "|---|---|---|---|\n",
       "| 1 |  8890 | 0.5839696 | -3.091298 |\n",
       "| 2 |  8344 | 0.6177571 | -2.482861 |\n",
       "| 3 | 10894 | 0.7364427 | -2.701824 |\n",
       "| 4 |  5123 | 0.7752164 | -2.813812 |\n",
       "| 5 |  6571 | 0.7739046 | -2.201368 |\n",
       "| 6 |  3693 | 0.5629113 | -1.948516 |\n",
       "\n"
      ],
      "text/plain": [
       "  target.gene efficiency effect.size\n",
       "1  8890       0.5839696  -3.091298  \n",
       "2  8344       0.6177571  -2.482861  \n",
       "3 10894       0.7364427  -2.701824  \n",
       "4  5123       0.7752164  -2.813812  \n",
       "5  6571       0.7739046  -2.201368  \n",
       "6  3693       0.5629113  -1.948516  "
      ]
     },
     "metadata": {},
     "output_type": "display_data"
    }
   ],
   "source": [
    "head(guides.metadata)"
   ]
  },
  {
   "cell_type": "code",
   "execution_count": 42,
   "id": "28b43e69",
   "metadata": {},
   "outputs": [
    {
     "data": {
      "text/html": [
       "FALSE"
      ],
      "text/latex": [
       "FALSE"
      ],
      "text/markdown": [
       "FALSE"
      ],
      "text/plain": [
       "[1] FALSE"
      ]
     },
     "metadata": {},
     "output_type": "display_data"
    }
   ],
   "source": [
    "2 %in% guides.metadata$target.gene"
   ]
  },
  {
   "cell_type": "markdown",
   "id": "2b3e98b9",
   "metadata": {},
   "source": [
    "# Define null and alternative models\n",
    "\n",
    "## Model\n",
    "$$y = \\text{NB}(\\mu=s \\cdot \\exp \\left( \\beta_0 + \\beta_1 X_1 + \\beta_2 X_2 + \\beta_3 X_3 \\right), n=\\sigma)$$\n",
    "### $H_0: \\beta_1 = 0 $\n",
    "### $H_A: \\beta_1 \\neq 0 $\n",
    "\n"
   ]
  },
  {
   "cell_type": "markdown",
   "id": "00934543",
   "metadata": {},
   "source": [
    "Test for one gene"
   ]
  },
  {
   "cell_type": "code",
   "execution_count": 52,
   "id": "c89ea0ed",
   "metadata": {},
   "outputs": [],
   "source": [
    "test.gene <- 1\n",
    "\n",
    "obs.counts <- h5read(file = fh, name = \"counts\", index = list(test.gene, 1:50000))\n",
    "gene.data <- data.frame(guide.eff = as.integer(h5read(file = fh, name = \"x/x1\", index = list(test.gene, 1:50000))),\n",
    "                       s.score = cell.cycle.scores$s.scores,\n",
    "                       g2m.score = cell.cycle.scores$g2m.scores,\n",
    "                       counts = as.integer(obs.counts),\n",
    "                       scaling.factor = scaling.factors)"
   ]
  },
  {
   "cell_type": "code",
   "execution_count": 53,
   "id": "8028e075",
   "metadata": {},
   "outputs": [
    {
     "data": {
      "text/html": [
       "<table class=\"dataframe\">\n",
       "<caption>A data.frame: 6 × 5</caption>\n",
       "<thead>\n",
       "\t<tr><th></th><th scope=col>guide.eff</th><th scope=col>s.score</th><th scope=col>g2m.score</th><th scope=col>counts</th><th scope=col>scaling.factor</th></tr>\n",
       "\t<tr><th></th><th scope=col>&lt;int&gt;</th><th scope=col>&lt;dbl&gt;</th><th scope=col>&lt;dbl&gt;</th><th scope=col>&lt;int&gt;</th><th scope=col>&lt;dbl&gt;</th></tr>\n",
       "</thead>\n",
       "<tbody>\n",
       "\t<tr><th scope=row>1</th><td>0</td><td>-0.6605419</td><td>-0.31670538</td><td> 0</td><td>0.050167</td></tr>\n",
       "\t<tr><th scope=row>2</th><td>0</td><td> 1.3238916</td><td>-1.14640695</td><td>15</td><td>0.050184</td></tr>\n",
       "\t<tr><th scope=row>3</th><td>0</td><td>-0.1031474</td><td> 0.29847610</td><td> 4</td><td>0.050145</td></tr>\n",
       "\t<tr><th scope=row>4</th><td>0</td><td>-0.3260718</td><td> 0.60811720</td><td> 2</td><td>0.049669</td></tr>\n",
       "\t<tr><th scope=row>5</th><td>0</td><td> 0.5385560</td><td>-0.86269276</td><td> 1</td><td>0.050237</td></tr>\n",
       "\t<tr><th scope=row>6</th><td>0</td><td>-0.3940143</td><td>-0.02239488</td><td> 0</td><td>0.050092</td></tr>\n",
       "</tbody>\n",
       "</table>\n"
      ],
      "text/latex": [
       "A data.frame: 6 × 5\n",
       "\\begin{tabular}{r|lllll}\n",
       "  & guide.eff & s.score & g2m.score & counts & scaling.factor\\\\\n",
       "  & <int> & <dbl> & <dbl> & <int> & <dbl>\\\\\n",
       "\\hline\n",
       "\t1 & 0 & -0.6605419 & -0.31670538 &  0 & 0.050167\\\\\n",
       "\t2 & 0 &  1.3238916 & -1.14640695 & 15 & 0.050184\\\\\n",
       "\t3 & 0 & -0.1031474 &  0.29847610 &  4 & 0.050145\\\\\n",
       "\t4 & 0 & -0.3260718 &  0.60811720 &  2 & 0.049669\\\\\n",
       "\t5 & 0 &  0.5385560 & -0.86269276 &  1 & 0.050237\\\\\n",
       "\t6 & 0 & -0.3940143 & -0.02239488 &  0 & 0.050092\\\\\n",
       "\\end{tabular}\n"
      ],
      "text/markdown": [
       "\n",
       "A data.frame: 6 × 5\n",
       "\n",
       "| <!--/--> | guide.eff &lt;int&gt; | s.score &lt;dbl&gt; | g2m.score &lt;dbl&gt; | counts &lt;int&gt; | scaling.factor &lt;dbl&gt; |\n",
       "|---|---|---|---|---|---|\n",
       "| 1 | 0 | -0.6605419 | -0.31670538 |  0 | 0.050167 |\n",
       "| 2 | 0 |  1.3238916 | -1.14640695 | 15 | 0.050184 |\n",
       "| 3 | 0 | -0.1031474 |  0.29847610 |  4 | 0.050145 |\n",
       "| 4 | 0 | -0.3260718 |  0.60811720 |  2 | 0.049669 |\n",
       "| 5 | 0 |  0.5385560 | -0.86269276 |  1 | 0.050237 |\n",
       "| 6 | 0 | -0.3940143 | -0.02239488 |  0 | 0.050092 |\n",
       "\n"
      ],
      "text/plain": [
       "  guide.eff s.score    g2m.score   counts scaling.factor\n",
       "1 0         -0.6605419 -0.31670538  0     0.050167      \n",
       "2 0          1.3238916 -1.14640695 15     0.050184      \n",
       "3 0         -0.1031474  0.29847610  4     0.050145      \n",
       "4 0         -0.3260718  0.60811720  2     0.049669      \n",
       "5 0          0.5385560 -0.86269276  1     0.050237      \n",
       "6 0         -0.3940143 -0.02239488  0     0.050092      "
      ]
     },
     "metadata": {},
     "output_type": "display_data"
    }
   ],
   "source": [
    "head(gene.data)"
   ]
  },
  {
   "cell_type": "code",
   "execution_count": 54,
   "id": "a372a698",
   "metadata": {},
   "outputs": [
    {
     "data": {
      "text/plain": [
       "   user  system elapsed \n",
       " 17.488  15.248   2.113 "
      ]
     },
     "metadata": {},
     "output_type": "display_data"
    }
   ],
   "source": [
    "system.time(ml <- glm.nb(counts ~ guide.eff + s.score + g2m.score + scaling.factor, data = gene.data))"
   ]
  },
  {
   "cell_type": "code",
   "execution_count": 55,
   "id": "f537148a",
   "metadata": {},
   "outputs": [
    {
     "data": {
      "text/plain": [
       "\n",
       "Call:\n",
       "glm.nb(formula = counts ~ guide.eff + s.score + g2m.score + scaling.factor, \n",
       "    data = gene.data, init.theta = 1.488067264, link = log)\n",
       "\n",
       "Deviance Residuals: \n",
       "    Min       1Q   Median       3Q      Max  \n",
       "-4.0994  -0.8992  -0.3800   0.3112   3.4680  \n",
       "\n",
       "Coefficients:\n",
       "                Estimate Std. Error z value Pr(>|z|)    \n",
       "(Intercept)    -0.493377   1.082956  -0.456    0.649    \n",
       "guide.eff      -2.633906   0.089586 -29.401   <2e-16 ***\n",
       "s.score         3.592147   0.010014 358.723   <2e-16 ***\n",
       "g2m.score       1.937629   0.008672 223.432   <2e-16 ***\n",
       "scaling.factor 28.782100  21.658571   1.329    0.184    \n",
       "---\n",
       "Signif. codes:  0 ‘***’ 0.001 ‘**’ 0.01 ‘*’ 0.05 ‘.’ 0.1 ‘ ’ 1\n",
       "\n",
       "(Dispersion parameter for Negative Binomial(1.4881) family taken to be 1)\n",
       "\n",
       "    Null deviance: 360986  on 49999  degrees of freedom\n",
       "Residual deviance:  47562  on 49995  degrees of freedom\n",
       "AIC: 241949\n",
       "\n",
       "Number of Fisher Scoring iterations: 1\n",
       "\n",
       "\n",
       "              Theta:  1.4881 \n",
       "          Std. Err.:  0.0141 \n",
       "\n",
       " 2 x log-likelihood:  -241936.7970 "
      ]
     },
     "metadata": {},
     "output_type": "display_data"
    }
   ],
   "source": [
    "summary(ml)"
   ]
  },
  {
   "cell_type": "code",
   "execution_count": 56,
   "id": "0a2221ea",
   "metadata": {},
   "outputs": [
    {
     "data": {
      "text/html": [
       "<table class=\"dataframe\">\n",
       "<caption>A data.frame: 1 × 4</caption>\n",
       "<thead>\n",
       "\t<tr><th></th><th scope=col>baselines</th><th scope=col>beta1</th><th scope=col>beta2</th><th scope=col>beta3</th></tr>\n",
       "\t<tr><th></th><th scope=col>&lt;dbl&gt;</th><th scope=col>&lt;dbl&gt;</th><th scope=col>&lt;dbl&gt;</th><th scope=col>&lt;dbl&gt;</th></tr>\n",
       "</thead>\n",
       "<tbody>\n",
       "\t<tr><th scope=row>1</th><td>3.939874</td><td>-2.46796</td><td>3.600448</td><td>1.945159</td></tr>\n",
       "</tbody>\n",
       "</table>\n"
      ],
      "text/latex": [
       "A data.frame: 1 × 4\n",
       "\\begin{tabular}{r|llll}\n",
       "  & baselines & beta1 & beta2 & beta3\\\\\n",
       "  & <dbl> & <dbl> & <dbl> & <dbl>\\\\\n",
       "\\hline\n",
       "\t1 & 3.939874 & -2.46796 & 3.600448 & 1.945159\\\\\n",
       "\\end{tabular}\n"
      ],
      "text/markdown": [
       "\n",
       "A data.frame: 1 × 4\n",
       "\n",
       "| <!--/--> | baselines &lt;dbl&gt; | beta1 &lt;dbl&gt; | beta2 &lt;dbl&gt; | beta3 &lt;dbl&gt; |\n",
       "|---|---|---|---|---|\n",
       "| 1 | 3.939874 | -2.46796 | 3.600448 | 1.945159 |\n",
       "\n"
      ],
      "text/plain": [
       "  baselines beta1    beta2    beta3   \n",
       "1 3.939874  -2.46796 3.600448 1.945159"
      ]
     },
     "metadata": {},
     "output_type": "display_data"
    }
   ],
   "source": [
    "coeffs[test.gene,]"
   ]
  },
  {
   "cell_type": "code",
   "execution_count": 57,
   "id": "b3b7ecdc",
   "metadata": {},
   "outputs": [
    {
     "data": {
      "text/plain": [
       "   user  system elapsed \n",
       " 16.277  13.327   2.043 "
      ]
     },
     "metadata": {},
     "output_type": "display_data"
    }
   ],
   "source": [
    "system.time(ml.null <- update(ml, . ~ . - guide.eff))"
   ]
  },
  {
   "cell_type": "code",
   "execution_count": 58,
   "id": "d1a769d6",
   "metadata": {},
   "outputs": [
    {
     "data": {
      "text/plain": [
       "\n",
       "Call:  glm.nb(formula = counts ~ s.score + g2m.score + scaling.factor, \n",
       "    data = gene.data, init.theta = 1.452914358, link = log)\n",
       "\n",
       "Coefficients:\n",
       "   (Intercept)         s.score       g2m.score  scaling.factor  \n",
       "       -0.4006          3.5905          1.9370         26.8179  \n",
       "\n",
       "Degrees of Freedom: 49999 Total (i.e. Null);  49996 Residual\n",
       "Null Deviance:\t    353900 \n",
       "Residual Deviance: 47640 \tAIC: 242700"
      ]
     },
     "metadata": {},
     "output_type": "display_data"
    }
   ],
   "source": [
    "ml.null"
   ]
  },
  {
   "cell_type": "markdown",
   "id": "4d471733",
   "metadata": {},
   "source": [
    "# Test for all genes"
   ]
  },
  {
   "cell_type": "code",
   "execution_count": null,
   "id": "63894409",
   "metadata": {},
   "outputs": [],
   "source": [
    "ml.list <- list()\n",
    "ml.null.list <- list()\n",
    "\n",
    "system.time(\n",
    "for (gene in 1:nrow(coeffs)) {\n",
    "    print(gene)\n",
    "    obs.counts <- h5read(file = fh, name = \"counts\", index = list(gene, 1:50000))\n",
    "    gene.data <- data.frame(guide.eff = as.integer(h5read(file = fh, name = \"x/x1\", index = list(gene, 1:50000))),\n",
    "                       s.score = cell.cycle.scores$s.scores,\n",
    "                       g2m.score = cell.cycle.scores$g2m.scores,\n",
    "                       counts = as.integer(obs.counts),\n",
    "                       scaling.factor = scaling.factors)\n",
    "    ml <- glm.nb(counts ~ guide.eff + s.score + g2m.score + scaling.factor, data = gene.data)\n",
    "    ml.null <- update(ml, . ~ . - guide.eff)\n",
    "    ml.list[[gene]] <- ml\n",
    "    ml.null.list[[gene]] <- ml.null\n",
    "}\n",
    ")\n",
    "\n"
   ]
  },
  {
   "cell_type": "code",
   "execution_count": null,
   "id": "a3c4ebd8",
   "metadata": {},
   "outputs": [],
   "source": []
  }
 ],
 "metadata": {
  "kernelspec": {
   "display_name": "R [conda env:crisprqtl]",
   "language": "R",
   "name": "conda-env-crisprqtl-r"
  },
  "language_info": {
   "codemirror_mode": "r",
   "file_extension": ".r",
   "mimetype": "text/x-r-source",
   "name": "R",
   "pygments_lexer": "r",
   "version": "4.1.3"
  }
 },
 "nbformat": 4,
 "nbformat_minor": 5
}
