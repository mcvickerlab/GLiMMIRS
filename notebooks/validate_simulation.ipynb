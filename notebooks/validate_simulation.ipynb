{
 "cells": [
  {
   "cell_type": "code",
   "execution_count": 82,
   "id": "d13fe51c",
   "metadata": {
    "vscode": {
     "languageId": "r"
    }
   },
   "outputs": [
    {
     "name": "stderr",
     "output_type": "stream",
     "text": [
      "Loading required package: lattice\n",
      "\n",
      "Loading required package: latticeExtra\n",
      "\n",
      "Loading required package: cluster\n",
      "\n",
      "Loading required package: hexbin\n",
      "\n",
      "Loading required package: grid\n",
      "\n",
      "\n",
      "Attaching package: ‘BoutrosLab.plotting.general’\n",
      "\n",
      "\n",
      "The following object is masked from ‘package:stats’:\n",
      "\n",
      "    dist\n",
      "\n",
      "\n"
     ]
    }
   ],
   "source": [
    "library(rhdf5)\n",
    "library(MASS)\n",
    "library(BoutrosLab.plotting.general)"
   ]
  },
  {
   "cell_type": "markdown",
   "id": "df3aa47b",
   "metadata": {},
   "source": [
    "# Test reading h5 and accessing data"
   ]
  },
  {
   "cell_type": "code",
   "execution_count": 3,
   "id": "1fbd7eae",
   "metadata": {
    "vscode": {
     "languageId": "r"
    }
   },
   "outputs": [],
   "source": [
    "fh <- \"/iblm/netapp/home/karthik/crisprQTL/simulated_data/sim.h5\""
   ]
  },
  {
   "cell_type": "markdown",
   "id": "b4354757",
   "metadata": {},
   "source": [
    "Get internal structure of h5 file"
   ]
  },
  {
   "cell_type": "code",
   "execution_count": 11,
   "id": "2280419f",
   "metadata": {
    "vscode": {
     "languageId": "r"
    }
   },
   "outputs": [
    {
     "data": {
      "text/html": [
       "<table class=\"dataframe\">\n",
       "<caption>A data.frame: 12 × 5</caption>\n",
       "<thead>\n",
       "\t<tr><th></th><th scope=col>group</th><th scope=col>name</th><th scope=col>otype</th><th scope=col>dclass</th><th scope=col>dim</th></tr>\n",
       "\t<tr><th></th><th scope=col>&lt;chr&gt;</th><th scope=col>&lt;chr&gt;</th><th scope=col>&lt;chr&gt;</th><th scope=col>&lt;chr&gt;</th><th scope=col>&lt;chr&gt;</th></tr>\n",
       "</thead>\n",
       "<tbody>\n",
       "\t<tr><th scope=row>0</th><td>/      </td><td>coeffs           </td><td>H5I_DATASET</td><td>COMPOUND</td><td>13000        </td></tr>\n",
       "\t<tr><th scope=row>1</th><td>/      </td><td>counts           </td><td>H5I_DATASET</td><td>INTEGER </td><td>13000 x 50000</td></tr>\n",
       "\t<tr><th scope=row>2</th><td>/      </td><td>guides           </td><td>H5I_GROUP  </td><td>        </td><td>             </td></tr>\n",
       "\t<tr><th scope=row>3</th><td>/guides</td><td>metadata         </td><td>H5I_DATASET</td><td>COMPOUND</td><td>2000         </td></tr>\n",
       "\t<tr><th scope=row>4</th><td>/guides</td><td>one_hot          </td><td>H5I_DATASET</td><td>INTEGER </td><td>50000 x 2000 </td></tr>\n",
       "\t<tr><th scope=row>5</th><td>/      </td><td>linear_predictor </td><td>H5I_DATASET</td><td>FLOAT   </td><td>13000 x 50000</td></tr>\n",
       "\t<tr><th scope=row>6</th><td>/      </td><td>mu               </td><td>H5I_DATASET</td><td>FLOAT   </td><td>13000 x 50000</td></tr>\n",
       "\t<tr><th scope=row>7</th><td>/      </td><td>scaling_factors  </td><td>H5I_DATASET</td><td>FLOAT   </td><td>50000        </td></tr>\n",
       "\t<tr><th scope=row>8</th><td>/      </td><td>x                </td><td>H5I_GROUP  </td><td>        </td><td>             </td></tr>\n",
       "\t<tr><th scope=row>9</th><td>/x     </td><td>cell_cycle_scores</td><td>H5I_DATASET</td><td>COMPOUND</td><td>50000        </td></tr>\n",
       "\t<tr><th scope=row>10</th><td>/x     </td><td>percent_mito     </td><td>H5I_DATASET</td><td>FLOAT   </td><td>50000        </td></tr>\n",
       "\t<tr><th scope=row>11</th><td>/x     </td><td>x1               </td><td>H5I_DATASET</td><td>INTEGER </td><td>13000 x 50000</td></tr>\n",
       "</tbody>\n",
       "</table>\n"
      ],
      "text/latex": [
       "A data.frame: 12 × 5\n",
       "\\begin{tabular}{r|lllll}\n",
       "  & group & name & otype & dclass & dim\\\\\n",
       "  & <chr> & <chr> & <chr> & <chr> & <chr>\\\\\n",
       "\\hline\n",
       "\t0 & /       & coeffs            & H5I\\_DATASET & COMPOUND & 13000        \\\\\n",
       "\t1 & /       & counts            & H5I\\_DATASET & INTEGER  & 13000 x 50000\\\\\n",
       "\t2 & /       & guides            & H5I\\_GROUP   &          &              \\\\\n",
       "\t3 & /guides & metadata          & H5I\\_DATASET & COMPOUND & 2000         \\\\\n",
       "\t4 & /guides & one\\_hot           & H5I\\_DATASET & INTEGER  & 50000 x 2000 \\\\\n",
       "\t5 & /       & linear\\_predictor  & H5I\\_DATASET & FLOAT    & 13000 x 50000\\\\\n",
       "\t6 & /       & mu                & H5I\\_DATASET & FLOAT    & 13000 x 50000\\\\\n",
       "\t7 & /       & scaling\\_factors   & H5I\\_DATASET & FLOAT    & 50000        \\\\\n",
       "\t8 & /       & x                 & H5I\\_GROUP   &          &              \\\\\n",
       "\t9 & /x      & cell\\_cycle\\_scores & H5I\\_DATASET & COMPOUND & 50000        \\\\\n",
       "\t10 & /x      & percent\\_mito      & H5I\\_DATASET & FLOAT    & 50000        \\\\\n",
       "\t11 & /x      & x1                & H5I\\_DATASET & INTEGER  & 13000 x 50000\\\\\n",
       "\\end{tabular}\n"
      ],
      "text/markdown": [
       "\n",
       "A data.frame: 12 × 5\n",
       "\n",
       "| <!--/--> | group &lt;chr&gt; | name &lt;chr&gt; | otype &lt;chr&gt; | dclass &lt;chr&gt; | dim &lt;chr&gt; |\n",
       "|---|---|---|---|---|---|\n",
       "| 0 | /       | coeffs            | H5I_DATASET | COMPOUND | 13000         |\n",
       "| 1 | /       | counts            | H5I_DATASET | INTEGER  | 13000 x 50000 |\n",
       "| 2 | /       | guides            | H5I_GROUP   | <!----> | <!----> |\n",
       "| 3 | /guides | metadata          | H5I_DATASET | COMPOUND | 2000          |\n",
       "| 4 | /guides | one_hot           | H5I_DATASET | INTEGER  | 50000 x 2000  |\n",
       "| 5 | /       | linear_predictor  | H5I_DATASET | FLOAT    | 13000 x 50000 |\n",
       "| 6 | /       | mu                | H5I_DATASET | FLOAT    | 13000 x 50000 |\n",
       "| 7 | /       | scaling_factors   | H5I_DATASET | FLOAT    | 50000         |\n",
       "| 8 | /       | x                 | H5I_GROUP   | <!----> | <!----> |\n",
       "| 9 | /x      | cell_cycle_scores | H5I_DATASET | COMPOUND | 50000         |\n",
       "| 10 | /x      | percent_mito      | H5I_DATASET | FLOAT    | 50000         |\n",
       "| 11 | /x      | x1                | H5I_DATASET | INTEGER  | 13000 x 50000 |\n",
       "\n"
      ],
      "text/plain": [
       "   group   name              otype       dclass   dim          \n",
       "0  /       coeffs            H5I_DATASET COMPOUND 13000        \n",
       "1  /       counts            H5I_DATASET INTEGER  13000 x 50000\n",
       "2  /       guides            H5I_GROUP                         \n",
       "3  /guides metadata          H5I_DATASET COMPOUND 2000         \n",
       "4  /guides one_hot           H5I_DATASET INTEGER  50000 x 2000 \n",
       "5  /       linear_predictor  H5I_DATASET FLOAT    13000 x 50000\n",
       "6  /       mu                H5I_DATASET FLOAT    13000 x 50000\n",
       "7  /       scaling_factors   H5I_DATASET FLOAT    50000        \n",
       "8  /       x                 H5I_GROUP                         \n",
       "9  /x      cell_cycle_scores H5I_DATASET COMPOUND 50000        \n",
       "10 /x      percent_mito      H5I_DATASET FLOAT    50000        \n",
       "11 /x      x1                H5I_DATASET INTEGER  13000 x 50000"
      ]
     },
     "metadata": {},
     "output_type": "display_data"
    }
   ],
   "source": [
    "h5ls(fh)"
   ]
  },
  {
   "cell_type": "code",
   "execution_count": 21,
   "id": "ce051636",
   "metadata": {
    "vscode": {
     "languageId": "r"
    }
   },
   "outputs": [],
   "source": [
    "# read in mu values\n",
    "mu.values <- h5read(file = fh, name = 'mu')"
   ]
  },
  {
   "cell_type": "code",
   "execution_count": 37,
   "id": "f9454f04",
   "metadata": {
    "vscode": {
     "languageId": "r"
    }
   },
   "outputs": [
    {
     "ename": "ERROR",
     "evalue": "Error in mu.values[11331, \"linear_predictor\"]: no 'dimnames' attribute for array\n",
     "output_type": "error",
     "traceback": [
      "Error in mu.values[11331, \"linear_predictor\"]: no 'dimnames' attribute for array\nTraceback:\n"
     ]
    }
   ],
   "source": [
    "max(mu.values[11331, ])"
   ]
  },
  {
   "cell_type": "code",
   "execution_count": 38,
   "id": "b968da3d",
   "metadata": {
    "vscode": {
     "languageId": "r"
    }
   },
   "outputs": [],
   "source": [
    "beta1.values <- h5read(file = fh, name = 'linear_predictor')"
   ]
  },
  {
   "cell_type": "code",
   "execution_count": 47,
   "id": "396d5f16",
   "metadata": {
    "vscode": {
     "languageId": "r"
    }
   },
   "outputs": [
    {
     "data": {
      "text/html": [
       "38609"
      ],
      "text/latex": [
       "38609"
      ],
      "text/markdown": [
       "38609"
      ],
      "text/plain": [
       "[1] 38609"
      ]
     },
     "metadata": {},
     "output_type": "display_data"
    }
   ],
   "source": [
    "which(beta1.values[11331, ] == max(beta1.values[11331, ]))"
   ]
  },
  {
   "cell_type": "code",
   "execution_count": 41,
   "id": "0f81622d",
   "metadata": {
    "vscode": {
     "languageId": "r"
    }
   },
   "outputs": [
    {
     "data": {
      "text/html": [
       "<table class=\"dataframe\">\n",
       "<caption>A data.frame: 1 × 5</caption>\n",
       "<thead>\n",
       "\t<tr><th></th><th scope=col>baselines</th><th scope=col>beta1</th><th scope=col>beta2</th><th scope=col>beta3</th><th scope=col>beta4</th></tr>\n",
       "\t<tr><th></th><th scope=col>&lt;dbl&gt;</th><th scope=col>&lt;dbl&gt;</th><th scope=col>&lt;dbl&gt;</th><th scope=col>&lt;dbl&gt;</th><th scope=col>&lt;dbl&gt;</th></tr>\n",
       "</thead>\n",
       "<tbody>\n",
       "\t<tr><th scope=row>11331</th><td>1.408948</td><td>-2.852283</td><td>1.852508</td><td>6.949296</td><td>5.034739</td></tr>\n",
       "</tbody>\n",
       "</table>\n"
      ],
      "text/latex": [
       "A data.frame: 1 × 5\n",
       "\\begin{tabular}{r|lllll}\n",
       "  & baselines & beta1 & beta2 & beta3 & beta4\\\\\n",
       "  & <dbl> & <dbl> & <dbl> & <dbl> & <dbl>\\\\\n",
       "\\hline\n",
       "\t11331 & 1.408948 & -2.852283 & 1.852508 & 6.949296 & 5.034739\\\\\n",
       "\\end{tabular}\n"
      ],
      "text/markdown": [
       "\n",
       "A data.frame: 1 × 5\n",
       "\n",
       "| <!--/--> | baselines &lt;dbl&gt; | beta1 &lt;dbl&gt; | beta2 &lt;dbl&gt; | beta3 &lt;dbl&gt; | beta4 &lt;dbl&gt; |\n",
       "|---|---|---|---|---|---|\n",
       "| 11331 | 1.408948 | -2.852283 | 1.852508 | 6.949296 | 5.034739 |\n",
       "\n"
      ],
      "text/plain": [
       "      baselines beta1     beta2    beta3    beta4   \n",
       "11331 1.408948  -2.852283 1.852508 6.949296 5.034739"
      ]
     },
     "metadata": {},
     "output_type": "display_data"
    }
   ],
   "source": [
    "coeffs[11331, ]"
   ]
  },
  {
   "cell_type": "code",
   "execution_count": 48,
   "id": "2f037f75",
   "metadata": {
    "vscode": {
     "languageId": "r"
    }
   },
   "outputs": [
    {
     "data": {
      "text/html": [
       "<table class=\"dataframe\">\n",
       "<caption>A data.frame: 1 × 2</caption>\n",
       "<thead>\n",
       "\t<tr><th></th><th scope=col>s.scores</th><th scope=col>g2m.scores</th></tr>\n",
       "\t<tr><th></th><th scope=col>&lt;dbl&gt;</th><th scope=col>&lt;dbl&gt;</th></tr>\n",
       "</thead>\n",
       "<tbody>\n",
       "\t<tr><th scope=row>38609</th><td>-2.823965</td><td>4.064184</td></tr>\n",
       "</tbody>\n",
       "</table>\n"
      ],
      "text/latex": [
       "A data.frame: 1 × 2\n",
       "\\begin{tabular}{r|ll}\n",
       "  & s.scores & g2m.scores\\\\\n",
       "  & <dbl> & <dbl>\\\\\n",
       "\\hline\n",
       "\t38609 & -2.823965 & 4.064184\\\\\n",
       "\\end{tabular}\n"
      ],
      "text/markdown": [
       "\n",
       "A data.frame: 1 × 2\n",
       "\n",
       "| <!--/--> | s.scores &lt;dbl&gt; | g2m.scores &lt;dbl&gt; |\n",
       "|---|---|---|\n",
       "| 38609 | -2.823965 | 4.064184 |\n",
       "\n"
      ],
      "text/plain": [
       "      s.scores  g2m.scores\n",
       "38609 -2.823965 4.064184  "
      ]
     },
     "metadata": {},
     "output_type": "display_data"
    }
   ],
   "source": [
    "cell.cycle.scores[38609, ]"
   ]
  },
  {
   "cell_type": "code",
   "execution_count": 49,
   "id": "d3c48b85",
   "metadata": {
    "vscode": {
     "languageId": "r"
    }
   },
   "outputs": [
    {
     "data": {
      "text/html": [
       "0.049655"
      ],
      "text/latex": [
       "0.049655"
      ],
      "text/markdown": [
       "0.049655"
      ],
      "text/plain": [
       "[1] 0.049655"
      ]
     },
     "metadata": {},
     "output_type": "display_data"
    }
   ],
   "source": [
    "scaling.factors[38609]"
   ]
  },
  {
   "cell_type": "markdown",
   "id": "53bb303e",
   "metadata": {},
   "source": [
    "# Load fixed values\n",
    "\n",
    "Coefficients (ground truth for evaluating model performance) \n",
    "\n",
    "Cell cycle scores (same for every gene)"
   ]
  },
  {
   "cell_type": "code",
   "execution_count": 4,
   "id": "243b4154",
   "metadata": {
    "vscode": {
     "languageId": "r"
    }
   },
   "outputs": [],
   "source": [
    "coeffs <- h5read(file = fh, name = \"coeffs\")\n",
    "cell.cycle.scores <- h5read(fh, \"x/cell_cycle_scores\")\n",
    "scaling.factors <- h5read(file = fh, name = \"scaling_factors\")\n",
    "guides.metadata <- h5read(file = fh, name = \"guides/metadata\")"
   ]
  },
  {
   "cell_type": "code",
   "execution_count": 5,
   "id": "eb1dff6b",
   "metadata": {
    "vscode": {
     "languageId": "r"
    }
   },
   "outputs": [
    {
     "data": {
      "text/html": [
       "<table class=\"dataframe\">\n",
       "<caption>A data.frame: 6 × 3</caption>\n",
       "<thead>\n",
       "\t<tr><th></th><th scope=col>target.gene</th><th scope=col>efficiency</th><th scope=col>effect.size</th></tr>\n",
       "\t<tr><th></th><th scope=col>&lt;int&gt;</th><th scope=col>&lt;dbl&gt;</th><th scope=col>&lt;dbl&gt;</th></tr>\n",
       "</thead>\n",
       "<tbody>\n",
       "\t<tr><th scope=row>1</th><td> 3683</td><td>0.7247283</td><td>-4.462767</td></tr>\n",
       "\t<tr><th scope=row>2</th><td> 1175</td><td>0.6302226</td><td>-4.838250</td></tr>\n",
       "\t<tr><th scope=row>3</th><td>11331</td><td>0.5332885</td><td>-2.852283</td></tr>\n",
       "\t<tr><th scope=row>4</th><td> 1399</td><td>0.6552179</td><td>-2.778439</td></tr>\n",
       "\t<tr><th scope=row>5</th><td>  543</td><td>0.6759810</td><td>-3.910947</td></tr>\n",
       "\t<tr><th scope=row>6</th><td>10902</td><td>0.5953462</td><td>-2.812525</td></tr>\n",
       "</tbody>\n",
       "</table>\n"
      ],
      "text/latex": [
       "A data.frame: 6 × 3\n",
       "\\begin{tabular}{r|lll}\n",
       "  & target.gene & efficiency & effect.size\\\\\n",
       "  & <int> & <dbl> & <dbl>\\\\\n",
       "\\hline\n",
       "\t1 &  3683 & 0.7247283 & -4.462767\\\\\n",
       "\t2 &  1175 & 0.6302226 & -4.838250\\\\\n",
       "\t3 & 11331 & 0.5332885 & -2.852283\\\\\n",
       "\t4 &  1399 & 0.6552179 & -2.778439\\\\\n",
       "\t5 &   543 & 0.6759810 & -3.910947\\\\\n",
       "\t6 & 10902 & 0.5953462 & -2.812525\\\\\n",
       "\\end{tabular}\n"
      ],
      "text/markdown": [
       "\n",
       "A data.frame: 6 × 3\n",
       "\n",
       "| <!--/--> | target.gene &lt;int&gt; | efficiency &lt;dbl&gt; | effect.size &lt;dbl&gt; |\n",
       "|---|---|---|---|\n",
       "| 1 |  3683 | 0.7247283 | -4.462767 |\n",
       "| 2 |  1175 | 0.6302226 | -4.838250 |\n",
       "| 3 | 11331 | 0.5332885 | -2.852283 |\n",
       "| 4 |  1399 | 0.6552179 | -2.778439 |\n",
       "| 5 |   543 | 0.6759810 | -3.910947 |\n",
       "| 6 | 10902 | 0.5953462 | -2.812525 |\n",
       "\n"
      ],
      "text/plain": [
       "  target.gene efficiency effect.size\n",
       "1  3683       0.7247283  -4.462767  \n",
       "2  1175       0.6302226  -4.838250  \n",
       "3 11331       0.5332885  -2.852283  \n",
       "4  1399       0.6552179  -2.778439  \n",
       "5   543       0.6759810  -3.910947  \n",
       "6 10902       0.5953462  -2.812525  "
      ]
     },
     "metadata": {},
     "output_type": "display_data"
    }
   ],
   "source": [
    "head(guides.metadata)"
   ]
  },
  {
   "cell_type": "markdown",
   "id": "2b3e98b9",
   "metadata": {},
   "source": [
    "# Define null and alternative models\n",
    "\n",
    "## Model\n",
    "$$y = \\text{NB}(\\mu=s \\cdot \\exp \\left( \\beta_0 + \\beta_1 X_1 + \\beta_2 X_2 + \\beta_3 X_3 \\right), n=\\sigma)$$\n",
    "### $H_0: \\beta_1 = 0 $\n",
    "### $H_A: \\beta_1 \\neq 0 $\n",
    "\n"
   ]
  },
  {
   "cell_type": "markdown",
   "id": "00934543",
   "metadata": {},
   "source": [
    "### Test for one gene with `glm.nb` (MASS library)"
   ]
  },
  {
   "cell_type": "code",
   "execution_count": 14,
   "id": "c89ea0ed",
   "metadata": {
    "vscode": {
     "languageId": "r"
    }
   },
   "outputs": [],
   "source": [
    "test.gene <- 3683\n",
    "\n",
    "obs.counts <- h5read(file = fh, name = \"counts\", index = list(test.gene, 1:50000))\n",
    "gene.data <- data.frame(guide.eff = as.integer(h5read(file = fh, name = \"x/x1\", index = list(test.gene, 1:50000))),\n",
    "                       s.score = cell.cycle.scores$s.scores,\n",
    "                       g2m.score = cell.cycle.scores$g2m.scores,\n",
    "                       counts = as.integer(obs.counts),\n",
    "                       scaling.factor = scaling.factors)"
   ]
  },
  {
   "cell_type": "code",
   "execution_count": 15,
   "id": "8028e075",
   "metadata": {
    "vscode": {
     "languageId": "r"
    }
   },
   "outputs": [
    {
     "data": {
      "text/html": [
       "<table class=\"dataframe\">\n",
       "<caption>A data.frame: 6 × 5</caption>\n",
       "<thead>\n",
       "\t<tr><th></th><th scope=col>guide.eff</th><th scope=col>s.score</th><th scope=col>g2m.score</th><th scope=col>counts</th><th scope=col>scaling.factor</th></tr>\n",
       "\t<tr><th></th><th scope=col>&lt;int&gt;</th><th scope=col>&lt;dbl&gt;</th><th scope=col>&lt;dbl&gt;</th><th scope=col>&lt;int&gt;</th><th scope=col>&lt;dbl&gt;</th></tr>\n",
       "</thead>\n",
       "<tbody>\n",
       "\t<tr><th scope=row>1</th><td>0</td><td>-1.0309103</td><td> 1.1526160</td><td>0</td><td>0.050330</td></tr>\n",
       "\t<tr><th scope=row>2</th><td>0</td><td>-0.4639413</td><td> 1.2934445</td><td>1</td><td>0.050077</td></tr>\n",
       "\t<tr><th scope=row>3</th><td>0</td><td> 0.5149060</td><td>-0.4730435</td><td>0</td><td>0.049864</td></tr>\n",
       "\t<tr><th scope=row>4</th><td>0</td><td>-0.9497266</td><td> 0.3118649</td><td>0</td><td>0.050117</td></tr>\n",
       "\t<tr><th scope=row>5</th><td>0</td><td> 1.2838343</td><td>-2.2465534</td><td>0</td><td>0.050016</td></tr>\n",
       "\t<tr><th scope=row>6</th><td>0</td><td>-0.7403177</td><td> 0.4665516</td><td>0</td><td>0.049508</td></tr>\n",
       "</tbody>\n",
       "</table>\n"
      ],
      "text/latex": [
       "A data.frame: 6 × 5\n",
       "\\begin{tabular}{r|lllll}\n",
       "  & guide.eff & s.score & g2m.score & counts & scaling.factor\\\\\n",
       "  & <int> & <dbl> & <dbl> & <int> & <dbl>\\\\\n",
       "\\hline\n",
       "\t1 & 0 & -1.0309103 &  1.1526160 & 0 & 0.050330\\\\\n",
       "\t2 & 0 & -0.4639413 &  1.2934445 & 1 & 0.050077\\\\\n",
       "\t3 & 0 &  0.5149060 & -0.4730435 & 0 & 0.049864\\\\\n",
       "\t4 & 0 & -0.9497266 &  0.3118649 & 0 & 0.050117\\\\\n",
       "\t5 & 0 &  1.2838343 & -2.2465534 & 0 & 0.050016\\\\\n",
       "\t6 & 0 & -0.7403177 &  0.4665516 & 0 & 0.049508\\\\\n",
       "\\end{tabular}\n"
      ],
      "text/markdown": [
       "\n",
       "A data.frame: 6 × 5\n",
       "\n",
       "| <!--/--> | guide.eff &lt;int&gt; | s.score &lt;dbl&gt; | g2m.score &lt;dbl&gt; | counts &lt;int&gt; | scaling.factor &lt;dbl&gt; |\n",
       "|---|---|---|---|---|---|\n",
       "| 1 | 0 | -1.0309103 |  1.1526160 | 0 | 0.050330 |\n",
       "| 2 | 0 | -0.4639413 |  1.2934445 | 1 | 0.050077 |\n",
       "| 3 | 0 |  0.5149060 | -0.4730435 | 0 | 0.049864 |\n",
       "| 4 | 0 | -0.9497266 |  0.3118649 | 0 | 0.050117 |\n",
       "| 5 | 0 |  1.2838343 | -2.2465534 | 0 | 0.050016 |\n",
       "| 6 | 0 | -0.7403177 |  0.4665516 | 0 | 0.049508 |\n",
       "\n"
      ],
      "text/plain": [
       "  guide.eff s.score    g2m.score  counts scaling.factor\n",
       "1 0         -1.0309103  1.1526160 0      0.050330      \n",
       "2 0         -0.4639413  1.2934445 1      0.050077      \n",
       "3 0          0.5149060 -0.4730435 0      0.049864      \n",
       "4 0         -0.9497266  0.3118649 0      0.050117      \n",
       "5 0          1.2838343 -2.2465534 0      0.050016      \n",
       "6 0         -0.7403177  0.4665516 0      0.049508      "
      ]
     },
     "metadata": {},
     "output_type": "display_data"
    }
   ],
   "source": [
    "head(gene.data)"
   ]
  },
  {
   "cell_type": "code",
   "execution_count": 16,
   "id": "b79e8dff",
   "metadata": {
    "vscode": {
     "languageId": "r"
    }
   },
   "outputs": [
    {
     "data": {
      "text/html": [
       "<style>\n",
       ".list-inline {list-style: none; margin:0; padding: 0}\n",
       ".list-inline>li {display: inline-block}\n",
       ".list-inline>li:not(:last-child)::after {content: \"\\00b7\"; padding: 0 .5ex}\n",
       "</style>\n",
       "<ol class=list-inline><li>0</li><li>1</li></ol>\n"
      ],
      "text/latex": [
       "\\begin{enumerate*}\n",
       "\\item 0\n",
       "\\item 1\n",
       "\\end{enumerate*}\n"
      ],
      "text/markdown": [
       "1. 0\n",
       "2. 1\n",
       "\n",
       "\n"
      ],
      "text/plain": [
       "[1] 0 1"
      ]
     },
     "metadata": {},
     "output_type": "display_data"
    }
   ],
   "source": [
    "unique(gene.data$guide.eff)"
   ]
  },
  {
   "cell_type": "code",
   "execution_count": 17,
   "id": "a372a698",
   "metadata": {
    "vscode": {
     "languageId": "r"
    }
   },
   "outputs": [],
   "source": [
    "ml <- glm.nb(counts ~ guide.eff + s.score + g2m.score + offset(log(scaling.factor)), data = gene.data)"
   ]
  },
  {
   "cell_type": "code",
   "execution_count": 18,
   "id": "f537148a",
   "metadata": {
    "vscode": {
     "languageId": "r"
    }
   },
   "outputs": [
    {
     "data": {
      "text/plain": [
       "\n",
       "Call:\n",
       "glm.nb(formula = counts ~ guide.eff + s.score + g2m.score + offset(log(scaling.factor)), \n",
       "    data = gene.data, init.theta = 1.513933735, link = log)\n",
       "\n",
       "Deviance Residuals: \n",
       "    Min       1Q   Median       3Q      Max  \n",
       "-3.8242  -0.5363  -0.1985  -0.0394   4.1341  \n",
       "\n",
       "Coefficients:\n",
       "            Estimate Std. Error z value Pr(>|z|)    \n",
       "(Intercept)  0.85635    0.01464   58.49   <2e-16 ***\n",
       "guide.eff   -4.16329    0.27430  -15.18   <2e-16 ***\n",
       "s.score      5.30530    0.01828  290.18   <2e-16 ***\n",
       "g2m.score    3.21472    0.01469  218.83   <2e-16 ***\n",
       "---\n",
       "Signif. codes:  0 ‘***’ 0.001 ‘**’ 0.01 ‘*’ 0.05 ‘.’ 0.1 ‘ ’ 1\n",
       "\n",
       "(Dispersion parameter for Negative Binomial(1.5139) family taken to be 1)\n",
       "\n",
       "    Null deviance: 493207  on 49999  degrees of freedom\n",
       "Residual deviance:  27100  on 49996  degrees of freedom\n",
       "AIC: 105755\n",
       "\n",
       "Number of Fisher Scoring iterations: 1\n",
       "\n",
       "\n",
       "              Theta:  1.5139 \n",
       "          Std. Err.:  0.0237 \n",
       "\n",
       " 2 x log-likelihood:  -105744.9340 "
      ]
     },
     "metadata": {},
     "output_type": "display_data"
    }
   ],
   "source": [
    "summary(ml)"
   ]
  },
  {
   "cell_type": "code",
   "execution_count": 19,
   "id": "0a2221ea",
   "metadata": {
    "vscode": {
     "languageId": "r"
    }
   },
   "outputs": [
    {
     "data": {
      "text/html": [
       "<table class=\"dataframe\">\n",
       "<caption>A data.frame: 1 × 5</caption>\n",
       "<thead>\n",
       "\t<tr><th></th><th scope=col>baselines</th><th scope=col>beta1</th><th scope=col>beta2</th><th scope=col>beta3</th><th scope=col>beta4</th></tr>\n",
       "\t<tr><th></th><th scope=col>&lt;dbl&gt;</th><th scope=col>&lt;dbl&gt;</th><th scope=col>&lt;dbl&gt;</th><th scope=col>&lt;dbl&gt;</th><th scope=col>&lt;dbl&gt;</th></tr>\n",
       "</thead>\n",
       "<tbody>\n",
       "\t<tr><th scope=row>3683</th><td>0.780297</td><td>-4.462767</td><td>5.321519</td><td>3.227325</td><td>1.829826</td></tr>\n",
       "</tbody>\n",
       "</table>\n"
      ],
      "text/latex": [
       "A data.frame: 1 × 5\n",
       "\\begin{tabular}{r|lllll}\n",
       "  & baselines & beta1 & beta2 & beta3 & beta4\\\\\n",
       "  & <dbl> & <dbl> & <dbl> & <dbl> & <dbl>\\\\\n",
       "\\hline\n",
       "\t3683 & 0.780297 & -4.462767 & 5.321519 & 3.227325 & 1.829826\\\\\n",
       "\\end{tabular}\n"
      ],
      "text/markdown": [
       "\n",
       "A data.frame: 1 × 5\n",
       "\n",
       "| <!--/--> | baselines &lt;dbl&gt; | beta1 &lt;dbl&gt; | beta2 &lt;dbl&gt; | beta3 &lt;dbl&gt; | beta4 &lt;dbl&gt; |\n",
       "|---|---|---|---|---|---|\n",
       "| 3683 | 0.780297 | -4.462767 | 5.321519 | 3.227325 | 1.829826 |\n",
       "\n"
      ],
      "text/plain": [
       "     baselines beta1     beta2    beta3    beta4   \n",
       "3683 0.780297  -4.462767 5.321519 3.227325 1.829826"
      ]
     },
     "metadata": {},
     "output_type": "display_data"
    }
   ],
   "source": [
    "coeffs[test.gene,]"
   ]
  },
  {
   "cell_type": "markdown",
   "id": "e3984717",
   "metadata": {},
   "source": [
    "# Test for all target genes\n",
    "\n",
    "E.g. the 1000 genes in our simulated data whose enhancers are targeted by gRNAs in our library "
   ]
  },
  {
   "cell_type": "code",
   "execution_count": 60,
   "id": "34088a4c",
   "metadata": {
    "vscode": {
     "languageId": "r"
    }
   },
   "outputs": [],
   "source": [
    "counts.matrix <- h5read(file = fh, name = \"counts\")"
   ]
  },
  {
   "cell_type": "code",
   "execution_count": 61,
   "id": "088a61fe",
   "metadata": {
    "vscode": {
     "languageId": "r"
    }
   },
   "outputs": [
    {
     "data": {
      "text/html": [
       "<table class=\"dataframe\">\n",
       "<caption>A matrix: 6 × 50000 of type int</caption>\n",
       "<tbody>\n",
       "\t<tr><td>   0</td><td>    1</td><td>  1</td><td>  0</td><td>11</td><td>  0</td><td>  0</td><td>    0</td><td>   0</td><td>   0</td><td>⋯</td><td>8058</td><td>   1</td><td>  1</td><td>   0</td><td>  0</td><td>   1</td><td>  6</td><td>   0</td><td>1</td><td>   0</td></tr>\n",
       "\t<tr><td>7097</td><td>58161</td><td>300</td><td>276</td><td> 3</td><td>598</td><td>749</td><td>14586</td><td>1039</td><td>1686</td><td>⋯</td><td>2829</td><td>2612</td><td>411</td><td>4337</td><td>148</td><td>2257</td><td>100</td><td>5542</td><td>6</td><td>8030</td></tr>\n",
       "\t<tr><td>   0</td><td>    1</td><td>  1</td><td>  0</td><td> 0</td><td>  0</td><td>  0</td><td>    0</td><td>   0</td><td>   0</td><td>⋯</td><td> 257</td><td>   2</td><td>  0</td><td>   1</td><td>  0</td><td>   0</td><td> 10</td><td>   0</td><td>0</td><td>   3</td></tr>\n",
       "\t<tr><td>   1</td><td>    9</td><td>  0</td><td>  0</td><td> 0</td><td>  0</td><td>  4</td><td>    5</td><td>   0</td><td>   0</td><td>⋯</td><td>   1</td><td>   3</td><td>  0</td><td>  23</td><td>  0</td><td>   0</td><td>  2</td><td>   1</td><td>0</td><td>   0</td></tr>\n",
       "\t<tr><td>   0</td><td>    3</td><td>  0</td><td>  0</td><td> 0</td><td>  0</td><td>  0</td><td>    0</td><td>   1</td><td>   0</td><td>⋯</td><td>   7</td><td>   1</td><td>  0</td><td>   0</td><td>  0</td><td>   0</td><td>  2</td><td>   0</td><td>0</td><td>   1</td></tr>\n",
       "\t<tr><td>   0</td><td>    2</td><td>  1</td><td>  0</td><td> 1</td><td>  1</td><td>  1</td><td>    0</td><td>   0</td><td>   2</td><td>⋯</td><td> 627</td><td>   3</td><td>  0</td><td>   0</td><td>  0</td><td>   0</td><td> 21</td><td>   0</td><td>0</td><td>   2</td></tr>\n",
       "</tbody>\n",
       "</table>\n"
      ],
      "text/latex": [
       "A matrix: 6 × 50000 of type int\n",
       "\\begin{tabular}{lllllllllllllllllllll}\n",
       "\t    0 &     1 &   1 &   0 & 11 &   0 &   0 &     0 &    0 &    0 & ⋯ & 8058 &    1 &   1 &    0 &   0 &    1 &   6 &    0 & 1 &    0\\\\\n",
       "\t 7097 & 58161 & 300 & 276 &  3 & 598 & 749 & 14586 & 1039 & 1686 & ⋯ & 2829 & 2612 & 411 & 4337 & 148 & 2257 & 100 & 5542 & 6 & 8030\\\\\n",
       "\t    0 &     1 &   1 &   0 &  0 &   0 &   0 &     0 &    0 &    0 & ⋯ &  257 &    2 &   0 &    1 &   0 &    0 &  10 &    0 & 0 &    3\\\\\n",
       "\t    1 &     9 &   0 &   0 &  0 &   0 &   4 &     5 &    0 &    0 & ⋯ &    1 &    3 &   0 &   23 &   0 &    0 &   2 &    1 & 0 &    0\\\\\n",
       "\t    0 &     3 &   0 &   0 &  0 &   0 &   0 &     0 &    1 &    0 & ⋯ &    7 &    1 &   0 &    0 &   0 &    0 &   2 &    0 & 0 &    1\\\\\n",
       "\t    0 &     2 &   1 &   0 &  1 &   1 &   1 &     0 &    0 &    2 & ⋯ &  627 &    3 &   0 &    0 &   0 &    0 &  21 &    0 & 0 &    2\\\\\n",
       "\\end{tabular}\n"
      ],
      "text/markdown": [
       "\n",
       "A matrix: 6 × 50000 of type int\n",
       "\n",
       "|    0 |     1 |   1 |   0 | 11 |   0 |   0 |     0 |    0 |    0 | ⋯ | 8058 |    1 |   1 |    0 |   0 |    1 |   6 |    0 | 1 |    0 |\n",
       "| 7097 | 58161 | 300 | 276 |  3 | 598 | 749 | 14586 | 1039 | 1686 | ⋯ | 2829 | 2612 | 411 | 4337 | 148 | 2257 | 100 | 5542 | 6 | 8030 |\n",
       "|    0 |     1 |   1 |   0 |  0 |   0 |   0 |     0 |    0 |    0 | ⋯ |  257 |    2 |   0 |    1 |   0 |    0 |  10 |    0 | 0 |    3 |\n",
       "|    1 |     9 |   0 |   0 |  0 |   0 |   4 |     5 |    0 |    0 | ⋯ |    1 |    3 |   0 |   23 |   0 |    0 |   2 |    1 | 0 |    0 |\n",
       "|    0 |     3 |   0 |   0 |  0 |   0 |   0 |     0 |    1 |    0 | ⋯ |    7 |    1 |   0 |    0 |   0 |    0 |   2 |    0 | 0 |    1 |\n",
       "|    0 |     2 |   1 |   0 |  1 |   1 |   1 |     0 |    0 |    2 | ⋯ |  627 |    3 |   0 |    0 |   0 |    0 |  21 |    0 | 0 |    2 |\n",
       "\n"
      ],
      "text/plain": [
       "     [,1] [,2]  [,3] [,4] [,5] [,6] [,7] [,8]  [,9] [,10] [,11] [,12] [,13]\n",
       "[1,]    0     1   1    0  11     0    0      0    0    0  ⋯     8058     1 \n",
       "[2,] 7097 58161 300  276   3   598  749  14586 1039 1686  ⋯     2829  2612 \n",
       "[3,]    0     1   1    0   0     0    0      0    0    0  ⋯      257     2 \n",
       "[4,]    1     9   0    0   0     0    4      5    0    0  ⋯        1     3 \n",
       "[5,]    0     3   0    0   0     0    0      0    1    0  ⋯        7     1 \n",
       "[6,]    0     2   1    0   1     1    1      0    0    2  ⋯      627     3 \n",
       "     [,14] [,15] [,16] [,17] [,18] [,19] [,20] [,21]\n",
       "[1,]   1      0    0      1    6      0  1        0 \n",
       "[2,] 411   4337  148   2257  100   5542  6     8030 \n",
       "[3,]   0      1    0      0   10      0  0        3 \n",
       "[4,]   0     23    0      0    2      1  0        0 \n",
       "[5,]   0      0    0      0    2      0  0        1 \n",
       "[6,]   0      0    0      0   21      0  0        2 "
      ]
     },
     "metadata": {},
     "output_type": "display_data"
    }
   ],
   "source": [
    "head(counts.matrix)"
   ]
  },
  {
   "cell_type": "code",
   "execution_count": 110,
   "id": "f0e3c3bb",
   "metadata": {
    "vscode": {
     "languageId": "r"
    }
   },
   "outputs": [],
   "source": [
    "scaling.factors <- colSums(counts.matrix) / 0.0001"
   ]
  },
  {
   "cell_type": "code",
   "execution_count": null,
   "id": "29da2c3c",
   "metadata": {
    "vscode": {
     "languageId": "r"
    }
   },
   "outputs": [],
   "source": [
    "scaling.factors"
   ]
  },
  {
   "cell_type": "code",
   "execution_count": 111,
   "id": "33def742",
   "metadata": {
    "vscode": {
     "languageId": "r"
    }
   },
   "outputs": [
    {
     "data": {
      "image/png": "[encoded data removed]",
      "text/plain": [
       "Plot with title “Histogram of scaling.factors”"
      ]
     },
     "metadata": {
      "image/png": {
       "height": 420,
       "width": 420
      }
     },
     "output_type": "display_data"
    }
   ],
   "source": [
    "hist(scaling.factors)"
   ]
  },
  {
   "cell_type": "code",
   "execution_count": 112,
   "id": "27f8ce31",
   "metadata": {
    "vscode": {
     "languageId": "r"
    }
   },
   "outputs": [
    {
     "data": {
      "image/png": "[encoded data removed]",
      "text/plain": [
       "Plot with title “Histogram of log(scaling.factors)”"
      ]
     },
     "metadata": {
      "image/png": {
       "height": 420,
       "width": 420
      }
     },
     "output_type": "display_data"
    }
   ],
   "source": [
    "hist(log(scaling.factors))"
   ]
  },
  {
   "cell_type": "code",
   "execution_count": 75,
   "id": "33799194",
   "metadata": {
    "vscode": {
     "languageId": "r"
    }
   },
   "outputs": [
    {
     "data": {
      "text/html": [
       "0"
      ],
      "text/latex": [
       "0"
      ],
      "text/markdown": [
       "0"
      ],
      "text/plain": [
       "[1] 0"
      ]
     },
     "metadata": {},
     "output_type": "display_data"
    }
   ],
   "source": [
    "sum(is.na(log(scaling.factors)))"
   ]
  },
  {
   "cell_type": "code",
   "execution_count": 76,
   "id": "de5db768",
   "metadata": {
    "vscode": {
     "languageId": "r"
    }
   },
   "outputs": [
    {
     "data": {
      "text/html": [
       "50000"
      ],
      "text/latex": [
       "50000"
      ],
      "text/markdown": [
       "50000"
      ],
      "text/plain": [
       "[1] 50000"
      ]
     },
     "metadata": {},
     "output_type": "display_data"
    }
   ],
   "source": [
    "length(scaling.factors)"
   ]
  },
  {
   "cell_type": "code",
   "execution_count": 113,
   "id": "95981cfa",
   "metadata": {
    "vscode": {
     "languageId": "r"
    }
   },
   "outputs": [
    {
     "name": "stdout",
     "output_type": "stream",
     "text": [
      "[1] 3683\n"
     ]
    },
    {
     "ename": "ERROR",
     "evalue": "Error in glm.fitter(x = X, y = Y, w = w, etastart = eta, offset = offset, : NA/NaN/Inf in 'x'\n",
     "output_type": "error",
     "traceback": [
      "Error in glm.fitter(x = X, y = Y, w = w, etastart = eta, offset = offset, : NA/NaN/Inf in 'x'\nTraceback:\n",
      "1. glm.nb(counts ~ guide.eff + s.score + g2m.score + offset(log(scaling.factors)), \n .     data = gene.data)",
      "2. glm.fitter(x = X, y = Y, w = w, etastart = eta, offset = offset, \n .     family = fam, control = list(maxit = control$maxit, epsilon = control$epsilon, \n .         trace = control$trace > 1), intercept = attr(Terms, \"intercept\") > \n .         0)"
     ]
    }
   ],
   "source": [
    "ml.list <- list()\n",
    "\n",
    "for (gene in guides.metadata$target.gene[1:10]) {\n",
    "    print(gene)\n",
    "    obs.counts <- h5read(file = fh, name = \"counts\", index = list(gene, 1:50000))\n",
    "    gene.data <- data.frame(guide.eff = as.integer(h5read(file = fh, name = \"x/x1\", index = list(gene, 1:50000))),\n",
    "                       s.score = cell.cycle.scores$s.scores,\n",
    "                       g2m.score = cell.cycle.scores$g2m.scores,\n",
    "                       counts = as.integer(obs.counts),\n",
    "                       scaling.factors = scaling.factors)\n",
    "    ml <- glm.nb(counts ~ guide.eff + s.score + g2m.score + offset(log(scaling.factors)), data = gene.data)\n",
    "    ml.list[[gene]] <- ml\n",
    "}"
   ]
  },
  {
   "cell_type": "code",
   "execution_count": 54,
   "id": "74eb9386",
   "metadata": {
    "vscode": {
     "languageId": "r"
    }
   },
   "outputs": [
    {
     "data": {
      "text/plain": [
       "\n",
       "Call:\n",
       "glm.nb(formula = counts ~ guide.eff, data = gene.data, init.theta = 0.05211118873, \n",
       "    link = log)\n",
       "\n",
       "Deviance Residuals: \n",
       "    Min       1Q   Median       3Q      Max  \n",
       "-0.8130  -0.8130  -0.8130  -0.4996  30.4046  \n",
       "\n",
       "Coefficients:\n",
       "            Estimate Std. Error z value Pr(>|z|)    \n",
       "(Intercept)  3.38511    0.01965  172.27   <2e-16 ***\n",
       "guide.eff   -3.20122    0.30722  -10.42   <2e-16 ***\n",
       "---\n",
       "Signif. codes:  0 ‘***’ 0.001 ‘**’ 0.01 ‘*’ 0.05 ‘.’ 0.1 ‘ ’ 1\n",
       "\n",
       "(Dispersion parameter for Negative Binomial(0.0521) family taken to be 1)\n",
       "\n",
       "    Null deviance: 29512  on 49999  degrees of freedom\n",
       "Residual deviance: 29463  on 49998  degrees of freedom\n",
       "AIC: 172119\n",
       "\n",
       "Number of Fisher Scoring iterations: 1\n",
       "\n",
       "\n",
       "              Theta:  0.052111 \n",
       "          Std. Err.:  0.000467 \n",
       "\n",
       " 2 x log-likelihood:  -172112.870000 "
      ]
     },
     "metadata": {},
     "output_type": "display_data"
    }
   ],
   "source": [
    "summary(ml.list[[3683]])"
   ]
  },
  {
   "cell_type": "code",
   "execution_count": 22,
   "id": "5ed8c8c6",
   "metadata": {
    "vscode": {
     "languageId": "r"
    }
   },
   "outputs": [
    {
     "data": {
      "image/png": "[encoded data removed]",
      "text/plain": [
       "Plot with title “Histogram of error.counts”"
      ]
     },
     "metadata": {
      "image/png": {
       "height": 420,
       "width": 420
      }
     },
     "output_type": "display_data"
    }
   ],
   "source": [
    "error.counts <- h5read(file = fh, name = \"counts\", index = list(11331, 1:50000))\n",
    "max(error.counts)"
   ]
  },
  {
   "cell_type": "code",
   "execution_count": 33,
   "id": "5c8c9a44",
   "metadata": {
    "vscode": {
     "languageId": "r"
    }
   },
   "outputs": [
    {
     "data": {
      "text/html": [
       "1760440863"
      ],
      "text/latex": [
       "1760440863"
      ],
      "text/markdown": [
       "1760440863"
      ],
      "text/plain": [
       "[1] 1760440863"
      ]
     },
     "metadata": {},
     "output_type": "display_data"
    }
   ],
   "source": [
    "max(error.counts)"
   ]
  },
  {
   "cell_type": "code",
   "execution_count": 92,
   "id": "c6bbe6f9",
   "metadata": {
    "vscode": {
     "languageId": "r"
    }
   },
   "outputs": [
    {
     "data": {
      "text/html": [
       "<table class=\"dataframe\">\n",
       "<caption>A data.frame: 6 × 2</caption>\n",
       "<thead>\n",
       "\t<tr><th></th><th scope=col>count</th><th scope=col>scaling.factor</th></tr>\n",
       "\t<tr><th></th><th scope=col>&lt;dbl&gt;</th><th scope=col>&lt;dbl&gt;</th></tr>\n",
       "</thead>\n",
       "<tbody>\n",
       "\t<tr><th scope=row>1</th><td>0</td><td>0.444139</td></tr>\n",
       "\t<tr><th scope=row>2</th><td>1</td><td>3.763414</td></tr>\n",
       "\t<tr><th scope=row>3</th><td>0</td><td>0.056302</td></tr>\n",
       "\t<tr><th scope=row>4</th><td>0</td><td>0.009779</td></tr>\n",
       "\t<tr><th scope=row>5</th><td>0</td><td>0.106756</td></tr>\n",
       "\t<tr><th scope=row>6</th><td>0</td><td>0.024059</td></tr>\n",
       "</tbody>\n",
       "</table>\n"
      ],
      "text/latex": [
       "A data.frame: 6 × 2\n",
       "\\begin{tabular}{r|ll}\n",
       "  & count & scaling.factor\\\\\n",
       "  & <dbl> & <dbl>\\\\\n",
       "\\hline\n",
       "\t1 & 0 & 0.444139\\\\\n",
       "\t2 & 1 & 3.763414\\\\\n",
       "\t3 & 0 & 0.056302\\\\\n",
       "\t4 & 0 & 0.009779\\\\\n",
       "\t5 & 0 & 0.106756\\\\\n",
       "\t6 & 0 & 0.024059\\\\\n",
       "\\end{tabular}\n"
      ],
      "text/markdown": [
       "\n",
       "A data.frame: 6 × 2\n",
       "\n",
       "| <!--/--> | count &lt;dbl&gt; | scaling.factor &lt;dbl&gt; |\n",
       "|---|---|---|\n",
       "| 1 | 0 | 0.444139 |\n",
       "| 2 | 1 | 3.763414 |\n",
       "| 3 | 0 | 0.056302 |\n",
       "| 4 | 0 | 0.009779 |\n",
       "| 5 | 0 | 0.106756 |\n",
       "| 6 | 0 | 0.024059 |\n",
       "\n"
      ],
      "text/plain": [
       "  count scaling.factor\n",
       "1 0     0.444139      \n",
       "2 1     3.763414      \n",
       "3 0     0.056302      \n",
       "4 0     0.009779      \n",
       "5 0     0.106756      \n",
       "6 0     0.024059      "
      ]
     },
     "metadata": {},
     "output_type": "display_data"
    }
   ],
   "source": [
    "test.df <- data.frame(cbind(counts.matrix[3683, ], scaling.factors))\n",
    "colnames(test.df) <- c('count', 'scaling.factor')\n",
    "head(test.df)"
   ]
  },
  {
   "cell_type": "code",
   "execution_count": 94,
   "id": "9b11b675",
   "metadata": {
    "vscode": {
     "languageId": "r"
    }
   },
   "outputs": [
    {
     "data": {
      "image/png": "[encoded data removed]",
      "text/plain": [
       "plot without title"
      ]
     },
     "metadata": {
      "image/png": {
       "height": 420,
       "width": 420
      }
     },
     "output_type": "display_data"
    }
   ],
   "source": [
    "create.scatterplot(\n",
    "    formula = count ~ scaling.factor,\n",
    "    data = test.df,\n",
    ")"
   ]
  },
  {
   "cell_type": "code",
   "execution_count": 101,
   "id": "b913a8ee",
   "metadata": {
    "vscode": {
     "languageId": "r"
    }
   },
   "outputs": [
    {
     "data": {
      "text/html": [
       "12.6727921920716"
      ],
      "text/latex": [
       "12.6727921920716"
      ],
      "text/markdown": [
       "12.6727921920716"
      ],
      "text/plain": [
       "[1] 12.67279"
      ]
     },
     "metadata": {},
     "output_type": "display_data"
    }
   ],
   "source": [
    "log(max(scaling.factors))"
   ]
  },
  {
   "cell_type": "code",
   "execution_count": 87,
   "id": "3490f360",
   "metadata": {
    "vscode": {
     "languageId": "r"
    }
   },
   "outputs": [
    {
     "data": {
      "text/html": [
       "13000"
      ],
      "text/latex": [
       "13000"
      ],
      "text/markdown": [
       "13000"
      ],
      "text/plain": [
       "[1] 13000"
      ]
     },
     "metadata": {},
     "output_type": "display_data"
    }
   ],
   "source": [
    "nrow(counts.matrix)"
   ]
  },
  {
   "cell_type": "code",
   "execution_count": null,
   "id": "0a3861a1",
   "metadata": {
    "vscode": {
     "languageId": "r"
    }
   },
   "outputs": [],
   "source": []
  }
 ],
 "metadata": {
  "kernelspec": {
   "display_name": "R",
   "language": "R",
   "name": "ir"
  },
  "language_info": {
   "codemirror_mode": "r",
   "file_extension": ".r",
   "mimetype": "text/x-r-source",
   "name": "R",
   "pygments_lexer": "r",
   "version": "4.0.5"
  }
 },
 "nbformat": 4,
 "nbformat_minor": 5
}
