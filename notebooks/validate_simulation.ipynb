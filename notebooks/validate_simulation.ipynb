{
 "cells": [
  {
   "cell_type": "code",
   "execution_count": 1,
   "id": "d13fe51c",
   "metadata": {
    "vscode": {
     "languageId": "r"
    }
   },
   "outputs": [
    {
     "name": "stderr",
     "output_type": "stream",
     "text": [
      "Loading required package: lattice\n",
      "\n",
      "Loading required package: latticeExtra\n",
      "\n",
      "Loading required package: cluster\n",
      "\n",
      "Loading required package: hexbin\n",
      "\n",
      "Loading required package: grid\n",
      "\n",
      "\n",
      "Attaching package: ‘BoutrosLab.plotting.general’\n",
      "\n",
      "\n",
      "The following object is masked from ‘package:stats’:\n",
      "\n",
      "    dist\n",
      "\n",
      "\n"
     ]
    }
   ],
   "source": [
    "library(rhdf5)\n",
    "library(MASS)\n",
    "library(BoutrosLab.plotting.general)"
   ]
  },
  {
   "cell_type": "markdown",
   "id": "df3aa47b",
   "metadata": {},
   "source": [
    "# Test reading h5 and accessing data"
   ]
  },
  {
   "cell_type": "code",
   "execution_count": 2,
   "id": "1fbd7eae",
   "metadata": {
    "vscode": {
     "languageId": "r"
    }
   },
   "outputs": [],
   "source": [
    "fh <- \"/iblm/netapp/home/karthik/crisprQTL/simulated_data/sim.h5\""
   ]
  },
  {
   "cell_type": "markdown",
   "id": "b4354757",
   "metadata": {},
   "source": [
    "Get internal structure of h5 file"
   ]
  },
  {
   "cell_type": "code",
   "execution_count": 3,
   "id": "2280419f",
   "metadata": {
    "vscode": {
     "languageId": "r"
    }
   },
   "outputs": [
    {
     "data": {
      "text/html": [
       "<table class=\"dataframe\">\n",
       "<caption>A data.frame: 12 × 5</caption>\n",
       "<thead>\n",
       "\t<tr><th></th><th scope=col>group</th><th scope=col>name</th><th scope=col>otype</th><th scope=col>dclass</th><th scope=col>dim</th></tr>\n",
       "\t<tr><th></th><th scope=col>&lt;chr&gt;</th><th scope=col>&lt;chr&gt;</th><th scope=col>&lt;chr&gt;</th><th scope=col>&lt;chr&gt;</th><th scope=col>&lt;chr&gt;</th></tr>\n",
       "</thead>\n",
       "<tbody>\n",
       "\t<tr><th scope=row>0</th><td>/      </td><td>coeffs           </td><td>H5I_DATASET</td><td>COMPOUND</td><td>13000        </td></tr>\n",
       "\t<tr><th scope=row>1</th><td>/      </td><td>counts           </td><td>H5I_DATASET</td><td>INTEGER </td><td>13000 x 50000</td></tr>\n",
       "\t<tr><th scope=row>2</th><td>/      </td><td>guides           </td><td>H5I_GROUP  </td><td>        </td><td>             </td></tr>\n",
       "\t<tr><th scope=row>3</th><td>/guides</td><td>metadata         </td><td>H5I_DATASET</td><td>COMPOUND</td><td>2000         </td></tr>\n",
       "\t<tr><th scope=row>4</th><td>/guides</td><td>one_hot          </td><td>H5I_DATASET</td><td>INTEGER </td><td>50000 x 2000 </td></tr>\n",
       "\t<tr><th scope=row>5</th><td>/      </td><td>linear_predictor </td><td>H5I_DATASET</td><td>FLOAT   </td><td>13000 x 50000</td></tr>\n",
       "\t<tr><th scope=row>6</th><td>/      </td><td>mu               </td><td>H5I_DATASET</td><td>FLOAT   </td><td>13000 x 50000</td></tr>\n",
       "\t<tr><th scope=row>7</th><td>/      </td><td>scaling_factors  </td><td>H5I_DATASET</td><td>FLOAT   </td><td>50000        </td></tr>\n",
       "\t<tr><th scope=row>8</th><td>/      </td><td>x                </td><td>H5I_GROUP  </td><td>        </td><td>             </td></tr>\n",
       "\t<tr><th scope=row>9</th><td>/x     </td><td>cell_cycle_scores</td><td>H5I_DATASET</td><td>COMPOUND</td><td>50000        </td></tr>\n",
       "\t<tr><th scope=row>10</th><td>/x     </td><td>percent_mito     </td><td>H5I_DATASET</td><td>FLOAT   </td><td>50000        </td></tr>\n",
       "\t<tr><th scope=row>11</th><td>/x     </td><td>x1               </td><td>H5I_DATASET</td><td>INTEGER </td><td>13000 x 50000</td></tr>\n",
       "</tbody>\n",
       "</table>\n"
      ],
      "text/latex": [
       "A data.frame: 12 × 5\n",
       "\\begin{tabular}{r|lllll}\n",
       "  & group & name & otype & dclass & dim\\\\\n",
       "  & <chr> & <chr> & <chr> & <chr> & <chr>\\\\\n",
       "\\hline\n",
       "\t0 & /       & coeffs            & H5I\\_DATASET & COMPOUND & 13000        \\\\\n",
       "\t1 & /       & counts            & H5I\\_DATASET & INTEGER  & 13000 x 50000\\\\\n",
       "\t2 & /       & guides            & H5I\\_GROUP   &          &              \\\\\n",
       "\t3 & /guides & metadata          & H5I\\_DATASET & COMPOUND & 2000         \\\\\n",
       "\t4 & /guides & one\\_hot           & H5I\\_DATASET & INTEGER  & 50000 x 2000 \\\\\n",
       "\t5 & /       & linear\\_predictor  & H5I\\_DATASET & FLOAT    & 13000 x 50000\\\\\n",
       "\t6 & /       & mu                & H5I\\_DATASET & FLOAT    & 13000 x 50000\\\\\n",
       "\t7 & /       & scaling\\_factors   & H5I\\_DATASET & FLOAT    & 50000        \\\\\n",
       "\t8 & /       & x                 & H5I\\_GROUP   &          &              \\\\\n",
       "\t9 & /x      & cell\\_cycle\\_scores & H5I\\_DATASET & COMPOUND & 50000        \\\\\n",
       "\t10 & /x      & percent\\_mito      & H5I\\_DATASET & FLOAT    & 50000        \\\\\n",
       "\t11 & /x      & x1                & H5I\\_DATASET & INTEGER  & 13000 x 50000\\\\\n",
       "\\end{tabular}\n"
      ],
      "text/markdown": [
       "\n",
       "A data.frame: 12 × 5\n",
       "\n",
       "| <!--/--> | group &lt;chr&gt; | name &lt;chr&gt; | otype &lt;chr&gt; | dclass &lt;chr&gt; | dim &lt;chr&gt; |\n",
       "|---|---|---|---|---|---|\n",
       "| 0 | /       | coeffs            | H5I_DATASET | COMPOUND | 13000         |\n",
       "| 1 | /       | counts            | H5I_DATASET | INTEGER  | 13000 x 50000 |\n",
       "| 2 | /       | guides            | H5I_GROUP   | <!----> | <!----> |\n",
       "| 3 | /guides | metadata          | H5I_DATASET | COMPOUND | 2000          |\n",
       "| 4 | /guides | one_hot           | H5I_DATASET | INTEGER  | 50000 x 2000  |\n",
       "| 5 | /       | linear_predictor  | H5I_DATASET | FLOAT    | 13000 x 50000 |\n",
       "| 6 | /       | mu                | H5I_DATASET | FLOAT    | 13000 x 50000 |\n",
       "| 7 | /       | scaling_factors   | H5I_DATASET | FLOAT    | 50000         |\n",
       "| 8 | /       | x                 | H5I_GROUP   | <!----> | <!----> |\n",
       "| 9 | /x      | cell_cycle_scores | H5I_DATASET | COMPOUND | 50000         |\n",
       "| 10 | /x      | percent_mito      | H5I_DATASET | FLOAT    | 50000         |\n",
       "| 11 | /x      | x1                | H5I_DATASET | INTEGER  | 13000 x 50000 |\n",
       "\n"
      ],
      "text/plain": [
       "   group   name              otype       dclass   dim          \n",
       "0  /       coeffs            H5I_DATASET COMPOUND 13000        \n",
       "1  /       counts            H5I_DATASET INTEGER  13000 x 50000\n",
       "2  /       guides            H5I_GROUP                         \n",
       "3  /guides metadata          H5I_DATASET COMPOUND 2000         \n",
       "4  /guides one_hot           H5I_DATASET INTEGER  50000 x 2000 \n",
       "5  /       linear_predictor  H5I_DATASET FLOAT    13000 x 50000\n",
       "6  /       mu                H5I_DATASET FLOAT    13000 x 50000\n",
       "7  /       scaling_factors   H5I_DATASET FLOAT    50000        \n",
       "8  /       x                 H5I_GROUP                         \n",
       "9  /x      cell_cycle_scores H5I_DATASET COMPOUND 50000        \n",
       "10 /x      percent_mito      H5I_DATASET FLOAT    50000        \n",
       "11 /x      x1                H5I_DATASET INTEGER  13000 x 50000"
      ]
     },
     "metadata": {},
     "output_type": "display_data"
    }
   ],
   "source": [
    "h5ls(fh)"
   ]
  },
  {
   "cell_type": "markdown",
   "id": "53bb303e",
   "metadata": {},
   "source": [
    "# Load fixed values\n",
    "\n",
    "Coefficients (ground truth for evaluating model performance) \n",
    "\n",
    "Cell cycle scores (same for every gene)"
   ]
  },
  {
   "cell_type": "code",
   "execution_count": 5,
   "id": "243b4154",
   "metadata": {
    "vscode": {
     "languageId": "r"
    }
   },
   "outputs": [],
   "source": [
    "coeffs <- h5read(file = fh, name = \"coeffs\")\n",
    "cell.cycle.scores <- h5read(fh, \"x/cell_cycle_scores\")\n",
    "scaling.factors <- h5read(file = fh, name = \"scaling_factors\")\n",
    "guides.metadata <- h5read(file = fh, name = \"guides/metadata\")"
   ]
  },
  {
   "cell_type": "code",
   "execution_count": 6,
   "id": "eb1dff6b",
   "metadata": {
    "vscode": {
     "languageId": "r"
    }
   },
   "outputs": [
    {
     "data": {
      "text/html": [
       "<table class=\"dataframe\">\n",
       "<caption>A data.frame: 6 × 3</caption>\n",
       "<thead>\n",
       "\t<tr><th></th><th scope=col>target.gene</th><th scope=col>efficiency</th><th scope=col>effect.size</th></tr>\n",
       "\t<tr><th></th><th scope=col>&lt;int&gt;</th><th scope=col>&lt;dbl&gt;</th><th scope=col>&lt;dbl&gt;</th></tr>\n",
       "</thead>\n",
       "<tbody>\n",
       "\t<tr><th scope=row>1</th><td> 3683</td><td>0.7247283</td><td>-4.462767</td></tr>\n",
       "\t<tr><th scope=row>2</th><td> 1175</td><td>0.6302226</td><td>-4.838250</td></tr>\n",
       "\t<tr><th scope=row>3</th><td>11331</td><td>0.5332885</td><td>-2.852283</td></tr>\n",
       "\t<tr><th scope=row>4</th><td> 1399</td><td>0.6552179</td><td>-2.778439</td></tr>\n",
       "\t<tr><th scope=row>5</th><td>  543</td><td>0.6759810</td><td>-3.910947</td></tr>\n",
       "\t<tr><th scope=row>6</th><td>10902</td><td>0.5953462</td><td>-2.812525</td></tr>\n",
       "</tbody>\n",
       "</table>\n"
      ],
      "text/latex": [
       "A data.frame: 6 × 3\n",
       "\\begin{tabular}{r|lll}\n",
       "  & target.gene & efficiency & effect.size\\\\\n",
       "  & <int> & <dbl> & <dbl>\\\\\n",
       "\\hline\n",
       "\t1 &  3683 & 0.7247283 & -4.462767\\\\\n",
       "\t2 &  1175 & 0.6302226 & -4.838250\\\\\n",
       "\t3 & 11331 & 0.5332885 & -2.852283\\\\\n",
       "\t4 &  1399 & 0.6552179 & -2.778439\\\\\n",
       "\t5 &   543 & 0.6759810 & -3.910947\\\\\n",
       "\t6 & 10902 & 0.5953462 & -2.812525\\\\\n",
       "\\end{tabular}\n"
      ],
      "text/markdown": [
       "\n",
       "A data.frame: 6 × 3\n",
       "\n",
       "| <!--/--> | target.gene &lt;int&gt; | efficiency &lt;dbl&gt; | effect.size &lt;dbl&gt; |\n",
       "|---|---|---|---|\n",
       "| 1 |  3683 | 0.7247283 | -4.462767 |\n",
       "| 2 |  1175 | 0.6302226 | -4.838250 |\n",
       "| 3 | 11331 | 0.5332885 | -2.852283 |\n",
       "| 4 |  1399 | 0.6552179 | -2.778439 |\n",
       "| 5 |   543 | 0.6759810 | -3.910947 |\n",
       "| 6 | 10902 | 0.5953462 | -2.812525 |\n",
       "\n"
      ],
      "text/plain": [
       "  target.gene efficiency effect.size\n",
       "1  3683       0.7247283  -4.462767  \n",
       "2  1175       0.6302226  -4.838250  \n",
       "3 11331       0.5332885  -2.852283  \n",
       "4  1399       0.6552179  -2.778439  \n",
       "5   543       0.6759810  -3.910947  \n",
       "6 10902       0.5953462  -2.812525  "
      ]
     },
     "metadata": {},
     "output_type": "display_data"
    }
   ],
   "source": [
    "head(guides.metadata)"
   ]
  },
  {
   "cell_type": "markdown",
   "id": "2b3e98b9",
   "metadata": {},
   "source": [
    "# Define null and alternative models\n",
    "\n",
    "## Model\n",
    "$$y = \\text{NB}(\\mu=s \\cdot \\exp \\left( \\beta_0 + \\beta_1 X_1 + \\beta_2 X_2 + \\beta_3 X_3 \\right), n=\\sigma)$$\n",
    "### $H_0: \\beta_1 = 0 $\n",
    "### $H_A: \\beta_1 \\neq 0 $\n",
    "\n"
   ]
  },
  {
   "cell_type": "markdown",
   "id": "00934543",
   "metadata": {},
   "source": [
    "### Test for one gene with `glm.nb` (MASS library)"
   ]
  },
  {
   "cell_type": "code",
   "execution_count": 7,
   "id": "c89ea0ed",
   "metadata": {
    "vscode": {
     "languageId": "r"
    }
   },
   "outputs": [],
   "source": [
    "test.gene <- 3683\n",
    "\n",
    "obs.counts <- h5read(file = fh, name = \"counts\", index = list(test.gene, 1:50000))\n",
    "gene.data <- data.frame(guide.eff = as.integer(h5read(file = fh, name = \"x/x1\", index = list(test.gene, 1:50000))),\n",
    "                       s.score = cell.cycle.scores$s.scores,\n",
    "                       g2m.score = cell.cycle.scores$g2m.scores,\n",
    "                       counts = as.integer(obs.counts),\n",
    "                       scaling.factor = scaling.factors)"
   ]
  },
  {
   "cell_type": "code",
   "execution_count": 8,
   "id": "8028e075",
   "metadata": {
    "vscode": {
     "languageId": "r"
    }
   },
   "outputs": [
    {
     "data": {
      "text/html": [
       "<table class=\"dataframe\">\n",
       "<caption>A data.frame: 6 × 5</caption>\n",
       "<thead>\n",
       "\t<tr><th></th><th scope=col>guide.eff</th><th scope=col>s.score</th><th scope=col>g2m.score</th><th scope=col>counts</th><th scope=col>scaling.factor</th></tr>\n",
       "\t<tr><th></th><th scope=col>&lt;int&gt;</th><th scope=col>&lt;dbl&gt;</th><th scope=col>&lt;dbl&gt;</th><th scope=col>&lt;int&gt;</th><th scope=col>&lt;dbl&gt;</th></tr>\n",
       "</thead>\n",
       "<tbody>\n",
       "\t<tr><th scope=row>1</th><td>0</td><td>-1.0309103</td><td> 1.1526160</td><td>0</td><td>0.050330</td></tr>\n",
       "\t<tr><th scope=row>2</th><td>0</td><td>-0.4639413</td><td> 1.2934445</td><td>1</td><td>0.050077</td></tr>\n",
       "\t<tr><th scope=row>3</th><td>0</td><td> 0.5149060</td><td>-0.4730435</td><td>0</td><td>0.049864</td></tr>\n",
       "\t<tr><th scope=row>4</th><td>0</td><td>-0.9497266</td><td> 0.3118649</td><td>0</td><td>0.050117</td></tr>\n",
       "\t<tr><th scope=row>5</th><td>0</td><td> 1.2838343</td><td>-2.2465534</td><td>0</td><td>0.050016</td></tr>\n",
       "\t<tr><th scope=row>6</th><td>0</td><td>-0.7403177</td><td> 0.4665516</td><td>0</td><td>0.049508</td></tr>\n",
       "</tbody>\n",
       "</table>\n"
      ],
      "text/latex": [
       "A data.frame: 6 × 5\n",
       "\\begin{tabular}{r|lllll}\n",
       "  & guide.eff & s.score & g2m.score & counts & scaling.factor\\\\\n",
       "  & <int> & <dbl> & <dbl> & <int> & <dbl>\\\\\n",
       "\\hline\n",
       "\t1 & 0 & -1.0309103 &  1.1526160 & 0 & 0.050330\\\\\n",
       "\t2 & 0 & -0.4639413 &  1.2934445 & 1 & 0.050077\\\\\n",
       "\t3 & 0 &  0.5149060 & -0.4730435 & 0 & 0.049864\\\\\n",
       "\t4 & 0 & -0.9497266 &  0.3118649 & 0 & 0.050117\\\\\n",
       "\t5 & 0 &  1.2838343 & -2.2465534 & 0 & 0.050016\\\\\n",
       "\t6 & 0 & -0.7403177 &  0.4665516 & 0 & 0.049508\\\\\n",
       "\\end{tabular}\n"
      ],
      "text/markdown": [
       "\n",
       "A data.frame: 6 × 5\n",
       "\n",
       "| <!--/--> | guide.eff &lt;int&gt; | s.score &lt;dbl&gt; | g2m.score &lt;dbl&gt; | counts &lt;int&gt; | scaling.factor &lt;dbl&gt; |\n",
       "|---|---|---|---|---|---|\n",
       "| 1 | 0 | -1.0309103 |  1.1526160 | 0 | 0.050330 |\n",
       "| 2 | 0 | -0.4639413 |  1.2934445 | 1 | 0.050077 |\n",
       "| 3 | 0 |  0.5149060 | -0.4730435 | 0 | 0.049864 |\n",
       "| 4 | 0 | -0.9497266 |  0.3118649 | 0 | 0.050117 |\n",
       "| 5 | 0 |  1.2838343 | -2.2465534 | 0 | 0.050016 |\n",
       "| 6 | 0 | -0.7403177 |  0.4665516 | 0 | 0.049508 |\n",
       "\n"
      ],
      "text/plain": [
       "  guide.eff s.score    g2m.score  counts scaling.factor\n",
       "1 0         -1.0309103  1.1526160 0      0.050330      \n",
       "2 0         -0.4639413  1.2934445 1      0.050077      \n",
       "3 0          0.5149060 -0.4730435 0      0.049864      \n",
       "4 0         -0.9497266  0.3118649 0      0.050117      \n",
       "5 0          1.2838343 -2.2465534 0      0.050016      \n",
       "6 0         -0.7403177  0.4665516 0      0.049508      "
      ]
     },
     "metadata": {},
     "output_type": "display_data"
    }
   ],
   "source": [
    "head(gene.data)"
   ]
  },
  {
   "cell_type": "code",
   "execution_count": 9,
   "id": "b79e8dff",
   "metadata": {
    "vscode": {
     "languageId": "r"
    }
   },
   "outputs": [
    {
     "data": {
      "text/html": [
       "<style>\n",
       ".list-inline {list-style: none; margin:0; padding: 0}\n",
       ".list-inline>li {display: inline-block}\n",
       ".list-inline>li:not(:last-child)::after {content: \"\\00b7\"; padding: 0 .5ex}\n",
       "</style>\n",
       "<ol class=list-inline><li>0</li><li>1</li></ol>\n"
      ],
      "text/latex": [
       "\\begin{enumerate*}\n",
       "\\item 0\n",
       "\\item 1\n",
       "\\end{enumerate*}\n"
      ],
      "text/markdown": [
       "1. 0\n",
       "2. 1\n",
       "\n",
       "\n"
      ],
      "text/plain": [
       "[1] 0 1"
      ]
     },
     "metadata": {},
     "output_type": "display_data"
    }
   ],
   "source": [
    "unique(gene.data$guide.eff)"
   ]
  },
  {
   "cell_type": "code",
   "execution_count": 10,
   "id": "a372a698",
   "metadata": {
    "vscode": {
     "languageId": "r"
    }
   },
   "outputs": [],
   "source": [
    "ml <- glm.nb(counts ~ guide.eff + s.score + g2m.score + offset(log(scaling.factor)), data = gene.data)"
   ]
  },
  {
   "cell_type": "code",
   "execution_count": 11,
   "id": "f537148a",
   "metadata": {
    "vscode": {
     "languageId": "r"
    }
   },
   "outputs": [
    {
     "data": {
      "text/plain": [
       "\n",
       "Call:\n",
       "glm.nb(formula = counts ~ guide.eff + s.score + g2m.score + offset(log(scaling.factor)), \n",
       "    data = gene.data, init.theta = 1.513933735, link = log)\n",
       "\n",
       "Deviance Residuals: \n",
       "    Min       1Q   Median       3Q      Max  \n",
       "-3.8242  -0.5363  -0.1985  -0.0394   4.1341  \n",
       "\n",
       "Coefficients:\n",
       "            Estimate Std. Error z value Pr(>|z|)    \n",
       "(Intercept)  0.85635    0.01464   58.49   <2e-16 ***\n",
       "guide.eff   -4.16329    0.27430  -15.18   <2e-16 ***\n",
       "s.score      5.30530    0.01828  290.18   <2e-16 ***\n",
       "g2m.score    3.21472    0.01469  218.83   <2e-16 ***\n",
       "---\n",
       "Signif. codes:  0 ‘***’ 0.001 ‘**’ 0.01 ‘*’ 0.05 ‘.’ 0.1 ‘ ’ 1\n",
       "\n",
       "(Dispersion parameter for Negative Binomial(1.5139) family taken to be 1)\n",
       "\n",
       "    Null deviance: 493207  on 49999  degrees of freedom\n",
       "Residual deviance:  27100  on 49996  degrees of freedom\n",
       "AIC: 105755\n",
       "\n",
       "Number of Fisher Scoring iterations: 1\n",
       "\n",
       "\n",
       "              Theta:  1.5139 \n",
       "          Std. Err.:  0.0237 \n",
       "\n",
       " 2 x log-likelihood:  -105744.9340 "
      ]
     },
     "metadata": {},
     "output_type": "display_data"
    }
   ],
   "source": [
    "summary(ml)"
   ]
  },
  {
   "cell_type": "code",
   "execution_count": 12,
   "id": "0a2221ea",
   "metadata": {
    "vscode": {
     "languageId": "r"
    }
   },
   "outputs": [
    {
     "data": {
      "text/html": [
       "<table class=\"dataframe\">\n",
       "<caption>A data.frame: 1 × 5</caption>\n",
       "<thead>\n",
       "\t<tr><th></th><th scope=col>baselines</th><th scope=col>beta1</th><th scope=col>beta2</th><th scope=col>beta3</th><th scope=col>beta4</th></tr>\n",
       "\t<tr><th></th><th scope=col>&lt;dbl&gt;</th><th scope=col>&lt;dbl&gt;</th><th scope=col>&lt;dbl&gt;</th><th scope=col>&lt;dbl&gt;</th><th scope=col>&lt;dbl&gt;</th></tr>\n",
       "</thead>\n",
       "<tbody>\n",
       "\t<tr><th scope=row>3683</th><td>0.780297</td><td>-4.462767</td><td>5.321519</td><td>3.227325</td><td>1.829826</td></tr>\n",
       "</tbody>\n",
       "</table>\n"
      ],
      "text/latex": [
       "A data.frame: 1 × 5\n",
       "\\begin{tabular}{r|lllll}\n",
       "  & baselines & beta1 & beta2 & beta3 & beta4\\\\\n",
       "  & <dbl> & <dbl> & <dbl> & <dbl> & <dbl>\\\\\n",
       "\\hline\n",
       "\t3683 & 0.780297 & -4.462767 & 5.321519 & 3.227325 & 1.829826\\\\\n",
       "\\end{tabular}\n"
      ],
      "text/markdown": [
       "\n",
       "A data.frame: 1 × 5\n",
       "\n",
       "| <!--/--> | baselines &lt;dbl&gt; | beta1 &lt;dbl&gt; | beta2 &lt;dbl&gt; | beta3 &lt;dbl&gt; | beta4 &lt;dbl&gt; |\n",
       "|---|---|---|---|---|---|\n",
       "| 3683 | 0.780297 | -4.462767 | 5.321519 | 3.227325 | 1.829826 |\n",
       "\n"
      ],
      "text/plain": [
       "     baselines beta1     beta2    beta3    beta4   \n",
       "3683 0.780297  -4.462767 5.321519 3.227325 1.829826"
      ]
     },
     "metadata": {},
     "output_type": "display_data"
    }
   ],
   "source": [
    "coeffs[test.gene,]"
   ]
  },
  {
   "cell_type": "markdown",
   "id": "e3984717",
   "metadata": {},
   "source": [
    "# Test for all target genes\n",
    "\n",
    "E.g. the 1000 genes in our simulated data whose enhancers are targeted by gRNAs in our library "
   ]
  },
  {
   "cell_type": "code",
   "execution_count": 28,
   "id": "95981cfa",
   "metadata": {
    "vscode": {
     "languageId": "r"
    }
   },
   "outputs": [
    {
     "name": "stdout",
     "output_type": "stream",
     "text": [
      "[1] 3683\n",
      "[1] 1175\n",
      "[1] 11331\n"
     ]
    }
   ],
   "source": [
    "ml.list <- list()\n",
    "\n",
    "for (gene in guides.metadata$target.gene[1:3]) {\n",
    "    print(gene)\n",
    "    obs.counts <- h5read(file = fh, name = \"counts\", index = list(gene, 1:50000))\n",
    "    gene.data <- data.frame(guide.eff = as.integer(h5read(file = fh, name = \"x/x1\", index = list(gene, 1:50000))),\n",
    "                       s.score = cell.cycle.scores$s.scores,\n",
    "                       g2m.score = cell.cycle.scores$g2m.scores,\n",
    "                       counts = as.integer(obs.counts),\n",
    "                       scaling.factors = scaling.factors)\n",
    "    ml <- glm.nb(counts ~ guide.eff + s.score + g2m.score, data = gene.data)\n",
    "    ml.list[[gene]] <- ml\n",
    "}"
   ]
  },
  {
   "cell_type": "code",
   "execution_count": 29,
   "id": "dec5cd95",
   "metadata": {
    "vscode": {
     "languageId": "r"
    }
   },
   "outputs": [
    {
     "data": {
      "image/png": "[encoded data removed]",
      "text/plain": [
       "plot without title"
      ]
     },
     "metadata": {
      "image/png": {
       "height": 420,
       "width": 420
      }
     },
     "output_type": "display_data"
    }
   ],
   "source": [
    "create.scatterplot(\n",
    "    formula = counts ~ log(scaling.factors),\n",
    "    data = gene.data\n",
    ")"
   ]
  },
  {
   "cell_type": "code",
   "execution_count": 32,
   "id": "cd67dd66",
   "metadata": {
    "vscode": {
     "languageId": "r"
    }
   },
   "outputs": [
    {
     "name": "stderr",
     "output_type": "stream",
     "text": [
      "Warning message in cor.test.default(log(gene.data$scaling.factors), gene.data$counts, :\n",
      "“Cannot compute exact p-value with ties”\n"
     ]
    },
    {
     "data": {
      "text/plain": [
       "\n",
       "\tSpearman's rank correlation rho\n",
       "\n",
       "data:  log(gene.data$scaling.factors) and gene.data$counts\n",
       "S = 2.0774e+13, p-value = 0.525\n",
       "alternative hypothesis: true rho is not equal to 0\n",
       "sample estimates:\n",
       "        rho \n",
       "0.002842585 \n"
      ]
     },
     "metadata": {},
     "output_type": "display_data"
    }
   ],
   "source": [
    "cor.test(log(gene.data$scaling.factors), gene.data$counts, method = 'spearman')"
   ]
  },
  {
   "cell_type": "code",
   "execution_count": 14,
   "id": "74eb9386",
   "metadata": {
    "vscode": {
     "languageId": "r"
    }
   },
   "outputs": [
    {
     "data": {
      "text/plain": [
       "\n",
       "Call:\n",
       "glm.nb(formula = counts ~ guide.eff + s.score + g2m.score + offset(log(scaling.factors)), \n",
       "    data = gene.data, init.theta = 1.517836905, link = log)\n",
       "\n",
       "Deviance Residuals: \n",
       "    Min       1Q   Median       3Q      Max  \n",
       "-3.7483  -0.7233  -0.3835  -0.0663   4.2255  \n",
       "\n",
       "Coefficients:\n",
       "            Estimate Std. Error z value Pr(>|z|)    \n",
       "(Intercept)  1.82181    0.01076 169.385  < 2e-16 ***\n",
       "guide.eff   -5.19567    0.71304  -7.287 3.18e-13 ***\n",
       "s.score      3.05735    0.01492 204.953  < 2e-16 ***\n",
       "g2m.score    2.33210    0.01370 170.213  < 2e-16 ***\n",
       "---\n",
       "Signif. codes:  0 ‘***’ 0.001 ‘**’ 0.01 ‘*’ 0.05 ‘.’ 0.1 ‘ ’ 1\n",
       "\n",
       "(Dispersion parameter for Negative Binomial(1.5178) family taken to be 1)\n",
       "\n",
       "    Null deviance: 131409  on 49999  degrees of freedom\n",
       "Residual deviance:  34801  on 49996  degrees of freedom\n",
       "AIC: 99823\n",
       "\n",
       "Number of Fisher Scoring iterations: 1\n",
       "\n",
       "\n",
       "              Theta:  1.5178 \n",
       "          Std. Err.:  0.0280 \n",
       "\n",
       " 2 x log-likelihood:  -99813.2890 "
      ]
     },
     "metadata": {},
     "output_type": "display_data"
    }
   ],
   "source": [
    "summary(ml.list[[1175]])"
   ]
  },
  {
   "cell_type": "code",
   "execution_count": 15,
   "id": "f78f8325",
   "metadata": {
    "vscode": {
     "languageId": "r"
    }
   },
   "outputs": [
    {
     "data": {
      "text/html": [
       "<table class=\"dataframe\">\n",
       "<caption>A data.frame: 1 × 5</caption>\n",
       "<thead>\n",
       "\t<tr><th></th><th scope=col>baselines</th><th scope=col>beta1</th><th scope=col>beta2</th><th scope=col>beta3</th><th scope=col>beta4</th></tr>\n",
       "\t<tr><th></th><th scope=col>&lt;dbl&gt;</th><th scope=col>&lt;dbl&gt;</th><th scope=col>&lt;dbl&gt;</th><th scope=col>&lt;dbl&gt;</th><th scope=col>&lt;dbl&gt;</th></tr>\n",
       "</thead>\n",
       "<tbody>\n",
       "\t<tr><th scope=row>1175</th><td>1.766874</td><td>-4.83825</td><td>3.061181</td><td>2.336816</td><td>1.22111</td></tr>\n",
       "</tbody>\n",
       "</table>\n"
      ],
      "text/latex": [
       "A data.frame: 1 × 5\n",
       "\\begin{tabular}{r|lllll}\n",
       "  & baselines & beta1 & beta2 & beta3 & beta4\\\\\n",
       "  & <dbl> & <dbl> & <dbl> & <dbl> & <dbl>\\\\\n",
       "\\hline\n",
       "\t1175 & 1.766874 & -4.83825 & 3.061181 & 2.336816 & 1.22111\\\\\n",
       "\\end{tabular}\n"
      ],
      "text/markdown": [
       "\n",
       "A data.frame: 1 × 5\n",
       "\n",
       "| <!--/--> | baselines &lt;dbl&gt; | beta1 &lt;dbl&gt; | beta2 &lt;dbl&gt; | beta3 &lt;dbl&gt; | beta4 &lt;dbl&gt; |\n",
       "|---|---|---|---|---|---|\n",
       "| 1175 | 1.766874 | -4.83825 | 3.061181 | 2.336816 | 1.22111 |\n",
       "\n"
      ],
      "text/plain": [
       "     baselines beta1    beta2    beta3    beta4  \n",
       "1175 1.766874  -4.83825 3.061181 2.336816 1.22111"
      ]
     },
     "metadata": {},
     "output_type": "display_data"
    }
   ],
   "source": [
    "coeffs[1175,]"
   ]
  },
  {
   "cell_type": "code",
   "execution_count": null,
   "id": "20fa49f6",
   "metadata": {
    "vscode": {
     "languageId": "r"
    }
   },
   "outputs": [],
   "source": []
  }
 ],
 "metadata": {
  "kernelspec": {
   "display_name": "R",
   "language": "R",
   "name": "ir"
  },
  "language_info": {
   "codemirror_mode": "r",
   "file_extension": ".r",
   "mimetype": "text/x-r-source",
   "name": "R",
   "pygments_lexer": "r",
   "version": "4.0.5"
  }
 },
 "nbformat": 4,
 "nbformat_minor": 5
}
