{
 "cells": [
  {
   "cell_type": "code",
   "execution_count": 2,
   "id": "d13fe51c",
   "metadata": {},
   "outputs": [],
   "source": [
    "library(rhdf5)\n",
    "library(MASS)\n",
    "library(broom)\n",
    "# library(pscl)"
   ]
  },
  {
   "cell_type": "markdown",
   "id": "df3aa47b",
   "metadata": {},
   "source": [
    "# Test reading h5 and accessing data"
   ]
  },
  {
   "cell_type": "code",
   "execution_count": 3,
   "id": "1fbd7eae",
   "metadata": {},
   "outputs": [],
   "source": [
    "fh <- \"../simulated_data/sim.h5\""
   ]
  },
  {
   "cell_type": "markdown",
   "id": "b4354757",
   "metadata": {},
   "source": [
    "Get internal structure of h5 file"
   ]
  },
  {
   "cell_type": "code",
   "execution_count": 4,
   "id": "2280419f",
   "metadata": {},
   "outputs": [
    {
     "data": {
      "text/html": [
       "<table class=\"dataframe\">\n",
       "<caption>A data.frame: 14 × 5</caption>\n",
       "<thead>\n",
       "\t<tr><th></th><th scope=col>group</th><th scope=col>name</th><th scope=col>otype</th><th scope=col>dclass</th><th scope=col>dim</th></tr>\n",
       "\t<tr><th></th><th scope=col>&lt;chr&gt;</th><th scope=col>&lt;chr&gt;</th><th scope=col>&lt;chr&gt;</th><th scope=col>&lt;chr&gt;</th><th scope=col>&lt;chr&gt;</th></tr>\n",
       "</thead>\n",
       "<tbody>\n",
       "\t<tr><th scope=row>0</th><td>/      </td><td>coeffs             </td><td>H5I_DATASET</td><td>COMPOUND</td><td>13000        </td></tr>\n",
       "\t<tr><th scope=row>1</th><td>/      </td><td>counts             </td><td>H5I_DATASET</td><td>INTEGER </td><td>13000 x 50000</td></tr>\n",
       "\t<tr><th scope=row>2</th><td>/      </td><td>guides             </td><td>H5I_GROUP  </td><td>        </td><td>             </td></tr>\n",
       "\t<tr><th scope=row>3</th><td>/guides</td><td>est_efficiency_D10 </td><td>H5I_DATASET</td><td>FLOAT   </td><td>2000         </td></tr>\n",
       "\t<tr><th scope=row>4</th><td>/guides</td><td>est_efficiency_D100</td><td>H5I_DATASET</td><td>FLOAT   </td><td>2000         </td></tr>\n",
       "\t<tr><th scope=row>5</th><td>/guides</td><td>metadata           </td><td>H5I_DATASET</td><td>COMPOUND</td><td>2000         </td></tr>\n",
       "\t<tr><th scope=row>6</th><td>/guides</td><td>one_hot            </td><td>H5I_DATASET</td><td>INTEGER </td><td>50000 x 2000 </td></tr>\n",
       "\t<tr><th scope=row>7</th><td>/      </td><td>linear_predictor   </td><td>H5I_DATASET</td><td>FLOAT   </td><td>13000 x 50000</td></tr>\n",
       "\t<tr><th scope=row>8</th><td>/      </td><td>mu                 </td><td>H5I_DATASET</td><td>FLOAT   </td><td>13000 x 50000</td></tr>\n",
       "\t<tr><th scope=row>9</th><td>/      </td><td>scaling_factors    </td><td>H5I_DATASET</td><td>FLOAT   </td><td>50000        </td></tr>\n",
       "\t<tr><th scope=row>10</th><td>/      </td><td>x                  </td><td>H5I_GROUP  </td><td>        </td><td>             </td></tr>\n",
       "\t<tr><th scope=row>11</th><td>/x     </td><td>cell_cycle_scores  </td><td>H5I_DATASET</td><td>COMPOUND</td><td>50000        </td></tr>\n",
       "\t<tr><th scope=row>12</th><td>/x     </td><td>percent_mito       </td><td>H5I_DATASET</td><td>FLOAT   </td><td>50000        </td></tr>\n",
       "\t<tr><th scope=row>13</th><td>/x     </td><td>x1                 </td><td>H5I_DATASET</td><td>INTEGER </td><td>13000 x 50000</td></tr>\n",
       "</tbody>\n",
       "</table>\n"
      ],
      "text/latex": [
       "A data.frame: 14 × 5\n",
       "\\begin{tabular}{r|lllll}\n",
       "  & group & name & otype & dclass & dim\\\\\n",
       "  & <chr> & <chr> & <chr> & <chr> & <chr>\\\\\n",
       "\\hline\n",
       "\t0 & /       & coeffs              & H5I\\_DATASET & COMPOUND & 13000        \\\\\n",
       "\t1 & /       & counts              & H5I\\_DATASET & INTEGER  & 13000 x 50000\\\\\n",
       "\t2 & /       & guides              & H5I\\_GROUP   &          &              \\\\\n",
       "\t3 & /guides & est\\_efficiency\\_D10  & H5I\\_DATASET & FLOAT    & 2000         \\\\\n",
       "\t4 & /guides & est\\_efficiency\\_D100 & H5I\\_DATASET & FLOAT    & 2000         \\\\\n",
       "\t5 & /guides & metadata            & H5I\\_DATASET & COMPOUND & 2000         \\\\\n",
       "\t6 & /guides & one\\_hot             & H5I\\_DATASET & INTEGER  & 50000 x 2000 \\\\\n",
       "\t7 & /       & linear\\_predictor    & H5I\\_DATASET & FLOAT    & 13000 x 50000\\\\\n",
       "\t8 & /       & mu                  & H5I\\_DATASET & FLOAT    & 13000 x 50000\\\\\n",
       "\t9 & /       & scaling\\_factors     & H5I\\_DATASET & FLOAT    & 50000        \\\\\n",
       "\t10 & /       & x                   & H5I\\_GROUP   &          &              \\\\\n",
       "\t11 & /x      & cell\\_cycle\\_scores   & H5I\\_DATASET & COMPOUND & 50000        \\\\\n",
       "\t12 & /x      & percent\\_mito        & H5I\\_DATASET & FLOAT    & 50000        \\\\\n",
       "\t13 & /x      & x1                  & H5I\\_DATASET & INTEGER  & 13000 x 50000\\\\\n",
       "\\end{tabular}\n"
      ],
      "text/markdown": [
       "\n",
       "A data.frame: 14 × 5\n",
       "\n",
       "| <!--/--> | group &lt;chr&gt; | name &lt;chr&gt; | otype &lt;chr&gt; | dclass &lt;chr&gt; | dim &lt;chr&gt; |\n",
       "|---|---|---|---|---|---|\n",
       "| 0 | /       | coeffs              | H5I_DATASET | COMPOUND | 13000         |\n",
       "| 1 | /       | counts              | H5I_DATASET | INTEGER  | 13000 x 50000 |\n",
       "| 2 | /       | guides              | H5I_GROUP   | <!----> | <!----> |\n",
       "| 3 | /guides | est_efficiency_D10  | H5I_DATASET | FLOAT    | 2000          |\n",
       "| 4 | /guides | est_efficiency_D100 | H5I_DATASET | FLOAT    | 2000          |\n",
       "| 5 | /guides | metadata            | H5I_DATASET | COMPOUND | 2000          |\n",
       "| 6 | /guides | one_hot             | H5I_DATASET | INTEGER  | 50000 x 2000  |\n",
       "| 7 | /       | linear_predictor    | H5I_DATASET | FLOAT    | 13000 x 50000 |\n",
       "| 8 | /       | mu                  | H5I_DATASET | FLOAT    | 13000 x 50000 |\n",
       "| 9 | /       | scaling_factors     | H5I_DATASET | FLOAT    | 50000         |\n",
       "| 10 | /       | x                   | H5I_GROUP   | <!----> | <!----> |\n",
       "| 11 | /x      | cell_cycle_scores   | H5I_DATASET | COMPOUND | 50000         |\n",
       "| 12 | /x      | percent_mito        | H5I_DATASET | FLOAT    | 50000         |\n",
       "| 13 | /x      | x1                  | H5I_DATASET | INTEGER  | 13000 x 50000 |\n",
       "\n"
      ],
      "text/plain": [
       "   group   name                otype       dclass   dim          \n",
       "0  /       coeffs              H5I_DATASET COMPOUND 13000        \n",
       "1  /       counts              H5I_DATASET INTEGER  13000 x 50000\n",
       "2  /       guides              H5I_GROUP                         \n",
       "3  /guides est_efficiency_D10  H5I_DATASET FLOAT    2000         \n",
       "4  /guides est_efficiency_D100 H5I_DATASET FLOAT    2000         \n",
       "5  /guides metadata            H5I_DATASET COMPOUND 2000         \n",
       "6  /guides one_hot             H5I_DATASET INTEGER  50000 x 2000 \n",
       "7  /       linear_predictor    H5I_DATASET FLOAT    13000 x 50000\n",
       "8  /       mu                  H5I_DATASET FLOAT    13000 x 50000\n",
       "9  /       scaling_factors     H5I_DATASET FLOAT    50000        \n",
       "10 /       x                   H5I_GROUP                         \n",
       "11 /x      cell_cycle_scores   H5I_DATASET COMPOUND 50000        \n",
       "12 /x      percent_mito        H5I_DATASET FLOAT    50000        \n",
       "13 /x      x1                  H5I_DATASET INTEGER  13000 x 50000"
      ]
     },
     "metadata": {},
     "output_type": "display_data"
    }
   ],
   "source": [
    "h5ls(fh)"
   ]
  },
  {
   "cell_type": "markdown",
   "id": "48cfd071",
   "metadata": {},
   "source": [
    "Test reading first row from counts matrix"
   ]
  },
  {
   "cell_type": "code",
   "execution_count": 4,
   "id": "f6eb495e",
   "metadata": {},
   "outputs": [
    {
     "data": {
      "text/plain": [
       "   user  system elapsed \n",
       "  0.875   0.124   1.000 "
      ]
     },
     "metadata": {},
     "output_type": "display_data"
    }
   ],
   "source": [
    "system.time(row.counts <- h5read(file = fh, name = \"counts\", index = list(1, 1:50000)))"
   ]
  },
  {
   "cell_type": "code",
   "execution_count": 5,
   "id": "24199ba1",
   "metadata": {},
   "outputs": [
    {
     "data": {
      "text/html": [
       "<table class=\"dataframe\">\n",
       "<caption>A matrix: 1 × 50000 of type int</caption>\n",
       "<tbody>\n",
       "\t<tr><td>0</td><td>0</td><td>0</td><td>0</td><td>0</td><td>0</td><td>0</td><td>0</td><td>0</td><td>0</td><td>⋯</td><td>0</td><td>0</td><td>0</td><td>0</td><td>0</td><td>0</td><td>0</td><td>0</td><td>1</td><td>0</td></tr>\n",
       "</tbody>\n",
       "</table>\n"
      ],
      "text/latex": [
       "A matrix: 1 × 50000 of type int\n",
       "\\begin{tabular}{lllllllllllllllllllll}\n",
       "\t 0 & 0 & 0 & 0 & 0 & 0 & 0 & 0 & 0 & 0 & ⋯ & 0 & 0 & 0 & 0 & 0 & 0 & 0 & 0 & 1 & 0\\\\\n",
       "\\end{tabular}\n"
      ],
      "text/markdown": [
       "\n",
       "A matrix: 1 × 50000 of type int\n",
       "\n",
       "| 0 | 0 | 0 | 0 | 0 | 0 | 0 | 0 | 0 | 0 | ⋯ | 0 | 0 | 0 | 0 | 0 | 0 | 0 | 0 | 1 | 0 |\n",
       "\n"
      ],
      "text/plain": [
       "     [,1] [,2] [,3] [,4] [,5] [,6] [,7] [,8] [,9] [,10] [,11] [,12] [,13] [,14]\n",
       "[1,] 0    0    0    0    0    0    0    0    0    0     ⋯     0     0     0    \n",
       "     [,15] [,16] [,17] [,18] [,19] [,20] [,21]\n",
       "[1,] 0     0     0     0     0     1     0    "
      ]
     },
     "metadata": {},
     "output_type": "display_data"
    }
   ],
   "source": [
    "row.counts"
   ]
  },
  {
   "cell_type": "markdown",
   "id": "173f4bac",
   "metadata": {},
   "source": [
    "Check if this matches"
   ]
  },
  {
   "cell_type": "code",
   "execution_count": 6,
   "id": "cfc3aa26",
   "metadata": {},
   "outputs": [
    {
     "data": {
      "text/html": [
       "<style>\n",
       ".list-inline {list-style: none; margin:0; padding: 0}\n",
       ".list-inline>li {display: inline-block}\n",
       ".list-inline>li:not(:last-child)::after {content: \"\\00b7\"; padding: 0 .5ex}\n",
       "</style>\n",
       "<ol class=list-inline><li>13000</li><li>50000</li></ol>\n"
      ],
      "text/latex": [
       "\\begin{enumerate*}\n",
       "\\item 13000\n",
       "\\item 50000\n",
       "\\end{enumerate*}\n"
      ],
      "text/markdown": [
       "1. 13000\n",
       "2. 50000\n",
       "\n",
       "\n"
      ],
      "text/plain": [
       "[1] 13000 50000"
      ]
     },
     "metadata": {},
     "output_type": "display_data"
    },
    {
     "data": {
      "text/html": [
       "<style>\n",
       ".list-inline {list-style: none; margin:0; padding: 0}\n",
       ".list-inline>li {display: inline-block}\n",
       ".list-inline>li:not(:last-child)::after {content: \"\\00b7\"; padding: 0 .5ex}\n",
       "</style>\n",
       "<ol class=list-inline><li>0</li><li>0</li><li>0</li><li>0</li><li>0</li><li>0</li><li>0</li><li>0</li><li>0</li><li>0</li></ol>\n"
      ],
      "text/latex": [
       "\\begin{enumerate*}\n",
       "\\item 0\n",
       "\\item 0\n",
       "\\item 0\n",
       "\\item 0\n",
       "\\item 0\n",
       "\\item 0\n",
       "\\item 0\n",
       "\\item 0\n",
       "\\item 0\n",
       "\\item 0\n",
       "\\end{enumerate*}\n"
      ],
      "text/markdown": [
       "1. 0\n",
       "2. 0\n",
       "3. 0\n",
       "4. 0\n",
       "5. 0\n",
       "6. 0\n",
       "7. 0\n",
       "8. 0\n",
       "9. 0\n",
       "10. 0\n",
       "\n",
       "\n"
      ],
      "text/plain": [
       " [1] 0 0 0 0 0 0 0 0 0 0"
      ]
     },
     "metadata": {},
     "output_type": "display_data"
    }
   ],
   "source": [
    "counts.mtx <- h5read(fh, \"counts\")\n",
    "dim(counts.mtx)\n",
    "counts.mtx[1,1:10]"
   ]
  },
  {
   "cell_type": "markdown",
   "id": "ee3323dd",
   "metadata": {},
   "source": [
    "Try pulling a row from matrix of $X_1$"
   ]
  },
  {
   "cell_type": "code",
   "execution_count": 7,
   "id": "26b54ebc",
   "metadata": {},
   "outputs": [
    {
     "data": {
      "text/plain": [
       "   user  system elapsed \n",
       "  0.489   0.014   0.503 "
      ]
     },
     "metadata": {},
     "output_type": "display_data"
    }
   ],
   "source": [
    "system.time(row.vars <- h5read(file = fh, name = \"x/x1\", index = list(1, 1:50000)))"
   ]
  },
  {
   "cell_type": "code",
   "execution_count": 8,
   "id": "b9ed7915",
   "metadata": {},
   "outputs": [
    {
     "data": {
      "text/html": [
       "0"
      ],
      "text/latex": [
       "0"
      ],
      "text/markdown": [
       "0"
      ],
      "text/plain": [
       "[1] 0"
      ]
     },
     "metadata": {},
     "output_type": "display_data"
    }
   ],
   "source": [
    "sum(row.vars)"
   ]
  },
  {
   "cell_type": "markdown",
   "id": "c47a65f7",
   "metadata": {},
   "source": [
    "Check if this is correct"
   ]
  },
  {
   "cell_type": "code",
   "execution_count": 9,
   "id": "ad0f2f93",
   "metadata": {},
   "outputs": [
    {
     "data": {
      "text/html": [
       "0"
      ],
      "text/latex": [
       "0"
      ],
      "text/markdown": [
       "0"
      ],
      "text/plain": [
       "[1] 0"
      ]
     },
     "metadata": {},
     "output_type": "display_data"
    }
   ],
   "source": [
    "x1.mtx <- h5read(fh, \"x/x1\")\n",
    "sum(x1.mtx[1,1:50000])"
   ]
  },
  {
   "cell_type": "markdown",
   "id": "53bb303e",
   "metadata": {},
   "source": [
    "# Load fixed values\n",
    "\n",
    "Coefficients (ground truth for evaluating model performance) \n",
    "\n",
    "Cell cycle scores (same for every gene)"
   ]
  },
  {
   "cell_type": "code",
   "execution_count": 7,
   "id": "243b4154",
   "metadata": {},
   "outputs": [],
   "source": [
    "coeffs <- h5read(file = fh, name = \"coeffs\")\n",
    "cell.cycle.scores <- h5read(fh, \"x/cell_cycle_scores\")\n",
    "scaling.factors <- h5read(file = fh, name = \"scaling_factors\")\n",
    "guides.metadata <- h5read(file = fh, name = \"guides/metadata\")\n",
    "percent.mito <- h5read(file = fh, name = \"x/percent_mito\")\n",
    "\n",
    "est.eff.d100 <- h5read(file = fh, name = \"guides/est_efficiency_D100\")\n",
    "est.eff.d10 <- h5read(file = fh, name = \"guides/est_efficiency_D10\")\n",
    "est.eff <- data.frame(d100=est.eff.d100, d10 = est.eff.d10)"
   ]
  },
  {
   "cell_type": "code",
   "execution_count": 11,
   "id": "eb1dff6b",
   "metadata": {},
   "outputs": [
    {
     "data": {
      "text/html": [
       "<table class=\"dataframe\">\n",
       "<caption>A data.frame: 6 × 2</caption>\n",
       "<thead>\n",
       "\t<tr><th></th><th scope=col>d100</th><th scope=col>d10</th></tr>\n",
       "\t<tr><th></th><th scope=col>&lt;dbl&gt;</th><th scope=col>&lt;dbl&gt;</th></tr>\n",
       "</thead>\n",
       "<tbody>\n",
       "\t<tr><th scope=row>1</th><td>0.5076415</td><td>0.6898476</td></tr>\n",
       "\t<tr><th scope=row>2</th><td>0.4982986</td><td>0.5571219</td></tr>\n",
       "\t<tr><th scope=row>3</th><td>0.5476307</td><td>0.6325339</td></tr>\n",
       "\t<tr><th scope=row>4</th><td>0.4776489</td><td>0.4308420</td></tr>\n",
       "\t<tr><th scope=row>5</th><td>0.4861400</td><td>0.5816943</td></tr>\n",
       "\t<tr><th scope=row>6</th><td>0.4624721</td><td>0.4790031</td></tr>\n",
       "</tbody>\n",
       "</table>\n"
      ],
      "text/latex": [
       "A data.frame: 6 × 2\n",
       "\\begin{tabular}{r|ll}\n",
       "  & d100 & d10\\\\\n",
       "  & <dbl> & <dbl>\\\\\n",
       "\\hline\n",
       "\t1 & 0.5076415 & 0.6898476\\\\\n",
       "\t2 & 0.4982986 & 0.5571219\\\\\n",
       "\t3 & 0.5476307 & 0.6325339\\\\\n",
       "\t4 & 0.4776489 & 0.4308420\\\\\n",
       "\t5 & 0.4861400 & 0.5816943\\\\\n",
       "\t6 & 0.4624721 & 0.4790031\\\\\n",
       "\\end{tabular}\n"
      ],
      "text/markdown": [
       "\n",
       "A data.frame: 6 × 2\n",
       "\n",
       "| <!--/--> | d100 &lt;dbl&gt; | d10 &lt;dbl&gt; |\n",
       "|---|---|---|\n",
       "| 1 | 0.5076415 | 0.6898476 |\n",
       "| 2 | 0.4982986 | 0.5571219 |\n",
       "| 3 | 0.5476307 | 0.6325339 |\n",
       "| 4 | 0.4776489 | 0.4308420 |\n",
       "| 5 | 0.4861400 | 0.5816943 |\n",
       "| 6 | 0.4624721 | 0.4790031 |\n",
       "\n"
      ],
      "text/plain": [
       "  d100      d10      \n",
       "1 0.5076415 0.6898476\n",
       "2 0.4982986 0.5571219\n",
       "3 0.5476307 0.6325339\n",
       "4 0.4776489 0.4308420\n",
       "5 0.4861400 0.5816943\n",
       "6 0.4624721 0.4790031"
      ]
     },
     "metadata": {},
     "output_type": "display_data"
    }
   ],
   "source": [
    "head(est.eff)"
   ]
  },
  {
   "cell_type": "code",
   "execution_count": 12,
   "id": "47ec44fb",
   "metadata": {},
   "outputs": [
    {
     "data": {
      "text/html": [
       "<table class=\"dataframe\">\n",
       "<caption>A data.frame: 6 × 3</caption>\n",
       "<thead>\n",
       "\t<tr><th></th><th scope=col>target.gene</th><th scope=col>efficiency</th><th scope=col>effect.size</th></tr>\n",
       "\t<tr><th></th><th scope=col>&lt;int&gt;</th><th scope=col>&lt;dbl&gt;</th><th scope=col>&lt;dbl&gt;</th></tr>\n",
       "</thead>\n",
       "<tbody>\n",
       "\t<tr><th scope=row>1</th><td>11834</td><td>0.6972342</td><td>-1.513900</td></tr>\n",
       "\t<tr><th scope=row>2</th><td> 7767</td><td>0.6782246</td><td>-3.606096</td></tr>\n",
       "\t<tr><th scope=row>3</th><td>  429</td><td>0.6357277</td><td>-4.834780</td></tr>\n",
       "\t<tr><th scope=row>4</th><td> 8881</td><td>0.5748017</td><td>-3.036978</td></tr>\n",
       "\t<tr><th scope=row>5</th><td> 6743</td><td>0.7808839</td><td>-1.485520</td></tr>\n",
       "\t<tr><th scope=row>6</th><td>10113</td><td>0.8382174</td><td>-3.738202</td></tr>\n",
       "</tbody>\n",
       "</table>\n"
      ],
      "text/latex": [
       "A data.frame: 6 × 3\n",
       "\\begin{tabular}{r|lll}\n",
       "  & target.gene & efficiency & effect.size\\\\\n",
       "  & <int> & <dbl> & <dbl>\\\\\n",
       "\\hline\n",
       "\t1 & 11834 & 0.6972342 & -1.513900\\\\\n",
       "\t2 &  7767 & 0.6782246 & -3.606096\\\\\n",
       "\t3 &   429 & 0.6357277 & -4.834780\\\\\n",
       "\t4 &  8881 & 0.5748017 & -3.036978\\\\\n",
       "\t5 &  6743 & 0.7808839 & -1.485520\\\\\n",
       "\t6 & 10113 & 0.8382174 & -3.738202\\\\\n",
       "\\end{tabular}\n"
      ],
      "text/markdown": [
       "\n",
       "A data.frame: 6 × 3\n",
       "\n",
       "| <!--/--> | target.gene &lt;int&gt; | efficiency &lt;dbl&gt; | effect.size &lt;dbl&gt; |\n",
       "|---|---|---|---|\n",
       "| 1 | 11834 | 0.6972342 | -1.513900 |\n",
       "| 2 |  7767 | 0.6782246 | -3.606096 |\n",
       "| 3 |   429 | 0.6357277 | -4.834780 |\n",
       "| 4 |  8881 | 0.5748017 | -3.036978 |\n",
       "| 5 |  6743 | 0.7808839 | -1.485520 |\n",
       "| 6 | 10113 | 0.8382174 | -3.738202 |\n",
       "\n"
      ],
      "text/plain": [
       "  target.gene efficiency effect.size\n",
       "1 11834       0.6972342  -1.513900  \n",
       "2  7767       0.6782246  -3.606096  \n",
       "3   429       0.6357277  -4.834780  \n",
       "4  8881       0.5748017  -3.036978  \n",
       "5  6743       0.7808839  -1.485520  \n",
       "6 10113       0.8382174  -3.738202  "
      ]
     },
     "metadata": {},
     "output_type": "display_data"
    }
   ],
   "source": [
    "head(guides.metadata)"
   ]
  },
  {
   "cell_type": "code",
   "execution_count": 67,
   "id": "b8720b40",
   "metadata": {},
   "outputs": [
    {
     "data": {
      "text/html": [
       "<table class=\"dataframe\">\n",
       "<caption>A data.frame: 1 × 5</caption>\n",
       "<thead>\n",
       "\t<tr><th></th><th scope=col>baselines</th><th scope=col>beta1</th><th scope=col>beta2</th><th scope=col>beta3</th><th scope=col>beta4</th></tr>\n",
       "\t<tr><th></th><th scope=col>&lt;dbl&gt;</th><th scope=col>&lt;dbl&gt;</th><th scope=col>&lt;dbl&gt;</th><th scope=col>&lt;dbl&gt;</th><th scope=col>&lt;dbl&gt;</th></tr>\n",
       "</thead>\n",
       "<tbody>\n",
       "\t<tr><th scope=row>1</th><td>-3.466879</td><td>0</td><td>4.817536</td><td>3.715494</td><td>3.142712</td></tr>\n",
       "</tbody>\n",
       "</table>\n"
      ],
      "text/latex": [
       "A data.frame: 1 × 5\n",
       "\\begin{tabular}{r|lllll}\n",
       "  & baselines & beta1 & beta2 & beta3 & beta4\\\\\n",
       "  & <dbl> & <dbl> & <dbl> & <dbl> & <dbl>\\\\\n",
       "\\hline\n",
       "\t1 & -3.466879 & 0 & 4.817536 & 3.715494 & 3.142712\\\\\n",
       "\\end{tabular}\n"
      ],
      "text/markdown": [
       "\n",
       "A data.frame: 1 × 5\n",
       "\n",
       "| <!--/--> | baselines &lt;dbl&gt; | beta1 &lt;dbl&gt; | beta2 &lt;dbl&gt; | beta3 &lt;dbl&gt; | beta4 &lt;dbl&gt; |\n",
       "|---|---|---|---|---|---|\n",
       "| 1 | -3.466879 | 0 | 4.817536 | 3.715494 | 3.142712 |\n",
       "\n"
      ],
      "text/plain": [
       "  baselines beta1 beta2    beta3    beta4   \n",
       "1 -3.466879 0     4.817536 3.715494 3.142712"
      ]
     },
     "metadata": {},
     "output_type": "display_data"
    }
   ],
   "source": [
    "coeffs[1,]"
   ]
  },
  {
   "cell_type": "markdown",
   "id": "0166efeb",
   "metadata": {},
   "source": [
    "# Calculate inputs used to generate simulated counts"
   ]
  },
  {
   "cell_type": "code",
   "execution_count": 68,
   "id": "3275ec17",
   "metadata": {},
   "outputs": [],
   "source": [
    "compute.mu <- function(gene, x1, x2, x3, x4, betas = coeffs, scale = scaling.factors) {\n",
    "    beta0 <- betas[gene,]$baselines\n",
    "    beta1 <- betas[gene,]$beta1\n",
    "    beta2 <- betas[gene,]$beta2\n",
    "    beta3 <- betas[gene,]$beta3\n",
    "    beta4 <- betas[gene,]$beta4\n",
    "    mu <- beta0 + beta1*x1 + beta2*x2 + beta3*x3 + beta4*x4 + log(scale)\n",
    "    return(mu)\n",
    "}"
   ]
  },
  {
   "cell_type": "code",
   "execution_count": 71,
   "id": "a19b8e36",
   "metadata": {},
   "outputs": [],
   "source": [
    "mu.list <- list()\n",
    "mean.list <- list()\n",
    "\n",
    "for (gene in 1:13000) {\n",
    "    x1 <- as.integer(h5read(file = fh, name = \"x/x1\", index = list(gene, 1:50000)))\n",
    "    mu <- compute.mu(gene, x1, cell.cycle.scores$s.scores, cell.cycle.scores$g2m.scores, percent.mito)\n",
    "    mean.list[[gene]] <- exp(mu)\n",
    "    mu.list[[gene]] <- mu\n",
    "}"
   ]
  },
  {
   "cell_type": "markdown",
   "id": "2b3e98b9",
   "metadata": {},
   "source": [
    "# Define null and alternative models\n",
    "\n",
    "## Model\n",
    "$$y = \\text{NB}(\\mu=s \\cdot \\exp \\left( \\beta_0 + \\beta_1 X_1 + \\beta_2 X_2 + \\beta_3 X_3 \\right), n=\\sigma)$$\n",
    "### $H_0: \\beta_1 = 0 $\n",
    "### $H_A: \\beta_1 \\neq 0 $\n",
    "\n"
   ]
  },
  {
   "cell_type": "markdown",
   "id": "00934543",
   "metadata": {},
   "source": [
    "### Test for one gene with `glm.nb` (MASS library)\n",
    "\n",
    "Gene with no targeted enhancer - we expect $\\beta_1=0$ and $H_0$ to be a better model fit."
   ]
  },
  {
   "cell_type": "code",
   "execution_count": 28,
   "id": "c89ea0ed",
   "metadata": {},
   "outputs": [
    {
     "name": "stdout",
     "output_type": "stream",
     "text": [
      "[1] 1985\n"
     ]
    }
   ],
   "source": [
    "test.gene <- sample(setdiff(c(1:13000),guides.metadata$target.gene),1)\n",
    "print(test.gene)\n",
    "obs.counts <- h5read(file = fh, name = \"counts\", index = list(test.gene, 1:50000))\n",
    "gene.data <- data.frame(guide.eff = as.integer(h5read(file = fh, name = \"x/x1\", index = list(test.gene, 1:50000))),\n",
    "                       s.score = cell.cycle.scores$s.scores,\n",
    "                       g2m.score = cell.cycle.scores$g2m.scores,\n",
    "                        percent.mito = percent.mito,\n",
    "                       counts = as.integer(obs.counts),\n",
    "                       scaling.factor = scaling.factors)"
   ]
  },
  {
   "cell_type": "code",
   "execution_count": 29,
   "id": "8028e075",
   "metadata": {},
   "outputs": [
    {
     "data": {
      "text/html": [
       "<table class=\"dataframe\">\n",
       "<caption>A data.frame: 6 × 6</caption>\n",
       "<thead>\n",
       "\t<tr><th></th><th scope=col>guide.eff</th><th scope=col>s.score</th><th scope=col>g2m.score</th><th scope=col>percent.mito</th><th scope=col>counts</th><th scope=col>scaling.factor</th></tr>\n",
       "\t<tr><th></th><th scope=col>&lt;int&gt;</th><th scope=col>&lt;dbl&gt;</th><th scope=col>&lt;dbl&gt;</th><th scope=col>&lt;dbl&gt;</th><th scope=col>&lt;int&gt;</th><th scope=col>&lt;dbl&gt;</th></tr>\n",
       "</thead>\n",
       "<tbody>\n",
       "\t<tr><th scope=row>1</th><td>0</td><td> 1.7947199</td><td>-1.83639354</td><td>0.06061820</td><td>1</td><td>0.050330</td></tr>\n",
       "\t<tr><th scope=row>2</th><td>0</td><td>-0.2756066</td><td> 1.50885110</td><td>0.03715752</td><td>2</td><td>0.050085</td></tr>\n",
       "\t<tr><th scope=row>3</th><td>0</td><td> 0.7234078</td><td> 0.09391965</td><td>0.05300308</td><td>3</td><td>0.050013</td></tr>\n",
       "\t<tr><th scope=row>4</th><td>0</td><td> 0.7588188</td><td>-1.47243103</td><td>0.04361673</td><td>0</td><td>0.050187</td></tr>\n",
       "\t<tr><th scope=row>5</th><td>0</td><td>-1.3408158</td><td> 1.06949958</td><td>0.03769811</td><td>0</td><td>0.050154</td></tr>\n",
       "\t<tr><th scope=row>6</th><td>0</td><td> 0.3849191</td><td> 0.48729077</td><td>0.03390487</td><td>3</td><td>0.049889</td></tr>\n",
       "</tbody>\n",
       "</table>\n"
      ],
      "text/latex": [
       "A data.frame: 6 × 6\n",
       "\\begin{tabular}{r|llllll}\n",
       "  & guide.eff & s.score & g2m.score & percent.mito & counts & scaling.factor\\\\\n",
       "  & <int> & <dbl> & <dbl> & <dbl> & <int> & <dbl>\\\\\n",
       "\\hline\n",
       "\t1 & 0 &  1.7947199 & -1.83639354 & 0.06061820 & 1 & 0.050330\\\\\n",
       "\t2 & 0 & -0.2756066 &  1.50885110 & 0.03715752 & 2 & 0.050085\\\\\n",
       "\t3 & 0 &  0.7234078 &  0.09391965 & 0.05300308 & 3 & 0.050013\\\\\n",
       "\t4 & 0 &  0.7588188 & -1.47243103 & 0.04361673 & 0 & 0.050187\\\\\n",
       "\t5 & 0 & -1.3408158 &  1.06949958 & 0.03769811 & 0 & 0.050154\\\\\n",
       "\t6 & 0 &  0.3849191 &  0.48729077 & 0.03390487 & 3 & 0.049889\\\\\n",
       "\\end{tabular}\n"
      ],
      "text/markdown": [
       "\n",
       "A data.frame: 6 × 6\n",
       "\n",
       "| <!--/--> | guide.eff &lt;int&gt; | s.score &lt;dbl&gt; | g2m.score &lt;dbl&gt; | percent.mito &lt;dbl&gt; | counts &lt;int&gt; | scaling.factor &lt;dbl&gt; |\n",
       "|---|---|---|---|---|---|---|\n",
       "| 1 | 0 |  1.7947199 | -1.83639354 | 0.06061820 | 1 | 0.050330 |\n",
       "| 2 | 0 | -0.2756066 |  1.50885110 | 0.03715752 | 2 | 0.050085 |\n",
       "| 3 | 0 |  0.7234078 |  0.09391965 | 0.05300308 | 3 | 0.050013 |\n",
       "| 4 | 0 |  0.7588188 | -1.47243103 | 0.04361673 | 0 | 0.050187 |\n",
       "| 5 | 0 | -1.3408158 |  1.06949958 | 0.03769811 | 0 | 0.050154 |\n",
       "| 6 | 0 |  0.3849191 |  0.48729077 | 0.03390487 | 3 | 0.049889 |\n",
       "\n"
      ],
      "text/plain": [
       "  guide.eff s.score    g2m.score   percent.mito counts scaling.factor\n",
       "1 0          1.7947199 -1.83639354 0.06061820   1      0.050330      \n",
       "2 0         -0.2756066  1.50885110 0.03715752   2      0.050085      \n",
       "3 0          0.7234078  0.09391965 0.05300308   3      0.050013      \n",
       "4 0          0.7588188 -1.47243103 0.04361673   0      0.050187      \n",
       "5 0         -1.3408158  1.06949958 0.03769811   0      0.050154      \n",
       "6 0          0.3849191  0.48729077 0.03390487   3      0.049889      "
      ]
     },
     "metadata": {},
     "output_type": "display_data"
    }
   ],
   "source": [
    "head(gene.data)"
   ]
  },
  {
   "cell_type": "code",
   "execution_count": 30,
   "id": "a372a698",
   "metadata": {},
   "outputs": [
    {
     "data": {
      "text/plain": [
       "   user  system elapsed \n",
       " 25.174  22.548   3.168 "
      ]
     },
     "metadata": {},
     "output_type": "display_data"
    }
   ],
   "source": [
    "system.time(ml <- glm.nb(counts ~ guide.eff + s.score + g2m.score + percent.mito + offset(log(scaling.factor)), \n",
    "                         data = gene.data,\n",
    "                        control = glm.control(maxit = 1000)))"
   ]
  },
  {
   "cell_type": "code",
   "execution_count": 31,
   "id": "f537148a",
   "metadata": {},
   "outputs": [
    {
     "data": {
      "text/plain": [
       "\n",
       "Call:\n",
       "glm.nb(formula = counts ~ guide.eff + s.score + g2m.score + percent.mito + \n",
       "    offset(log(scaling.factor)), data = gene.data, control = glm.control(maxit = 1000), \n",
       "    init.theta = 1.487163167, link = log)\n",
       "\n",
       "Deviance Residuals: \n",
       "    Min       1Q   Median       3Q      Max  \n",
       "-3.1539  -0.7918  -0.3976   0.1242   4.0767  \n",
       "\n",
       "Coefficients: (1 not defined because of singularities)\n",
       "             Estimate Std. Error z value Pr(>|z|)    \n",
       "(Intercept)   2.31599    0.01449 159.887   <2e-16 ***\n",
       "guide.eff          NA         NA      NA       NA    \n",
       "s.score       3.27219    0.01294 252.910   <2e-16 ***\n",
       "g2m.score     2.16064    0.01149 187.967   <2e-16 ***\n",
       "percent.mito  2.63130    0.28905   9.103   <2e-16 ***\n",
       "---\n",
       "Signif. codes:  0 ‘***’ 0.001 ‘**’ 0.01 ‘*’ 0.05 ‘.’ 0.1 ‘ ’ 1\n",
       "\n",
       "(Dispersion parameter for Negative Binomial(1.4872) family taken to be 1)\n",
       "\n",
       "    Null deviance: 198668  on 49999  degrees of freedom\n",
       "Residual deviance:  39633  on 49996  degrees of freedom\n",
       "AIC: 136413\n",
       "\n",
       "Number of Fisher Scoring iterations: 1\n",
       "\n",
       "\n",
       "              Theta:  1.4872 \n",
       "          Std. Err.:  0.0211 \n",
       "\n",
       " 2 x log-likelihood:  -136402.6450 "
      ]
     },
     "metadata": {},
     "output_type": "display_data"
    }
   ],
   "source": [
    "summary(ml)"
   ]
  },
  {
   "cell_type": "code",
   "execution_count": 32,
   "id": "0a2221ea",
   "metadata": {},
   "outputs": [
    {
     "data": {
      "text/html": [
       "<table class=\"dataframe\">\n",
       "<caption>A data.frame: 1 × 5</caption>\n",
       "<thead>\n",
       "\t<tr><th></th><th scope=col>baselines</th><th scope=col>beta1</th><th scope=col>beta2</th><th scope=col>beta3</th><th scope=col>beta4</th></tr>\n",
       "\t<tr><th></th><th scope=col>&lt;dbl&gt;</th><th scope=col>&lt;dbl&gt;</th><th scope=col>&lt;dbl&gt;</th><th scope=col>&lt;dbl&gt;</th><th scope=col>&lt;dbl&gt;</th></tr>\n",
       "</thead>\n",
       "<tbody>\n",
       "\t<tr><th scope=row>1985</th><td>2.321372</td><td>0</td><td>3.247074</td><td>2.154742</td><td>2.812768</td></tr>\n",
       "</tbody>\n",
       "</table>\n"
      ],
      "text/latex": [
       "A data.frame: 1 × 5\n",
       "\\begin{tabular}{r|lllll}\n",
       "  & baselines & beta1 & beta2 & beta3 & beta4\\\\\n",
       "  & <dbl> & <dbl> & <dbl> & <dbl> & <dbl>\\\\\n",
       "\\hline\n",
       "\t1985 & 2.321372 & 0 & 3.247074 & 2.154742 & 2.812768\\\\\n",
       "\\end{tabular}\n"
      ],
      "text/markdown": [
       "\n",
       "A data.frame: 1 × 5\n",
       "\n",
       "| <!--/--> | baselines &lt;dbl&gt; | beta1 &lt;dbl&gt; | beta2 &lt;dbl&gt; | beta3 &lt;dbl&gt; | beta4 &lt;dbl&gt; |\n",
       "|---|---|---|---|---|---|\n",
       "| 1985 | 2.321372 | 0 | 3.247074 | 2.154742 | 2.812768 |\n",
       "\n"
      ],
      "text/plain": [
       "     baselines beta1 beta2    beta3    beta4   \n",
       "1985 2.321372  0     3.247074 2.154742 2.812768"
      ]
     },
     "metadata": {},
     "output_type": "display_data"
    }
   ],
   "source": [
    "coeffs[test.gene,]"
   ]
  },
  {
   "cell_type": "code",
   "execution_count": 33,
   "id": "b3b7ecdc",
   "metadata": {},
   "outputs": [
    {
     "data": {
      "text/plain": [
       "   user  system elapsed \n",
       " 17.044  15.380   2.074 "
      ]
     },
     "metadata": {},
     "output_type": "display_data"
    }
   ],
   "source": [
    "system.time(ml.null <- update(ml, . ~ . - guide.eff))"
   ]
  },
  {
   "cell_type": "code",
   "execution_count": 34,
   "id": "634b966f",
   "metadata": {},
   "outputs": [
    {
     "data": {
      "text/plain": [
       "\n",
       "Call:\n",
       "glm.nb(formula = counts ~ s.score + g2m.score + percent.mito + \n",
       "    offset(log(scaling.factor)), data = gene.data, control = glm.control(maxit = 1000), \n",
       "    init.theta = 1.487163236, link = log)\n",
       "\n",
       "Deviance Residuals: \n",
       "    Min       1Q   Median       3Q      Max  \n",
       "-3.1539  -0.7918  -0.3976   0.1242   4.0767  \n",
       "\n",
       "Coefficients:\n",
       "             Estimate Std. Error z value Pr(>|z|)    \n",
       "(Intercept)   2.31599    0.01449 159.887   <2e-16 ***\n",
       "s.score       3.27219    0.01294 252.910   <2e-16 ***\n",
       "g2m.score     2.16064    0.01149 187.967   <2e-16 ***\n",
       "percent.mito  2.63130    0.28905   9.103   <2e-16 ***\n",
       "---\n",
       "Signif. codes:  0 ‘***’ 0.001 ‘**’ 0.01 ‘*’ 0.05 ‘.’ 0.1 ‘ ’ 1\n",
       "\n",
       "(Dispersion parameter for Negative Binomial(1.4872) family taken to be 1)\n",
       "\n",
       "    Null deviance: 198668  on 49999  degrees of freedom\n",
       "Residual deviance:  39633  on 49996  degrees of freedom\n",
       "AIC: 136413\n",
       "\n",
       "Number of Fisher Scoring iterations: 1\n",
       "\n",
       "\n",
       "              Theta:  1.4872 \n",
       "          Std. Err.:  0.0211 \n",
       "\n",
       " 2 x log-likelihood:  -136402.6450 "
      ]
     },
     "metadata": {},
     "output_type": "display_data"
    }
   ],
   "source": [
    "summary(ml.null)"
   ]
  },
  {
   "cell_type": "code",
   "execution_count": 35,
   "id": "87eb38f8",
   "metadata": {},
   "outputs": [
    {
     "data": {
      "text/html": [
       "<table class=\"dataframe\">\n",
       "<caption>A Anova: 2 × 8</caption>\n",
       "<thead>\n",
       "\t<tr><th scope=col>Model</th><th scope=col>theta</th><th scope=col>Resid. df</th><th scope=col>   2 x log-lik.</th><th scope=col>Test</th><th scope=col>   df</th><th scope=col>LR stat.</th><th scope=col>Pr(Chi)</th></tr>\n",
       "\t<tr><th scope=col>&lt;chr&gt;</th><th scope=col>&lt;dbl&gt;</th><th scope=col>&lt;int&gt;</th><th scope=col>&lt;dbl&gt;</th><th scope=col>&lt;chr&gt;</th><th scope=col>&lt;int&gt;</th><th scope=col>&lt;dbl&gt;</th><th scope=col>&lt;dbl&gt;</th></tr>\n",
       "</thead>\n",
       "<tbody>\n",
       "\t<tr><td>guide.eff + s.score + g2m.score + percent.mito + offset(log(scaling.factor))</td><td>1.487163</td><td>49996</td><td>-136402.6</td><td>      </td><td>NA</td><td>          NA</td><td>NA</td></tr>\n",
       "\t<tr><td>s.score + g2m.score + percent.mito + offset(log(scaling.factor))            </td><td>1.487163</td><td>49996</td><td>-136402.6</td><td>1 vs 2</td><td> 0</td><td>8.731149e-11</td><td> 0</td></tr>\n",
       "</tbody>\n",
       "</table>\n"
      ],
      "text/latex": [
       "A Anova: 2 × 8\n",
       "\\begin{tabular}{llllllll}\n",
       " Model & theta & Resid. df &    2 x log-lik. & Test &    df & LR stat. & Pr(Chi)\\\\\n",
       " <chr> & <dbl> & <int> & <dbl> & <chr> & <int> & <dbl> & <dbl>\\\\\n",
       "\\hline\n",
       "\t guide.eff + s.score + g2m.score + percent.mito + offset(log(scaling.factor)) & 1.487163 & 49996 & -136402.6 &        & NA &           NA & NA\\\\\n",
       "\t s.score + g2m.score + percent.mito + offset(log(scaling.factor))             & 1.487163 & 49996 & -136402.6 & 1 vs 2 &  0 & 8.731149e-11 &  0\\\\\n",
       "\\end{tabular}\n"
      ],
      "text/markdown": [
       "\n",
       "A Anova: 2 × 8\n",
       "\n",
       "| Model &lt;chr&gt; | theta &lt;dbl&gt; | Resid. df &lt;int&gt; |    2 x log-lik. &lt;dbl&gt; | Test &lt;chr&gt; |    df &lt;int&gt; | LR stat. &lt;dbl&gt; | Pr(Chi) &lt;dbl&gt; |\n",
       "|---|---|---|---|---|---|---|---|\n",
       "| guide.eff + s.score + g2m.score + percent.mito + offset(log(scaling.factor)) | 1.487163 | 49996 | -136402.6 | <!----> | NA |           NA | NA |\n",
       "| s.score + g2m.score + percent.mito + offset(log(scaling.factor))             | 1.487163 | 49996 | -136402.6 | 1 vs 2 |  0 | 8.731149e-11 |  0 |\n",
       "\n"
      ],
      "text/plain": [
       "  Model                                                                       \n",
       "1 guide.eff + s.score + g2m.score + percent.mito + offset(log(scaling.factor))\n",
       "2 s.score + g2m.score + percent.mito + offset(log(scaling.factor))            \n",
       "  theta    Resid. df    2 x log-lik. Test      df LR stat.     Pr(Chi)\n",
       "1 1.487163 49996     -136402.6              NA              NA NA     \n",
       "2 1.487163 49996     -136402.6       1 vs 2  0    8.731149e-11  0     "
      ]
     },
     "metadata": {},
     "output_type": "display_data"
    }
   ],
   "source": [
    "anova(ml, ml.null)"
   ]
  },
  {
   "cell_type": "code",
   "execution_count": 37,
   "id": "d22f8f37",
   "metadata": {},
   "outputs": [
    {
     "data": {
      "text/html": [
       "TRUE"
      ],
      "text/latex": [
       "TRUE"
      ],
      "text/markdown": [
       "TRUE"
      ],
      "text/plain": [
       "[1] TRUE"
      ]
     },
     "metadata": {},
     "output_type": "display_data"
    }
   ],
   "source": [
    "ml.null$aic < ml$aic"
   ]
  },
  {
   "cell_type": "markdown",
   "id": "37dcdd94",
   "metadata": {},
   "source": [
    "### Test for one gene\n",
    "Gene with targeted enhancer - we expect $beta_1\\neq0$ and $H_A$ to be a better model fit"
   ]
  },
  {
   "cell_type": "code",
   "execution_count": 61,
   "id": "5c44d214",
   "metadata": {},
   "outputs": [
    {
     "data": {
      "text/html": [
       "7001"
      ],
      "text/latex": [
       "7001"
      ],
      "text/markdown": [
       "7001"
      ],
      "text/plain": [
       "[1] 7001"
      ]
     },
     "metadata": {},
     "output_type": "display_data"
    }
   ],
   "source": [
    "test.gene <- sample(guides.metadata$target.gene, 1)\n",
    "test.gene\n",
    "\n",
    "obs.counts <- h5read(file = fh, name = \"counts\", index = list(test.gene, 1:50000))\n",
    "gene.data <- data.frame(guide.eff = as.integer(h5read(file = fh, name = \"x/x1\", index = list(test.gene, 1:50000))),\n",
    "                       s.score = cell.cycle.scores$s.scores,\n",
    "                       g2m.score = cell.cycle.scores$g2m.scores,\n",
    "                        percent.mito = percent.mito,\n",
    "                       counts = as.integer(obs.counts),\n",
    "                       scaling.factor = scaling.factors)"
   ]
  },
  {
   "cell_type": "code",
   "execution_count": 45,
   "id": "bbaa01bb",
   "metadata": {},
   "outputs": [
    {
     "data": {
      "text/plain": [
       "   user  system elapsed \n",
       " 32.508  28.954   5.293 "
      ]
     },
     "metadata": {},
     "output_type": "display_data"
    }
   ],
   "source": [
    "system.time(ml <- glm.nb(counts ~ guide.eff + s.score + g2m.score + percent.mito + offset(log(scaling.factor)), \n",
    "                         data = gene.data,\n",
    "                        control = glm.control(maxit = 1000)))"
   ]
  },
  {
   "cell_type": "code",
   "execution_count": 46,
   "id": "4299eeaf",
   "metadata": {},
   "outputs": [
    {
     "data": {
      "text/plain": [
       "\n",
       "Call:\n",
       "glm.nb(formula = counts ~ guide.eff + s.score + g2m.score + percent.mito + \n",
       "    offset(log(scaling.factor)), data = gene.data, control = glm.control(maxit = 1000), \n",
       "    init.theta = 1.487808264, link = log)\n",
       "\n",
       "Deviance Residuals: \n",
       "    Min       1Q   Median       3Q      Max  \n",
       "-3.5570  -0.6985  -0.2940  -0.0239   3.5886  \n",
       "\n",
       "Coefficients:\n",
       "             Estimate Std. Error z value Pr(>|z|)    \n",
       "(Intercept)   2.08646    0.01529 136.459  < 2e-16 ***\n",
       "guide.eff    -2.34526    0.12113 -19.362  < 2e-16 ***\n",
       "s.score       2.10590    0.01123 187.576  < 2e-16 ***\n",
       "g2m.score     4.27700    0.01397 306.111  < 2e-16 ***\n",
       "percent.mito  1.31372    0.29221   4.496 6.93e-06 ***\n",
       "---\n",
       "Signif. codes:  0 ‘***’ 0.001 ‘**’ 0.01 ‘*’ 0.05 ‘.’ 0.1 ‘ ’ 1\n",
       "\n",
       "(Dispersion parameter for Negative Binomial(1.4878) family taken to be 1)\n",
       "\n",
       "    Null deviance: 433424  on 49999  degrees of freedom\n",
       "Residual deviance:  35580  on 49995  degrees of freedom\n",
       "AIC: 146630\n",
       "\n",
       "Number of Fisher Scoring iterations: 1\n",
       "\n",
       "\n",
       "              Theta:  1.4878 \n",
       "          Std. Err.:  0.0193 \n",
       "\n",
       " 2 x log-likelihood:  -146617.6850 "
      ]
     },
     "metadata": {},
     "output_type": "display_data"
    }
   ],
   "source": [
    "summary(ml)"
   ]
  },
  {
   "cell_type": "code",
   "execution_count": 47,
   "id": "0f104756",
   "metadata": {},
   "outputs": [
    {
     "data": {
      "text/html": [
       "<table class=\"dataframe\">\n",
       "<caption>A data.frame: 1 × 5</caption>\n",
       "<thead>\n",
       "\t<tr><th></th><th scope=col>baselines</th><th scope=col>beta1</th><th scope=col>beta2</th><th scope=col>beta3</th><th scope=col>beta4</th></tr>\n",
       "\t<tr><th></th><th scope=col>&lt;dbl&gt;</th><th scope=col>&lt;dbl&gt;</th><th scope=col>&lt;dbl&gt;</th><th scope=col>&lt;dbl&gt;</th><th scope=col>&lt;dbl&gt;</th></tr>\n",
       "</thead>\n",
       "<tbody>\n",
       "\t<tr><th scope=row>9147</th><td>2.08865</td><td>-2.43758</td><td>2.099613</td><td>4.272634</td><td>1.234258</td></tr>\n",
       "</tbody>\n",
       "</table>\n"
      ],
      "text/latex": [
       "A data.frame: 1 × 5\n",
       "\\begin{tabular}{r|lllll}\n",
       "  & baselines & beta1 & beta2 & beta3 & beta4\\\\\n",
       "  & <dbl> & <dbl> & <dbl> & <dbl> & <dbl>\\\\\n",
       "\\hline\n",
       "\t9147 & 2.08865 & -2.43758 & 2.099613 & 4.272634 & 1.234258\\\\\n",
       "\\end{tabular}\n"
      ],
      "text/markdown": [
       "\n",
       "A data.frame: 1 × 5\n",
       "\n",
       "| <!--/--> | baselines &lt;dbl&gt; | beta1 &lt;dbl&gt; | beta2 &lt;dbl&gt; | beta3 &lt;dbl&gt; | beta4 &lt;dbl&gt; |\n",
       "|---|---|---|---|---|---|\n",
       "| 9147 | 2.08865 | -2.43758 | 2.099613 | 4.272634 | 1.234258 |\n",
       "\n"
      ],
      "text/plain": [
       "     baselines beta1    beta2    beta3    beta4   \n",
       "9147 2.08865   -2.43758 2.099613 4.272634 1.234258"
      ]
     },
     "metadata": {},
     "output_type": "display_data"
    }
   ],
   "source": [
    "coeffs[test.gene,]"
   ]
  },
  {
   "cell_type": "code",
   "execution_count": 48,
   "id": "2a50ef12",
   "metadata": {},
   "outputs": [
    {
     "data": {
      "text/plain": [
       "   user  system elapsed \n",
       " 26.990  24.276   3.950 "
      ]
     },
     "metadata": {},
     "output_type": "display_data"
    }
   ],
   "source": [
    "system.time(ml.null <- update(ml, . ~ . - guide.eff))"
   ]
  },
  {
   "cell_type": "code",
   "execution_count": 49,
   "id": "1357bb14",
   "metadata": {},
   "outputs": [
    {
     "data": {
      "text/plain": [
       "\n",
       "Call:\n",
       "glm.nb(formula = counts ~ s.score + g2m.score + percent.mito + \n",
       "    offset(log(scaling.factor)), data = gene.data, control = glm.control(maxit = 1000), \n",
       "    init.theta = 1.459805264, link = log)\n",
       "\n",
       "Deviance Residuals: \n",
       "    Min       1Q   Median       3Q      Max  \n",
       "-3.5215  -0.7006  -0.2947  -0.0233   3.5882  \n",
       "\n",
       "Coefficients:\n",
       "             Estimate Std. Error z value Pr(>|z|)    \n",
       "(Intercept)   2.08106    0.01536 135.503  < 2e-16 ***\n",
       "s.score       2.10521    0.01129 186.449  < 2e-16 ***\n",
       "g2m.score     4.27580    0.01404 304.458  < 2e-16 ***\n",
       "percent.mito  1.32939    0.29389   4.523 6.08e-06 ***\n",
       "---\n",
       "Signif. codes:  0 ‘***’ 0.001 ‘**’ 0.01 ‘*’ 0.05 ‘.’ 0.1 ‘ ’ 1\n",
       "\n",
       "(Dispersion parameter for Negative Binomial(1.4598) family taken to be 1)\n",
       "\n",
       "    Null deviance: 427029  on 49999  degrees of freedom\n",
       "Residual deviance:  35618  on 49996  degrees of freedom\n",
       "AIC: 146976\n",
       "\n",
       "Number of Fisher Scoring iterations: 1\n",
       "\n",
       "\n",
       "              Theta:  1.4598 \n",
       "          Std. Err.:  0.0188 \n",
       "\n",
       " 2 x log-likelihood:  -146965.7730 "
      ]
     },
     "metadata": {},
     "output_type": "display_data"
    }
   ],
   "source": [
    "summary(ml.null)"
   ]
  },
  {
   "cell_type": "code",
   "execution_count": 46,
   "id": "e7a79456",
   "metadata": {},
   "outputs": [
    {
     "data": {
      "text/html": [
       "<table class=\"dataframe\">\n",
       "<caption>A Anova: 2 × 8</caption>\n",
       "<thead>\n",
       "\t<tr><th scope=col>Model</th><th scope=col>theta</th><th scope=col>Resid. df</th><th scope=col>   2 x log-lik.</th><th scope=col>Test</th><th scope=col>   df</th><th scope=col>LR stat.</th><th scope=col>Pr(Chi)</th></tr>\n",
       "\t<tr><th scope=col>&lt;chr&gt;</th><th scope=col>&lt;dbl&gt;</th><th scope=col>&lt;int&gt;</th><th scope=col>&lt;dbl&gt;</th><th scope=col>&lt;chr&gt;</th><th scope=col>&lt;int&gt;</th><th scope=col>&lt;dbl&gt;</th><th scope=col>&lt;dbl&gt;</th></tr>\n",
       "</thead>\n",
       "<tbody>\n",
       "\t<tr><td>s.score + g2m.score + percent.mito + offset(log(scaling.factor))            </td><td>1.498058</td><td>49996</td><td>-265706.6</td><td>      </td><td>NA</td><td>      NA</td><td>NA</td></tr>\n",
       "\t<tr><td>guide.eff + s.score + g2m.score + percent.mito + offset(log(scaling.factor))</td><td>1.519825</td><td>49995</td><td>-265202.3</td><td>1 vs 2</td><td> 1</td><td>504.3002</td><td> 0</td></tr>\n",
       "</tbody>\n",
       "</table>\n"
      ],
      "text/latex": [
       "A Anova: 2 × 8\n",
       "\\begin{tabular}{llllllll}\n",
       " Model & theta & Resid. df &    2 x log-lik. & Test &    df & LR stat. & Pr(Chi)\\\\\n",
       " <chr> & <dbl> & <int> & <dbl> & <chr> & <int> & <dbl> & <dbl>\\\\\n",
       "\\hline\n",
       "\t s.score + g2m.score + percent.mito + offset(log(scaling.factor))             & 1.498058 & 49996 & -265706.6 &        & NA &       NA & NA\\\\\n",
       "\t guide.eff + s.score + g2m.score + percent.mito + offset(log(scaling.factor)) & 1.519825 & 49995 & -265202.3 & 1 vs 2 &  1 & 504.3002 &  0\\\\\n",
       "\\end{tabular}\n"
      ],
      "text/markdown": [
       "\n",
       "A Anova: 2 × 8\n",
       "\n",
       "| Model &lt;chr&gt; | theta &lt;dbl&gt; | Resid. df &lt;int&gt; |    2 x log-lik. &lt;dbl&gt; | Test &lt;chr&gt; |    df &lt;int&gt; | LR stat. &lt;dbl&gt; | Pr(Chi) &lt;dbl&gt; |\n",
       "|---|---|---|---|---|---|---|---|\n",
       "| s.score + g2m.score + percent.mito + offset(log(scaling.factor))             | 1.498058 | 49996 | -265706.6 | <!----> | NA |       NA | NA |\n",
       "| guide.eff + s.score + g2m.score + percent.mito + offset(log(scaling.factor)) | 1.519825 | 49995 | -265202.3 | 1 vs 2 |  1 | 504.3002 |  0 |\n",
       "\n"
      ],
      "text/plain": [
       "  Model                                                                       \n",
       "1 s.score + g2m.score + percent.mito + offset(log(scaling.factor))            \n",
       "2 guide.eff + s.score + g2m.score + percent.mito + offset(log(scaling.factor))\n",
       "  theta    Resid. df    2 x log-lik. Test      df LR stat. Pr(Chi)\n",
       "1 1.498058 49996     -265706.6              NA          NA NA     \n",
       "2 1.519825 49995     -265202.3       1 vs 2  1    504.3002  0     "
      ]
     },
     "metadata": {},
     "output_type": "display_data"
    }
   ],
   "source": [
    "anova(ml, ml.null)"
   ]
  },
  {
   "cell_type": "code",
   "execution_count": 50,
   "id": "c5b1b940",
   "metadata": {},
   "outputs": [
    {
     "data": {
      "text/html": [
       "TRUE"
      ],
      "text/latex": [
       "TRUE"
      ],
      "text/markdown": [
       "TRUE"
      ],
      "text/plain": [
       "[1] TRUE"
      ]
     },
     "metadata": {},
     "output_type": "display_data"
    }
   ],
   "source": [
    "ml$aic<ml.null$aic"
   ]
  },
  {
   "cell_type": "code",
   "execution_count": 51,
   "id": "b1279f56",
   "metadata": {},
   "outputs": [
    {
     "data": {
      "text/html": [
       "<table class=\"dataframe\">\n",
       "<caption>A tibble: 5 × 5</caption>\n",
       "<thead>\n",
       "\t<tr><th scope=col>term</th><th scope=col>estimate</th><th scope=col>std.error</th><th scope=col>statistic</th><th scope=col>p.value</th></tr>\n",
       "\t<tr><th scope=col>&lt;chr&gt;</th><th scope=col>&lt;dbl&gt;</th><th scope=col>&lt;dbl&gt;</th><th scope=col>&lt;dbl&gt;</th><th scope=col>&lt;dbl&gt;</th></tr>\n",
       "</thead>\n",
       "<tbody>\n",
       "\t<tr><td>(Intercept) </td><td> 2.086457</td><td>0.01529001</td><td>136.458824</td><td>0.000000e+00</td></tr>\n",
       "\t<tr><td>guide.eff   </td><td>-2.345258</td><td>0.12112778</td><td>-19.361850</td><td>1.619625e-83</td></tr>\n",
       "\t<tr><td>s.score     </td><td> 2.105899</td><td>0.01122688</td><td>187.576427</td><td>0.000000e+00</td></tr>\n",
       "\t<tr><td>g2m.score   </td><td> 4.277001</td><td>0.01397204</td><td>306.111480</td><td>0.000000e+00</td></tr>\n",
       "\t<tr><td>percent.mito</td><td> 1.313722</td><td>0.29221067</td><td>  4.495804</td><td>6.930759e-06</td></tr>\n",
       "</tbody>\n",
       "</table>\n"
      ],
      "text/latex": [
       "A tibble: 5 × 5\n",
       "\\begin{tabular}{lllll}\n",
       " term & estimate & std.error & statistic & p.value\\\\\n",
       " <chr> & <dbl> & <dbl> & <dbl> & <dbl>\\\\\n",
       "\\hline\n",
       "\t (Intercept)  &  2.086457 & 0.01529001 & 136.458824 & 0.000000e+00\\\\\n",
       "\t guide.eff    & -2.345258 & 0.12112778 & -19.361850 & 1.619625e-83\\\\\n",
       "\t s.score      &  2.105899 & 0.01122688 & 187.576427 & 0.000000e+00\\\\\n",
       "\t g2m.score    &  4.277001 & 0.01397204 & 306.111480 & 0.000000e+00\\\\\n",
       "\t percent.mito &  1.313722 & 0.29221067 &   4.495804 & 6.930759e-06\\\\\n",
       "\\end{tabular}\n"
      ],
      "text/markdown": [
       "\n",
       "A tibble: 5 × 5\n",
       "\n",
       "| term &lt;chr&gt; | estimate &lt;dbl&gt; | std.error &lt;dbl&gt; | statistic &lt;dbl&gt; | p.value &lt;dbl&gt; |\n",
       "|---|---|---|---|---|\n",
       "| (Intercept)  |  2.086457 | 0.01529001 | 136.458824 | 0.000000e+00 |\n",
       "| guide.eff    | -2.345258 | 0.12112778 | -19.361850 | 1.619625e-83 |\n",
       "| s.score      |  2.105899 | 0.01122688 | 187.576427 | 0.000000e+00 |\n",
       "| g2m.score    |  4.277001 | 0.01397204 | 306.111480 | 0.000000e+00 |\n",
       "| percent.mito |  1.313722 | 0.29221067 |   4.495804 | 6.930759e-06 |\n",
       "\n"
      ],
      "text/plain": [
       "  term         estimate  std.error  statistic  p.value     \n",
       "1 (Intercept)   2.086457 0.01529001 136.458824 0.000000e+00\n",
       "2 guide.eff    -2.345258 0.12112778 -19.361850 1.619625e-83\n",
       "3 s.score       2.105899 0.01122688 187.576427 0.000000e+00\n",
       "4 g2m.score     4.277001 0.01397204 306.111480 0.000000e+00\n",
       "5 percent.mito  1.313722 0.29221067   4.495804 6.930759e-06"
      ]
     },
     "metadata": {},
     "output_type": "display_data"
    }
   ],
   "source": [
    "tidy(ml)"
   ]
  },
  {
   "cell_type": "markdown",
   "id": "0a8b3a53",
   "metadata": {},
   "source": [
    "### Test with R `optim()`"
   ]
  },
  {
   "cell_type": "code",
   "execution_count": 80,
   "id": "1f9bbb2f",
   "metadata": {},
   "outputs": [],
   "source": [
    "fit_alt <- function(par, counts, x1, x2, x3, scale){\n",
    "    # par[1:4] = beta0, beta1 (enhancer effect), beta2 (S score), beta3 (G2M score)\n",
    "    # par[5] = sqrt(disp)\n",
    "    # counts = observed counts for gene\n",
    "    # x1 = indicator variable for whether gRNA(s) targeting enhancer have effect \n",
    "    # x2 = S cycle scores\n",
    "    # x3 = G2M cycle scores \n",
    "    # scale = scaling factor\n",
    "    beta0 <- par[1]\n",
    "    beta1 <- par[2]\n",
    "    beta2 <- par[3]\n",
    "    beta3 <- par[4]\n",
    "    d <- par[5]^2\n",
    "    mu <- scale*exp(beta0 + beta1*x1 + beta2*x2 + beta3*x3)\n",
    "    print(mu)\n",
    "    -sum(dnbinom(counts, mu = mu, size = d, log = T))\n",
    "}\n",
    "\n",
    "fit_null <- function(par, counts, x2, x3, scale){\n",
    "    # par[1:3] = beta0, beta2 (S score), beta3 (G2M score)\n",
    "    # par[4] = sqrt(disp)\n",
    "    # counts = observed counts for gene\n",
    "    # x2 = S cycle scores\n",
    "    # x3 = G2M cycle scores \n",
    "    # scale = scaling factor\n",
    "    beta0 <- par[1]\n",
    "    beta2 <- par[2]\n",
    "    beta3 <- par[3]\n",
    "    d <- par[4]^2\n",
    "    mu <- scale*exp(beta0 + beta2*x2 + beta3*x3)\n",
    "    print(mu)\n",
    "    -sum(dnbinom(counts, mu = mu, size = d, log = T))\n",
    "}"
   ]
  },
  {
   "cell_type": "code",
   "execution_count": 93,
   "id": "40a999aa",
   "metadata": {},
   "outputs": [
    {
     "name": "stderr",
     "output_type": "stream",
     "text": [
      "IOPub data rate exceeded.\n",
      "The notebook server will temporarily stop sending output\n",
      "to the client in order to avoid crashing it.\n",
      "To change this limit, set the config variable\n",
      "`--NotebookApp.iopub_data_rate_limit`.\n",
      "\n",
      "Current values:\n",
      "NotebookApp.iopub_data_rate_limit=1000000.0 (bytes/sec)\n",
      "NotebookApp.rate_limit_window=3.0 (secs)\n",
      "\n",
      "Timing stopped at: 1483 34.08 1517\n",
      "\n"
     ]
    }
   ],
   "source": [
    "system.time(optim.alt <- optim(c(1,1,1,1,1), fit_alt, \n",
    "                   counts = obs.counts, \n",
    "                   x1 = as.integer(h5read(file = fh, name = \"x/x1\", index = list(test.gene, 1:50000))),\n",
    "                   x2 = cell.cycle.scores$s.scores,\n",
    "                   x3 = cell.cycle.scores$g2m.scores,\n",
    "                   scale = scaling.factors, method= 'L-BFGS-B'))\n",
    "print(optim.alt)"
   ]
  },
  {
   "cell_type": "markdown",
   "id": "171da96e",
   "metadata": {},
   "source": [
    "# Define modeling function "
   ]
  },
  {
   "cell_type": "code",
   "execution_count": 65,
   "id": "dd8fb1e9",
   "metadata": {},
   "outputs": [],
   "source": [
    "model.alt <- function(gene, h5=fh, cycle = cell.cycle.scores, mito = percent.mito, scale = scaling.factors, \n",
    "                      max.iters = 1000, verbose = FALSE) {\n",
    "    if (verbose) {\n",
    "        cat(sprintf(\"modeling gene %d\\n\",gene))\n",
    "    }\n",
    "    print(maxit)\n",
    "    obs.counts <- h5read(file = h5, name = \"counts\", index = list(gene, 1:50000))\n",
    "    gene.data <- data.frame(guide.eff = as.integer(h5read(file = h5, name = \"x/x1\", index = list(gene, 1:50000))),\n",
    "                       s.score = cycle$s.scores,\n",
    "                       g2m.score = cycle$g2m.scores,\n",
    "                        percent.mito = mito,\n",
    "                       counts = as.integer(obs.counts),\n",
    "                       scaling.factor = scale)\n",
    "    ml <- glm.nb(counts ~ guide.eff + s.score + g2m.score + percent.mito + offset(log(scaling.factor)), \n",
    "                         data = gene.data,\n",
    "                        control = glm.control(maxit = max.iters, trace = verbose))\n",
    "    return(ml)\n",
    "}"
   ]
  },
  {
   "cell_type": "markdown",
   "id": "e3984717",
   "metadata": {},
   "source": [
    "# Test for all target genes\n",
    "\n",
    "E.g. the 2000 genes in our simulated data whose enhancers are targeted by gRNAs in our library "
   ]
  },
  {
   "cell_type": "code",
   "execution_count": 66,
   "id": "95981cfa",
   "metadata": {},
   "outputs": [
    {
     "name": "stdout",
     "output_type": "stream",
     "text": [
      "[1] 11834\n",
      "modeling gene 11834\n",
      "[1] 1000\n"
     ]
    },
    {
     "name": "stderr",
     "output_type": "stream",
     "text": [
      "Theta(1) = 1.398730, 2(Ls - Lm) = 29389.400000\n",
      "\n",
      "Theta(2) = 1.477700, 2(Ls - Lm) = 30060.200000\n",
      "\n",
      "Theta(3) = 1.477700, 2(Ls - Lm) = 30060.200000\n",
      "\n",
      "Theta(4) = 1.477710, 2(Ls - Lm) = 30060.200000\n",
      "\n",
      "Theta(5) = 1.477710, 2(Ls - Lm) = 30060.200000\n",
      "\n"
     ]
    },
    {
     "ename": "ERROR",
     "evalue": "Error in glm.control(maxit = maxit, trace = verbose): object 'maxit' not found\n",
     "output_type": "error",
     "traceback": [
      "Error in glm.control(maxit = maxit, trace = verbose): object 'maxit' not found\nTraceback:\n",
      "1. system.time(for (gene in guides.metadata$target.gene[1:5]) {\n .     print(gene)\n .     ml <- model.alt(gene, verbose = TRUE)\n .     ml.null <- update(ml, . ~ . - guide.eff)\n .     ml.list[[gene]] <- ml\n .     ml.null.list[[gene]] <- ml.null\n . })",
      "2. update(ml, . ~ . - guide.eff)",
      "3. update.default(ml, . ~ . - guide.eff)",
      "4. eval(call, parent.frame())",
      "5. eval(call, parent.frame())",
      "6. glm.nb(formula = counts ~ s.score + g2m.score + percent.mito + \n .     offset(log(scaling.factor)), data = gene.data, control = glm.control(maxit = maxit, \n .     trace = verbose), init.theta = 1.477708385, link = log)",
      "7. glm.control(maxit = maxit, trace = verbose)"
     ]
    },
    {
     "name": "stderr",
     "output_type": "stream",
     "text": [
      "Timing stopped at: 39.5 34.97 6.436\n",
      "\n"
     ]
    }
   ],
   "source": [
    "ml.list <- list()\n",
    "ml.null.list <- list()\n",
    "\n",
    "system.time(\n",
    "# for (gene in 1:nrow(coeffs)) {\n",
    "for (gene in guides.metadata$target.gene[1:5]) {\n",
    "    print(gene)\n",
    "    ml <- model.alt(gene, verbose = TRUE)\n",
    "    ml.null <- update(ml, . ~ . - guide.eff)\n",
    "    ml.list[[gene]] <- ml\n",
    "    ml.null.list[[gene]] <- ml.null\n",
    "}\n",
    ")\n",
    "\n"
   ]
  },
  {
   "cell_type": "code",
   "execution_count": 56,
   "id": "2e7cfc12",
   "metadata": {},
   "outputs": [
    {
     "data": {
      "text/html": [
       "<table class=\"dataframe\">\n",
       "<caption>A matrix: 1 × 50000 of type int</caption>\n",
       "<tbody>\n",
       "\t<tr><td>21860</td><td>48</td><td>191</td><td>246</td><td>0</td><td>833</td><td>1689</td><td>45</td><td>69568</td><td>0</td><td>⋯</td><td>6979</td><td>1384114</td><td>0</td><td>0</td><td>0</td><td>3751</td><td>0</td><td>399949</td><td>178</td><td>69</td></tr>\n",
       "</tbody>\n",
       "</table>\n"
      ],
      "text/latex": [
       "A matrix: 1 × 50000 of type int\n",
       "\\begin{tabular}{lllllllllllllllllllll}\n",
       "\t 21860 & 48 & 191 & 246 & 0 & 833 & 1689 & 45 & 69568 & 0 & ⋯ & 6979 & 1384114 & 0 & 0 & 0 & 3751 & 0 & 399949 & 178 & 69\\\\\n",
       "\\end{tabular}\n"
      ],
      "text/markdown": [
       "\n",
       "A matrix: 1 × 50000 of type int\n",
       "\n",
       "| 21860 | 48 | 191 | 246 | 0 | 833 | 1689 | 45 | 69568 | 0 | ⋯ | 6979 | 1384114 | 0 | 0 | 0 | 3751 | 0 | 399949 | 178 | 69 |\n",
       "\n"
      ],
      "text/plain": [
       "     [,1]  [,2] [,3] [,4] [,5] [,6] [,7] [,8] [,9]  [,10] [,11] [,12] [,13]  \n",
       "[1,] 21860 48   191  246  0    833  1689 45   69568 0     ⋯     6979  1384114\n",
       "     [,14] [,15] [,16] [,17] [,18] [,19]  [,20] [,21]\n",
       "[1,] 0     0     0     3751  0     399949 178   69   "
      ]
     },
     "metadata": {},
     "output_type": "display_data"
    }
   ],
   "source": [
    "test <- h5read(file = fh, name = \"counts\", index = list(7287, 1:50000))\n",
    "test"
   ]
  },
  {
   "cell_type": "code",
   "execution_count": 58,
   "id": "9678841b",
   "metadata": {},
   "outputs": [
    {
     "data": {
      "image/png": "[encoded data removed]",
      "text/plain": [
       "Plot with title “Histogram of test”"
      ]
     },
     "metadata": {
      "image/png": {
       "height": 420,
       "width": 420
      }
     },
     "output_type": "display_data"
    }
   ],
   "source": [
    "hist(test)"
   ]
  },
  {
   "cell_type": "code",
   "execution_count": 69,
   "id": "41a19f37",
   "metadata": {},
   "outputs": [
    {
     "data": {
      "image/png": "[encoded data removed]",
      "text/plain": [
       "Plot with title “Histogram of h5read(file = fh, name = \"counts\", index = list(306, 1:50000))”"
      ]
     },
     "metadata": {
      "image/png": {
       "height": 420,
       "width": 420
      }
     },
     "output_type": "display_data"
    }
   ],
   "source": [
    "hist(h5read(file = fh, name = \"counts\", index = list(306, 1:50000)))"
   ]
  },
  {
   "cell_type": "code",
   "execution_count": 70,
   "id": "16edbcef",
   "metadata": {},
   "outputs": [
    {
     "data": {
      "text/html": [
       "4377173532"
      ],
      "text/latex": [
       "4377173532"
      ],
      "text/markdown": [
       "4377173532"
      ],
      "text/plain": [
       "[1] 4377173532"
      ]
     },
     "metadata": {},
     "output_type": "display_data"
    }
   ],
   "source": [
    "sum(h5read(file = fh, name = \"counts\", index = list(306, 1:50000)))"
   ]
  },
  {
   "cell_type": "code",
   "execution_count": 72,
   "id": "8c4bd76e",
   "metadata": {},
   "outputs": [
    {
     "data": {
      "text/html": [
       "<table class=\"dataframe\">\n",
       "<caption>A matrix: 1 × 50000 of type int</caption>\n",
       "<tbody>\n",
       "\t<tr><td>0</td><td>0</td><td>0</td><td>19</td><td>0</td><td>0</td><td>0</td><td>8</td><td>0</td><td>0</td><td>⋯</td><td>0</td><td>1</td><td>1</td><td>2</td><td>0</td><td>1823</td><td>6</td><td>0</td><td>0</td><td>199628</td></tr>\n",
       "</tbody>\n",
       "</table>\n"
      ],
      "text/latex": [
       "A matrix: 1 × 50000 of type int\n",
       "\\begin{tabular}{lllllllllllllllllllll}\n",
       "\t 0 & 0 & 0 & 19 & 0 & 0 & 0 & 8 & 0 & 0 & ⋯ & 0 & 1 & 1 & 2 & 0 & 1823 & 6 & 0 & 0 & 199628\\\\\n",
       "\\end{tabular}\n"
      ],
      "text/markdown": [
       "\n",
       "A matrix: 1 × 50000 of type int\n",
       "\n",
       "| 0 | 0 | 0 | 19 | 0 | 0 | 0 | 8 | 0 | 0 | ⋯ | 0 | 1 | 1 | 2 | 0 | 1823 | 6 | 0 | 0 | 199628 |\n",
       "\n"
      ],
      "text/plain": [
       "     [,1] [,2] [,3] [,4] [,5] [,6] [,7] [,8] [,9] [,10] [,11] [,12] [,13] [,14]\n",
       "[1,] 0    0    0    19   0    0    0    8    0    0     ⋯     0     1     1    \n",
       "     [,15] [,16] [,17] [,18] [,19] [,20] [,21] \n",
       "[1,] 2     0     1823  6     0     0     199628"
      ]
     },
     "metadata": {},
     "output_type": "display_data"
    }
   ],
   "source": [
    "h5read(file = fh, name = \"counts\", index = list(306, 1:50000))"
   ]
  },
  {
   "cell_type": "code",
   "execution_count": null,
   "id": "c953b70e",
   "metadata": {},
   "outputs": [],
   "source": []
  }
 ],
 "metadata": {
  "kernelspec": {
   "display_name": "R [conda env:crisprqtl]",
   "language": "R",
   "name": "conda-env-crisprqtl-r"
  },
  "language_info": {
   "codemirror_mode": "r",
   "file_extension": ".r",
   "mimetype": "text/x-r-source",
   "name": "R",
   "pygments_lexer": "r",
   "version": "4.1.3"
  }
 },
 "nbformat": 4,
 "nbformat_minor": 5
}
