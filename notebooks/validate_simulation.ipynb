{
 "cells": [
  {
   "cell_type": "code",
   "execution_count": 45,
   "id": "d13fe51c",
   "metadata": {
    "vscode": {
     "languageId": "r"
    }
   },
   "outputs": [
    {
     "name": "stderr",
     "output_type": "stream",
     "text": [
      "\n",
      "Attaching package: ‘ggplot2’\n",
      "\n",
      "\n",
      "The following object is masked from ‘package:latticeExtra’:\n",
      "\n",
      "    layer\n",
      "\n",
      "\n"
     ]
    }
   ],
   "source": [
    "library(rhdf5)\n",
    "library(MASS)\n",
    "# library(BoutrosLab.plotting.general)\n",
    "library(ggplot2)"
   ]
  },
  {
   "cell_type": "markdown",
   "id": "df3aa47b",
   "metadata": {},
   "source": [
    "# Test reading h5 and accessing data"
   ]
  },
  {
   "cell_type": "code",
   "execution_count": 38,
   "id": "1fbd7eae",
   "metadata": {
    "vscode": {
     "languageId": "r"
    }
   },
   "outputs": [],
   "source": [
    "fh <- \"/iblm/netapp/data1/jezhou/crisprQTL/simulated_data_4guides_discrete_and_continuous/sim.h5\""
   ]
  },
  {
   "cell_type": "markdown",
   "id": "b4354757",
   "metadata": {},
   "source": [
    "Get internal structure of h5 file"
   ]
  },
  {
   "cell_type": "code",
   "execution_count": 39,
   "id": "2280419f",
   "metadata": {
    "vscode": {
     "languageId": "r"
    }
   },
   "outputs": [
    {
     "data": {
      "text/html": [
       "<table class=\"dataframe\">\n",
       "<caption>A data.frame: 21 × 5</caption>\n",
       "<thead>\n",
       "\t<tr><th></th><th scope=col>group</th><th scope=col>name</th><th scope=col>otype</th><th scope=col>dclass</th><th scope=col>dim</th></tr>\n",
       "\t<tr><th></th><th scope=col>&lt;chr&gt;</th><th scope=col>&lt;chr&gt;</th><th scope=col>&lt;chr&gt;</th><th scope=col>&lt;chr&gt;</th><th scope=col>&lt;chr&gt;</th></tr>\n",
       "</thead>\n",
       "<tbody>\n",
       "\t<tr><th scope=row>0</th><td>/                </td><td>coeffs             </td><td>H5I_DATASET</td><td>COMPOUND</td><td>13000        </td></tr>\n",
       "\t<tr><th scope=row>1</th><td>/                </td><td>counts             </td><td>H5I_GROUP  </td><td>        </td><td>             </td></tr>\n",
       "\t<tr><th scope=row>2</th><td>/counts          </td><td>continuous         </td><td>H5I_DATASET</td><td>INTEGER </td><td>13000 x 50000</td></tr>\n",
       "\t<tr><th scope=row>3</th><td>/counts          </td><td>discrete           </td><td>H5I_DATASET</td><td>INTEGER </td><td>13000 x 50000</td></tr>\n",
       "\t<tr><th scope=row>4</th><td>/                </td><td>guides             </td><td>H5I_GROUP  </td><td>        </td><td>             </td></tr>\n",
       "\t<tr><th scope=row>5</th><td>/guides          </td><td>est_efficiency_D10 </td><td>H5I_DATASET</td><td>FLOAT   </td><td>4000         </td></tr>\n",
       "\t<tr><th scope=row>6</th><td>/guides          </td><td>est_efficiency_D100</td><td>H5I_DATASET</td><td>FLOAT   </td><td>4000         </td></tr>\n",
       "\t<tr><th scope=row>7</th><td>/guides          </td><td>metadata           </td><td>H5I_DATASET</td><td>COMPOUND</td><td>4000         </td></tr>\n",
       "\t<tr><th scope=row>8</th><td>/guides          </td><td>one_hot            </td><td>H5I_DATASET</td><td>INTEGER </td><td>50000 x 4000 </td></tr>\n",
       "\t<tr><th scope=row>9</th><td>/                </td><td>linear_predictor   </td><td>H5I_GROUP  </td><td>        </td><td>             </td></tr>\n",
       "\t<tr><th scope=row>10</th><td>/linear_predictor</td><td>continuous         </td><td>H5I_DATASET</td><td>FLOAT   </td><td>13000 x 50000</td></tr>\n",
       "\t<tr><th scope=row>11</th><td>/linear_predictor</td><td>discrete           </td><td>H5I_DATASET</td><td>FLOAT   </td><td>13000 x 50000</td></tr>\n",
       "\t<tr><th scope=row>12</th><td>/                </td><td>mu                 </td><td>H5I_GROUP  </td><td>        </td><td>             </td></tr>\n",
       "\t<tr><th scope=row>13</th><td>/mu              </td><td>continuous         </td><td>H5I_DATASET</td><td>FLOAT   </td><td>13000 x 50000</td></tr>\n",
       "\t<tr><th scope=row>14</th><td>/mu              </td><td>discrete           </td><td>H5I_DATASET</td><td>FLOAT   </td><td>13000 x 50000</td></tr>\n",
       "\t<tr><th scope=row>15</th><td>/                </td><td>scaling_factors    </td><td>H5I_DATASET</td><td>FLOAT   </td><td>50000        </td></tr>\n",
       "\t<tr><th scope=row>16</th><td>/                </td><td>x                  </td><td>H5I_GROUP  </td><td>        </td><td>             </td></tr>\n",
       "\t<tr><th scope=row>17</th><td>/x               </td><td>cell_cycle_scores  </td><td>H5I_DATASET</td><td>COMPOUND</td><td>50000        </td></tr>\n",
       "\t<tr><th scope=row>18</th><td>/x               </td><td>percent_mito       </td><td>H5I_DATASET</td><td>FLOAT   </td><td>50000        </td></tr>\n",
       "\t<tr><th scope=row>19</th><td>/x               </td><td>x1_continuous      </td><td>H5I_DATASET</td><td>FLOAT   </td><td>13000 x 50000</td></tr>\n",
       "\t<tr><th scope=row>20</th><td>/x               </td><td>x1_discrete        </td><td>H5I_DATASET</td><td>INTEGER </td><td>13000 x 50000</td></tr>\n",
       "</tbody>\n",
       "</table>\n"
      ],
      "text/latex": [
       "A data.frame: 21 × 5\n",
       "\\begin{tabular}{r|lllll}\n",
       "  & group & name & otype & dclass & dim\\\\\n",
       "  & <chr> & <chr> & <chr> & <chr> & <chr>\\\\\n",
       "\\hline\n",
       "\t0 & /                 & coeffs              & H5I\\_DATASET & COMPOUND & 13000        \\\\\n",
       "\t1 & /                 & counts              & H5I\\_GROUP   &          &              \\\\\n",
       "\t2 & /counts           & continuous          & H5I\\_DATASET & INTEGER  & 13000 x 50000\\\\\n",
       "\t3 & /counts           & discrete            & H5I\\_DATASET & INTEGER  & 13000 x 50000\\\\\n",
       "\t4 & /                 & guides              & H5I\\_GROUP   &          &              \\\\\n",
       "\t5 & /guides           & est\\_efficiency\\_D10  & H5I\\_DATASET & FLOAT    & 4000         \\\\\n",
       "\t6 & /guides           & est\\_efficiency\\_D100 & H5I\\_DATASET & FLOAT    & 4000         \\\\\n",
       "\t7 & /guides           & metadata            & H5I\\_DATASET & COMPOUND & 4000         \\\\\n",
       "\t8 & /guides           & one\\_hot             & H5I\\_DATASET & INTEGER  & 50000 x 4000 \\\\\n",
       "\t9 & /                 & linear\\_predictor    & H5I\\_GROUP   &          &              \\\\\n",
       "\t10 & /linear\\_predictor & continuous          & H5I\\_DATASET & FLOAT    & 13000 x 50000\\\\\n",
       "\t11 & /linear\\_predictor & discrete            & H5I\\_DATASET & FLOAT    & 13000 x 50000\\\\\n",
       "\t12 & /                 & mu                  & H5I\\_GROUP   &          &              \\\\\n",
       "\t13 & /mu               & continuous          & H5I\\_DATASET & FLOAT    & 13000 x 50000\\\\\n",
       "\t14 & /mu               & discrete            & H5I\\_DATASET & FLOAT    & 13000 x 50000\\\\\n",
       "\t15 & /                 & scaling\\_factors     & H5I\\_DATASET & FLOAT    & 50000        \\\\\n",
       "\t16 & /                 & x                   & H5I\\_GROUP   &          &              \\\\\n",
       "\t17 & /x                & cell\\_cycle\\_scores   & H5I\\_DATASET & COMPOUND & 50000        \\\\\n",
       "\t18 & /x                & percent\\_mito        & H5I\\_DATASET & FLOAT    & 50000        \\\\\n",
       "\t19 & /x                & x1\\_continuous       & H5I\\_DATASET & FLOAT    & 13000 x 50000\\\\\n",
       "\t20 & /x                & x1\\_discrete         & H5I\\_DATASET & INTEGER  & 13000 x 50000\\\\\n",
       "\\end{tabular}\n"
      ],
      "text/markdown": [
       "\n",
       "A data.frame: 21 × 5\n",
       "\n",
       "| <!--/--> | group &lt;chr&gt; | name &lt;chr&gt; | otype &lt;chr&gt; | dclass &lt;chr&gt; | dim &lt;chr&gt; |\n",
       "|---|---|---|---|---|---|\n",
       "| 0 | /                 | coeffs              | H5I_DATASET | COMPOUND | 13000         |\n",
       "| 1 | /                 | counts              | H5I_GROUP   | <!----> | <!----> |\n",
       "| 2 | /counts           | continuous          | H5I_DATASET | INTEGER  | 13000 x 50000 |\n",
       "| 3 | /counts           | discrete            | H5I_DATASET | INTEGER  | 13000 x 50000 |\n",
       "| 4 | /                 | guides              | H5I_GROUP   | <!----> | <!----> |\n",
       "| 5 | /guides           | est_efficiency_D10  | H5I_DATASET | FLOAT    | 4000          |\n",
       "| 6 | /guides           | est_efficiency_D100 | H5I_DATASET | FLOAT    | 4000          |\n",
       "| 7 | /guides           | metadata            | H5I_DATASET | COMPOUND | 4000          |\n",
       "| 8 | /guides           | one_hot             | H5I_DATASET | INTEGER  | 50000 x 4000  |\n",
       "| 9 | /                 | linear_predictor    | H5I_GROUP   | <!----> | <!----> |\n",
       "| 10 | /linear_predictor | continuous          | H5I_DATASET | FLOAT    | 13000 x 50000 |\n",
       "| 11 | /linear_predictor | discrete            | H5I_DATASET | FLOAT    | 13000 x 50000 |\n",
       "| 12 | /                 | mu                  | H5I_GROUP   | <!----> | <!----> |\n",
       "| 13 | /mu               | continuous          | H5I_DATASET | FLOAT    | 13000 x 50000 |\n",
       "| 14 | /mu               | discrete            | H5I_DATASET | FLOAT    | 13000 x 50000 |\n",
       "| 15 | /                 | scaling_factors     | H5I_DATASET | FLOAT    | 50000         |\n",
       "| 16 | /                 | x                   | H5I_GROUP   | <!----> | <!----> |\n",
       "| 17 | /x                | cell_cycle_scores   | H5I_DATASET | COMPOUND | 50000         |\n",
       "| 18 | /x                | percent_mito        | H5I_DATASET | FLOAT    | 50000         |\n",
       "| 19 | /x                | x1_continuous       | H5I_DATASET | FLOAT    | 13000 x 50000 |\n",
       "| 20 | /x                | x1_discrete         | H5I_DATASET | INTEGER  | 13000 x 50000 |\n",
       "\n"
      ],
      "text/plain": [
       "   group             name                otype       dclass   dim          \n",
       "0  /                 coeffs              H5I_DATASET COMPOUND 13000        \n",
       "1  /                 counts              H5I_GROUP                         \n",
       "2  /counts           continuous          H5I_DATASET INTEGER  13000 x 50000\n",
       "3  /counts           discrete            H5I_DATASET INTEGER  13000 x 50000\n",
       "4  /                 guides              H5I_GROUP                         \n",
       "5  /guides           est_efficiency_D10  H5I_DATASET FLOAT    4000         \n",
       "6  /guides           est_efficiency_D100 H5I_DATASET FLOAT    4000         \n",
       "7  /guides           metadata            H5I_DATASET COMPOUND 4000         \n",
       "8  /guides           one_hot             H5I_DATASET INTEGER  50000 x 4000 \n",
       "9  /                 linear_predictor    H5I_GROUP                         \n",
       "10 /linear_predictor continuous          H5I_DATASET FLOAT    13000 x 50000\n",
       "11 /linear_predictor discrete            H5I_DATASET FLOAT    13000 x 50000\n",
       "12 /                 mu                  H5I_GROUP                         \n",
       "13 /mu               continuous          H5I_DATASET FLOAT    13000 x 50000\n",
       "14 /mu               discrete            H5I_DATASET FLOAT    13000 x 50000\n",
       "15 /                 scaling_factors     H5I_DATASET FLOAT    50000        \n",
       "16 /                 x                   H5I_GROUP                         \n",
       "17 /x                cell_cycle_scores   H5I_DATASET COMPOUND 50000        \n",
       "18 /x                percent_mito        H5I_DATASET FLOAT    50000        \n",
       "19 /x                x1_continuous       H5I_DATASET FLOAT    13000 x 50000\n",
       "20 /x                x1_discrete         H5I_DATASET INTEGER  13000 x 50000"
      ]
     },
     "metadata": {},
     "output_type": "display_data"
    }
   ],
   "source": [
    "h5ls(fh)"
   ]
  },
  {
   "cell_type": "markdown",
   "id": "d404d107",
   "metadata": {},
   "source": [
    "# Plot row sums of discrete vs. continuous $X_1$ matrix"
   ]
  },
  {
   "cell_type": "code",
   "execution_count": 42,
   "id": "65405ce0",
   "metadata": {},
   "outputs": [],
   "source": [
    "x1.dis.rowsums <- rowSums(h5read(file = fh, name = \"x/x1_discrete\"))\n",
    "x1.cont.rowsums <- rowSums(h5read(file = fh, name = \"x/x1_continuous\"))"
   ]
  },
  {
   "cell_type": "code",
   "execution_count": 52,
   "id": "05526ec4",
   "metadata": {},
   "outputs": [
    {
     "data": {
      "image/png": "[encoded data removed]",
      "text/plain": [
       "plot without title"
      ]
     },
     "metadata": {
      "image/png": {
       "height": 420,
       "width": 420
      }
     },
     "output_type": "display_data"
    }
   ],
   "source": [
    "x1.rowsums.df <- data.frame(discrete = x1.dis.rowsums, continuous = x1.cont.rowsums)\n",
    "\n",
    "x1.scatter <- ggplot(x1.rowsums.df, aes(x = discrete, y = continuous)) + geom_point() + \n",
    "                theme_classic() + theme(text = element_text(size = 20)) + ggtitle(\"X1 (rowsums)\")\n",
    "\n",
    "x1.scatter"
   ]
  },
  {
   "cell_type": "code",
   "execution_count": 57,
   "id": "7af97a30",
   "metadata": {},
   "outputs": [
    {
     "data": {
      "text/html": [
       "<strong>png:</strong> 2"
      ],
      "text/latex": [
       "\\textbf{png:} 2"
      ],
      "text/markdown": [
       "**png:** 2"
      ],
      "text/plain": [
       "png \n",
       "  2 "
      ]
     },
     "metadata": {},
     "output_type": "display_data"
    }
   ],
   "source": [
    "tiff(\"/iblm/netapp/data1/jezhou/crisprQTL/simulated_data_4guides_discrete_and_continuous/x1_scatterplot.tiff\",\n",
    "    res = 300, units = \"in\", height = 6, width = 6)\n",
    "print(x1.scatter)\n",
    "dev.off()"
   ]
  },
  {
   "cell_type": "markdown",
   "id": "53bb303e",
   "metadata": {},
   "source": [
    "# Load fixed values\n",
    "\n",
    "Coefficients (ground truth for evaluating model performance) \n",
    "\n",
    "Cell cycle scores (same for every gene)"
   ]
  },
  {
   "cell_type": "code",
   "execution_count": 58,
   "id": "243b4154",
   "metadata": {
    "vscode": {
     "languageId": "r"
    }
   },
   "outputs": [],
   "source": [
    "coeffs <- h5read(file = fh, name = \"coeffs\")\n",
    "cell.cycle.scores <- h5read(fh, \"x/cell_cycle_scores\")\n",
    "percent.mito <- h5read(fh, \"x/percent_mito\")\n",
    "scaling.factors <- h5read(file = fh, name = \"scaling_factors\")\n",
    "guides.metadata <- h5read(file = fh, name = \"guides/metadata\")"
   ]
  },
  {
   "cell_type": "code",
   "execution_count": 59,
   "id": "eb1dff6b",
   "metadata": {
    "vscode": {
     "languageId": "r"
    }
   },
   "outputs": [
    {
     "data": {
      "text/html": [
       "<table class=\"dataframe\">\n",
       "<caption>A data.frame: 6 × 3</caption>\n",
       "<thead>\n",
       "\t<tr><th></th><th scope=col>target.gene</th><th scope=col>efficiency</th><th scope=col>effect.size</th></tr>\n",
       "\t<tr><th></th><th scope=col>&lt;int&gt;</th><th scope=col>&lt;dbl&gt;</th><th scope=col>&lt;dbl&gt;</th></tr>\n",
       "</thead>\n",
       "<tbody>\n",
       "\t<tr><th scope=row>1</th><td>10227</td><td>0.7143842</td><td>-5.687418</td></tr>\n",
       "\t<tr><th scope=row>2</th><td> 4570</td><td>0.4467681</td><td>-2.191908</td></tr>\n",
       "\t<tr><th scope=row>3</th><td> 8934</td><td>0.7701684</td><td>-5.064239</td></tr>\n",
       "\t<tr><th scope=row>4</th><td> 6939</td><td>0.5659939</td><td>-6.208954</td></tr>\n",
       "\t<tr><th scope=row>5</th><td> 3110</td><td>0.5480017</td><td>-1.092979</td></tr>\n",
       "\t<tr><th scope=row>6</th><td> 8946</td><td>0.6334062</td><td>-2.452710</td></tr>\n",
       "</tbody>\n",
       "</table>\n"
      ],
      "text/latex": [
       "A data.frame: 6 × 3\n",
       "\\begin{tabular}{r|lll}\n",
       "  & target.gene & efficiency & effect.size\\\\\n",
       "  & <int> & <dbl> & <dbl>\\\\\n",
       "\\hline\n",
       "\t1 & 10227 & 0.7143842 & -5.687418\\\\\n",
       "\t2 &  4570 & 0.4467681 & -2.191908\\\\\n",
       "\t3 &  8934 & 0.7701684 & -5.064239\\\\\n",
       "\t4 &  6939 & 0.5659939 & -6.208954\\\\\n",
       "\t5 &  3110 & 0.5480017 & -1.092979\\\\\n",
       "\t6 &  8946 & 0.6334062 & -2.452710\\\\\n",
       "\\end{tabular}\n"
      ],
      "text/markdown": [
       "\n",
       "A data.frame: 6 × 3\n",
       "\n",
       "| <!--/--> | target.gene &lt;int&gt; | efficiency &lt;dbl&gt; | effect.size &lt;dbl&gt; |\n",
       "|---|---|---|---|\n",
       "| 1 | 10227 | 0.7143842 | -5.687418 |\n",
       "| 2 |  4570 | 0.4467681 | -2.191908 |\n",
       "| 3 |  8934 | 0.7701684 | -5.064239 |\n",
       "| 4 |  6939 | 0.5659939 | -6.208954 |\n",
       "| 5 |  3110 | 0.5480017 | -1.092979 |\n",
       "| 6 |  8946 | 0.6334062 | -2.452710 |\n",
       "\n"
      ],
      "text/plain": [
       "  target.gene efficiency effect.size\n",
       "1 10227       0.7143842  -5.687418  \n",
       "2  4570       0.4467681  -2.191908  \n",
       "3  8934       0.7701684  -5.064239  \n",
       "4  6939       0.5659939  -6.208954  \n",
       "5  3110       0.5480017  -1.092979  \n",
       "6  8946       0.6334062  -2.452710  "
      ]
     },
     "metadata": {},
     "output_type": "display_data"
    }
   ],
   "source": [
    "head(guides.metadata)"
   ]
  },
  {
   "cell_type": "markdown",
   "id": "2b3e98b9",
   "metadata": {},
   "source": [
    "# Define null and alternative models\n",
    "\n",
    "## Model\n",
    "$$y = \\text{NB}(\\mu=s \\cdot \\exp \\left( \\beta_0 + \\beta_1 X_1 + \\beta_2 X_2 + \\beta_3 X_3 \\right), n=\\sigma)$$\n",
    "### $H_0: \\beta_1 = 0 $\n",
    "### $H_A: \\beta_1 \\neq 0 $\n",
    "\n"
   ]
  },
  {
   "cell_type": "markdown",
   "id": "00934543",
   "metadata": {},
   "source": [
    "### Test for one gene (targeting) with `glm.nb` (MASS library)"
   ]
  },
  {
   "cell_type": "code",
   "execution_count": 88,
   "id": "c89ea0ed",
   "metadata": {
    "vscode": {
     "languageId": "r"
    }
   },
   "outputs": [
    {
     "name": "stdout",
     "output_type": "stream",
     "text": [
      "[1] 190\n"
     ]
    }
   ],
   "source": [
    "test.gene <- sample(guides.metadata$target.gene, 1)\n",
    "\n",
    "print(test.gene)\n",
    "\n",
    "obs.counts <- h5read(file = fh, name = \"counts/discrete\", index = list(test.gene, 1:50000))\n",
    "gene.data.continuous.x <- data.frame(guide.eff = as.numeric(h5read(file = fh, name = \"x/x1_continuous\", index = list(test.gene, 1:50000))),\n",
    "                       s.score = cell.cycle.scores$s.scores,\n",
    "                       g2m.score = cell.cycle.scores$g2m.scores,\n",
    "                       counts = as.integer(obs.counts),\n",
    "                        percent.mito = percent.mito,\n",
    "                       scaling.factor = scaling.factors)\n",
    "\n",
    "gene.data.discrete.x <- data.frame(guide.eff = as.numeric(h5read(file = fh, name = \"x/x1_discrete\", index = list(test.gene, 1:50000))),\n",
    "                       s.score = cell.cycle.scores$s.scores,\n",
    "                       g2m.score = cell.cycle.scores$g2m.scores,\n",
    "                       counts = as.integer(obs.counts),\n",
    "                        percent.mito = percent.mito,\n",
    "                       scaling.factor = scaling.factors)"
   ]
  },
  {
   "cell_type": "code",
   "execution_count": 89,
   "id": "8028e075",
   "metadata": {
    "vscode": {
     "languageId": "r"
    }
   },
   "outputs": [
    {
     "data": {
      "text/html": [
       "<table class=\"dataframe\">\n",
       "<caption>A data.frame: 6 × 6</caption>\n",
       "<thead>\n",
       "\t<tr><th></th><th scope=col>guide.eff</th><th scope=col>s.score</th><th scope=col>g2m.score</th><th scope=col>counts</th><th scope=col>percent.mito</th><th scope=col>scaling.factor</th></tr>\n",
       "\t<tr><th></th><th scope=col>&lt;dbl&gt;</th><th scope=col>&lt;dbl&gt;</th><th scope=col>&lt;dbl&gt;</th><th scope=col>&lt;int&gt;</th><th scope=col>&lt;dbl&gt;</th><th scope=col>&lt;dbl&gt;</th></tr>\n",
       "</thead>\n",
       "<tbody>\n",
       "\t<tr><th scope=row>1</th><td>0</td><td> 0.17229155</td><td>-0.15874222</td><td>1</td><td>0.03069795</td><td>0.050107</td></tr>\n",
       "\t<tr><th scope=row>2</th><td>0</td><td>-0.11410318</td><td> 0.20041946</td><td>0</td><td>0.06200627</td><td>0.050082</td></tr>\n",
       "\t<tr><th scope=row>3</th><td>0</td><td>-0.05495927</td><td> 0.03672557</td><td>3</td><td>0.05384273</td><td>0.050384</td></tr>\n",
       "\t<tr><th scope=row>4</th><td>0</td><td>-0.07455024</td><td> 0.27507092</td><td>3</td><td>0.04150387</td><td>0.049990</td></tr>\n",
       "\t<tr><th scope=row>5</th><td>0</td><td> 0.11608382</td><td>-0.21085589</td><td>0</td><td>0.05731243</td><td>0.049868</td></tr>\n",
       "\t<tr><th scope=row>6</th><td>0</td><td> 0.27953127</td><td>-0.17125363</td><td>0</td><td>0.03168604</td><td>0.049912</td></tr>\n",
       "</tbody>\n",
       "</table>\n"
      ],
      "text/latex": [
       "A data.frame: 6 × 6\n",
       "\\begin{tabular}{r|llllll}\n",
       "  & guide.eff & s.score & g2m.score & counts & percent.mito & scaling.factor\\\\\n",
       "  & <dbl> & <dbl> & <dbl> & <int> & <dbl> & <dbl>\\\\\n",
       "\\hline\n",
       "\t1 & 0 &  0.17229155 & -0.15874222 & 1 & 0.03069795 & 0.050107\\\\\n",
       "\t2 & 0 & -0.11410318 &  0.20041946 & 0 & 0.06200627 & 0.050082\\\\\n",
       "\t3 & 0 & -0.05495927 &  0.03672557 & 3 & 0.05384273 & 0.050384\\\\\n",
       "\t4 & 0 & -0.07455024 &  0.27507092 & 3 & 0.04150387 & 0.049990\\\\\n",
       "\t5 & 0 &  0.11608382 & -0.21085589 & 0 & 0.05731243 & 0.049868\\\\\n",
       "\t6 & 0 &  0.27953127 & -0.17125363 & 0 & 0.03168604 & 0.049912\\\\\n",
       "\\end{tabular}\n"
      ],
      "text/markdown": [
       "\n",
       "A data.frame: 6 × 6\n",
       "\n",
       "| <!--/--> | guide.eff &lt;dbl&gt; | s.score &lt;dbl&gt; | g2m.score &lt;dbl&gt; | counts &lt;int&gt; | percent.mito &lt;dbl&gt; | scaling.factor &lt;dbl&gt; |\n",
       "|---|---|---|---|---|---|---|\n",
       "| 1 | 0 |  0.17229155 | -0.15874222 | 1 | 0.03069795 | 0.050107 |\n",
       "| 2 | 0 | -0.11410318 |  0.20041946 | 0 | 0.06200627 | 0.050082 |\n",
       "| 3 | 0 | -0.05495927 |  0.03672557 | 3 | 0.05384273 | 0.050384 |\n",
       "| 4 | 0 | -0.07455024 |  0.27507092 | 3 | 0.04150387 | 0.049990 |\n",
       "| 5 | 0 |  0.11608382 | -0.21085589 | 0 | 0.05731243 | 0.049868 |\n",
       "| 6 | 0 |  0.27953127 | -0.17125363 | 0 | 0.03168604 | 0.049912 |\n",
       "\n"
      ],
      "text/plain": [
       "  guide.eff s.score     g2m.score   counts percent.mito scaling.factor\n",
       "1 0          0.17229155 -0.15874222 1      0.03069795   0.050107      \n",
       "2 0         -0.11410318  0.20041946 0      0.06200627   0.050082      \n",
       "3 0         -0.05495927  0.03672557 3      0.05384273   0.050384      \n",
       "4 0         -0.07455024  0.27507092 3      0.04150387   0.049990      \n",
       "5 0          0.11608382 -0.21085589 0      0.05731243   0.049868      \n",
       "6 0          0.27953127 -0.17125363 0      0.03168604   0.049912      "
      ]
     },
     "metadata": {},
     "output_type": "display_data"
    }
   ],
   "source": [
    "head(gene.data.continuous.x)"
   ]
  },
  {
   "cell_type": "markdown",
   "id": "46c4acf6",
   "metadata": {},
   "source": [
    "Model counts simulated from **discrete** $X_1$ using **continuous** $X_1$ values."
   ]
  },
  {
   "cell_type": "code",
   "execution_count": 93,
   "id": "a372a698",
   "metadata": {
    "vscode": {
     "languageId": "r"
    }
   },
   "outputs": [],
   "source": [
    "ml.cont <- glm.nb(counts ~ guide.eff + s.score + g2m.score + percent.mito + offset(log(scaling.factor)),\n",
    "             data = gene.data.continuous.x)"
   ]
  },
  {
   "cell_type": "code",
   "execution_count": 94,
   "id": "f537148a",
   "metadata": {
    "vscode": {
     "languageId": "r"
    }
   },
   "outputs": [
    {
     "data": {
      "text/plain": [
       "\n",
       "Call:\n",
       "glm.nb(formula = counts ~ guide.eff + s.score + g2m.score + percent.mito + \n",
       "    offset(log(scaling.factor)), data = gene.data.continuous.x, \n",
       "    init.theta = 1.492697896, link = log)\n",
       "\n",
       "Deviance Residuals: \n",
       "    Min       1Q   Median       3Q      Max  \n",
       "-2.5567  -1.1981  -0.3046   0.3798   4.1021  \n",
       "\n",
       "Coefficients:\n",
       "             Estimate Std. Error z value Pr(>|z|)    \n",
       "(Intercept)   3.19686    0.01128  283.31   <2e-16 ***\n",
       "guide.eff    -1.41022    0.08808  -16.01   <2e-16 ***\n",
       "s.score       2.57699    0.04849   53.15   <2e-16 ***\n",
       "g2m.score     2.42986    0.02566   94.70   <2e-16 ***\n",
       "percent.mito  3.82139    0.24799   15.41   <2e-16 ***\n",
       "---\n",
       "Signif. codes:  0 ‘***’ 0.001 ‘**’ 0.01 ‘*’ 0.05 ‘.’ 0.1 ‘ ’ 1\n",
       "\n",
       "(Dispersion parameter for Negative Binomial(1.4927) family taken to be 1)\n",
       "\n",
       "    Null deviance: 66215  on 49999  degrees of freedom\n",
       "Residual deviance: 52692  on 49995  degrees of freedom\n",
       "AIC: 163138\n",
       "\n",
       "Number of Fisher Scoring iterations: 1\n",
       "\n",
       "\n",
       "              Theta:  1.4927 \n",
       "          Std. Err.:  0.0215 \n",
       "\n",
       " 2 x log-likelihood:  -163126.0360 "
      ]
     },
     "metadata": {},
     "output_type": "display_data"
    }
   ],
   "source": [
    "summary(ml.cont)"
   ]
  },
  {
   "cell_type": "code",
   "execution_count": 92,
   "id": "0a2221ea",
   "metadata": {
    "scrolled": true,
    "vscode": {
     "languageId": "r"
    }
   },
   "outputs": [
    {
     "data": {
      "text/html": [
       "<table class=\"dataframe\">\n",
       "<caption>A data.frame: 1 × 5</caption>\n",
       "<thead>\n",
       "\t<tr><th></th><th scope=col>baselines</th><th scope=col>beta1</th><th scope=col>beta2</th><th scope=col>beta3</th><th scope=col>beta4</th></tr>\n",
       "\t<tr><th></th><th scope=col>&lt;dbl&gt;</th><th scope=col>&lt;dbl&gt;</th><th scope=col>&lt;dbl&gt;</th><th scope=col>&lt;dbl&gt;</th><th scope=col>&lt;dbl&gt;</th></tr>\n",
       "</thead>\n",
       "<tbody>\n",
       "\t<tr><th scope=row>190</th><td>3.173881</td><td>-2.023426</td><td>2.548098</td><td>2.458895</td><td>4.109315</td></tr>\n",
       "</tbody>\n",
       "</table>\n"
      ],
      "text/latex": [
       "A data.frame: 1 × 5\n",
       "\\begin{tabular}{r|lllll}\n",
       "  & baselines & beta1 & beta2 & beta3 & beta4\\\\\n",
       "  & <dbl> & <dbl> & <dbl> & <dbl> & <dbl>\\\\\n",
       "\\hline\n",
       "\t190 & 3.173881 & -2.023426 & 2.548098 & 2.458895 & 4.109315\\\\\n",
       "\\end{tabular}\n"
      ],
      "text/markdown": [
       "\n",
       "A data.frame: 1 × 5\n",
       "\n",
       "| <!--/--> | baselines &lt;dbl&gt; | beta1 &lt;dbl&gt; | beta2 &lt;dbl&gt; | beta3 &lt;dbl&gt; | beta4 &lt;dbl&gt; |\n",
       "|---|---|---|---|---|---|\n",
       "| 190 | 3.173881 | -2.023426 | 2.548098 | 2.458895 | 4.109315 |\n",
       "\n"
      ],
      "text/plain": [
       "    baselines beta1     beta2    beta3    beta4   \n",
       "190 3.173881  -2.023426 2.548098 2.458895 4.109315"
      ]
     },
     "metadata": {},
     "output_type": "display_data"
    }
   ],
   "source": [
    "coeffs[test.gene,]"
   ]
  },
  {
   "cell_type": "markdown",
   "id": "2c64c2aa",
   "metadata": {},
   "source": [
    "Model counts simulated from **discrete** $X_1$ using **discrete** $X_1$ values."
   ]
  },
  {
   "cell_type": "code",
   "execution_count": 95,
   "id": "bd2aad64",
   "metadata": {},
   "outputs": [
    {
     "data": {
      "text/plain": [
       "\n",
       "Call:\n",
       "glm.nb(formula = counts ~ guide.eff + s.score + g2m.score + percent.mito + \n",
       "    offset(log(scaling.factor)), data = gene.data.discrete.x, \n",
       "    init.theta = 1.505104804, link = log)\n",
       "\n",
       "Deviance Residuals: \n",
       "    Min       1Q   Median       3Q      Max  \n",
       "-2.5636  -1.1989  -0.3069   0.3798   4.1147  \n",
       "\n",
       "Coefficients:\n",
       "             Estimate Std. Error z value Pr(>|z|)    \n",
       "(Intercept)   3.19581    0.01126  283.80   <2e-16 ***\n",
       "guide.eff    -2.05663    0.10910  -18.85   <2e-16 ***\n",
       "s.score       2.58020    0.04842   53.28   <2e-16 ***\n",
       "g2m.score     2.43086    0.02562   94.90   <2e-16 ***\n",
       "percent.mito  3.83786    0.24760   15.50   <2e-16 ***\n",
       "---\n",
       "Signif. codes:  0 ‘***’ 0.001 ‘**’ 0.01 ‘*’ 0.05 ‘.’ 0.1 ‘ ’ 1\n",
       "\n",
       "(Dispersion parameter for Negative Binomial(1.5051) family taken to be 1)\n",
       "\n",
       "    Null deviance: 66440  on 49999  degrees of freedom\n",
       "Residual deviance: 52603  on 49995  degrees of freedom\n",
       "AIC: 162885\n",
       "\n",
       "Number of Fisher Scoring iterations: 1\n",
       "\n",
       "\n",
       "              Theta:  1.5051 \n",
       "          Std. Err.:  0.0217 \n",
       "\n",
       " 2 x log-likelihood:  -162873.2370 "
      ]
     },
     "metadata": {},
     "output_type": "display_data"
    }
   ],
   "source": [
    "ml.disc <- glm.nb(counts ~ guide.eff + s.score + g2m.score + percent.mito + offset(log(scaling.factor)),\n",
    "             data = gene.data.discrete.x)\n",
    "\n",
    "summary(ml.disc)"
   ]
  },
  {
   "cell_type": "markdown",
   "id": "e3984717",
   "metadata": {},
   "source": [
    "# Test for all target genes\n",
    "\n",
    "E.g. the 1000 genes in our simulated data whose enhancers are targeted by gRNAs in our library "
   ]
  },
  {
   "cell_type": "code",
   "execution_count": 28,
   "id": "95981cfa",
   "metadata": {
    "vscode": {
     "languageId": "r"
    }
   },
   "outputs": [
    {
     "name": "stdout",
     "output_type": "stream",
     "text": [
      "[1] 3683\n",
      "[1] 1175\n",
      "[1] 11331\n"
     ]
    }
   ],
   "source": [
    "ml.list <- list()\n",
    "\n",
    "for (gene in guides.metadata$target.gene[1:3]) {\n",
    "    print(gene)\n",
    "    obs.counts <- h5read(file = fh, name = \"counts\", index = list(gene, 1:50000))\n",
    "    gene.data <- data.frame(guide.eff = as.integer(h5read(file = fh, name = \"x/x1\", index = list(gene, 1:50000))),\n",
    "                       s.score = cell.cycle.scores$s.scores,\n",
    "                       g2m.score = cell.cycle.scores$g2m.scores,\n",
    "                       counts = as.integer(obs.counts),\n",
    "                       scaling.factors = scaling.factors)\n",
    "    ml <- glm.nb(counts ~ guide.eff + s.score + g2m.score, data = gene.data)\n",
    "    ml.list[[gene]] <- ml\n",
    "}"
   ]
  },
  {
   "cell_type": "code",
   "execution_count": 29,
   "id": "dec5cd95",
   "metadata": {
    "vscode": {
     "languageId": "r"
    }
   },
   "outputs": [
    {
     "data": {
      "image/png": "[encoded data removed]",
      "text/plain": [
       "plot without title"
      ]
     },
     "metadata": {
      "image/png": {
       "height": 420,
       "width": 420
      }
     },
     "output_type": "display_data"
    }
   ],
   "source": [
    "create.scatterplot(\n",
    "    formula = counts ~ log(scaling.factors),\n",
    "    data = gene.data\n",
    ")"
   ]
  },
  {
   "cell_type": "code",
   "execution_count": 32,
   "id": "cd67dd66",
   "metadata": {
    "vscode": {
     "languageId": "r"
    }
   },
   "outputs": [
    {
     "name": "stderr",
     "output_type": "stream",
     "text": [
      "Warning message in cor.test.default(log(gene.data$scaling.factors), gene.data$counts, :\n",
      "“Cannot compute exact p-value with ties”\n"
     ]
    },
    {
     "data": {
      "text/plain": [
       "\n",
       "\tSpearman's rank correlation rho\n",
       "\n",
       "data:  log(gene.data$scaling.factors) and gene.data$counts\n",
       "S = 2.0774e+13, p-value = 0.525\n",
       "alternative hypothesis: true rho is not equal to 0\n",
       "sample estimates:\n",
       "        rho \n",
       "0.002842585 \n"
      ]
     },
     "metadata": {},
     "output_type": "display_data"
    }
   ],
   "source": [
    "cor.test(log(gene.data$scaling.factors), gene.data$counts, method = 'spearman')"
   ]
  },
  {
   "cell_type": "code",
   "execution_count": 14,
   "id": "74eb9386",
   "metadata": {
    "vscode": {
     "languageId": "r"
    }
   },
   "outputs": [
    {
     "data": {
      "text/plain": [
       "\n",
       "Call:\n",
       "glm.nb(formula = counts ~ guide.eff + s.score + g2m.score + offset(log(scaling.factors)), \n",
       "    data = gene.data, init.theta = 1.517836905, link = log)\n",
       "\n",
       "Deviance Residuals: \n",
       "    Min       1Q   Median       3Q      Max  \n",
       "-3.7483  -0.7233  -0.3835  -0.0663   4.2255  \n",
       "\n",
       "Coefficients:\n",
       "            Estimate Std. Error z value Pr(>|z|)    \n",
       "(Intercept)  1.82181    0.01076 169.385  < 2e-16 ***\n",
       "guide.eff   -5.19567    0.71304  -7.287 3.18e-13 ***\n",
       "s.score      3.05735    0.01492 204.953  < 2e-16 ***\n",
       "g2m.score    2.33210    0.01370 170.213  < 2e-16 ***\n",
       "---\n",
       "Signif. codes:  0 ‘***’ 0.001 ‘**’ 0.01 ‘*’ 0.05 ‘.’ 0.1 ‘ ’ 1\n",
       "\n",
       "(Dispersion parameter for Negative Binomial(1.5178) family taken to be 1)\n",
       "\n",
       "    Null deviance: 131409  on 49999  degrees of freedom\n",
       "Residual deviance:  34801  on 49996  degrees of freedom\n",
       "AIC: 99823\n",
       "\n",
       "Number of Fisher Scoring iterations: 1\n",
       "\n",
       "\n",
       "              Theta:  1.5178 \n",
       "          Std. Err.:  0.0280 \n",
       "\n",
       " 2 x log-likelihood:  -99813.2890 "
      ]
     },
     "metadata": {},
     "output_type": "display_data"
    }
   ],
   "source": [
    "summary(ml.list[[1175]])"
   ]
  },
  {
   "cell_type": "code",
   "execution_count": 15,
   "id": "f78f8325",
   "metadata": {
    "vscode": {
     "languageId": "r"
    }
   },
   "outputs": [
    {
     "data": {
      "text/html": [
       "<table class=\"dataframe\">\n",
       "<caption>A data.frame: 1 × 5</caption>\n",
       "<thead>\n",
       "\t<tr><th></th><th scope=col>baselines</th><th scope=col>beta1</th><th scope=col>beta2</th><th scope=col>beta3</th><th scope=col>beta4</th></tr>\n",
       "\t<tr><th></th><th scope=col>&lt;dbl&gt;</th><th scope=col>&lt;dbl&gt;</th><th scope=col>&lt;dbl&gt;</th><th scope=col>&lt;dbl&gt;</th><th scope=col>&lt;dbl&gt;</th></tr>\n",
       "</thead>\n",
       "<tbody>\n",
       "\t<tr><th scope=row>1175</th><td>1.766874</td><td>-4.83825</td><td>3.061181</td><td>2.336816</td><td>1.22111</td></tr>\n",
       "</tbody>\n",
       "</table>\n"
      ],
      "text/latex": [
       "A data.frame: 1 × 5\n",
       "\\begin{tabular}{r|lllll}\n",
       "  & baselines & beta1 & beta2 & beta3 & beta4\\\\\n",
       "  & <dbl> & <dbl> & <dbl> & <dbl> & <dbl>\\\\\n",
       "\\hline\n",
       "\t1175 & 1.766874 & -4.83825 & 3.061181 & 2.336816 & 1.22111\\\\\n",
       "\\end{tabular}\n"
      ],
      "text/markdown": [
       "\n",
       "A data.frame: 1 × 5\n",
       "\n",
       "| <!--/--> | baselines &lt;dbl&gt; | beta1 &lt;dbl&gt; | beta2 &lt;dbl&gt; | beta3 &lt;dbl&gt; | beta4 &lt;dbl&gt; |\n",
       "|---|---|---|---|---|---|\n",
       "| 1175 | 1.766874 | -4.83825 | 3.061181 | 2.336816 | 1.22111 |\n",
       "\n"
      ],
      "text/plain": [
       "     baselines beta1    beta2    beta3    beta4  \n",
       "1175 1.766874  -4.83825 3.061181 2.336816 1.22111"
      ]
     },
     "metadata": {},
     "output_type": "display_data"
    }
   ],
   "source": [
    "coeffs[1175,]"
   ]
  },
  {
   "cell_type": "code",
   "execution_count": null,
   "id": "20fa49f6",
   "metadata": {
    "vscode": {
     "languageId": "r"
    }
   },
   "outputs": [],
   "source": []
  }
 ],
 "metadata": {
  "kernelspec": {
   "display_name": "R [conda env:crisprqtl]",
   "language": "R",
   "name": "conda-env-crisprqtl-r"
  },
  "language_info": {
   "codemirror_mode": "r",
   "file_extension": ".r",
   "mimetype": "text/x-r-source",
   "name": "R",
   "pygments_lexer": "r",
   "version": "4.1.3"
  }
 },
 "nbformat": 4,
 "nbformat_minor": 5
}
