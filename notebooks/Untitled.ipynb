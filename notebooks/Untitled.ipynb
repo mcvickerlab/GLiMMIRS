{
 "cells": [
  {
   "cell_type": "code",
   "execution_count": null,
   "id": "66466077",
   "metadata": {},
   "outputs": [],
   "source": []
  }
 ],
 "metadata": {
  "kernelspec": {
   "display_name": "R [conda env:r4]",
   "language": "R",
   "name": "conda-env-r4-r"
  },
  "language_info": {
   "codemirror_mode": "r",
   "file_extension": ".r",
   "mimetype": "text/x-r-source",
   "name": "R",
   "pygments_lexer": "r",
   "version": "4.0.3"
  }
 },
 "nbformat": 4,
 "nbformat_minor": 5
}
