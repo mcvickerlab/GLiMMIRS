{
 "cells": [
  {
   "attachments": {},
   "cell_type": "markdown",
   "metadata": {},
   "source": [
    "# Plot LMO2 Dotplot\n",
    "\n",
    "LMO2 is an oncogene locus with a significant interaction term when surveying the 330 enhancer-enhancer pairs where each enhancer has a significant effect. This notebook contains the code necessary to generate a dotplot which shows how the interaction term differs from the other enhancer coefficients. \n",
    "\n",
    "Author: Karthik Guruvayurappan"
   ]
  },
  {
   "cell_type": "code",
   "execution_count": 2,
   "metadata": {
    "vscode": {
     "languageId": "r"
    }
   },
   "outputs": [],
   "source": [
    "# read in necessary packages for h5 files and GLMs\n",
    "library(rhdf5)\n",
    "library(MASS)"
   ]
  },
  {
   "cell_type": "code",
   "execution_count": 4,
   "metadata": {
    "vscode": {
     "languageId": "r"
    }
   },
   "outputs": [
    {
     "name": "stdout",
     "output_type": "stream",
     "text": [
      "[1] \"reading in covariates!\"\n"
     ]
    },
    {
     "data": {
      "text/html": [
       "<table class=\"dataframe\">\n",
       "<caption>A data.frame: 6 × 6</caption>\n",
       "<thead>\n",
       "\t<tr><th></th><th scope=col>cell.barcodes</th><th scope=col>guide_count</th><th scope=col>prep_batch</th><th scope=col>percent.mito</th><th scope=col>s.score</th><th scope=col>g2m.score</th></tr>\n",
       "\t<tr><th></th><th scope=col>&lt;chr&gt;</th><th scope=col>&lt;int&gt;</th><th scope=col>&lt;chr&gt;</th><th scope=col>&lt;dbl&gt;</th><th scope=col>&lt;dbl&gt;</th><th scope=col>&lt;dbl&gt;</th></tr>\n",
       "</thead>\n",
       "<tbody>\n",
       "\t<tr><th scope=row>1</th><td>AAACCTGAGAGGTACC-1_1A_1_SI-GA-E2</td><td>67</td><td>prep_batch_1</td><td>0.058786706</td><td> 0.110732311</td><td>-0.1319208</td></tr>\n",
       "\t<tr><th scope=row>2</th><td>AAACCTGAGTCAATAG-1_1A_1_SI-GA-E2</td><td>26</td><td>prep_batch_1</td><td>0.036086518</td><td>-0.010290919</td><td>-0.1535426</td></tr>\n",
       "\t<tr><th scope=row>3</th><td>AAACCTGCAAACAACA-1_1A_1_SI-GA-E2</td><td>61</td><td>prep_batch_1</td><td>0.069823051</td><td>-0.175860130</td><td>-0.3084879</td></tr>\n",
       "\t<tr><th scope=row>4</th><td>AAACCTGCACTTCTGC-1_1A_1_SI-GA-E2</td><td>39</td><td>prep_batch_1</td><td>0.026186508</td><td> 0.003057281</td><td>-0.1574859</td></tr>\n",
       "\t<tr><th scope=row>5</th><td>AAACCTGCATGTAGTC-1_1A_1_SI-GA-E2</td><td>37</td><td>prep_batch_1</td><td>0.007991318</td><td>-0.144480961</td><td>-0.2362154</td></tr>\n",
       "\t<tr><th scope=row>6</th><td>AAACCTGGTAGCGCAA-1_1A_1_SI-GA-E2</td><td>57</td><td>prep_batch_1</td><td>0.022356681</td><td> 0.026418076</td><td>-0.1462899</td></tr>\n",
       "</tbody>\n",
       "</table>\n"
      ],
      "text/latex": [
       "A data.frame: 6 × 6\n",
       "\\begin{tabular}{r|llllll}\n",
       "  & cell.barcodes & guide\\_count & prep\\_batch & percent.mito & s.score & g2m.score\\\\\n",
       "  & <chr> & <int> & <chr> & <dbl> & <dbl> & <dbl>\\\\\n",
       "\\hline\n",
       "\t1 & AAACCTGAGAGGTACC-1\\_1A\\_1\\_SI-GA-E2 & 67 & prep\\_batch\\_1 & 0.058786706 &  0.110732311 & -0.1319208\\\\\n",
       "\t2 & AAACCTGAGTCAATAG-1\\_1A\\_1\\_SI-GA-E2 & 26 & prep\\_batch\\_1 & 0.036086518 & -0.010290919 & -0.1535426\\\\\n",
       "\t3 & AAACCTGCAAACAACA-1\\_1A\\_1\\_SI-GA-E2 & 61 & prep\\_batch\\_1 & 0.069823051 & -0.175860130 & -0.3084879\\\\\n",
       "\t4 & AAACCTGCACTTCTGC-1\\_1A\\_1\\_SI-GA-E2 & 39 & prep\\_batch\\_1 & 0.026186508 &  0.003057281 & -0.1574859\\\\\n",
       "\t5 & AAACCTGCATGTAGTC-1\\_1A\\_1\\_SI-GA-E2 & 37 & prep\\_batch\\_1 & 0.007991318 & -0.144480961 & -0.2362154\\\\\n",
       "\t6 & AAACCTGGTAGCGCAA-1\\_1A\\_1\\_SI-GA-E2 & 57 & prep\\_batch\\_1 & 0.022356681 &  0.026418076 & -0.1462899\\\\\n",
       "\\end{tabular}\n"
      ],
      "text/markdown": [
       "\n",
       "A data.frame: 6 × 6\n",
       "\n",
       "| <!--/--> | cell.barcodes &lt;chr&gt; | guide_count &lt;int&gt; | prep_batch &lt;chr&gt; | percent.mito &lt;dbl&gt; | s.score &lt;dbl&gt; | g2m.score &lt;dbl&gt; |\n",
       "|---|---|---|---|---|---|---|\n",
       "| 1 | AAACCTGAGAGGTACC-1_1A_1_SI-GA-E2 | 67 | prep_batch_1 | 0.058786706 |  0.110732311 | -0.1319208 |\n",
       "| 2 | AAACCTGAGTCAATAG-1_1A_1_SI-GA-E2 | 26 | prep_batch_1 | 0.036086518 | -0.010290919 | -0.1535426 |\n",
       "| 3 | AAACCTGCAAACAACA-1_1A_1_SI-GA-E2 | 61 | prep_batch_1 | 0.069823051 | -0.175860130 | -0.3084879 |\n",
       "| 4 | AAACCTGCACTTCTGC-1_1A_1_SI-GA-E2 | 39 | prep_batch_1 | 0.026186508 |  0.003057281 | -0.1574859 |\n",
       "| 5 | AAACCTGCATGTAGTC-1_1A_1_SI-GA-E2 | 37 | prep_batch_1 | 0.007991318 | -0.144480961 | -0.2362154 |\n",
       "| 6 | AAACCTGGTAGCGCAA-1_1A_1_SI-GA-E2 | 57 | prep_batch_1 | 0.022356681 |  0.026418076 | -0.1462899 |\n",
       "\n"
      ],
      "text/plain": [
       "  cell.barcodes                    guide_count prep_batch   percent.mito\n",
       "1 AAACCTGAGAGGTACC-1_1A_1_SI-GA-E2 67          prep_batch_1 0.058786706 \n",
       "2 AAACCTGAGTCAATAG-1_1A_1_SI-GA-E2 26          prep_batch_1 0.036086518 \n",
       "3 AAACCTGCAAACAACA-1_1A_1_SI-GA-E2 61          prep_batch_1 0.069823051 \n",
       "4 AAACCTGCACTTCTGC-1_1A_1_SI-GA-E2 39          prep_batch_1 0.026186508 \n",
       "5 AAACCTGCATGTAGTC-1_1A_1_SI-GA-E2 37          prep_batch_1 0.007991318 \n",
       "6 AAACCTGGTAGCGCAA-1_1A_1_SI-GA-E2 57          prep_batch_1 0.022356681 \n",
       "  s.score      g2m.score \n",
       "1  0.110732311 -0.1319208\n",
       "2 -0.010290919 -0.1535426\n",
       "3 -0.175860130 -0.3084879\n",
       "4  0.003057281 -0.1574859\n",
       "5 -0.144480961 -0.2362154\n",
       "6  0.026418076 -0.1462899"
      ]
     },
     "metadata": {},
     "output_type": "display_data"
    }
   ],
   "source": [
    "# read in covariates\n",
    "print('reading in covariates!')\n",
    "covariates <- h5read(\n",
    "    file = '/iblm/netapp/data1/external/Gasperini2019/processed/gasperini_data.h5',\n",
    "    name = 'covariates'\n",
    ")\n",
    "cell.barcodes <- h5read(\n",
    "    file = '/iblm/netapp/data1/external/Gasperini2019/processed/gasperini_data.h5',\n",
    "    name = 'cell.barcodes'\n",
    ")\n",
    "covariates <- merge(\n",
    "    data.frame(cell.barcodes),\n",
    "    covariates,\n",
    "    by.x = 'cell.barcodes',\n",
    "    by.y = 'cell',\n",
    "    sort = FALSE\n",
    ")\n",
    "head(covariates)"
   ]
  },
  {
   "cell_type": "code",
   "execution_count": 5,
   "metadata": {
    "vscode": {
     "languageId": "r"
    }
   },
   "outputs": [
    {
     "name": "stdout",
     "output_type": "stream",
     "text": [
      "[1] \"reading in enhancer-to-spacer table!\"\n"
     ]
    },
    {
     "data": {
      "text/html": [
       "<table class=\"dataframe\">\n",
       "<caption>A data.frame: 6 × 2</caption>\n",
       "<thead>\n",
       "\t<tr><th></th><th scope=col>target.site</th><th scope=col>spacer.sequence</th></tr>\n",
       "\t<tr><th></th><th scope=col>&lt;chr&gt;</th><th scope=col>&lt;chr&gt;</th></tr>\n",
       "</thead>\n",
       "<tbody>\n",
       "\t<tr><th scope=row>1</th><td>SH3BGRL3_TSS</td><td>AAACCGCTCCCGAGCACGGG</td></tr>\n",
       "\t<tr><th scope=row>2</th><td>MTRNR2L8_TSS</td><td>AAATAGTGGGAAGATTCGTG</td></tr>\n",
       "\t<tr><th scope=row>3</th><td>FAM83A_TSS  </td><td>AACACACCACGGAGGAGTGG</td></tr>\n",
       "\t<tr><th scope=row>4</th><td>ZNF593_TSS  </td><td>AACAGCCCGGCCGGCCAAGG</td></tr>\n",
       "\t<tr><th scope=row>5</th><td>ATPIF1_TSS  </td><td>AACGAGAGACTGCTTGCTGG</td></tr>\n",
       "\t<tr><th scope=row>6</th><td>TIPRL_TSS   </td><td>AACGGCTCGGAAGCCTAGGG</td></tr>\n",
       "</tbody>\n",
       "</table>\n"
      ],
      "text/latex": [
       "A data.frame: 6 × 2\n",
       "\\begin{tabular}{r|ll}\n",
       "  & target.site & spacer.sequence\\\\\n",
       "  & <chr> & <chr>\\\\\n",
       "\\hline\n",
       "\t1 & SH3BGRL3\\_TSS & AAACCGCTCCCGAGCACGGG\\\\\n",
       "\t2 & MTRNR2L8\\_TSS & AAATAGTGGGAAGATTCGTG\\\\\n",
       "\t3 & FAM83A\\_TSS   & AACACACCACGGAGGAGTGG\\\\\n",
       "\t4 & ZNF593\\_TSS   & AACAGCCCGGCCGGCCAAGG\\\\\n",
       "\t5 & ATPIF1\\_TSS   & AACGAGAGACTGCTTGCTGG\\\\\n",
       "\t6 & TIPRL\\_TSS    & AACGGCTCGGAAGCCTAGGG\\\\\n",
       "\\end{tabular}\n"
      ],
      "text/markdown": [
       "\n",
       "A data.frame: 6 × 2\n",
       "\n",
       "| <!--/--> | target.site &lt;chr&gt; | spacer.sequence &lt;chr&gt; |\n",
       "|---|---|---|\n",
       "| 1 | SH3BGRL3_TSS | AAACCGCTCCCGAGCACGGG |\n",
       "| 2 | MTRNR2L8_TSS | AAATAGTGGGAAGATTCGTG |\n",
       "| 3 | FAM83A_TSS   | AACACACCACGGAGGAGTGG |\n",
       "| 4 | ZNF593_TSS   | AACAGCCCGGCCGGCCAAGG |\n",
       "| 5 | ATPIF1_TSS   | AACGAGAGACTGCTTGCTGG |\n",
       "| 6 | TIPRL_TSS    | AACGGCTCGGAAGCCTAGGG |\n",
       "\n"
      ],
      "text/plain": [
       "  target.site  spacer.sequence     \n",
       "1 SH3BGRL3_TSS AAACCGCTCCCGAGCACGGG\n",
       "2 MTRNR2L8_TSS AAATAGTGGGAAGATTCGTG\n",
       "3 FAM83A_TSS   AACACACCACGGAGGAGTGG\n",
       "4 ZNF593_TSS   AACAGCCCGGCCGGCCAAGG\n",
       "5 ATPIF1_TSS   AACGAGAGACTGCTTGCTGG\n",
       "6 TIPRL_TSS    AACGGCTCGGAAGCCTAGGG"
      ]
     },
     "metadata": {},
     "output_type": "display_data"
    }
   ],
   "source": [
    "# read in table mapping enhancers to spacers and reformat enhancer names\n",
    "print('reading in enhancer-to-spacer table!')\n",
    "enhancer.to.spacer.table <- read.table(\n",
    "    '/iblm/netapp/data1/external/Gasperini2019/suppl/GSE120861_grna_groups.at_scale.txt',\n",
    "    sep = '\\t'\n",
    ")\n",
    "colnames(enhancer.to.spacer.table) <- c('target.site', 'spacer.sequence')\n",
    "enhancer.to.spacer.table$target.site <- sapply(enhancer.to.spacer.table$target.site, FUN = function(x) {\n",
    "    if (startsWith(x, 'chr')) {\n",
    "        return (strsplit(x, '_')[[1]][1])\n",
    "    }\n",
    "    else {\n",
    "        return (x)\n",
    "    }\n",
    "})\n",
    "head(enhancer.to.spacer.table)"
   ]
  },
  {
   "cell_type": "code",
   "execution_count": 6,
   "metadata": {
    "vscode": {
     "languageId": "r"
    }
   },
   "outputs": [
    {
     "name": "stdout",
     "output_type": "stream",
     "text": [
      "[1] \"reading in guide efficiencies!\"\n"
     ]
    },
    {
     "data": {
      "text/html": [
       "<table class=\"dataframe\">\n",
       "<caption>A data.frame: 6 × 11</caption>\n",
       "<thead>\n",
       "\t<tr><th></th><th scope=col>Index</th><th scope=col>gRNA</th><th scope=col>Chromosome</th><th scope=col>Start</th><th scope=col>End</th><th scope=col>Strand</th><th scope=col>Num.Off.Targets</th><th scope=col>Off.Target.Summary</th><th scope=col>Specificity</th><th scope=col>Cutting.Efficiency</th><th scope=col>spacer</th></tr>\n",
       "\t<tr><th></th><th scope=col>&lt;int&gt;</th><th scope=col>&lt;chr&gt;</th><th scope=col>&lt;chr&gt;</th><th scope=col>&lt;int&gt;</th><th scope=col>&lt;int&gt;</th><th scope=col>&lt;chr&gt;</th><th scope=col>&lt;int&gt;</th><th scope=col>&lt;chr&gt;</th><th scope=col>&lt;dbl&gt;</th><th scope=col>&lt;dbl&gt;</th><th scope=col>&lt;chr&gt;</th></tr>\n",
       "</thead>\n",
       "<tbody>\n",
       "\t<tr><th scope=row>1</th><td>0</td><td>CTAAAGCATTGGCTGAGAAGNGG</td><td>chr8</td><td>23911081</td><td>23911103</td><td>-</td><td> 41</td><td>2:2 | 3:39  </td><td>0.13622800</td><td>0.565010</td><td>CTAAAGCATTGGCTGAGAAG</td></tr>\n",
       "\t<tr><th scope=row>2</th><td>1</td><td>GTAGTTCACATAATCCCTGTNGG</td><td>chr4</td><td>25698193</td><td>25698215</td><td>-</td><td> 55</td><td>2:0 | 3:55  </td><td>0.16592900</td><td>0.572492</td><td>GTAGTTCACATAATCCCTGT</td></tr>\n",
       "\t<tr><th scope=row>3</th><td>2</td><td>AAGTTGACTCTACATAGCAGNGG</td><td>chr8</td><td>23912565</td><td>23912587</td><td>+</td><td> 22</td><td>2:1 | 3:21  </td><td>0.34106700</td><td>0.636691</td><td>AAGTTGACTCTACATAGCAG</td></tr>\n",
       "\t<tr><th scope=row>4</th><td>3</td><td>AATATTCTCCCTCATTCTGGNGG</td><td>chr5</td><td>12539360</td><td>12539382</td><td>-</td><td>803</td><td>2:26 | 3:777</td><td>0.00274364</td><td>0.619800</td><td>AATATTCTCCCTCATTCTGG</td></tr>\n",
       "\t<tr><th scope=row>5</th><td>4</td><td>AATCCTCTAATGGACGAAGANGG</td><td>chr8</td><td>23913057</td><td>23913079</td><td>-</td><td> 24</td><td>2:0 | 3:24  </td><td>0.33441500</td><td>0.602272</td><td>AATCCTCTAATGGACGAAGA</td></tr>\n",
       "\t<tr><th scope=row>6</th><td>5</td><td>AGATACCTATGGCCATATAGNGG</td><td>chr5</td><td>12540099</td><td>12540121</td><td>+</td><td> 14</td><td>2:0 | 3:14  </td><td>0.35172300</td><td>0.531946</td><td>AGATACCTATGGCCATATAG</td></tr>\n",
       "</tbody>\n",
       "</table>\n"
      ],
      "text/latex": [
       "A data.frame: 6 × 11\n",
       "\\begin{tabular}{r|lllllllllll}\n",
       "  & Index & gRNA & Chromosome & Start & End & Strand & Num.Off.Targets & Off.Target.Summary & Specificity & Cutting.Efficiency & spacer\\\\\n",
       "  & <int> & <chr> & <chr> & <int> & <int> & <chr> & <int> & <chr> & <dbl> & <dbl> & <chr>\\\\\n",
       "\\hline\n",
       "\t1 & 0 & CTAAAGCATTGGCTGAGAAGNGG & chr8 & 23911081 & 23911103 & - &  41 & 2:2 \\textbar{} 3:39   & 0.13622800 & 0.565010 & CTAAAGCATTGGCTGAGAAG\\\\\n",
       "\t2 & 1 & GTAGTTCACATAATCCCTGTNGG & chr4 & 25698193 & 25698215 & - &  55 & 2:0 \\textbar{} 3:55   & 0.16592900 & 0.572492 & GTAGTTCACATAATCCCTGT\\\\\n",
       "\t3 & 2 & AAGTTGACTCTACATAGCAGNGG & chr8 & 23912565 & 23912587 & + &  22 & 2:1 \\textbar{} 3:21   & 0.34106700 & 0.636691 & AAGTTGACTCTACATAGCAG\\\\\n",
       "\t4 & 3 & AATATTCTCCCTCATTCTGGNGG & chr5 & 12539360 & 12539382 & - & 803 & 2:26 \\textbar{} 3:777 & 0.00274364 & 0.619800 & AATATTCTCCCTCATTCTGG\\\\\n",
       "\t5 & 4 & AATCCTCTAATGGACGAAGANGG & chr8 & 23913057 & 23913079 & - &  24 & 2:0 \\textbar{} 3:24   & 0.33441500 & 0.602272 & AATCCTCTAATGGACGAAGA\\\\\n",
       "\t6 & 5 & AGATACCTATGGCCATATAGNGG & chr5 & 12540099 & 12540121 & + &  14 & 2:0 \\textbar{} 3:14   & 0.35172300 & 0.531946 & AGATACCTATGGCCATATAG\\\\\n",
       "\\end{tabular}\n"
      ],
      "text/markdown": [
       "\n",
       "A data.frame: 6 × 11\n",
       "\n",
       "| <!--/--> | Index &lt;int&gt; | gRNA &lt;chr&gt; | Chromosome &lt;chr&gt; | Start &lt;int&gt; | End &lt;int&gt; | Strand &lt;chr&gt; | Num.Off.Targets &lt;int&gt; | Off.Target.Summary &lt;chr&gt; | Specificity &lt;dbl&gt; | Cutting.Efficiency &lt;dbl&gt; | spacer &lt;chr&gt; |\n",
       "|---|---|---|---|---|---|---|---|---|---|---|---|\n",
       "| 1 | 0 | CTAAAGCATTGGCTGAGAAGNGG | chr8 | 23911081 | 23911103 | - |  41 | 2:2 | 3:39   | 0.13622800 | 0.565010 | CTAAAGCATTGGCTGAGAAG |\n",
       "| 2 | 1 | GTAGTTCACATAATCCCTGTNGG | chr4 | 25698193 | 25698215 | - |  55 | 2:0 | 3:55   | 0.16592900 | 0.572492 | GTAGTTCACATAATCCCTGT |\n",
       "| 3 | 2 | AAGTTGACTCTACATAGCAGNGG | chr8 | 23912565 | 23912587 | + |  22 | 2:1 | 3:21   | 0.34106700 | 0.636691 | AAGTTGACTCTACATAGCAG |\n",
       "| 4 | 3 | AATATTCTCCCTCATTCTGGNGG | chr5 | 12539360 | 12539382 | - | 803 | 2:26 | 3:777 | 0.00274364 | 0.619800 | AATATTCTCCCTCATTCTGG |\n",
       "| 5 | 4 | AATCCTCTAATGGACGAAGANGG | chr8 | 23913057 | 23913079 | - |  24 | 2:0 | 3:24   | 0.33441500 | 0.602272 | AATCCTCTAATGGACGAAGA |\n",
       "| 6 | 5 | AGATACCTATGGCCATATAGNGG | chr5 | 12540099 | 12540121 | + |  14 | 2:0 | 3:14   | 0.35172300 | 0.531946 | AGATACCTATGGCCATATAG |\n",
       "\n"
      ],
      "text/plain": [
       "  Index gRNA                    Chromosome Start    End      Strand\n",
       "1 0     CTAAAGCATTGGCTGAGAAGNGG chr8       23911081 23911103 -     \n",
       "2 1     GTAGTTCACATAATCCCTGTNGG chr4       25698193 25698215 -     \n",
       "3 2     AAGTTGACTCTACATAGCAGNGG chr8       23912565 23912587 +     \n",
       "4 3     AATATTCTCCCTCATTCTGGNGG chr5       12539360 12539382 -     \n",
       "5 4     AATCCTCTAATGGACGAAGANGG chr8       23913057 23913079 -     \n",
       "6 5     AGATACCTATGGCCATATAGNGG chr5       12540099 12540121 +     \n",
       "  Num.Off.Targets Off.Target.Summary Specificity Cutting.Efficiency\n",
       "1  41             2:2 | 3:39         0.13622800  0.565010          \n",
       "2  55             2:0 | 3:55         0.16592900  0.572492          \n",
       "3  22             2:1 | 3:21         0.34106700  0.636691          \n",
       "4 803             2:26 | 3:777       0.00274364  0.619800          \n",
       "5  24             2:0 | 3:24         0.33441500  0.602272          \n",
       "6  14             2:0 | 3:14         0.35172300  0.531946          \n",
       "  spacer              \n",
       "1 CTAAAGCATTGGCTGAGAAG\n",
       "2 GTAGTTCACATAATCCCTGT\n",
       "3 AAGTTGACTCTACATAGCAG\n",
       "4 AATATTCTCCCTCATTCTGG\n",
       "5 AATCCTCTAATGGACGAAGA\n",
       "6 AGATACCTATGGCCATATAG"
      ]
     },
     "metadata": {},
     "output_type": "display_data"
    }
   ],
   "source": [
    "# read in guide efficiency information\n",
    "print('reading in guide efficiencies!')\n",
    "guide.efficiencies.table <- h5read(\n",
    "    '/iblm/netapp/data1/external/Gasperini2019/processed/gasperini_data.h5',\n",
    "    'guidescan.output'\n",
    ")\n",
    "guide.efficiencies.table$spacer <- substring(\n",
    "    guide.efficiencies.table$gRNA,\n",
    "    1,\n",
    "    nchar(guide.efficiencies.table$gRNA) - 3\n",
    ")\n",
    "head(guide.efficiencies.table)"
   ]
  },
  {
   "cell_type": "code",
   "execution_count": 7,
   "metadata": {
    "vscode": {
     "languageId": "r"
    }
   },
   "outputs": [
    {
     "name": "stdout",
     "output_type": "stream",
     "text": [
      "[1] \"reading in cell-guide matrix!\"\n"
     ]
    },
    {
     "data": {
      "text/html": [
       "<table class=\"dataframe\">\n",
       "<caption>A matrix: 6 × 13187 of type int</caption>\n",
       "<thead>\n",
       "\t<tr><th scope=col>AGAAAGCTCCTCCAGTTCAC</th><th scope=col>TGATCGCTTTGACTGTGACA</th><th scope=col>ACAATAAAGAACAGAACACA</th><th scope=col>GTAAATTGAGACCTCAGGAG</th><th scope=col>TCTTCCCCCCACCAATAACA</th><th scope=col>GAGAAAAAAACAATTCAGGC</th><th scope=col>TCTTAGAGTTCACAGAAGAA</th><th scope=col>GCTGGGAATTTCTCTCCTGG</th><th scope=col>AGTGTAACAGAATATCAAAT</th><th scope=col>ACCCACTGTGACTAGACAAA</th><th scope=col>⋯</th><th scope=col>TACCGGAGGAGAAAGATGGG</th><th scope=col>TATTTCCTCCCCAAGATGTA</th><th scope=col>CCTTCCCACAGCACACCGCG</th><th scope=col>TCTTTCCCCAGACTTCTGCA</th><th scope=col>CTTTCCACTCCCACATAACA</th><th scope=col>TCCTCCCCACGGCCACCAGA</th><th scope=col>TCCTTCCCCTCAGTACACCA</th><th scope=col>ACATGCTGTTTCCAGAGCAG</th><th scope=col>CTTCTTCCACAAGAAGACAA</th><th scope=col>CTTTCCACAGACAAGGGGTA</th></tr>\n",
       "</thead>\n",
       "<tbody>\n",
       "\t<tr><td>1</td><td>1</td><td>1</td><td>1</td><td>1</td><td>1</td><td>1</td><td>1</td><td>1</td><td>1</td><td>⋯</td><td>0</td><td>0</td><td>0</td><td>0</td><td>0</td><td>0</td><td>0</td><td>0</td><td>0</td><td>0</td></tr>\n",
       "\t<tr><td>0</td><td>0</td><td>0</td><td>0</td><td>0</td><td>0</td><td>0</td><td>0</td><td>0</td><td>0</td><td>⋯</td><td>0</td><td>0</td><td>0</td><td>0</td><td>0</td><td>0</td><td>0</td><td>0</td><td>0</td><td>0</td></tr>\n",
       "\t<tr><td>0</td><td>0</td><td>0</td><td>0</td><td>0</td><td>0</td><td>0</td><td>0</td><td>0</td><td>0</td><td>⋯</td><td>0</td><td>0</td><td>0</td><td>0</td><td>0</td><td>0</td><td>0</td><td>0</td><td>0</td><td>0</td></tr>\n",
       "\t<tr><td>0</td><td>0</td><td>0</td><td>0</td><td>0</td><td>0</td><td>0</td><td>0</td><td>0</td><td>0</td><td>⋯</td><td>0</td><td>0</td><td>0</td><td>0</td><td>0</td><td>0</td><td>0</td><td>0</td><td>0</td><td>0</td></tr>\n",
       "\t<tr><td>0</td><td>0</td><td>0</td><td>0</td><td>0</td><td>0</td><td>0</td><td>0</td><td>0</td><td>0</td><td>⋯</td><td>0</td><td>0</td><td>0</td><td>0</td><td>0</td><td>0</td><td>0</td><td>0</td><td>0</td><td>0</td></tr>\n",
       "\t<tr><td>0</td><td>0</td><td>0</td><td>0</td><td>0</td><td>0</td><td>0</td><td>0</td><td>0</td><td>0</td><td>⋯</td><td>0</td><td>0</td><td>0</td><td>0</td><td>0</td><td>0</td><td>0</td><td>0</td><td>0</td><td>0</td></tr>\n",
       "</tbody>\n",
       "</table>\n"
      ],
      "text/latex": [
       "A matrix: 6 × 13187 of type int\n",
       "\\begin{tabular}{lllllllllllllllllllll}\n",
       " AGAAAGCTCCTCCAGTTCAC & TGATCGCTTTGACTGTGACA & ACAATAAAGAACAGAACACA & GTAAATTGAGACCTCAGGAG & TCTTCCCCCCACCAATAACA & GAGAAAAAAACAATTCAGGC & TCTTAGAGTTCACAGAAGAA & GCTGGGAATTTCTCTCCTGG & AGTGTAACAGAATATCAAAT & ACCCACTGTGACTAGACAAA & ⋯ & TACCGGAGGAGAAAGATGGG & TATTTCCTCCCCAAGATGTA & CCTTCCCACAGCACACCGCG & TCTTTCCCCAGACTTCTGCA & CTTTCCACTCCCACATAACA & TCCTCCCCACGGCCACCAGA & TCCTTCCCCTCAGTACACCA & ACATGCTGTTTCCAGAGCAG & CTTCTTCCACAAGAAGACAA & CTTTCCACAGACAAGGGGTA\\\\\n",
       "\\hline\n",
       "\t 1 & 1 & 1 & 1 & 1 & 1 & 1 & 1 & 1 & 1 & ⋯ & 0 & 0 & 0 & 0 & 0 & 0 & 0 & 0 & 0 & 0\\\\\n",
       "\t 0 & 0 & 0 & 0 & 0 & 0 & 0 & 0 & 0 & 0 & ⋯ & 0 & 0 & 0 & 0 & 0 & 0 & 0 & 0 & 0 & 0\\\\\n",
       "\t 0 & 0 & 0 & 0 & 0 & 0 & 0 & 0 & 0 & 0 & ⋯ & 0 & 0 & 0 & 0 & 0 & 0 & 0 & 0 & 0 & 0\\\\\n",
       "\t 0 & 0 & 0 & 0 & 0 & 0 & 0 & 0 & 0 & 0 & ⋯ & 0 & 0 & 0 & 0 & 0 & 0 & 0 & 0 & 0 & 0\\\\\n",
       "\t 0 & 0 & 0 & 0 & 0 & 0 & 0 & 0 & 0 & 0 & ⋯ & 0 & 0 & 0 & 0 & 0 & 0 & 0 & 0 & 0 & 0\\\\\n",
       "\t 0 & 0 & 0 & 0 & 0 & 0 & 0 & 0 & 0 & 0 & ⋯ & 0 & 0 & 0 & 0 & 0 & 0 & 0 & 0 & 0 & 0\\\\\n",
       "\\end{tabular}\n"
      ],
      "text/markdown": [
       "\n",
       "A matrix: 6 × 13187 of type int\n",
       "\n",
       "| AGAAAGCTCCTCCAGTTCAC | TGATCGCTTTGACTGTGACA | ACAATAAAGAACAGAACACA | GTAAATTGAGACCTCAGGAG | TCTTCCCCCCACCAATAACA | GAGAAAAAAACAATTCAGGC | TCTTAGAGTTCACAGAAGAA | GCTGGGAATTTCTCTCCTGG | AGTGTAACAGAATATCAAAT | ACCCACTGTGACTAGACAAA | ⋯ | TACCGGAGGAGAAAGATGGG | TATTTCCTCCCCAAGATGTA | CCTTCCCACAGCACACCGCG | TCTTTCCCCAGACTTCTGCA | CTTTCCACTCCCACATAACA | TCCTCCCCACGGCCACCAGA | TCCTTCCCCTCAGTACACCA | ACATGCTGTTTCCAGAGCAG | CTTCTTCCACAAGAAGACAA | CTTTCCACAGACAAGGGGTA |\n",
       "|---|---|---|---|---|---|---|---|---|---|---|---|---|---|---|---|---|---|---|---|---|\n",
       "| 1 | 1 | 1 | 1 | 1 | 1 | 1 | 1 | 1 | 1 | ⋯ | 0 | 0 | 0 | 0 | 0 | 0 | 0 | 0 | 0 | 0 |\n",
       "| 0 | 0 | 0 | 0 | 0 | 0 | 0 | 0 | 0 | 0 | ⋯ | 0 | 0 | 0 | 0 | 0 | 0 | 0 | 0 | 0 | 0 |\n",
       "| 0 | 0 | 0 | 0 | 0 | 0 | 0 | 0 | 0 | 0 | ⋯ | 0 | 0 | 0 | 0 | 0 | 0 | 0 | 0 | 0 | 0 |\n",
       "| 0 | 0 | 0 | 0 | 0 | 0 | 0 | 0 | 0 | 0 | ⋯ | 0 | 0 | 0 | 0 | 0 | 0 | 0 | 0 | 0 | 0 |\n",
       "| 0 | 0 | 0 | 0 | 0 | 0 | 0 | 0 | 0 | 0 | ⋯ | 0 | 0 | 0 | 0 | 0 | 0 | 0 | 0 | 0 | 0 |\n",
       "| 0 | 0 | 0 | 0 | 0 | 0 | 0 | 0 | 0 | 0 | ⋯ | 0 | 0 | 0 | 0 | 0 | 0 | 0 | 0 | 0 | 0 |\n",
       "\n"
      ],
      "text/plain": [
       "     AGAAAGCTCCTCCAGTTCAC TGATCGCTTTGACTGTGACA ACAATAAAGAACAGAACACA\n",
       "[1,] 1                    1                    1                   \n",
       "[2,] 0                    0                    0                   \n",
       "[3,] 0                    0                    0                   \n",
       "[4,] 0                    0                    0                   \n",
       "[5,] 0                    0                    0                   \n",
       "[6,] 0                    0                    0                   \n",
       "     GTAAATTGAGACCTCAGGAG TCTTCCCCCCACCAATAACA GAGAAAAAAACAATTCAGGC\n",
       "[1,] 1                    1                    1                   \n",
       "[2,] 0                    0                    0                   \n",
       "[3,] 0                    0                    0                   \n",
       "[4,] 0                    0                    0                   \n",
       "[5,] 0                    0                    0                   \n",
       "[6,] 0                    0                    0                   \n",
       "     TCTTAGAGTTCACAGAAGAA GCTGGGAATTTCTCTCCTGG AGTGTAACAGAATATCAAAT\n",
       "[1,] 1                    1                    1                   \n",
       "[2,] 0                    0                    0                   \n",
       "[3,] 0                    0                    0                   \n",
       "[4,] 0                    0                    0                   \n",
       "[5,] 0                    0                    0                   \n",
       "[6,] 0                    0                    0                   \n",
       "     ACCCACTGTGACTAGACAAA ⋯ TACCGGAGGAGAAAGATGGG TATTTCCTCCCCAAGATGTA\n",
       "[1,] 1                    ⋯ 0                    0                   \n",
       "[2,] 0                    ⋯ 0                    0                   \n",
       "[3,] 0                    ⋯ 0                    0                   \n",
       "[4,] 0                    ⋯ 0                    0                   \n",
       "[5,] 0                    ⋯ 0                    0                   \n",
       "[6,] 0                    ⋯ 0                    0                   \n",
       "     CCTTCCCACAGCACACCGCG TCTTTCCCCAGACTTCTGCA CTTTCCACTCCCACATAACA\n",
       "[1,] 0                    0                    0                   \n",
       "[2,] 0                    0                    0                   \n",
       "[3,] 0                    0                    0                   \n",
       "[4,] 0                    0                    0                   \n",
       "[5,] 0                    0                    0                   \n",
       "[6,] 0                    0                    0                   \n",
       "     TCCTCCCCACGGCCACCAGA TCCTTCCCCTCAGTACACCA ACATGCTGTTTCCAGAGCAG\n",
       "[1,] 0                    0                    0                   \n",
       "[2,] 0                    0                    0                   \n",
       "[3,] 0                    0                    0                   \n",
       "[4,] 0                    0                    0                   \n",
       "[5,] 0                    0                    0                   \n",
       "[6,] 0                    0                    0                   \n",
       "     CTTCTTCCACAAGAAGACAA CTTTCCACAGACAAGGGGTA\n",
       "[1,] 0                    0                   \n",
       "[2,] 0                    0                   \n",
       "[3,] 0                    0                   \n",
       "[4,] 0                    0                   \n",
       "[5,] 0                    0                   \n",
       "[6,] 0                    0                   "
      ]
     },
     "metadata": {},
     "output_type": "display_data"
    }
   ],
   "source": [
    "# read in cell-guide matrix\n",
    "print('reading in cell-guide matrix!')\n",
    "cell.guide.matrix <- h5read('/iblm/netapp/data1/external/Gasperini2019/processed/gasperini_data.h5', 'cell.guide.matrix')\n",
    "guide.spacers <- h5read('/iblm/netapp/data1/external/Gasperini2019/processed/gasperini_data.h5', 'guide.spacers')\n",
    "colnames(cell.guide.matrix) <- guide.spacers\n",
    "head(cell.guide.matrix)"
   ]
  },
  {
   "cell_type": "code",
   "execution_count": 8,
   "metadata": {
    "vscode": {
     "languageId": "r"
    }
   },
   "outputs": [
    {
     "name": "stdout",
     "output_type": "stream",
     "text": [
      "[1] \"reading in counts matrix!\"\n"
     ]
    },
    {
     "data": {
      "text/html": [
       "<table class=\"dataframe\">\n",
       "<caption>A matrix: 6 × 207324 of type dbl</caption>\n",
       "<tbody>\n",
       "\t<tr><th scope=row>ENSG00000238009</th><td>0</td><td>0</td><td>0</td><td>0</td><td>0</td><td>0</td><td>0</td><td>0</td><td>0</td><td>0</td><td>⋯</td><td>0</td><td>0</td><td>0</td><td>0</td><td>0</td><td>0</td><td>0</td><td>0</td><td>0</td><td>0</td></tr>\n",
       "\t<tr><th scope=row>ENSG00000237683</th><td>1</td><td>0</td><td>0</td><td>0</td><td>0</td><td>0</td><td>0</td><td>0</td><td>0</td><td>0</td><td>⋯</td><td>0</td><td>0</td><td>0</td><td>1</td><td>0</td><td>0</td><td>0</td><td>1</td><td>0</td><td>0</td></tr>\n",
       "\t<tr><th scope=row>ENSG00000228463</th><td>1</td><td>0</td><td>1</td><td>1</td><td>1</td><td>0</td><td>0</td><td>0</td><td>0</td><td>1</td><td>⋯</td><td>0</td><td>0</td><td>0</td><td>0</td><td>1</td><td>0</td><td>0</td><td>2</td><td>0</td><td>2</td></tr>\n",
       "\t<tr><th scope=row>ENSG00000237094</th><td>0</td><td>0</td><td>0</td><td>1</td><td>0</td><td>0</td><td>0</td><td>0</td><td>0</td><td>0</td><td>⋯</td><td>0</td><td>0</td><td>0</td><td>0</td><td>0</td><td>0</td><td>0</td><td>0</td><td>0</td><td>0</td></tr>\n",
       "\t<tr><th scope=row>ENSG00000235373</th><td>0</td><td>0</td><td>1</td><td>0</td><td>0</td><td>0</td><td>0</td><td>1</td><td>0</td><td>0</td><td>⋯</td><td>0</td><td>0</td><td>0</td><td>0</td><td>0</td><td>0</td><td>0</td><td>0</td><td>0</td><td>0</td></tr>\n",
       "\t<tr><th scope=row>ENSG00000228327</th><td>0</td><td>0</td><td>0</td><td>0</td><td>0</td><td>0</td><td>0</td><td>0</td><td>0</td><td>0</td><td>⋯</td><td>0</td><td>0</td><td>0</td><td>0</td><td>0</td><td>0</td><td>0</td><td>0</td><td>0</td><td>0</td></tr>\n",
       "</tbody>\n",
       "</table>\n"
      ],
      "text/latex": [
       "A matrix: 6 × 207324 of type dbl\n",
       "\\begin{tabular}{r|lllllllllllllllllllll}\n",
       "\tENSG00000238009 & 0 & 0 & 0 & 0 & 0 & 0 & 0 & 0 & 0 & 0 & ⋯ & 0 & 0 & 0 & 0 & 0 & 0 & 0 & 0 & 0 & 0\\\\\n",
       "\tENSG00000237683 & 1 & 0 & 0 & 0 & 0 & 0 & 0 & 0 & 0 & 0 & ⋯ & 0 & 0 & 0 & 1 & 0 & 0 & 0 & 1 & 0 & 0\\\\\n",
       "\tENSG00000228463 & 1 & 0 & 1 & 1 & 1 & 0 & 0 & 0 & 0 & 1 & ⋯ & 0 & 0 & 0 & 0 & 1 & 0 & 0 & 2 & 0 & 2\\\\\n",
       "\tENSG00000237094 & 0 & 0 & 0 & 1 & 0 & 0 & 0 & 0 & 0 & 0 & ⋯ & 0 & 0 & 0 & 0 & 0 & 0 & 0 & 0 & 0 & 0\\\\\n",
       "\tENSG00000235373 & 0 & 0 & 1 & 0 & 0 & 0 & 0 & 1 & 0 & 0 & ⋯ & 0 & 0 & 0 & 0 & 0 & 0 & 0 & 0 & 0 & 0\\\\\n",
       "\tENSG00000228327 & 0 & 0 & 0 & 0 & 0 & 0 & 0 & 0 & 0 & 0 & ⋯ & 0 & 0 & 0 & 0 & 0 & 0 & 0 & 0 & 0 & 0\\\\\n",
       "\\end{tabular}\n"
      ],
      "text/markdown": [
       "\n",
       "A matrix: 6 × 207324 of type dbl\n",
       "\n",
       "| ENSG00000238009 | 0 | 0 | 0 | 0 | 0 | 0 | 0 | 0 | 0 | 0 | ⋯ | 0 | 0 | 0 | 0 | 0 | 0 | 0 | 0 | 0 | 0 |\n",
       "| ENSG00000237683 | 1 | 0 | 0 | 0 | 0 | 0 | 0 | 0 | 0 | 0 | ⋯ | 0 | 0 | 0 | 1 | 0 | 0 | 0 | 1 | 0 | 0 |\n",
       "| ENSG00000228463 | 1 | 0 | 1 | 1 | 1 | 0 | 0 | 0 | 0 | 1 | ⋯ | 0 | 0 | 0 | 0 | 1 | 0 | 0 | 2 | 0 | 2 |\n",
       "| ENSG00000237094 | 0 | 0 | 0 | 1 | 0 | 0 | 0 | 0 | 0 | 0 | ⋯ | 0 | 0 | 0 | 0 | 0 | 0 | 0 | 0 | 0 | 0 |\n",
       "| ENSG00000235373 | 0 | 0 | 1 | 0 | 0 | 0 | 0 | 1 | 0 | 0 | ⋯ | 0 | 0 | 0 | 0 | 0 | 0 | 0 | 0 | 0 | 0 |\n",
       "| ENSG00000228327 | 0 | 0 | 0 | 0 | 0 | 0 | 0 | 0 | 0 | 0 | ⋯ | 0 | 0 | 0 | 0 | 0 | 0 | 0 | 0 | 0 | 0 |\n",
       "\n"
      ],
      "text/plain": [
       "                [,1] [,2] [,3] [,4] [,5] [,6] [,7] [,8] [,9] [,10] [,11] [,12]\n",
       "ENSG00000238009 0    0    0    0    0    0    0    0    0    0     ⋯     0    \n",
       "ENSG00000237683 1    0    0    0    0    0    0    0    0    0     ⋯     0    \n",
       "ENSG00000228463 1    0    1    1    1    0    0    0    0    1     ⋯     0    \n",
       "ENSG00000237094 0    0    0    1    0    0    0    0    0    0     ⋯     0    \n",
       "ENSG00000235373 0    0    1    0    0    0    0    1    0    0     ⋯     0    \n",
       "ENSG00000228327 0    0    0    0    0    0    0    0    0    0     ⋯     0    \n",
       "                [,13] [,14] [,15] [,16] [,17] [,18] [,19] [,20] [,21]\n",
       "ENSG00000238009 0     0     0     0     0     0     0     0     0    \n",
       "ENSG00000237683 0     0     1     0     0     0     1     0     0    \n",
       "ENSG00000228463 0     0     0     1     0     0     2     0     2    \n",
       "ENSG00000237094 0     0     0     0     0     0     0     0     0    \n",
       "ENSG00000235373 0     0     0     0     0     0     0     0     0    \n",
       "ENSG00000228327 0     0     0     0     0     0     0     0     0    "
      ]
     },
     "metadata": {},
     "output_type": "display_data"
    }
   ],
   "source": [
    "# read in counts matrix\n",
    "print('reading in counts matrix!')\n",
    "counts.matrix <- h5read('/iblm/netapp/data1/external/Gasperini2019/processed/gasperini_data.h5', 'gene.counts')\n",
    "gene.names <- h5read('/iblm/netapp/data1/external/Gasperini2019/processed/gasperini_data.h5', 'gene.names')\n",
    "rownames(counts.matrix) <- gene.names\n",
    "head(counts.matrix)"
   ]
  },
  {
   "cell_type": "code",
   "execution_count": 9,
   "metadata": {
    "vscode": {
     "languageId": "r"
    }
   },
   "outputs": [
    {
     "name": "stdout",
     "output_type": "stream",
     "text": [
      "[1] \"computing scaling factors!\"\n"
     ]
    },
    {
     "data": {
      "text/html": [
       "<style>\n",
       ".list-inline {list-style: none; margin:0; padding: 0}\n",
       ".list-inline>li {display: inline-block}\n",
       ".list-inline>li:not(:last-child)::after {content: \"\\00b7\"; padding: 0 .5ex}\n",
       "</style>\n",
       "<ol class=list-inline><li>0.017566</li><li>0.008917</li><li>0.014626</li><li>0.022783</li><li>0.010124</li><li>0.009743</li></ol>\n"
      ],
      "text/latex": [
       "\\begin{enumerate*}\n",
       "\\item 0.017566\n",
       "\\item 0.008917\n",
       "\\item 0.014626\n",
       "\\item 0.022783\n",
       "\\item 0.010124\n",
       "\\item 0.009743\n",
       "\\end{enumerate*}\n"
      ],
      "text/markdown": [
       "1. 0.017566\n",
       "2. 0.008917\n",
       "3. 0.014626\n",
       "4. 0.022783\n",
       "5. 0.010124\n",
       "6. 0.009743\n",
       "\n",
       "\n"
      ],
      "text/plain": [
       "[1] 0.017566 0.008917 0.014626 0.022783 0.010124 0.009743"
      ]
     },
     "metadata": {},
     "output_type": "display_data"
    }
   ],
   "source": [
    "# compute scaling factors based on count matrix\n",
    "print('computing scaling factors!')\n",
    "scaling.factors <- colSums(counts.matrix) / 1e6\n",
    "head(scaling.factors)"
   ]
  },
  {
   "cell_type": "code",
   "execution_count": 10,
   "metadata": {
    "vscode": {
     "languageId": "r"
    }
   },
   "outputs": [],
   "source": [
    "# read in enhancer-enhancer pairs\n",
    "enhancer.enhancer.pairs <- read.csv('/iblm/netapp/data1/external/Gasperini2019/processed/enhancer_pairs_suppl_table_2.csv')"
   ]
  },
  {
   "cell_type": "code",
   "execution_count": null,
   "metadata": {
    "vscode": {
     "languageId": "r"
    }
   },
   "outputs": [],
   "source": [
    "# set enhancer and gene names to LMO2 enhancer pair\n",
    "enhancer.1 <- 'chr11.1735'\n",
    "enhancer.2 <- 'chr11.1734'\n",
    "gene <- 'ENSG00000135363'"
   ]
  }
 ],
 "metadata": {
  "kernelspec": {
   "display_name": "R",
   "language": "R",
   "name": "ir"
  },
  "language_info": {
   "codemirror_mode": "r",
   "file_extension": ".r",
   "mimetype": "text/x-r-source",
   "name": "R",
   "pygments_lexer": "r",
   "version": "4.0.5"
  },
  "orig_nbformat": 4,
  "vscode": {
   "interpreter": {
    "hash": "9a8c7616d8358cca1a909f3b2fb6d460a06ed5084227372445b21416986dc75a"
   }
  }
 },
 "nbformat": 4,
 "nbformat_minor": 2
}
