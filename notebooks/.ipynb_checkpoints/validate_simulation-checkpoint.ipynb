{
 "cells": [
  {
   "cell_type": "code",
   "execution_count": 1,
   "id": "d13fe51c",
   "metadata": {},
   "outputs": [],
   "source": [
    "library(rhdf5)\n",
    "library(MASS)"
   ]
  },
  {
   "cell_type": "markdown",
   "id": "df3aa47b",
   "metadata": {},
   "source": [
    "# Test reading h5 and accessing data"
   ]
  },
  {
   "cell_type": "code",
   "execution_count": 2,
   "id": "1fbd7eae",
   "metadata": {},
   "outputs": [],
   "source": [
    "fh <- \"../simulated_data/sim.h5\""
   ]
  },
  {
   "cell_type": "markdown",
   "id": "b4354757",
   "metadata": {},
   "source": [
    "Get internal structure of h5 file"
   ]
  },
  {
   "cell_type": "code",
   "execution_count": 3,
   "id": "2280419f",
   "metadata": {},
   "outputs": [
    {
     "data": {
      "text/html": [
       "<table class=\"dataframe\">\n",
       "<caption>A data.frame: 9 × 5</caption>\n",
       "<thead>\n",
       "\t<tr><th></th><th scope=col>group</th><th scope=col>name</th><th scope=col>otype</th><th scope=col>dclass</th><th scope=col>dim</th></tr>\n",
       "\t<tr><th></th><th scope=col>&lt;chr&gt;</th><th scope=col>&lt;chr&gt;</th><th scope=col>&lt;chr&gt;</th><th scope=col>&lt;chr&gt;</th><th scope=col>&lt;chr&gt;</th></tr>\n",
       "</thead>\n",
       "<tbody>\n",
       "\t<tr><th scope=row>0</th><td>/      </td><td>coeffs           </td><td>H5I_DATASET</td><td>COMPOUND</td><td>13000        </td></tr>\n",
       "\t<tr><th scope=row>1</th><td>/      </td><td>counts           </td><td>H5I_DATASET</td><td>INTEGER </td><td>13000 x 50000</td></tr>\n",
       "\t<tr><th scope=row>2</th><td>/      </td><td>guides           </td><td>H5I_GROUP  </td><td>        </td><td>             </td></tr>\n",
       "\t<tr><th scope=row>3</th><td>/guides</td><td>metadata         </td><td>H5I_DATASET</td><td>COMPOUND</td><td>2000         </td></tr>\n",
       "\t<tr><th scope=row>4</th><td>/guides</td><td>one_hot          </td><td>H5I_DATASET</td><td>INTEGER </td><td>50000 x 2000 </td></tr>\n",
       "\t<tr><th scope=row>5</th><td>/      </td><td>scaling_factors  </td><td>H5I_DATASET</td><td>FLOAT   </td><td>50000        </td></tr>\n",
       "\t<tr><th scope=row>6</th><td>/      </td><td>x                </td><td>H5I_GROUP  </td><td>        </td><td>             </td></tr>\n",
       "\t<tr><th scope=row>7</th><td>/x     </td><td>cell_cycle_scores</td><td>H5I_DATASET</td><td>COMPOUND</td><td>50000        </td></tr>\n",
       "\t<tr><th scope=row>8</th><td>/x     </td><td>x1               </td><td>H5I_DATASET</td><td>INTEGER </td><td>13000 x 50000</td></tr>\n",
       "</tbody>\n",
       "</table>\n"
      ],
      "text/latex": [
       "A data.frame: 9 × 5\n",
       "\\begin{tabular}{r|lllll}\n",
       "  & group & name & otype & dclass & dim\\\\\n",
       "  & <chr> & <chr> & <chr> & <chr> & <chr>\\\\\n",
       "\\hline\n",
       "\t0 & /       & coeffs            & H5I\\_DATASET & COMPOUND & 13000        \\\\\n",
       "\t1 & /       & counts            & H5I\\_DATASET & INTEGER  & 13000 x 50000\\\\\n",
       "\t2 & /       & guides            & H5I\\_GROUP   &          &              \\\\\n",
       "\t3 & /guides & metadata          & H5I\\_DATASET & COMPOUND & 2000         \\\\\n",
       "\t4 & /guides & one\\_hot           & H5I\\_DATASET & INTEGER  & 50000 x 2000 \\\\\n",
       "\t5 & /       & scaling\\_factors   & H5I\\_DATASET & FLOAT    & 50000        \\\\\n",
       "\t6 & /       & x                 & H5I\\_GROUP   &          &              \\\\\n",
       "\t7 & /x      & cell\\_cycle\\_scores & H5I\\_DATASET & COMPOUND & 50000        \\\\\n",
       "\t8 & /x      & x1                & H5I\\_DATASET & INTEGER  & 13000 x 50000\\\\\n",
       "\\end{tabular}\n"
      ],
      "text/markdown": [
       "\n",
       "A data.frame: 9 × 5\n",
       "\n",
       "| <!--/--> | group &lt;chr&gt; | name &lt;chr&gt; | otype &lt;chr&gt; | dclass &lt;chr&gt; | dim &lt;chr&gt; |\n",
       "|---|---|---|---|---|---|\n",
       "| 0 | /       | coeffs            | H5I_DATASET | COMPOUND | 13000         |\n",
       "| 1 | /       | counts            | H5I_DATASET | INTEGER  | 13000 x 50000 |\n",
       "| 2 | /       | guides            | H5I_GROUP   | <!----> | <!----> |\n",
       "| 3 | /guides | metadata          | H5I_DATASET | COMPOUND | 2000          |\n",
       "| 4 | /guides | one_hot           | H5I_DATASET | INTEGER  | 50000 x 2000  |\n",
       "| 5 | /       | scaling_factors   | H5I_DATASET | FLOAT    | 50000         |\n",
       "| 6 | /       | x                 | H5I_GROUP   | <!----> | <!----> |\n",
       "| 7 | /x      | cell_cycle_scores | H5I_DATASET | COMPOUND | 50000         |\n",
       "| 8 | /x      | x1                | H5I_DATASET | INTEGER  | 13000 x 50000 |\n",
       "\n"
      ],
      "text/plain": [
       "  group   name              otype       dclass   dim          \n",
       "0 /       coeffs            H5I_DATASET COMPOUND 13000        \n",
       "1 /       counts            H5I_DATASET INTEGER  13000 x 50000\n",
       "2 /       guides            H5I_GROUP                         \n",
       "3 /guides metadata          H5I_DATASET COMPOUND 2000         \n",
       "4 /guides one_hot           H5I_DATASET INTEGER  50000 x 2000 \n",
       "5 /       scaling_factors   H5I_DATASET FLOAT    50000        \n",
       "6 /       x                 H5I_GROUP                         \n",
       "7 /x      cell_cycle_scores H5I_DATASET COMPOUND 50000        \n",
       "8 /x      x1                H5I_DATASET INTEGER  13000 x 50000"
      ]
     },
     "metadata": {},
     "output_type": "display_data"
    }
   ],
   "source": [
    "h5ls(fh)"
   ]
  },
  {
   "cell_type": "markdown",
   "id": "48cfd071",
   "metadata": {},
   "source": [
    "Test reading first row from counts matrix"
   ]
  },
  {
   "cell_type": "code",
   "execution_count": 4,
   "id": "f6eb495e",
   "metadata": {},
   "outputs": [
    {
     "data": {
      "text/plain": [
       "   user  system elapsed \n",
       "  0.837   0.241   1.083 "
      ]
     },
     "metadata": {},
     "output_type": "display_data"
    }
   ],
   "source": [
    "system.time(row.counts <- h5read(file = fh, name = \"counts\", index = list(1, 1:50000)))"
   ]
  },
  {
   "cell_type": "code",
   "execution_count": 5,
   "id": "24199ba1",
   "metadata": {},
   "outputs": [
    {
     "data": {
      "text/html": [
       "<table class=\"dataframe\">\n",
       "<caption>A matrix: 1 × 50000 of type int</caption>\n",
       "<tbody>\n",
       "\t<tr><td>0</td><td>15</td><td>4</td><td>2</td><td>1</td><td>0</td><td>0</td><td>44</td><td>30</td><td>20</td><td>⋯</td><td>6</td><td>8</td><td>16</td><td>1</td><td>24</td><td>0</td><td>0</td><td>0</td><td>0</td><td>4</td></tr>\n",
       "</tbody>\n",
       "</table>\n"
      ],
      "text/latex": [
       "A matrix: 1 × 50000 of type int\n",
       "\\begin{tabular}{lllllllllllllllllllll}\n",
       "\t 0 & 15 & 4 & 2 & 1 & 0 & 0 & 44 & 30 & 20 & ⋯ & 6 & 8 & 16 & 1 & 24 & 0 & 0 & 0 & 0 & 4\\\\\n",
       "\\end{tabular}\n"
      ],
      "text/markdown": [
       "\n",
       "A matrix: 1 × 50000 of type int\n",
       "\n",
       "| 0 | 15 | 4 | 2 | 1 | 0 | 0 | 44 | 30 | 20 | ⋯ | 6 | 8 | 16 | 1 | 24 | 0 | 0 | 0 | 0 | 4 |\n",
       "\n"
      ],
      "text/plain": [
       "     [,1] [,2] [,3] [,4] [,5] [,6] [,7] [,8] [,9] [,10] [,11] [,12] [,13] [,14]\n",
       "[1,] 0    15   4    2    1    0    0    44   30   20    ⋯     6     8     16   \n",
       "     [,15] [,16] [,17] [,18] [,19] [,20] [,21]\n",
       "[1,] 1     24    0     0     0     0     4    "
      ]
     },
     "metadata": {},
     "output_type": "display_data"
    }
   ],
   "source": [
    "row.counts"
   ]
  },
  {
   "cell_type": "markdown",
   "id": "173f4bac",
   "metadata": {},
   "source": [
    "Check if this matches"
   ]
  },
  {
   "cell_type": "code",
   "execution_count": 6,
   "id": "cfc3aa26",
   "metadata": {},
   "outputs": [
    {
     "data": {
      "text/html": [
       "<style>\n",
       ".list-inline {list-style: none; margin:0; padding: 0}\n",
       ".list-inline>li {display: inline-block}\n",
       ".list-inline>li:not(:last-child)::after {content: \"\\00b7\"; padding: 0 .5ex}\n",
       "</style>\n",
       "<ol class=list-inline><li>13000</li><li>50000</li></ol>\n"
      ],
      "text/latex": [
       "\\begin{enumerate*}\n",
       "\\item 13000\n",
       "\\item 50000\n",
       "\\end{enumerate*}\n"
      ],
      "text/markdown": [
       "1. 13000\n",
       "2. 50000\n",
       "\n",
       "\n"
      ],
      "text/plain": [
       "[1] 13000 50000"
      ]
     },
     "metadata": {},
     "output_type": "display_data"
    },
    {
     "data": {
      "text/html": [
       "<style>\n",
       ".list-inline {list-style: none; margin:0; padding: 0}\n",
       ".list-inline>li {display: inline-block}\n",
       ".list-inline>li:not(:last-child)::after {content: \"\\00b7\"; padding: 0 .5ex}\n",
       "</style>\n",
       "<ol class=list-inline><li>0</li><li>15</li><li>4</li><li>2</li><li>1</li><li>0</li><li>0</li><li>44</li><li>30</li><li>20</li></ol>\n"
      ],
      "text/latex": [
       "\\begin{enumerate*}\n",
       "\\item 0\n",
       "\\item 15\n",
       "\\item 4\n",
       "\\item 2\n",
       "\\item 1\n",
       "\\item 0\n",
       "\\item 0\n",
       "\\item 44\n",
       "\\item 30\n",
       "\\item 20\n",
       "\\end{enumerate*}\n"
      ],
      "text/markdown": [
       "1. 0\n",
       "2. 15\n",
       "3. 4\n",
       "4. 2\n",
       "5. 1\n",
       "6. 0\n",
       "7. 0\n",
       "8. 44\n",
       "9. 30\n",
       "10. 20\n",
       "\n",
       "\n"
      ],
      "text/plain": [
       " [1]  0 15  4  2  1  0  0 44 30 20"
      ]
     },
     "metadata": {},
     "output_type": "display_data"
    }
   ],
   "source": [
    "counts.mtx <- h5read(fh, \"counts\")\n",
    "dim(counts.mtx)\n",
    "counts.mtx[1,1:10]"
   ]
  },
  {
   "cell_type": "markdown",
   "id": "ee3323dd",
   "metadata": {},
   "source": [
    "Try pulling a row from matrix of $X_1$"
   ]
  },
  {
   "cell_type": "code",
   "execution_count": 7,
   "id": "26b54ebc",
   "metadata": {},
   "outputs": [
    {
     "data": {
      "text/plain": [
       "   user  system elapsed \n",
       "  0.490   0.015   0.508 "
      ]
     },
     "metadata": {},
     "output_type": "display_data"
    }
   ],
   "source": [
    "system.time(row.vars <- h5read(file = fh, name = \"x/x1\", index = list(1, 1:50000)))"
   ]
  },
  {
   "cell_type": "code",
   "execution_count": 8,
   "id": "b9ed7915",
   "metadata": {},
   "outputs": [
    {
     "data": {
      "text/html": [
       "309"
      ],
      "text/latex": [
       "309"
      ],
      "text/markdown": [
       "309"
      ],
      "text/plain": [
       "[1] 309"
      ]
     },
     "metadata": {},
     "output_type": "display_data"
    }
   ],
   "source": [
    "sum(row.vars)"
   ]
  },
  {
   "cell_type": "markdown",
   "id": "c47a65f7",
   "metadata": {},
   "source": [
    "Check if this is correct"
   ]
  },
  {
   "cell_type": "code",
   "execution_count": 9,
   "id": "ad0f2f93",
   "metadata": {},
   "outputs": [
    {
     "data": {
      "text/html": [
       "309"
      ],
      "text/latex": [
       "309"
      ],
      "text/markdown": [
       "309"
      ],
      "text/plain": [
       "[1] 309"
      ]
     },
     "metadata": {},
     "output_type": "display_data"
    }
   ],
   "source": [
    "x1.mtx <- h5read(fh, \"x/x1\")\n",
    "sum(x1.mtx[1,1:50000])"
   ]
  },
  {
   "cell_type": "markdown",
   "id": "7906f801",
   "metadata": {},
   "source": [
    "# Load fixed values\n",
    "\n",
    "Coefficients (ground truth for evaluating model performance) \n",
    "\n",
    "Cell cycle scores (same for every gene)"
   ]
  },
  {
   "cell_type": "code",
   "execution_count": 13,
   "id": "56b124c2",
   "metadata": {},
   "outputs": [],
   "source": [
    "coeffs <- h5read(file = fh, name = \"coeffs\")\n",
    "cell.cycle.scores <- h5read(fh, \"x/cell_cycle_scores\")"
   ]
  },
  {
   "cell_type": "code",
   "execution_count": 14,
   "id": "40e690e8",
   "metadata": {},
   "outputs": [
    {
     "data": {
      "text/html": [
       "<table class=\"dataframe\">\n",
       "<caption>A data.frame: 6 × 2</caption>\n",
       "<thead>\n",
       "\t<tr><th></th><th scope=col>s.scores</th><th scope=col>g2m.scores</th></tr>\n",
       "\t<tr><th></th><th scope=col>&lt;dbl&gt;</th><th scope=col>&lt;dbl&gt;</th></tr>\n",
       "</thead>\n",
       "<tbody>\n",
       "\t<tr><th scope=row>1</th><td>-0.6605419</td><td>-0.31670538</td></tr>\n",
       "\t<tr><th scope=row>2</th><td> 1.3238916</td><td>-1.14640695</td></tr>\n",
       "\t<tr><th scope=row>3</th><td>-0.1031474</td><td> 0.29847610</td></tr>\n",
       "\t<tr><th scope=row>4</th><td>-0.3260718</td><td> 0.60811720</td></tr>\n",
       "\t<tr><th scope=row>5</th><td> 0.5385560</td><td>-0.86269276</td></tr>\n",
       "\t<tr><th scope=row>6</th><td>-0.3940143</td><td>-0.02239488</td></tr>\n",
       "</tbody>\n",
       "</table>\n"
      ],
      "text/latex": [
       "A data.frame: 6 × 2\n",
       "\\begin{tabular}{r|ll}\n",
       "  & s.scores & g2m.scores\\\\\n",
       "  & <dbl> & <dbl>\\\\\n",
       "\\hline\n",
       "\t1 & -0.6605419 & -0.31670538\\\\\n",
       "\t2 &  1.3238916 & -1.14640695\\\\\n",
       "\t3 & -0.1031474 &  0.29847610\\\\\n",
       "\t4 & -0.3260718 &  0.60811720\\\\\n",
       "\t5 &  0.5385560 & -0.86269276\\\\\n",
       "\t6 & -0.3940143 & -0.02239488\\\\\n",
       "\\end{tabular}\n"
      ],
      "text/markdown": [
       "\n",
       "A data.frame: 6 × 2\n",
       "\n",
       "| <!--/--> | s.scores &lt;dbl&gt; | g2m.scores &lt;dbl&gt; |\n",
       "|---|---|---|\n",
       "| 1 | -0.6605419 | -0.31670538 |\n",
       "| 2 |  1.3238916 | -1.14640695 |\n",
       "| 3 | -0.1031474 |  0.29847610 |\n",
       "| 4 | -0.3260718 |  0.60811720 |\n",
       "| 5 |  0.5385560 | -0.86269276 |\n",
       "| 6 | -0.3940143 | -0.02239488 |\n",
       "\n"
      ],
      "text/plain": [
       "  s.scores   g2m.scores \n",
       "1 -0.6605419 -0.31670538\n",
       "2  1.3238916 -1.14640695\n",
       "3 -0.1031474  0.29847610\n",
       "4 -0.3260718  0.60811720\n",
       "5  0.5385560 -0.86269276\n",
       "6 -0.3940143 -0.02239488"
      ]
     },
     "metadata": {},
     "output_type": "display_data"
    }
   ],
   "source": [
    "head(cell.cycle.scores)"
   ]
  },
  {
   "cell_type": "markdown",
   "id": "2b3e98b9",
   "metadata": {},
   "source": [
    "# Define null and alternative models\n",
    "\n",
    "## Model\n",
    "$$y = \\text{NB}(\\mu=s \\cdot \\exp \\left( \\beta_0 + \\beta_1 X_1 + \\beta_2 X_2 + \\beta_3 X_3 \\right), n=\\sigma)$$\n",
    "### $H_0: \\beta_1 = 0 $\n",
    "### $H_A: \\beta_1 \\neq 0 $\n",
    "\n"
   ]
  },
  {
   "cell_type": "markdown",
   "id": "00934543",
   "metadata": {},
   "source": [
    "Test for one gene"
   ]
  },
  {
   "cell_type": "code",
   "execution_count": 26,
   "id": "c89ea0ed",
   "metadata": {},
   "outputs": [],
   "source": [
    "test.gene <- 1\n",
    "\n",
    "obs.counts <- h5read(file = fh, name = \"counts\", index = list(test.gene, 1:50000))\n",
    "gene.data <- data.frame(guide.eff = as.integer(h5read(file = fh, name = \"x/x1\", index = list(test.gene, 1:50000))),\n",
    "                       s.score = cell.cycle.scores$s.scores,\n",
    "                       g2m.score = cell.cycle.scores$g2m.scores)"
   ]
  },
  {
   "cell_type": "code",
   "execution_count": 28,
   "id": "dc29eed8",
   "metadata": {},
   "outputs": [
    {
     "ename": "ERROR",
     "evalue": "Error in model.frame.default(formula = obs.counts ~ guide.eff + s.score + : variable lengths differ (found for 'guide.eff')\n",
     "output_type": "error",
     "traceback": [
      "Error in model.frame.default(formula = obs.counts ~ guide.eff + s.score + : variable lengths differ (found for 'guide.eff')\nTraceback:\n",
      "1. glm.nb(obs.counts ~ guide.eff + s.score + g2m.score, data = gene.data)",
      "2. eval.parent(mf)",
      "3. eval(expr, p)",
      "4. eval(expr, p)",
      "5. stats::model.frame(formula = obs.counts ~ guide.eff + s.score + \n .     g2m.score, data = gene.data, drop.unused.levels = TRUE)",
      "6. model.frame.default(formula = obs.counts ~ guide.eff + s.score + \n .     g2m.score, data = gene.data, drop.unused.levels = TRUE)"
     ]
    }
   ],
   "source": [
    "ml <- glm.nb(obs.counts ~ guide.eff + s.score + g2m.score, data = gene.data)"
   ]
  },
  {
   "cell_type": "code",
   "execution_count": null,
   "id": "211df64a",
   "metadata": {},
   "outputs": [],
   "source": [
    "null <- function(par, counts, scale, s, g2m){\n",
    "    # h0: beta1 == 0 (gene is not repressed by any gRNA)\n",
    "    # par[1] = beta0 (baseline)\n",
    "    # par[2] = beta2 (s score effect)\n",
    "    # par[3] = beta3 (g2m score effect)\n",
    "    # par[4] = ln(disp)\n",
    "    # counts = counts for gene being modeled \n",
    "    # scale = scaling factors (per cell)\n",
    "    # s = s scores\n",
    "    # g2m = g2m scores\n",
    "    \n",
    "    disp <- exp(par[4])\n",
    "    mu <- s*exp(par[1] + par[2] * s + par[3] * g2m)\n",
    "    -sum(dnbinom(data, mean = mu, size = disp, log = TRUE))\n",
    "}\n",
    "\n",
    "alt <- function(par, counts, scale, gRNA.fx, s, g2m){\n",
    "    # hA: beta1 != 0 (gene expression is repressed by gRNA)\n",
    "    # par[1] = beta0 (baseline)\n",
    "    # par[2] = beta2 (s score effect)\n",
    "    # par[3] = beta3 (g2m score effect)\n",
    "    # par[4] = beta1 (gRNA effect size on target gene)\n",
    "    # par[5] = ln(disp)\n",
    "    # counts = counts for gene being modeled \n",
    "    # scale = scaling factors (per cell)\n",
    "    # gRNA.fx = x1, binary indicator for gRNA effectiveness\n",
    "    # s = s scores\n",
    "    # g2m = g2m scores\n",
    "    \n",
    "    disp <- exp(par[5])\n",
    "    mu <- s*exp(par[1] + par[2] * s + par[3] * g2m + par[4] * gRNA.fx)\n",
    "    -sum(dnbinom(data, mean = mu, size = disp, log = TRUE))\n",
    "}"
   ]
  }
 ],
 "metadata": {
  "kernelspec": {
   "display_name": "R [conda env:crisprqtl]",
   "language": "R",
   "name": "conda-env-crisprqtl-r"
  },
  "language_info": {
   "codemirror_mode": "r",
   "file_extension": ".r",
   "mimetype": "text/x-r-source",
   "name": "R",
   "pygments_lexer": "r",
   "version": "4.1.3"
  }
 },
 "nbformat": 4,
 "nbformat_minor": 5
}
