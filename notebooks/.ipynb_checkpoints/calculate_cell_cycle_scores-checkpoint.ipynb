{
 "cells": [
  {
   "cell_type": "markdown",
   "id": "4b2d5984-86c6-444a-8df3-76e5dddc3f66",
   "metadata": {},
   "source": [
    "# Cell Cycle Scoring\n",
    "\n",
    "This Jupyter notebooks uses the Seurat single-cell RNA-seq analysis package to compute cell cycle scores for each cell in the Gasperini et al. 2019 dataset. This code is based off the Seurat cell-cycle scoring and regression vignette available at: https://satijalab.org/seurat/articles/cell_cycle_vignette.html\n",
    "\n",
    "Author: Karthik Guruvayurappan"
   ]
  },
  {
   "cell_type": "code",
   "execution_count": 1,
   "id": "84d40f89-d526-4e87-b048-85e4d5c8274f",
   "metadata": {},
   "outputs": [
    {
     "name": "stderr",
     "output_type": "stream",
     "text": [
      "Warning message:\n",
      "“replacing previous import ‘lifecycle::last_warnings’ by ‘rlang::last_warnings’ when loading ‘tibble’”\n",
      "Attaching SeuratObject\n",
      "\n",
      "Attaching sp\n",
      "\n"
     ]
    }
   ],
   "source": [
    "library('Seurat')\n",
    "library('Matrix')"
   ]
  },
  {
   "cell_type": "code",
   "execution_count": null,
   "id": "554dee78-30af-4131-88ab-24857ed44dca",
   "metadata": {},
   "outputs": [],
   "source": [
    "# load in UMI count (expression) matrix\n",
    "expression.matrix <- readMM('/iblm/netapp/data1/external/Gasperini2019/suppl/GSE120861_at_scale_screen.exprs.mtx')\n",
    "head(expression.matrix)"
   ]
  },
  {
   "cell_type": "code",
   "execution_count": null,
   "id": "fcacd7c3-1df7-4ddd-8f7f-a8e131172f7f",
   "metadata": {},
   "outputs": [],
   "source": [
    "# convert expression matrix from matrix to data frame format\n",
    "expression.matrix <- as.data.frame(expression.matrix)\n",
    "head(expression.matrix)"
   ]
  },
  {
   "cell_type": "code",
   "execution_count": null,
   "id": "380d26fd-dfa8-4c6d-aff2-9007e70dea80",
   "metadata": {},
   "outputs": [],
   "source": [
    "# read in column names and add to expression matrix\n",
    "cell.barcodes <- read.delim('/iblm/netapp/data1/external/Gasperini2019/suppl/GSE120861_at_scale_screen.cells.txt', header = FALSE)\n",
    "cell.barcodes <- cell.barcodes$V1\n",
    "colnames(expression.matrix) <- cell.barcodes\n",
    "head(expression.matrix)"
   ]
  },
  {
   "cell_type": "code",
   "execution_count": null,
   "id": "f3054daf-1707-497a-8f79-32d6bc828dde",
   "metadata": {},
   "outputs": [],
   "source": [
    "# read in row names and add to expression matrix\n",
    "genes <- read.delim('/iblm/netapp/data1/external/Gasperini2019/suppl/GSE120861_at_scale_screen.genes.txt', header = FALSE)\n",
    "genes <- genes$V1\n",
    "rownames(expression.matrix) <- genes\n",
    "head(expression.matrix)"
   ]
  },
  {
   "cell_type": "code",
   "execution_count": null,
   "id": "0a27edc0-1e91-49bf-b411-e32f29ec209e",
   "metadata": {},
   "outputs": [],
   "source": [
    "gene.expression <- CreateSeuratObject(counts = expression.matrix)\n",
    "gene.expression"
   ]
  },
  {
   "cell_type": "code",
   "execution_count": null,
   "id": "6f674a6b-57f8-4368-82c2-16e75ae7b70b",
   "metadata": {},
   "outputs": [],
   "source": [
    "gene.expression <- NormalizeData(gene.expression)\n",
    "gene.expression"
   ]
  },
  {
   "cell_type": "code",
   "execution_count": null,
   "id": "481cf841-60bd-4d63-9258-381701196e66",
   "metadata": {},
   "outputs": [],
   "source": [
    "gene.expression <- FindVariableFeatures(gene.expression, selection.method  = \"vst\")\n",
    "gene.expression"
   ]
  },
  {
   "cell_type": "code",
   "execution_count": null,
   "id": "fb0f9e8b-2df9-4db9-a03c-bd2b7fb137e1",
   "metadata": {},
   "outputs": [],
   "source": [
    "gene.expression <- ScaleData(gene.expression, features = rownames(gene.expression))\n",
    "gene.expression"
   ]
  },
  {
   "cell_type": "code",
   "execution_count": null,
   "id": "14176c11-cb29-4e12-ac46-1f6a182d840e",
   "metadata": {},
   "outputs": [],
   "source": [
    "gene.expression <- RunPCA(gene.expression, features = VariableFeatures(gene.expression), ndims.print = 1:5, nfeatures.print = 10)\n",
    "gene.expression"
   ]
  }
 ],
 "metadata": {
  "kernelspec": {
   "display_name": "R [conda env:r4]",
   "language": "R",
   "name": "conda-env-r4-r"
  },
  "language_info": {
   "codemirror_mode": "r",
   "file_extension": ".r",
   "mimetype": "text/x-r-source",
   "name": "R",
   "pygments_lexer": "r",
   "version": "4.0.5"
  }
 },
 "nbformat": 4,
 "nbformat_minor": 5
}
