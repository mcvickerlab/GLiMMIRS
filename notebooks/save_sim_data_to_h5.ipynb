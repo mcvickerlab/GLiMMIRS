{
 "cells": [
  {
   "cell_type": "code",
   "execution_count": 10,
   "id": "bf145721",
   "metadata": {},
   "outputs": [],
   "source": [
    "library(Matrix)\n",
    "library(rhdf5)"
   ]
  },
  {
   "cell_type": "markdown",
   "id": "b63cc5e3",
   "metadata": {},
   "source": [
    "Load guides metadata"
   ]
  },
  {
   "cell_type": "code",
   "execution_count": 1,
   "id": "f2230de6",
   "metadata": {},
   "outputs": [
    {
     "data": {
      "text/html": [
       "<table>\n",
       "<caption>A data.frame: 2000 × 3</caption>\n",
       "<thead>\n",
       "\t<tr><th></th><th scope=col>guide.gene.map</th><th scope=col>efficiencies</th><th scope=col>rep.effect.sizes..2.</th></tr>\n",
       "\t<tr><th></th><th scope=col>&lt;int&gt;</th><th scope=col>&lt;dbl&gt;</th><th scope=col>&lt;dbl&gt;</th></tr>\n",
       "</thead>\n",
       "<tbody>\n",
       "\t<tr><th scope=row>1</th><td> 5887</td><td>0.7065382</td><td>-3.6069131</td></tr>\n",
       "\t<tr><th scope=row>2</th><td> 8302</td><td>0.7781518</td><td>-2.9024766</td></tr>\n",
       "\t<tr><th scope=row>3</th><td>10410</td><td>0.8232479</td><td>-0.8901199</td></tr>\n",
       "\t<tr><th scope=row>4</th><td> 6695</td><td>0.8438286</td><td>-1.4595215</td></tr>\n",
       "\t<tr><th scope=row>5</th><td> 1005</td><td>0.6390148</td><td>-1.7345178</td></tr>\n",
       "\t<tr><th scope=row>6</th><td> 6820</td><td>0.8036946</td><td>-2.8095869</td></tr>\n",
       "\t<tr><th scope=row>7</th><td> 3448</td><td>0.5438270</td><td>-3.9376175</td></tr>\n",
       "\t<tr><th scope=row>8</th><td> 3972</td><td>0.7299286</td><td>-4.0840856</td></tr>\n",
       "\t<tr><th scope=row>9</th><td>10735</td><td>0.6424908</td><td>-2.0561592</td></tr>\n",
       "\t<tr><th scope=row>10</th><td> 1635</td><td>0.7021550</td><td>-4.5507160</td></tr>\n",
       "\t<tr><th scope=row>11</th><td>10381</td><td>0.4297073</td><td>-4.1760009</td></tr>\n",
       "\t<tr><th scope=row>12</th><td> 5980</td><td>0.6339546</td><td>-0.5652035</td></tr>\n",
       "\t<tr><th scope=row>13</th><td> 2252</td><td>0.7593197</td><td>-3.9731408</td></tr>\n",
       "\t<tr><th scope=row>14</th><td> 4935</td><td>0.6587383</td><td>-3.2203776</td></tr>\n",
       "\t<tr><th scope=row>15</th><td>10079</td><td>0.7401255</td><td>-5.4994524</td></tr>\n",
       "\t<tr><th scope=row>16</th><td> 5352</td><td>0.8174461</td><td>-5.9691574</td></tr>\n",
       "\t<tr><th scope=row>17</th><td> 1277</td><td>0.5555070</td><td>-3.3355494</td></tr>\n",
       "\t<tr><th scope=row>18</th><td> 3301</td><td>0.6379735</td><td>-1.6046798</td></tr>\n",
       "\t<tr><th scope=row>19</th><td> 8819</td><td>0.3981775</td><td>-5.6298429</td></tr>\n",
       "\t<tr><th scope=row>20</th><td> 8869</td><td>0.6119720</td><td>-4.2466270</td></tr>\n",
       "\t<tr><th scope=row>21</th><td>12964</td><td>0.4920337</td><td>-4.0371266</td></tr>\n",
       "\t<tr><th scope=row>22</th><td> 1624</td><td>0.6968628</td><td>-2.8051792</td></tr>\n",
       "\t<tr><th scope=row>23</th><td> 5365</td><td>0.5066820</td><td>-5.5604879</td></tr>\n",
       "\t<tr><th scope=row>24</th><td> 6903</td><td>0.5893249</td><td>-4.2629001</td></tr>\n",
       "\t<tr><th scope=row>25</th><td> 8293</td><td>0.5784466</td><td>-1.7267069</td></tr>\n",
       "\t<tr><th scope=row>26</th><td>10977</td><td>0.7229427</td><td>-1.4513264</td></tr>\n",
       "\t<tr><th scope=row>27</th><td> 5033</td><td>0.8930482</td><td>-3.4375183</td></tr>\n",
       "\t<tr><th scope=row>28</th><td> 4107</td><td>0.6659242</td><td>-2.9537260</td></tr>\n",
       "\t<tr><th scope=row>29</th><td> 2639</td><td>0.7536829</td><td>-3.5866765</td></tr>\n",
       "\t<tr><th scope=row>30</th><td> 7604</td><td>0.5630265</td><td>-1.9036483</td></tr>\n",
       "\t<tr><th scope=row>⋮</th><td>⋮</td><td>⋮</td><td>⋮</td></tr>\n",
       "\t<tr><th scope=row>1971</th><td> 4046</td><td>0.7090354</td><td>-6.230030</td></tr>\n",
       "\t<tr><th scope=row>1972</th><td>11654</td><td>0.5845183</td><td>-3.026537</td></tr>\n",
       "\t<tr><th scope=row>1973</th><td>10248</td><td>0.4233674</td><td>-2.319554</td></tr>\n",
       "\t<tr><th scope=row>1974</th><td> 7422</td><td>0.6320099</td><td>-1.520730</td></tr>\n",
       "\t<tr><th scope=row>1975</th><td> 9794</td><td>0.4913736</td><td>-3.113829</td></tr>\n",
       "\t<tr><th scope=row>1976</th><td> 6168</td><td>0.6455926</td><td>-3.305075</td></tr>\n",
       "\t<tr><th scope=row>1977</th><td> 9672</td><td>0.8118123</td><td>-3.245296</td></tr>\n",
       "\t<tr><th scope=row>1978</th><td>10034</td><td>0.7764320</td><td>-2.397089</td></tr>\n",
       "\t<tr><th scope=row>1979</th><td> 1730</td><td>0.7845986</td><td>-2.339716</td></tr>\n",
       "\t<tr><th scope=row>1980</th><td> 9363</td><td>0.7214108</td><td>-1.141975</td></tr>\n",
       "\t<tr><th scope=row>1981</th><td>10737</td><td>0.9365814</td><td>-2.745209</td></tr>\n",
       "\t<tr><th scope=row>1982</th><td>10577</td><td>0.8043066</td><td>-3.061243</td></tr>\n",
       "\t<tr><th scope=row>1983</th><td>  993</td><td>0.6476157</td><td>-2.970385</td></tr>\n",
       "\t<tr><th scope=row>1984</th><td>    5</td><td>0.6063289</td><td>-5.954661</td></tr>\n",
       "\t<tr><th scope=row>1985</th><td> 5732</td><td>0.6544470</td><td>-3.515743</td></tr>\n",
       "\t<tr><th scope=row>1986</th><td>12769</td><td>0.7948248</td><td>-1.839338</td></tr>\n",
       "\t<tr><th scope=row>1987</th><td> 1084</td><td>0.6643999</td><td>-1.485048</td></tr>\n",
       "\t<tr><th scope=row>1988</th><td> 5344</td><td>0.7657973</td><td>-1.952140</td></tr>\n",
       "\t<tr><th scope=row>1989</th><td>12234</td><td>0.6306474</td><td>-3.528945</td></tr>\n",
       "\t<tr><th scope=row>1990</th><td> 8127</td><td>0.8576219</td><td>-5.016197</td></tr>\n",
       "\t<tr><th scope=row>1991</th><td>11981</td><td>0.8132511</td><td>-3.994116</td></tr>\n",
       "\t<tr><th scope=row>1992</th><td>12112</td><td>0.5827337</td><td>-5.599879</td></tr>\n",
       "\t<tr><th scope=row>1993</th><td> 7367</td><td>0.7516153</td><td>-3.960723</td></tr>\n",
       "\t<tr><th scope=row>1994</th><td> 9423</td><td>0.8285484</td><td>-2.264865</td></tr>\n",
       "\t<tr><th scope=row>1995</th><td> 3214</td><td>0.5575906</td><td>-5.198476</td></tr>\n",
       "\t<tr><th scope=row>1996</th><td> 8939</td><td>0.7435988</td><td>-2.947273</td></tr>\n",
       "\t<tr><th scope=row>1997</th><td>12896</td><td>0.8944568</td><td>-2.739537</td></tr>\n",
       "\t<tr><th scope=row>1998</th><td> 6684</td><td>0.5336723</td><td>-5.028707</td></tr>\n",
       "\t<tr><th scope=row>1999</th><td> 4258</td><td>0.7031634</td><td>-2.815480</td></tr>\n",
       "\t<tr><th scope=row>2000</th><td>  344</td><td>0.5405593</td><td>-3.973348</td></tr>\n",
       "</tbody>\n",
       "</table>\n"
      ],
      "text/latex": [
       "A data.frame: 2000 × 3\n",
       "\\begin{tabular}{r|lll}\n",
       "  & guide.gene.map & efficiencies & rep.effect.sizes..2.\\\\\n",
       "  & <int> & <dbl> & <dbl>\\\\\n",
       "\\hline\n",
       "\t1 &  5887 & 0.7065382 & -3.6069131\\\\\n",
       "\t2 &  8302 & 0.7781518 & -2.9024766\\\\\n",
       "\t3 & 10410 & 0.8232479 & -0.8901199\\\\\n",
       "\t4 &  6695 & 0.8438286 & -1.4595215\\\\\n",
       "\t5 &  1005 & 0.6390148 & -1.7345178\\\\\n",
       "\t6 &  6820 & 0.8036946 & -2.8095869\\\\\n",
       "\t7 &  3448 & 0.5438270 & -3.9376175\\\\\n",
       "\t8 &  3972 & 0.7299286 & -4.0840856\\\\\n",
       "\t9 & 10735 & 0.6424908 & -2.0561592\\\\\n",
       "\t10 &  1635 & 0.7021550 & -4.5507160\\\\\n",
       "\t11 & 10381 & 0.4297073 & -4.1760009\\\\\n",
       "\t12 &  5980 & 0.6339546 & -0.5652035\\\\\n",
       "\t13 &  2252 & 0.7593197 & -3.9731408\\\\\n",
       "\t14 &  4935 & 0.6587383 & -3.2203776\\\\\n",
       "\t15 & 10079 & 0.7401255 & -5.4994524\\\\\n",
       "\t16 &  5352 & 0.8174461 & -5.9691574\\\\\n",
       "\t17 &  1277 & 0.5555070 & -3.3355494\\\\\n",
       "\t18 &  3301 & 0.6379735 & -1.6046798\\\\\n",
       "\t19 &  8819 & 0.3981775 & -5.6298429\\\\\n",
       "\t20 &  8869 & 0.6119720 & -4.2466270\\\\\n",
       "\t21 & 12964 & 0.4920337 & -4.0371266\\\\\n",
       "\t22 &  1624 & 0.6968628 & -2.8051792\\\\\n",
       "\t23 &  5365 & 0.5066820 & -5.5604879\\\\\n",
       "\t24 &  6903 & 0.5893249 & -4.2629001\\\\\n",
       "\t25 &  8293 & 0.5784466 & -1.7267069\\\\\n",
       "\t26 & 10977 & 0.7229427 & -1.4513264\\\\\n",
       "\t27 &  5033 & 0.8930482 & -3.4375183\\\\\n",
       "\t28 &  4107 & 0.6659242 & -2.9537260\\\\\n",
       "\t29 &  2639 & 0.7536829 & -3.5866765\\\\\n",
       "\t30 &  7604 & 0.5630265 & -1.9036483\\\\\n",
       "\t⋮ & ⋮ & ⋮ & ⋮\\\\\n",
       "\t1971 &  4046 & 0.7090354 & -6.230030\\\\\n",
       "\t1972 & 11654 & 0.5845183 & -3.026537\\\\\n",
       "\t1973 & 10248 & 0.4233674 & -2.319554\\\\\n",
       "\t1974 &  7422 & 0.6320099 & -1.520730\\\\\n",
       "\t1975 &  9794 & 0.4913736 & -3.113829\\\\\n",
       "\t1976 &  6168 & 0.6455926 & -3.305075\\\\\n",
       "\t1977 &  9672 & 0.8118123 & -3.245296\\\\\n",
       "\t1978 & 10034 & 0.7764320 & -2.397089\\\\\n",
       "\t1979 &  1730 & 0.7845986 & -2.339716\\\\\n",
       "\t1980 &  9363 & 0.7214108 & -1.141975\\\\\n",
       "\t1981 & 10737 & 0.9365814 & -2.745209\\\\\n",
       "\t1982 & 10577 & 0.8043066 & -3.061243\\\\\n",
       "\t1983 &   993 & 0.6476157 & -2.970385\\\\\n",
       "\t1984 &     5 & 0.6063289 & -5.954661\\\\\n",
       "\t1985 &  5732 & 0.6544470 & -3.515743\\\\\n",
       "\t1986 & 12769 & 0.7948248 & -1.839338\\\\\n",
       "\t1987 &  1084 & 0.6643999 & -1.485048\\\\\n",
       "\t1988 &  5344 & 0.7657973 & -1.952140\\\\\n",
       "\t1989 & 12234 & 0.6306474 & -3.528945\\\\\n",
       "\t1990 &  8127 & 0.8576219 & -5.016197\\\\\n",
       "\t1991 & 11981 & 0.8132511 & -3.994116\\\\\n",
       "\t1992 & 12112 & 0.5827337 & -5.599879\\\\\n",
       "\t1993 &  7367 & 0.7516153 & -3.960723\\\\\n",
       "\t1994 &  9423 & 0.8285484 & -2.264865\\\\\n",
       "\t1995 &  3214 & 0.5575906 & -5.198476\\\\\n",
       "\t1996 &  8939 & 0.7435988 & -2.947273\\\\\n",
       "\t1997 & 12896 & 0.8944568 & -2.739537\\\\\n",
       "\t1998 &  6684 & 0.5336723 & -5.028707\\\\\n",
       "\t1999 &  4258 & 0.7031634 & -2.815480\\\\\n",
       "\t2000 &   344 & 0.5405593 & -3.973348\\\\\n",
       "\\end{tabular}\n"
      ],
      "text/markdown": [
       "\n",
       "A data.frame: 2000 × 3\n",
       "\n",
       "| <!--/--> | guide.gene.map &lt;int&gt; | efficiencies &lt;dbl&gt; | rep.effect.sizes..2. &lt;dbl&gt; |\n",
       "|---|---|---|---|\n",
       "| 1 |  5887 | 0.7065382 | -3.6069131 |\n",
       "| 2 |  8302 | 0.7781518 | -2.9024766 |\n",
       "| 3 | 10410 | 0.8232479 | -0.8901199 |\n",
       "| 4 |  6695 | 0.8438286 | -1.4595215 |\n",
       "| 5 |  1005 | 0.6390148 | -1.7345178 |\n",
       "| 6 |  6820 | 0.8036946 | -2.8095869 |\n",
       "| 7 |  3448 | 0.5438270 | -3.9376175 |\n",
       "| 8 |  3972 | 0.7299286 | -4.0840856 |\n",
       "| 9 | 10735 | 0.6424908 | -2.0561592 |\n",
       "| 10 |  1635 | 0.7021550 | -4.5507160 |\n",
       "| 11 | 10381 | 0.4297073 | -4.1760009 |\n",
       "| 12 |  5980 | 0.6339546 | -0.5652035 |\n",
       "| 13 |  2252 | 0.7593197 | -3.9731408 |\n",
       "| 14 |  4935 | 0.6587383 | -3.2203776 |\n",
       "| 15 | 10079 | 0.7401255 | -5.4994524 |\n",
       "| 16 |  5352 | 0.8174461 | -5.9691574 |\n",
       "| 17 |  1277 | 0.5555070 | -3.3355494 |\n",
       "| 18 |  3301 | 0.6379735 | -1.6046798 |\n",
       "| 19 |  8819 | 0.3981775 | -5.6298429 |\n",
       "| 20 |  8869 | 0.6119720 | -4.2466270 |\n",
       "| 21 | 12964 | 0.4920337 | -4.0371266 |\n",
       "| 22 |  1624 | 0.6968628 | -2.8051792 |\n",
       "| 23 |  5365 | 0.5066820 | -5.5604879 |\n",
       "| 24 |  6903 | 0.5893249 | -4.2629001 |\n",
       "| 25 |  8293 | 0.5784466 | -1.7267069 |\n",
       "| 26 | 10977 | 0.7229427 | -1.4513264 |\n",
       "| 27 |  5033 | 0.8930482 | -3.4375183 |\n",
       "| 28 |  4107 | 0.6659242 | -2.9537260 |\n",
       "| 29 |  2639 | 0.7536829 | -3.5866765 |\n",
       "| 30 |  7604 | 0.5630265 | -1.9036483 |\n",
       "| ⋮ | ⋮ | ⋮ | ⋮ |\n",
       "| 1971 |  4046 | 0.7090354 | -6.230030 |\n",
       "| 1972 | 11654 | 0.5845183 | -3.026537 |\n",
       "| 1973 | 10248 | 0.4233674 | -2.319554 |\n",
       "| 1974 |  7422 | 0.6320099 | -1.520730 |\n",
       "| 1975 |  9794 | 0.4913736 | -3.113829 |\n",
       "| 1976 |  6168 | 0.6455926 | -3.305075 |\n",
       "| 1977 |  9672 | 0.8118123 | -3.245296 |\n",
       "| 1978 | 10034 | 0.7764320 | -2.397089 |\n",
       "| 1979 |  1730 | 0.7845986 | -2.339716 |\n",
       "| 1980 |  9363 | 0.7214108 | -1.141975 |\n",
       "| 1981 | 10737 | 0.9365814 | -2.745209 |\n",
       "| 1982 | 10577 | 0.8043066 | -3.061243 |\n",
       "| 1983 |   993 | 0.6476157 | -2.970385 |\n",
       "| 1984 |     5 | 0.6063289 | -5.954661 |\n",
       "| 1985 |  5732 | 0.6544470 | -3.515743 |\n",
       "| 1986 | 12769 | 0.7948248 | -1.839338 |\n",
       "| 1987 |  1084 | 0.6643999 | -1.485048 |\n",
       "| 1988 |  5344 | 0.7657973 | -1.952140 |\n",
       "| 1989 | 12234 | 0.6306474 | -3.528945 |\n",
       "| 1990 |  8127 | 0.8576219 | -5.016197 |\n",
       "| 1991 | 11981 | 0.8132511 | -3.994116 |\n",
       "| 1992 | 12112 | 0.5827337 | -5.599879 |\n",
       "| 1993 |  7367 | 0.7516153 | -3.960723 |\n",
       "| 1994 |  9423 | 0.8285484 | -2.264865 |\n",
       "| 1995 |  3214 | 0.5575906 | -5.198476 |\n",
       "| 1996 |  8939 | 0.7435988 | -2.947273 |\n",
       "| 1997 | 12896 | 0.8944568 | -2.739537 |\n",
       "| 1998 |  6684 | 0.5336723 | -5.028707 |\n",
       "| 1999 |  4258 | 0.7031634 | -2.815480 |\n",
       "| 2000 |   344 | 0.5405593 | -3.973348 |\n",
       "\n"
      ],
      "text/plain": [
       "     guide.gene.map efficiencies rep.effect.sizes..2.\n",
       "1     5887          0.7065382    -3.6069131          \n",
       "2     8302          0.7781518    -2.9024766          \n",
       "3    10410          0.8232479    -0.8901199          \n",
       "4     6695          0.8438286    -1.4595215          \n",
       "5     1005          0.6390148    -1.7345178          \n",
       "6     6820          0.8036946    -2.8095869          \n",
       "7     3448          0.5438270    -3.9376175          \n",
       "8     3972          0.7299286    -4.0840856          \n",
       "9    10735          0.6424908    -2.0561592          \n",
       "10    1635          0.7021550    -4.5507160          \n",
       "11   10381          0.4297073    -4.1760009          \n",
       "12    5980          0.6339546    -0.5652035          \n",
       "13    2252          0.7593197    -3.9731408          \n",
       "14    4935          0.6587383    -3.2203776          \n",
       "15   10079          0.7401255    -5.4994524          \n",
       "16    5352          0.8174461    -5.9691574          \n",
       "17    1277          0.5555070    -3.3355494          \n",
       "18    3301          0.6379735    -1.6046798          \n",
       "19    8819          0.3981775    -5.6298429          \n",
       "20    8869          0.6119720    -4.2466270          \n",
       "21   12964          0.4920337    -4.0371266          \n",
       "22    1624          0.6968628    -2.8051792          \n",
       "23    5365          0.5066820    -5.5604879          \n",
       "24    6903          0.5893249    -4.2629001          \n",
       "25    8293          0.5784466    -1.7267069          \n",
       "26   10977          0.7229427    -1.4513264          \n",
       "27    5033          0.8930482    -3.4375183          \n",
       "28    4107          0.6659242    -2.9537260          \n",
       "29    2639          0.7536829    -3.5866765          \n",
       "30    7604          0.5630265    -1.9036483          \n",
       "⋮    ⋮              ⋮            ⋮                   \n",
       "1971  4046          0.7090354    -6.230030           \n",
       "1972 11654          0.5845183    -3.026537           \n",
       "1973 10248          0.4233674    -2.319554           \n",
       "1974  7422          0.6320099    -1.520730           \n",
       "1975  9794          0.4913736    -3.113829           \n",
       "1976  6168          0.6455926    -3.305075           \n",
       "1977  9672          0.8118123    -3.245296           \n",
       "1978 10034          0.7764320    -2.397089           \n",
       "1979  1730          0.7845986    -2.339716           \n",
       "1980  9363          0.7214108    -1.141975           \n",
       "1981 10737          0.9365814    -2.745209           \n",
       "1982 10577          0.8043066    -3.061243           \n",
       "1983   993          0.6476157    -2.970385           \n",
       "1984     5          0.6063289    -5.954661           \n",
       "1985  5732          0.6544470    -3.515743           \n",
       "1986 12769          0.7948248    -1.839338           \n",
       "1987  1084          0.6643999    -1.485048           \n",
       "1988  5344          0.7657973    -1.952140           \n",
       "1989 12234          0.6306474    -3.528945           \n",
       "1990  8127          0.8576219    -5.016197           \n",
       "1991 11981          0.8132511    -3.994116           \n",
       "1992 12112          0.5827337    -5.599879           \n",
       "1993  7367          0.7516153    -3.960723           \n",
       "1994  9423          0.8285484    -2.264865           \n",
       "1995  3214          0.5575906    -5.198476           \n",
       "1996  8939          0.7435988    -2.947273           \n",
       "1997 12896          0.8944568    -2.739537           \n",
       "1998  6684          0.5336723    -5.028707           \n",
       "1999  4258          0.7031634    -2.815480           \n",
       "2000   344          0.5405593    -3.973348           "
      ]
     },
     "metadata": {},
     "output_type": "display_data"
    }
   ],
   "source": [
    "guides_metadata <- read.table(\"../sim_data/guides_metadata.txt\")\n",
    "\n",
    "guides_metadata"
   ]
  },
  {
   "cell_type": "markdown",
   "id": "6670b0f6",
   "metadata": {},
   "source": [
    "Load guides per cell one hot encoding "
   ]
  },
  {
   "cell_type": "code",
   "execution_count": 28,
   "id": "a53308dd",
   "metadata": {},
   "outputs": [],
   "source": [
    "onehot <- readMM(\"../sim_data/guides_per_cell.mtx\")"
   ]
  },
  {
   "cell_type": "markdown",
   "id": "1a429126",
   "metadata": {},
   "source": [
    "Convert one hot encoding from sparse to regular matrix"
   ]
  },
  {
   "cell_type": "code",
   "execution_count": 29,
   "id": "db696913",
   "metadata": {},
   "outputs": [],
   "source": [
    "onehot <- as.matrix(onehot)"
   ]
  },
  {
   "cell_type": "markdown",
   "id": "0710abe2",
   "metadata": {},
   "source": [
    "Generate proxy matrix for simulated counts"
   ]
  },
  {
   "cell_type": "code",
   "execution_count": 7,
   "id": "239684df",
   "metadata": {},
   "outputs": [],
   "source": [
    "sim.counts <- matrix(rnorm(13000*50000), 13000, 50000)"
   ]
  },
  {
   "cell_type": "markdown",
   "id": "5d93551f",
   "metadata": {},
   "source": [
    "Write to h5"
   ]
  },
  {
   "cell_type": "code",
   "execution_count": 12,
   "id": "47fb1ba0",
   "metadata": {},
   "outputs": [
    {
     "data": {
      "text/html": [
       "TRUE"
      ],
      "text/latex": [
       "TRUE"
      ],
      "text/markdown": [
       "TRUE"
      ],
      "text/plain": [
       "[1] TRUE"
      ]
     },
     "metadata": {},
     "output_type": "display_data"
    }
   ],
   "source": [
    "h5createFile(\"../test.h5\")"
   ]
  },
  {
   "cell_type": "code",
   "execution_count": 15,
   "id": "faf10a59",
   "metadata": {},
   "outputs": [
    {
     "data": {
      "text/html": [
       "TRUE"
      ],
      "text/latex": [
       "TRUE"
      ],
      "text/markdown": [
       "TRUE"
      ],
      "text/plain": [
       "[1] TRUE"
      ]
     },
     "metadata": {},
     "output_type": "display_data"
    }
   ],
   "source": [
    "h5createDataset(\"../test.h5\", \"counts_chunked\", dim(sim.counts),\n",
    "                storage.mode = \"integer\", chunk=c(1000, 10000), level=7)\n",
    "\n",
    "h5write(sim.counts, \"../test.h5\", \"counts_chunked\")"
   ]
  },
  {
   "cell_type": "code",
   "execution_count": 16,
   "id": "890ba726",
   "metadata": {},
   "outputs": [
    {
     "data": {
      "text/html": [
       "TRUE"
      ],
      "text/latex": [
       "TRUE"
      ],
      "text/markdown": [
       "TRUE"
      ],
      "text/plain": [
       "[1] TRUE"
      ]
     },
     "metadata": {},
     "output_type": "display_data"
    }
   ],
   "source": [
    "h5createGroup(\"../test.h5\", \"guides\")"
   ]
  },
  {
   "cell_type": "code",
   "execution_count": 22,
   "id": "48c50bd5",
   "metadata": {},
   "outputs": [
    {
     "data": {
      "text/html": [
       "TRUE"
      ],
      "text/latex": [
       "TRUE"
      ],
      "text/markdown": [
       "TRUE"
      ],
      "text/plain": [
       "[1] TRUE"
      ]
     },
     "metadata": {},
     "output_type": "display_data"
    }
   ],
   "source": [
    "h5delete(file = \"../test.h5\", name = \"guides/one_hot\")\n",
    "h5delete(file = \"../test.h5\", name = \"guides/metadata\")\n",
    "\n",
    "h5createDataset(\"../test.h5\", \"guides/one_hot\", dim(onehot),\n",
    "                storage.mode = \"integer\", chunk=c(1000, 1), level=7)\n",
    "\n",
    "h5write(onehot, \"../test.h5\",\"guides/one_hot\")\n",
    "h5write(guides_metadata, \"../test.h5\", \"guides/metadata\")"
   ]
  },
  {
   "cell_type": "code",
   "execution_count": 23,
   "id": "f9944067",
   "metadata": {},
   "outputs": [
    {
     "data": {
      "text/html": [
       "<table>\n",
       "<caption>A data.frame: 4 × 5</caption>\n",
       "<thead>\n",
       "\t<tr><th></th><th scope=col>group</th><th scope=col>name</th><th scope=col>otype</th><th scope=col>dclass</th><th scope=col>dim</th></tr>\n",
       "\t<tr><th></th><th scope=col>&lt;chr&gt;</th><th scope=col>&lt;chr&gt;</th><th scope=col>&lt;chr&gt;</th><th scope=col>&lt;chr&gt;</th><th scope=col>&lt;chr&gt;</th></tr>\n",
       "</thead>\n",
       "<tbody>\n",
       "\t<tr><th scope=row>0</th><td>/      </td><td>counts_chunked</td><td>H5I_DATASET</td><td>INTEGER </td><td>13000 x 50000</td></tr>\n",
       "\t<tr><th scope=row>1</th><td>/      </td><td>guides        </td><td>H5I_GROUP  </td><td>        </td><td>             </td></tr>\n",
       "\t<tr><th scope=row>2</th><td>/guides</td><td>metadata      </td><td>H5I_DATASET</td><td>COMPOUND</td><td>2000         </td></tr>\n",
       "\t<tr><th scope=row>3</th><td>/guides</td><td>one_hot       </td><td>H5I_DATASET</td><td>INTEGER </td><td>50000 x 2000 </td></tr>\n",
       "</tbody>\n",
       "</table>\n"
      ],
      "text/latex": [
       "A data.frame: 4 × 5\n",
       "\\begin{tabular}{r|lllll}\n",
       "  & group & name & otype & dclass & dim\\\\\n",
       "  & <chr> & <chr> & <chr> & <chr> & <chr>\\\\\n",
       "\\hline\n",
       "\t0 & /       & counts\\_chunked & H5I\\_DATASET & INTEGER  & 13000 x 50000\\\\\n",
       "\t1 & /       & guides         & H5I\\_GROUP   &          &              \\\\\n",
       "\t2 & /guides & metadata       & H5I\\_DATASET & COMPOUND & 2000         \\\\\n",
       "\t3 & /guides & one\\_hot        & H5I\\_DATASET & INTEGER  & 50000 x 2000 \\\\\n",
       "\\end{tabular}\n"
      ],
      "text/markdown": [
       "\n",
       "A data.frame: 4 × 5\n",
       "\n",
       "| <!--/--> | group &lt;chr&gt; | name &lt;chr&gt; | otype &lt;chr&gt; | dclass &lt;chr&gt; | dim &lt;chr&gt; |\n",
       "|---|---|---|---|---|---|\n",
       "| 0 | /       | counts_chunked | H5I_DATASET | INTEGER  | 13000 x 50000 |\n",
       "| 1 | /       | guides         | H5I_GROUP   | <!----> | <!----> |\n",
       "| 2 | /guides | metadata       | H5I_DATASET | COMPOUND | 2000          |\n",
       "| 3 | /guides | one_hot        | H5I_DATASET | INTEGER  | 50000 x 2000  |\n",
       "\n"
      ],
      "text/plain": [
       "  group   name           otype       dclass   dim          \n",
       "0 /       counts_chunked H5I_DATASET INTEGER  13000 x 50000\n",
       "1 /       guides         H5I_GROUP                         \n",
       "2 /guides metadata       H5I_DATASET COMPOUND 2000         \n",
       "3 /guides one_hot        H5I_DATASET INTEGER  50000 x 2000 "
      ]
     },
     "metadata": {},
     "output_type": "display_data"
    }
   ],
   "source": [
    "h5ls(\"../test.h5\")"
   ]
  }
 ],
 "metadata": {
  "kernelspec": {
   "display_name": "R [conda env:r4]",
   "language": "R",
   "name": "conda-env-r4-r"
  },
  "language_info": {
   "codemirror_mode": "r",
   "file_extension": ".r",
   "mimetype": "text/x-r-source",
   "name": "R",
   "pygments_lexer": "r",
   "version": "4.0.3"
  }
 },
 "nbformat": 4,
 "nbformat_minor": 5
}
