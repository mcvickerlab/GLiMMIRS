{
 "cells": [
  {
   "cell_type": "markdown",
   "metadata": {},
   "source": [
    "# Determine Enhancer-Enhancer Pairs\n",
    "\n",
    "This notebook is used to determine the enhancer pairs present in the Gasperini at-scale screen, by first determining all enhancers within 1 MB of a gene, and then generating all pairwise enhancer combinations.\n",
    "\n",
    "Author: Karthik Guruvayurappan"
   ]
  },
  {
   "cell_type": "code",
   "execution_count": 1,
   "metadata": {},
   "outputs": [],
   "source": [
    "import pandas as pd\n",
    "import numpy as np\n",
    "import itertools"
   ]
  },
  {
   "cell_type": "code",
   "execution_count": 2,
   "metadata": {},
   "outputs": [
    {
     "name": "stderr",
     "output_type": "stream",
     "text": [
      "/iblm/netapp/home/karthik/anaconda3/envs/py39/lib/python3.9/site-packages/IPython/core/interactiveshell.py:3441: DtypeWarning: Columns (1,2) have mixed types.Specify dtype option on import or set low_memory=False.\n",
      "  exec(code_obj, self.user_global_ns, self.user_ns)\n"
     ]
    }
   ],
   "source": [
    "enhancer_gene_pairs = pd.read_csv('/iblm/netapp/data1/external/Gasperini2019/suppl/GSE120861_gene_gRNAgroup_pair_table.at_scale.txt', sep = '\\t')"
   ]
  },
  {
   "cell_type": "code",
   "execution_count": 3,
   "metadata": {},
   "outputs": [
    {
     "data": {
      "text/html": [
       "<div>\n",
       "<style scoped>\n",
       "    .dataframe tbody tr th:only-of-type {\n",
       "        vertical-align: middle;\n",
       "    }\n",
       "\n",
       "    .dataframe tbody tr th {\n",
       "        vertical-align: top;\n",
       "    }\n",
       "\n",
       "    .dataframe thead th {\n",
       "        text-align: right;\n",
       "    }\n",
       "</style>\n",
       "<table border=\"1\" class=\"dataframe\">\n",
       "  <thead>\n",
       "    <tr style=\"text-align: right;\">\n",
       "      <th></th>\n",
       "      <th>gRNAgroup.chr</th>\n",
       "      <th>gRNAgroup.start</th>\n",
       "      <th>gRNAgroup.stop</th>\n",
       "      <th>gRNAgroup</th>\n",
       "      <th>general_group</th>\n",
       "      <th>chr.targetgene</th>\n",
       "      <th>start.targetgene</th>\n",
       "      <th>stop.targetgene</th>\n",
       "      <th>ENSG.targetgene</th>\n",
       "      <th>targetgene_short_name</th>\n",
       "      <th>strand.targetgene</th>\n",
       "      <th>pairs</th>\n",
       "    </tr>\n",
       "  </thead>\n",
       "  <tbody>\n",
       "    <tr>\n",
       "      <th>0</th>\n",
       "      <td>NTC</td>\n",
       "      <td>NTC</td>\n",
       "      <td>NTC</td>\n",
       "      <td>bassik_mch</td>\n",
       "      <td>NTC</td>\n",
       "      <td>chr10</td>\n",
       "      <td>28034777</td>\n",
       "      <td>28034778</td>\n",
       "      <td>ENSG00000150051</td>\n",
       "      <td>MKX</td>\n",
       "      <td>-</td>\n",
       "      <td>MKX:bassik_mch</td>\n",
       "    </tr>\n",
       "    <tr>\n",
       "      <th>1</th>\n",
       "      <td>NTC</td>\n",
       "      <td>NTC</td>\n",
       "      <td>NTC</td>\n",
       "      <td>bassik_mch</td>\n",
       "      <td>NTC</td>\n",
       "      <td>chr10</td>\n",
       "      <td>28287976</td>\n",
       "      <td>28287977</td>\n",
       "      <td>ENSG00000169126</td>\n",
       "      <td>ARMC4</td>\n",
       "      <td>-</td>\n",
       "      <td>ARMC4:bassik_mch</td>\n",
       "    </tr>\n",
       "    <tr>\n",
       "      <th>2</th>\n",
       "      <td>NTC</td>\n",
       "      <td>NTC</td>\n",
       "      <td>NTC</td>\n",
       "      <td>bassik_mch</td>\n",
       "      <td>NTC</td>\n",
       "      <td>chr10</td>\n",
       "      <td>28571017</td>\n",
       "      <td>28571018</td>\n",
       "      <td>ENSG00000150054</td>\n",
       "      <td>MPP7</td>\n",
       "      <td>-</td>\n",
       "      <td>MPP7:bassik_mch</td>\n",
       "    </tr>\n",
       "    <tr>\n",
       "      <th>3</th>\n",
       "      <td>NTC</td>\n",
       "      <td>NTC</td>\n",
       "      <td>NTC</td>\n",
       "      <td>bassik_mch</td>\n",
       "      <td>NTC</td>\n",
       "      <td>chr10</td>\n",
       "      <td>28821422</td>\n",
       "      <td>28821423</td>\n",
       "      <td>ENSG00000095787</td>\n",
       "      <td>WAC</td>\n",
       "      <td>+</td>\n",
       "      <td>WAC:bassik_mch</td>\n",
       "    </tr>\n",
       "    <tr>\n",
       "      <th>4</th>\n",
       "      <td>NTC</td>\n",
       "      <td>NTC</td>\n",
       "      <td>NTC</td>\n",
       "      <td>bassik_mch</td>\n",
       "      <td>NTC</td>\n",
       "      <td>chr10</td>\n",
       "      <td>28966271</td>\n",
       "      <td>28966272</td>\n",
       "      <td>ENSG00000095739</td>\n",
       "      <td>BAMBI</td>\n",
       "      <td>+</td>\n",
       "      <td>BAMBI:bassik_mch</td>\n",
       "    </tr>\n",
       "  </tbody>\n",
       "</table>\n",
       "</div>"
      ],
      "text/plain": [
       "  gRNAgroup.chr gRNAgroup.start gRNAgroup.stop   gRNAgroup general_group  \\\n",
       "0           NTC             NTC            NTC  bassik_mch           NTC   \n",
       "1           NTC             NTC            NTC  bassik_mch           NTC   \n",
       "2           NTC             NTC            NTC  bassik_mch           NTC   \n",
       "3           NTC             NTC            NTC  bassik_mch           NTC   \n",
       "4           NTC             NTC            NTC  bassik_mch           NTC   \n",
       "\n",
       "  chr.targetgene  start.targetgene  stop.targetgene  ENSG.targetgene  \\\n",
       "0          chr10          28034777         28034778  ENSG00000150051   \n",
       "1          chr10          28287976         28287977  ENSG00000169126   \n",
       "2          chr10          28571017         28571018  ENSG00000150054   \n",
       "3          chr10          28821422         28821423  ENSG00000095787   \n",
       "4          chr10          28966271         28966272  ENSG00000095739   \n",
       "\n",
       "  targetgene_short_name strand.targetgene             pairs  \n",
       "0                   MKX                 -    MKX:bassik_mch  \n",
       "1                 ARMC4                 -  ARMC4:bassik_mch  \n",
       "2                  MPP7                 -   MPP7:bassik_mch  \n",
       "3                   WAC                 +    WAC:bassik_mch  \n",
       "4                 BAMBI                 +  BAMBI:bassik_mch  "
      ]
     },
     "execution_count": 3,
     "metadata": {},
     "output_type": "execute_result"
    }
   ],
   "source": [
    "enhancer_gene_pairs.head()"
   ]
  },
  {
   "cell_type": "code",
   "execution_count": 4,
   "metadata": {},
   "outputs": [
    {
     "data": {
      "text/html": [
       "<div>\n",
       "<style scoped>\n",
       "    .dataframe tbody tr th:only-of-type {\n",
       "        vertical-align: middle;\n",
       "    }\n",
       "\n",
       "    .dataframe tbody tr th {\n",
       "        vertical-align: top;\n",
       "    }\n",
       "\n",
       "    .dataframe thead th {\n",
       "        text-align: right;\n",
       "    }\n",
       "</style>\n",
       "<table border=\"1\" class=\"dataframe\">\n",
       "  <thead>\n",
       "    <tr style=\"text-align: right;\">\n",
       "      <th></th>\n",
       "      <th>gRNAgroup.chr</th>\n",
       "      <th>gRNAgroup.start</th>\n",
       "      <th>gRNAgroup.stop</th>\n",
       "      <th>gRNAgroup</th>\n",
       "      <th>chr.targetgene</th>\n",
       "      <th>start.targetgene</th>\n",
       "      <th>stop.targetgene</th>\n",
       "      <th>ENSG.targetgene</th>\n",
       "      <th>targetgene_short_name</th>\n",
       "      <th>strand.targetgene</th>\n",
       "      <th>pairs</th>\n",
       "    </tr>\n",
       "    <tr>\n",
       "      <th>general_group</th>\n",
       "      <th></th>\n",
       "      <th></th>\n",
       "      <th></th>\n",
       "      <th></th>\n",
       "      <th></th>\n",
       "      <th></th>\n",
       "      <th></th>\n",
       "      <th></th>\n",
       "      <th></th>\n",
       "      <th></th>\n",
       "      <th></th>\n",
       "    </tr>\n",
       "  </thead>\n",
       "  <tbody>\n",
       "    <tr>\n",
       "      <th>NTC</th>\n",
       "      <td>937839</td>\n",
       "      <td>937839</td>\n",
       "      <td>937839</td>\n",
       "      <td>937839</td>\n",
       "      <td>937839</td>\n",
       "      <td>937839</td>\n",
       "      <td>937839</td>\n",
       "      <td>937839</td>\n",
       "      <td>937839</td>\n",
       "      <td>937839</td>\n",
       "      <td>937839</td>\n",
       "    </tr>\n",
       "    <tr>\n",
       "      <th>TSS</th>\n",
       "      <td>9938</td>\n",
       "      <td>9938</td>\n",
       "      <td>9938</td>\n",
       "      <td>9938</td>\n",
       "      <td>9938</td>\n",
       "      <td>9938</td>\n",
       "      <td>9938</td>\n",
       "      <td>9938</td>\n",
       "      <td>9938</td>\n",
       "      <td>9938</td>\n",
       "      <td>9938</td>\n",
       "    </tr>\n",
       "    <tr>\n",
       "      <th>not_model_selected_K1119hit-hit</th>\n",
       "      <td>374</td>\n",
       "      <td>374</td>\n",
       "      <td>374</td>\n",
       "      <td>374</td>\n",
       "      <td>374</td>\n",
       "      <td>374</td>\n",
       "      <td>374</td>\n",
       "      <td>374</td>\n",
       "      <td>374</td>\n",
       "      <td>374</td>\n",
       "      <td>374</td>\n",
       "    </tr>\n",
       "    <tr>\n",
       "      <th>positive_ctrl</th>\n",
       "      <td>730</td>\n",
       "      <td>730</td>\n",
       "      <td>730</td>\n",
       "      <td>730</td>\n",
       "      <td>730</td>\n",
       "      <td>730</td>\n",
       "      <td>730</td>\n",
       "      <td>730</td>\n",
       "      <td>730</td>\n",
       "      <td>730</td>\n",
       "      <td>730</td>\n",
       "    </tr>\n",
       "    <tr>\n",
       "      <th>submodular_1k-untested</th>\n",
       "      <td>23712</td>\n",
       "      <td>23712</td>\n",
       "      <td>23712</td>\n",
       "      <td>23712</td>\n",
       "      <td>23712</td>\n",
       "      <td>23712</td>\n",
       "      <td>23712</td>\n",
       "      <td>23712</td>\n",
       "      <td>23712</td>\n",
       "      <td>23712</td>\n",
       "      <td>23712</td>\n",
       "    </tr>\n",
       "    <tr>\n",
       "      <th>test_5k-K1119</th>\n",
       "      <td>26971</td>\n",
       "      <td>26971</td>\n",
       "      <td>26971</td>\n",
       "      <td>26971</td>\n",
       "      <td>26971</td>\n",
       "      <td>26971</td>\n",
       "      <td>26971</td>\n",
       "      <td>26971</td>\n",
       "      <td>26971</td>\n",
       "      <td>26971</td>\n",
       "      <td>26971</td>\n",
       "    </tr>\n",
       "    <tr>\n",
       "      <th>test_5k-hit</th>\n",
       "      <td>5620</td>\n",
       "      <td>5620</td>\n",
       "      <td>5620</td>\n",
       "      <td>5620</td>\n",
       "      <td>5620</td>\n",
       "      <td>5620</td>\n",
       "      <td>5620</td>\n",
       "      <td>5620</td>\n",
       "      <td>5620</td>\n",
       "      <td>5620</td>\n",
       "      <td>5620</td>\n",
       "    </tr>\n",
       "    <tr>\n",
       "      <th>test_5k-untested</th>\n",
       "      <td>81380</td>\n",
       "      <td>81380</td>\n",
       "      <td>81380</td>\n",
       "      <td>81380</td>\n",
       "      <td>81380</td>\n",
       "      <td>81380</td>\n",
       "      <td>81380</td>\n",
       "      <td>81380</td>\n",
       "      <td>81380</td>\n",
       "      <td>81380</td>\n",
       "      <td>81380</td>\n",
       "    </tr>\n",
       "  </tbody>\n",
       "</table>\n",
       "</div>"
      ],
      "text/plain": [
       "                                 gRNAgroup.chr  gRNAgroup.start  \\\n",
       "general_group                                                     \n",
       "NTC                                     937839           937839   \n",
       "TSS                                       9938             9938   \n",
       "not_model_selected_K1119hit-hit            374              374   \n",
       "positive_ctrl                              730              730   \n",
       "submodular_1k-untested                   23712            23712   \n",
       "test_5k-K1119                            26971            26971   \n",
       "test_5k-hit                               5620             5620   \n",
       "test_5k-untested                         81380            81380   \n",
       "\n",
       "                                 gRNAgroup.stop  gRNAgroup  chr.targetgene  \\\n",
       "general_group                                                                \n",
       "NTC                                      937839     937839          937839   \n",
       "TSS                                        9938       9938            9938   \n",
       "not_model_selected_K1119hit-hit             374        374             374   \n",
       "positive_ctrl                               730        730             730   \n",
       "submodular_1k-untested                    23712      23712           23712   \n",
       "test_5k-K1119                             26971      26971           26971   \n",
       "test_5k-hit                                5620       5620            5620   \n",
       "test_5k-untested                          81380      81380           81380   \n",
       "\n",
       "                                 start.targetgene  stop.targetgene  \\\n",
       "general_group                                                        \n",
       "NTC                                        937839           937839   \n",
       "TSS                                          9938             9938   \n",
       "not_model_selected_K1119hit-hit               374              374   \n",
       "positive_ctrl                                 730              730   \n",
       "submodular_1k-untested                      23712            23712   \n",
       "test_5k-K1119                               26971            26971   \n",
       "test_5k-hit                                  5620             5620   \n",
       "test_5k-untested                            81380            81380   \n",
       "\n",
       "                                 ENSG.targetgene  targetgene_short_name  \\\n",
       "general_group                                                             \n",
       "NTC                                       937839                 937839   \n",
       "TSS                                         9938                   9938   \n",
       "not_model_selected_K1119hit-hit              374                    374   \n",
       "positive_ctrl                                730                    730   \n",
       "submodular_1k-untested                     23712                  23712   \n",
       "test_5k-K1119                              26971                  26971   \n",
       "test_5k-hit                                 5620                   5620   \n",
       "test_5k-untested                           81380                  81380   \n",
       "\n",
       "                                 strand.targetgene   pairs  \n",
       "general_group                                               \n",
       "NTC                                         937839  937839  \n",
       "TSS                                           9938    9938  \n",
       "not_model_selected_K1119hit-hit                374     374  \n",
       "positive_ctrl                                  730     730  \n",
       "submodular_1k-untested                       23712   23712  \n",
       "test_5k-K1119                                26971   26971  \n",
       "test_5k-hit                                   5620    5620  \n",
       "test_5k-untested                             81380   81380  "
      ]
     },
     "execution_count": 4,
     "metadata": {},
     "output_type": "execute_result"
    }
   ],
   "source": [
    "enhancer_gene_pairs.groupby('general_group').count()"
   ]
  },
  {
   "cell_type": "code",
   "execution_count": 5,
   "metadata": {},
   "outputs": [
    {
     "data": {
      "text/plain": [
       "(1086564, 12)"
      ]
     },
     "execution_count": 5,
     "metadata": {},
     "output_type": "execute_result"
    }
   ],
   "source": [
    "enhancer_gene_pairs.shape"
   ]
  },
  {
   "cell_type": "code",
   "execution_count": 25,
   "metadata": {},
   "outputs": [
    {
     "data": {
      "text/html": [
       "<div>\n",
       "<style scoped>\n",
       "    .dataframe tbody tr th:only-of-type {\n",
       "        vertical-align: middle;\n",
       "    }\n",
       "\n",
       "    .dataframe tbody tr th {\n",
       "        vertical-align: top;\n",
       "    }\n",
       "\n",
       "    .dataframe thead th {\n",
       "        text-align: right;\n",
       "    }\n",
       "</style>\n",
       "<table border=\"1\" class=\"dataframe\">\n",
       "  <thead>\n",
       "    <tr style=\"text-align: right;\">\n",
       "      <th></th>\n",
       "      <th>gRNAgroup</th>\n",
       "      <th>gRNAgroup.chr</th>\n",
       "      <th>gRNAgroup.start</th>\n",
       "      <th>gRNAgroup.stop</th>\n",
       "      <th>general_group</th>\n",
       "    </tr>\n",
       "  </thead>\n",
       "  <tbody>\n",
       "    <tr>\n",
       "      <th>0</th>\n",
       "      <td>chr10.1007_top_two</td>\n",
       "      <td>chr10</td>\n",
       "      <td>29023920</td>\n",
       "      <td>29024458</td>\n",
       "      <td>test_5k-untested</td>\n",
       "    </tr>\n",
       "    <tr>\n",
       "      <th>1</th>\n",
       "      <td>chr10.1018_top_two</td>\n",
       "      <td>chr10</td>\n",
       "      <td>29111303</td>\n",
       "      <td>29112331</td>\n",
       "      <td>test_5k-untested</td>\n",
       "    </tr>\n",
       "    <tr>\n",
       "      <th>2</th>\n",
       "      <td>chr10.1019_top_two</td>\n",
       "      <td>chr10</td>\n",
       "      <td>29115307</td>\n",
       "      <td>29115488</td>\n",
       "      <td>test_5k-untested</td>\n",
       "    </tr>\n",
       "    <tr>\n",
       "      <th>3</th>\n",
       "      <td>chr10.1020_top_two</td>\n",
       "      <td>chr10</td>\n",
       "      <td>29128454</td>\n",
       "      <td>29128983</td>\n",
       "      <td>test_5k-untested</td>\n",
       "    </tr>\n",
       "    <tr>\n",
       "      <th>4</th>\n",
       "      <td>chr10.1030_top_two</td>\n",
       "      <td>chr10</td>\n",
       "      <td>29275275</td>\n",
       "      <td>29275635</td>\n",
       "      <td>test_5k-untested</td>\n",
       "    </tr>\n",
       "  </tbody>\n",
       "</table>\n",
       "</div>"
      ],
      "text/plain": [
       "            gRNAgroup gRNAgroup.chr gRNAgroup.start gRNAgroup.stop  \\\n",
       "0  chr10.1007_top_two         chr10        29023920       29024458   \n",
       "1  chr10.1018_top_two         chr10        29111303       29112331   \n",
       "2  chr10.1019_top_two         chr10        29115307       29115488   \n",
       "3  chr10.1020_top_two         chr10        29128454       29128983   \n",
       "4  chr10.1030_top_two         chr10        29275275       29275635   \n",
       "\n",
       "      general_group  \n",
       "0  test_5k-untested  \n",
       "1  test_5k-untested  \n",
       "2  test_5k-untested  \n",
       "3  test_5k-untested  \n",
       "4  test_5k-untested  "
      ]
     },
     "execution_count": 25,
     "metadata": {},
     "output_type": "execute_result"
    }
   ],
   "source": [
    "# get unique enhancers from enhancer-gene pairs\n",
    "enhancers = enhancer_gene_pairs[['gRNAgroup', 'gRNAgroup.chr', 'gRNAgroup.start', 'gRNAgroup.stop', 'general_group']]\n",
    "enhancers = enhancers.drop_duplicates()\n",
    "enhancers = enhancers[enhancers['general_group'] != 'NTC']\n",
    "enhancers = enhancers[enhancers['general_group'] != 'positive_ctrl']\n",
    "enhancers = enhancers[enhancers['general_group'] != 'TSS']\n",
    "enhancers = enhancers.reset_index(drop=True)\n",
    "enhancers.head()"
   ]
  },
  {
   "cell_type": "code",
   "execution_count": 26,
   "metadata": {},
   "outputs": [
    {
     "data": {
      "text/plain": [
       "gRNAgroup          object\n",
       "gRNAgroup.chr      object\n",
       "gRNAgroup.start    object\n",
       "gRNAgroup.stop     object\n",
       "general_group      object\n",
       "dtype: object"
      ]
     },
     "execution_count": 26,
     "metadata": {},
     "output_type": "execute_result"
    }
   ],
   "source": [
    "enhancers.dtypes"
   ]
  },
  {
   "cell_type": "code",
   "execution_count": 27,
   "metadata": {},
   "outputs": [],
   "source": [
    "enhancers['gRNAgroup.start'] = enhancers['gRNAgroup.start'].astype(int)\n",
    "enhancers['gRNAgroup.stop'] = enhancers['gRNAgroup.stop'].astype(int)\n",
    "enhancers['gRNAgroup.position'] = (enhancers['gRNAgroup.start'] + enhancers['gRNAgroup.stop']) / 2"
   ]
  },
  {
   "cell_type": "code",
   "execution_count": 32,
   "metadata": {},
   "outputs": [
    {
     "data": {
      "text/plain": [
       "(6144, 6)"
      ]
     },
     "execution_count": 32,
     "metadata": {},
     "output_type": "execute_result"
    }
   ],
   "source": [
    "enhancers.shape"
   ]
  },
  {
   "cell_type": "code",
   "execution_count": 33,
   "metadata": {},
   "outputs": [],
   "source": [
    "enhancers = enhancers.drop_duplicates()"
   ]
  },
  {
   "cell_type": "code",
   "execution_count": 34,
   "metadata": {},
   "outputs": [
    {
     "data": {
      "text/html": [
       "<div>\n",
       "<style scoped>\n",
       "    .dataframe tbody tr th:only-of-type {\n",
       "        vertical-align: middle;\n",
       "    }\n",
       "\n",
       "    .dataframe tbody tr th {\n",
       "        vertical-align: top;\n",
       "    }\n",
       "\n",
       "    .dataframe thead th {\n",
       "        text-align: right;\n",
       "    }\n",
       "</style>\n",
       "<table border=\"1\" class=\"dataframe\">\n",
       "  <thead>\n",
       "    <tr style=\"text-align: right;\">\n",
       "      <th></th>\n",
       "      <th>ENSG.targetgene</th>\n",
       "      <th>chr.targetgene</th>\n",
       "      <th>start.targetgene</th>\n",
       "      <th>stop.targetgene</th>\n",
       "      <th>position.targetgene</th>\n",
       "    </tr>\n",
       "  </thead>\n",
       "  <tbody>\n",
       "    <tr>\n",
       "      <th>0</th>\n",
       "      <td>ENSG00000150051</td>\n",
       "      <td>chr10</td>\n",
       "      <td>28034777</td>\n",
       "      <td>28034778</td>\n",
       "      <td>28034777.5</td>\n",
       "    </tr>\n",
       "    <tr>\n",
       "      <th>1</th>\n",
       "      <td>ENSG00000169126</td>\n",
       "      <td>chr10</td>\n",
       "      <td>28287976</td>\n",
       "      <td>28287977</td>\n",
       "      <td>28287976.5</td>\n",
       "    </tr>\n",
       "    <tr>\n",
       "      <th>2</th>\n",
       "      <td>ENSG00000150054</td>\n",
       "      <td>chr10</td>\n",
       "      <td>28571017</td>\n",
       "      <td>28571018</td>\n",
       "      <td>28571017.5</td>\n",
       "    </tr>\n",
       "    <tr>\n",
       "      <th>3</th>\n",
       "      <td>ENSG00000095787</td>\n",
       "      <td>chr10</td>\n",
       "      <td>28821422</td>\n",
       "      <td>28821423</td>\n",
       "      <td>28821422.5</td>\n",
       "    </tr>\n",
       "    <tr>\n",
       "      <th>4</th>\n",
       "      <td>ENSG00000095739</td>\n",
       "      <td>chr10</td>\n",
       "      <td>28966271</td>\n",
       "      <td>28966272</td>\n",
       "      <td>28966271.5</td>\n",
       "    </tr>\n",
       "  </tbody>\n",
       "</table>\n",
       "</div>"
      ],
      "text/plain": [
       "   ENSG.targetgene chr.targetgene  start.targetgene  stop.targetgene  \\\n",
       "0  ENSG00000150051          chr10          28034777         28034778   \n",
       "1  ENSG00000169126          chr10          28287976         28287977   \n",
       "2  ENSG00000150054          chr10          28571017         28571018   \n",
       "3  ENSG00000095787          chr10          28821422         28821423   \n",
       "4  ENSG00000095739          chr10          28966271         28966272   \n",
       "\n",
       "   position.targetgene  \n",
       "0           28034777.5  \n",
       "1           28287976.5  \n",
       "2           28571017.5  \n",
       "3           28821422.5  \n",
       "4           28966271.5  "
      ]
     },
     "execution_count": 34,
     "metadata": {},
     "output_type": "execute_result"
    }
   ],
   "source": [
    "# get unique genes\n",
    "genes = enhancer_gene_pairs[['ENSG.targetgene', 'chr.targetgene', 'start.targetgene', 'stop.targetgene']]\n",
    "genes = genes.drop_duplicates()\n",
    "genes['position.targetgene'] = (genes['start.targetgene'] + genes['stop.targetgene']) / 2\n",
    "genes.head()"
   ]
  },
  {
   "cell_type": "code",
   "execution_count": 36,
   "metadata": {},
   "outputs": [
    {
     "data": {
      "text/plain": [
       "(18389, 5)"
      ]
     },
     "execution_count": 36,
     "metadata": {},
     "output_type": "execute_result"
    }
   ],
   "source": [
    "genes.drop_duplicates().shape"
   ]
  },
  {
   "cell_type": "code",
   "execution_count": 37,
   "metadata": {},
   "outputs": [
    {
     "data": {
      "text/plain": [
       "(18389, 5)"
      ]
     },
     "execution_count": 37,
     "metadata": {},
     "output_type": "execute_result"
    }
   ],
   "source": [
    "genes.shape"
   ]
  },
  {
   "cell_type": "code",
   "execution_count": 38,
   "metadata": {},
   "outputs": [
    {
     "data": {
      "text/html": [
       "<div>\n",
       "<style scoped>\n",
       "    .dataframe tbody tr th:only-of-type {\n",
       "        vertical-align: middle;\n",
       "    }\n",
       "\n",
       "    .dataframe tbody tr th {\n",
       "        vertical-align: top;\n",
       "    }\n",
       "\n",
       "    .dataframe thead th {\n",
       "        text-align: right;\n",
       "    }\n",
       "</style>\n",
       "<table border=\"1\" class=\"dataframe\">\n",
       "  <thead>\n",
       "    <tr style=\"text-align: right;\">\n",
       "      <th></th>\n",
       "      <th>ENSG.targetgene</th>\n",
       "      <th>chr.targetgene</th>\n",
       "      <th>start.targetgene</th>\n",
       "      <th>stop.targetgene</th>\n",
       "      <th>position.targetgene</th>\n",
       "      <th>proximal_enhancers</th>\n",
       "    </tr>\n",
       "  </thead>\n",
       "  <tbody>\n",
       "    <tr>\n",
       "      <th>0</th>\n",
       "      <td>ENSG00000150051</td>\n",
       "      <td>chr10</td>\n",
       "      <td>28034777</td>\n",
       "      <td>28034778</td>\n",
       "      <td>28034777.5</td>\n",
       "      <td>[chr10.1007_top_two, chr10.995_top_two]</td>\n",
       "    </tr>\n",
       "    <tr>\n",
       "      <th>1</th>\n",
       "      <td>ENSG00000169126</td>\n",
       "      <td>chr10</td>\n",
       "      <td>28287976</td>\n",
       "      <td>28287977</td>\n",
       "      <td>28287976.5</td>\n",
       "      <td>[chr10.1007_top_two, chr10.1018_top_two, chr10...</td>\n",
       "    </tr>\n",
       "    <tr>\n",
       "      <th>2</th>\n",
       "      <td>ENSG00000150054</td>\n",
       "      <td>chr10</td>\n",
       "      <td>28571017</td>\n",
       "      <td>28571018</td>\n",
       "      <td>28571017.5</td>\n",
       "      <td>[chr10.1007_top_two, chr10.1018_top_two, chr10...</td>\n",
       "    </tr>\n",
       "    <tr>\n",
       "      <th>3</th>\n",
       "      <td>ENSG00000095787</td>\n",
       "      <td>chr10</td>\n",
       "      <td>28821422</td>\n",
       "      <td>28821423</td>\n",
       "      <td>28821422.5</td>\n",
       "      <td>[chr10.1007_top_two, chr10.1018_top_two, chr10...</td>\n",
       "    </tr>\n",
       "    <tr>\n",
       "      <th>4</th>\n",
       "      <td>ENSG00000095739</td>\n",
       "      <td>chr10</td>\n",
       "      <td>28966271</td>\n",
       "      <td>28966272</td>\n",
       "      <td>28966271.5</td>\n",
       "      <td>[chr10.1007_top_two, chr10.1018_top_two, chr10...</td>\n",
       "    </tr>\n",
       "  </tbody>\n",
       "</table>\n",
       "</div>"
      ],
      "text/plain": [
       "   ENSG.targetgene chr.targetgene  start.targetgene  stop.targetgene  \\\n",
       "0  ENSG00000150051          chr10          28034777         28034778   \n",
       "1  ENSG00000169126          chr10          28287976         28287977   \n",
       "2  ENSG00000150054          chr10          28571017         28571018   \n",
       "3  ENSG00000095787          chr10          28821422         28821423   \n",
       "4  ENSG00000095739          chr10          28966271         28966272   \n",
       "\n",
       "   position.targetgene                                 proximal_enhancers  \n",
       "0           28034777.5            [chr10.1007_top_two, chr10.995_top_two]  \n",
       "1           28287976.5  [chr10.1007_top_two, chr10.1018_top_two, chr10...  \n",
       "2           28571017.5  [chr10.1007_top_two, chr10.1018_top_two, chr10...  \n",
       "3           28821422.5  [chr10.1007_top_two, chr10.1018_top_two, chr10...  \n",
       "4           28966271.5  [chr10.1007_top_two, chr10.1018_top_two, chr10...  "
      ]
     },
     "execution_count": 38,
     "metadata": {},
     "output_type": "execute_result"
    }
   ],
   "source": [
    "# find all enhancers within 1MB of each gene \n",
    "def find_proximal_enhancers(gene):\n",
    "    '''finds enhancers within 1MB of gene'''\n",
    "\n",
    "    gene_chrom = gene['chr.targetgene']\n",
    "    gene_position = gene['position.targetgene']\n",
    "\n",
    "    match_chrom = gene_chrom == enhancers['gRNAgroup.chr']\n",
    "    match_position = np.abs(gene_position - enhancers['gRNAgroup.position']) < 1000000\n",
    "\n",
    "    match_enhancers = np.array(enhancers[match_chrom & match_position]['gRNAgroup'])\n",
    "    return match_enhancers\n",
    "\n",
    "genes['proximal_enhancers'] = genes.apply(find_proximal_enhancers, axis = 1)\n",
    "genes.head()"
   ]
  },
  {
   "cell_type": "code",
   "execution_count": 39,
   "metadata": {},
   "outputs": [
    {
     "data": {
      "text/plain": [
       "(18389, 6)"
      ]
     },
     "execution_count": 39,
     "metadata": {},
     "output_type": "execute_result"
    }
   ],
   "source": [
    "genes.shape"
   ]
  },
  {
   "cell_type": "code",
   "execution_count": 40,
   "metadata": {},
   "outputs": [
    {
     "data": {
      "text/html": [
       "<div>\n",
       "<style scoped>\n",
       "    .dataframe tbody tr th:only-of-type {\n",
       "        vertical-align: middle;\n",
       "    }\n",
       "\n",
       "    .dataframe tbody tr th {\n",
       "        vertical-align: top;\n",
       "    }\n",
       "\n",
       "    .dataframe thead th {\n",
       "        text-align: right;\n",
       "    }\n",
       "</style>\n",
       "<table border=\"1\" class=\"dataframe\">\n",
       "  <thead>\n",
       "    <tr style=\"text-align: right;\">\n",
       "      <th></th>\n",
       "      <th>ENSG.targetgene</th>\n",
       "      <th>chr.targetgene</th>\n",
       "      <th>start.targetgene</th>\n",
       "      <th>stop.targetgene</th>\n",
       "      <th>position.targetgene</th>\n",
       "      <th>proximal_enhancers</th>\n",
       "    </tr>\n",
       "  </thead>\n",
       "  <tbody>\n",
       "    <tr>\n",
       "      <th>0</th>\n",
       "      <td>ENSG00000150051</td>\n",
       "      <td>chr10</td>\n",
       "      <td>28034777</td>\n",
       "      <td>28034778</td>\n",
       "      <td>28034777.5</td>\n",
       "      <td>chr10.1007_top_two</td>\n",
       "    </tr>\n",
       "    <tr>\n",
       "      <th>1</th>\n",
       "      <td>ENSG00000150051</td>\n",
       "      <td>chr10</td>\n",
       "      <td>28034777</td>\n",
       "      <td>28034778</td>\n",
       "      <td>28034777.5</td>\n",
       "      <td>chr10.995_top_two</td>\n",
       "    </tr>\n",
       "    <tr>\n",
       "      <th>2</th>\n",
       "      <td>ENSG00000169126</td>\n",
       "      <td>chr10</td>\n",
       "      <td>28287976</td>\n",
       "      <td>28287977</td>\n",
       "      <td>28287976.5</td>\n",
       "      <td>chr10.1007_top_two</td>\n",
       "    </tr>\n",
       "    <tr>\n",
       "      <th>3</th>\n",
       "      <td>ENSG00000169126</td>\n",
       "      <td>chr10</td>\n",
       "      <td>28287976</td>\n",
       "      <td>28287977</td>\n",
       "      <td>28287976.5</td>\n",
       "      <td>chr10.1018_top_two</td>\n",
       "    </tr>\n",
       "    <tr>\n",
       "      <th>4</th>\n",
       "      <td>ENSG00000169126</td>\n",
       "      <td>chr10</td>\n",
       "      <td>28287976</td>\n",
       "      <td>28287977</td>\n",
       "      <td>28287976.5</td>\n",
       "      <td>chr10.1019_top_two</td>\n",
       "    </tr>\n",
       "  </tbody>\n",
       "</table>\n",
       "</div>"
      ],
      "text/plain": [
       "   ENSG.targetgene chr.targetgene  start.targetgene  stop.targetgene  \\\n",
       "0  ENSG00000150051          chr10          28034777         28034778   \n",
       "1  ENSG00000150051          chr10          28034777         28034778   \n",
       "2  ENSG00000169126          chr10          28287976         28287977   \n",
       "3  ENSG00000169126          chr10          28287976         28287977   \n",
       "4  ENSG00000169126          chr10          28287976         28287977   \n",
       "\n",
       "   position.targetgene  proximal_enhancers  \n",
       "0           28034777.5  chr10.1007_top_two  \n",
       "1           28034777.5   chr10.995_top_two  \n",
       "2           28287976.5  chr10.1007_top_two  \n",
       "3           28287976.5  chr10.1018_top_two  \n",
       "4           28287976.5  chr10.1019_top_two  "
      ]
     },
     "execution_count": 40,
     "metadata": {},
     "output_type": "execute_result"
    }
   ],
   "source": [
    "enhancer_gene = genes.explode('proximal_enhancers', ignore_index = True)\n",
    "enhancer_gene.head()"
   ]
  },
  {
   "cell_type": "code",
   "execution_count": 41,
   "metadata": {},
   "outputs": [
    {
     "data": {
      "text/plain": [
       "(140678, 6)"
      ]
     },
     "execution_count": 41,
     "metadata": {},
     "output_type": "execute_result"
    }
   ],
   "source": [
    "enhancer_gene.shape"
   ]
  },
  {
   "cell_type": "code",
   "execution_count": 42,
   "metadata": {},
   "outputs": [
    {
     "data": {
      "text/html": [
       "<div>\n",
       "<style scoped>\n",
       "    .dataframe tbody tr th:only-of-type {\n",
       "        vertical-align: middle;\n",
       "    }\n",
       "\n",
       "    .dataframe tbody tr th {\n",
       "        vertical-align: top;\n",
       "    }\n",
       "\n",
       "    .dataframe thead th {\n",
       "        text-align: right;\n",
       "    }\n",
       "</style>\n",
       "<table border=\"1\" class=\"dataframe\">\n",
       "  <thead>\n",
       "    <tr style=\"text-align: right;\">\n",
       "      <th></th>\n",
       "      <th>ENSG.targetgene</th>\n",
       "      <th>chr.targetgene</th>\n",
       "      <th>start.targetgene</th>\n",
       "      <th>stop.targetgene</th>\n",
       "      <th>position.targetgene</th>\n",
       "      <th>proximal_enhancers</th>\n",
       "    </tr>\n",
       "  </thead>\n",
       "  <tbody>\n",
       "  </tbody>\n",
       "</table>\n",
       "</div>"
      ],
      "text/plain": [
       "Empty DataFrame\n",
       "Columns: [ENSG.targetgene, chr.targetgene, start.targetgene, stop.targetgene, position.targetgene, proximal_enhancers]\n",
       "Index: []"
      ]
     },
     "execution_count": 42,
     "metadata": {},
     "output_type": "execute_result"
    }
   ],
   "source": [
    "enhancer_gene[enhancer_gene.duplicated()]"
   ]
  },
  {
   "cell_type": "code",
   "execution_count": 43,
   "metadata": {},
   "outputs": [
    {
     "data": {
      "text/html": [
       "<div>\n",
       "<style scoped>\n",
       "    .dataframe tbody tr th:only-of-type {\n",
       "        vertical-align: middle;\n",
       "    }\n",
       "\n",
       "    .dataframe tbody tr th {\n",
       "        vertical-align: top;\n",
       "    }\n",
       "\n",
       "    .dataframe thead th {\n",
       "        text-align: right;\n",
       "    }\n",
       "</style>\n",
       "<table border=\"1\" class=\"dataframe\">\n",
       "  <thead>\n",
       "    <tr style=\"text-align: right;\">\n",
       "      <th></th>\n",
       "      <th>ENSG.targetgene</th>\n",
       "      <th>chr.targetgene</th>\n",
       "      <th>start.targetgene</th>\n",
       "      <th>stop.targetgene</th>\n",
       "      <th>position.targetgene</th>\n",
       "      <th>proximal_enhancers</th>\n",
       "      <th>gRNAgroup</th>\n",
       "      <th>gRNAgroup.chr</th>\n",
       "      <th>gRNAgroup.start</th>\n",
       "      <th>gRNAgroup.stop</th>\n",
       "      <th>general_group</th>\n",
       "      <th>gRNAgroup.position</th>\n",
       "    </tr>\n",
       "  </thead>\n",
       "  <tbody>\n",
       "    <tr>\n",
       "      <th>0</th>\n",
       "      <td>ENSG00000150051</td>\n",
       "      <td>chr10</td>\n",
       "      <td>28034777</td>\n",
       "      <td>28034778</td>\n",
       "      <td>28034777.5</td>\n",
       "      <td>chr10.1007_top_two</td>\n",
       "      <td>chr10.1007_top_two</td>\n",
       "      <td>chr10</td>\n",
       "      <td>29023920</td>\n",
       "      <td>29024458</td>\n",
       "      <td>test_5k-untested</td>\n",
       "      <td>29024189.0</td>\n",
       "    </tr>\n",
       "    <tr>\n",
       "      <th>1</th>\n",
       "      <td>ENSG00000169126</td>\n",
       "      <td>chr10</td>\n",
       "      <td>28287976</td>\n",
       "      <td>28287977</td>\n",
       "      <td>28287976.5</td>\n",
       "      <td>chr10.1007_top_two</td>\n",
       "      <td>chr10.1007_top_two</td>\n",
       "      <td>chr10</td>\n",
       "      <td>29023920</td>\n",
       "      <td>29024458</td>\n",
       "      <td>test_5k-untested</td>\n",
       "      <td>29024189.0</td>\n",
       "    </tr>\n",
       "    <tr>\n",
       "      <th>2</th>\n",
       "      <td>ENSG00000150054</td>\n",
       "      <td>chr10</td>\n",
       "      <td>28571017</td>\n",
       "      <td>28571018</td>\n",
       "      <td>28571017.5</td>\n",
       "      <td>chr10.1007_top_two</td>\n",
       "      <td>chr10.1007_top_two</td>\n",
       "      <td>chr10</td>\n",
       "      <td>29023920</td>\n",
       "      <td>29024458</td>\n",
       "      <td>test_5k-untested</td>\n",
       "      <td>29024189.0</td>\n",
       "    </tr>\n",
       "    <tr>\n",
       "      <th>3</th>\n",
       "      <td>ENSG00000095787</td>\n",
       "      <td>chr10</td>\n",
       "      <td>28821422</td>\n",
       "      <td>28821423</td>\n",
       "      <td>28821422.5</td>\n",
       "      <td>chr10.1007_top_two</td>\n",
       "      <td>chr10.1007_top_two</td>\n",
       "      <td>chr10</td>\n",
       "      <td>29023920</td>\n",
       "      <td>29024458</td>\n",
       "      <td>test_5k-untested</td>\n",
       "      <td>29024189.0</td>\n",
       "    </tr>\n",
       "    <tr>\n",
       "      <th>4</th>\n",
       "      <td>ENSG00000095739</td>\n",
       "      <td>chr10</td>\n",
       "      <td>28966271</td>\n",
       "      <td>28966272</td>\n",
       "      <td>28966271.5</td>\n",
       "      <td>chr10.1007_top_two</td>\n",
       "      <td>chr10.1007_top_two</td>\n",
       "      <td>chr10</td>\n",
       "      <td>29023920</td>\n",
       "      <td>29024458</td>\n",
       "      <td>test_5k-untested</td>\n",
       "      <td>29024189.0</td>\n",
       "    </tr>\n",
       "  </tbody>\n",
       "</table>\n",
       "</div>"
      ],
      "text/plain": [
       "   ENSG.targetgene chr.targetgene  start.targetgene  stop.targetgene  \\\n",
       "0  ENSG00000150051          chr10          28034777         28034778   \n",
       "1  ENSG00000169126          chr10          28287976         28287977   \n",
       "2  ENSG00000150054          chr10          28571017         28571018   \n",
       "3  ENSG00000095787          chr10          28821422         28821423   \n",
       "4  ENSG00000095739          chr10          28966271         28966272   \n",
       "\n",
       "   position.targetgene  proximal_enhancers           gRNAgroup gRNAgroup.chr  \\\n",
       "0           28034777.5  chr10.1007_top_two  chr10.1007_top_two         chr10   \n",
       "1           28287976.5  chr10.1007_top_two  chr10.1007_top_two         chr10   \n",
       "2           28571017.5  chr10.1007_top_two  chr10.1007_top_two         chr10   \n",
       "3           28821422.5  chr10.1007_top_two  chr10.1007_top_two         chr10   \n",
       "4           28966271.5  chr10.1007_top_two  chr10.1007_top_two         chr10   \n",
       "\n",
       "   gRNAgroup.start  gRNAgroup.stop     general_group  gRNAgroup.position  \n",
       "0         29023920        29024458  test_5k-untested          29024189.0  \n",
       "1         29023920        29024458  test_5k-untested          29024189.0  \n",
       "2         29023920        29024458  test_5k-untested          29024189.0  \n",
       "3         29023920        29024458  test_5k-untested          29024189.0  \n",
       "4         29023920        29024458  test_5k-untested          29024189.0  "
      ]
     },
     "execution_count": 43,
     "metadata": {},
     "output_type": "execute_result"
    }
   ],
   "source": [
    "enhancer_gene = enhancer_gene.merge(enhancers, left_on = 'proximal_enhancers', right_on = 'gRNAgroup')\n",
    "enhancer_gene.head()"
   ]
  },
  {
   "cell_type": "code",
   "execution_count": 44,
   "metadata": {},
   "outputs": [
    {
     "data": {
      "text/plain": [
       "(140635, 12)"
      ]
     },
     "execution_count": 44,
     "metadata": {},
     "output_type": "execute_result"
    }
   ],
   "source": [
    "enhancer_gene.shape"
   ]
  },
  {
   "cell_type": "code",
   "execution_count": 45,
   "metadata": {},
   "outputs": [
    {
     "data": {
      "text/html": [
       "<div>\n",
       "<style scoped>\n",
       "    .dataframe tbody tr th:only-of-type {\n",
       "        vertical-align: middle;\n",
       "    }\n",
       "\n",
       "    .dataframe tbody tr th {\n",
       "        vertical-align: top;\n",
       "    }\n",
       "\n",
       "    .dataframe thead th {\n",
       "        text-align: right;\n",
       "    }\n",
       "</style>\n",
       "<table border=\"1\" class=\"dataframe\">\n",
       "  <thead>\n",
       "    <tr style=\"text-align: right;\">\n",
       "      <th></th>\n",
       "      <th>ENSG.targetgene</th>\n",
       "      <th>chr.targetgene</th>\n",
       "      <th>start.targetgene</th>\n",
       "      <th>stop.targetgene</th>\n",
       "      <th>position.targetgene</th>\n",
       "      <th>gRNAgroup</th>\n",
       "      <th>gRNAgroup.chr</th>\n",
       "      <th>gRNAgroup.start</th>\n",
       "      <th>gRNAgroup.stop</th>\n",
       "      <th>gRNAgroup.position</th>\n",
       "    </tr>\n",
       "  </thead>\n",
       "  <tbody>\n",
       "    <tr>\n",
       "      <th>0</th>\n",
       "      <td>ENSG00000150051</td>\n",
       "      <td>chr10</td>\n",
       "      <td>28034777</td>\n",
       "      <td>28034778</td>\n",
       "      <td>28034777.5</td>\n",
       "      <td>chr10.1007_top_two</td>\n",
       "      <td>chr10</td>\n",
       "      <td>29023920</td>\n",
       "      <td>29024458</td>\n",
       "      <td>29024189.0</td>\n",
       "    </tr>\n",
       "    <tr>\n",
       "      <th>1</th>\n",
       "      <td>ENSG00000169126</td>\n",
       "      <td>chr10</td>\n",
       "      <td>28287976</td>\n",
       "      <td>28287977</td>\n",
       "      <td>28287976.5</td>\n",
       "      <td>chr10.1007_top_two</td>\n",
       "      <td>chr10</td>\n",
       "      <td>29023920</td>\n",
       "      <td>29024458</td>\n",
       "      <td>29024189.0</td>\n",
       "    </tr>\n",
       "    <tr>\n",
       "      <th>2</th>\n",
       "      <td>ENSG00000150054</td>\n",
       "      <td>chr10</td>\n",
       "      <td>28571017</td>\n",
       "      <td>28571018</td>\n",
       "      <td>28571017.5</td>\n",
       "      <td>chr10.1007_top_two</td>\n",
       "      <td>chr10</td>\n",
       "      <td>29023920</td>\n",
       "      <td>29024458</td>\n",
       "      <td>29024189.0</td>\n",
       "    </tr>\n",
       "    <tr>\n",
       "      <th>3</th>\n",
       "      <td>ENSG00000095787</td>\n",
       "      <td>chr10</td>\n",
       "      <td>28821422</td>\n",
       "      <td>28821423</td>\n",
       "      <td>28821422.5</td>\n",
       "      <td>chr10.1007_top_two</td>\n",
       "      <td>chr10</td>\n",
       "      <td>29023920</td>\n",
       "      <td>29024458</td>\n",
       "      <td>29024189.0</td>\n",
       "    </tr>\n",
       "    <tr>\n",
       "      <th>4</th>\n",
       "      <td>ENSG00000095739</td>\n",
       "      <td>chr10</td>\n",
       "      <td>28966271</td>\n",
       "      <td>28966272</td>\n",
       "      <td>28966271.5</td>\n",
       "      <td>chr10.1007_top_two</td>\n",
       "      <td>chr10</td>\n",
       "      <td>29023920</td>\n",
       "      <td>29024458</td>\n",
       "      <td>29024189.0</td>\n",
       "    </tr>\n",
       "  </tbody>\n",
       "</table>\n",
       "</div>"
      ],
      "text/plain": [
       "   ENSG.targetgene chr.targetgene  start.targetgene  stop.targetgene  \\\n",
       "0  ENSG00000150051          chr10          28034777         28034778   \n",
       "1  ENSG00000169126          chr10          28287976         28287977   \n",
       "2  ENSG00000150054          chr10          28571017         28571018   \n",
       "3  ENSG00000095787          chr10          28821422         28821423   \n",
       "4  ENSG00000095739          chr10          28966271         28966272   \n",
       "\n",
       "   position.targetgene           gRNAgroup gRNAgroup.chr  gRNAgroup.start  \\\n",
       "0           28034777.5  chr10.1007_top_two         chr10         29023920   \n",
       "1           28287976.5  chr10.1007_top_two         chr10         29023920   \n",
       "2           28571017.5  chr10.1007_top_two         chr10         29023920   \n",
       "3           28821422.5  chr10.1007_top_two         chr10         29023920   \n",
       "4           28966271.5  chr10.1007_top_two         chr10         29023920   \n",
       "\n",
       "   gRNAgroup.stop  gRNAgroup.position  \n",
       "0        29024458          29024189.0  \n",
       "1        29024458          29024189.0  \n",
       "2        29024458          29024189.0  \n",
       "3        29024458          29024189.0  \n",
       "4        29024458          29024189.0  "
      ]
     },
     "execution_count": 45,
     "metadata": {},
     "output_type": "execute_result"
    }
   ],
   "source": [
    "enhancer_gene = enhancer_gene.drop(['proximal_enhancers', 'general_group'], axis = 1)\n",
    "enhancer_gene.head()"
   ]
  },
  {
   "cell_type": "code",
   "execution_count": 46,
   "metadata": {},
   "outputs": [
    {
     "data": {
      "text/plain": [
       "(140635, 10)"
      ]
     },
     "execution_count": 46,
     "metadata": {},
     "output_type": "execute_result"
    }
   ],
   "source": [
    "enhancer_gene.shape"
   ]
  },
  {
   "cell_type": "code",
   "execution_count": 47,
   "metadata": {},
   "outputs": [
    {
     "data": {
      "text/html": [
       "<div>\n",
       "<style scoped>\n",
       "    .dataframe tbody tr th:only-of-type {\n",
       "        vertical-align: middle;\n",
       "    }\n",
       "\n",
       "    .dataframe tbody tr th {\n",
       "        vertical-align: top;\n",
       "    }\n",
       "\n",
       "    .dataframe thead th {\n",
       "        text-align: right;\n",
       "    }\n",
       "</style>\n",
       "<table border=\"1\" class=\"dataframe\">\n",
       "  <thead>\n",
       "    <tr style=\"text-align: right;\">\n",
       "      <th></th>\n",
       "      <th>ENSG.targetgene</th>\n",
       "      <th>chr.targetgene</th>\n",
       "      <th>start.targetgene</th>\n",
       "      <th>stop.targetgene</th>\n",
       "      <th>position.targetgene</th>\n",
       "      <th>gRNAgroup</th>\n",
       "      <th>gRNAgroup.chr</th>\n",
       "      <th>gRNAgroup.start</th>\n",
       "      <th>gRNAgroup.stop</th>\n",
       "      <th>gRNAgroup.position</th>\n",
       "      <th>enhancer_gene_distance</th>\n",
       "    </tr>\n",
       "  </thead>\n",
       "  <tbody>\n",
       "    <tr>\n",
       "      <th>0</th>\n",
       "      <td>ENSG00000150051</td>\n",
       "      <td>chr10</td>\n",
       "      <td>28034777</td>\n",
       "      <td>28034778</td>\n",
       "      <td>28034777.5</td>\n",
       "      <td>chr10.1007_top_two</td>\n",
       "      <td>chr10</td>\n",
       "      <td>29023920</td>\n",
       "      <td>29024458</td>\n",
       "      <td>29024189.0</td>\n",
       "      <td>989411.5</td>\n",
       "    </tr>\n",
       "    <tr>\n",
       "      <th>1</th>\n",
       "      <td>ENSG00000169126</td>\n",
       "      <td>chr10</td>\n",
       "      <td>28287976</td>\n",
       "      <td>28287977</td>\n",
       "      <td>28287976.5</td>\n",
       "      <td>chr10.1007_top_two</td>\n",
       "      <td>chr10</td>\n",
       "      <td>29023920</td>\n",
       "      <td>29024458</td>\n",
       "      <td>29024189.0</td>\n",
       "      <td>736212.5</td>\n",
       "    </tr>\n",
       "    <tr>\n",
       "      <th>2</th>\n",
       "      <td>ENSG00000150054</td>\n",
       "      <td>chr10</td>\n",
       "      <td>28571017</td>\n",
       "      <td>28571018</td>\n",
       "      <td>28571017.5</td>\n",
       "      <td>chr10.1007_top_two</td>\n",
       "      <td>chr10</td>\n",
       "      <td>29023920</td>\n",
       "      <td>29024458</td>\n",
       "      <td>29024189.0</td>\n",
       "      <td>453171.5</td>\n",
       "    </tr>\n",
       "    <tr>\n",
       "      <th>3</th>\n",
       "      <td>ENSG00000095787</td>\n",
       "      <td>chr10</td>\n",
       "      <td>28821422</td>\n",
       "      <td>28821423</td>\n",
       "      <td>28821422.5</td>\n",
       "      <td>chr10.1007_top_two</td>\n",
       "      <td>chr10</td>\n",
       "      <td>29023920</td>\n",
       "      <td>29024458</td>\n",
       "      <td>29024189.0</td>\n",
       "      <td>202766.5</td>\n",
       "    </tr>\n",
       "    <tr>\n",
       "      <th>4</th>\n",
       "      <td>ENSG00000095739</td>\n",
       "      <td>chr10</td>\n",
       "      <td>28966271</td>\n",
       "      <td>28966272</td>\n",
       "      <td>28966271.5</td>\n",
       "      <td>chr10.1007_top_two</td>\n",
       "      <td>chr10</td>\n",
       "      <td>29023920</td>\n",
       "      <td>29024458</td>\n",
       "      <td>29024189.0</td>\n",
       "      <td>57917.5</td>\n",
       "    </tr>\n",
       "  </tbody>\n",
       "</table>\n",
       "</div>"
      ],
      "text/plain": [
       "   ENSG.targetgene chr.targetgene  start.targetgene  stop.targetgene  \\\n",
       "0  ENSG00000150051          chr10          28034777         28034778   \n",
       "1  ENSG00000169126          chr10          28287976         28287977   \n",
       "2  ENSG00000150054          chr10          28571017         28571018   \n",
       "3  ENSG00000095787          chr10          28821422         28821423   \n",
       "4  ENSG00000095739          chr10          28966271         28966272   \n",
       "\n",
       "   position.targetgene           gRNAgroup gRNAgroup.chr  gRNAgroup.start  \\\n",
       "0           28034777.5  chr10.1007_top_two         chr10         29023920   \n",
       "1           28287976.5  chr10.1007_top_two         chr10         29023920   \n",
       "2           28571017.5  chr10.1007_top_two         chr10         29023920   \n",
       "3           28821422.5  chr10.1007_top_two         chr10         29023920   \n",
       "4           28966271.5  chr10.1007_top_two         chr10         29023920   \n",
       "\n",
       "   gRNAgroup.stop  gRNAgroup.position  enhancer_gene_distance  \n",
       "0        29024458          29024189.0                989411.5  \n",
       "1        29024458          29024189.0                736212.5  \n",
       "2        29024458          29024189.0                453171.5  \n",
       "3        29024458          29024189.0                202766.5  \n",
       "4        29024458          29024189.0                 57917.5  "
      ]
     },
     "execution_count": 47,
     "metadata": {},
     "output_type": "execute_result"
    }
   ],
   "source": [
    "enhancer_gene['enhancer_gene_distance'] = np.abs(enhancer_gene['position.targetgene'] - enhancer_gene['gRNAgroup.position'])\n",
    "enhancer_gene.head()"
   ]
  },
  {
   "cell_type": "code",
   "execution_count": 48,
   "metadata": {},
   "outputs": [
    {
     "data": {
      "text/plain": [
       "(140635, 11)"
      ]
     },
     "execution_count": 48,
     "metadata": {},
     "output_type": "execute_result"
    }
   ],
   "source": [
    "enhancer_gene.shape"
   ]
  },
  {
   "cell_type": "code",
   "execution_count": 49,
   "metadata": {},
   "outputs": [
    {
     "data": {
      "text/plain": [
       "<AxesSubplot:>"
      ]
     },
     "execution_count": 49,
     "metadata": {},
     "output_type": "execute_result"
    },
    {
     "data": {
      "image/png": "[encoded data removed]",
      "text/plain": [
       "<Figure size 432x288 with 1 Axes>"
      ]
     },
     "metadata": {
      "needs_background": "light"
     },
     "output_type": "display_data"
    }
   ],
   "source": [
    "enhancer_gene.groupby('ENSG.targetgene').count()['chr.targetgene'].hist(bins = 20)"
   ]
  },
  {
   "cell_type": "code",
   "execution_count": 52,
   "metadata": {},
   "outputs": [
    {
     "data": {
      "text/plain": [
       "(140635, 11)"
      ]
     },
     "execution_count": 52,
     "metadata": {},
     "output_type": "execute_result"
    }
   ],
   "source": [
    "enhancer_gene.drop_duplicates().shape"
   ]
  },
  {
   "cell_type": "code",
   "execution_count": 53,
   "metadata": {},
   "outputs": [
    {
     "data": {
      "text/plain": [
       "(138012, 2)"
      ]
     },
     "execution_count": 53,
     "metadata": {},
     "output_type": "execute_result"
    }
   ],
   "source": [
    "test = enhancer_gene[['ENSG.targetgene', 'gRNAgroup']]\n",
    "test.drop_duplicates().shape"
   ]
  },
  {
   "cell_type": "code",
   "execution_count": 57,
   "metadata": {},
   "outputs": [
    {
     "data": {
      "text/html": [
       "<div>\n",
       "<style scoped>\n",
       "    .dataframe tbody tr th:only-of-type {\n",
       "        vertical-align: middle;\n",
       "    }\n",
       "\n",
       "    .dataframe tbody tr th {\n",
       "        vertical-align: top;\n",
       "    }\n",
       "\n",
       "    .dataframe thead th {\n",
       "        text-align: right;\n",
       "    }\n",
       "</style>\n",
       "<table border=\"1\" class=\"dataframe\">\n",
       "  <thead>\n",
       "    <tr style=\"text-align: right;\">\n",
       "      <th></th>\n",
       "      <th>ENSG.targetgene</th>\n",
       "      <th>chr.targetgene</th>\n",
       "      <th>start.targetgene</th>\n",
       "      <th>stop.targetgene</th>\n",
       "      <th>position.targetgene</th>\n",
       "      <th>gRNAgroup</th>\n",
       "      <th>gRNAgroup.chr</th>\n",
       "      <th>gRNAgroup.start</th>\n",
       "      <th>gRNAgroup.stop</th>\n",
       "      <th>gRNAgroup.position</th>\n",
       "      <th>enhancer_gene_distance</th>\n",
       "    </tr>\n",
       "  </thead>\n",
       "  <tbody>\n",
       "    <tr>\n",
       "      <th>19</th>\n",
       "      <td>ENSG00000197321</td>\n",
       "      <td>chr10</td>\n",
       "      <td>29923900</td>\n",
       "      <td>29923901</td>\n",
       "      <td>29923900.5</td>\n",
       "      <td>chr10.1018_top_two</td>\n",
       "      <td>chr10</td>\n",
       "      <td>29111303</td>\n",
       "      <td>29112331</td>\n",
       "      <td>29111817.0</td>\n",
       "      <td>812083.5</td>\n",
       "    </tr>\n",
       "    <tr>\n",
       "      <th>20</th>\n",
       "      <td>ENSG00000197321</td>\n",
       "      <td>chr10</td>\n",
       "      <td>30024732</td>\n",
       "      <td>30024733</td>\n",
       "      <td>30024732.5</td>\n",
       "      <td>chr10.1018_top_two</td>\n",
       "      <td>chr10</td>\n",
       "      <td>29111303</td>\n",
       "      <td>29112331</td>\n",
       "      <td>29111817.0</td>\n",
       "      <td>912915.5</td>\n",
       "    </tr>\n",
       "  </tbody>\n",
       "</table>\n",
       "</div>"
      ],
      "text/plain": [
       "    ENSG.targetgene chr.targetgene  start.targetgene  stop.targetgene  \\\n",
       "19  ENSG00000197321          chr10          29923900         29923901   \n",
       "20  ENSG00000197321          chr10          30024732         30024733   \n",
       "\n",
       "    position.targetgene           gRNAgroup gRNAgroup.chr  gRNAgroup.start  \\\n",
       "19           29923900.5  chr10.1018_top_two         chr10         29111303   \n",
       "20           30024732.5  chr10.1018_top_two         chr10         29111303   \n",
       "\n",
       "    gRNAgroup.stop  gRNAgroup.position  enhancer_gene_distance  \n",
       "19        29112331          29111817.0                812083.5  \n",
       "20        29112331          29111817.0                912915.5  "
      ]
     },
     "execution_count": 57,
     "metadata": {},
     "output_type": "execute_result"
    }
   ],
   "source": [
    "enhancer_gene[(enhancer_gene['ENSG.targetgene'] == 'ENSG00000197321') & (enhancer_gene['gRNAgroup'] == 'chr10.1018_top_two')]"
   ]
  },
  {
   "cell_type": "code",
   "execution_count": 55,
   "metadata": {},
   "outputs": [
    {
     "data": {
      "text/html": [
       "<div>\n",
       "<style scoped>\n",
       "    .dataframe tbody tr th:only-of-type {\n",
       "        vertical-align: middle;\n",
       "    }\n",
       "\n",
       "    .dataframe tbody tr th {\n",
       "        vertical-align: top;\n",
       "    }\n",
       "\n",
       "    .dataframe thead th {\n",
       "        text-align: right;\n",
       "    }\n",
       "</style>\n",
       "<table border=\"1\" class=\"dataframe\">\n",
       "  <thead>\n",
       "    <tr style=\"text-align: right;\">\n",
       "      <th></th>\n",
       "      <th>ENSG.targetgene</th>\n",
       "      <th>gRNAgroup</th>\n",
       "    </tr>\n",
       "  </thead>\n",
       "  <tbody>\n",
       "    <tr>\n",
       "      <th>20</th>\n",
       "      <td>ENSG00000197321</td>\n",
       "      <td>chr10.1018_top_two</td>\n",
       "    </tr>\n",
       "    <tr>\n",
       "      <th>27</th>\n",
       "      <td>ENSG00000197321</td>\n",
       "      <td>chr10.1019_top_two</td>\n",
       "    </tr>\n",
       "    <tr>\n",
       "      <th>34</th>\n",
       "      <td>ENSG00000197321</td>\n",
       "      <td>chr10.1020_top_two</td>\n",
       "    </tr>\n",
       "    <tr>\n",
       "      <th>41</th>\n",
       "      <td>ENSG00000197321</td>\n",
       "      <td>chr10.1030_top_two</td>\n",
       "    </tr>\n",
       "    <tr>\n",
       "      <th>47</th>\n",
       "      <td>ENSG00000197321</td>\n",
       "      <td>chr10.1034_top_two</td>\n",
       "    </tr>\n",
       "    <tr>\n",
       "      <th>...</th>\n",
       "      <td>...</td>\n",
       "      <td>...</td>\n",
       "    </tr>\n",
       "    <tr>\n",
       "      <th>139720</th>\n",
       "      <td>ENSG00000213397</td>\n",
       "      <td>chrX.2661_top_two</td>\n",
       "    </tr>\n",
       "    <tr>\n",
       "      <th>139782</th>\n",
       "      <td>ENSG00000213397</td>\n",
       "      <td>chrX.2694_top_two</td>\n",
       "    </tr>\n",
       "    <tr>\n",
       "      <th>139844</th>\n",
       "      <td>ENSG00000213397</td>\n",
       "      <td>chrX.2695_top_two</td>\n",
       "    </tr>\n",
       "    <tr>\n",
       "      <th>139907</th>\n",
       "      <td>ENSG00000213397</td>\n",
       "      <td>chrX.2696_top_two</td>\n",
       "    </tr>\n",
       "    <tr>\n",
       "      <th>140634</th>\n",
       "      <td>ENSG00000126759</td>\n",
       "      <td>chrX.839_top_two</td>\n",
       "    </tr>\n",
       "  </tbody>\n",
       "</table>\n",
       "<p>2623 rows × 2 columns</p>\n",
       "</div>"
      ],
      "text/plain": [
       "        ENSG.targetgene           gRNAgroup\n",
       "20      ENSG00000197321  chr10.1018_top_two\n",
       "27      ENSG00000197321  chr10.1019_top_two\n",
       "34      ENSG00000197321  chr10.1020_top_two\n",
       "41      ENSG00000197321  chr10.1030_top_two\n",
       "47      ENSG00000197321  chr10.1034_top_two\n",
       "...                 ...                 ...\n",
       "139720  ENSG00000213397   chrX.2661_top_two\n",
       "139782  ENSG00000213397   chrX.2694_top_two\n",
       "139844  ENSG00000213397   chrX.2695_top_two\n",
       "139907  ENSG00000213397   chrX.2696_top_two\n",
       "140634  ENSG00000126759    chrX.839_top_two\n",
       "\n",
       "[2623 rows x 2 columns]"
      ]
     },
     "execution_count": 55,
     "metadata": {},
     "output_type": "execute_result"
    }
   ],
   "source": [
    "test[test.duplicated()]"
   ]
  },
  {
   "cell_type": "code",
   "execution_count": 58,
   "metadata": {},
   "outputs": [
    {
     "data": {
      "text/html": [
       "<div>\n",
       "<style scoped>\n",
       "    .dataframe tbody tr th:only-of-type {\n",
       "        vertical-align: middle;\n",
       "    }\n",
       "\n",
       "    .dataframe tbody tr th {\n",
       "        vertical-align: top;\n",
       "    }\n",
       "\n",
       "    .dataframe thead th {\n",
       "        text-align: right;\n",
       "    }\n",
       "</style>\n",
       "<table border=\"1\" class=\"dataframe\">\n",
       "  <thead>\n",
       "    <tr style=\"text-align: right;\">\n",
       "      <th></th>\n",
       "      <th>ENSG.targetgene</th>\n",
       "      <th>gRNAgroup</th>\n",
       "    </tr>\n",
       "  </thead>\n",
       "  <tbody>\n",
       "    <tr>\n",
       "      <th>0</th>\n",
       "      <td>ENSG00000150051</td>\n",
       "      <td>chr10.1007_top_two</td>\n",
       "    </tr>\n",
       "    <tr>\n",
       "      <th>1</th>\n",
       "      <td>ENSG00000169126</td>\n",
       "      <td>chr10.1007_top_two</td>\n",
       "    </tr>\n",
       "    <tr>\n",
       "      <th>2</th>\n",
       "      <td>ENSG00000150054</td>\n",
       "      <td>chr10.1007_top_two</td>\n",
       "    </tr>\n",
       "    <tr>\n",
       "      <th>3</th>\n",
       "      <td>ENSG00000095787</td>\n",
       "      <td>chr10.1007_top_two</td>\n",
       "    </tr>\n",
       "    <tr>\n",
       "      <th>4</th>\n",
       "      <td>ENSG00000095739</td>\n",
       "      <td>chr10.1007_top_two</td>\n",
       "    </tr>\n",
       "  </tbody>\n",
       "</table>\n",
       "</div>"
      ],
      "text/plain": [
       "   ENSG.targetgene           gRNAgroup\n",
       "0  ENSG00000150051  chr10.1007_top_two\n",
       "1  ENSG00000169126  chr10.1007_top_two\n",
       "2  ENSG00000150054  chr10.1007_top_two\n",
       "3  ENSG00000095787  chr10.1007_top_two\n",
       "4  ENSG00000095739  chr10.1007_top_two"
      ]
     },
     "execution_count": 58,
     "metadata": {},
     "output_type": "execute_result"
    }
   ],
   "source": [
    "enhancer_gene = enhancer_gene[['ENSG.targetgene', 'gRNAgroup']]\n",
    "enhancer_gene.head()"
   ]
  },
  {
   "cell_type": "code",
   "execution_count": 59,
   "metadata": {},
   "outputs": [
    {
     "data": {
      "text/plain": [
       "(140635, 2)"
      ]
     },
     "execution_count": 59,
     "metadata": {},
     "output_type": "execute_result"
    }
   ],
   "source": [
    "enhancer_gene.shape"
   ]
  },
  {
   "cell_type": "code",
   "execution_count": 60,
   "metadata": {},
   "outputs": [
    {
     "data": {
      "text/plain": [
       "(138012, 2)"
      ]
     },
     "execution_count": 60,
     "metadata": {},
     "output_type": "execute_result"
    }
   ],
   "source": [
    "enhancer_gene.drop_duplicates().shape"
   ]
  },
  {
   "cell_type": "code",
   "execution_count": 61,
   "metadata": {},
   "outputs": [],
   "source": [
    "enhancer_gene = enhancer_gene.drop_duplicates()"
   ]
  },
  {
   "cell_type": "code",
   "execution_count": 62,
   "metadata": {},
   "outputs": [
    {
     "data": {
      "text/html": [
       "<div>\n",
       "<style scoped>\n",
       "    .dataframe tbody tr th:only-of-type {\n",
       "        vertical-align: middle;\n",
       "    }\n",
       "\n",
       "    .dataframe tbody tr th {\n",
       "        vertical-align: top;\n",
       "    }\n",
       "\n",
       "    .dataframe thead th {\n",
       "        text-align: right;\n",
       "    }\n",
       "</style>\n",
       "<table border=\"1\" class=\"dataframe\">\n",
       "  <thead>\n",
       "    <tr style=\"text-align: right;\">\n",
       "      <th></th>\n",
       "      <th>0</th>\n",
       "    </tr>\n",
       "    <tr>\n",
       "      <th>ENSG.targetgene</th>\n",
       "      <th></th>\n",
       "    </tr>\n",
       "  </thead>\n",
       "  <tbody>\n",
       "    <tr>\n",
       "      <th>ENSG00000000003</th>\n",
       "      <td>[]</td>\n",
       "    </tr>\n",
       "    <tr>\n",
       "      <th>ENSG00000000005</th>\n",
       "      <td>[]</td>\n",
       "    </tr>\n",
       "    <tr>\n",
       "      <th>ENSG00000000419</th>\n",
       "      <td>[(chr20.2275_top_two, chr20.2276_top_two), (ch...</td>\n",
       "    </tr>\n",
       "    <tr>\n",
       "      <th>ENSG00000000457</th>\n",
       "      <td>[]</td>\n",
       "    </tr>\n",
       "    <tr>\n",
       "      <th>ENSG00000000460</th>\n",
       "      <td>[]</td>\n",
       "    </tr>\n",
       "  </tbody>\n",
       "</table>\n",
       "</div>"
      ],
      "text/plain": [
       "                                                                 0\n",
       "ENSG.targetgene                                                   \n",
       "ENSG00000000003                                                 []\n",
       "ENSG00000000005                                                 []\n",
       "ENSG00000000419  [(chr20.2275_top_two, chr20.2276_top_two), (ch...\n",
       "ENSG00000000457                                                 []\n",
       "ENSG00000000460                                                 []"
      ]
     },
     "execution_count": 62,
     "metadata": {},
     "output_type": "execute_result"
    }
   ],
   "source": [
    "def get_pairwise_enhancers(gene_enhancers):\n",
    "    return list(itertools.combinations(gene_enhancers['gRNAgroup'], 2))\n",
    "\n",
    "enhancer_enhancer_gene = pd.DataFrame(enhancer_gene.groupby('ENSG.targetgene').apply(get_pairwise_enhancers))\n",
    "enhancer_enhancer_gene.head()"
   ]
  },
  {
   "cell_type": "code",
   "execution_count": 63,
   "metadata": {},
   "outputs": [
    {
     "data": {
      "text/html": [
       "<div>\n",
       "<style scoped>\n",
       "    .dataframe tbody tr th:only-of-type {\n",
       "        vertical-align: middle;\n",
       "    }\n",
       "\n",
       "    .dataframe tbody tr th {\n",
       "        vertical-align: top;\n",
       "    }\n",
       "\n",
       "    .dataframe thead th {\n",
       "        text-align: right;\n",
       "    }\n",
       "</style>\n",
       "<table border=\"1\" class=\"dataframe\">\n",
       "  <thead>\n",
       "    <tr style=\"text-align: right;\">\n",
       "      <th></th>\n",
       "      <th>ENSG.targetgene</th>\n",
       "      <th>0</th>\n",
       "    </tr>\n",
       "  </thead>\n",
       "  <tbody>\n",
       "    <tr>\n",
       "      <th>0</th>\n",
       "      <td>ENSG00000000003</td>\n",
       "      <td>[]</td>\n",
       "    </tr>\n",
       "    <tr>\n",
       "      <th>1</th>\n",
       "      <td>ENSG00000000005</td>\n",
       "      <td>[]</td>\n",
       "    </tr>\n",
       "    <tr>\n",
       "      <th>2</th>\n",
       "      <td>ENSG00000000419</td>\n",
       "      <td>[(chr20.2275_top_two, chr20.2276_top_two), (ch...</td>\n",
       "    </tr>\n",
       "    <tr>\n",
       "      <th>3</th>\n",
       "      <td>ENSG00000000457</td>\n",
       "      <td>[]</td>\n",
       "    </tr>\n",
       "    <tr>\n",
       "      <th>4</th>\n",
       "      <td>ENSG00000000460</td>\n",
       "      <td>[]</td>\n",
       "    </tr>\n",
       "  </tbody>\n",
       "</table>\n",
       "</div>"
      ],
      "text/plain": [
       "   ENSG.targetgene                                                  0\n",
       "0  ENSG00000000003                                                 []\n",
       "1  ENSG00000000005                                                 []\n",
       "2  ENSG00000000419  [(chr20.2275_top_two, chr20.2276_top_two), (ch...\n",
       "3  ENSG00000000457                                                 []\n",
       "4  ENSG00000000460                                                 []"
      ]
     },
     "execution_count": 63,
     "metadata": {},
     "output_type": "execute_result"
    }
   ],
   "source": [
    "enhancer_enhancer_gene = enhancer_enhancer_gene.reset_index()\n",
    "enhancer_enhancer_gene.head()"
   ]
  },
  {
   "cell_type": "code",
   "execution_count": 64,
   "metadata": {},
   "outputs": [
    {
     "data": {
      "text/html": [
       "<div>\n",
       "<style scoped>\n",
       "    .dataframe tbody tr th:only-of-type {\n",
       "        vertical-align: middle;\n",
       "    }\n",
       "\n",
       "    .dataframe tbody tr th {\n",
       "        vertical-align: top;\n",
       "    }\n",
       "\n",
       "    .dataframe thead th {\n",
       "        text-align: right;\n",
       "    }\n",
       "</style>\n",
       "<table border=\"1\" class=\"dataframe\">\n",
       "  <thead>\n",
       "    <tr style=\"text-align: right;\">\n",
       "      <th></th>\n",
       "      <th>gene</th>\n",
       "      <th>enhancer_pair</th>\n",
       "    </tr>\n",
       "  </thead>\n",
       "  <tbody>\n",
       "    <tr>\n",
       "      <th>0</th>\n",
       "      <td>ENSG00000000003</td>\n",
       "      <td>[]</td>\n",
       "    </tr>\n",
       "    <tr>\n",
       "      <th>1</th>\n",
       "      <td>ENSG00000000005</td>\n",
       "      <td>[]</td>\n",
       "    </tr>\n",
       "    <tr>\n",
       "      <th>2</th>\n",
       "      <td>ENSG00000000419</td>\n",
       "      <td>[(chr20.2275_top_two, chr20.2276_top_two), (ch...</td>\n",
       "    </tr>\n",
       "    <tr>\n",
       "      <th>3</th>\n",
       "      <td>ENSG00000000457</td>\n",
       "      <td>[]</td>\n",
       "    </tr>\n",
       "    <tr>\n",
       "      <th>4</th>\n",
       "      <td>ENSG00000000460</td>\n",
       "      <td>[]</td>\n",
       "    </tr>\n",
       "  </tbody>\n",
       "</table>\n",
       "</div>"
      ],
      "text/plain": [
       "              gene                                      enhancer_pair\n",
       "0  ENSG00000000003                                                 []\n",
       "1  ENSG00000000005                                                 []\n",
       "2  ENSG00000000419  [(chr20.2275_top_two, chr20.2276_top_two), (ch...\n",
       "3  ENSG00000000457                                                 []\n",
       "4  ENSG00000000460                                                 []"
      ]
     },
     "execution_count": 64,
     "metadata": {},
     "output_type": "execute_result"
    }
   ],
   "source": [
    "enhancer_enhancer_gene.columns = ['gene', 'enhancer_pair']\n",
    "enhancer_enhancer_gene.head()"
   ]
  },
  {
   "cell_type": "code",
   "execution_count": 65,
   "metadata": {},
   "outputs": [
    {
     "data": {
      "text/html": [
       "<div>\n",
       "<style scoped>\n",
       "    .dataframe tbody tr th:only-of-type {\n",
       "        vertical-align: middle;\n",
       "    }\n",
       "\n",
       "    .dataframe tbody tr th {\n",
       "        vertical-align: top;\n",
       "    }\n",
       "\n",
       "    .dataframe thead th {\n",
       "        text-align: right;\n",
       "    }\n",
       "</style>\n",
       "<table border=\"1\" class=\"dataframe\">\n",
       "  <thead>\n",
       "    <tr style=\"text-align: right;\">\n",
       "      <th></th>\n",
       "      <th>gene</th>\n",
       "      <th>enhancer_pair</th>\n",
       "    </tr>\n",
       "  </thead>\n",
       "  <tbody>\n",
       "    <tr>\n",
       "      <th>0</th>\n",
       "      <td>ENSG00000000003</td>\n",
       "      <td>NaN</td>\n",
       "    </tr>\n",
       "    <tr>\n",
       "      <th>1</th>\n",
       "      <td>ENSG00000000005</td>\n",
       "      <td>NaN</td>\n",
       "    </tr>\n",
       "    <tr>\n",
       "      <th>2</th>\n",
       "      <td>ENSG00000000419</td>\n",
       "      <td>(chr20.2275_top_two, chr20.2276_top_two)</td>\n",
       "    </tr>\n",
       "    <tr>\n",
       "      <th>3</th>\n",
       "      <td>ENSG00000000419</td>\n",
       "      <td>(chr20.2275_top_two, chr20.2279_top_two)</td>\n",
       "    </tr>\n",
       "    <tr>\n",
       "      <th>4</th>\n",
       "      <td>ENSG00000000419</td>\n",
       "      <td>(chr20.2275_top_two, chr20.2320_top_two)</td>\n",
       "    </tr>\n",
       "  </tbody>\n",
       "</table>\n",
       "</div>"
      ],
      "text/plain": [
       "              gene                             enhancer_pair\n",
       "0  ENSG00000000003                                       NaN\n",
       "1  ENSG00000000005                                       NaN\n",
       "2  ENSG00000000419  (chr20.2275_top_two, chr20.2276_top_two)\n",
       "3  ENSG00000000419  (chr20.2275_top_two, chr20.2279_top_two)\n",
       "4  ENSG00000000419  (chr20.2275_top_two, chr20.2320_top_two)"
      ]
     },
     "execution_count": 65,
     "metadata": {},
     "output_type": "execute_result"
    }
   ],
   "source": [
    "enhancer_enhancer_gene = enhancer_enhancer_gene.explode('enhancer_pair', ignore_index = True)\n",
    "enhancer_enhancer_gene.head()"
   ]
  },
  {
   "cell_type": "code",
   "execution_count": 66,
   "metadata": {},
   "outputs": [
    {
     "data": {
      "text/html": [
       "<div>\n",
       "<style scoped>\n",
       "    .dataframe tbody tr th:only-of-type {\n",
       "        vertical-align: middle;\n",
       "    }\n",
       "\n",
       "    .dataframe tbody tr th {\n",
       "        vertical-align: top;\n",
       "    }\n",
       "\n",
       "    .dataframe thead th {\n",
       "        text-align: right;\n",
       "    }\n",
       "</style>\n",
       "<table border=\"1\" class=\"dataframe\">\n",
       "  <thead>\n",
       "    <tr style=\"text-align: right;\">\n",
       "      <th></th>\n",
       "      <th>gene</th>\n",
       "      <th>enhancer_pair</th>\n",
       "    </tr>\n",
       "  </thead>\n",
       "  <tbody>\n",
       "    <tr>\n",
       "      <th>2</th>\n",
       "      <td>ENSG00000000419</td>\n",
       "      <td>(chr20.2275_top_two, chr20.2276_top_two)</td>\n",
       "    </tr>\n",
       "    <tr>\n",
       "      <th>3</th>\n",
       "      <td>ENSG00000000419</td>\n",
       "      <td>(chr20.2275_top_two, chr20.2279_top_two)</td>\n",
       "    </tr>\n",
       "    <tr>\n",
       "      <th>4</th>\n",
       "      <td>ENSG00000000419</td>\n",
       "      <td>(chr20.2275_top_two, chr20.2320_top_two)</td>\n",
       "    </tr>\n",
       "    <tr>\n",
       "      <th>5</th>\n",
       "      <td>ENSG00000000419</td>\n",
       "      <td>(chr20.2275_top_two, chr20.2321_top_two)</td>\n",
       "    </tr>\n",
       "    <tr>\n",
       "      <th>6</th>\n",
       "      <td>ENSG00000000419</td>\n",
       "      <td>(chr20.2275_top_two, chr20.2355_top_two)</td>\n",
       "    </tr>\n",
       "  </tbody>\n",
       "</table>\n",
       "</div>"
      ],
      "text/plain": [
       "              gene                             enhancer_pair\n",
       "2  ENSG00000000419  (chr20.2275_top_two, chr20.2276_top_two)\n",
       "3  ENSG00000000419  (chr20.2275_top_two, chr20.2279_top_two)\n",
       "4  ENSG00000000419  (chr20.2275_top_two, chr20.2320_top_two)\n",
       "5  ENSG00000000419  (chr20.2275_top_two, chr20.2321_top_two)\n",
       "6  ENSG00000000419  (chr20.2275_top_two, chr20.2355_top_two)"
      ]
     },
     "execution_count": 66,
     "metadata": {},
     "output_type": "execute_result"
    }
   ],
   "source": [
    "enhancer_enhancer_gene = enhancer_enhancer_gene.dropna()\n",
    "enhancer_enhancer_gene.head()"
   ]
  },
  {
   "cell_type": "code",
   "execution_count": 67,
   "metadata": {},
   "outputs": [
    {
     "data": {
      "text/plain": [
       "(905614, 2)"
      ]
     },
     "execution_count": 67,
     "metadata": {},
     "output_type": "execute_result"
    }
   ],
   "source": [
    "enhancer_enhancer_gene.shape"
   ]
  },
  {
   "cell_type": "code",
   "execution_count": 68,
   "metadata": {},
   "outputs": [
    {
     "data": {
      "text/html": [
       "<div>\n",
       "<style scoped>\n",
       "    .dataframe tbody tr th:only-of-type {\n",
       "        vertical-align: middle;\n",
       "    }\n",
       "\n",
       "    .dataframe tbody tr th {\n",
       "        vertical-align: top;\n",
       "    }\n",
       "\n",
       "    .dataframe thead th {\n",
       "        text-align: right;\n",
       "    }\n",
       "</style>\n",
       "<table border=\"1\" class=\"dataframe\">\n",
       "  <thead>\n",
       "    <tr style=\"text-align: right;\">\n",
       "      <th></th>\n",
       "      <th>gene</th>\n",
       "      <th>enhancer_pair</th>\n",
       "      <th>enhancer_1</th>\n",
       "      <th>enhancer_2</th>\n",
       "    </tr>\n",
       "  </thead>\n",
       "  <tbody>\n",
       "    <tr>\n",
       "      <th>2</th>\n",
       "      <td>ENSG00000000419</td>\n",
       "      <td>(chr20.2275_top_two, chr20.2276_top_two)</td>\n",
       "      <td>chr20.2275_top_two</td>\n",
       "      <td>chr20.2276_top_two</td>\n",
       "    </tr>\n",
       "    <tr>\n",
       "      <th>3</th>\n",
       "      <td>ENSG00000000419</td>\n",
       "      <td>(chr20.2275_top_two, chr20.2279_top_two)</td>\n",
       "      <td>chr20.2275_top_two</td>\n",
       "      <td>chr20.2279_top_two</td>\n",
       "    </tr>\n",
       "    <tr>\n",
       "      <th>4</th>\n",
       "      <td>ENSG00000000419</td>\n",
       "      <td>(chr20.2275_top_two, chr20.2320_top_two)</td>\n",
       "      <td>chr20.2275_top_two</td>\n",
       "      <td>chr20.2320_top_two</td>\n",
       "    </tr>\n",
       "    <tr>\n",
       "      <th>5</th>\n",
       "      <td>ENSG00000000419</td>\n",
       "      <td>(chr20.2275_top_two, chr20.2321_top_two)</td>\n",
       "      <td>chr20.2275_top_two</td>\n",
       "      <td>chr20.2321_top_two</td>\n",
       "    </tr>\n",
       "    <tr>\n",
       "      <th>6</th>\n",
       "      <td>ENSG00000000419</td>\n",
       "      <td>(chr20.2275_top_two, chr20.2355_top_two)</td>\n",
       "      <td>chr20.2275_top_two</td>\n",
       "      <td>chr20.2355_top_two</td>\n",
       "    </tr>\n",
       "  </tbody>\n",
       "</table>\n",
       "</div>"
      ],
      "text/plain": [
       "              gene                             enhancer_pair  \\\n",
       "2  ENSG00000000419  (chr20.2275_top_two, chr20.2276_top_two)   \n",
       "3  ENSG00000000419  (chr20.2275_top_two, chr20.2279_top_two)   \n",
       "4  ENSG00000000419  (chr20.2275_top_two, chr20.2320_top_two)   \n",
       "5  ENSG00000000419  (chr20.2275_top_two, chr20.2321_top_two)   \n",
       "6  ENSG00000000419  (chr20.2275_top_two, chr20.2355_top_two)   \n",
       "\n",
       "           enhancer_1          enhancer_2  \n",
       "2  chr20.2275_top_two  chr20.2276_top_two  \n",
       "3  chr20.2275_top_two  chr20.2279_top_two  \n",
       "4  chr20.2275_top_two  chr20.2320_top_two  \n",
       "5  chr20.2275_top_two  chr20.2321_top_two  \n",
       "6  chr20.2275_top_two  chr20.2355_top_two  "
      ]
     },
     "execution_count": 68,
     "metadata": {},
     "output_type": "execute_result"
    }
   ],
   "source": [
    "enhancer_enhancer_gene['enhancer_1'] = enhancer_enhancer_gene['enhancer_pair'].apply(lambda x: x[0])\n",
    "enhancer_enhancer_gene['enhancer_2'] = enhancer_enhancer_gene['enhancer_pair'].apply(lambda x: x[1])\n",
    "enhancer_enhancer_gene.head()"
   ]
  },
  {
   "cell_type": "code",
   "execution_count": 69,
   "metadata": {},
   "outputs": [
    {
     "data": {
      "text/html": [
       "<div>\n",
       "<style scoped>\n",
       "    .dataframe tbody tr th:only-of-type {\n",
       "        vertical-align: middle;\n",
       "    }\n",
       "\n",
       "    .dataframe tbody tr th {\n",
       "        vertical-align: top;\n",
       "    }\n",
       "\n",
       "    .dataframe thead th {\n",
       "        text-align: right;\n",
       "    }\n",
       "</style>\n",
       "<table border=\"1\" class=\"dataframe\">\n",
       "  <thead>\n",
       "    <tr style=\"text-align: right;\">\n",
       "      <th></th>\n",
       "      <th>gene</th>\n",
       "      <th>enhancer_1</th>\n",
       "      <th>enhancer_2</th>\n",
       "    </tr>\n",
       "  </thead>\n",
       "  <tbody>\n",
       "    <tr>\n",
       "      <th>2</th>\n",
       "      <td>ENSG00000000419</td>\n",
       "      <td>chr20.2275_top_two</td>\n",
       "      <td>chr20.2276_top_two</td>\n",
       "    </tr>\n",
       "    <tr>\n",
       "      <th>3</th>\n",
       "      <td>ENSG00000000419</td>\n",
       "      <td>chr20.2275_top_two</td>\n",
       "      <td>chr20.2279_top_two</td>\n",
       "    </tr>\n",
       "    <tr>\n",
       "      <th>4</th>\n",
       "      <td>ENSG00000000419</td>\n",
       "      <td>chr20.2275_top_two</td>\n",
       "      <td>chr20.2320_top_two</td>\n",
       "    </tr>\n",
       "    <tr>\n",
       "      <th>5</th>\n",
       "      <td>ENSG00000000419</td>\n",
       "      <td>chr20.2275_top_two</td>\n",
       "      <td>chr20.2321_top_two</td>\n",
       "    </tr>\n",
       "    <tr>\n",
       "      <th>6</th>\n",
       "      <td>ENSG00000000419</td>\n",
       "      <td>chr20.2275_top_two</td>\n",
       "      <td>chr20.2355_top_two</td>\n",
       "    </tr>\n",
       "  </tbody>\n",
       "</table>\n",
       "</div>"
      ],
      "text/plain": [
       "              gene          enhancer_1          enhancer_2\n",
       "2  ENSG00000000419  chr20.2275_top_two  chr20.2276_top_two\n",
       "3  ENSG00000000419  chr20.2275_top_two  chr20.2279_top_two\n",
       "4  ENSG00000000419  chr20.2275_top_two  chr20.2320_top_two\n",
       "5  ENSG00000000419  chr20.2275_top_two  chr20.2321_top_two\n",
       "6  ENSG00000000419  chr20.2275_top_two  chr20.2355_top_two"
      ]
     },
     "execution_count": 69,
     "metadata": {},
     "output_type": "execute_result"
    }
   ],
   "source": [
    "enhancer_enhancer_gene = enhancer_enhancer_gene[['gene', 'enhancer_1', 'enhancer_2']]\n",
    "enhancer_enhancer_gene.head()"
   ]
  },
  {
   "cell_type": "code",
   "execution_count": 70,
   "metadata": {},
   "outputs": [
    {
     "data": {
      "text/plain": [
       "(905614, 3)"
      ]
     },
     "execution_count": 70,
     "metadata": {},
     "output_type": "execute_result"
    }
   ],
   "source": [
    "enhancer_enhancer_gene.shape"
   ]
  },
  {
   "cell_type": "code",
   "execution_count": 71,
   "metadata": {},
   "outputs": [
    {
     "data": {
      "text/plain": [
       "(905614, 3)"
      ]
     },
     "execution_count": 71,
     "metadata": {},
     "output_type": "execute_result"
    }
   ],
   "source": [
    "enhancer_enhancer_gene.drop_duplicates().shape"
   ]
  },
  {
   "cell_type": "code",
   "execution_count": 72,
   "metadata": {},
   "outputs": [],
   "source": [
    "enhancer_enhancer_gene.to_csv('/iblm/netapp/data1/external/Gasperini2019/processed/at_scale_enhancer_enhancer_pairs.csv', index = False)\n"
   ]
  },
  {
   "cell_type": "code",
   "execution_count": 73,
   "metadata": {},
   "outputs": [
    {
     "data": {
      "text/plain": [
       "(905614, 3)"
      ]
     },
     "execution_count": 73,
     "metadata": {},
     "output_type": "execute_result"
    }
   ],
   "source": [
    "enhancer_enhancer_gene = pd.read_csv('/iblm/netapp/data1/external/Gasperini2019/processed/at_scale_enhancer_enhancer_pairs.csv')\n",
    "enhancer_enhancer_gene.shape"
   ]
  },
  {
   "cell_type": "code",
   "execution_count": 80,
   "metadata": {},
   "outputs": [
    {
     "data": {
      "text/html": [
       "<div>\n",
       "<style scoped>\n",
       "    .dataframe tbody tr th:only-of-type {\n",
       "        vertical-align: middle;\n",
       "    }\n",
       "\n",
       "    .dataframe tbody tr th {\n",
       "        vertical-align: top;\n",
       "    }\n",
       "\n",
       "    .dataframe thead th {\n",
       "        text-align: right;\n",
       "    }\n",
       "</style>\n",
       "<table border=\"1\" class=\"dataframe\">\n",
       "  <thead>\n",
       "    <tr style=\"text-align: right;\">\n",
       "      <th></th>\n",
       "      <th>gene</th>\n",
       "      <th>enhancer_1</th>\n",
       "      <th>enhancer_2</th>\n",
       "    </tr>\n",
       "  </thead>\n",
       "  <tbody>\n",
       "    <tr>\n",
       "      <th>0</th>\n",
       "      <td>ENSG00000000419</td>\n",
       "      <td>chr20.2275</td>\n",
       "      <td>chr20.2276</td>\n",
       "    </tr>\n",
       "    <tr>\n",
       "      <th>1</th>\n",
       "      <td>ENSG00000000419</td>\n",
       "      <td>chr20.2275</td>\n",
       "      <td>chr20.2279</td>\n",
       "    </tr>\n",
       "    <tr>\n",
       "      <th>2</th>\n",
       "      <td>ENSG00000000419</td>\n",
       "      <td>chr20.2275</td>\n",
       "      <td>chr20.2320</td>\n",
       "    </tr>\n",
       "    <tr>\n",
       "      <th>3</th>\n",
       "      <td>ENSG00000000419</td>\n",
       "      <td>chr20.2275</td>\n",
       "      <td>chr20.2321</td>\n",
       "    </tr>\n",
       "    <tr>\n",
       "      <th>4</th>\n",
       "      <td>ENSG00000000419</td>\n",
       "      <td>chr20.2275</td>\n",
       "      <td>chr20.2355</td>\n",
       "    </tr>\n",
       "  </tbody>\n",
       "</table>\n",
       "</div>"
      ],
      "text/plain": [
       "              gene  enhancer_1  enhancer_2\n",
       "0  ENSG00000000419  chr20.2275  chr20.2276\n",
       "1  ENSG00000000419  chr20.2275  chr20.2279\n",
       "2  ENSG00000000419  chr20.2275  chr20.2320\n",
       "3  ENSG00000000419  chr20.2275  chr20.2321\n",
       "4  ENSG00000000419  chr20.2275  chr20.2355"
      ]
     },
     "execution_count": 80,
     "metadata": {},
     "output_type": "execute_result"
    }
   ],
   "source": [
    "def clean_enhancer_name(enhancer):\n",
    "    if enhancer.startswith('chr'):\n",
    "        return enhancer.split('_')[0]\n",
    "    else:\n",
    "        return enhancer\n",
    "\n",
    "enhancer_enhancer_gene['enhancer_1'] = enhancer_enhancer_gene['enhancer_1'].apply(clean_enhancer_name)\n",
    "enhancer_enhancer_gene['enhancer_2'] = enhancer_enhancer_gene['enhancer_2'].apply(clean_enhancer_name)\n",
    "enhancer_enhancer_gene.head()"
   ]
  },
  {
   "cell_type": "code",
   "execution_count": 82,
   "metadata": {},
   "outputs": [
    {
     "data": {
      "text/plain": [
       "(804710, 3)"
      ]
     },
     "execution_count": 82,
     "metadata": {},
     "output_type": "execute_result"
    }
   ],
   "source": [
    "enhancer_enhancer_gene.drop_duplicates().shape"
   ]
  },
  {
   "cell_type": "code",
   "execution_count": 77,
   "metadata": {},
   "outputs": [
    {
     "data": {
      "text/html": [
       "<div>\n",
       "<style scoped>\n",
       "    .dataframe tbody tr th:only-of-type {\n",
       "        vertical-align: middle;\n",
       "    }\n",
       "\n",
       "    .dataframe tbody tr th {\n",
       "        vertical-align: top;\n",
       "    }\n",
       "\n",
       "    .dataframe thead th {\n",
       "        text-align: right;\n",
       "    }\n",
       "</style>\n",
       "<table border=\"1\" class=\"dataframe\">\n",
       "  <thead>\n",
       "    <tr style=\"text-align: right;\">\n",
       "      <th></th>\n",
       "      <th>enhancer.1.list</th>\n",
       "      <th>enhancer.2.list</th>\n",
       "      <th>count.list</th>\n",
       "    </tr>\n",
       "  </thead>\n",
       "  <tbody>\n",
       "    <tr>\n",
       "      <th>0</th>\n",
       "      <td>chr20.2275</td>\n",
       "      <td>chr20.2276</td>\n",
       "      <td>10</td>\n",
       "    </tr>\n",
       "    <tr>\n",
       "      <th>1</th>\n",
       "      <td>chr20.2275</td>\n",
       "      <td>chr20.2279</td>\n",
       "      <td>9</td>\n",
       "    </tr>\n",
       "    <tr>\n",
       "      <th>2</th>\n",
       "      <td>chr20.2275</td>\n",
       "      <td>chr20.2320</td>\n",
       "      <td>14</td>\n",
       "    </tr>\n",
       "    <tr>\n",
       "      <th>3</th>\n",
       "      <td>chr20.2275</td>\n",
       "      <td>chr20.2321</td>\n",
       "      <td>8</td>\n",
       "    </tr>\n",
       "    <tr>\n",
       "      <th>4</th>\n",
       "      <td>chr20.2275</td>\n",
       "      <td>chr20.2355</td>\n",
       "      <td>6</td>\n",
       "    </tr>\n",
       "  </tbody>\n",
       "</table>\n",
       "</div>"
      ],
      "text/plain": [
       "  enhancer.1.list enhancer.2.list  count.list\n",
       "0      chr20.2275      chr20.2276          10\n",
       "1      chr20.2275      chr20.2279           9\n",
       "2      chr20.2275      chr20.2320          14\n",
       "3      chr20.2275      chr20.2321           8\n",
       "4      chr20.2275      chr20.2355           6"
      ]
     },
     "execution_count": 77,
     "metadata": {},
     "output_type": "execute_result"
    }
   ],
   "source": [
    "enhancer_pair_counts = pd.read_csv('/iblm/netapp/data1/external/Gasperini2019/processed/at_scale_enhancer_enhancer_pairs_both_cells_count.csv')\n",
    "enhancer_pair_counts.head()"
   ]
  },
  {
   "cell_type": "code",
   "execution_count": 79,
   "metadata": {},
   "outputs": [
    {
     "data": {
      "text/plain": [
       "13019"
      ]
     },
     "execution_count": 79,
     "metadata": {},
     "output_type": "execute_result"
    }
   ],
   "source": [
    "sum(enhancer_pair_counts['enhancer.1.list'] == enhancer_pair_counts['enhancer.2.list'])"
   ]
  },
  {
   "cell_type": "markdown",
   "metadata": {},
   "source": [
    "enhancer_pair_counts.shape"
   ]
  },
  {
   "cell_type": "code",
   "execution_count": 35,
   "metadata": {},
   "outputs": [
    {
     "data": {
      "text/plain": [
       "3261"
      ]
     },
     "execution_count": 35,
     "metadata": {},
     "output_type": "execute_result"
    }
   ],
   "source": [
    "sum(enhancer_pair_counts['count.list'] > 2000)"
   ]
  },
  {
   "cell_type": "code",
   "execution_count": 36,
   "metadata": {},
   "outputs": [
    {
     "data": {
      "text/html": [
       "<div>\n",
       "<style scoped>\n",
       "    .dataframe tbody tr th:only-of-type {\n",
       "        vertical-align: middle;\n",
       "    }\n",
       "\n",
       "    .dataframe tbody tr th {\n",
       "        vertical-align: top;\n",
       "    }\n",
       "\n",
       "    .dataframe thead th {\n",
       "        text-align: right;\n",
       "    }\n",
       "</style>\n",
       "<table border=\"1\" class=\"dataframe\">\n",
       "  <thead>\n",
       "    <tr style=\"text-align: right;\">\n",
       "      <th></th>\n",
       "      <th>enhancer_1</th>\n",
       "      <th>enhancer_2</th>\n",
       "      <th>count</th>\n",
       "    </tr>\n",
       "  </thead>\n",
       "  <tbody>\n",
       "    <tr>\n",
       "      <th>0</th>\n",
       "      <td>chr20.2275</td>\n",
       "      <td>chr20.2276</td>\n",
       "      <td>10</td>\n",
       "    </tr>\n",
       "    <tr>\n",
       "      <th>1</th>\n",
       "      <td>chr20.2275</td>\n",
       "      <td>chr20.2279</td>\n",
       "      <td>9</td>\n",
       "    </tr>\n",
       "    <tr>\n",
       "      <th>2</th>\n",
       "      <td>chr20.2275</td>\n",
       "      <td>chr20.2320</td>\n",
       "      <td>14</td>\n",
       "    </tr>\n",
       "    <tr>\n",
       "      <th>3</th>\n",
       "      <td>chr20.2275</td>\n",
       "      <td>chr20.2321</td>\n",
       "      <td>8</td>\n",
       "    </tr>\n",
       "    <tr>\n",
       "      <th>4</th>\n",
       "      <td>chr20.2275</td>\n",
       "      <td>chr20.2355</td>\n",
       "      <td>6</td>\n",
       "    </tr>\n",
       "  </tbody>\n",
       "</table>\n",
       "</div>"
      ],
      "text/plain": [
       "   enhancer_1  enhancer_2  count\n",
       "0  chr20.2275  chr20.2276     10\n",
       "1  chr20.2275  chr20.2279      9\n",
       "2  chr20.2275  chr20.2320     14\n",
       "3  chr20.2275  chr20.2321      8\n",
       "4  chr20.2275  chr20.2355      6"
      ]
     },
     "execution_count": 36,
     "metadata": {},
     "output_type": "execute_result"
    }
   ],
   "source": [
    "enhancer_pair_counts.columns = ['enhancer_1', 'enhancer_2', 'count']\n",
    "enhancer_pair_counts.head()"
   ]
  },
  {
   "cell_type": "code",
   "execution_count": 37,
   "metadata": {},
   "outputs": [
    {
     "data": {
      "text/html": [
       "<div>\n",
       "<style scoped>\n",
       "    .dataframe tbody tr th:only-of-type {\n",
       "        vertical-align: middle;\n",
       "    }\n",
       "\n",
       "    .dataframe tbody tr th {\n",
       "        vertical-align: top;\n",
       "    }\n",
       "\n",
       "    .dataframe thead th {\n",
       "        text-align: right;\n",
       "    }\n",
       "</style>\n",
       "<table border=\"1\" class=\"dataframe\">\n",
       "  <thead>\n",
       "    <tr style=\"text-align: right;\">\n",
       "      <th></th>\n",
       "      <th>gene</th>\n",
       "      <th>enhancer_1</th>\n",
       "      <th>enhancer_2</th>\n",
       "    </tr>\n",
       "  </thead>\n",
       "  <tbody>\n",
       "    <tr>\n",
       "      <th>0</th>\n",
       "      <td>ENSG00000000419</td>\n",
       "      <td>chr20.2275_top_two</td>\n",
       "      <td>chr20.2276_top_two</td>\n",
       "    </tr>\n",
       "    <tr>\n",
       "      <th>1</th>\n",
       "      <td>ENSG00000000419</td>\n",
       "      <td>chr20.2275_top_two</td>\n",
       "      <td>chr20.2279_top_two</td>\n",
       "    </tr>\n",
       "    <tr>\n",
       "      <th>2</th>\n",
       "      <td>ENSG00000000419</td>\n",
       "      <td>chr20.2275_top_two</td>\n",
       "      <td>chr20.2320_top_two</td>\n",
       "    </tr>\n",
       "    <tr>\n",
       "      <th>3</th>\n",
       "      <td>ENSG00000000419</td>\n",
       "      <td>chr20.2275_top_two</td>\n",
       "      <td>chr20.2321_top_two</td>\n",
       "    </tr>\n",
       "    <tr>\n",
       "      <th>4</th>\n",
       "      <td>ENSG00000000419</td>\n",
       "      <td>chr20.2275_top_two</td>\n",
       "      <td>chr20.2355_top_two</td>\n",
       "    </tr>\n",
       "  </tbody>\n",
       "</table>\n",
       "</div>"
      ],
      "text/plain": [
       "              gene          enhancer_1          enhancer_2\n",
       "0  ENSG00000000419  chr20.2275_top_two  chr20.2276_top_two\n",
       "1  ENSG00000000419  chr20.2275_top_two  chr20.2279_top_two\n",
       "2  ENSG00000000419  chr20.2275_top_two  chr20.2320_top_two\n",
       "3  ENSG00000000419  chr20.2275_top_two  chr20.2321_top_two\n",
       "4  ENSG00000000419  chr20.2275_top_two  chr20.2355_top_two"
      ]
     },
     "execution_count": 37,
     "metadata": {},
     "output_type": "execute_result"
    }
   ],
   "source": [
    "enhancer_enhancer_gene = pd.read_csv('/iblm/netapp/data1/external/Gasperini2019/processed/at_scale_enhancer_enhancer_pairs.csv')\n",
    "enhancer_enhancer_gene.head()"
   ]
  },
  {
   "cell_type": "code",
   "execution_count": 38,
   "metadata": {},
   "outputs": [
    {
     "data": {
      "text/html": [
       "<div>\n",
       "<style scoped>\n",
       "    .dataframe tbody tr th:only-of-type {\n",
       "        vertical-align: middle;\n",
       "    }\n",
       "\n",
       "    .dataframe tbody tr th {\n",
       "        vertical-align: top;\n",
       "    }\n",
       "\n",
       "    .dataframe thead th {\n",
       "        text-align: right;\n",
       "    }\n",
       "</style>\n",
       "<table border=\"1\" class=\"dataframe\">\n",
       "  <thead>\n",
       "    <tr style=\"text-align: right;\">\n",
       "      <th></th>\n",
       "      <th>gene</th>\n",
       "      <th>enhancer_1</th>\n",
       "      <th>enhancer_2</th>\n",
       "    </tr>\n",
       "  </thead>\n",
       "  <tbody>\n",
       "    <tr>\n",
       "      <th>0</th>\n",
       "      <td>ENSG00000000419</td>\n",
       "      <td>chr20.2275</td>\n",
       "      <td>chr20.2276</td>\n",
       "    </tr>\n",
       "    <tr>\n",
       "      <th>1</th>\n",
       "      <td>ENSG00000000419</td>\n",
       "      <td>chr20.2275</td>\n",
       "      <td>chr20.2279</td>\n",
       "    </tr>\n",
       "    <tr>\n",
       "      <th>2</th>\n",
       "      <td>ENSG00000000419</td>\n",
       "      <td>chr20.2275</td>\n",
       "      <td>chr20.2320</td>\n",
       "    </tr>\n",
       "    <tr>\n",
       "      <th>3</th>\n",
       "      <td>ENSG00000000419</td>\n",
       "      <td>chr20.2275</td>\n",
       "      <td>chr20.2321</td>\n",
       "    </tr>\n",
       "    <tr>\n",
       "      <th>4</th>\n",
       "      <td>ENSG00000000419</td>\n",
       "      <td>chr20.2275</td>\n",
       "      <td>chr20.2355</td>\n",
       "    </tr>\n",
       "  </tbody>\n",
       "</table>\n",
       "</div>"
      ],
      "text/plain": [
       "              gene  enhancer_1  enhancer_2\n",
       "0  ENSG00000000419  chr20.2275  chr20.2276\n",
       "1  ENSG00000000419  chr20.2275  chr20.2279\n",
       "2  ENSG00000000419  chr20.2275  chr20.2320\n",
       "3  ENSG00000000419  chr20.2275  chr20.2321\n",
       "4  ENSG00000000419  chr20.2275  chr20.2355"
      ]
     },
     "execution_count": 38,
     "metadata": {},
     "output_type": "execute_result"
    }
   ],
   "source": [
    "def clean_enhancer_name(enhancer):\n",
    "    if enhancer.startswith('chr'):\n",
    "        return enhancer.split('_')[0]\n",
    "    else:\n",
    "        return enhancer\n",
    "\n",
    "enhancer_enhancer_gene['enhancer_1'] = enhancer_enhancer_gene['enhancer_1'].apply(clean_enhancer_name)\n",
    "enhancer_enhancer_gene['enhancer_2'] = enhancer_enhancer_gene['enhancer_2'].apply(clean_enhancer_name)\n",
    "enhancer_enhancer_gene.head()"
   ]
  },
  {
   "cell_type": "code",
   "execution_count": 39,
   "metadata": {},
   "outputs": [
    {
     "data": {
      "text/html": [
       "<div>\n",
       "<style scoped>\n",
       "    .dataframe tbody tr th:only-of-type {\n",
       "        vertical-align: middle;\n",
       "    }\n",
       "\n",
       "    .dataframe tbody tr th {\n",
       "        vertical-align: top;\n",
       "    }\n",
       "\n",
       "    .dataframe thead th {\n",
       "        text-align: right;\n",
       "    }\n",
       "</style>\n",
       "<table border=\"1\" class=\"dataframe\">\n",
       "  <thead>\n",
       "    <tr style=\"text-align: right;\">\n",
       "      <th></th>\n",
       "      <th>gene</th>\n",
       "      <th>enhancer_1</th>\n",
       "      <th>enhancer_2</th>\n",
       "      <th>count</th>\n",
       "    </tr>\n",
       "  </thead>\n",
       "  <tbody>\n",
       "    <tr>\n",
       "      <th>0</th>\n",
       "      <td>ENSG00000000419</td>\n",
       "      <td>chr20.2275</td>\n",
       "      <td>chr20.2276</td>\n",
       "      <td>10</td>\n",
       "    </tr>\n",
       "    <tr>\n",
       "      <th>1</th>\n",
       "      <td>ENSG00000000419</td>\n",
       "      <td>chr20.2275</td>\n",
       "      <td>chr20.2279</td>\n",
       "      <td>9</td>\n",
       "    </tr>\n",
       "    <tr>\n",
       "      <th>2</th>\n",
       "      <td>ENSG00000000419</td>\n",
       "      <td>chr20.2275</td>\n",
       "      <td>chr20.2320</td>\n",
       "      <td>14</td>\n",
       "    </tr>\n",
       "    <tr>\n",
       "      <th>3</th>\n",
       "      <td>ENSG00000000419</td>\n",
       "      <td>chr20.2275</td>\n",
       "      <td>chr20.2321</td>\n",
       "      <td>8</td>\n",
       "    </tr>\n",
       "    <tr>\n",
       "      <th>4</th>\n",
       "      <td>ENSG00000000419</td>\n",
       "      <td>chr20.2275</td>\n",
       "      <td>chr20.2355</td>\n",
       "      <td>6</td>\n",
       "    </tr>\n",
       "  </tbody>\n",
       "</table>\n",
       "</div>"
      ],
      "text/plain": [
       "              gene  enhancer_1  enhancer_2  count\n",
       "0  ENSG00000000419  chr20.2275  chr20.2276     10\n",
       "1  ENSG00000000419  chr20.2275  chr20.2279      9\n",
       "2  ENSG00000000419  chr20.2275  chr20.2320     14\n",
       "3  ENSG00000000419  chr20.2275  chr20.2321      8\n",
       "4  ENSG00000000419  chr20.2275  chr20.2355      6"
      ]
     },
     "execution_count": 39,
     "metadata": {},
     "output_type": "execute_result"
    }
   ],
   "source": [
    "enhancer_enhancer_gene['count'] = enhancer_pair_counts['count']\n",
    "enhancer_enhancer_gene.head()"
   ]
  },
  {
   "cell_type": "code",
   "execution_count": 41,
   "metadata": {},
   "outputs": [
    {
     "data": {
      "text/plain": [
       "13019"
      ]
     },
     "execution_count": 41,
     "metadata": {},
     "output_type": "execute_result"
    }
   ],
   "source": [
    "sum(enhancer_enhancer_gene['enhancer_1'] == enhancer_enhancer_gene['enhancer_2'])"
   ]
  },
  {
   "cell_type": "code",
   "execution_count": 42,
   "metadata": {},
   "outputs": [
    {
     "data": {
      "text/plain": [
       "(806982, 4)"
      ]
     },
     "execution_count": 42,
     "metadata": {},
     "output_type": "execute_result"
    }
   ],
   "source": [
    "enhancer_enhancer_gene.drop_duplicates().shape"
   ]
  },
  {
   "cell_type": "code",
   "execution_count": 24,
   "metadata": {},
   "outputs": [
    {
     "data": {
      "text/html": [
       "<div>\n",
       "<style scoped>\n",
       "    .dataframe tbody tr th:only-of-type {\n",
       "        vertical-align: middle;\n",
       "    }\n",
       "\n",
       "    .dataframe tbody tr th {\n",
       "        vertical-align: top;\n",
       "    }\n",
       "\n",
       "    .dataframe thead th {\n",
       "        text-align: right;\n",
       "    }\n",
       "</style>\n",
       "<table border=\"1\" class=\"dataframe\">\n",
       "  <thead>\n",
       "    <tr style=\"text-align: right;\">\n",
       "      <th></th>\n",
       "      <th>gene</th>\n",
       "      <th>enhancer_1</th>\n",
       "      <th>enhancer_2</th>\n",
       "      <th>count</th>\n",
       "    </tr>\n",
       "  </thead>\n",
       "  <tbody>\n",
       "    <tr>\n",
       "      <th>928</th>\n",
       "      <td>ENSG00000001626</td>\n",
       "      <td>chr7.4218</td>\n",
       "      <td>chr7.4218</td>\n",
       "      <td>2065</td>\n",
       "    </tr>\n",
       "    <tr>\n",
       "      <th>978</th>\n",
       "      <td>ENSG00000002330</td>\n",
       "      <td>chr11.3041</td>\n",
       "      <td>chr11.3041</td>\n",
       "      <td>2614</td>\n",
       "    </tr>\n",
       "    <tr>\n",
       "      <th>1586</th>\n",
       "      <td>ENSG00000004660</td>\n",
       "      <td>chr17.261</td>\n",
       "      <td>chr17.261</td>\n",
       "      <td>2560</td>\n",
       "    </tr>\n",
       "    <tr>\n",
       "      <th>1713</th>\n",
       "      <td>ENSG00000004779</td>\n",
       "      <td>chr16.1863</td>\n",
       "      <td>chr16.1863</td>\n",
       "      <td>2127</td>\n",
       "    </tr>\n",
       "    <tr>\n",
       "      <th>1855</th>\n",
       "      <td>ENSG00000004939</td>\n",
       "      <td>chr17.2868</td>\n",
       "      <td>chr17.2868</td>\n",
       "      <td>2115</td>\n",
       "    </tr>\n",
       "  </tbody>\n",
       "</table>\n",
       "</div>"
      ],
      "text/plain": [
       "                 gene  enhancer_1  enhancer_2  count\n",
       "928   ENSG00000001626   chr7.4218   chr7.4218   2065\n",
       "978   ENSG00000002330  chr11.3041  chr11.3041   2614\n",
       "1586  ENSG00000004660   chr17.261   chr17.261   2560\n",
       "1713  ENSG00000004779  chr16.1863  chr16.1863   2127\n",
       "1855  ENSG00000004939  chr17.2868  chr17.2868   2115"
      ]
     },
     "execution_count": 24,
     "metadata": {},
     "output_type": "execute_result"
    }
   ],
   "source": [
    "enhancer_enhancer_gene = enhancer_enhancer_gene[enhancer_enhancer_gene['count'] > 2000]\n",
    "enhancer_enhancer_gene.head()"
   ]
  },
  {
   "cell_type": "code",
   "execution_count": 17,
   "metadata": {},
   "outputs": [
    {
     "data": {
      "text/plain": [
       "(855, 4)"
      ]
     },
     "execution_count": 17,
     "metadata": {},
     "output_type": "execute_result"
    }
   ],
   "source": [
    "enhancer_enhancer_gene.shape"
   ]
  },
  {
   "cell_type": "code",
   "execution_count": 18,
   "metadata": {},
   "outputs": [],
   "source": [
    "enhancer_enhancer_gene.to_csv('/iblm/netapp/data1/external/Gasperini2019/processed/enhancer_enhancer_pairs_at_scale_2500_cells.csv', index = False)"
   ]
  }
 ],
 "metadata": {
  "kernelspec": {
   "display_name": "Python 3.9.6 ('py39': conda)",
   "language": "python",
   "name": "python3"
  },
  "language_info": {
   "codemirror_mode": {
    "name": "ipython",
    "version": 3
   },
   "file_extension": ".py",
   "mimetype": "text/x-python",
   "name": "python",
   "nbconvert_exporter": "python",
   "pygments_lexer": "ipython3",
   "version": "3.9.6"
  },
  "orig_nbformat": 4,
  "vscode": {
   "interpreter": {
    "hash": "d06d67414be9f1b8ea43583a8ba8038fe8d3db41f940ac23090aa77399c93b0a"
   }
  }
 },
 "nbformat": 4,
 "nbformat_minor": 2
}
