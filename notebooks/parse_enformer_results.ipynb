{
 "cells": [
  {
   "cell_type": "code",
   "execution_count": 88,
   "metadata": {},
   "outputs": [],
   "source": [
    "import pickle \n",
    "import pandas as pd \n",
    "import numpy as np\n",
    "import glob\n",
    "from os.path import basename\n",
    "import matplotlib.pyplot as plt\n",
    "import seaborn as sns\n",
    "from scipy.stats import pearsonr"
   ]
  },
  {
   "cell_type": "markdown",
   "metadata": {},
   "source": [
    "# Get pickle files with Enformer predictions"
   ]
  },
  {
   "cell_type": "code",
   "execution_count": 110,
   "metadata": {},
   "outputs": [
    {
     "name": "stdout",
     "output_type": "stream",
     "text": [
      "2136\n"
     ]
    }
   ],
   "source": [
    "data_dir = '/shared/shush/jessica_enformer_analysis/enformer_pickles'\n",
    "pkl_files = glob.glob(data_dir+\"/*pickle\")\n",
    "print(len(pkl_files))"
   ]
  },
  {
   "cell_type": "markdown",
   "metadata": {},
   "source": [
    "# Look at one pickle file"
   ]
  },
  {
   "cell_type": "code",
   "execution_count": 111,
   "metadata": {},
   "outputs": [],
   "source": [
    "# test w/ one file\n",
    "test_pkl = pkl_files[0]\n",
    "\n",
    "with open(test_pkl, 'rb') as handle:\n",
    "    context_res = pickle.load(handle)"
   ]
  },
  {
   "cell_type": "code",
   "execution_count": 113,
   "metadata": {},
   "outputs": [
    {
     "data": {
      "text/plain": [
       "gene                                                  ENSG00000150990\n",
       "enhancer_1                                                 chr12.4732\n",
       "enhancer_2                                                 chr12.4734\n",
       "gene_chrom                                                      chr12\n",
       "gene_start                                                  125465243\n",
       "gene_stop                                                   125465244\n",
       "enhancer_1_chrom                                                chr12\n",
       "enhancer_1_start                                            125371666\n",
       "enhancer_1_stop                                             125372115\n",
       "enhancer_2_chrom                                                chr12\n",
       "enhancer_2_start                                            125389008\n",
       "enhancer_2_stop                                             125389755\n",
       "element_dist                                                    93777\n",
       "wt                  [0.064475425, 0.088069506, 0.027678613, 0.0274...\n",
       "E1 mean             [0.06598952, 0.09088713, 0.02840289, 0.0281598...\n",
       "E1 std              [0.000718932, 0.0008439266, 0.00027566872, 0.0...\n",
       "E2 mean             [0.0684003, 0.089169174, 0.027924653, 0.027675...\n",
       "E2 std              [0.0017058695, 0.0014496136, 0.00043573533, 0....\n",
       "E1&E2 mean          [0.071100816, 0.09326173, 0.02898266, 0.028636...\n",
       "E1&E2 std           [0.002537395, 0.0025308195, 0.00064269174, 0.0...\n",
       "Name: 4109, dtype: object"
      ]
     },
     "execution_count": 113,
     "metadata": {},
     "output_type": "execute_result"
    }
   ],
   "source": [
    "context_res"
   ]
  },
  {
   "cell_type": "code",
   "execution_count": 114,
   "metadata": {},
   "outputs": [
    {
     "data": {
      "text/plain": [
       "0.8462493419647217"
      ]
     },
     "execution_count": 114,
     "metadata": {},
     "output_type": "execute_result"
    }
   ],
   "source": [
    "(context_res['wt'][447]+context_res['wt'][448])/2"
   ]
  },
  {
   "cell_type": "code",
   "execution_count": 115,
   "metadata": {},
   "outputs": [
    {
     "data": {
      "text/plain": [
       "0.8519523"
      ]
     },
     "execution_count": 115,
     "metadata": {},
     "output_type": "execute_result"
    }
   ],
   "source": [
    "context_res['E1 mean'][447:449].mean()"
   ]
  },
  {
   "cell_type": "markdown",
   "metadata": {},
   "source": [
    "# Get predicted expression for each case tested"
   ]
  },
  {
   "cell_type": "code",
   "execution_count": 132,
   "metadata": {},
   "outputs": [],
   "source": [
    "results_dict = {}\n",
    "for f in pkl_files:\n",
    "    with open(f, 'rb') as handle:\n",
    "        context_res = pickle.load(handle)\n",
    "    gene = context_res['gene']\n",
    "    e1 = context_res['enhancer_1']\n",
    "    e2 = context_res['enhancer_2']\n",
    "    wt_pred = context_res['wt'][447:449].mean()\n",
    "    e1_pred = context_res['E1 mean'][447:449].mean()\n",
    "    e2_pred = context_res['E2 mean'][447:449].mean()\n",
    "    both_pred = context_res['E1&E2 mean'][447:449].mean()\n",
    "    results_dict[int(basename(f).split(\".\")[0])] = {\n",
    "                            'file':int(basename(f).split(\".\")[0]),\n",
    "                            'gene':gene,\n",
    "                          'E1':e1,\n",
    "                          'E2':e2,\n",
    "                          'WT_pred':wt_pred,\n",
    "                          'E1_pred':e1_pred,\n",
    "                          'E2_pred':e2_pred,\n",
    "                          'joint_pred':both_pred}"
   ]
  },
  {
   "cell_type": "code",
   "execution_count": 117,
   "metadata": {},
   "outputs": [
    {
     "data": {
      "text/html": [
       "<div>\n",
       "<style scoped>\n",
       "    .dataframe tbody tr th:only-of-type {\n",
       "        vertical-align: middle;\n",
       "    }\n",
       "\n",
       "    .dataframe tbody tr th {\n",
       "        vertical-align: top;\n",
       "    }\n",
       "\n",
       "    .dataframe thead th {\n",
       "        text-align: right;\n",
       "    }\n",
       "</style>\n",
       "<table border=\"1\" class=\"dataframe\">\n",
       "  <thead>\n",
       "    <tr style=\"text-align: right;\">\n",
       "      <th></th>\n",
       "      <th>file</th>\n",
       "      <th>gene</th>\n",
       "      <th>E1</th>\n",
       "      <th>E2</th>\n",
       "      <th>WT_pred</th>\n",
       "      <th>E1_pred</th>\n",
       "      <th>E2_pred</th>\n",
       "      <th>joint_pred</th>\n",
       "    </tr>\n",
       "  </thead>\n",
       "  <tbody>\n",
       "    <tr>\n",
       "      <th>0</th>\n",
       "      <td>4109</td>\n",
       "      <td>ENSG00000150990</td>\n",
       "      <td>chr12.4732</td>\n",
       "      <td>chr12.4734</td>\n",
       "      <td>0.846249</td>\n",
       "      <td>0.851952</td>\n",
       "      <td>0.847826</td>\n",
       "      <td>0.854261</td>\n",
       "    </tr>\n",
       "    <tr>\n",
       "      <th>1</th>\n",
       "      <td>230</td>\n",
       "      <td>ENSG00000173465</td>\n",
       "      <td>chr11.3247</td>\n",
       "      <td>chr11.3250</td>\n",
       "      <td>249.996185</td>\n",
       "      <td>250.007263</td>\n",
       "      <td>249.851715</td>\n",
       "      <td>249.920258</td>\n",
       "    </tr>\n",
       "    <tr>\n",
       "      <th>2</th>\n",
       "      <td>4085</td>\n",
       "      <td>ENSG00000150991</td>\n",
       "      <td>chr12.4744</td>\n",
       "      <td>chr12.4745</td>\n",
       "      <td>190.351974</td>\n",
       "      <td>190.368500</td>\n",
       "      <td>188.499298</td>\n",
       "      <td>188.091354</td>\n",
       "    </tr>\n",
       "    <tr>\n",
       "      <th>3</th>\n",
       "      <td>5202</td>\n",
       "      <td>ENSG00000140511</td>\n",
       "      <td>chr15.3124</td>\n",
       "      <td>chr15.3127</td>\n",
       "      <td>0.292098</td>\n",
       "      <td>0.285433</td>\n",
       "      <td>0.300209</td>\n",
       "      <td>0.294765</td>\n",
       "    </tr>\n",
       "    <tr>\n",
       "      <th>4</th>\n",
       "      <td>3928</td>\n",
       "      <td>ENSG00000181788</td>\n",
       "      <td>chr3.4444</td>\n",
       "      <td>chr3.4452</td>\n",
       "      <td>20.367287</td>\n",
       "      <td>17.884382</td>\n",
       "      <td>18.394749</td>\n",
       "      <td>16.156275</td>\n",
       "    </tr>\n",
       "  </tbody>\n",
       "</table>\n",
       "</div>"
      ],
      "text/plain": [
       "   file             gene          E1          E2     WT_pred     E1_pred  \\\n",
       "0  4109  ENSG00000150990  chr12.4732  chr12.4734    0.846249    0.851952   \n",
       "1   230  ENSG00000173465  chr11.3247  chr11.3250  249.996185  250.007263   \n",
       "2  4085  ENSG00000150991  chr12.4744  chr12.4745  190.351974  190.368500   \n",
       "3  5202  ENSG00000140511  chr15.3124  chr15.3127    0.292098    0.285433   \n",
       "4  3928  ENSG00000181788   chr3.4444   chr3.4452   20.367287   17.884382   \n",
       "\n",
       "      E2_pred  joint_pred  \n",
       "0    0.847826    0.854261  \n",
       "1  249.851715  249.920258  \n",
       "2  188.499298  188.091354  \n",
       "3    0.300209    0.294765  \n",
       "4   18.394749   16.156275  "
      ]
     },
     "execution_count": 117,
     "metadata": {},
     "output_type": "execute_result"
    }
   ],
   "source": [
    "# parse into df \n",
    "preds_df = pd.DataFrame.from_dict(results_dict, orient='index')\n",
    "preds_df.reset_index(drop=True,inplace=True)\n",
    "preds_df.head()"
   ]
  },
  {
   "cell_type": "code",
   "execution_count": 135,
   "metadata": {},
   "outputs": [],
   "source": [
    "# save to df \n",
    "preds_df.drop(columns='file').to_csv(\"enformer_predicted_expr.csv\")"
   ]
  },
  {
   "cell_type": "code",
   "execution_count": 119,
   "metadata": {},
   "outputs": [],
   "source": [
    "# filter for WT>10\n",
    "preds_df = preds_df[preds_df['WT_pred']>=10]"
   ]
  },
  {
   "cell_type": "markdown",
   "metadata": {},
   "source": [
    "# Calculate effects for each perturbation (log ratio)"
   ]
  },
  {
   "cell_type": "code",
   "execution_count": 58,
   "metadata": {},
   "outputs": [],
   "source": [
    "# calculate multiplicative effects of each enhancer (individual)\n",
    "e1_log_effect = np.log(preds_df['E1_pred'].values) - np.log(preds_df['WT_pred'].values)\n",
    "e2_log_effect = np.log(preds_df['E2_pred'].values) - np.log(preds_df['WT_pred'].values)\n",
    "\n",
    "# calculate expected expr of joint perturbation under multiplicative model\n",
    "mult_joint_expected_expr = np.exp(np.log(preds_df['WT_pred']) + e1_log_effect + e2_log_effect)"
   ]
  },
  {
   "cell_type": "code",
   "execution_count": 61,
   "metadata": {},
   "outputs": [],
   "source": [
    "# calculate log ratios for expected vs. observed joint effect under multiplicative model\n",
    "mult_joint_expected_lr = np.log(mult_joint_expected_expr) - np.log(preds_df['WT_pred'].values) # expected based on Enformer predictions for E1 + E2 (individually) - multiplicative\n",
    "mult_joint_obs_lr = np.log(preds_df['joint_pred'].values) - np.log(preds_df['WT_pred'].values)"
   ]
  },
  {
   "cell_type": "markdown",
   "metadata": {},
   "source": [
    "# Plot"
   ]
  },
  {
   "cell_type": "code",
   "execution_count": 70,
   "metadata": {},
   "outputs": [],
   "source": [
    "# generate df for plotting \n",
    "plotdf = pd.DataFrame({'WT':preds_df['WT_pred'],\n",
    "                       'observed':mult_joint_obs_lr,\n",
    "                       'expected':mult_joint_expected_lr})"
   ]
  },
  {
   "cell_type": "code",
   "execution_count": 101,
   "metadata": {},
   "outputs": [
    {
     "data": {
      "image/png": "[encoded data removed]",
      "text/plain": [
       "<Figure size 400x400 with 1 Axes>"
      ]
     },
     "metadata": {},
     "output_type": "display_data"
    }
   ],
   "source": [
    "fig, ax = plt.subplots(figsize=(4,4))\n",
    "sns.scatterplot(data=plotdf, hue='WT', x='observed', y='expected', ax=ax)\n",
    "lims = [\n",
    "    np.min([ax.get_xlim(), ax.get_ylim()]),  # min of both axes\n",
    "    np.max([ax.get_xlim(), ax.get_ylim()]),  # max of both axes\n",
    "]\n",
    "\n",
    "# now plot both limits against eachother\n",
    "ax.plot(lims, lims, '-', alpha=0.75, zorder=0, color='grey')\n",
    "ax.set_aspect('equal')\n",
    "ax.set_xlim(lims)\n",
    "ax.set_ylim(lims)\n",
    "\n",
    "# pearsonr \n",
    "r, p = pearsonr(plotdf['observed'],plotdf['expected'])\n",
    "plt.text(-2, -3, f'Pearson r={r:.3g}', size=12)\n",
    "plt.show()"
   ]
  }
 ],
 "metadata": {
  "kernelspec": {
   "display_name": "tf2",
   "language": "python",
   "name": "python3"
  },
  "language_info": {
   "codemirror_mode": {
    "name": "ipython",
    "version": 3
   },
   "file_extension": ".py",
   "mimetype": "text/x-python",
   "name": "python",
   "nbconvert_exporter": "python",
   "pygments_lexer": "ipython3",
   "version": "3.9.18"
  }
 },
 "nbformat": 4,
 "nbformat_minor": 2
}
