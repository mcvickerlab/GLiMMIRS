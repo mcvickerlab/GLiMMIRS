{
 "cells": [
  {
   "cell_type": "markdown",
   "id": "10670df5",
   "metadata": {},
   "source": [
    "Evaluate the performance of fitting GLiMMIRS-base to simulated data. In this example, we'll look at GLiMMIRS-base models fit to simulated data using the perturbation probability $X_{perturb}$ (as opposed to an indicator variable), calculated from \"true\" guide efficiencies (as opposed to noisy guide efficiencies). "
   ]
  },
  {
   "cell_type": "code",
   "execution_count": 40,
   "id": "87406625",
   "metadata": {},
   "outputs": [],
   "source": [
    "library(rhdf5)\n",
    "library(ggplot2)\n",
    "library(dplyr)\n",
    "library(repr)\n",
    "# Change plot size to BIG\n",
    "options(repr.plot.width=20, repr.plot.height=10)"
   ]
  },
  {
   "cell_type": "markdown",
   "id": "d441fbe6",
   "metadata": {},
   "source": [
    "# Load data\n",
    "\n",
    "Let's start by loading some data from the fitted GLiMMIRS-base models. Here, we're loading the coefficient estimates from fitting GLiMMIRS-base for the alternative hypothesis ($H_A: \\beta_{enhancer}\\neq0$) to simulated data. In this example, the simulated data was fit using the following simulation parameters:\n",
    "- 50000 cells\n",
    "- 13000 genes\n",
    "- $\\lambda=15$ (parameterizes Poisson distribution for determining number of unique gRNAs per cell\n",
    "- 1000 unique genes whose enhancers are targeted \n",
    "- 2 gRNAs per target enhancer\n",
    "\n",
    "We fit GLiMMIRS-base to the targeted genes - that is, genes whose enhancers were targeted by a gRNA in the simulated experiment. Here, we will load the table summarizing the estimated coefficient values from fitting GLiMMIRS-base to the simulated data for each of the targeted genes. "
   ]
  },
  {
   "cell_type": "code",
   "execution_count": 6,
   "id": "51a45325",
   "metadata": {
    "scrolled": true
   },
   "outputs": [],
   "source": [
    "alt.coeffs <- read.csv(\"/iblm/netapp/data1/jezhou/crisprQTL/GLiMMIRS-base_sim_performance/alt_coeffs.csv\")"
   ]
  },
  {
   "cell_type": "code",
   "execution_count": 8,
   "id": "de47042c",
   "metadata": {},
   "outputs": [
    {
     "data": {
      "text/html": [
       "<table class=\"dataframe\">\n",
       "<caption>A data.frame: 6 × 5</caption>\n",
       "<thead>\n",
       "\t<tr><th></th><th scope=col>term</th><th scope=col>estimate</th><th scope=col>true</th><th scope=col>gene</th><th scope=col>targeting</th></tr>\n",
       "\t<tr><th></th><th scope=col>&lt;chr&gt;</th><th scope=col>&lt;dbl&gt;</th><th scope=col>&lt;dbl&gt;</th><th scope=col>&lt;int&gt;</th><th scope=col>&lt;lgl&gt;</th></tr>\n",
       "</thead>\n",
       "<tbody>\n",
       "\t<tr><th scope=row>1</th><td>(Intercept) </td><td> 0.3442158</td><td> 0.1392011</td><td>9888</td><td>TRUE</td></tr>\n",
       "\t<tr><th scope=row>2</th><td>guide.eff   </td><td>-2.0835892</td><td>-2.3954196</td><td>9888</td><td>TRUE</td></tr>\n",
       "\t<tr><th scope=row>3</th><td>s.score     </td><td> 3.0034209</td><td> 3.4257021</td><td>9888</td><td>TRUE</td></tr>\n",
       "\t<tr><th scope=row>4</th><td>g2m.score   </td><td> 2.3243046</td><td> 2.6136613</td><td>9888</td><td>TRUE</td></tr>\n",
       "\t<tr><th scope=row>5</th><td>percent.mito</td><td> 3.3104483</td><td> 4.1946477</td><td>9888</td><td>TRUE</td></tr>\n",
       "\t<tr><th scope=row>6</th><td>(Intercept) </td><td> 1.9936354</td><td> 1.9429977</td><td>7985</td><td>TRUE</td></tr>\n",
       "</tbody>\n",
       "</table>\n"
      ],
      "text/latex": [
       "A data.frame: 6 × 5\n",
       "\\begin{tabular}{r|lllll}\n",
       "  & term & estimate & true & gene & targeting\\\\\n",
       "  & <chr> & <dbl> & <dbl> & <int> & <lgl>\\\\\n",
       "\\hline\n",
       "\t1 & (Intercept)  &  0.3442158 &  0.1392011 & 9888 & TRUE\\\\\n",
       "\t2 & guide.eff    & -2.0835892 & -2.3954196 & 9888 & TRUE\\\\\n",
       "\t3 & s.score      &  3.0034209 &  3.4257021 & 9888 & TRUE\\\\\n",
       "\t4 & g2m.score    &  2.3243046 &  2.6136613 & 9888 & TRUE\\\\\n",
       "\t5 & percent.mito &  3.3104483 &  4.1946477 & 9888 & TRUE\\\\\n",
       "\t6 & (Intercept)  &  1.9936354 &  1.9429977 & 7985 & TRUE\\\\\n",
       "\\end{tabular}\n"
      ],
      "text/markdown": [
       "\n",
       "A data.frame: 6 × 5\n",
       "\n",
       "| <!--/--> | term &lt;chr&gt; | estimate &lt;dbl&gt; | true &lt;dbl&gt; | gene &lt;int&gt; | targeting &lt;lgl&gt; |\n",
       "|---|---|---|---|---|---|\n",
       "| 1 | (Intercept)  |  0.3442158 |  0.1392011 | 9888 | TRUE |\n",
       "| 2 | guide.eff    | -2.0835892 | -2.3954196 | 9888 | TRUE |\n",
       "| 3 | s.score      |  3.0034209 |  3.4257021 | 9888 | TRUE |\n",
       "| 4 | g2m.score    |  2.3243046 |  2.6136613 | 9888 | TRUE |\n",
       "| 5 | percent.mito |  3.3104483 |  4.1946477 | 9888 | TRUE |\n",
       "| 6 | (Intercept)  |  1.9936354 |  1.9429977 | 7985 | TRUE |\n",
       "\n"
      ],
      "text/plain": [
       "  term         estimate   true       gene targeting\n",
       "1 (Intercept)   0.3442158  0.1392011 9888 TRUE     \n",
       "2 guide.eff    -2.0835892 -2.3954196 9888 TRUE     \n",
       "3 s.score       3.0034209  3.4257021 9888 TRUE     \n",
       "4 g2m.score     2.3243046  2.6136613 9888 TRUE     \n",
       "5 percent.mito  3.3104483  4.1946477 9888 TRUE     \n",
       "6 (Intercept)   1.9936354  1.9429977 7985 TRUE     "
      ]
     },
     "metadata": {},
     "output_type": "display_data"
    }
   ],
   "source": [
    "head(alt.coeffs)"
   ]
  },
  {
   "cell_type": "markdown",
   "id": "35511b47",
   "metadata": {},
   "source": [
    "# Comparing null vs. alternative hypotheses\n",
    "\n",
    "We also saved the fitted models for both the null ($H_0: \\beta_{enhancer}=0$) and the alternative hypotheses as lists to .rds files. Let's load them here:"
   ]
  },
  {
   "cell_type": "code",
   "execution_count": 9,
   "id": "efbf691f",
   "metadata": {},
   "outputs": [],
   "source": [
    "null.mods <- readRDS(\"/iblm/netapp/data1/jezhou/crisprQTL/GLiMMIRS-base_sim_performance/null_ml.rds\")\n",
    "alt.mods <- readRDS(\"/iblm/netapp/data1/jezhou/crisprQTL/GLiMMIRS-base_sim_performance/alt_ml.rds\")"
   ]
  },
  {
   "cell_type": "markdown",
   "id": "c602bc26",
   "metadata": {},
   "source": [
    "Each `null.mods` and `alt.mods` is a named list, with the name corresponding to the target gene identifier. A given model `i` in each list should correspond to the same gene."
   ]
  },
  {
   "cell_type": "code",
   "execution_count": 17,
   "id": "85cede7c",
   "metadata": {},
   "outputs": [
    {
     "data": {
      "text/html": [
       "TRUE"
      ],
      "text/latex": [
       "TRUE"
      ],
      "text/markdown": [
       "TRUE"
      ],
      "text/plain": [
       "[1] TRUE"
      ]
     },
     "metadata": {},
     "output_type": "display_data"
    }
   ],
   "source": [
    "# check that named lists have same names\n",
    "all(names(null.mods) == names(alt.mods))"
   ]
  },
  {
   "cell_type": "code",
   "execution_count": 18,
   "id": "28bef321",
   "metadata": {},
   "outputs": [
    {
     "data": {
      "text/html": [
       "TRUE"
      ],
      "text/latex": [
       "TRUE"
      ],
      "text/markdown": [
       "TRUE"
      ],
      "text/plain": [
       "[1] TRUE"
      ]
     },
     "metadata": {},
     "output_type": "display_data"
    }
   ],
   "source": [
    "# check to see that we have the same number of null and alt fitted mods\n",
    "all(length(null.mods) == length(alt.mods))"
   ]
  },
  {
   "cell_type": "markdown",
   "id": "e3bb96b4",
   "metadata": {},
   "source": [
    "One way to compare the null vs. alternative models is to examine the AIC scores. A lower AIC score indicates a better model fit. Here, we only modeled genes whose enhancers are targeted by a gRNA in our simulated experiment. Therefore, we would expect that $H_A$ yields a better fitting model than $H_0$. Let's check if that's the case:"
   ]
  },
  {
   "cell_type": "code",
   "execution_count": 19,
   "id": "f6e62242",
   "metadata": {},
   "outputs": [
    {
     "data": {
      "text/html": [
       "29511.9726213427"
      ],
      "text/latex": [
       "29511.9726213427"
      ],
      "text/markdown": [
       "29511.9726213427"
      ],
      "text/plain": [
       "[1] 29511.97"
      ]
     },
     "metadata": {},
     "output_type": "display_data"
    }
   ],
   "source": [
    "null.mods[[1]]$aic"
   ]
  },
  {
   "cell_type": "code",
   "execution_count": 20,
   "id": "1778b5f1",
   "metadata": {},
   "outputs": [
    {
     "name": "stdout",
     "output_type": "stream",
     "text": [
      "[1] \"98.8 % correct\"\n"
     ]
    }
   ],
   "source": [
    "n.correct <- 0\n",
    "\n",
    "for (i in 1:length(null.mods)) {\n",
    "    if (alt.mods[[i]]$aic < null.mods[[i]]$aic) {\n",
    "        n.correct <- n.correct + 1\n",
    "    }\n",
    "}\n",
    "\n",
    "print(paste(100*(n.correct/length(null.mods)), \"% correct\"))"
   ]
  },
  {
   "cell_type": "markdown",
   "id": "5a21fa0e",
   "metadata": {},
   "source": [
    "We could also check to see if the p-value of the $\\beta_{enhancer}$ coefficient (named `guide.eff` in the fitted model) is significant ($p<0.05$ after multiple testing correction) in the fitted alternative model:"
   ]
  },
  {
   "cell_type": "code",
   "execution_count": 27,
   "id": "b48de49b",
   "metadata": {},
   "outputs": [],
   "source": [
    "beta.enh.pvals <- as.numeric(length(alt.mods))\n",
    "\n",
    "for (i in 1:length(alt.mods)) {\n",
    "    p <- (summary(alt.mods[[i]])$coefficients[,4])['guide.eff']\n",
    "    beta.enh.pvals[i] <- p\n",
    "}"
   ]
  },
  {
   "cell_type": "code",
   "execution_count": 32,
   "id": "03c4c423",
   "metadata": {},
   "outputs": [
    {
     "name": "stdout",
     "output_type": "stream",
     "text": [
      "[1] \"98.9 % of cases have significant coefficient\"\n"
     ]
    }
   ],
   "source": [
    "print(paste(100*(sum(p.adjust(beta.enh.pvals, method = \"fdr\")<0.05)/length(alt.mods)), \"% of cases have significant coefficient\"))"
   ]
  },
  {
   "cell_type": "markdown",
   "id": "5ab82172",
   "metadata": {},
   "source": [
    "# Correlation \n",
    "\n",
    "To begin, let's calculate the Pearson correlation between the true and estimated coefficients for every term across all of the targeted genes. "
   ]
  },
  {
   "cell_type": "code",
   "execution_count": 35,
   "id": "9fdca2a3",
   "metadata": {},
   "outputs": [
    {
     "data": {
      "text/html": [
       "<table class=\"dataframe\">\n",
       "<caption>A tibble: 5 × 3</caption>\n",
       "<thead>\n",
       "\t<tr><th scope=col>term</th><th scope=col>r</th><th scope=col>p_val</th></tr>\n",
       "\t<tr><th scope=col>&lt;fct&gt;</th><th scope=col>&lt;dbl&gt;</th><th scope=col>&lt;dbl&gt;</th></tr>\n",
       "</thead>\n",
       "<tbody>\n",
       "\t<tr><td>(Intercept) </td><td>0.9960927</td><td> 0.000000e+00</td></tr>\n",
       "\t<tr><td>guide.eff   </td><td>0.8514912</td><td>4.672139e-282</td></tr>\n",
       "\t<tr><td>s.score     </td><td>0.9694676</td><td> 0.000000e+00</td></tr>\n",
       "\t<tr><td>g2m.score   </td><td>0.9800856</td><td> 0.000000e+00</td></tr>\n",
       "\t<tr><td>percent.mito</td><td>0.9027987</td><td> 0.000000e+00</td></tr>\n",
       "</tbody>\n",
       "</table>\n"
      ],
      "text/latex": [
       "A tibble: 5 × 3\n",
       "\\begin{tabular}{lll}\n",
       " term & r & p\\_val\\\\\n",
       " <fct> & <dbl> & <dbl>\\\\\n",
       "\\hline\n",
       "\t (Intercept)  & 0.9960927 &  0.000000e+00\\\\\n",
       "\t guide.eff    & 0.8514912 & 4.672139e-282\\\\\n",
       "\t s.score      & 0.9694676 &  0.000000e+00\\\\\n",
       "\t g2m.score    & 0.9800856 &  0.000000e+00\\\\\n",
       "\t percent.mito & 0.9027987 &  0.000000e+00\\\\\n",
       "\\end{tabular}\n"
      ],
      "text/markdown": [
       "\n",
       "A tibble: 5 × 3\n",
       "\n",
       "| term &lt;fct&gt; | r &lt;dbl&gt; | p_val &lt;dbl&gt; |\n",
       "|---|---|---|\n",
       "| (Intercept)  | 0.9960927 |  0.000000e+00 |\n",
       "| guide.eff    | 0.8514912 | 4.672139e-282 |\n",
       "| s.score      | 0.9694676 |  0.000000e+00 |\n",
       "| g2m.score    | 0.9800856 |  0.000000e+00 |\n",
       "| percent.mito | 0.9027987 |  0.000000e+00 |\n",
       "\n"
      ],
      "text/plain": [
       "  term         r         p_val        \n",
       "1 (Intercept)  0.9960927  0.000000e+00\n",
       "2 guide.eff    0.8514912 4.672139e-282\n",
       "3 s.score      0.9694676  0.000000e+00\n",
       "4 g2m.score    0.9800856  0.000000e+00\n",
       "5 percent.mito 0.9027987  0.000000e+00"
      ]
     },
     "metadata": {},
     "output_type": "display_data"
    }
   ],
   "source": [
    "alt.coeffs %>% mutate(across(term, factor, levels=c(\"(Intercept)\",\"guide.eff\",\"s.score\",\"g2m.score\",\"percent.mito\"))) %>% \n",
    "                    group_by(term) %>% \n",
    "                        summarise(r = cor.test(true, estimate, method = \"pearson\")$estimate,\n",
    "                                p_val = cor.test(true, estimate, method = \"pearson\")$p.value)"
   ]
  },
  {
   "cell_type": "markdown",
   "id": "401ab53e",
   "metadata": {},
   "source": [
    "# Coefficient of determination\n",
    "We can also calculate the coefficient of determination ($R^2$), which is a measure of how well the model predicts:\n"
   ]
  },
  {
   "cell_type": "code",
   "execution_count": 37,
   "id": "ed0e5824",
   "metadata": {},
   "outputs": [
    {
     "data": {
      "text/html": [
       "<table class=\"dataframe\">\n",
       "<caption>A tibble: 5 × 2</caption>\n",
       "<thead>\n",
       "\t<tr><th scope=col>term</th><th scope=col>R2</th></tr>\n",
       "\t<tr><th scope=col>&lt;fct&gt;</th><th scope=col>&lt;dbl&gt;</th></tr>\n",
       "</thead>\n",
       "<tbody>\n",
       "\t<tr><td>(Intercept) </td><td>0.9855486</td></tr>\n",
       "\t<tr><td>guide.eff   </td><td>0.6361300</td></tr>\n",
       "\t<tr><td>s.score     </td><td>0.9253488</td></tr>\n",
       "\t<tr><td>g2m.score   </td><td>0.9506913</td></tr>\n",
       "\t<tr><td>percent.mito</td><td>0.7787371</td></tr>\n",
       "</tbody>\n",
       "</table>\n"
      ],
      "text/latex": [
       "A tibble: 5 × 2\n",
       "\\begin{tabular}{ll}\n",
       " term & R2\\\\\n",
       " <fct> & <dbl>\\\\\n",
       "\\hline\n",
       "\t (Intercept)  & 0.9855486\\\\\n",
       "\t guide.eff    & 0.6361300\\\\\n",
       "\t s.score      & 0.9253488\\\\\n",
       "\t g2m.score    & 0.9506913\\\\\n",
       "\t percent.mito & 0.7787371\\\\\n",
       "\\end{tabular}\n"
      ],
      "text/markdown": [
       "\n",
       "A tibble: 5 × 2\n",
       "\n",
       "| term &lt;fct&gt; | R2 &lt;dbl&gt; |\n",
       "|---|---|\n",
       "| (Intercept)  | 0.9855486 |\n",
       "| guide.eff    | 0.6361300 |\n",
       "| s.score      | 0.9253488 |\n",
       "| g2m.score    | 0.9506913 |\n",
       "| percent.mito | 0.7787371 |\n",
       "\n"
      ],
      "text/plain": [
       "  term         R2       \n",
       "1 (Intercept)  0.9855486\n",
       "2 guide.eff    0.6361300\n",
       "3 s.score      0.9253488\n",
       "4 g2m.score    0.9506913\n",
       "5 percent.mito 0.7787371"
      ]
     },
     "metadata": {},
     "output_type": "display_data"
    }
   ],
   "source": [
    "alt.coeffs %>% mutate(across(term, factor, levels=c(\"(Intercept)\",\"guide.eff\",\"s.score\",\"g2m.score\",\"percent.mito\"))) %>% \n",
    "                    group_by(term) %>% summarise(R2 = 1-(sum((true-estimate)^2)/sum((true-mean(true))^2)))"
   ]
  },
  {
   "cell_type": "markdown",
   "id": "07dd864e",
   "metadata": {},
   "source": [
    "# Visualize\n",
    "\n",
    "Finally, let's plot the ground truth vs. estimated coefficient estimates for the alternative model:"
   ]
  },
  {
   "cell_type": "code",
   "execution_count": 53,
   "id": "3fb4995d",
   "metadata": {},
   "outputs": [
    {
     "data": {
      "image/png": "[encoded data removed]",
      "text/plain": [
       "plot without title"
      ]
     },
     "metadata": {
      "image/png": {
       "height": 600,
       "width": 1200
      }
     },
     "output_type": "display_data"
    }
   ],
   "source": [
    "ggplot(alt.coeffs %>% \n",
    "        mutate(across(term, factor, levels=c(\"(Intercept)\",\"guide.eff\",\"s.score\",\"g2m.score\",\"percent.mito\"))) %>%\n",
    "              mutate(coeff = recode(term,\n",
    "                \"(Intercept)\" = \"{beta}[0]\",\n",
    "                \"guide.eff\" = \"{beta}[enhancer]\",\n",
    "                \"s.score\" = \"{beta}[S]\",\n",
    "                \"g2m.score\" = \"{beta}[G2M]\",\n",
    "                \"percent.mito\" = \"{beta}[mito]\"\n",
    "              )), aes(x = true, y = estimate)) + geom_point() + \n",
    "            facet_grid(cols = vars(coeff), scales = \"free\", labeller = label_parsed) +\n",
    "            theme_classic() + theme(text = element_text(size = 20), strip.text = element_text(size = 24))"
   ]
  }
 ],
 "metadata": {
  "kernelspec": {
   "display_name": "R [conda env:crisprqtl]",
   "language": "R",
   "name": "conda-env-crisprqtl-r"
  },
  "language_info": {
   "codemirror_mode": "r",
   "file_extension": ".r",
   "mimetype": "text/x-r-source",
   "name": "R",
   "pygments_lexer": "r",
   "version": "4.1.3"
  }
 },
 "nbformat": 4,
 "nbformat_minor": 5
}
